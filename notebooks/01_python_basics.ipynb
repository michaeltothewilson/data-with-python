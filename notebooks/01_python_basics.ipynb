{
 "cells": [
  {
   "cell_type": "markdown",
   "id": "878c8a29-8a00-46ee-8271-46a2579ee3e7",
   "metadata": {},
   "source": [
    "# Python Basics"
   ]
  },
  {
   "cell_type": "markdown",
   "id": "03682ee8-aab0-4342-8b51-c20fbaa1fd1c",
   "metadata": {},
   "source": [
    "## Language Semantics\n",
    "\n",
    "The Python Language stands out on it's intentional design focus on readability, simplicity, and explicitness\n",
    "\n",
    "### Indentation, not braces\n",
    "Python uses whitespace (tabs or spaces) to structure code instead of using braces\n",
    "\n",
    "Take a look at this random code"
   ]
  },
  {
   "cell_type": "code",
   "execution_count": null,
   "id": "afb60374-9f27-42c7-a3a9-9f14dd452f02",
   "metadata": {},
   "outputs": [],
   "source": [
    "x = 5\n",
    "\n",
    "if x > 0:\n",
    "    print(\"x is positive\")\n",
    "    if x % 2 == 0:\n",
    "        print(\"x is even\")\n",
    "    else:\n",
    "        print(\"x is odd\")\n",
    "elif x == 0:\n",
    "    print(\"x is zero\")\n",
    "else:\n",
    "    print(\"x is negative\")\n",
    "\n",
    "print(\"This line is always executed.\")"
   ]
  },
  {
   "cell_type": "markdown",
   "id": "6af7b166-c446-404f-a4b9-4ea2402f3fd2",
   "metadata": {},
   "source": [
    "Note - a colon denotes the start of an indented code block after which all of the code must be indented by the same amount until the end of the block."
   ]
  },
  {
   "cell_type": "markdown",
   "id": "b462a370-13d1-4cc5-942e-c7378514270f",
   "metadata": {},
   "source": [
    "### Everything is Object\n",
    "Every number, string, data structure, function, class, etc exists as a Python Object. Each object has an associated type (int, str, function, etc) and internal data."
   ]
  },
  {
   "cell_type": "markdown",
   "id": "26728bd1-c201-4dda-9aa1-9bb682c26630",
   "metadata": {},
   "source": [
    "### Comments\n"
   ]
  },
  {
   "cell_type": "markdown",
   "id": "fc6ccd78-63b1-4996-b626-f8cbdf114be2",
   "metadata": {},
   "source": [
    "### Functions and Object Calls"
   ]
  },
  {
   "cell_type": "markdown",
   "id": "bfbd5351-79ef-4ed9-997e-5a87d98f4c68",
   "metadata": {},
   "source": [
    "### Variables and Argument Passing\n",
    "\n",
    "### Dynamic References, Strong Types\n",
    "\n",
    "### Attributes and Methods\n",
    "\n",
    "### Duck Typing\n",
    "\n",
    "### Imports"
   ]
  }
 ],
 "metadata": {
  "kernelspec": {
   "display_name": "Python 3 (ipykernel)",
   "language": "python",
   "name": "python3"
  },
  "language_info": {
   "codemirror_mode": {
    "name": "ipython",
    "version": 3
   },
   "file_extension": ".py",
   "mimetype": "text/x-python",
   "name": "python",
   "nbconvert_exporter": "python",
   "pygments_lexer": "ipython3",
   "version": "3.12.5"
  }
 },
 "nbformat": 4,
 "nbformat_minor": 5
}
