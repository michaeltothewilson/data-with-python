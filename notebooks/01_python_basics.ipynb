{
 "cells": [
  {
   "cell_type": "markdown",
   "id": "878c8a29-8a00-46ee-8271-46a2579ee3e7",
   "metadata": {},
   "source": [
    "# Python Basics"
   ]
  },
  {
   "cell_type": "markdown",
   "id": "03682ee8-aab0-4342-8b51-c20fbaa1fd1c",
   "metadata": {},
   "source": [
    "## Language Semantics\n",
    "\n",
    "The Python Language stands out on it's intentional design focus on readability, simplicity, and explicitness\n",
    "\n",
    "### Indentation, not braces\n",
    "Python uses whitespace (tabs or spaces) to structure code instead of using braces\n",
    "\n",
    "Take a look at this random code"
   ]
  },
  {
   "cell_type": "code",
   "execution_count": null,
   "id": "afb60374-9f27-42c7-a3a9-9f14dd452f02",
   "metadata": {},
   "outputs": [],
   "source": [
    "x = 5\n",
    "\n",
    "if x > 0:\n",
    "    print(\"x is positive\")\n",
    "    if x % 2 == 0:\n",
    "        print(\"x is even\")\n",
    "    else:\n",
    "        print(\"x is odd\")\n",
    "elif x == 0:\n",
    "    print(\"x is zero\")\n",
    "else:\n",
    "    print(\"x is negative\")\n",
    "\n",
    "print(\"This line is always executed.\")"
   ]
  },
  {
   "cell_type": "markdown",
   "id": "6af7b166-c446-404f-a4b9-4ea2402f3fd2",
   "metadata": {},
   "source": [
    "Note - a colon denotes the start of an indented code block after which all of the code must be indented by the same amount until the end of the block."
   ]
  },
  {
   "cell_type": "markdown",
   "id": "b462a370-13d1-4cc5-942e-c7378514270f",
   "metadata": {},
   "source": [
    "### Everything is Object\n",
    "Every number, string, data structure, function, class, etc exists as a Python Object. Each object has an associated type (int, str, function, etc) and internal data."
   ]
  },
  {
   "cell_type": "markdown",
   "id": "011c7154-2e6c-4b17-8f60-0a9ab863ce95",
   "metadata": {},
   "source": [
    "#### Numbers\n",
    "\n",
    "In Python, numbers have methods associated with them."
   ]
  },
  {
   "cell_type": "code",
   "execution_count": 1,
   "id": "95fea692-5850-47fc-99ec-f96550174c25",
   "metadata": {},
   "outputs": [
    {
     "name": "stdout",
     "output_type": "stream",
     "text": [
      "<class 'int'>\n",
      "<class 'float'>\n",
      "3\n",
      "False\n"
     ]
    }
   ],
   "source": [
    "x = 5\n",
    "y = 3.14\n",
    "\n",
    "print(type(x))\n",
    "print(type(y))\n",
    "\n",
    "print(x.bit_length())\n",
    "print(y.is_integer())"
   ]
  },
  {
   "cell_type": "markdown",
   "id": "2055e930-d51d-40b3-a4a3-4e5379834904",
   "metadata": {},
   "source": [
    "#### Strings\n",
    "\n",
    "Strings too, have many methods."
   ]
  },
  {
   "cell_type": "code",
   "execution_count": 4,
   "id": "8744a2cf-6d94-4775-92cf-222913200f9f",
   "metadata": {},
   "outputs": [
    {
     "name": "stdout",
     "output_type": "stream",
     "text": [
      "<class 'str'>\n",
      "DATA, WITH PYTHON\n",
      "['Data', ' with Python']\n"
     ]
    }
   ],
   "source": [
    "text = \"Data, with Python\"\n",
    "\n",
    "print(type(text))\n",
    "\n",
    "print(text.upper())\n",
    "print(text.split(\",\"))"
   ]
  },
  {
   "cell_type": "markdown",
   "id": "abc79882-1f11-43d6-a09d-7d9997b507e2",
   "metadata": {},
   "source": [
    "#### Data Structures\n",
    "\n",
    "Data Structures such as lists are also objects."
   ]
  },
  {
   "cell_type": "code",
   "execution_count": 6,
   "id": "fbc2b112-7837-4564-abfa-a91a0244c177",
   "metadata": {},
   "outputs": [
    {
     "name": "stdout",
     "output_type": "stream",
     "text": [
      "<class 'list'>\n",
      "[1, 2, 3, 4]\n",
      "The history saving thread hit an unexpected error (OperationalError('attempt to write a readonly database')).History will not be written to the database.\n"
     ]
    }
   ],
   "source": [
    "my_list = [1, 2, 3]\n",
    "\n",
    "print(type(my_list))\n",
    "\n",
    "my_list.append(4)\n",
    "print(my_list)"
   ]
  },
  {
   "cell_type": "markdown",
   "id": "b5c72567-240c-4eb0-aa97-d67e87cbdb4a",
   "metadata": {},
   "source": [
    "#### Functions\n",
    "\n",
    "And for the last example, functions are objects and can be assigned to variables."
   ]
  },
  {
   "cell_type": "code",
   "execution_count": 8,
   "id": "adb11022-4916-4966-a1f0-51d9f59abd8d",
   "metadata": {},
   "outputs": [
    {
     "name": "stdout",
     "output_type": "stream",
     "text": [
      "<class 'function'>\n",
      "Hello, Alice!\n"
     ]
    }
   ],
   "source": [
    "def greet(name):\n",
    "    return f\"Hello, {name}!\"\n",
    "\n",
    "print(type(greet))\n",
    "\n",
    "greeting = greet\n",
    "print(greeting(\"Alice\"))"
   ]
  },
  {
   "cell_type": "markdown",
   "id": "c09033e8-e42c-46e2-b5a0-80c1c921185c",
   "metadata": {},
   "source": [
    "### Variables and Argument Passing\n",
    "\n",
    "When you assign a variable in Python, you're essentially creating a pointer to an object. \n",
    "\n",
    "For example, if you assign a list to two variables, both variables refer to the same list in memory. This is different from languages that would create independent copies."
   ]
  },
  {
   "cell_type": "code",
   "execution_count": 9,
   "id": "df771d46-0a8b-486c-8271-16c69e705f99",
   "metadata": {},
   "outputs": [
    {
     "name": "stdout",
     "output_type": "stream",
     "text": [
      "[1, 2, 3]\n",
      "[1, 2, 3]\n",
      "[1, 2, 3, 4]\n",
      "[1, 2, 3, 4]\n",
      "True\n",
      "4406859200\n",
      "4406859200\n"
     ]
    }
   ],
   "source": [
    "# Create a List\n",
    "a = [1, 2, 3]\n",
    "\n",
    "# Create a Pointer to the list\n",
    "b = a          \n",
    "\n",
    "# Output the Lists\n",
    "print(a)  \n",
    "print(b) \n",
    "\n",
    "# Modify b\n",
    "b.append(4)\n",
    "\n",
    "# Output the Lists\n",
    "print(a)  \n",
    "print(b)  \n",
    "\n",
    "# Check object identity\n",
    "print(a is b) \n",
    "\n",
    "# Print the memory locations\n",
    "print(id(a))\n",
    "print(id(b))"
   ]
  },
  {
   "cell_type": "markdown",
   "id": "64ee43f1-dfb8-439e-939c-39ee25b04a2f",
   "metadata": {},
   "source": [
    "If you want to create a separate copy of the list, you can use the `copy()` method or slicing"
   ]
  },
  {
   "cell_type": "code",
   "execution_count": 13,
   "id": "799c087f-20a9-43f7-8a8b-4b0dc3ed3184",
   "metadata": {},
   "outputs": [
    {
     "name": "stdout",
     "output_type": "stream",
     "text": [
      "[1, 2, 3, 4]\n",
      "[1, 2, 3, 4]\n",
      "False\n",
      "4406859200\n",
      "4412427520\n",
      "4406894592\n"
     ]
    },
    {
     "ename": "TypeError",
     "evalue": "hasattr expected 2 arguments, got 1",
     "output_type": "error",
     "traceback": [
      "\u001b[0;31m---------------------------------------------------------------------------\u001b[0m",
      "\u001b[0;31mTypeError\u001b[0m                                 Traceback (most recent call last)",
      "Cell \u001b[0;32mIn[13], line 18\u001b[0m\n\u001b[1;32m     16\u001b[0m \u001b[38;5;28mprint\u001b[39m(\u001b[38;5;28mid\u001b[39m(b))\n\u001b[1;32m     17\u001b[0m \u001b[38;5;28mprint\u001b[39m(\u001b[38;5;28mid\u001b[39m(c))\n\u001b[0;32m---> 18\u001b[0m \u001b[38;5;28;43mhasattr\u001b[39;49m\u001b[43m(\u001b[49m\u001b[43mc\u001b[49m\u001b[43m)\u001b[49m\n",
      "\u001b[0;31mTypeError\u001b[0m: hasattr expected 2 arguments, got 1"
     ]
    }
   ],
   "source": [
    "# Create a shallow copy of a\n",
    "b = a.copy()  \n",
    "\n",
    "# Or use slicing to create a shallow copy\n",
    "c = a[:]\n",
    "\n",
    "# Output Lists\n",
    "print(a)  \n",
    "print(b)  \n",
    "\n",
    "# Check object identity\n",
    "print(a is b)\n",
    "\n",
    "# Print the memory locations\n",
    "print(id(a))\n",
    "print(id(b))\n",
    "print(id(c))\n",
    "hasattr(c)"
   ]
  },
  {
   "cell_type": "markdown",
   "id": "390b8171-e8db-43a1-b54e-4f2e2255a08b",
   "metadata": {},
   "source": [
    "* Python's variable assignment for mutable objects (like lists) creates references, not copies.\n",
    "\n",
    "* To create a copy, you must explicitly use methods like copy() or slicing.\n",
    "\n",
    "* Understanding this behavior is crucial to avoid unintended side effects when working with mutable data structures."
   ]
  },
  {
   "cell_type": "markdown",
   "id": "4e141e11-5d59-46f2-a54e-e12d33f4c3f9",
   "metadata": {},
   "source": [
    "### Dynamic References, Strong Types\n",
    "\n",
    "### Attributes and Methods\n",
    "\n",
    "### Duck Typing\n",
    "\n",
    "### Imports"
   ]
  }
 ],
 "metadata": {
  "kernelspec": {
   "display_name": "Python 3 (ipykernel)",
   "language": "python",
   "name": "python3"
  },
  "language_info": {
   "codemirror_mode": {
    "name": "ipython",
    "version": 3
   },
   "file_extension": ".py",
   "mimetype": "text/x-python",
   "name": "python",
   "nbconvert_exporter": "python",
   "pygments_lexer": "ipython3",
   "version": "3.12.5"
  }
 },
 "nbformat": 4,
 "nbformat_minor": 5
}
