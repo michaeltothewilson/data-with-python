{
 "cells": [
  {
   "cell_type": "markdown",
   "id": "ec954c00-ba55-4c71-96b5-6e024c4198c5",
   "metadata": {},
   "source": [
    "# Jupyter Notebook Basics\n",
    "<center><img src=\"../images/stock/pexels-googledeepmind-25934977.jpg\" alt=\"An Abstract Image\" width=\"75%\"></center>\n",
    "\n",
    "Learn the basics of Jupyter Notebooks for data analysis. We'll explore cells, structure, navigation, and key editing features."
   ]
  },
  {
   "cell_type": "markdown",
   "id": "03a09955-9bdc-433f-bdfd-a8edadf26883",
   "metadata": {},
   "source": [
    "## Narrative Coding in Jupyter Notebook\n",
    "\n",
    "Jupyter Notebooks enable explanatory coding, blending code, documentation, and interpretations to create a clear, narrative-driven analysis. \n",
    "\n",
    "This format enhances understanding by moving beyond code-heavy scripts, using cells to interweave code with rich text explanations.\n",
    "\n",
    "__Jupyter Notebook cells fall into 3 categories:__\n",
    "* Markdown cells for formatted text\n",
    "* Code cells for executable code\n",
    "* Raw cells for unformatted text"
   ]
  },
  {
   "cell_type": "markdown",
   "id": "7892ad07-c44b-43f2-8845-9db5647f6558",
   "metadata": {},
   "source": [
    "## Code Cells\n",
    "Code cells display both the code and its output. Execute a cell with `shift` + `return` or use the `▶️` button in the toolbar."
   ]
  },
  {
   "cell_type": "code",
   "execution_count": 4,
   "id": "f2a4ba42-14b2-433a-af68-a435e2c37b6c",
   "metadata": {
    "collapsed": true,
    "jupyter": {
     "outputs_hidden": true
    }
   },
   "outputs": [
    {
     "name": "stdout",
     "output_type": "stream",
     "text": [
      "Welcome to Data with Python: Week 1\n"
     ]
    }
   ],
   "source": [
    "print(\"Welcome to Data with Python: Week 1\")"
   ]
  },
  {
   "cell_type": "code",
   "execution_count": 3,
   "id": "20ff2900-bc5a-4815-bc2a-05f8fb2012fa",
   "metadata": {},
   "outputs": [
    {
     "data": {
      "text/plain": [
       "4"
      ]
     },
     "execution_count": 3,
     "metadata": {},
     "output_type": "execute_result"
    }
   ],
   "source": [
    "2 + 2"
   ]
  },
  {
   "cell_type": "code",
   "execution_count": 2,
   "id": "b327cef3-8e21-4517-9a36-c407739f4603",
   "metadata": {},
   "outputs": [
    {
     "data": {
      "text/plain": [
       "25"
      ]
     },
     "execution_count": 2,
     "metadata": {},
     "output_type": "execute_result"
    }
   ],
   "source": [
    "x = 5\n",
    "\n",
    "x ** 2"
   ]
  },
  {
   "cell_type": "markdown",
   "id": "bcbcf13b-8c06-4981-be6b-4b0a8f152436",
   "metadata": {},
   "source": [
    "__Notes__\n",
    "\n",
    "__Order of Execution__\n",
    "* Unlike traditional Python scripts, which execute from top to bottom, Jupyter Notebooks run cells independently. \n",
    "\n",
    "* This allows for flexible, on-demand execution, crucial for narrative coding. \n",
    "\n",
    "* However, ensure that cells with dependencies (libraries, variables, data) are run first.\n",
    "\n",
    "\n",
    "* Code cells in Jupyter Notebooks are labeled with `In [number]` for input and `Out [number]` for output. These numbers show the sequence in which the cells were executed."
   ]
  },
  {
   "cell_type": "markdown",
   "id": "3ce25617-0525-4cb2-b94d-6aa8579c0a99",
   "metadata": {},
   "source": [
    "## Markdown Cells\n",
    "Markdown cells enable rich text formatting using Markdown and HTML5. Here are some examples:\n",
    "\n",
    "* _italics_\n",
    "* __bold__\n",
    "* `code`\n",
    "* [links](https://pdx.edu)\n",
    "* Inline Latex equations: $E = mc^{2}$\n",
    "\n",
    "If you are new to Markdown, please familiarize yourself with the basic syntax outlined in the [Markdown Guide - Basic Syntax](https://www.markdownguide.org/basic-syntax/) "
   ]
  },
  {
   "cell_type": "markdown",
   "id": "82a29ac7-221d-488c-b30f-7a5848060322",
   "metadata": {
    "jp-MarkdownHeadingCollapsed": true
   },
   "source": [
    "## Hierarchical Organization\n",
    "Markdown lets your structure your documents with up to six levels of headers. Use hash symbols (`#`) to create headers. The number of hash symbols corresponds to the header level, with an increased number indicating a deeper level within the document's structure.\n",
    "\n",
    "The Table of Contents on the left displays a navigable outline of the document, generated from the headers, for quick navigation.\n",
    "\n",
    "```markdown\n",
    "# H1 heading (top level header)\n",
    "## H2\n",
    "### H3\n",
    "#### H4\n",
    "##### H5\n",
    "###### H6 (deepest level header)\n",
    "```"
   ]
  },
  {
   "cell_type": "markdown",
   "id": "d2ad5529-1118-44e3-b369-aeec01ec93aa",
   "metadata": {},
   "source": [
    "## Heading Anchors\n",
    "\n",
    "Jupyter Notebooks support internal links to headings, allowing direct navigation to specific cells.\n",
    "\n",
    "To link to the \"Code Cells\" heading, use:\n",
    "\n",
    "`[Cell-Heading-Name](#Cell-Heading-Name)`\n",
    "\n",
    "Here are few of examples:\n",
    "\n",
    "* [Code Cells](#Code-Cells)\n",
    "* [Menus](#Menus)\n",
    "* [Jupyter Notebook Basics](#Jupyter-Notebook-Basics)"
   ]
  },
  {
   "cell_type": "markdown",
   "id": "97e5a947-5c8f-49a4-9929-cca5f4bba78d",
   "metadata": {},
   "source": [
    "## Raw Cells\n",
    "Raw cells display their content exactly as it is entered--without any formatting. \n",
    "\n",
    "For example, the raw cell below shows the raw Markdown code from the cell above:"
   ]
  },
  {
   "cell_type": "raw",
   "id": "1cf03700-331b-4ecf-8d3b-e0d185b1d403",
   "metadata": {},
   "source": [
    "Raw cells display their content exactly as it is entered--without any formatting. For example, the raw cell below shows the raw Markdown code from the cell above:\n",
    "\n",
    "* _italics_\n",
    "* __bold__\n",
    "* `code`\n",
    "* [links](https://pdx.edu)\n",
    "* Inline Latex equations: $E = mc^{2}$"
   ]
  },
  {
   "cell_type": "markdown",
   "id": "42d991c2-19c2-472e-8945-7e6bbf59fe47",
   "metadata": {},
   "source": [
    "# Jupyter Interface\n",
    "\n",
    "## Panels\n",
    "1. File browser\n",
    "2. Active kernel list\n",
    "3. Table of contents\n",
    "4. Extensions\n",
    "5. Inspector\n",
    "6. Debug"
   ]
  },
  {
   "cell_type": "markdown",
   "id": "673a7765-4ea8-46c3-a6c0-ca5846b05d51",
   "metadata": {},
   "source": [
    "## Jupyter Notebook Menu\n",
    "\n",
    "The Jupyter Notebook interface provides a menu bar at the top, offering various functionalities. \n",
    "\n",
    "Here's a breakdown of the key menus and their commonly used items.\n",
    "\n",
    "### File Menu\n",
    "\n",
    "* **`File -> New -> Notebook`**: Creates a new, blank notebook. You'll be prompted to select a kernel (programming language).\n",
    "* **`File -> Open`**: Opens an existing notebook file (.ipynb) from your local file system.\n",
    "* **`File -> Rename Notebook`**: Allows you to change the name of your current notebook.\n",
    "* **`File -> Save Notebook`**: Saves the current state of your notebook.\n",
    "* **`File -> Download`**:\n",
    "* **`File -> Save and Export As`**: Exports your notebook to various formats, including: `pdf`, `Markdown`, and `py` to name a few.\n",
    "\n",
    "\n",
    "### Edit Menu\n",
    "\n",
    "* Allows you to copy, paste, delete, select, rearrange, split, and merge cells.\n",
    "\n",
    "### Run Menu\n",
    "\n",
    "* Controls cell execution. You can execute selected cells, render all Markdown cells, or restart the kernel and execute all cells.\n",
    "\n",
    "### Kernel Menu\n",
    "\n",
    "* **`Kernel -> Restart`**: Resets the kernel's state, clearing all variables and loaded libraries.\n",
    "* **`Kernel -> Interrupt`**: Stops the kernel's current execution."
   ]
  },
  {
   "cell_type": "markdown",
   "id": "07e86449-4b57-4950-a8b5-4e8a8f71b5f3",
   "metadata": {},
   "source": [
    "## Editing Cells in Jupyter Notebooks\n",
    "\n",
    "Understanding how to manipulate cells is essential for effective use.\n",
    "\n",
    "### Creating New Cells\n",
    "\n",
    "* **Insert New Cell Above:** Use the \"Insert\" menu, then select \"Insert Cell Above,\" or press `A` in command mode (blue highlight).\n",
    "* **Insert New Cell Below:** Use the \"Insert\" menu, then select \"Insert Cell Below,\" or press `B` in command mode (blue highlight).\n",
    "\n",
    "### Cell Modes and Highlights\n",
    "\n",
    "* **Green Highlight (Edit Mode):** This indicates that you are actively editing the content of a cell. You can type code or text directly into the cell. Press `Esc` to switch to command mode.\n",
    "* **Blue Highlight (Command Mode):** This indicates that you are in command mode. In this mode, you can use keyboard shortcuts to manipulate cells (e.g., create, delete, copy, paste). Press `Enter` to switch to edit mode.\n",
    "\n",
    "### Selecting Cell Types\n",
    "\n",
    "You can change the type of a cell using the dropdown menu in the toolbar or by using keyboard shortcuts in command mode (blue highlight):\n",
    "\n",
    "* **Code:** For writing and executing Python code. Shortcut: `Y`\n",
    "* **Markdown:** For writing formatted text using Markdown. Shortcut: `M`\n",
    "* **Raw** For including raw text that will not be interpreted by Jupyter. Shortcut: `R`\n",
    "\n",
    "**Essential Shortcuts (Command Mode - Blue Highlight):**\n",
    "\n",
    "* `A`: Insert cell above.\n",
    "* `B`: Insert cell below.\n",
    "* `DD` (press `D` twice): Delete cell.\n",
    "* `X`: Cut cell.\n",
    "* `C`: Copy cell.\n",
    "* `V`: Paste cell below.\n",
    "* `Shift + M`: Merge selected cells.\n",
    "* `Y`: Change cell to code.\n",
    "* `M`: Change cell to Markdown.\n",
    "* `R`: Change cell to Raw NBConvert.\n",
    "* `Enter`: Switch to edit mode (green highlight).\n",
    "* `Esc`: Switch to command mode (blue highlight).\n",
    "* `Shift + Enter`: Run the current cell and select the cell below.\n",
    "* `Ctrl + Enter`: Run the selected cells.\n",
    "* `Alt + Enter`: run the current cell and insert a new cell below.\n",
    "\n",
    "Understanding these editing techniques and shortcuts will significantly improve your workflow within Jupyter Notebooks.\n"
   ]
  },
  {
   "cell_type": "markdown",
   "id": "fab1a7d1-bdff-43c7-be49-81134b047e5c",
   "metadata": {},
   "source": [
    "## Conclusion\n",
    "\n",
    "Jupyter Notebooks offer a versatile environment for data science. You've learned the basics of cell management, interface navigation, and kernel control. \n",
    "\n",
    "Continue practicing and exploring to fully leverage the power of this tool in your Python data journey."
   ]
  }
 ],
 "metadata": {
  "kernelspec": {
   "display_name": "Python 3 (ipykernel)",
   "language": "python",
   "name": "python3"
  },
  "language_info": {
   "codemirror_mode": {
    "name": "ipython",
    "version": 3
   },
   "file_extension": ".py",
   "mimetype": "text/x-python",
   "name": "python",
   "nbconvert_exporter": "python",
   "pygments_lexer": "ipython3",
   "version": "3.12.5"
  }
 },
 "nbformat": 4,
 "nbformat_minor": 5
}
