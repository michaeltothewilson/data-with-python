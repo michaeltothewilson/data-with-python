{
 "cells": [
  {
   "cell_type": "markdown",
   "id": "d6c0540b-2582-432d-b4be-85cfd0bde345",
   "metadata": {},
   "source": [
    "# pandas\n",
    "<center><img src=\"../images/stock/pexels-introspectivedsgn-4065800.jpg\" width=\"500\"></center>\n",
    "\n",
    "pandas offers powerful data structures and manipulation tools that simplify data cleaning and analysis in Python. \n",
    "\n",
    "It's frequently used alongside NumPy for numerical operations, SciPy and statsmodels for statistical analysis, and Matplotlib for data visualization. \n",
    "\n",
    "pandas adopts NumPy's array-oriented computing paradigm, prioritizing array functions and avoiding explicit loops for data processing.\n"
   ]
  },
  {
   "cell_type": "markdown",
   "id": "63956299-ea3b-449e-a453-369af73ec515",
   "metadata": {},
   "source": [
    "## Pandas Installation\n",
    "\n",
    "You can install pandas with the following command:\n",
    "\n",
    "```bash\n",
    "!pip install pandas\n",
    "```\n",
    "\n",
    "However, just like with NumPy, I took the liberty of installing Pandas on the Jupyter Hub."
   ]
  },
  {
   "cell_type": "markdown",
   "id": "af3edd2d-5ef2-47cb-9d8b-0cb3556e5560",
   "metadata": {},
   "source": [
    "## Importing Pandas\n",
    "\n",
    "We'll need to import pandas into your notebook/script before using it.\n",
    "\n",
    "The standard convention for importing Pandas is as follows:\n",
    "\n",
    "```python\n",
    "import pandas as pd\n",
    "```\n",
    "\n",
    "Let's go ahead import pandas into our notebooks in the cell below:"
   ]
  },
  {
   "cell_type": "code",
   "execution_count": 2,
   "id": "681ff753-e78f-42fe-b873-74f289940724",
   "metadata": {},
   "outputs": [],
   "source": [
    "# Import Pandas\n",
    "import pandas as pd\n",
    "import random\n"
   ]
  },
  {
   "cell_type": "markdown",
   "id": "146299c5-4f98-4bc8-9898-a49bfce09cc9",
   "metadata": {},
   "source": [
    "## pandas Data Structures\n",
    "<center><img src=\"../images/stock/pexels-jeffrey-czum-254391-2346289.jpg\" width=\"500\"></center>\n"
   ]
  },
  {
   "cell_type": "markdown",
   "id": "365c4c70-514e-42d9-9b70-e8ba641a97dd",
   "metadata": {},
   "source": [
    "### Series\n",
    "\n",
    "Think of a pandas Series as a single column of data with labels.\n",
    "\n",
    "* __Default Labels__: By default, each item gets a number based on its position, just like in a Python list.\n",
    "* __Custom Labels__: You can also give each item your own specific label (like a name or an ID). These labels can be numbers, text, or even combinations.\n",
    "* __Data Types__: A Series can hold various types of data, but it's most efficient when all the items in a single Series are of the same type. This is important because, as we'll see later, Series become the columns in a DataFrame, and columns ideally have consistent data types."
   ]
  },
  {
   "cell_type": "markdown",
   "id": "d730a46b-73d6-4762-93d2-649133d77d25",
   "metadata": {},
   "source": [
    "#### Creating a Series from a List\n",
    "\n",
    "We can easily create a pandas Series from a one-dimensional dataset, like a Python list, using the `pd.Series()` constructor.\n",
    "\n",
    "For example, let's take this list and turn it into a Series:"
   ]
  },
  {
   "cell_type": "code",
   "execution_count": null,
   "id": "a8bdcd54-2cf8-48bd-bcc4-2f76973a7b48",
   "metadata": {},
   "outputs": [],
   "source": [
    "# Data\n",
    "popular_shows = [\n",
    "    \"Stranger Things\",\n",
    "    \"The Mandalorian\",\n",
    "    \"The Queen's Gambit\",\n",
    "    \"Bridgerton\",\n",
    "    \"Squid Game\",\n",
    "    \"Succession\",\n",
    "    \"Ted Lasso\",\n",
    "    \"The Witcher\",\n",
    "    \"Euphoria\",\n",
    "    \"Ozark\"\n",
    "]\n",
    "\n",
    "# Transform into a Series using pd.Series()\n",
    "\n",
    "\n",
    "# Output the Series\n",
    "\n"
   ]
  },
  {
   "cell_type": "markdown",
   "id": "58b033ad-a639-4700-985f-125fbe9eae7b",
   "metadata": {},
   "source": [
    "* Passing a list to `pd.Series()` creates a Series with automatic numeric labels (0, 1, 2, ...).\n",
    "* The `.dtype` attribute tells us the data type of the elements within the Series.\n",
    "* Text data (strings) are typically represented as the `object` dtype by default."
   ]
  },
  {
   "cell_type": "markdown",
   "id": "d14d129f-3c92-478f-9a8e-aa3620fb4209",
   "metadata": {},
   "source": [
    "#### Custom Labels\n",
    "\n",
    "You can specify your own labels for the Series using the index argument within the `pd.Series()` function. For example:"
   ]
  },
  {
   "cell_type": "code",
   "execution_count": null,
   "id": "a47dc5a9-9007-4285-8c1f-65ca367376e8",
   "metadata": {},
   "outputs": [],
   "source": [
    "# Data\n",
    "popular_movies = [\n",
    "    \"Oppenheimer\",\n",
    "    \"Barbie\",\n",
    "    \"The Godfather\",\n",
    "    \"Parasite\",\n",
    "    \"Spirited Away\"\n",
    "]\n",
    "\n",
    "# Transform into a Series with Custom Indices\n",
    "indices = list(range(100,105))\n",
    "\n",
    "\n",
    "\n"
   ]
  },
  {
   "cell_type": "markdown",
   "id": "42623ba5-23a5-4dd8-91c2-ddbf1b2c601e",
   "metadata": {},
   "source": [
    "Now, the Series uses the custom labels we provided instead of the default numbers."
   ]
  },
  {
   "attachments": {},
   "cell_type": "markdown",
   "id": "02404ce4-31ec-4dd0-b27a-8afbaa437aa5",
   "metadata": {},
   "source": [
    "#### Accessing Data in a Series\n",
    "\n",
    "##### Index Operator `[]`\n",
    "Similar to Python lists, we can retrieve data from a Series using square brackets `[]` with the label or position.\n",
    "\n",
    "For example: Which popular movie is associated with the label `103`?"
   ]
  },
  {
   "cell_type": "code",
   "execution_count": null,
   "id": "ef9c2abc-af61-4d79-9775-f726561408b9",
   "metadata": {},
   "outputs": [],
   "source": [
    "# Access the element at label 103\n",
    "\n",
    "\n"
   ]
  },
  {
   "cell_type": "markdown",
   "id": "12697821-923f-4dcc-9367-5ef652d3ade2",
   "metadata": {},
   "source": [
    "##### `.loc` Accessor\n",
    "\n",
    "Another way to access Series data by its label is using the `.loc` attribute. For example:\n"
   ]
  },
  {
   "cell_type": "code",
   "execution_count": null,
   "id": "611afe58-0ff6-4208-8c0f-0d2183348afb",
   "metadata": {},
   "outputs": [],
   "source": [
    "# Access the element at label 104\n",
    "\n",
    "\n"
   ]
  },
  {
   "cell_type": "markdown",
   "id": "9ce5c0d8-bad0-4070-8e98-5e99682716ab",
   "metadata": {},
   "source": [
    "##### `.iloc` Accessor\n",
    "\n",
    "Even with custom labels, you can still access elements by their numerical position (like in a list) using the `.iloc` attribute. \n",
    "\n",
    "For example:"
   ]
  },
  {
   "cell_type": "code",
   "execution_count": null,
   "id": "b96a6dea-217d-4637-9901-8cbb8f3f1876",
   "metadata": {},
   "outputs": [],
   "source": [
    "# Access the element at position 0\n",
    "\n",
    "\n"
   ]
  },
  {
   "cell_type": "markdown",
   "id": "03737e7c-0176-4280-9c0f-103a10256b18",
   "metadata": {},
   "source": [
    "##### Slicing Series Data\n",
    "\n",
    "We can select multiple elements from a Series using slicing with the index operator `[]`, `.loc` (label-based slicing), and `.iloc` (position-based slicing). \n",
    "\n",
    "Here's how:"
   ]
  },
  {
   "cell_type": "code",
   "execution_count": null,
   "id": "96ca02ac-163e-478a-ba9e-565e6975e6a1",
   "metadata": {},
   "outputs": [],
   "source": [
    "# Demonstrate [] slicing\n",
    "\n",
    "\n",
    "# Demonstrate .loc slicing\n",
    "\n",
    "\n",
    "# Demonstrate .iloc slicing\n",
    "\n"
   ]
  },
  {
   "cell_type": "markdown",
   "id": "435260b6-048e-417d-ba0d-a84066ac0306",
   "metadata": {},
   "source": [
    "### DataFrame\n",
    "\n",
    "<center><img src=\"../images/stock/pexels-suki-lee-110686949-16200703.jpg\" width=\"500\"></center>\n",
    "A pandas DataFrame is like a table with rows and columns. It's a 2D structure where each column can hold different types of data. Think of it as a collection of Series, all sharing the same row labels. Each column is essentially a Series."
   ]
  },
  {
   "cell_type": "markdown",
   "id": "859da698-77c5-4eb1-80a9-2ac6119635f7",
   "metadata": {},
   "source": [
    "#### Creating a DataFrame"
   ]
  },
  {
   "cell_type": "markdown",
   "id": "7061c531-65b8-432d-8e93-689a30f14e24",
   "metadata": {},
   "source": [
    "##### `pd.DataFrame()`\n",
    "\n",
    "We use the `pd.DataFrame()` function to create a pandas DataFrame."
   ]
  },
  {
   "cell_type": "code",
   "execution_count": 12,
   "id": "be7b5ca5-1d6c-4cfc-bb03-c8b4c8032908",
   "metadata": {},
   "outputs": [
    {
     "data": {
      "text/html": [
       "<div>\n",
       "<style scoped>\n",
       "    .dataframe tbody tr th:only-of-type {\n",
       "        vertical-align: middle;\n",
       "    }\n",
       "\n",
       "    .dataframe tbody tr th {\n",
       "        vertical-align: top;\n",
       "    }\n",
       "\n",
       "    .dataframe thead th {\n",
       "        text-align: right;\n",
       "    }\n",
       "</style>\n",
       "<table border=\"1\" class=\"dataframe\">\n",
       "  <thead>\n",
       "    <tr style=\"text-align: right;\">\n",
       "      <th></th>\n",
       "      <th>Name</th>\n",
       "      <th>Subscribers</th>\n",
       "      <th>Views</th>\n",
       "      <th>Category</th>\n",
       "      <th>Country</th>\n",
       "      <th>DateStarted</th>\n",
       "    </tr>\n",
       "  </thead>\n",
       "  <tbody>\n",
       "    <tr>\n",
       "      <th>0</th>\n",
       "      <td>TechGuru</td>\n",
       "      <td>1500000</td>\n",
       "      <td>120000000</td>\n",
       "      <td>Tech</td>\n",
       "      <td>USA</td>\n",
       "      <td>2021-01-01</td>\n",
       "    </tr>\n",
       "    <tr>\n",
       "      <th>1</th>\n",
       "      <td>FashionDiva</td>\n",
       "      <td>2300000</td>\n",
       "      <td>250000000</td>\n",
       "      <td>Fashion</td>\n",
       "      <td>Canada</td>\n",
       "      <td>2020-05-15</td>\n",
       "    </tr>\n",
       "    <tr>\n",
       "      <th>2</th>\n",
       "      <td>GameMaster</td>\n",
       "      <td>1800000</td>\n",
       "      <td>180000000</td>\n",
       "      <td>Gaming</td>\n",
       "      <td>UK</td>\n",
       "      <td>2019-11-01</td>\n",
       "    </tr>\n",
       "    <tr>\n",
       "      <th>3</th>\n",
       "      <td>FoodieFun</td>\n",
       "      <td>1200000</td>\n",
       "      <td>90000000</td>\n",
       "      <td>Food</td>\n",
       "      <td>USA</td>\n",
       "      <td>2022-03-10</td>\n",
       "    </tr>\n",
       "    <tr>\n",
       "      <th>4</th>\n",
       "      <td>TravelBug</td>\n",
       "      <td>950000</td>\n",
       "      <td>60000000</td>\n",
       "      <td>Travel</td>\n",
       "      <td>Australia</td>\n",
       "      <td>2018-09-20</td>\n",
       "    </tr>\n",
       "    <tr>\n",
       "      <th>5</th>\n",
       "      <td>MusicMania</td>\n",
       "      <td>2700000</td>\n",
       "      <td>300000000</td>\n",
       "      <td>Music</td>\n",
       "      <td>USA</td>\n",
       "      <td>2023-02-01</td>\n",
       "    </tr>\n",
       "    <tr>\n",
       "      <th>6</th>\n",
       "      <td>BeautyQueen</td>\n",
       "      <td>1100000</td>\n",
       "      <td>80000000</td>\n",
       "      <td>Beauty</td>\n",
       "      <td>USA</td>\n",
       "      <td>2021-07-01</td>\n",
       "    </tr>\n",
       "    <tr>\n",
       "      <th>7</th>\n",
       "      <td>DIYExpert</td>\n",
       "      <td>1600000</td>\n",
       "      <td>140000000</td>\n",
       "      <td>DIY</td>\n",
       "      <td>Canada</td>\n",
       "      <td>2020-10-01</td>\n",
       "    </tr>\n",
       "    <tr>\n",
       "      <th>8</th>\n",
       "      <td>SportsFan</td>\n",
       "      <td>2000000</td>\n",
       "      <td>220000000</td>\n",
       "      <td>Sports</td>\n",
       "      <td>USA</td>\n",
       "      <td>2019-04-01</td>\n",
       "    </tr>\n",
       "    <tr>\n",
       "      <th>9</th>\n",
       "      <td>ComedyKing</td>\n",
       "      <td>1400000</td>\n",
       "      <td>100000000</td>\n",
       "      <td>Comedy</td>\n",
       "      <td>UK</td>\n",
       "      <td>2022-01-01</td>\n",
       "    </tr>\n",
       "  </tbody>\n",
       "</table>\n",
       "</div>"
      ],
      "text/plain": [
       "          Name  Subscribers      Views Category    Country DateStarted\n",
       "0     TechGuru      1500000  120000000     Tech        USA  2021-01-01\n",
       "1  FashionDiva      2300000  250000000  Fashion     Canada  2020-05-15\n",
       "2   GameMaster      1800000  180000000   Gaming         UK  2019-11-01\n",
       "3    FoodieFun      1200000   90000000     Food        USA  2022-03-10\n",
       "4    TravelBug       950000   60000000   Travel  Australia  2018-09-20\n",
       "5   MusicMania      2700000  300000000    Music        USA  2023-02-01\n",
       "6  BeautyQueen      1100000   80000000   Beauty        USA  2021-07-01\n",
       "7    DIYExpert      1600000  140000000      DIY     Canada  2020-10-01\n",
       "8    SportsFan      2000000  220000000   Sports        USA  2019-04-01\n",
       "9   ComedyKing      1400000  100000000   Comedy         UK  2022-01-01"
      ]
     },
     "execution_count": 12,
     "metadata": {},
     "output_type": "execute_result"
    }
   ],
   "source": [
    "# Synthetic data\n",
    "data = {\n",
    "    'Name': ['TechGuru', 'FashionDiva', 'GameMaster', 'FoodieFun', 'TravelBug', 'MusicMania', 'BeautyQueen', 'DIYExpert', 'SportsFan', 'ComedyKing'],\n",
    "    'Subscribers': [1500000, 2300000, 1800000, 1200000, 950000, 2700000, 1100000, 1600000, 2000000, 1400000],\n",
    "    'Views': [120000000, 250000000, 180000000, 90000000, 60000000, 300000000, 80000000, 140000000, 220000000, 100000000],\n",
    "    'Category': ['Tech', 'Fashion', 'Gaming', 'Food', 'Travel', 'Music', 'Beauty', 'DIY', 'Sports', 'Comedy'],\n",
    "    'Country': ['USA', 'Canada', 'UK', 'USA', 'Australia', 'USA', 'USA', 'Canada', 'USA', 'UK'],\n",
    "    'DateStarted': ['2021-01-01', '2020-05-15', '2019-11-01', '2022-03-10', '2018-09-20', '2023-02-01', '2021-07-01', '2020-10-01', '2019-04-01', '2022-01-01'] # Added DateStarted\n",
    "}\n",
    "\n",
    "# Create the DataFrame\n",
    "\n",
    "\n",
    "\n"
   ]
  },
  {
   "cell_type": "markdown",
   "id": "d15058ac-23c4-4656-a483-1a2900a2f243",
   "metadata": {},
   "source": [
    "__Note:__\n",
    "\n",
    "* Jupyter has a neat feature where if the last thing in a cell is a DataFrame, it'll display as an HTML table without needing `print()`, which gives you a cleaner look than the standard text output."
   ]
  },
  {
   "cell_type": "code",
   "execution_count": null,
   "id": "29a12c68-971a-4831-915a-101f818d30ab",
   "metadata": {},
   "outputs": [],
   "source": [
    "##### `df.head()`\n",
    "\n",
    "The `df.head()` method returns the first five rows of the DataFrame."
   ]
  },
  {
   "cell_type": "code",
   "execution_count": 4,
   "id": "7a339a02-5d59-41a0-8ce4-0610250b91d6",
   "metadata": {},
   "outputs": [
    {
     "data": {
      "text/html": [
       "<div>\n",
       "<style scoped>\n",
       "    .dataframe tbody tr th:only-of-type {\n",
       "        vertical-align: middle;\n",
       "    }\n",
       "\n",
       "    .dataframe tbody tr th {\n",
       "        vertical-align: top;\n",
       "    }\n",
       "\n",
       "    .dataframe thead th {\n",
       "        text-align: right;\n",
       "    }\n",
       "</style>\n",
       "<table border=\"1\" class=\"dataframe\">\n",
       "  <thead>\n",
       "    <tr style=\"text-align: right;\">\n",
       "      <th></th>\n",
       "      <th>Name</th>\n",
       "      <th>Subscribers</th>\n",
       "      <th>Views</th>\n",
       "      <th>Category</th>\n",
       "      <th>Country</th>\n",
       "      <th>DateStarted</th>\n",
       "    </tr>\n",
       "  </thead>\n",
       "  <tbody>\n",
       "    <tr>\n",
       "      <th>0</th>\n",
       "      <td>TechGuru</td>\n",
       "      <td>1500000</td>\n",
       "      <td>120000000</td>\n",
       "      <td>Tech</td>\n",
       "      <td>USA</td>\n",
       "      <td>2021-01-01</td>\n",
       "    </tr>\n",
       "    <tr>\n",
       "      <th>1</th>\n",
       "      <td>FashionDiva</td>\n",
       "      <td>2300000</td>\n",
       "      <td>250000000</td>\n",
       "      <td>Fashion</td>\n",
       "      <td>Canada</td>\n",
       "      <td>2020-05-15</td>\n",
       "    </tr>\n",
       "    <tr>\n",
       "      <th>2</th>\n",
       "      <td>GameMaster</td>\n",
       "      <td>1800000</td>\n",
       "      <td>180000000</td>\n",
       "      <td>Gaming</td>\n",
       "      <td>UK</td>\n",
       "      <td>2019-11-01</td>\n",
       "    </tr>\n",
       "    <tr>\n",
       "      <th>3</th>\n",
       "      <td>FoodieFun</td>\n",
       "      <td>1200000</td>\n",
       "      <td>90000000</td>\n",
       "      <td>Food</td>\n",
       "      <td>USA</td>\n",
       "      <td>2022-03-10</td>\n",
       "    </tr>\n",
       "    <tr>\n",
       "      <th>4</th>\n",
       "      <td>TravelBug</td>\n",
       "      <td>950000</td>\n",
       "      <td>60000000</td>\n",
       "      <td>Travel</td>\n",
       "      <td>Australia</td>\n",
       "      <td>2018-09-20</td>\n",
       "    </tr>\n",
       "  </tbody>\n",
       "</table>\n",
       "</div>"
      ],
      "text/plain": [
       "          Name  Subscribers      Views Category    Country DateStarted\n",
       "0     TechGuru      1500000  120000000     Tech        USA  2021-01-01\n",
       "1  FashionDiva      2300000  250000000  Fashion     Canada  2020-05-15\n",
       "2   GameMaster      1800000  180000000   Gaming         UK  2019-11-01\n",
       "3    FoodieFun      1200000   90000000     Food        USA  2022-03-10\n",
       "4    TravelBug       950000   60000000   Travel  Australia  2018-09-20"
      ]
     },
     "execution_count": 4,
     "metadata": {},
     "output_type": "execute_result"
    }
   ],
   "source": [
    "# Demonstration\n",
    "\n",
    "\n",
    "\n"
   ]
  },
  {
   "cell_type": "markdown",
   "id": "73406874-280b-49fa-adc0-5589e855fa52",
   "metadata": {},
   "source": [
    "##### `df.tail()`\n",
    "\n",
    "The `df.tail()` method returns the last five rows of the DataFrame."
   ]
  },
  {
   "cell_type": "code",
   "execution_count": 5,
   "id": "3a725551-6b4e-4df7-a104-eae4e221f457",
   "metadata": {},
   "outputs": [
    {
     "data": {
      "text/html": [
       "<div>\n",
       "<style scoped>\n",
       "    .dataframe tbody tr th:only-of-type {\n",
       "        vertical-align: middle;\n",
       "    }\n",
       "\n",
       "    .dataframe tbody tr th {\n",
       "        vertical-align: top;\n",
       "    }\n",
       "\n",
       "    .dataframe thead th {\n",
       "        text-align: right;\n",
       "    }\n",
       "</style>\n",
       "<table border=\"1\" class=\"dataframe\">\n",
       "  <thead>\n",
       "    <tr style=\"text-align: right;\">\n",
       "      <th></th>\n",
       "      <th>Name</th>\n",
       "      <th>Subscribers</th>\n",
       "      <th>Views</th>\n",
       "      <th>Category</th>\n",
       "      <th>Country</th>\n",
       "      <th>DateStarted</th>\n",
       "    </tr>\n",
       "  </thead>\n",
       "  <tbody>\n",
       "    <tr>\n",
       "      <th>5</th>\n",
       "      <td>MusicMania</td>\n",
       "      <td>2700000</td>\n",
       "      <td>300000000</td>\n",
       "      <td>Music</td>\n",
       "      <td>USA</td>\n",
       "      <td>2023-02-01</td>\n",
       "    </tr>\n",
       "    <tr>\n",
       "      <th>6</th>\n",
       "      <td>BeautyQueen</td>\n",
       "      <td>1100000</td>\n",
       "      <td>80000000</td>\n",
       "      <td>Beauty</td>\n",
       "      <td>USA</td>\n",
       "      <td>2021-07-01</td>\n",
       "    </tr>\n",
       "    <tr>\n",
       "      <th>7</th>\n",
       "      <td>DIYExpert</td>\n",
       "      <td>1600000</td>\n",
       "      <td>140000000</td>\n",
       "      <td>DIY</td>\n",
       "      <td>Canada</td>\n",
       "      <td>2020-10-01</td>\n",
       "    </tr>\n",
       "    <tr>\n",
       "      <th>8</th>\n",
       "      <td>SportsFan</td>\n",
       "      <td>2000000</td>\n",
       "      <td>220000000</td>\n",
       "      <td>Sports</td>\n",
       "      <td>USA</td>\n",
       "      <td>2019-04-01</td>\n",
       "    </tr>\n",
       "    <tr>\n",
       "      <th>9</th>\n",
       "      <td>ComedyKing</td>\n",
       "      <td>1400000</td>\n",
       "      <td>100000000</td>\n",
       "      <td>Comedy</td>\n",
       "      <td>UK</td>\n",
       "      <td>2022-01-01</td>\n",
       "    </tr>\n",
       "  </tbody>\n",
       "</table>\n",
       "</div>"
      ],
      "text/plain": [
       "          Name  Subscribers      Views Category Country DateStarted\n",
       "5   MusicMania      2700000  300000000    Music     USA  2023-02-01\n",
       "6  BeautyQueen      1100000   80000000   Beauty     USA  2021-07-01\n",
       "7    DIYExpert      1600000  140000000      DIY  Canada  2020-10-01\n",
       "8    SportsFan      2000000  220000000   Sports     USA  2019-04-01\n",
       "9   ComedyKing      1400000  100000000   Comedy      UK  2022-01-01"
      ]
     },
     "execution_count": 5,
     "metadata": {},
     "output_type": "execute_result"
    }
   ],
   "source": [
    "# Demonstration\n",
    "\n",
    "\n",
    "\n"
   ]
  },
  {
   "cell_type": "markdown",
   "id": "7f513d29-5d24-4068-b9c2-703c07356968",
   "metadata": {},
   "source": [
    "##### Specifying Column Order\n",
    "\n",
    "By providing an ordered sequence of column names, you can control the order in which the columns appear in the resulting DataFrame.\n",
    "\n",
    "To specify the order of columns when creating a DataFrame (e.g., from a dictionary or list of lists), you pass a list of the desired column names to the columns parameter:\n",
    "\n",
    "```python\n",
    "pd.DataFrame(data, columns=[\n",
    "    'column_name1', \n",
    "    'column_name2', \n",
    "    'column_name3'\n",
    "])\n",
    "```\n",
    "\n",
    "Similarly, to reorder existing columns, you can reassign the DataFrame with the desired column order:\n",
    "\n",
    "```python\n",
    "df = df[[\n",
    "    'column_name2', \n",
    "    'column_name1', \n",
    "    'column_name3'\n",
    "]]\n",
    "```"
   ]
  },
  {
   "cell_type": "code",
   "execution_count": 9,
   "id": "a2a39824-4ef4-4090-b399-c38aa4dcb41a",
   "metadata": {},
   "outputs": [
    {
     "data": {
      "text/html": [
       "<div>\n",
       "<style scoped>\n",
       "    .dataframe tbody tr th:only-of-type {\n",
       "        vertical-align: middle;\n",
       "    }\n",
       "\n",
       "    .dataframe tbody tr th {\n",
       "        vertical-align: top;\n",
       "    }\n",
       "\n",
       "    .dataframe thead th {\n",
       "        text-align: right;\n",
       "    }\n",
       "</style>\n",
       "<table border=\"1\" class=\"dataframe\">\n",
       "  <thead>\n",
       "    <tr style=\"text-align: right;\">\n",
       "      <th></th>\n",
       "      <th>Name</th>\n",
       "      <th>Subscribers</th>\n",
       "      <th>Views</th>\n",
       "      <th>Category</th>\n",
       "      <th>Country</th>\n",
       "      <th>DateStarted</th>\n",
       "    </tr>\n",
       "  </thead>\n",
       "  <tbody>\n",
       "    <tr>\n",
       "      <th>0</th>\n",
       "      <td>TechGuru</td>\n",
       "      <td>1500000</td>\n",
       "      <td>120000000</td>\n",
       "      <td>Tech</td>\n",
       "      <td>USA</td>\n",
       "      <td>2021-01-01</td>\n",
       "    </tr>\n",
       "    <tr>\n",
       "      <th>1</th>\n",
       "      <td>FashionDiva</td>\n",
       "      <td>2300000</td>\n",
       "      <td>250000000</td>\n",
       "      <td>Fashion</td>\n",
       "      <td>Canada</td>\n",
       "      <td>2020-05-15</td>\n",
       "    </tr>\n",
       "    <tr>\n",
       "      <th>2</th>\n",
       "      <td>GameMaster</td>\n",
       "      <td>1800000</td>\n",
       "      <td>180000000</td>\n",
       "      <td>Gaming</td>\n",
       "      <td>UK</td>\n",
       "      <td>2019-11-01</td>\n",
       "    </tr>\n",
       "    <tr>\n",
       "      <th>3</th>\n",
       "      <td>FoodieFun</td>\n",
       "      <td>1200000</td>\n",
       "      <td>90000000</td>\n",
       "      <td>Food</td>\n",
       "      <td>USA</td>\n",
       "      <td>2022-03-10</td>\n",
       "    </tr>\n",
       "    <tr>\n",
       "      <th>4</th>\n",
       "      <td>TravelBug</td>\n",
       "      <td>950000</td>\n",
       "      <td>60000000</td>\n",
       "      <td>Travel</td>\n",
       "      <td>Australia</td>\n",
       "      <td>2018-09-20</td>\n",
       "    </tr>\n",
       "    <tr>\n",
       "      <th>5</th>\n",
       "      <td>MusicMania</td>\n",
       "      <td>2700000</td>\n",
       "      <td>300000000</td>\n",
       "      <td>Music</td>\n",
       "      <td>USA</td>\n",
       "      <td>2023-02-01</td>\n",
       "    </tr>\n",
       "    <tr>\n",
       "      <th>6</th>\n",
       "      <td>BeautyQueen</td>\n",
       "      <td>1100000</td>\n",
       "      <td>80000000</td>\n",
       "      <td>Beauty</td>\n",
       "      <td>USA</td>\n",
       "      <td>2021-07-01</td>\n",
       "    </tr>\n",
       "    <tr>\n",
       "      <th>7</th>\n",
       "      <td>DIYExpert</td>\n",
       "      <td>1600000</td>\n",
       "      <td>140000000</td>\n",
       "      <td>DIY</td>\n",
       "      <td>Canada</td>\n",
       "      <td>2020-10-01</td>\n",
       "    </tr>\n",
       "    <tr>\n",
       "      <th>8</th>\n",
       "      <td>SportsFan</td>\n",
       "      <td>2000000</td>\n",
       "      <td>220000000</td>\n",
       "      <td>Sports</td>\n",
       "      <td>USA</td>\n",
       "      <td>2019-04-01</td>\n",
       "    </tr>\n",
       "    <tr>\n",
       "      <th>9</th>\n",
       "      <td>ComedyKing</td>\n",
       "      <td>1400000</td>\n",
       "      <td>100000000</td>\n",
       "      <td>Comedy</td>\n",
       "      <td>UK</td>\n",
       "      <td>2022-01-01</td>\n",
       "    </tr>\n",
       "  </tbody>\n",
       "</table>\n",
       "</div>"
      ],
      "text/plain": [
       "          Name  Subscribers      Views Category    Country DateStarted\n",
       "0     TechGuru      1500000  120000000     Tech        USA  2021-01-01\n",
       "1  FashionDiva      2300000  250000000  Fashion     Canada  2020-05-15\n",
       "2   GameMaster      1800000  180000000   Gaming         UK  2019-11-01\n",
       "3    FoodieFun      1200000   90000000     Food        USA  2022-03-10\n",
       "4    TravelBug       950000   60000000   Travel  Australia  2018-09-20\n",
       "5   MusicMania      2700000  300000000    Music        USA  2023-02-01\n",
       "6  BeautyQueen      1100000   80000000   Beauty        USA  2021-07-01\n",
       "7    DIYExpert      1600000  140000000      DIY     Canada  2020-10-01\n",
       "8    SportsFan      2000000  220000000   Sports        USA  2019-04-01\n",
       "9   ComedyKing      1400000  100000000   Comedy         UK  2022-01-01"
      ]
     },
     "execution_count": 9,
     "metadata": {},
     "output_type": "execute_result"
    }
   ],
   "source": [
    "# Demonstration\n",
    "\n",
    "\n",
    "\n"
   ]
  },
  {
   "cell_type": "markdown",
   "id": "b63312d2-c8a4-4abe-a47c-adfd879cd49e",
   "metadata": {},
   "source": [
    "##### `df.describe()`\n",
    "\n",
    "The `df.describe()` method is a powerful tool for quickly understanding the distribution of your numerical data within a DataFrame. When called, it computes and summarizes several key statistical measures for each numerical column:\n",
    "\n",
    "* __count__: The number of non-missing (non-NaN) values.\n",
    "* __mean__: The average value.\n",
    "* __std__: The standard deviation, a measure of the spread or dispersion of the data.\n",
    "* __min__: The minimum value.\n",
    "* __max__: The maximum value.\n",
    "* __25% (Q1)__: The first quartile, meaning 25% of the data falls below this value.\n",
    "* __50% (Median or Q2)__: The middle value; 50% of the data is below and 50% is above.\n",
    "* __75% (Q3)__: The third quartile, meaning 75% of the data falls below this value.\n",
    "\n",
    "This output provides a concise overview of the central tendency, dispersion, and shape of the numerical data in your DataFrame."
   ]
  },
  {
   "cell_type": "code",
   "execution_count": 14,
   "id": "f5b38c42-c37e-4087-9862-444d8a469338",
   "metadata": {},
   "outputs": [
    {
     "data": {
      "text/html": [
       "<div>\n",
       "<style scoped>\n",
       "    .dataframe tbody tr th:only-of-type {\n",
       "        vertical-align: middle;\n",
       "    }\n",
       "\n",
       "    .dataframe tbody tr th {\n",
       "        vertical-align: top;\n",
       "    }\n",
       "\n",
       "    .dataframe thead th {\n",
       "        text-align: right;\n",
       "    }\n",
       "</style>\n",
       "<table border=\"1\" class=\"dataframe\">\n",
       "  <thead>\n",
       "    <tr style=\"text-align: right;\">\n",
       "      <th></th>\n",
       "      <th>Subscribers</th>\n",
       "      <th>Views</th>\n",
       "    </tr>\n",
       "  </thead>\n",
       "  <tbody>\n",
       "    <tr>\n",
       "      <th>count</th>\n",
       "      <td>10.00</td>\n",
       "      <td>10.00</td>\n",
       "    </tr>\n",
       "    <tr>\n",
       "      <th>mean</th>\n",
       "      <td>1655000.00</td>\n",
       "      <td>154000000.00</td>\n",
       "    </tr>\n",
       "    <tr>\n",
       "      <th>std</th>\n",
       "      <td>552996.89</td>\n",
       "      <td>80443216.69</td>\n",
       "    </tr>\n",
       "    <tr>\n",
       "      <th>min</th>\n",
       "      <td>950000.00</td>\n",
       "      <td>60000000.00</td>\n",
       "    </tr>\n",
       "    <tr>\n",
       "      <th>25%</th>\n",
       "      <td>1250000.00</td>\n",
       "      <td>92500000.00</td>\n",
       "    </tr>\n",
       "    <tr>\n",
       "      <th>50%</th>\n",
       "      <td>1550000.00</td>\n",
       "      <td>130000000.00</td>\n",
       "    </tr>\n",
       "    <tr>\n",
       "      <th>75%</th>\n",
       "      <td>1950000.00</td>\n",
       "      <td>210000000.00</td>\n",
       "    </tr>\n",
       "    <tr>\n",
       "      <th>max</th>\n",
       "      <td>2700000.00</td>\n",
       "      <td>300000000.00</td>\n",
       "    </tr>\n",
       "  </tbody>\n",
       "</table>\n",
       "</div>"
      ],
      "text/plain": [
       "       Subscribers        Views\n",
       "count        10.00        10.00\n",
       "mean    1655000.00 154000000.00\n",
       "std      552996.89  80443216.69\n",
       "min      950000.00  60000000.00\n",
       "25%     1250000.00  92500000.00\n",
       "50%     1550000.00 130000000.00\n",
       "75%     1950000.00 210000000.00\n",
       "max     2700000.00 300000000.00"
      ]
     },
     "execution_count": 14,
     "metadata": {},
     "output_type": "execute_result"
    }
   ],
   "source": [
    "# Demonstration\n",
    "\n",
    "\n"
   ]
  },
  {
   "cell_type": "markdown",
   "id": "4dab8fbb-e768-44cf-9579-1b021baac223",
   "metadata": {},
   "source": [
    "##### Index Column\n",
    "\n",
    "By default, DataFrames have a numerical index starting from zero, just like Series.\n",
    "\n",
    "However, you can set one or more of your existing columns as the DataFrame's index.\n",
    "\n",
    "For example, let's use the `DateStarted` column as the new index:"
   ]
  },
  {
   "cell_type": "code",
   "execution_count": 15,
   "id": "4cc8f1dc-da30-47c2-80ad-497ad8f46291",
   "metadata": {},
   "outputs": [
    {
     "name": "stdout",
     "output_type": "stream",
     "text": [
      "<class 'pandas.core.frame.DataFrame'>\n",
      "RangeIndex: 10 entries, 0 to 9\n",
      "Data columns (total 6 columns):\n",
      " #   Column       Non-Null Count  Dtype \n",
      "---  ------       --------------  ----- \n",
      " 0   Name         10 non-null     object\n",
      " 1   Subscribers  10 non-null     int64 \n",
      " 2   Views        10 non-null     int64 \n",
      " 3   Category     10 non-null     object\n",
      " 4   Country      10 non-null     object\n",
      " 5   DateStarted  10 non-null     object\n",
      "dtypes: int64(2), object(4)\n",
      "memory usage: 612.0+ bytes\n"
     ]
    }
   ],
   "source": [
    "# Set 'DateStarted' as the index\n",
    "\n",
    "\n",
    "\n"
   ]
  },
  {
   "cell_type": "markdown",
   "id": "7e1cf1f5-12d9-424a-8ccf-b99289dedd53",
   "metadata": {},
   "source": [
    "After setting `DateStarted` as the index in our YouTuber example, the row labels are now date values.\n",
    "\n",
    "Remember, DataFrame indexes in pandas can be of any data type. While integers and strings are most frequent, you can also use more complex types like lists, tuples, or even arbitrary Python objects as your index."
   ]
  },
  {
   "cell_type": "markdown",
   "id": "35d98967-71cf-4484-ad7c-a31ddb1b8554",
   "metadata": {},
   "source": [
    "#### Combining Series into a DataFrame\n",
    "\n",
    "You can create a DataFrame by putting multiple pandas Series together. Each Series will become a column in the resulting DataFrame."
   ]
  },
  {
   "cell_type": "code",
   "execution_count": null,
   "id": "6926dd6a-5421-4f1c-8238-bca81ac6c762",
   "metadata": {},
   "outputs": [],
   "source": [
    "# Synthetic Produce Data\n",
    "produce_names = pd.Series(['Apple', 'Banana', 'Carrot', 'Date', 'Eggplant'])\n",
    "quantities = pd.Series(list(range(50, 251, 50)))\n",
    "prices = pd.Series(list(round(random.uniform(0.1, 3.0,),2) for _ in range(5)))\n",
    "\n",
    "# Create Produce DataFrame\n",
    "\n",
    "\n",
    "\n",
    "\n",
    "# Output Data Frame\n",
    "\n",
    "\n",
    "\n"
   ]
  },
  {
   "cell_type": "markdown",
   "id": "90f045a9-6470-4331-b775-cb17486681de",
   "metadata": {},
   "source": [
    "__How it Works__\n",
    "\n",
    "In that example:\n",
    "\n",
    "* We used `pd.DataFrame()` to build the DataFrame.\n",
    "* We provided a Python dictionary.\n",
    "    * Keys: The dictionary keys became the labels for each column in the DataFrame.\n",
    "    * Values: The dictionary values were the pandas Series, and these Series provided the actual data for their respective columns.\n",
    "* Essentially, each Series in the dictionary transformed into a column in the DataFrame."
   ]
  },
  {
   "cell_type": "markdown",
   "id": "15ab3c98-f2ed-4a8d-84b5-c21113befecc",
   "metadata": {},
   "source": [
    "#### Creating a DataFrame from an API\n",
    "\n",
    "Want to know how Tesla's been performing? Let's grab their stock data from the past year using the Yahoo Finance API and the `yfinance` library. This will give us a DataFrame to analyze.\n",
    "\n",
    "First, we need to install the library:\n",
    "\n",
    "```bash\n",
    "!pip install yfinance\n",
    "```"
   ]
  },
  {
   "cell_type": "code",
   "execution_count": null,
   "id": "3a702808-3334-4932-b5d0-3439f72dc2a6",
   "metadata": {},
   "outputs": [],
   "source": [
    "# Install yfinance \n"
   ]
  },
  {
   "cell_type": "markdown",
   "id": "d8804b0d-be08-489a-af45-2227a6591536",
   "metadata": {},
   "source": [
    "Next, let's import the necessary yfinance library:\n",
    "\n",
    "```python\n",
    "import yfinance as yf\n",
    "```"
   ]
  },
  {
   "cell_type": "code",
   "execution_count": null,
   "id": "323bb6b6-1d4a-4dcb-a110-42bf29cd0e5d",
   "metadata": {},
   "outputs": [],
   "source": [
    "# Import yfinance\n"
   ]
  },
  {
   "cell_type": "markdown",
   "id": "b1509560-c797-40a6-a5cd-c31e17f123d0",
   "metadata": {},
   "source": [
    "Now, we'll use the `yfinance.download()` function to fetch one year of Tesla's stock data.\n",
    "\n",
    "The basic format is:\n",
    "\n",
    "```python\n",
    "yf.download(_tickers_, _period_)\n",
    "```\n",
    "\n",
    "For Tesla, the ticker symbol is `TSLA`, and we want data for the past five years (`5y`).\n",
    "\n",
    "For more details on the yfinance API, you can check out the official documentation: (The yfinance API Reference)[https://yfinance-python.org/reference/]"
   ]
  },
  {
   "cell_type": "code",
   "execution_count": null,
   "id": "f42d50b2-f1aa-4aba-bf96-d92c8a7eda06",
   "metadata": {},
   "outputs": [],
   "source": [
    "# Get Tesla Data\n",
    "\n",
    "\n",
    "\n"
   ]
  }
 ],
 "metadata": {
  "kernelspec": {
   "display_name": "Python 3 (ipykernel)",
   "language": "python",
   "name": "python3"
  },
  "language_info": {
   "codemirror_mode": {
    "name": "ipython",
    "version": 3
   },
   "file_extension": ".py",
   "mimetype": "text/x-python",
   "name": "python",
   "nbconvert_exporter": "python",
   "pygments_lexer": "ipython3",
   "version": "3.12.5"
  }
 },
 "nbformat": 4,
 "nbformat_minor": 5
}
