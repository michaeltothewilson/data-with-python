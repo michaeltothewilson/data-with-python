{
 "cells": [
  {
   "cell_type": "markdown",
   "id": "d6c0540b-2582-432d-b4be-85cfd0bde345",
   "metadata": {},
   "source": [
    "# pandas\n",
    "<center><img src=\"../images/stock/pexels-introspectivedsgn-4065800.jpg\" width=\"500\"></center>\n",
    "\n",
    "pandas offers powerful data structures and manipulation tools that simplify data cleaning and analysis in Python. \n",
    "\n",
    "It's frequently used alongside NumPy for numerical operations, SciPy and statsmodels for statistical analysis, and Matplotlib for data visualization. \n",
    "\n",
    "pandas adopts NumPy's array-oriented computing paradigm, prioritizing array functions and avoiding explicit loops for data processing.\n"
   ]
  },
  {
   "cell_type": "markdown",
   "id": "63956299-ea3b-449e-a453-369af73ec515",
   "metadata": {},
   "source": [
    "# Pandas Installation\n",
    "\n",
    "You can install pandas with the following command:\n",
    "\n",
    "```bash\n",
    "!pip install pandas\n",
    "```\n",
    "\n",
    "However, just like with NumPy, I took the liberty of installing Pandas on the Jupyter Hub."
   ]
  },
  {
   "cell_type": "markdown",
   "id": "af3edd2d-5ef2-47cb-9d8b-0cb3556e5560",
   "metadata": {},
   "source": [
    "## Importing Pandas\n",
    "\n",
    "We'll need to import pandas into your notebook/script before using it.\n",
    "\n",
    "The standard convention for importing Pandas is as follows:\n",
    "\n",
    "```python\n",
    "import pandas as pd\n",
    "```\n",
    "\n",
    "Let's go ahead import pandas into our notebooks in the cell below:"
   ]
  },
  {
   "cell_type": "code",
   "execution_count": 2,
   "id": "681ff753-e78f-42fe-b873-74f289940724",
   "metadata": {},
   "outputs": [],
   "source": [
    "# Import Pandas\n",
    "\n",
    "\n"
   ]
  },
  {
   "cell_type": "markdown",
   "id": "146299c5-4f98-4bc8-9898-a49bfce09cc9",
   "metadata": {},
   "source": [
    "# Pandas Data Structures\n",
    "<center><img src=\"../images/stock/pexels-jeffrey-czum-254391-2346289.jpg\" width=\"500\"></center>\n",
    "Pandas primarily uses two data structures:\n",
    "\n",
    "* __Series__: 1-dimensional labeled array.\n",
    "* __DataFrame__: 2-dimensional labeled table (collection of Series)."
   ]
  },
  {
   "cell_type": "markdown",
   "id": "365c4c70-514e-42d9-9b70-e8ba641a97dd",
   "metadata": {},
   "source": [
    "## Series\n",
    "\n",
    "Think of a pandas Series as a single column of data with labels.\n",
    "\n",
    "* __Default Labels__: By default, each item gets a number based on its position, just like in a Python list.\n",
    "* __Custom Labels__: You can also give each item your own specific label (like a name or an ID). These labels can be numbers, text, or even combinations.\n",
    "* __Data Types__: A Series can hold various types of data, but it's most efficient when all the items in a single Series are of the same type. This is important because, as we'll see later, Series become the columns in a DataFrame, and columns ideally have consistent data types."
   ]
  },
  {
   "cell_type": "markdown",
   "id": "fc9342cd-a256-4ec3-86c0-809dee7c0f97",
   "metadata": {},
   "source": [
    "__Series Illustration__\n",
    "\n",
    "<center><img src=\"../images/illustrations/pandas-series-example.jpg\"></center>"
   ]
  },
  {
   "cell_type": "markdown",
   "id": "d730a46b-73d6-4762-93d2-649133d77d25",
   "metadata": {},
   "source": [
    "### Creating a Series from a List\n",
    "\n",
    "We can easily create a pandas Series from a one-dimensional dataset, like a Python list, using the `pd.Series()` constructor.\n",
    "\n",
    "For example, let's take this list and turn it into a Series:"
   ]
  },
  {
   "cell_type": "code",
   "execution_count": 3,
   "id": "a8bdcd54-2cf8-48bd-bcc4-2f76973a7b48",
   "metadata": {},
   "outputs": [
    {
     "data": {
      "text/plain": [
       "0       Stranger Things\n",
       "1       The Mandalorian\n",
       "2    The Queen's Gambit\n",
       "3            Bridgerton\n",
       "4            Squid Game\n",
       "5            Succession\n",
       "6             Ted Lasso\n",
       "7           The Witcher\n",
       "8              Euphoria\n",
       "9                 Ozark\n",
       "dtype: object"
      ]
     },
     "execution_count": 3,
     "metadata": {},
     "output_type": "execute_result"
    }
   ],
   "source": [
    "# Data\n",
    "popular_shows = [\n",
    "    \"Stranger Things\",\n",
    "    \"The Mandalorian\",\n",
    "    \"The Queen's Gambit\",\n",
    "    \"Bridgerton\",\n",
    "    \"Squid Game\",\n",
    "    \"Succession\",\n",
    "    \"Ted Lasso\",\n",
    "    \"The Witcher\",\n",
    "    \"Euphoria\",\n",
    "    \"Ozark\"\n",
    "]\n",
    "\n",
    "# Transform into a Series using pd.Series()\n",
    "\n",
    "\n",
    "# Output the Series\n",
    "\n"
   ]
  },
  {
   "cell_type": "markdown",
   "id": "58b033ad-a639-4700-985f-125fbe9eae7b",
   "metadata": {},
   "source": [
    "* Passing a list to `pd.Series()` creates a Series with automatic numeric labels (0, 1, 2, ...).\n",
    "* The `.dtype` attribute tells us the data type of the elements within the Series.\n",
    "* Text data (strings) are typically represented as the `object` dtype by default."
   ]
  },
  {
   "cell_type": "markdown",
   "id": "d14d129f-3c92-478f-9a8e-aa3620fb4209",
   "metadata": {},
   "source": [
    "### Custom Labels\n",
    "\n",
    "You can specify your own labels for the Series using the `index = sequence` argument within the `pd.Series()` function. For example:"
   ]
  },
  {
   "cell_type": "code",
   "execution_count": 5,
   "id": "a47dc5a9-9007-4285-8c1f-65ca367376e8",
   "metadata": {},
   "outputs": [
    {
     "data": {
      "text/plain": [
       "100      Oppenheimer\n",
       "101           Barbie\n",
       "102    The Godfather\n",
       "103         Parasite\n",
       "104    Spirited Away\n",
       "dtype: object"
      ]
     },
     "execution_count": 5,
     "metadata": {},
     "output_type": "execute_result"
    }
   ],
   "source": [
    "# Data\n",
    "popular_movies = [\n",
    "    \"Oppenheimer\",\n",
    "    \"Barbie\",\n",
    "    \"The Godfather\",\n",
    "    \"Parasite\",\n",
    "    \"Spirited Away\"\n",
    "]\n",
    "\n",
    "# Transform into a Series with Custom Indices\n",
    "indices = list(range(100,105))\n",
    "\n",
    "\n",
    "\n"
   ]
  },
  {
   "cell_type": "markdown",
   "id": "42623ba5-23a5-4dd8-91c2-ddbf1b2c601e",
   "metadata": {},
   "source": [
    "Now, the Series uses the custom labels we provided instead of the default numbers."
   ]
  },
  {
   "attachments": {},
   "cell_type": "markdown",
   "id": "02404ce4-31ec-4dd0-b27a-8afbaa437aa5",
   "metadata": {},
   "source": [
    "### Accessing Data - Index Operator `[]`\n",
    "\n",
    "Similar to Python lists, we can retrieve data from a Series using square brackets `[]` with the label or position.\n",
    "\n",
    "For example: Which popular movie is associated with the label `103`?"
   ]
  },
  {
   "cell_type": "code",
   "execution_count": 6,
   "id": "ef9c2abc-af61-4d79-9775-f726561408b9",
   "metadata": {},
   "outputs": [
    {
     "data": {
      "text/plain": [
       "'Parasite'"
      ]
     },
     "execution_count": 6,
     "metadata": {},
     "output_type": "execute_result"
    }
   ],
   "source": [
    "# Access the element at label 103\n",
    "\n",
    "\n"
   ]
  },
  {
   "cell_type": "markdown",
   "id": "12697821-923f-4dcc-9367-5ef652d3ade2",
   "metadata": {},
   "source": [
    "### Accessing Data - `.loc` Accessor\n",
    "\n",
    "Another way to access Series data by its label is using the `.loc` attribute. For example:\n"
   ]
  },
  {
   "cell_type": "code",
   "execution_count": 7,
   "id": "611afe58-0ff6-4208-8c0f-0d2183348afb",
   "metadata": {},
   "outputs": [
    {
     "data": {
      "text/plain": [
       "'Spirited Away'"
      ]
     },
     "execution_count": 7,
     "metadata": {},
     "output_type": "execute_result"
    }
   ],
   "source": [
    "# Access the element at label 104\n",
    "\n",
    "\n"
   ]
  },
  {
   "cell_type": "markdown",
   "id": "9ce5c0d8-bad0-4070-8e98-5e99682716ab",
   "metadata": {},
   "source": [
    "### Accessing Data - `.iloc` Accessor\n",
    "\n",
    "Even with custom labels, you can still access elements by their numerical position (like in a list) using the `.iloc` attribute. \n",
    "\n",
    "For example:"
   ]
  },
  {
   "cell_type": "code",
   "execution_count": 8,
   "id": "b96a6dea-217d-4637-9901-8cbb8f3f1876",
   "metadata": {},
   "outputs": [
    {
     "data": {
      "text/plain": [
       "'Oppenheimer'"
      ]
     },
     "execution_count": 8,
     "metadata": {},
     "output_type": "execute_result"
    }
   ],
   "source": [
    "# Access the element at position 0\n",
    "\n",
    "\n"
   ]
  },
  {
   "cell_type": "markdown",
   "id": "03737e7c-0176-4280-9c0f-103a10256b18",
   "metadata": {},
   "source": [
    "### Slicing Series Data\n",
    "\n",
    "We can select multiple elements from a Series using slicing with the index operator `[]`, `.loc` (label-based slicing), and `.iloc` (position-based slicing). \n",
    "\n",
    "Here's how:"
   ]
  },
  {
   "cell_type": "code",
   "execution_count": null,
   "id": "96ca02ac-163e-478a-ba9e-565e6975e6a1",
   "metadata": {},
   "outputs": [],
   "source": [
    "# Demonstrate [] slicing\n",
    "\n",
    "\n",
    "# Demonstrate .loc slicing\n",
    "\n",
    "\n",
    "# Demonstrate .iloc slicing\n",
    "\n"
   ]
  },
  {
   "cell_type": "markdown",
   "id": "435260b6-048e-417d-ba0d-a84066ac0306",
   "metadata": {},
   "source": [
    "## DataFrame\n",
    "\n",
    "<center><img src=\"../images/stock/pexels-suki-lee-110686949-16200703.jpg\" width=\"500\"></center>\n",
    "\n",
    "A pandas DataFrame is like a table with rows and columns. It's a 2D structure where each column can hold different types of data. Think of it as a collection of Series, all sharing the same row labels. Each column is essentially a Series."
   ]
  },
  {
   "cell_type": "markdown",
   "id": "62db8056-7f29-4899-8889-d0203eaec784",
   "metadata": {},
   "source": [
    "__DataFrame Illustration__\n",
    "\n",
    "<center><img src=\"../images/illustrations/pandas_dataframe_example.jpg\"></center>"
   ]
  },
  {
   "cell_type": "markdown",
   "id": "859da698-77c5-4eb1-80a9-2ac6119635f7",
   "metadata": {},
   "source": [
    "### Creating a DataFrame"
   ]
  },
  {
   "cell_type": "markdown",
   "id": "7061c531-65b8-432d-8e93-689a30f14e24",
   "metadata": {},
   "source": [
    "##### `pd.DataFrame()`\n",
    "\n",
    "We use the `pd.DataFrame()` function to create a pandas DataFrame.\n",
    "\n",
    "In the code cell below, we will create a DataFrame from a given dictionary:"
   ]
  },
  {
   "cell_type": "code",
   "execution_count": 14,
   "id": "be7b5ca5-1d6c-4cfc-bb03-c8b4c8032908",
   "metadata": {},
   "outputs": [
    {
     "data": {
      "text/html": [
       "<div>\n",
       "<style scoped>\n",
       "    .dataframe tbody tr th:only-of-type {\n",
       "        vertical-align: middle;\n",
       "    }\n",
       "\n",
       "    .dataframe tbody tr th {\n",
       "        vertical-align: top;\n",
       "    }\n",
       "\n",
       "    .dataframe thead th {\n",
       "        text-align: right;\n",
       "    }\n",
       "</style>\n",
       "<table border=\"1\" class=\"dataframe\">\n",
       "  <thead>\n",
       "    <tr style=\"text-align: right;\">\n",
       "      <th></th>\n",
       "      <th>Name</th>\n",
       "      <th>Subscribers</th>\n",
       "      <th>Views</th>\n",
       "      <th>Category</th>\n",
       "      <th>Country</th>\n",
       "      <th>DateStarted</th>\n",
       "    </tr>\n",
       "  </thead>\n",
       "  <tbody>\n",
       "    <tr>\n",
       "      <th>0</th>\n",
       "      <td>TechGuru</td>\n",
       "      <td>1500000</td>\n",
       "      <td>120000000</td>\n",
       "      <td>Tech</td>\n",
       "      <td>USA</td>\n",
       "      <td>2021-01-01</td>\n",
       "    </tr>\n",
       "    <tr>\n",
       "      <th>1</th>\n",
       "      <td>FashionDiva</td>\n",
       "      <td>2300000</td>\n",
       "      <td>250000000</td>\n",
       "      <td>Fashion</td>\n",
       "      <td>Canada</td>\n",
       "      <td>2020-05-15</td>\n",
       "    </tr>\n",
       "    <tr>\n",
       "      <th>2</th>\n",
       "      <td>GameMaster</td>\n",
       "      <td>1800000</td>\n",
       "      <td>180000000</td>\n",
       "      <td>Gaming</td>\n",
       "      <td>UK</td>\n",
       "      <td>2019-11-01</td>\n",
       "    </tr>\n",
       "    <tr>\n",
       "      <th>3</th>\n",
       "      <td>FoodieFun</td>\n",
       "      <td>1200000</td>\n",
       "      <td>90000000</td>\n",
       "      <td>Food</td>\n",
       "      <td>USA</td>\n",
       "      <td>2022-03-10</td>\n",
       "    </tr>\n",
       "    <tr>\n",
       "      <th>4</th>\n",
       "      <td>TravelBug</td>\n",
       "      <td>950000</td>\n",
       "      <td>60000000</td>\n",
       "      <td>Travel</td>\n",
       "      <td>Australia</td>\n",
       "      <td>2018-09-20</td>\n",
       "    </tr>\n",
       "    <tr>\n",
       "      <th>5</th>\n",
       "      <td>MusicMania</td>\n",
       "      <td>2700000</td>\n",
       "      <td>300000000</td>\n",
       "      <td>Music</td>\n",
       "      <td>USA</td>\n",
       "      <td>2023-02-01</td>\n",
       "    </tr>\n",
       "    <tr>\n",
       "      <th>6</th>\n",
       "      <td>BeautyQueen</td>\n",
       "      <td>1100000</td>\n",
       "      <td>80000000</td>\n",
       "      <td>Beauty</td>\n",
       "      <td>USA</td>\n",
       "      <td>2021-07-01</td>\n",
       "    </tr>\n",
       "    <tr>\n",
       "      <th>7</th>\n",
       "      <td>DIYExpert</td>\n",
       "      <td>1600000</td>\n",
       "      <td>140000000</td>\n",
       "      <td>DIY</td>\n",
       "      <td>Canada</td>\n",
       "      <td>2020-10-01</td>\n",
       "    </tr>\n",
       "    <tr>\n",
       "      <th>8</th>\n",
       "      <td>SportsFan</td>\n",
       "      <td>2000000</td>\n",
       "      <td>220000000</td>\n",
       "      <td>Sports</td>\n",
       "      <td>USA</td>\n",
       "      <td>2019-04-01</td>\n",
       "    </tr>\n",
       "    <tr>\n",
       "      <th>9</th>\n",
       "      <td>ComedyKing</td>\n",
       "      <td>1400000</td>\n",
       "      <td>100000000</td>\n",
       "      <td>Comedy</td>\n",
       "      <td>UK</td>\n",
       "      <td>2022-01-01</td>\n",
       "    </tr>\n",
       "  </tbody>\n",
       "</table>\n",
       "</div>"
      ],
      "text/plain": [
       "          Name  Subscribers      Views Category    Country DateStarted\n",
       "0     TechGuru      1500000  120000000     Tech        USA  2021-01-01\n",
       "1  FashionDiva      2300000  250000000  Fashion     Canada  2020-05-15\n",
       "2   GameMaster      1800000  180000000   Gaming         UK  2019-11-01\n",
       "3    FoodieFun      1200000   90000000     Food        USA  2022-03-10\n",
       "4    TravelBug       950000   60000000   Travel  Australia  2018-09-20\n",
       "5   MusicMania      2700000  300000000    Music        USA  2023-02-01\n",
       "6  BeautyQueen      1100000   80000000   Beauty        USA  2021-07-01\n",
       "7    DIYExpert      1600000  140000000      DIY     Canada  2020-10-01\n",
       "8    SportsFan      2000000  220000000   Sports        USA  2019-04-01\n",
       "9   ComedyKing      1400000  100000000   Comedy         UK  2022-01-01"
      ]
     },
     "execution_count": 14,
     "metadata": {},
     "output_type": "execute_result"
    }
   ],
   "source": [
    "# Synthetic data\n",
    "data = {\n",
    "    'Name': ['TechGuru', 'FashionDiva', 'GameMaster', 'FoodieFun', 'TravelBug', 'MusicMania', 'BeautyQueen', 'DIYExpert', 'SportsFan', 'ComedyKing'],\n",
    "    'Subscribers': [1500000, 2300000, 1800000, 1200000, 950000, 2700000, 1100000, 1600000, 2000000, 1400000],\n",
    "    'Views': [120000000, 250000000, 180000000, 90000000, 60000000, 300000000, 80000000, 140000000, 220000000, 100000000],\n",
    "    'Category': ['Tech', 'Fashion', 'Gaming', 'Food', 'Travel', 'Music', 'Beauty', 'DIY', 'Sports', 'Comedy'],\n",
    "    'Country': ['USA', 'Canada', 'UK', 'USA', 'Australia', 'USA', 'USA', 'Canada', 'USA', 'UK'],\n",
    "    'DateStarted': ['2021-01-01', '2020-05-15', '2019-11-01', '2022-03-10', '2018-09-20', '2023-02-01', '2021-07-01', '2020-10-01', '2019-04-01', '2022-01-01'] # Added DateStarted\n",
    "}\n",
    "\n",
    "# Create the DataFrame\n",
    "\n",
    "\n",
    "# Output the DataFrame\n",
    "\n",
    "\n",
    "\n"
   ]
  },
  {
   "cell_type": "markdown",
   "id": "d15058ac-23c4-4656-a483-1a2900a2f243",
   "metadata": {},
   "source": [
    "__Note:__\n",
    "\n",
    "* Jupyter has a neat feature where if the last thing in a cell is a DataFrame, it'll display as an HTML table without needing `print()`, which gives you a cleaner look than the standard text output."
   ]
  },
  {
   "cell_type": "markdown",
   "id": "175fb308-57b1-482f-8d0c-7b44310b769f",
   "metadata": {},
   "source": [
    "### Initial DataFrame Inspection\n",
    "\n",
    "Pandas makes it easy to get a quick understanding of your DataFrame. We'll introduce four fundamental methods for this:\n",
    "\n",
    "* `df.head()`: to see the beginning of your data.\n",
    "* `df.tail()`: to see the end of your data.\n",
    "* `df.describe()`: for a statistical summary of numerical columns.\n",
    "* `df.info()`: to check data types and non-null values.\n"
   ]
  },
  {
   "cell_type": "markdown",
   "id": "a9423e49-e4f5-4d0d-b6db-acb95fbdc7d3",
   "metadata": {},
   "source": [
    "#### `df.head()`\n",
    "\n",
    "The `df.head()` method returns the first five rows of the DataFrame."
   ]
  },
  {
   "cell_type": "code",
   "execution_count": null,
   "id": "7a339a02-5d59-41a0-8ce4-0610250b91d6",
   "metadata": {},
   "outputs": [],
   "source": [
    "# Demonstration\n",
    "\n",
    "\n",
    "\n"
   ]
  },
  {
   "cell_type": "markdown",
   "id": "73406874-280b-49fa-adc0-5589e855fa52",
   "metadata": {},
   "source": [
    "#### `df.tail()`\n",
    "\n",
    "The `df.tail()` method returns the last five rows of the DataFrame."
   ]
  },
  {
   "cell_type": "code",
   "execution_count": null,
   "id": "3a725551-6b4e-4df7-a104-eae4e221f457",
   "metadata": {},
   "outputs": [],
   "source": [
    "# Demonstration\n",
    "\n",
    "\n",
    "\n"
   ]
  },
  {
   "cell_type": "markdown",
   "id": "b63312d2-c8a4-4abe-a47c-adfd879cd49e",
   "metadata": {},
   "source": [
    "#### `df.describe()`\n",
    "\n",
    "The `df.describe()` method is a powerful tool for quickly understanding the distribution of your numerical data within a DataFrame. When called, it computes and summarizes several key statistical measures for each numerical column:\n",
    "\n",
    "* __count__: The number of non-missing (non-NaN) values.\n",
    "* __mean__: The average value.\n",
    "* __std__: The standard deviation, a measure of the spread or dispersion of the data.\n",
    "* __min__: The minimum value.\n",
    "* __max__: The maximum value.\n",
    "* __25% (Q1)__: The first quartile, meaning 25% of the data falls below this value.\n",
    "* __50% (Median or Q2)__: The middle value; 50% of the data is below and 50% is above.\n",
    "* __75% (Q3)__: The third quartile, meaning 75% of the data falls below this value.\n",
    "\n",
    "This output provides a concise overview of the central tendency, dispersion, and shape of the numerical data in your DataFrame."
   ]
  },
  {
   "cell_type": "code",
   "execution_count": 10,
   "id": "a2a39824-4ef4-4090-b399-c38aa4dcb41a",
   "metadata": {},
   "outputs": [
    {
     "data": {
      "text/html": [
       "<div>\n",
       "<style scoped>\n",
       "    .dataframe tbody tr th:only-of-type {\n",
       "        vertical-align: middle;\n",
       "    }\n",
       "\n",
       "    .dataframe tbody tr th {\n",
       "        vertical-align: top;\n",
       "    }\n",
       "\n",
       "    .dataframe thead th {\n",
       "        text-align: right;\n",
       "    }\n",
       "</style>\n",
       "<table border=\"1\" class=\"dataframe\">\n",
       "  <thead>\n",
       "    <tr style=\"text-align: right;\">\n",
       "      <th></th>\n",
       "      <th>Subscribers</th>\n",
       "      <th>Views</th>\n",
       "    </tr>\n",
       "  </thead>\n",
       "  <tbody>\n",
       "    <tr>\n",
       "      <th>count</th>\n",
       "      <td>1.000000e+01</td>\n",
       "      <td>1.000000e+01</td>\n",
       "    </tr>\n",
       "    <tr>\n",
       "      <th>mean</th>\n",
       "      <td>1.655000e+06</td>\n",
       "      <td>1.540000e+08</td>\n",
       "    </tr>\n",
       "    <tr>\n",
       "      <th>std</th>\n",
       "      <td>5.529969e+05</td>\n",
       "      <td>8.044322e+07</td>\n",
       "    </tr>\n",
       "    <tr>\n",
       "      <th>min</th>\n",
       "      <td>9.500000e+05</td>\n",
       "      <td>6.000000e+07</td>\n",
       "    </tr>\n",
       "    <tr>\n",
       "      <th>25%</th>\n",
       "      <td>1.250000e+06</td>\n",
       "      <td>9.250000e+07</td>\n",
       "    </tr>\n",
       "    <tr>\n",
       "      <th>50%</th>\n",
       "      <td>1.550000e+06</td>\n",
       "      <td>1.300000e+08</td>\n",
       "    </tr>\n",
       "    <tr>\n",
       "      <th>75%</th>\n",
       "      <td>1.950000e+06</td>\n",
       "      <td>2.100000e+08</td>\n",
       "    </tr>\n",
       "    <tr>\n",
       "      <th>max</th>\n",
       "      <td>2.700000e+06</td>\n",
       "      <td>3.000000e+08</td>\n",
       "    </tr>\n",
       "  </tbody>\n",
       "</table>\n",
       "</div>"
      ],
      "text/plain": [
       "        Subscribers         Views\n",
       "count  1.000000e+01  1.000000e+01\n",
       "mean   1.655000e+06  1.540000e+08\n",
       "std    5.529969e+05  8.044322e+07\n",
       "min    9.500000e+05  6.000000e+07\n",
       "25%    1.250000e+06  9.250000e+07\n",
       "50%    1.550000e+06  1.300000e+08\n",
       "75%    1.950000e+06  2.100000e+08\n",
       "max    2.700000e+06  3.000000e+08"
      ]
     },
     "execution_count": 10,
     "metadata": {},
     "output_type": "execute_result"
    }
   ],
   "source": [
    "# Demonstration\n",
    "\n",
    "\n",
    "\n"
   ]
  },
  {
   "cell_type": "markdown",
   "id": "2cae0a63-15cc-4549-af18-513317afc1d5",
   "metadata": {},
   "source": [
    "### DataFrame Restructuring\n",
    "<center><img src=\"../images/stock/pexels-lgorincioi-8457645.jpg\" width=\"500\"></center>\n",
    "\n",
    "This section focuses on how to modify the structure of your Pandas DataFrame, including:\n",
    "\n",
    "* __Index Manipulation__: Changing or resetting the row labels.\n",
    "* __Column Ordering__: Arranging columns as needed.\n",
    "* __Column Removal__: Dropping specific columns from the DataFrame."
   ]
  },
  {
   "cell_type": "markdown",
   "id": "4dab8fbb-e768-44cf-9579-1b021baac223",
   "metadata": {},
   "source": [
    "#### Index Column\n",
    "\n",
    "By default, DataFrames have a numerical index starting from zero, just like Series.\n",
    "\n",
    "However, you can set one or more of your existing columns as the DataFrame's index using the `df.set_index()` method.\n",
    "\n",
    "For example, let's use the `DateStarted` column as the new index:"
   ]
  },
  {
   "cell_type": "code",
   "execution_count": 15,
   "id": "4cc8f1dc-da30-47c2-80ad-497ad8f46291",
   "metadata": {},
   "outputs": [
    {
     "data": {
      "text/html": [
       "<div>\n",
       "<style scoped>\n",
       "    .dataframe tbody tr th:only-of-type {\n",
       "        vertical-align: middle;\n",
       "    }\n",
       "\n",
       "    .dataframe tbody tr th {\n",
       "        vertical-align: top;\n",
       "    }\n",
       "\n",
       "    .dataframe thead th {\n",
       "        text-align: right;\n",
       "    }\n",
       "</style>\n",
       "<table border=\"1\" class=\"dataframe\">\n",
       "  <thead>\n",
       "    <tr style=\"text-align: right;\">\n",
       "      <th></th>\n",
       "      <th>Name</th>\n",
       "      <th>Subscribers</th>\n",
       "      <th>Views</th>\n",
       "      <th>Category</th>\n",
       "      <th>Country</th>\n",
       "    </tr>\n",
       "    <tr>\n",
       "      <th>DateStarted</th>\n",
       "      <th></th>\n",
       "      <th></th>\n",
       "      <th></th>\n",
       "      <th></th>\n",
       "      <th></th>\n",
       "    </tr>\n",
       "  </thead>\n",
       "  <tbody>\n",
       "    <tr>\n",
       "      <th>2021-01-01</th>\n",
       "      <td>TechGuru</td>\n",
       "      <td>1500000</td>\n",
       "      <td>120000000</td>\n",
       "      <td>Tech</td>\n",
       "      <td>USA</td>\n",
       "    </tr>\n",
       "    <tr>\n",
       "      <th>2020-05-15</th>\n",
       "      <td>FashionDiva</td>\n",
       "      <td>2300000</td>\n",
       "      <td>250000000</td>\n",
       "      <td>Fashion</td>\n",
       "      <td>Canada</td>\n",
       "    </tr>\n",
       "    <tr>\n",
       "      <th>2019-11-01</th>\n",
       "      <td>GameMaster</td>\n",
       "      <td>1800000</td>\n",
       "      <td>180000000</td>\n",
       "      <td>Gaming</td>\n",
       "      <td>UK</td>\n",
       "    </tr>\n",
       "    <tr>\n",
       "      <th>2022-03-10</th>\n",
       "      <td>FoodieFun</td>\n",
       "      <td>1200000</td>\n",
       "      <td>90000000</td>\n",
       "      <td>Food</td>\n",
       "      <td>USA</td>\n",
       "    </tr>\n",
       "    <tr>\n",
       "      <th>2018-09-20</th>\n",
       "      <td>TravelBug</td>\n",
       "      <td>950000</td>\n",
       "      <td>60000000</td>\n",
       "      <td>Travel</td>\n",
       "      <td>Australia</td>\n",
       "    </tr>\n",
       "    <tr>\n",
       "      <th>2023-02-01</th>\n",
       "      <td>MusicMania</td>\n",
       "      <td>2700000</td>\n",
       "      <td>300000000</td>\n",
       "      <td>Music</td>\n",
       "      <td>USA</td>\n",
       "    </tr>\n",
       "    <tr>\n",
       "      <th>2021-07-01</th>\n",
       "      <td>BeautyQueen</td>\n",
       "      <td>1100000</td>\n",
       "      <td>80000000</td>\n",
       "      <td>Beauty</td>\n",
       "      <td>USA</td>\n",
       "    </tr>\n",
       "    <tr>\n",
       "      <th>2020-10-01</th>\n",
       "      <td>DIYExpert</td>\n",
       "      <td>1600000</td>\n",
       "      <td>140000000</td>\n",
       "      <td>DIY</td>\n",
       "      <td>Canada</td>\n",
       "    </tr>\n",
       "    <tr>\n",
       "      <th>2019-04-01</th>\n",
       "      <td>SportsFan</td>\n",
       "      <td>2000000</td>\n",
       "      <td>220000000</td>\n",
       "      <td>Sports</td>\n",
       "      <td>USA</td>\n",
       "    </tr>\n",
       "    <tr>\n",
       "      <th>2022-01-01</th>\n",
       "      <td>ComedyKing</td>\n",
       "      <td>1400000</td>\n",
       "      <td>100000000</td>\n",
       "      <td>Comedy</td>\n",
       "      <td>UK</td>\n",
       "    </tr>\n",
       "  </tbody>\n",
       "</table>\n",
       "</div>"
      ],
      "text/plain": [
       "                    Name  Subscribers      Views Category    Country\n",
       "DateStarted                                                         \n",
       "2021-01-01      TechGuru      1500000  120000000     Tech        USA\n",
       "2020-05-15   FashionDiva      2300000  250000000  Fashion     Canada\n",
       "2019-11-01    GameMaster      1800000  180000000   Gaming         UK\n",
       "2022-03-10     FoodieFun      1200000   90000000     Food        USA\n",
       "2018-09-20     TravelBug       950000   60000000   Travel  Australia\n",
       "2023-02-01    MusicMania      2700000  300000000    Music        USA\n",
       "2021-07-01   BeautyQueen      1100000   80000000   Beauty        USA\n",
       "2020-10-01     DIYExpert      1600000  140000000      DIY     Canada\n",
       "2019-04-01     SportsFan      2000000  220000000   Sports        USA\n",
       "2022-01-01    ComedyKing      1400000  100000000   Comedy         UK"
      ]
     },
     "execution_count": 15,
     "metadata": {},
     "output_type": "execute_result"
    }
   ],
   "source": [
    "# Set 'DateStarted' as the index\n",
    "\n",
    "\n"
   ]
  },
  {
   "cell_type": "markdown",
   "id": "7e1cf1f5-12d9-424a-8ccf-b99289dedd53",
   "metadata": {},
   "source": [
    "After setting `DateStarted` as the index in our YouTuber example, the row labels are now date values.\n",
    "\n",
    "Remember, DataFrame indexes in pandas can be of any data type. While integers and strings are most frequent, you can also use more complex types like lists, tuples, or even arbitrary Python objects as your index."
   ]
  },
  {
   "cell_type": "markdown",
   "id": "7f513d29-5d24-4068-b9c2-703c07356968",
   "metadata": {},
   "source": [
    "#### Specifying Column Order\n",
    "\n",
    "By providing an ordered sequence of column names, you can control the order in which the columns appear in the resulting DataFrame.\n",
    "\n",
    "To specify the order of columns when creating a DataFrame (e.g., from a dictionary or list of lists), you pass a list of the desired column names to the columns parameter:\n",
    "\n",
    "```python\n",
    "pd.DataFrame(data, columns=[\n",
    "    'column_name1', \n",
    "    'column_name2', \n",
    "    'column_name3'\n",
    "])\n",
    "```\n",
    "\n",
    "Similarly, to reorder existing columns, you can reassign the DataFrame with the desired column order:\n",
    "\n",
    "```python\n",
    "df = df[[\n",
    "    'column_name2', \n",
    "    'column_name1', \n",
    "    'column_name3'\n",
    "]]\n",
    "```"
   ]
  },
  {
   "cell_type": "code",
   "execution_count": null,
   "id": "f5b38c42-c37e-4087-9862-444d8a469338",
   "metadata": {},
   "outputs": [],
   "source": [
    "# Demonstration\n",
    "\n",
    "\n"
   ]
  },
  {
   "cell_type": "markdown",
   "id": "35d98967-71cf-4484-ad7c-a31ddb1b8554",
   "metadata": {},
   "source": [
    "#### Combining Series into a DataFrame\n",
    "\n",
    "You can create a DataFrame by putting multiple pandas Series together. Each Series will become a column in the resulting DataFrame.\n",
    "\n",
    "This can be achieved with the `pd.concat()` method:"
   ]
  },
  {
   "cell_type": "code",
   "execution_count": 21,
   "id": "6926dd6a-5421-4f1c-8238-bca81ac6c762",
   "metadata": {},
   "outputs": [
    {
     "data": {
      "text/html": [
       "<div>\n",
       "<style scoped>\n",
       "    .dataframe tbody tr th:only-of-type {\n",
       "        vertical-align: middle;\n",
       "    }\n",
       "\n",
       "    .dataframe tbody tr th {\n",
       "        vertical-align: top;\n",
       "    }\n",
       "\n",
       "    .dataframe thead th {\n",
       "        text-align: right;\n",
       "    }\n",
       "</style>\n",
       "<table border=\"1\" class=\"dataframe\">\n",
       "  <thead>\n",
       "    <tr style=\"text-align: right;\">\n",
       "      <th></th>\n",
       "      <th>Name</th>\n",
       "      <th>Qty</th>\n",
       "      <th>Price</th>\n",
       "    </tr>\n",
       "  </thead>\n",
       "  <tbody>\n",
       "    <tr>\n",
       "      <th>0</th>\n",
       "      <td>Apple</td>\n",
       "      <td>50</td>\n",
       "      <td>2.44</td>\n",
       "    </tr>\n",
       "    <tr>\n",
       "      <th>1</th>\n",
       "      <td>Banana</td>\n",
       "      <td>100</td>\n",
       "      <td>1.72</td>\n",
       "    </tr>\n",
       "    <tr>\n",
       "      <th>2</th>\n",
       "      <td>Carrot</td>\n",
       "      <td>150</td>\n",
       "      <td>0.94</td>\n",
       "    </tr>\n",
       "    <tr>\n",
       "      <th>3</th>\n",
       "      <td>Date</td>\n",
       "      <td>200</td>\n",
       "      <td>1.33</td>\n",
       "    </tr>\n",
       "    <tr>\n",
       "      <th>4</th>\n",
       "      <td>Eggplant</td>\n",
       "      <td>250</td>\n",
       "      <td>2.97</td>\n",
       "    </tr>\n",
       "  </tbody>\n",
       "</table>\n",
       "</div>"
      ],
      "text/plain": [
       "       Name  Qty  Price\n",
       "0     Apple   50   2.44\n",
       "1    Banana  100   1.72\n",
       "2    Carrot  150   0.94\n",
       "3      Date  200   1.33\n",
       "4  Eggplant  250   2.97"
      ]
     },
     "execution_count": 21,
     "metadata": {},
     "output_type": "execute_result"
    }
   ],
   "source": [
    "# Synthetic Produce Data\n",
    "produce_names = pd.Series(['Apple', 'Banana', 'Carrot', 'Date', 'Eggplant'], \n",
    "                          name=\"Name\")\n",
    "quantities = pd.Series(list(range(50, 251, 50)), \n",
    "                       name=\"Qty\")\n",
    "prices = pd.Series(list(round(random.uniform(0.1, 3.0,),2) for _ in range(5)), \n",
    "                   name=\"Price\")\n",
    "\n",
    "# Create Produce DataFrame\n",
    "\n",
    "\n",
    "\n",
    "\n",
    "# Output Data Frame\n"
   ]
  },
  {
   "cell_type": "markdown",
   "id": "90f045a9-6470-4331-b775-cb17486681de",
   "metadata": {},
   "source": [
    "In the example, `pd.concat()` is used to combine these three Series column-wise (axis=1) into the DataFrame."
   ]
  },
  {
   "cell_type": "markdown",
   "id": "b1d1bf42-d15b-4909-a257-5871c4c38f87",
   "metadata": {},
   "source": [
    "### More DataFrame Creation Techniques\n",
    "\n",
    "Beyond dictionaries, you can create Pandas DataFrames in several other ways:\n",
    "\n",
    "* __From Series__: Combining one or more Series.\n",
    "* __From Files__: Reading CSV, Excel, and other formats.\n",
    "* __From APIs__: Retrieving data from web sources."
   ]
  },
  {
   "cell_type": "markdown",
   "id": "13b815bd-6355-4209-8fec-e257b7f5ae66",
   "metadata": {},
   "source": [
    "### Reading Data from Files\n",
    "<center><img src=\"../images/stock/pexels-eva-bronzini-6068493.jpg\" width=\"500\"></center>\n",
    "Pandas provides powerful and convenient functions to import data from various external file formats directly into DataFrames. This section will introduce you to these essential tools for bringing your data into the Pandas environment."
   ]
  },
  {
   "cell_type": "markdown",
   "id": "7b093de3-640a-46b1-aa87-5a79693fdf04",
   "metadata": {},
   "source": [
    "#### Reading CSV Files with pd.read_csv()\n",
    "\n",
    "The `pd.read_csv()` function is your primary tool in Pandas for reading data stored in Comma Separated Values (CSV) files. This function is incredibly versatile and can handle a wide variety of CSV file structures. Let's explore its basic usage."
   ]
  },
  {
   "cell_type": "markdown",
   "id": "548f9262-a5f7-410b-b8c3-13089f874d42",
   "metadata": {},
   "source": [
    "##### Reading CSV files from the Web\n",
    "Pandas makes it incredibly convenient to read CSV files not only from your local computer but also directly from web URLs. This is particularly useful when working with publicly available datasets\n",
    "\n",
    "Here is the general syntax:\n",
    "\n",
    "```python\n",
    "URL = \"YOUR_CSV_FILE_URL_HERE\"\n",
    "df = pd.read_csv(URL)\n",
    "```\n",
    "\n",
    "Explanation:\n",
    "\n",
    "1. We begin by importing the Pandas library as pd.\n",
    "2. You will replace `\"YOUR_CSV_FILE_URL_HERE\"` with the specific web address of the CSV file you want to read. This URL is stored in a variable.\n",
    "3. The `pd.read_csv(URL)` function is then called, which performs the following actions:\n",
    "    1. __Fetches the data__: Pandas sends a request to the URL and retrieves the content of the CSV file.\n",
    "    2. __Parses the data__: It interprets the comma-separated values and organizes them into a tabular structure.\n",
    "    3. __Creates a DataFrame__: The parsed data is automatically loaded into a Pandas DataFrame, which we have named `df` in this example.\n",
    "4. Once the data is in a DataFrame, you can use standard Pandas methods like `df.head()` to see the initial rows and `df.info()` to understand its structure (number of rows, columns, data types, and non-null values).\n",
    "\n",
    "This method streamlines the process of working with online CSV datasets, allowing you to quickly load and begin analyzing data directly from the web."
   ]
  },
  {
   "cell_type": "markdown",
   "id": "f4a4621f-cea6-4cdd-8b53-48fdf33f0304",
   "metadata": {},
   "source": [
    "#### Example: Reading Nike BikeTown Data from a URL\n",
    "<center><img src=\"../images/generated/gemini_generated_panda_bike.jpeg\" width=\"400\"></center>\n",
    "Now, let's put this into practice with some publicly available data from Nike BikeTown. We can directly read a CSV file containing trip data using the pd.read_csv() function and the file's web address.\n",
    "\n",
    "\n",
    "Here's the URL for the BikeTown data:\n",
    "\n",
    "```python\n",
    "URL = \"https://s3.amazonaws.com/biketown-tripdata-public/2018_05.csv\"\n",
    "```\n",
    "\n",
    "For more BikeTown data, visit - [BikeTown - System Data](https://biketownpdx.com/system-data)"
   ]
  },
  {
   "cell_type": "markdown",
   "id": "177b92ea-ab12-45d6-b386-59964d34b9cd",
   "metadata": {},
   "source": [
    "##### Importing and Inspecting the Data\n",
    "\n",
    "Given the URL, let's do the following:\n",
    "\n",
    "1. Read the BikeTown data from the provided URL into a DataFrame called `biketown_may`\n",
    "2. Use the `.head()` method to display the first 5 rows of the DataFrame. What information do you think each column represents?"
   ]
  },
  {
   "cell_type": "code",
   "execution_count": null,
   "id": "e535723d-8ab0-4dd6-9266-c9a941b14e53",
   "metadata": {},
   "outputs": [],
   "source": [
    "# Demonstration\n",
    "\n",
    "\n",
    "\n"
   ]
  },
  {
   "cell_type": "markdown",
   "id": "c9cf0cd0-f76d-46cc-bfcc-94821f1e4fd8",
   "metadata": {},
   "source": [
    "3. Use the `.info()` method to get a concise summary of the DataFrame, including data types and non-null values."
   ]
  },
  {
   "cell_type": "code",
   "execution_count": null,
   "id": "dea10433-1623-45e4-9569-f11b320daf89",
   "metadata": {},
   "outputs": [],
   "source": [
    "# Demonstration\n",
    "\n",
    "\n",
    "\n"
   ]
  },
  {
   "cell_type": "markdown",
   "id": "a59dc4f4-d41a-41a8-9597-a32456ab4bf6",
   "metadata": {},
   "source": [
    "4. Use the `.shape` attribute to find the number of rows and columns in the DataFrame."
   ]
  },
  {
   "cell_type": "code",
   "execution_count": null,
   "id": "a28c2680-f468-45af-8fbf-6fcceb507906",
   "metadata": {},
   "outputs": [],
   "source": [
    "# Demonstration\n",
    "\n",
    "\n",
    "\n"
   ]
  },
  {
   "cell_type": "markdown",
   "id": "773b808d-0c5a-4cd1-87d6-6db776722744",
   "metadata": {},
   "source": [
    "##### Selecting and Inspecting Columns\n",
    "\n",
    "1. Select the `StartHub` column and display the first 10 unique values using the `.unique()` method. What are some of the starting bike station names?\n",
    "\n",
    "2. Select the `Distance` column. Calculate and display the minimum and maximum values of the duration column using `.min()` and `.max()`."
   ]
  },
  {
   "cell_type": "code",
   "execution_count": null,
   "id": "a0be1ff2-e0ea-4f95-96ba-41d1321e6a4f",
   "metadata": {},
   "outputs": [],
   "source": [
    "# Demonstration\n",
    "\n",
    "\n",
    "\n",
    "\n",
    "\n",
    "\n",
    "\n",
    "\n"
   ]
  },
  {
   "cell_type": "markdown",
   "id": "8533670a-f78a-4532-a37d-84454b0a47bc",
   "metadata": {},
   "source": [
    "##### Descriptive Statistics\n",
    "\n",
    "* Use the `describe()` method on the `Distance_Miles` column to get summary statistics like mean, standard deviation, min, max, and quartiles. "
   ]
  },
  {
   "cell_type": "code",
   "execution_count": null,
   "id": "08c76fc4-4be3-42de-94b8-3472e0256d7a",
   "metadata": {},
   "outputs": [],
   "source": [
    "# Demonstration\n"
   ]
  },
  {
   "cell_type": "markdown",
   "id": "c654c8ad-c7cf-4a5f-a6ba-20bf439ab041",
   "metadata": {},
   "source": [
    "##### Value Counts\n",
    "\n",
    "* Find the top 5 most frequent starting stations using the `.value_counts()` method on the `StartHub` column.\n",
    "* Find the number of unique `BikeID` values in the DataFrame using `.nunique()`. This tells you how many individual bikes were used in May 2020.\n",
    "* Examine the `PaymentPlan` column using `.value_counts()`. What are the different payment plans and their counts?"
   ]
  },
  {
   "cell_type": "code",
   "execution_count": null,
   "id": "7c83d6c8-c9a9-4ba5-97a6-0ea8085a5113",
   "metadata": {},
   "outputs": [],
   "source": [
    "# Demonstration\n",
    "\n",
    "\n",
    "\n",
    "\n",
    "\n",
    "\n",
    "\n",
    "\n"
   ]
  },
  {
   "cell_type": "markdown",
   "id": "523ba39a-f523-41c4-9d0e-675eaf14226c",
   "metadata": {},
   "source": [
    "#### Beyond CSV: Other File Reading Methods\n",
    "\n",
    "Pandas also provides functions for reading other common file types:\n",
    "\n",
    "* __pd.read_excel()__: For reading data from Excel files (.xlsx, .xls).\n",
    "* __pd.read_json()__: For reading data from JSON (JavaScript Object Notation) files.\n",
    "* __pd.read_table()__: For reading delimited text files (similar to CSV but with customizable delimiters).\n",
    "* __pd.read_parquet()__: For reading data from Parquet files, a columnar storage format.\n",
    "* __pd.read_pickle()__: For reading serialized Python objects.\n",
    "* __pd.read_sql()__: For reading data from SQL databases. "
   ]
  },
  {
   "cell_type": "markdown",
   "id": "15ab3c98-f2ed-4a8d-84b5-c21113befecc",
   "metadata": {},
   "source": [
    "### Reading Data from an API\n",
    "\n",
    "Want to know how Tesla's been performing? Let's grab their stock data from the past year using the Yahoo Finance API and the `yfinance` library. This will give us a DataFrame to analyze.\n",
    "\n",
    "First, we need to install the library:\n",
    "\n",
    "```bash\n",
    "!pip install yfinance\n",
    "```"
   ]
  },
  {
   "cell_type": "code",
   "execution_count": null,
   "id": "3a702808-3334-4932-b5d0-3439f72dc2a6",
   "metadata": {},
   "outputs": [],
   "source": [
    "# Install yfinance \n"
   ]
  },
  {
   "cell_type": "markdown",
   "id": "d8804b0d-be08-489a-af45-2227a6591536",
   "metadata": {},
   "source": [
    "Next, let's import the necessary yfinance library:\n",
    "\n",
    "```python\n",
    "import yfinance as yf\n",
    "```"
   ]
  },
  {
   "cell_type": "code",
   "execution_count": null,
   "id": "323bb6b6-1d4a-4dcb-a110-42bf29cd0e5d",
   "metadata": {},
   "outputs": [],
   "source": [
    "# Import yfinance\n"
   ]
  },
  {
   "cell_type": "markdown",
   "id": "b1509560-c797-40a6-a5cd-c31e17f123d0",
   "metadata": {},
   "source": [
    "#### Import and Inspect the Data\n",
    "\n",
    "Now, we'll use the `yfinance.download()` function to fetch one year of Tesla's stock data.\n",
    "\n",
    "The basic format is:\n",
    "\n",
    "```python\n",
    "yf.download(_tickers_, _period_)\n",
    "```\n",
    "\n",
    "For Tesla, the ticker symbol is `TSLA`, and we want one year of data (`1y`).\n",
    "\n",
    "For more details on the yfinance API, you can check out the official documentation: (The yfinance API Reference)[https://yfinance-python.org/reference/]\n",
    "\n",
    "* Let's get and inspect the data using the `yf.download()` method and `.head()`."
   ]
  },
  {
   "cell_type": "code",
   "execution_count": null,
   "id": "f42d50b2-f1aa-4aba-bf96-d92c8a7eda06",
   "metadata": {},
   "outputs": [],
   "source": [
    "# Demonstration\n",
    "\n",
    "\n",
    "\n"
   ]
  },
  {
   "cell_type": "markdown",
   "id": "b8896455-b0a4-4e62-894b-3080595eba53",
   "metadata": {},
   "source": [
    "#### Examining Key Information Within the DataFrame\n",
    "\n",
    "* From the `tsla_data` DataFrame, show the first ten values in the `Close` column. \n",
    "\n",
    "* Determine and display both the lowest and the highest closing prices recorded in the `tsla_data` DataFrame over the past year.\n",
    "\n",
    "* Using the `.idxmin()` method, find the date on which the lowest closing price occurred. Similarly, using the `.idxmax()` method, find the date on which the highest closing price occurred."
   ]
  },
  {
   "cell_type": "code",
   "execution_count": null,
   "id": "b0a5eab4-1f94-4fee-947e-43622bca50d9",
   "metadata": {},
   "outputs": [],
   "source": [
    "# Demonstration\n"
   ]
  }
 ],
 "metadata": {
  "kernelspec": {
   "display_name": "Python 3 (ipykernel)",
   "language": "python",
   "name": "python3"
  },
  "language_info": {
   "codemirror_mode": {
    "name": "ipython",
    "version": 3
   },
   "file_extension": ".py",
   "mimetype": "text/x-python",
   "name": "python",
   "nbconvert_exporter": "python",
   "pygments_lexer": "ipython3",
   "version": "3.12.5"
  }
 },
 "nbformat": 4,
 "nbformat_minor": 5
}
