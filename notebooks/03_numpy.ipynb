{
 "cells": [
  {
   "cell_type": "markdown",
   "id": "8fc2d4fc-9aac-42a2-804d-2a2d3d58900d",
   "metadata": {
    "editable": false,
    "slideshow": {
     "slide_type": ""
    },
    "tags": []
   },
   "source": [
    "# Numpy Basics\n",
    "<center><img src=\"../images/stock/pexels-waffle-truck.jpg\"  alt=\"Person At a Food Truck\" width=\"300\"></center>\n",
    "\n",
    "NumPy, the Numerical Python library, is very important for working with arrays. "
   ]
  },
  {
   "cell_type": "markdown",
   "id": "d4be5676-f4de-4a90-80dd-f24bdca09f56",
   "metadata": {
    "editable": false,
    "slideshow": {
     "slide_type": ""
    },
    "tags": []
   },
   "source": [
    "## Arrays - Overview\n",
    "Arrays are data structures that hold collections of the same data type. Many Python libraries used for number-based calculations rely on NumPy.\n",
    "\n",
    "Here's what makes NumPy arrays special:\n",
    "\n",
    "* **Core Component:** The NumPy array is the main part of the NumPy library. It's like a grid of elements, all of the same type.\n",
    "* **Indexing:** You find elements in a NumPy array using numbers (non-negative integers).\n",
    "* **Memory and Speed:** NumPy arrays are like Python lists, but they use less memory and are often faster. This is because they use optimized, pre-made C code.\n",
    "* **Element-wise Operations:** NumPy arrays let you do math on whole arrays at once, with simple, easy-to-read code."
   ]
  },
  {
   "cell_type": "markdown",
   "id": "735fbcdc-2731-44f1-8d4f-d4a2b1682084",
   "metadata": {
    "editable": false,
    "slideshow": {
     "slide_type": ""
    },
    "tags": []
   },
   "source": [
    "## Installing NumPy\n",
    "\n",
    "NumPy is a third-party library, meaning it's not included in Python's standard library. \n",
    "\n",
    "The easiest way to install it is with the command:\n",
    "\n",
    "```bash\n",
    "$ pip install NumPy\n",
    "```\n",
    "\n",
    "However, since we're using Jupyter Lab and JupyterHub, NumPy is already installed. Therefore, we only need to import NumPy into our programs.\n",
    "\n",
    "```python\n",
    "import numpy as np\n",
    "```"
   ]
  },
  {
   "cell_type": "code",
   "execution_count": null,
   "id": "31f28934-5ef7-4c55-84b3-39624de4c429",
   "metadata": {
    "editable": true,
    "slideshow": {
     "slide_type": ""
    },
    "tags": []
   },
   "outputs": [],
   "source": [
    "# 👇 Import NumPy 👇\n",
    "import numpy as np"
   ]
  },
  {
   "cell_type": "markdown",
   "id": "a86627d5-2a32-4b41-9e10-6033ca2ca59d",
   "metadata": {
    "editable": false,
    "slideshow": {
     "slide_type": ""
    },
    "tags": []
   },
   "source": [
    "## The NumPy ndarray\n",
    "\n",
    "NumPy's N-dimensional array (ndarray) is a key feature that makes it a powerful tool for data analysis in Python. \n",
    "\n",
    "It offers a fast and flexible structure for managing large datasets, and its ability to apply mathematical operations to entire arrays with scalar-like syntax significantly simplifies and speeds up data manipulation."
   ]
  },
  {
   "cell_type": "markdown",
   "id": "d03c9f22-3794-4508-9acd-01977a3c7134",
   "metadata": {
    "editable": false,
    "slideshow": {
     "slide_type": ""
    },
    "tags": []
   },
   "source": [
    "### Mathematical Operation Preview\n",
    "\n",
    "NumPy excels at batch computations by extending the intuitive syntax of scalar operations to entire arrays. This contrasts with Python's built-in objects, which generally require explicit iteration to achieve similar element-wise results.\n",
    "\n",
    "Let's make an Arbitrary 2-D Array from 2 lists called `data`"
   ]
  },
  {
   "cell_type": "code",
   "execution_count": null,
   "id": "30b6212d-c1f7-48fd-bf69-126b1f912dda",
   "metadata": {
    "editable": true,
    "slideshow": {
     "slide_type": ""
    },
    "tags": []
   },
   "outputs": [],
   "source": [
    "# Arbitrary 2-D Array\n",
    "data = np.array([[2, -1.5, 3],  [0, -16,  7.2]])\n",
    "print(data)\n",
    "\n"
   ]
  },
  {
   "cell_type": "markdown",
   "id": "e82842fa-bda0-426c-8d30-b4db8f2278d2",
   "metadata": {
    "editable": false,
    "slideshow": {
     "slide_type": ""
    },
    "tags": []
   },
   "source": [
    "How do you think we'd go about multiplying each and every element within `data` by the number 10? "
   ]
  },
  {
   "cell_type": "code",
   "execution_count": null,
   "id": "f37c4fd0-8723-467e-9f16-0442b4fb44a1",
   "metadata": {
    "editable": true,
    "slideshow": {
     "slide_type": ""
    },
    "tags": []
   },
   "outputs": [],
   "source": [
    "# Perform Mathematical Operation 🧠\n",
    "data *= 10\n",
    "data\n",
    "\n"
   ]
  },
  {
   "cell_type": "markdown",
   "id": "c711e077-aea7-44c7-aa58-d09f502600d7",
   "metadata": {
    "editable": false,
    "slideshow": {
     "slide_type": ""
    },
    "tags": []
   },
   "source": [
    "It's quite different from how you might handle this with standard Python lists, isn't it? With NumPy, the beauty is that we can often express these kinds of array-wide operations using the same straightforward notation we're already familiar with from basic mathematics."
   ]
  },
  {
   "cell_type": "markdown",
   "id": "c87b048d-05af-4b0d-8cb1-fde4337c18c7",
   "metadata": {
    "editable": false,
    "slideshow": {
     "slide_type": ""
    },
    "tags": []
   },
   "source": [
    "### Efficiency\n",
    "\n",
    "* **Efficiency with Large Arrays:** NumPy is specifically designed for high performance when working with large datasets.\n",
    "\n",
    "* **Contiguous Memory Storage:**\n",
    "    * NumPy stores array data in a single, contiguous block of memory.\n",
    "    * This is unlike Python's built-in objects, where elements can be scattered in memory.\n",
    "\n",
    "* **C-Based Algorithms:**\n",
    "    * NumPy's core algorithms are implemented in the C language.\n",
    "    * These algorithms can operate directly on the contiguous memory block.\n",
    "    * This avoids the overhead of Python's type checking and other interpreter-level operations for each element.\n",
    "\n",
    "* **Reduced Memory Footprint:** NumPy arrays generally consume less memory compared to equivalent Python sequences (like lists) for large numerical datasets.\n",
    "\n",
    "* **Vectorized Operations (No Python Loops):**\n",
    "    * NumPy allows you to perform complex computations on entire arrays at once.\n",
    "    * This eliminates the need for explicit and often slow Python `for` loops.\n",
    "\n",
    "* **Speed Advantage:**\n",
    "    * Due to its C-based algorithms and efficient memory management, NumPy operations are significantly faster than equivalent pure Python code.\n",
    "    * Performance gains can often be in the range of **10 to 100 times faster or more** for large arrays.\n",
    "\n",
    "* **Significant Memory Savings:** Along with speed, NumPy's efficient data storage leads to substantial reductions in memory usage compared to Python lists for numerical data.\n",
    "\n",
    "**In essence:** NumPy's design prioritizes speed and memory efficiency for numerical computations on large arrays, making it an indispensable tool for data science, machine learning, and numerical competitions in Python.\n"
   ]
  },
  {
   "cell_type": "markdown",
   "id": "6b822272-b875-4812-8630-d0f416acfb0e",
   "metadata": {
    "editable": false,
    "slideshow": {
     "slide_type": ""
    },
    "tags": []
   },
   "source": [
    "### Performance Test\n",
    "To truly appreciate the performance benefits we've been discussing, let's put it to the test. \n",
    "\n",
    "We're going to create two data structures, each containing one million integer values: \n",
    "* one as a NumPy array \n",
    "* one as a standard Python list\n",
    "\n",
    "Get ready to see the difference when we perform a simple element-wise operation on both..."
   ]
  },
  {
   "cell_type": "code",
   "execution_count": null,
   "id": "8b15014c-83c4-4037-82e8-28922c6d83ee",
   "metadata": {
    "editable": false,
    "slideshow": {
     "slide_type": ""
    },
    "tags": []
   },
   "outputs": [],
   "source": [
    "# Performance Test\n",
    "numpy_array = np.arange(1_000_000)\n",
    "python_list = list(range(1_000_000))\n",
    "\n",
    "%timeit numpy_array * 2\n",
    "%timeit [x * 2 for x in python_list]"
   ]
  },
  {
   "cell_type": "markdown",
   "id": "f8961b80-4afe-4145-b075-3c51d5c38e99",
   "metadata": {
    "editable": false,
    "slideshow": {
     "slide_type": ""
    },
    "tags": []
   },
   "source": [
    "Expect a dramatic improvement when using NumPy: its algorithms generally outperform pure Python by a factor of 10 to 100 (or more) in speed and require substantially less memory for large array operations."
   ]
  },
  {
   "cell_type": "markdown",
   "id": "6dfab619-01a2-4532-bce0-9c4d75afb3a6",
   "metadata": {
    "editable": false,
    "slideshow": {
     "slide_type": ""
    },
    "tags": []
   },
   "source": [
    "## Creating an ndarray\n",
    "<center><img src=\"../images/stock/pexels-azteca-food-truck.jpg\" width=\"500\" alt=\"Azteca Food Truck\"></center>"
   ]
  },
  {
   "cell_type": "markdown",
   "id": "29f295e6-20de-43ff-a5e6-ace28f8bf64f",
   "metadata": {
    "editable": false,
    "slideshow": {
     "slide_type": ""
    },
    "tags": []
   },
   "source": [
    "### `numpy.array()`\n",
    "\n",
    "Using the `array()` method, you can create a NumPy ndarray from data stored in one or more Python lists. "
   ]
  },
  {
   "cell_type": "markdown",
   "id": "7692252d-c542-4789-aa92-ce3194dd2291",
   "metadata": {
    "editable": false,
    "slideshow": {
     "slide_type": ""
    },
    "tags": []
   },
   "source": [
    "#### Sequence to ndarray\n",
    "\n",
    "When you convert a Python sequence into a NumPy ND array, the result is a brand-new array. \n",
    "\n",
    "Furthermore, if the original list is simple (not nested), this resulting NumPy array will be one-dimensional:"
   ]
  },
  {
   "cell_type": "code",
   "execution_count": null,
   "id": "21d6bd08-d131-4466-96ba-6926e407d867",
   "metadata": {
    "editable": true,
    "slideshow": {
     "slide_type": ""
    },
    "tags": []
   },
   "outputs": [],
   "source": [
    "# List to ndarray\n",
    "\n",
    "# Simple list\n",
    "example_list = list(range(10,110,10))\n",
    "print(f\"Original Python List: {example_list}\\n\" +\n",
    "      f\"Type: {type(example_list)}\\n\\n\")\n",
    "\n",
    "# Convert to NumPy array\n",
    "numpy_array = np.array(example_list)\n",
    "print(f\"Numpy Array: {numpy_array}\")\n",
    "print(f\"Type: {type(numpy_array)}\")\n"
   ]
  },
  {
   "cell_type": "markdown",
   "id": "69bf2eab-ee76-4427-87b6-5f866a248cfc",
   "metadata": {
    "editable": false,
    "slideshow": {
     "slide_type": ""
    },
    "tags": []
   },
   "source": [
    "__The Result is a 1D Array with 1 axis:__\n",
    "\n",
    "* __Axis 0:__ Runs along the array's elements."
   ]
  },
  {
   "cell_type": "markdown",
   "id": "64f42ad3-81ab-4066-a3db-a7a0c4fc03a2",
   "metadata": {
    "editable": false,
    "slideshow": {
     "slide_type": ""
    },
    "tags": []
   },
   "source": [
    "#### `.ndim` and `.shape`\n",
    "\n",
    "__`.ndim` (Number of Dimensions)__: This attribute of a NumPy array tells you the number of axes (dimensions) the array has.\n",
    "\n",
    "* A 1D array (like [1, 2, 3]) has `.ndim` equal to 1.\n",
    "* A 2D array (like [[1, 2], [3, 4]]) has `.ndim` equal to 2.\n",
    "* A 3D array would have `.ndim` equal to 3, and so on.\n",
    "\n",
    "__`.shape`__ (Shape of the Array): This attribute returns a tuple that indicates the size of the array along each dimension.\n",
    "\n",
    "* For a 1D array with 5 elements, `.shape` would be `(5,)`. The trailing comma indicates it's a tuple with one element.\n",
    "* For a 2D array with 3 rows and 4 columns, `.shape` would be `(3, 4)`.\n",
    "* For a 3D array with dimensions 2x3x4, `.shape` would be `(2, 3, 4)`."
   ]
  },
  {
   "cell_type": "markdown",
   "id": "bccde736-6ae7-44f9-94c0-ad9c98d91abc",
   "metadata": {
    "editable": false,
    "slideshow": {
     "slide_type": ""
    },
    "tags": []
   },
   "source": [
    "#### Nested Sequences to ndarray\n",
    "\n",
    "If you provide `np.array()` with a nested Python list where the inner lists have the same length, NumPy will interpret this structure to create a multi-dimensional array. The arrangement of the inner lists becomes the rows (or higher-order dimensions) of the NumPy array."
   ]
  },
  {
   "cell_type": "code",
   "execution_count": null,
   "id": "fd46dc83-55cf-424d-bf97-d2dae2e3825c",
   "metadata": {
    "editable": true,
    "slideshow": {
     "slide_type": ""
    },
    "tags": []
   },
   "outputs": [],
   "source": [
    "# A nested Python list\n",
    "nested_list = [[1, 2, 3], [4, 5, 6], [7, 8, 9]]\n",
    "print(f\"Original Nested Python List:\\n{nested_list}\\n\" +\n",
    "      f\"Type: {type(nested_list)}\\n\\n\")\n",
    "\n",
    "# Convert the nested list to a NumPy ND array\n",
    "numpy_array = np.array(nested_list)\n",
    "print(numpy_array)\n",
    "print(numpy_array.ndim)\n",
    "print(numpy_array.shape)\n",
    "\n",
    "\n",
    "\n",
    "\n",
    "\n",
    "\n",
    "\n"
   ]
  },
  {
   "cell_type": "markdown",
   "id": "ff5b9c40-6c0d-4819-a2b6-4022cadf5c23",
   "metadata": {
    "editable": false,
    "slideshow": {
     "slide_type": ""
    },
    "tags": []
   },
   "source": [
    "The Result is a 2D array with 2 axes:\n",
    "\n",
    "* __Axis 0:__ Runs vertically downward across the array's rows.\n",
    "* __Axis 1:__ Runs horizontally across the array's columns."
   ]
  },
  {
   "cell_type": "markdown",
   "id": "d36d7362-979b-4947-839d-0ce4f45e21dc",
   "metadata": {
    "editable": false,
    "slideshow": {
     "slide_type": ""
    },
    "tags": []
   },
   "source": [
    "### `np.zeros()`, `np.ones()`, `np.empty()`\n",
    "\n",
    "Beyond `np.array()`, NumPy provides several convenient functions for generating new arrays directly. \n",
    "\n",
    "* `np.zeros()` and `np.ones()` allow you to create arrays filled with zeros or ones, respectively\n",
    "* `np.empty()` creates an array without initializing its elements to any specific value, which can be faster in some situations where you intend to fill the array immediately\n",
    "* When using these methods, you specify the desired size or shape (pass a tuple representing the desired shape)."
   ]
  },
  {
   "cell_type": "code",
   "execution_count": null,
   "id": "bbabcdda-3ebc-4aab-95df-5c859e5b53c0",
   "metadata": {
    "editable": true,
    "slideshow": {
     "slide_type": ""
    },
    "tags": []
   },
   "outputs": [],
   "source": [
    "# 1-D array of zeros\n",
    "zeros_1d = np.zeros(5)\n",
    "print(f\"1D array of zeros:\\n{zeros_1d}\")\n",
    "print(f\"Shape: {zeros_1d.shape}\")\n",
    "\n",
    "# 2-D array of ones (3 rows, 4 columns)\n",
    "ones_2d = np.ones((3, 4))\n",
    "print(f\"\\n2D array of ones:\\n{ones_2d}\")\n",
    "print(f\"Shape: {ones_2d.shape}\")\n",
    "\n",
    "# 3-D array of uninitialized values (2 blocks, 3 rows, 2 columns)\n",
    "empty_3d = np.empty((2, 3, 2))\n",
    "print(f\"\\n3D array (uninitialized):\\n{empty_3d}\")\n",
    "print(f\"Shape: {empty_3d.shape}\")"
   ]
  },
  {
   "cell_type": "markdown",
   "id": "89cd8224-f10a-4766-a689-eb7db6365193",
   "metadata": {
    "editable": false,
    "slideshow": {
     "slide_type": ""
    },
    "tags": []
   },
   "source": [
    "## Data Types for ndarrays\n",
    "If you don't specify a data type during array creation, NumPy will automatically infer one from your data. This inferred type is stored in the array's `dtype` attribute.\n",
    "\n",
    "NumPy's **data type (dtype)** is a special object defining the metadata of array elements, instructing NumPy how to interpret memory. \n",
    "\n",
    "This flexibility enables seamless interaction with diverse data sources by directly mapping to underlying binary representations, facilitating efficient data handling and interoperability with low-level languages. \n",
    "\n",
    "Numerical dtypes are named with a base type (like `int` or `float`) followed by the number of bits per element; for instance, Python's 64-bit double-precision float corresponds to NumPy's `float64`."
   ]
  },
  {
   "cell_type": "markdown",
   "id": "c873b825-b4ee-4d06-a0e0-f6f555285655",
   "metadata": {
    "editable": false,
    "slideshow": {
     "slide_type": ""
    },
    "tags": []
   },
   "source": [
    "### Data Type Conversion\n",
    "\n",
    "You can explicitly change or convert the data type of a NumPy array to a different one using the `.astype()` method of the ND array object."
   ]
  },
  {
   "cell_type": "code",
   "execution_count": null,
   "id": "2a0b0724-d3ea-4710-a9f5-2f155189ce88",
   "metadata": {},
   "outputs": [],
   "source": [
    "# Data Type Conversion\n",
    "float_array = np.arange(0.5,10.0)\n",
    "print(f\"Original array: {float_array}, dtype: {float_array.dtype}\")\n",
    "\n",
    "int_array = float_array.astype(int)\n",
    "print(f\"Converted array (to int): {int_array}, dtype: {int_array.dtype}\")\n",
    "\n",
    "float16_array = float_array.astype(np.float16)\n",
    "print(f\"Converted array (to float16): {float16_array}, dtype: {float16_array.dtype}\")"
   ]
  },
  {
   "cell_type": "markdown",
   "id": "93a023d7-ca9e-412f-b419-128393e14c99",
   "metadata": {
    "editable": false,
    "slideshow": {
     "slide_type": ""
    },
    "tags": []
   },
   "source": [
    "### __`numpy.empty()` warning__:\n",
    "\n",
    "Be aware that `numpy.empty()` does not provide a clean slate. \n",
    "\n",
    "It returns an array with uninitialized memory, which can contain unexpected (garbage) values. \n",
    "\n",
    "Only use this function if your next step is to immediately assign values to all elements of the array."
   ]
  },
  {
   "cell_type": "markdown",
   "id": "a8cbd59c-3955-4214-84ca-809fe1049bb0",
   "metadata": {
    "editable": false,
    "slideshow": {
     "slide_type": ""
    },
    "tags": []
   },
   "source": [
    "## Operations on Arrays\n",
    "\n",
    "<center><img src=\"../images/stock/pexels-donut-truck.jpg\" width=\"500\" alt=\"Donut Food Truck\"></center>\n",
    "Consider a list for each food truck at a food hall, containing their revenue over the past three months, you can use the following code to combine all the revenue information into a single NumPy ndarray:"
   ]
  },
  {
   "cell_type": "code",
   "execution_count": null,
   "id": "5dd6d9f8-9d23-4516-a07f-b8b726f7fc99",
   "metadata": {},
   "outputs": [],
   "source": [
    "# Past 3 months of revenue (dollars) for 3 food trucks\n",
    "the_ramen_rover = [25000, 27500, 26000]  \n",
    "taco_time_machine = [32000, 33000, 34000]\n",
    "the_waffle_wagon = [21000, 22000, 23000]\n",
    "\n",
    "# Create a NumPy array to store the revenue data\n",
    "food_truck_revenue = np.array([the_ramen_rover,\n",
    "                              taco_time_machine,\n",
    "                              the_waffle_wagon]\n",
    "                             )"
   ]
  },
  {
   "cell_type": "markdown",
   "id": "4482a2e3-b95e-4f5d-9d0c-98a34dbc2b85",
   "metadata": {
    "editable": false,
    "slideshow": {
     "slide_type": ""
    },
    "tags": []
   },
   "source": [
    "1. We start by importing the NumPy library as np.\n",
    "2. We create three Python lists, each representing the past three months of revenue (dollars) for a specific food truck.\n",
    "    * `the_ramen_rover`: Revenue for \"The Ramen Rover.\"\n",
    "    * `taco_time_machine`: Revenue for \"Taco Time Machine.\"\n",
    "    * `the_waffle_wagon`: Revenue for \"The Waffle Wagon.\"\n",
    "3. We use np.array() to create a NumPy array. We pass a list of lists to np.array(), where each inner list represents the revenue data for one food truck.\n",
    "4. We then output the array:"
   ]
  },
  {
   "cell_type": "code",
   "execution_count": null,
   "id": "48648bff-9cae-404a-bc66-6fe758cc76f4",
   "metadata": {},
   "outputs": [],
   "source": [
    "# Output the Array\n",
    "print(food_truck_revenue)\n",
    "print(food_truck_revenue.ndim)\n",
    "print(food_truck_revenue.shape)\n",
    "\n",
    "\n"
   ]
  },
  {
   "cell_type": "markdown",
   "id": "ac980a60-29d3-48cf-9a16-98df859ea974",
   "metadata": {
    "editable": false,
    "slideshow": {
     "slide_type": ""
    },
    "tags": []
   },
   "source": [
    "### Element-Wise Operations\n",
    "\n",
    "**What is an Element-Wise Operation?**\n",
    "\n",
    "An element-wise operation means that you perform a calculation on corresponding elements of two or more arrays. The result is a new array where each element is the outcome of the calculation performed on the elements at the same position in the original arrays.\n",
    "\n",
    "For example, if you add two arrays together using an element-wise addition, the element at position [i, j] in the resulting array will be the sum of the elements at position [i, j] in the original two arrays.\n",
    "\n",
    "It's straightforward to perform element-wise operations on multiple NumPy arrays that have the same dimensions.\n",
    "\n",
    "Let's say we had arrays of the each food trucks tips, we could add the monthly revenue and tips together for the total revenue:\n"
   ]
  },
  {
   "cell_type": "code",
   "execution_count": null,
   "id": "bbf1647e-3bd7-4ea5-b0d2-c24deb66497e",
   "metadata": {
    "scrolled": true
   },
   "outputs": [],
   "source": [
    "# Tip data (in dollars)\n",
    "the_ramen_rover_tips = [2000, 2500, 2200]\n",
    "taco_time_machine_tips = [3000, 3200, 3500]\n",
    "the_waffle_wagon_tips = [1800, 2000, 2100]\n",
    "\n",
    "# Create NumPy array of tips\n",
    "food_truck_tips = np.array([the_ramen_rover_tips,\n",
    "                            taco_time_machine_tips,\n",
    "                            the_waffle_wagon_tips]\n",
    "                          )\n",
    "print(food_truck_tips)\n",
    "print(food_truck_tips.ndim)\n",
    "print(food_truck_tips.shape)\n",
    "\n",
    "# Perform element-wise addition to get total income\n",
    "total_income = food_truck_revenue + food_truck_tips\n",
    "print(f\"Total Income Array: {total_income}\")\n",
    "print(total_income.ndim)\n",
    "print(total_income.shape)\n",
    "\n",
    "\n",
    "\n"
   ]
  },
  {
   "cell_type": "markdown",
   "id": "dd813629-db94-41f5-9f49-df957d7c47c4",
   "metadata": {
    "editable": false,
    "slideshow": {
     "slide_type": ""
    },
    "tags": []
   },
   "source": [
    "__Explanation__\n",
    "\n",
    "1. We have the `food_truck_revenue` array, as before, containing 3 months of revenue for each food truck.\n",
    "2. We create a new array, that stores 3 months of tip amounts for each food truck.\n",
    "3. We use the `+` operator to perform element-wise addition on the revenue ndarray and the tips ndarray.\n",
    "4. Step 3 creates a new ndarray for the total income, where each element is the sum of the corresponding revenue and tip elements.\n",
    "Output:\n",
    "5. We print total income to show the results."
   ]
  },
  {
   "cell_type": "code",
   "execution_count": null,
   "id": "62c87cce-53a5-4386-b34c-56d0187f9577",
   "metadata": {
    "editable": true,
    "scrolled": true,
    "slideshow": {
     "slide_type": ""
    },
    "tags": []
   },
   "outputs": [],
   "source": [
    "# Output the Total Income\n",
    "\n"
   ]
  },
  {
   "cell_type": "markdown",
   "id": "6269919f-be85-41cd-a479-952916b70e12",
   "metadata": {
    "editable": false,
    "slideshow": {
     "slide_type": ""
    },
    "tags": []
   },
   "source": [
    "As you can see, the addition operation is a single line of code. The resulting dataset is also a NumPy ndarray, where each element is the sum of the corresponding elements from the the other ndarrays."
   ]
  },
  {
   "cell_type": "markdown",
   "id": "0da6476c-6b02-4649-8d23-e2aebcc70318",
   "metadata": {
    "editable": false,
    "slideshow": {
     "slide_type": ""
    },
    "tags": []
   },
   "source": [
    "## Indexing NumPy Arrays\n",
    "NumPy arrays are indexed using square brackets `[]`. You can access individual elements or slices of the array using these brackets."
   ]
  },
  {
   "cell_type": "markdown",
   "id": "dddd0932-b4ce-4e3d-a609-ee264677a830",
   "metadata": {
    "editable": false,
    "slideshow": {
     "slide_type": ""
    },
    "tags": []
   },
   "source": [
    "### Indexing 1D Arrays\n",
    "\n",
    "For a 1D array, you use a single index to access an element. The index starts at 0 for the first element.\n",
    "\n",
    "Given the `food_truck_names` array, print the elements at index `0` and index `4`:"
   ]
  },
  {
   "cell_type": "code",
   "execution_count": null,
   "id": "29284bcd-40e6-4f8f-9364-611e6998377c",
   "metadata": {},
   "outputs": [],
   "source": [
    "food_truck_names = np.array([\n",
    "    \"The Ramen Rover\",\n",
    "    \"Taco Time Machine\",\n",
    "    \"The Waffle Wagon\",\n",
    "    \"Burger Brigade\",\n",
    "    \"Pizza Patrol\",\n",
    "    \"Sweet Street Treats\",\n",
    "    \"Curry Cruiser\",\n",
    "    \"Falafel Fleet\",\n",
    "    \"Noodle Nation\",\n",
    "    \"Donut Dynasty\"\n",
    "])\n",
    "\n",
    "print(f\"Food Truck Location Array:\\n{food_truck_names}\")\n",
    "print(f\"Dimensions: {food_truck_names.ndim}\")\n",
    "print(f\"Shape: {food_truck_names.shape}\")\n",
    "\n",
    "# Ouput the Specified Elements\n",
    "print(food_truck_names[0])\n",
    "print(food_truck_names[4])\n"
   ]
  },
  {
   "cell_type": "markdown",
   "id": "b11ecc8b-e6e1-42a0-b97e-743877c98c18",
   "metadata": {
    "editable": false,
    "slideshow": {
     "slide_type": ""
    },
    "tags": []
   },
   "source": [
    "### Indexing 2D Arrays\n",
    "\n",
    "For a 2D array, you use two indices, separated by a comma, to access an element. The first index refers to the row, and the second index refers to the column.\n",
    "\n",
    "Given the `food_truck_locations` array below, output the elements located at (Row 0, Column 0) and (Row 2, Column 1):"
   ]
  },
  {
   "cell_type": "code",
   "execution_count": null,
   "id": "7c7e7ccf-7877-4cd0-865a-57c08e61feb3",
   "metadata": {},
   "outputs": [],
   "source": [
    "food_truck_locations = np.array([\n",
    "    [\"Downtown Portland\", \"Food Cart Pod NW 23rd\", \"Waterfront Park\"],\n",
    "    [\"SE Division Street\", \"Pearl District\", \"Alberta Arts District\"],\n",
    "    [\"Beaverton Farmers Market\", \"PSU Campus\", \"Mississippi Avenue\"],\n",
    "])\n",
    "print(f\"Food Truck Location Array:\\n{food_truck_locations}\")\n",
    "print(f\"Dimensions: {food_truck_locations.ndim}\")\n",
    "print(f\"Shape: {food_truck_locations.shape}\")\n",
    "\n",
    "# Output the Requested Elements\n",
    "print(food_truck_locations[0,0])\n",
    "print(food_truck_locations[2,1])\n",
    "\n",
    "\n",
    "\n"
   ]
  },
  {
   "attachments": {},
   "cell_type": "markdown",
   "id": "ecf38080-1ebd-4959-b3e8-6176de42f88f",
   "metadata": {
    "editable": false,
    "slideshow": {
     "slide_type": ""
    },
    "tags": []
   },
   "source": [
    "## Slicing NumPy Arrays\n",
    "\n",
    "You can also use slicing to access a portion of an array. Slicing uses the colon `:` to specify a range of indices.\n",
    "\n",
    "Explanation of Slicing:\n",
    "\n",
    "* __`[start:end]`__ - elements from start index to end index - 1.\n",
    "* __`[start:]`__ - elements from start index to the end.\n",
    "* __`[:end]`__ - elements from the beginning to end index - 1.\n",
    "* __`[:]`__ - all elements.\n",
    "* For 2D arrays, you can use slicing for both rows and columns, separated by a comma."
   ]
  },
  {
   "cell_type": "markdown",
   "id": "fef61d9f-1b61-4707-b717-80a58b1976a1",
   "metadata": {
    "editable": false,
    "slideshow": {
     "slide_type": ""
    },
    "tags": []
   },
   "source": [
    "### Slicing 1D Arrays\n",
    "\n",
    "Slicing a one-dimensional NumPy array behaves very much like slicing a standard Python list."
   ]
  },
  {
   "cell_type": "code",
   "execution_count": null,
   "id": "db14ccd2-998f-464c-af22-18f7a253b6cb",
   "metadata": {},
   "outputs": [],
   "source": [
    "# 1D Slicing\n",
    "array_1d = np.arange(20)\n",
    "print(f\"Array: {array_1d}\")\n",
    "print(f\"Dimensions: {array_1d.ndim}\")\n",
    "print(f\"Shape: {array_1d.shape}\")\n",
    "\n",
    "# Basic Slicing ([start:stop])\n",
    "print(array_1d[4:9])\n",
    "# Slicing from Beginning to End ([:stop])\n",
    "print(array_1d[:11])\n",
    "# Slicing to the end ([start:])\n",
    "print(array_1d[7:])\n",
    "# Slicing with a step ([start:stop:step])\n",
    "print(array_1d[2:10:2])\n",
    "\n",
    "\n"
   ]
  },
  {
   "cell_type": "markdown",
   "id": "73f3aced-a841-4bd5-9ffe-40c2783ed86c",
   "metadata": {
    "editable": false,
    "slideshow": {
     "slide_type": ""
    },
    "tags": []
   },
   "source": [
    "### Slicing 2D Arrays\n",
    "\n",
    "Slicing with two-dimensional NumPy arrays extends the one-dimensional slicing concept to both axes (rows and columns). \n",
    "\n",
    "The syntax is `array[row_slice, column_slice]`."
   ]
  },
  {
   "cell_type": "code",
   "execution_count": null,
   "id": "9c2c100a-30b2-45b4-9680-be2458f82e79",
   "metadata": {},
   "outputs": [],
   "source": [
    "# Slicing 2D Array\n",
    "array_2d = np.arange(1, 17).reshape((4, 4))\n",
    "print(f\"Array:\\n{array_2d}\")\n",
    "\n",
    "# Slice a sub-array: rows 0 and 1, columns 1 and 2\n",
    "print(array_2d[0:2, 1:3])\n",
    "# Slice the first two rows and all columns\n",
    "print(array_2d[0:2, :])\n",
    "# Slice the third column and all rows\n",
    "print(array_2d[: , 2])\n",
    "print(array_2d[:, 2:3])\n"
   ]
  },
  {
   "cell_type": "markdown",
   "id": "a0924253-8f61-46b6-b67e-8423f168117e",
   "metadata": {
    "editable": false,
    "slideshow": {
     "slide_type": ""
    },
    "tags": []
   },
   "source": [
    "#### `reshape()`\n",
    "\n",
    "The `reshape()` method in NumPy allows you to change the **shape** (the number of dimensions and the size along each dimension) of an array **without changing its data**. \n",
    "\n",
    "It returns a new array with the specified shape.\n",
    "\n",
    "* The total number of elements in the original array must be the same as the total number of elements in the new shape.\n",
    "* For example, a 4x4 array (16 elements) can be reshaped into an 8x2 array (16 elements) or a 2x8 array (16 elements), but not a 3x5 array (15 elements).\n"
   ]
  },
  {
   "cell_type": "markdown",
   "id": "711f0799-86c6-4429-aa67-1ad1b55c2faa",
   "metadata": {
    "editable": false,
    "slideshow": {
     "slide_type": ""
    },
    "tags": []
   },
   "source": [
    "### Slicing ND Arrays\n",
    "\n",
    "For multi-dimensional arrays, you provide a slice for each axis, separated by commas. "
   ]
  },
  {
   "cell_type": "markdown",
   "id": "fa0ac455-6bb7-4119-a8cd-95e7d5eada9e",
   "metadata": {
    "editable": false,
    "slideshow": {
     "slide_type": ""
    },
    "tags": []
   },
   "source": [
    "### Views in NumPy (Slicing and Reshaping)\n",
    "\n",
    "In NumPy, operations like **slicing** and often **reshaping** do not create independent copies of the array data by default. \n",
    "\n",
    "Instead, they produce **views**. \n",
    "\n",
    "* A view is essentially a different way of looking at the same underlying data buffer. This means that if you modify a view, you are also modifying the original array, and vice versa. \n",
    "\n",
    "* This behavior is designed for memory efficiency, especially when dealing with large datasets, as it avoids unnecessary copying of data. \n",
    "\n",
    "* However, it's crucial to be aware of this behavior to prevent unintended side effects in your code. \n",
    "\n",
    "* If you need an independent copy, explicitly use the `.copy()` method."
   ]
  },
  {
   "cell_type": "code",
   "execution_count": null,
   "id": "ee8eec3c-f34c-462a-a25b-4af0eafb6d76",
   "metadata": {},
   "outputs": [],
   "source": [
    "# Original array\n",
    "original_array = np.arange(6)\n",
    "print(f\"Original Array: {original_array}\")\n",
    "\n",
    "# Creating a slice (a view)\n",
    "slice_view = original_array[1:4]\n",
    "print(f\"Slice View: {slice_view}\")\n",
    "\n",
    "# Modifying the view\n",
    "slice_view[0] = 99\n",
    "print(f\"Modified Slice View: {slice_view}\")\n",
    "\n",
    "# Observing the change in the original array\n",
    "print(f\"Original Array After View Modification: {original_array}\")\n",
    "\n",
    "# Creating a copy explicitly\n",
    "copied_array = original_array[1:4].copy()\n",
    "copied_array[0] = -1\n",
    "print(f\"\\nCopied Array: {copied_array}\")\n",
    "\n",
    "# Original array remains unchanged after modifying the copy\n",
    "print(f\"Original Array After Copy Modification: {original_array}\")"
   ]
  },
  {
   "cell_type": "markdown",
   "id": "d0741e0f-a91e-4b34-9ddd-66714168b44b",
   "metadata": {
    "editable": false,
    "slideshow": {
     "slide_type": ""
    },
    "tags": []
   },
   "source": [
    "## Numpy Statistical Functions\n",
    "\n",
    "NumPy's statistical methods are your tools for understanding array data. You can easily compute the maximum value of the entire array or along specific axes."
   ]
  },
  {
   "cell_type": "markdown",
   "id": "31251d5a-eefe-4e1d-94a9-f7067528042e",
   "metadata": {
    "editable": false,
    "slideshow": {
     "slide_type": ""
    },
    "tags": []
   },
   "source": [
    "### `numpy.max()`\n",
    "\n",
    "You can quickly determine the overall maximum value in an array, or even find the maximum value along a specific row or column (or higher-dimensional axis). Remember the NumPy array we created in the previous section? \n",
    "\n",
    "\n",
    "Let's see how we can find its largest element using the `.max()` method."
   ]
  },
  {
   "cell_type": "code",
   "execution_count": null,
   "id": "1ca0cfde-a8ac-4e4b-b1a4-aa79e8e4804d",
   "metadata": {},
   "outputs": [],
   "source": [
    "# 👇 Use the max method on a previous array\n",
    "maximum_value = original_array.max()\n",
    "minimum_value = original_array.min()\n",
    "mean_value = original_array.mean()\n",
    "\n",
    "print(f\"{maximum_value}, {minimum_value}, {mean_value}\")\n",
    "\n",
    "\n",
    "\n",
    "\n",
    "\n",
    "\n",
    "\n"
   ]
  },
  {
   "cell_type": "markdown",
   "id": "89038844-b1b7-4387-adee-e3d4927ed222",
   "metadata": {
    "editable": false,
    "slideshow": {
     "slide_type": ""
    },
    "tags": []
   },
   "source": [
    "### `numpy.amax()`\n",
    "You can also find the maximum value along a specific direction (axis) of your array using NumPy's `np.amax()` function. \n",
    "\n",
    "For our earlier multi-dimensional array, to find the biggest number in each row, you'd use `np.amax(your_array, axis=1)`. \n",
    "\n",
    "Setting `axis=1` tells NumPy to look horizontally across the columns of each row and find the maximum value there.\n"
   ]
  },
  {
   "cell_type": "code",
   "execution_count": null,
   "id": "44319f42-1d39-4bdf-b579-76eca24b098b",
   "metadata": {},
   "outputs": [],
   "source": [
    "# 👇 Use the amax method on a previous multi-dimensional array\n",
    "\n",
    "\n",
    "\n",
    "\n",
    "\n",
    "\n",
    "\n",
    "\n"
   ]
  },
  {
   "cell_type": "markdown",
   "id": "6fcce366-7841-44a6-92af-b1ba0f3a1af1",
   "metadata": {
    "editable": false,
    "slideshow": {
     "slide_type": ""
    },
    "tags": []
   },
   "source": [
    "#### Other Statistical Methods\n",
    "\n",
    "Here are a few useful statistical methods provided by NumPy:\n",
    "\n",
    "* **`np.mean(array, axis=None)`**: Calculates the arithmetic mean (average) of array elements. You can compute the mean of the entire array (`axis=None`) or along a specific axis (e.g., `axis=0` for columns, `axis=1` for rows).\n",
    "\n",
    "* **`np.median(array, axis=None)`**: Computes the median (the middle value) of array elements. Similar to `np.mean`, you can calculate the median of the whole array or along a specified axis.\n",
    "\n",
    "* **`np.std(array, axis=None)`**: Calculates the standard deviation, a measure of the amount of dispersion or spread of a set of values. You can compute it for the entire array or along an axis.\n",
    "\n",
    "* **`np.min(array, axis=None)`**: Finds the minimum value in an array, similar to `np.max()`. You can find the global minimum or the minimum along a particular axis.\n",
    "\n",
    "* **`np.sum(array, axis=None)`**: Calculates the sum of array elements. You can sum all elements (`axis=None`) or sum along a specific axis.\n",
    "\n",
    "For a comprehensive list and detailed explanations of all of NumPy's statistical functions, you can refer to the official NumPy documentation:\n",
    "\n",
    "[NumPy Statistics](https://numpy.org/doc/stable/reference/routines.statistics.html)"
   ]
  },
  {
   "cell_type": "markdown",
   "id": "c44d1ae1-10b2-4d0b-8fbd-2361b3128bc8",
   "metadata": {
    "editable": false,
    "slideshow": {
     "slide_type": ""
    },
    "tags": []
   },
   "source": [
    "## Conclusion\n",
    "\n",
    "This notebook has provided a foundational introduction to the NumPy library, a cornerstone of numerical computing in Python. We've explored why NumPy is essential, particularly for handling large datasets efficiently.\n",
    "\n",
    "Key takeaways include:\n",
    "\n",
    "* **Efficiency:** NumPy's ND array structure and C-based algorithms offer significant speed and memory advantages over standard Python lists for numerical operations.\n",
    "* **Creating NDArrays:** We learned various ways to create NumPy arrays, including converting Python lists using `np.array()` and generating arrays with specific values using functions like `np.zeros()`, `np.ones()`, and `np.empty()`.\n",
    "* **Data Types (`dtype`):** Understanding NumPy's data types is crucial for controlling memory usage and ensuring compatibility with different data sources. NumPy automatically infers data types but allows for explicit casting with `.astype()`.\n",
    "* **Element-wise Operations:** NumPy enables concise and efficient mathematical operations across entire arrays, mirroring scalar syntax and eliminating the need for explicit Python loops.\n",
    "* **Indexing and Slicing:** NumPy's powerful indexing and slicing capabilities allow for flexible access and manipulation of array subsets, extending beyond the basic indexing of Python sequences.\n",
    "* **NumPy Statistical Functions:** We touched upon NumPy's built-in statistical functions like `np.max()`, `np.amax()`, `np.mean()`, `np.median()`, `np.std()`, `np.min()`, and `np.sum()`, which provide convenient tools for analyzing array data along specific axes or across the entire array.\n",
    "\n",
    "NumPy's capabilities extend far beyond what we've covered here, providing a rich ecosystem for advanced numerical tasks, linear algebra, Fourier analysis, random number generation, and more. This introduction serves as a stepping stone for further exploration and application of NumPy in various scientific and data-intensive domains within Python.\n",
    "\n",
    "For more information on this vast library, check out the [NumPy Documentation](https://numpy.org/doc/stable/)"
   ]
  }
 ],
 "metadata": {
  "kernelspec": {
   "display_name": "Python 3 (ipykernel)",
   "language": "python",
   "name": "python3"
  },
  "language_info": {
   "codemirror_mode": {
    "name": "ipython",
    "version": 3
   },
   "file_extension": ".py",
   "mimetype": "text/x-python",
   "name": "python",
   "nbconvert_exporter": "python",
   "pygments_lexer": "ipython3",
   "version": "3.12.5"
  }
 },
 "nbformat": 4,
 "nbformat_minor": 5
}
