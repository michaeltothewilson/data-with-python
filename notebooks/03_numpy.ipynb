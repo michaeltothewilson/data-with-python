{
 "cells": [
  {
   "cell_type": "markdown",
   "id": "8fc2d4fc-9aac-42a2-804d-2a2d3d58900d",
   "metadata": {},
   "source": [
    "# Numpy Basics\n",
    "<center><img src=\"../images/stock/pexels-waffle-truck.jpg\"  alt=\"Person At a Food Truck\" width=\"300\"></center>\n",
    "\n",
    "NumPy, the Numerical Python library, is very important for working with arrays. "
   ]
  },
  {
   "cell_type": "markdown",
   "id": "d4be5676-f4de-4a90-80dd-f24bdca09f56",
   "metadata": {},
   "source": [
    "## Numpy Arrays\n",
    "Arrays are data structures that hold collections of the same data type. Many Python libraries used for number-based calculations rely on NumPy.\n",
    "\n",
    "Here's what makes NumPy arrays special:\n",
    "\n",
    "* **Core Component:** The NumPy array is the main part of the NumPy library. It's like a grid of elements, all of the same type.\n",
    "* **Indexing:** You find elements in a NumPy array using numbers (non-negative integers).\n",
    "* **Memory and Speed:** NumPy arrays are like Python lists, but they use less memory and are often faster. This is because they use optimized, pre-made C code.\n",
    "* **Element-wise Operations:** NumPy arrays let you do math on whole arrays at once, with simple, easy-to-read code."
   ]
  },
  {
   "cell_type": "markdown",
   "id": "735fbcdc-2731-44f1-8d4f-d4a2b1682084",
   "metadata": {},
   "source": [
    "## Installing NumPy\n",
    "\n",
    "NumPy is a third-party library, meaning it's not included in Python's standard library. \n",
    "\n",
    "The easiest way to install it is with the command:\n",
    "\n",
    "```bash\n",
    "$ pip install NumPy\n",
    "```\n",
    "\n",
    "However, since we're using Jupyter Lab and JupyterHub, NumPy is already installed. Therefore, we only need to import NumPy into our programs."
   ]
  },
  {
   "cell_type": "code",
   "execution_count": 2,
   "id": "31f28934-5ef7-4c55-84b3-39624de4c429",
   "metadata": {},
   "outputs": [],
   "source": [
    "# Import NumPy\n",
    "\n",
    "import numpy as np"
   ]
  },
  {
   "cell_type": "markdown",
   "id": "0d74563b-da75-4718-a12c-82df5f931f78",
   "metadata": {},
   "source": [
    "## Creating a NumPy Array\n",
    "\n",
    "You can create a NumPy array from data stored in one or more Python lists. \n",
    "\n",
    "For example, if you have a list for each food truck at a food hall, containing their revenue over the past three months, you can use the following code to combine all the revenue information into a single NumPy array:"
   ]
  },
  {
   "cell_type": "code",
   "execution_count": 3,
   "id": "5dd6d9f8-9d23-4516-a07f-b8b726f7fc99",
   "metadata": {},
   "outputs": [
    {
     "name": "stdout",
     "output_type": "stream",
     "text": [
      "[[250000 275000 260000]\n",
      " [320000 330000 340000]\n",
      " [210000 220000 230000]]\n"
     ]
    }
   ],
   "source": [
    "# Past 3 months of revenue (dollars) for 3 food trucks\n",
    "the_ramen_rover = [25000, 27500, 26000]  \n",
    "taco_time_machine= [32000, 33000, 34000]\n",
    "the_waffle_wagon = [21000, 22000, 23000]\n",
    "\n",
    "# Create a NumPy array to store the revenue data\n",
    "food_truck_revenue = np.array([\n",
    "    the_ramen_rover,\n",
    "    taco_time_machine,\n",
    "    the_waffle_wagon,\n",
    "])"
   ]
  },
  {
   "cell_type": "markdown",
   "id": "4482a2e3-b95e-4f5d-9d0c-98a34dbc2b85",
   "metadata": {},
   "source": [
    "1. We start by importing the NumPy library as np.\n",
    "2. We create three Python lists, each representing the past three months of revenue (dollars) for a specific food truck.\n",
    "    * `the_ramen_rover`: Revenue for \"The Ramen Rover.\"\n",
    "    * `taco_time_machine`: Revenue for \"Taco Time Machine.\"\n",
    "    * `the_waffle_wagon`: Revenue for \"The Waffle Wagon.\"\n",
    "3. We use np.array() to create a NumPy array called food_truck_revenue. We pass a list of lists to np.array(), where each inner list represents the revenue data for one food truck.\n",
    "4. We then output the array:"
   ]
  },
  {
   "cell_type": "code",
   "execution_count": null,
   "id": "48648bff-9cae-404a-bc66-6fe758cc76f4",
   "metadata": {},
   "outputs": [],
   "source": [
    "print(food_truck_revenue)"
   ]
  },
  {
   "cell_type": "markdown",
   "id": "ff5b9c40-6c0d-4819-a2b6-4022cadf5c23",
   "metadata": {},
   "source": [
    "This is a 2D array, meaning it has two axes. These axes are indexed by integers, starting with zero.\n",
    "\n",
    "* __Axis 0:__ Runs vertically downward across the array's rows.\n",
    "* __Axis 1:__ Runs horizontally across the array's columns."
   ]
  },
  {
   "cell_type": "markdown",
   "id": "ac980a60-29d3-48cf-9a16-98df859ea974",
   "metadata": {},
   "source": [
    "## Element-Wise Operations\n",
    "\n",
    "**What is an Element-Wise Operation?**\n",
    "\n",
    "An element-wise operation means that you perform a calculation on corresponding elements of two or more arrays. The result is a new array where each element is the outcome of the calculation performed on the elements at the same position in the original arrays.\n",
    "\n",
    "For example, if you add two arrays together using an element-wise addition, the element at position [i, j] in the resulting array will be the sum of the elements at position [i, j] in the original two arrays.\n",
    "\n",
    "It's straightforward to perform element-wise operations on multiple NumPy arrays that have the same dimensions.\n",
    "\n",
    "Let's say we had arrays of the each food trucks tips, we could add the monthly revenue and tips together for the total revenue:\n"
   ]
  },
  {
   "cell_type": "code",
   "execution_count": null,
   "id": "bbf1647e-3bd7-4ea5-b0d2-c24deb66497e",
   "metadata": {
    "scrolled": true
   },
   "outputs": [],
   "source": [
    "# Tip data (in dollars)\n",
    "the_ramen_rover_tips = [2000, 2500, 2200]\n",
    "taco_time_machine_tips = [3000, 3200, 3500]\n",
    "the_waffle_wagon_tips = [1800, 2000, 2100]\n",
    "\n",
    "# Create NumPy Arrays\n",
    "food_truck_tips = np.array([\n",
    "    the_ramen_rover_tips,\n",
    "    taco_time_machine_tips,\n",
    "    the_waffle_wagon_tips,\n",
    "])\n",
    "\n",
    "# Perform element-wise addition to get total income\n",
    "food_truck_total_income = food_truck_revenue + food_truck_tips"
   ]
  },
  {
   "cell_type": "markdown",
   "id": "dd813629-db94-41f5-9f49-df957d7c47c4",
   "metadata": {},
   "source": [
    "__Explanation__\n",
    "\n",
    "1. We have the `food_truck_revenue` array, as before, containing 3 months of revenue for each food truck.\n",
    "2. We create a new array, `food_truck_tips`, that stores 3 months of tip amounts for each food truck.\n",
    "3. We use the `+` operator to perform element-wise addition on `food_truck_revenue` and `food_truck_tips`.\n",
    "4. Step 3 creates a new array, `food_truck_total_income`, where each element is the sum of the corresponding revenue and tip elements.\n",
    "Output:\n",
    "5. We print `food_truck_total_income` to show the results."
   ]
  },
  {
   "cell_type": "code",
   "execution_count": null,
   "id": "62c87cce-53a5-4386-b34c-56d0187f9577",
   "metadata": {
    "scrolled": true
   },
   "outputs": [
    {
     "name": "stdout",
     "output_type": "stream",
     "text": [
      "Food Truck Total Income:\n",
      "[[252000 277500 262200]\n",
      " [323000 333200 343500]\n",
      " [211800 222000 232100]]\n"
     ]
    }
   ],
   "source": [
    "# Output the Total Income\n",
    "print(f\"Food Truck Total Income:\\n{food_truck_total_income}\")"
   ]
  },
  {
   "cell_type": "markdown",
   "id": "6269919f-be85-41cd-a479-952916b70e12",
   "metadata": {},
   "source": [
    "As you can see, the addition operation is a single line of code. The resulting dataset, `food_truck_total_income`, is also a NumPy array, where each element is the sum of the corresponding elements from the `food_truck_revenue` and `food_truck_tips`."
   ]
  },
  {
   "cell_type": "markdown",
   "id": "89cd8224-f10a-4766-a689-eb7db6365193",
   "metadata": {
    "jp-MarkdownHeadingCollapsed": true
   },
   "source": [
    "### Data Types for NumPy Arrays"
   ]
  },
  {
   "cell_type": "markdown",
   "id": "0f5073db-3a72-4056-ae91-40c19f3e7466",
   "metadata": {},
   "source": [
    "### Arithmetic with NumPy Arrays"
   ]
  },
  {
   "cell_type": "markdown",
   "id": "0da6476c-6b02-4649-8d23-e2aebcc70318",
   "metadata": {},
   "source": [
    "## Indexing NumPy Arrays\n",
    "NumPy arrays are indexed using square brackets `[]`. You can access individual elements or slices of the array using these brackets."
   ]
  },
  {
   "cell_type": "markdown",
   "id": "dddd0932-b4ce-4e3d-a609-ee264677a830",
   "metadata": {},
   "source": [
    "### Indexing 1D Arrays\n",
    "\n",
    "For a 1D array, you use a single index to access an element. The index starts at 0 for the first element."
   ]
  },
  {
   "cell_type": "code",
   "execution_count": 12,
   "id": "29284bcd-40e6-4f8f-9364-611e6998377c",
   "metadata": {},
   "outputs": [
    {
     "name": "stdout",
     "output_type": "stream",
     "text": [
      "1D Array - Element at Index 0: The Ramen Rover\n",
      "1D Array - Element at Index 2: The Waffle Wagon\n"
     ]
    }
   ],
   "source": [
    "food_truck_names = np.array([\n",
    "    \"The Ramen Rover\",\n",
    "    \"Taco Time Machine\",\n",
    "    \"The Waffle Wagon\",\n",
    "    \"Burger Brigade\",\n",
    "    \"Pizza Patrol\",\n",
    "    \"Sweet Street Treats\",\n",
    "    \"Curry Cruiser\",\n",
    "    \"Falafel Fleet\",\n",
    "    \"Noodle Nation\",\n",
    "    \"Donut Dynasty\"\n",
    "])\n",
    "\n",
    "print(f\"1D Array - Element at Index 0: {food_truck_names[0]}\")  \n",
    "print(f\"1D Array - Element at Index 2: {food_truck_names[4]}\")"
   ]
  },
  {
   "cell_type": "markdown",
   "id": "b11ecc8b-e6e1-42a0-b97e-743877c98c18",
   "metadata": {},
   "source": [
    "### Indexing 2D Arrays\n",
    "\n",
    "For a 2D array, you use two indices, separated by a comma, to access an element. The first index refers to the row, and the second index refers to the column."
   ]
  },
  {
   "cell_type": "code",
   "execution_count": 16,
   "id": "7c7e7ccf-7877-4cd0-865a-57c08e61feb3",
   "metadata": {},
   "outputs": [
    {
     "name": "stdout",
     "output_type": "stream",
     "text": [
      "Row 0 Column 2: Waterfront Park\n",
      "Row 2 Column 1: PSU Campus\n"
     ]
    }
   ],
   "source": [
    "array_2d = np.array([[1, 2, 3], [4, 5, 6], [7, 8, 9]])\n",
    "\n",
    "food_truck_locations = np.array([\n",
    "    [\"Downtown Portland\", \"Food Cart Pod NW 23rd\", \"Waterfront Park\"],\n",
    "    [\"SE Division Street\", \"Pearl District\", \"Alberta Arts District\"],\n",
    "    [\"Beaverton Farmers Market\", \"PSU Campus\", \"Mississippi Avenue\"],\n",
    "])\n",
    "\n",
    "print(f\"Row 0 Column 0: {food_truck_locations[0, 0]}\")\n",
    "print(f\"Row 2 Column 1: {food_truck_locations[2, 1]}\")"
   ]
  },
  {
   "cell_type": "markdown",
   "id": "bfda5561-b562-4b43-b06d-9fd498e5e506",
   "metadata": {},
   "source": [
    "## Slicing NumPy Arrays\n",
    "\n",
    "You can also use slicing to access a portion of an array. Slicing uses the colon `: to specify a range of indices."
   ]
  },
  {
   "cell_type": "code",
   "execution_count": null,
   "id": "db14ccd2-998f-464c-af22-18f7a253b6cb",
   "metadata": {},
   "outputs": [],
   "source": [
    "print(array_1d[1:4])\n",
    "print(my_array_2d[0:2, 1:3])"
   ]
  },
  {
   "cell_type": "markdown",
   "id": "9ced25ee-471a-4d95-b04f-3e9dfd695f4f",
   "metadata": {},
   "source": [
    "Explanation of Slicing\n",
    "\n",
    "* __`[start:end]`__ - elements from start index to end index - 1.\n",
    "* __`[start:]`__ - elements from start index to the end.\n",
    "* __`[:end]`__ - elements from the beginning to end index - 1.\n",
    "* __`[:]`__ - all elements.\n",
    "* For 2D arrays, you can use slicing for both rows and columns, separated by a comma."
   ]
  },
  {
   "cell_type": "markdown",
   "id": "0ccdc8cf-22fe-45b2-ad61-228d66f5a9e7",
   "metadata": {},
   "source": [
    "### Fancy Indexing"
   ]
  },
  {
   "cell_type": "markdown",
   "id": "fb55fea3-9f94-45bb-8740-c24a5402e290",
   "metadata": {},
   "source": [
    "## Pseudorandom Number Generation"
   ]
  },
  {
   "cell_type": "markdown",
   "id": "c185bb6a-4ceb-465e-8267-2d48b27534cb",
   "metadata": {},
   "source": [
    "## Universal Functions"
   ]
  }
 ],
 "metadata": {
  "kernelspec": {
   "display_name": "Python 3 (ipykernel)",
   "language": "python",
   "name": "python3"
  },
  "language_info": {
   "codemirror_mode": {
    "name": "ipython",
    "version": 3
   },
   "file_extension": ".py",
   "mimetype": "text/x-python",
   "name": "python",
   "nbconvert_exporter": "python",
   "pygments_lexer": "ipython3",
   "version": "3.12.5"
  }
 },
 "nbformat": 4,
 "nbformat_minor": 5
}
