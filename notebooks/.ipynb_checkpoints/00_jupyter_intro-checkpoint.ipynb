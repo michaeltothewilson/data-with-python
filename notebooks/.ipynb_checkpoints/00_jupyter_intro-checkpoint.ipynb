{
 "cells": [
  {
   "cell_type": "markdown",
   "id": "26e57531-a493-4219-89af-b4708e1096b0",
   "metadata": {},
   "source": [
    "# Jupyter Notebook Document\n",
    "\n",
    "## Literate Analysis in Jupyter Notebook\n",
    "Literate analysis, as implemented in Jupyter Notebooks, integrates code, documentation, explanations, specifications, and interpretations into a single, cohesive document. This creates a narrative that clearly outlines the entire analysis process.\n",
    "\n",
    "Unlike traditional scripts, where code dominates and explanations are relegated to comments, Jupyter Notebooks use __cells__. This allows for a structured mix of code and rich text, making the analysis easier to follow and understand.\n",
    "\n",
    "__Jupyter Notebook cells fall into 3 categories:__\n",
    "* Markdown cells for formatted text\n",
    "* Code cells for executable code\n",
    "* Raw cells for unformatted text\n",
    "\n",
    "## Code Cells\n",
    "Code cells display both the code and its output. Execute a cell with `shift` + `return` or use the `▶️` button in the toolbar."
   ]
  },
  {
   "cell_type": "code",
   "execution_count": 4,
   "id": "f2a4ba42-14b2-433a-af68-a435e2c37b6c",
   "metadata": {},
   "outputs": [
    {
     "name": "stdout",
     "output_type": "stream",
     "text": [
      "Welcome to Data with Python: Week 1\n"
     ]
    }
   ],
   "source": [
    "print(\"Welcome to Data with Python: Week 1\")"
   ]
  },
  {
   "cell_type": "code",
   "execution_count": 3,
   "id": "20ff2900-bc5a-4815-bc2a-05f8fb2012fa",
   "metadata": {},
   "outputs": [
    {
     "data": {
      "text/plain": [
       "4"
      ]
     },
     "execution_count": 3,
     "metadata": {},
     "output_type": "execute_result"
    }
   ],
   "source": [
    "2 + 2"
   ]
  },
  {
   "cell_type": "code",
   "execution_count": 2,
   "id": "b327cef3-8e21-4517-9a36-c407739f4603",
   "metadata": {},
   "outputs": [
    {
     "data": {
      "text/plain": [
       "25"
      ]
     },
     "execution_count": 2,
     "metadata": {},
     "output_type": "execute_result"
    }
   ],
   "source": [
    "x = 5\n",
    "\n",
    "x ** 2"
   ]
  },
  {
   "cell_type": "markdown",
   "id": "3ce25617-0525-4cb2-b94d-6aa8579c0a99",
   "metadata": {},
   "source": [
    "## Markdown Cells\n",
    "Markdown cells enable rich text formatting using Markdown and HTML5. Here are some examples:\n",
    "\n",
    "* _italics_\n",
    "* __bold__\n",
    "* `code`\n",
    "* [links](https://pdx.edu)\n",
    "* Inline Latex equations: $E = mc^{2}$"
   ]
  },
  {
   "cell_type": "markdown",
   "id": "97e5a947-5c8f-49a4-9929-cca5f4bba78d",
   "metadata": {},
   "source": [
    "## Raw Cells\n",
    "Raw cells display their content exactly as it is entered--without any formatting. For example, the raw cell below show the raw Markdown code from the cell above:"
   ]
  },
  {
   "cell_type": "raw",
   "id": "1cf03700-331b-4ecf-8d3b-e0d185b1d403",
   "metadata": {},
   "source": [
    "Raw cells display their content exactly as it is entered--without any formatting. For example, the raw cell below show the raw Markdown code from the cell above:\n",
    "\n",
    "* _italics_\n",
    "* __bold__\n",
    "* `code`\n",
    "* [links](https://pdx.edu)\n",
    "* Inline Latex equations: $E = mc^{2}$"
   ]
  },
  {
   "cell_type": "markdown",
   "id": "82a29ac7-221d-488c-b30f-7a5848060322",
   "metadata": {},
   "source": [
    "## Hierarchical Organization\n",
    "Markdown lets your structure your documents with up to six levels of headers. Use hash symbols (`#`) to create headers. The number of hash symbols corresponds to the header level, with an increased number indicating a deeper level within the document's structure.\n",
    "\n",
    "The Table of Contents on the left displays a navigable outline of the document, generated from the headers, for quick navigation.\n",
    "\n",
    "```markdown\n",
    "# H1 heading (top level header)\n",
    "## H2\n",
    "### H3\n",
    "#### H4\n",
    "##### H5\n",
    "###### H6 (deepest level header)\n",
    "```"
   ]
  },
  {
   "cell_type": "markdown",
   "id": "d2ad5529-1118-44e3-b369-aeec01ec93aa",
   "metadata": {
    "jp-MarkdownHeadingCollapsed": true
   },
   "source": [
    "## Heading Anchors\n",
    "You can also create links\n",
    "[Code Cells](#Code-Cells)\n",
    "\n",
    "`[Code Cells](#Code-Cells)`"
   ]
  },
  {
   "cell_type": "markdown",
   "id": "4edaa776-f074-4f25-a831-a6da858762bc",
   "metadata": {},
   "source": [
    "# Jupyter Interface\n",
    "\n",
    "## Panels\n",
    "1. File browser\n",
    "2. Active kernel list\n",
    "3. Table of contents\n",
    "4. Extensions\n",
    "5. Inspector\n",
    "6. Debug\n",
    "\n",
    "## Menus\n",
    "* View > Activate Command Palette\n",
    "* Edit > Split/ Merge Cells\n",
    "\n",
    "## Documents\n",
    "1. Notebooks\n",
    "2. Consoles\n",
    "3. Terminals\n",
    "\n",
    "## Editing Notebooks"
   ]
  }
 ],
 "metadata": {
  "kernelspec": {
   "display_name": "Python 3 (ipykernel)",
   "language": "python",
   "name": "python3"
  },
  "language_info": {
   "codemirror_mode": {
    "name": "ipython",
    "version": 3
   },
   "file_extension": ".py",
   "mimetype": "text/x-python",
   "name": "python",
   "nbconvert_exporter": "python",
   "pygments_lexer": "ipython3",
   "version": "3.12.5"
  }
 },
 "nbformat": 4,
 "nbformat_minor": 5
}
