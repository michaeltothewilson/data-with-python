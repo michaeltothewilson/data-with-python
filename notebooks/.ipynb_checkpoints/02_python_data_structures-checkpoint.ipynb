{
 "cells": [
  {
   "cell_type": "markdown",
   "id": "9b4f7f9b-fb3f-41af-8807-798bcb0cc4d5",
   "metadata": {},
   "source": [
    "# Data Structures and Sequences"
   ]
  },
  {
   "cell_type": "markdown",
   "id": "8e2823a0-d7b5-40af-8128-0b223feac3ec",
   "metadata": {},
   "source": [
    "## Tuples\n",
    "\n",
    "### Unpacking Tuples\n",
    "\n",
    "### Tuple Methods"
   ]
  },
  {
   "cell_type": "markdown",
   "id": "83709b60-7051-4ec1-bd8e-b858e2bbed32",
   "metadata": {},
   "source": [
    "## Lists\n",
    "\n",
    "\n",
    "### Adding and Removing Elements\n",
    "\n",
    "### Concatenating and Combining Lists\n",
    "\n",
    "### Sorting\n",
    "\n",
    "### Slicing"
   ]
  },
  {
   "cell_type": "markdown",
   "id": "eb8099ea-c36e-4ba0-9ed2-e1c35a33a8b6",
   "metadata": {},
   "source": [
    "## Dictionary\n",
    "\n",
    "### Creating Dictionaries from Sequences\n",
    "\n",
    "### Default Values\n",
    "\n",
    "### Valid Dictionary Key Types"
   ]
  },
  {
   "cell_type": "markdown",
   "id": "a7bbe393-90d0-4e2f-9e05-36030504d03f",
   "metadata": {},
   "source": [
    "## Sets\n"
   ]
  },
  {
   "cell_type": "markdown",
   "id": "0ce8a97e-28fd-4af1-b5c4-df6af9b980a4",
   "metadata": {},
   "source": [
    "## Built-In Sequence Functions\n",
    "\n",
    "### Enumerate\n",
    "\n",
    "### Sorted\n",
    "\n",
    "### Zip\n",
    "\n",
    "### Reversed"
   ]
  },
  {
   "cell_type": "markdown",
   "id": "ba48c021-e8a9-41b7-8db5-4e25dcf7396b",
   "metadata": {},
   "source": [
    "## List, Set, and Dictionary Comprehensions\n",
    "\n",
    "### Nested List Comprehensions"
   ]
  },
  {
   "cell_type": "markdown",
   "id": "f4cfc8d5-7f4e-456b-b189-10032336c746",
   "metadata": {},
   "source": [
    "## Functions\n"
   ]
  }
 ],
 "metadata": {
  "kernelspec": {
   "display_name": "Python 3 (ipykernel)",
   "language": "python",
   "name": "python3"
  },
  "language_info": {
   "codemirror_mode": {
    "name": "ipython",
    "version": 3
   },
   "file_extension": ".py",
   "mimetype": "text/x-python",
   "name": "python",
   "nbconvert_exporter": "python",
   "pygments_lexer": "ipython3",
   "version": "3.12.5"
  }
 },
 "nbformat": 4,
 "nbformat_minor": 5
}
