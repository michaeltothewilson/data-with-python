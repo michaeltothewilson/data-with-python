{
 "cells": [
  {
   "cell_type": "markdown",
   "id": "d6c0540b-2582-432d-b4be-85cfd0bde345",
   "metadata": {},
   "source": [
    "# pandas\n",
    "![img](../images/stock/pexels-googledeepmind-25626428.jpg)\n",
    "\n",
    "pandas offers powerful data structures and manipulation tools that simplify data cleaning and analysis in Python. \n",
    "\n",
    "It's frequently used alongside NumPy for numerical operations, SciPy and statsmodels for statistical analysis, and Matplotlib for data visualization. \n",
    "\n",
    "pandas adopts NumPy's array-oriented computing paradigm, prioritizing array functions and avoiding explicit loops for data processing.\n"
   ]
  },
  {
   "cell_type": "markdown",
   "id": "146299c5-4f98-4bc8-9898-a49bfce09cc9",
   "metadata": {},
   "source": [
    "## pandas Data Structures"
   ]
  },
  {
   "cell_type": "markdown",
   "id": "365c4c70-514e-42d9-9b70-e8ba641a97dd",
   "metadata": {},
   "source": [
    "### Series"
   ]
  },
  {
   "cell_type": "markdown",
   "id": "435260b6-048e-417d-ba0d-a84066ac0306",
   "metadata": {},
   "source": [
    "### DataFrame"
   ]
  },
  {
   "cell_type": "markdown",
   "id": "292b4936-5178-4500-af84-83bb342e3014",
   "metadata": {},
   "source": [
    "### Index Objects"
   ]
  },
  {
   "cell_type": "markdown",
   "id": "57e53f3a-cbb4-496c-b55a-6456cb5489c0",
   "metadata": {},
   "source": [
    "## Essential Functionality"
   ]
  },
  {
   "cell_type": "markdown",
   "id": "ccce88af-5146-4d73-97ca-5a4fdde2b101",
   "metadata": {},
   "source": [
    "### Reindexing"
   ]
  },
  {
   "cell_type": "markdown",
   "id": "d45e1ad3-8e31-44fc-99f3-24c6c592b23c",
   "metadata": {},
   "source": [
    "### Dropping Entries from an Axis"
   ]
  },
  {
   "cell_type": "markdown",
   "id": "cbc7c2c9-be98-4bcb-baba-2616df15ec6a",
   "metadata": {},
   "source": [
    "### Indexing, Selection, and Filtering"
   ]
  },
  {
   "cell_type": "markdown",
   "id": "16803731-9aa1-42f9-b4f9-f5258cfa9916",
   "metadata": {},
   "source": [
    "### Arithmetic and Data Alignment"
   ]
  },
  {
   "cell_type": "markdown",
   "id": "4b0247ff-b6e7-41c0-a045-d5e0ad283162",
   "metadata": {},
   "source": [
    "### Function Application and Mapping"
   ]
  },
  {
   "cell_type": "markdown",
   "id": "a54ea65c-9ab4-4cfb-b789-cefe7a7cc69e",
   "metadata": {},
   "source": [
    "### Sorting and Ranking"
   ]
  }
 ],
 "metadata": {
  "kernelspec": {
   "display_name": "Python 3 (ipykernel)",
   "language": "python",
   "name": "python3"
  },
  "language_info": {
   "codemirror_mode": {
    "name": "ipython",
    "version": 3
   },
   "file_extension": ".py",
   "mimetype": "text/x-python",
   "name": "python",
   "nbconvert_exporter": "python",
   "pygments_lexer": "ipython3",
   "version": "3.12.5"
  }
 },
 "nbformat": 4,
 "nbformat_minor": 5
}
