{
 "cells": [
  {
   "cell_type": "markdown",
   "id": "de5130ee-0b3c-4509-88f1-25901f05db59",
   "metadata": {},
   "source": [
    "# Numpy Basics\n",
    "![img](../images/stock/pexels-googledeepmind-25630344.jpg)\n",
    "\n",
    "NumPy (Numerical Python) is a core library for numerical computations in Python. Its array objects are widely adopted as a common data exchange format by numerous scientific computing packages.\n",
    "\n",
    "NumPy offers a comprehensive set of tools for numerical computing, including:\n",
    "\n",
    "* An efficient, multi-dimensional array object enabling fast array-oriented arithmetic and flexible broadcasting.\n",
    "* Mathematical functions for rapid element-wise operations on arrays.\n",
    "* Tools for reading and writing array data to disk and working with memory-mapped files.\n",
    "* Linear algebra, random number generation, and Fourier transform capabilities.\n",
    "* A C API for integrating NumPy with libraries written in C, C++, or Fortran."
   ]
  },
  {
   "cell_type": "markdown",
   "id": "6bd07bc3-0863-4da4-8eb1-79c88e38a658",
   "metadata": {},
   "source": [
    "## NumPy Array\n",
    "\n",
    "A key part of NumPy is its multi-dimensional array, which is a fast and able way to hold large groups of data. This array lets you do math on all the data at once, using ways that are like working with single numbers.\n",
    "\n"
   ]
  },
  {
   "cell_type": "code",
   "execution_count": 1,
   "id": "5dd6d9f8-9d23-4516-a07f-b8b726f7fc99",
   "metadata": {
    "scrolled": true
   },
   "outputs": [
    {
     "name": "stdout",
     "output_type": "stream",
     "text": [
      "The history saving thread hit an unexpected error (OperationalError('attempt to write a readonly database')).History will not be written to the database.\n",
      "[[ 1.5 -0.1  3. ]\n",
      " [ 0.  -3.   6.5]]\n",
      "[[ 15.  -1.  30.]\n",
      " [  0. -30.  65.]]\n"
     ]
    }
   ],
   "source": [
    "import numpy as np\n",
    "\n",
    "data = np.array([[1.5, -0.1, 3], [0, -3, 6.5]])\n",
    "\n",
    "print(data)\n",
    "\n",
    "print(data * 10)"
   ]
  },
  {
   "cell_type": "markdown",
   "id": "4482a2e3-b95e-4f5d-9d0c-98a34dbc2b85",
   "metadata": {},
   "source": [
    "### Creating NumPy Arrays"
   ]
  },
  {
   "cell_type": "markdown",
   "id": "89cd8224-f10a-4766-a689-eb7db6365193",
   "metadata": {},
   "source": [
    "### Data Types for NumPy Arrays"
   ]
  },
  {
   "cell_type": "markdown",
   "id": "0f5073db-3a72-4056-ae91-40c19f3e7466",
   "metadata": {},
   "source": [
    "### Arithmetic with NumPy Arrays"
   ]
  },
  {
   "cell_type": "markdown",
   "id": "b0d8aec0-0130-4605-af2d-4a22f8ac94d1",
   "metadata": {},
   "source": [
    "### Indexing and Slicing"
   ]
  },
  {
   "cell_type": "markdown",
   "id": "0ccdc8cf-22fe-45b2-ad61-228d66f5a9e7",
   "metadata": {},
   "source": [
    "### Fancy Indexing"
   ]
  },
  {
   "cell_type": "markdown",
   "id": "fb55fea3-9f94-45bb-8740-c24a5402e290",
   "metadata": {},
   "source": [
    "## Pseudorandom Number Generation"
   ]
  },
  {
   "cell_type": "markdown",
   "id": "c185bb6a-4ceb-465e-8267-2d48b27534cb",
   "metadata": {},
   "source": [
    "## Universal Functions"
   ]
  }
 ],
 "metadata": {
  "kernelspec": {
   "display_name": "Python 3 (ipykernel)",
   "language": "python",
   "name": "python3"
  },
  "language_info": {
   "codemirror_mode": {
    "name": "ipython",
    "version": 3
   },
   "file_extension": ".py",
   "mimetype": "text/x-python",
   "name": "python",
   "nbconvert_exporter": "python",
   "pygments_lexer": "ipython3",
   "version": "3.12.5"
  }
 },
 "nbformat": 4,
 "nbformat_minor": 5
}
