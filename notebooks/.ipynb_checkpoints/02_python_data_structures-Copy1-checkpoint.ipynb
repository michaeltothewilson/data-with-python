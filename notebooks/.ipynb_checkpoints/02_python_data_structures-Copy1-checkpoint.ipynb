{
 "cells": [
  {
   "cell_type": "markdown",
   "id": "9b4f7f9b-fb3f-41af-8807-798bcb0cc4d5",
   "metadata": {},
   "source": [
    "# Data Structures and Sequences\n",
    "\n",
    "![img](../images/stock/pexels-googledeepmind-18069423.jpg)\n",
    "This notebook introduces Python's essential data structures: \n",
    "* tuples\n",
    "* lists\n",
    "* dictionaries\n",
    "* sets \n",
    "\n",
    "These structures organize data in different ways, allowing for efficient storage and manipulation. \n",
    "\n",
    "We'll cover their creation, modification, and common operations, providing a practical foundation for working with data in Python."
   ]
  },
  {
   "cell_type": "markdown",
   "id": "9bfcf41d-efc3-4d74-b089-3381b0fe39a9",
   "metadata": {},
   "source": [
    "## Tuples\n",
    "Tuples are fixed-length, ordered collections of Python objects that are immutable. Once a tuple is created, its elements cannot be modified."
   ]
  },
  {
   "cell_type": "markdown",
   "id": "40b63b51-2710-4df4-8fa7-e044e1e7eea5",
   "metadata": {},
   "source": [
    "### Creating Tuples\n",
    "\n",
    "* Tuples are created using parentheses `()`.\n",
    "* Elements are separated by commas.\n",
    "* Tuples can contain mixed data types."
   ]
  },
  {
   "cell_type": "code",
   "execution_count": 19,
   "id": "d95a8e8d-df77-4c95-8e84-43fd9423665b",
   "metadata": {},
   "outputs": [],
   "source": [
    "# Mixed Data Type Tuple\n",
    "my_tuple = (1, 2, 3, \"hello\", 3.14)"
   ]
  },
  {
   "cell_type": "markdown",
   "id": "a3c5e429-3989-4b56-9a85-95fa47c707d0",
   "metadata": {},
   "source": [
    "* An empty tuple is created using empty parentheses `()`."
   ]
  },
  {
   "cell_type": "code",
   "execution_count": 20,
   "id": "5a4a2c2b-4b50-4dc2-9a2e-9fa7a1a8cda3",
   "metadata": {},
   "outputs": [],
   "source": [
    "# Empty Tuple\n",
    "empty_tuple = ()"
   ]
  },
  {
   "cell_type": "markdown",
   "id": "43607ecd-0e26-420f-802f-04ad2fbd00c3",
   "metadata": {},
   "source": [
    "* A tuple of one element requires a trailing comma, `(element,)`, otherwise python will interpret it as a variable enclosed in parenthesis."
   ]
  },
  {
   "cell_type": "code",
   "execution_count": 21,
   "id": "b9eed07d-9a65-4d19-9483-642fb36b5240",
   "metadata": {},
   "outputs": [],
   "source": [
    "# Single Item Tuple\n",
    "single_item_tuple = (5,)"
   ]
  },
  {
   "cell_type": "markdown",
   "id": "52eb67c4-7515-40d8-91c7-8a92b7315eeb",
   "metadata": {},
   "source": [
    "### Implicit Tuple Creation:\n",
    "\n",
    "* In many cases, Python can infer that you're creating a tuple even without parentheses.\n",
    "* This is particularly common in assignment statements and function returns."
   ]
  },
  {
   "cell_type": "code",
   "execution_count": 22,
   "id": "5701d433-af96-4214-a9df-30706031fe05",
   "metadata": {},
   "outputs": [
    {
     "data": {
      "text/plain": [
       "(4, 5, 6, 'good bye')"
      ]
     },
     "execution_count": 22,
     "metadata": {},
     "output_type": "execute_result"
    }
   ],
   "source": [
    "my_tuple = 4, 5, 6, \"good bye\"\n",
    "my_tuple"
   ]
  },
  {
   "cell_type": "markdown",
   "id": "bbfbfdb8-bbbb-48c4-81d1-ccb04b1855b4",
   "metadata": {},
   "source": [
    "### `tuple()` Function\n",
    "\n",
    "`tuple()` is a built-in Python function used to convert various iterable objects into tuples."
   ]
  },
  {
   "cell_type": "markdown",
   "id": "c1bb772b-b1d8-4e6c-a03f-098c5a4db181",
   "metadata": {},
   "source": [
    "* `Lists` are easily converted to tuples, preserving the order of elements."
   ]
  },
  {
   "cell_type": "code",
   "execution_count": 23,
   "id": "1259a1de-544d-41d6-9993-b4d8aadc3ea9",
   "metadata": {},
   "outputs": [
    {
     "name": "stdout",
     "output_type": "stream",
     "text": [
      "(1, 2, 3, 4, 5)\n"
     ]
    }
   ],
   "source": [
    "# Converting a list to a tuple\n",
    "my_list = [1, 2, 3, 4, 5]\n",
    "my_tuple_from_list = tuple(my_list)\n",
    "print(my_tuple_from_list)"
   ]
  },
  {
   "cell_type": "markdown",
   "id": "cbae496f-48d4-4fed-b2f6-e812fc3790a3",
   "metadata": {},
   "source": [
    "* `Strings` are converted into tuples where each character becomes an element."
   ]
  },
  {
   "cell_type": "code",
   "execution_count": 24,
   "id": "a0dbbb3c-352e-404a-b52d-6562c59df188",
   "metadata": {},
   "outputs": [
    {
     "name": "stdout",
     "output_type": "stream",
     "text": [
      "('h', 'e', 'l', 'l', 'o')\n"
     ]
    }
   ],
   "source": [
    "# Converting a string to a tuple (characters become elements)\n",
    "my_string = \"hello\"\n",
    "my_tuple_from_string = tuple(my_string)\n",
    "print(my_tuple_from_string)"
   ]
  },
  {
   "cell_type": "markdown",
   "id": "a2939f21-8447-4a58-a449-3507d66d6196",
   "metadata": {},
   "source": [
    "* `Range objects`, which generate sequences of numbers, can be converted into tuples."
   ]
  },
  {
   "cell_type": "code",
   "execution_count": 25,
   "id": "f28431bf-c1d5-435c-812c-3539bbdb5724",
   "metadata": {},
   "outputs": [
    {
     "name": "stdout",
     "output_type": "stream",
     "text": [
      "(0, 1, 2, 3, 4)\n"
     ]
    }
   ],
   "source": [
    "# Converting a range object to a tuple\n",
    "my_range = range(5)\n",
    "my_tuple_from_range = tuple(my_range)\n",
    "print(my_tuple_from_range)"
   ]
  },
  {
   "cell_type": "markdown",
   "id": "6cf20958-f460-4545-a9a5-c4f85c08a642",
   "metadata": {},
   "source": [
    "* When `sets` are converted into tuples. The set is unordered, so the order of the tuple will be arbitrary."
   ]
  },
  {
   "cell_type": "code",
   "execution_count": 26,
   "id": "b778d3df-3da0-48ca-b964-569913461bcf",
   "metadata": {},
   "outputs": [
    {
     "name": "stdout",
     "output_type": "stream",
     "text": [
      "(10, 20, 30)\n"
     ]
    }
   ],
   "source": [
    "# Converting a set to a tuple\n",
    "my_set = {10, 20, 30}\n",
    "my_tuple_from_set = tuple(my_set)\n",
    "print(my_tuple_from_set)"
   ]
  },
  {
   "cell_type": "markdown",
   "id": "93623c2c-d2c8-41ad-a3f5-132ee4de54dc",
   "metadata": {},
   "source": [
    "* When converting a `dictionary` to a tuple, only the keys are included as elements."
   ]
  },
  {
   "cell_type": "code",
   "execution_count": 27,
   "id": "52ca7f94-36a5-4111-a52f-575ff5117074",
   "metadata": {},
   "outputs": [
    {
     "name": "stdout",
     "output_type": "stream",
     "text": [
      "('a', 'b', 'c')\n"
     ]
    }
   ],
   "source": [
    "# Converting a dictionary to a tuple (keys become elements)\n",
    "my_dict = {\"a\": 1, \"b\": 2, \"c\": 3}\n",
    "my_tuple_from_dict = tuple(my_dict)\n",
    "print(my_tuple_from_dict)"
   ]
  },
  {
   "cell_type": "markdown",
   "id": "8a34ae99-e789-4eba-a4c1-31d9d1a1b90c",
   "metadata": {},
   "source": [
    "* `Generators` can be converted into tuples. This forces the generator to evaluate, and create all of its elements."
   ]
  },
  {
   "cell_type": "code",
   "execution_count": 28,
   "id": "49031c48-576d-4d3f-b88a-8ef44e295dc9",
   "metadata": {},
   "outputs": [
    {
     "name": "stdout",
     "output_type": "stream",
     "text": [
      "(0, 1, 4, 9, 16)\n"
     ]
    }
   ],
   "source": [
    "#Converting a generator to a tuple.\n",
    "my_generator = (x**2 for x in range(5))\n",
    "my_tuple_from_gen = tuple(my_generator)\n",
    "print(my_tuple_from_gen)"
   ]
  },
  {
   "cell_type": "markdown",
   "id": "4e1c491a-928e-4a2a-9adf-c1713e976773",
   "metadata": {},
   "source": [
    "The `tuple()` function works with any `iterable` object, meaning any object that can be looped over. The resulting tuple is always immutable, regardless of the original object's mutability. "
   ]
  },
  {
   "cell_type": "markdown",
   "id": "c461fc3f-38f2-45ec-ba6e-3c9f7930c14c",
   "metadata": {},
   "source": [
    "### Accessing Elements\n",
    "\n",
    "Elements are accessed using square brackets `[]` and zero-based indexing"
   ]
  },
  {
   "cell_type": "code",
   "execution_count": 29,
   "id": "158b73e2-d2cc-4b34-85f7-1d5c9db23401",
   "metadata": {},
   "outputs": [
    {
     "name": "stdout",
     "output_type": "stream",
     "text": [
      "4\n",
      "good bye\n"
     ]
    }
   ],
   "source": [
    "# Accessing elements\n",
    "print(my_tuple[0])  \n",
    "print(my_tuple[3])"
   ]
  },
  {
   "cell_type": "markdown",
   "id": "d75b2d21-58cd-4e47-b42c-60026dbe3803",
   "metadata": {},
   "source": [
    "### Slicing\n",
    "\n",
    "Slices of tuples can be created using the colon `:` operator"
   ]
  },
  {
   "cell_type": "code",
   "execution_count": 30,
   "id": "0b8db9a4-9ae1-4d93-8fa9-3e7cb1ab9ddd",
   "metadata": {},
   "outputs": [
    {
     "name": "stdout",
     "output_type": "stream",
     "text": [
      "(5, 6, 'good bye')\n"
     ]
    }
   ],
   "source": [
    "# Tuple slicing\n",
    "print(my_tuple[1:4])"
   ]
  },
  {
   "cell_type": "markdown",
   "id": "2e03fdea-2690-442b-802c-9553806412cd",
   "metadata": {},
   "source": [
    "### Tuple Unpacking\n",
    "\n",
    "Tuple elements can be assigned to individual variables"
   ]
  },
  {
   "cell_type": "code",
   "execution_count": 31,
   "id": "4165ad5d-bff4-47fd-9112-2d3658c92ad1",
   "metadata": {},
   "outputs": [
    {
     "name": "stdout",
     "output_type": "stream",
     "text": [
      "4\n",
      "5\n",
      "6 good bye\n"
     ]
    }
   ],
   "source": [
    "a, b, c, d = my_tuple\n",
    "print(a)\n",
    "print(b)\n",
    "print(c, d)"
   ]
  },
  {
   "cell_type": "markdown",
   "id": "bde09a73-0433-4c19-8580-d86e86240170",
   "metadata": {},
   "source": [
    "### Immutability\n",
    "\n",
    "Tuples cannot be modified after creation. Attempting to assign a new value to an element will result in a `TypeError`"
   ]
  },
  {
   "cell_type": "code",
   "execution_count": 32,
   "id": "f0fdaa88-4a0b-4141-8287-b0d0aadc8043",
   "metadata": {},
   "outputs": [
    {
     "ename": "TypeError",
     "evalue": "'tuple' object does not support item assignment",
     "output_type": "error",
     "traceback": [
      "\u001b[0;31m---------------------------------------------------------------------------\u001b[0m",
      "\u001b[0;31mTypeError\u001b[0m                                 Traceback (most recent call last)",
      "Cell \u001b[0;32mIn[32], line 2\u001b[0m\n\u001b[1;32m      1\u001b[0m tup \u001b[38;5;241m=\u001b[39m \u001b[38;5;28mtuple\u001b[39m([\u001b[38;5;124m\"\u001b[39m\u001b[38;5;124mCS\u001b[39m\u001b[38;5;124m\"\u001b[39m, [\u001b[38;5;241m4\u001b[39m, \u001b[38;5;241m1\u001b[39m, \u001b[38;5;241m0\u001b[39m], \u001b[38;5;28;01mTrue\u001b[39;00m])\n\u001b[0;32m----> 2\u001b[0m \u001b[43mtup\u001b[49m\u001b[43m[\u001b[49m\u001b[38;5;241;43m2\u001b[39;49m\u001b[43m]\u001b[49m \u001b[38;5;241m=\u001b[39m \u001b[38;5;28;01mFalse\u001b[39;00m\n",
      "\u001b[0;31mTypeError\u001b[0m: 'tuple' object does not support item assignment"
     ]
    }
   ],
   "source": [
    "tup = tuple([\"CS\", [4, 1, 0], True])\n",
    "tup[2] = False"
   ]
  },
  {
   "cell_type": "markdown",
   "id": "04607ade-86a0-455b-a764-f3773ea41a2b",
   "metadata": {},
   "source": [
    "\n",
    "### Tuple Methods and Functions\n",
    "\n",
    "Tuples have limited methods due to their immutability"
   ]
  },
  {
   "cell_type": "markdown",
   "id": "cb2dc7d7-b778-4ab9-9751-98c211866369",
   "metadata": {},
   "source": [
    "#### `count()`\n",
    "\n",
    "Counts the number of occurrences of a specified value"
   ]
  },
  {
   "cell_type": "code",
   "execution_count": null,
   "id": "4cf50453-25ad-49d9-b7c1-05df26897a08",
   "metadata": {},
   "outputs": [],
   "source": [
    "# Count Method\n",
    "print(my_tuple.count(2))"
   ]
  },
  {
   "cell_type": "markdown",
   "id": "973427ca-d050-4c4f-9b94-706529c6a2b6",
   "metadata": {},
   "source": [
    "#### `index()`\n",
    "Returns the index of the first occurrence of a specified value"
   ]
  },
  {
   "cell_type": "code",
   "execution_count": null,
   "id": "74d592c5-ce1b-4ea4-b04b-71b35b69a16d",
   "metadata": {},
   "outputs": [],
   "source": [
    "# Index Method\n",
    "print(my_tuple.index(\"good bye\"))"
   ]
  },
  {
   "cell_type": "markdown",
   "id": "57bdbb38-667e-4f6d-b806-96a10dc1a244",
   "metadata": {},
   "source": [
    "#### `len()`\n",
    "Returns the length of the tuple"
   ]
  },
  {
   "cell_type": "code",
   "execution_count": null,
   "id": "a2234d9a-bae1-4a13-8bc6-bdc65d11e0a1",
   "metadata": {},
   "outputs": [],
   "source": [
    "# Length Function\n",
    "print(len(my_tuple))"
   ]
  },
  {
   "cell_type": "markdown",
   "id": "60f97e90-d3b2-4bf3-ba02-febdae0b0465",
   "metadata": {},
   "source": [
    "## Lists\n",
    "Lists are mutable, variable-length sequences of Python objects. This means you can modify their elements directly. Lists are created using square brackets `[]` or by passing an iterable to the `list()` function"
   ]
  },
  {
   "cell_type": "markdown",
   "id": "6081971f-df61-44b9-af44-ef70be8fe033",
   "metadata": {},
   "source": [
    "### Creating Lists\n",
    "* Lists are created using square brackets `[]`.\n",
    "* Elements are separated by commas.\n",
    "* Lists can contain mixed data types."
   ]
  },
  {
   "cell_type": "code",
   "execution_count": null,
   "id": "c12c480a-9f9e-4b7b-b5b4-ca4861180f2c",
   "metadata": {},
   "outputs": [],
   "source": [
    "# Creating a list\n",
    "my_list = [1, 2, 3, \"hello\", 3.14]"
   ]
  },
  {
   "cell_type": "markdown",
   "id": "d06e8111-234c-4e6f-9639-d0bc640fd641",
   "metadata": {},
   "source": [
    "* An empty list is created using empty square brackets `[]`."
   ]
  },
  {
   "cell_type": "code",
   "execution_count": null,
   "id": "11378f9c-f7b7-4c04-92e6-d58a9a2be164",
   "metadata": {},
   "outputs": [],
   "source": [
    "# Creating an empty list\n",
    "empty_list = [] "
   ]
  },
  {
   "cell_type": "markdown",
   "id": "0c247fe9-4f58-4dbd-955c-4afff0404819",
   "metadata": {},
   "source": [
    "* Lists can be created from other iterables using the `list()` function."
   ]
  },
  {
   "cell_type": "code",
   "execution_count": null,
   "id": "caceaaa2-9a40-4eca-914f-5017c943c510",
   "metadata": {},
   "outputs": [],
   "source": [
    "# Using the list() function\n",
    "another_list = list((1,2,3))\n",
    "print(another_list)"
   ]
  },
  {
   "cell_type": "markdown",
   "id": "01c65d63-8928-45e4-a131-89f517082b55",
   "metadata": {},
   "source": [
    "### Accessing Elements:\n",
    "\n",
    "Elements are accessed using square brackets `[]` and zero-based indexing."
   ]
  },
  {
   "cell_type": "code",
   "execution_count": null,
   "id": "d63fd3d7-3bfe-416c-82b9-fe7bb58bfda4",
   "metadata": {},
   "outputs": [],
   "source": [
    "# Accessing elements\n",
    "print(my_list[0])  \n",
    "print(my_list[3]) "
   ]
  },
  {
   "cell_type": "markdown",
   "id": "63490862-0f23-4691-a8a5-9301b3ca84b3",
   "metadata": {},
   "source": [
    "### Slicing\n",
    "\n",
    "Slices of lists can be created using the colon `:` operator."
   ]
  },
  {
   "cell_type": "code",
   "execution_count": null,
   "id": "0e91cd07-421d-4573-8c9c-95a4241c188f",
   "metadata": {},
   "outputs": [],
   "source": [
    "# List slicing\n",
    "print(my_list[1:4])"
   ]
  },
  {
   "cell_type": "markdown",
   "id": "d5a3f487-64d0-4892-a1c3-1504558b37d7",
   "metadata": {},
   "source": [
    "### Mutability\n",
    "\n",
    "Lists are mutable, meaning elements can be changed directly."
   ]
  },
  {
   "cell_type": "code",
   "execution_count": null,
   "id": "09d59c00-2b0f-48be-adc0-71974ed5ced2",
   "metadata": {},
   "outputs": [],
   "source": [
    "# Modifying elements (mutability)\n",
    "my_list[0] = 10\n",
    "print(my_list) "
   ]
  },
  {
   "cell_type": "markdown",
   "id": "cb9bb093-8e35-4a9b-95cd-11b042456140",
   "metadata": {},
   "source": [
    "#### `append()`\n",
    "Adds an element to the end of the list."
   ]
  },
  {
   "cell_type": "code",
   "execution_count": null,
   "id": "67d843bf-234a-4593-9998-cee56a4c7a3f",
   "metadata": {},
   "outputs": [],
   "source": [
    "# Appending elements\n",
    "my_list.append(\"world\")\n",
    "print(my_list)"
   ]
  },
  {
   "cell_type": "markdown",
   "id": "db2441ee-7dc3-4523-abf2-2c7d743df954",
   "metadata": {},
   "source": [
    "#### `insert()`\n",
    "Inserts an element at a specified index."
   ]
  },
  {
   "cell_type": "code",
   "execution_count": null,
   "id": "dc0465a1-08e4-414e-8261-2e3753c8186f",
   "metadata": {},
   "outputs": [],
   "source": [
    "# Inserting elements\n",
    "my_list.insert(2, \"inserted\")\n",
    "print(my_list)"
   ]
  },
  {
   "cell_type": "markdown",
   "id": "36159b70-7a0f-4551-9b41-1428a9bfb791",
   "metadata": {},
   "source": [
    "#### `remove()`\n",
    "Removes the first occurrence of a specified value.   "
   ]
  },
  {
   "cell_type": "code",
   "execution_count": null,
   "id": "2b20758c-aeb0-4189-a14a-5fa9f2b62a17",
   "metadata": {},
   "outputs": [],
   "source": [
    "# Removing elements\n",
    "my_list.remove(\"hello\")\n",
    "print(my_list) #Output: [10, 2, 'inserted', 3, 3.14, 'world']"
   ]
  },
  {
   "cell_type": "markdown",
   "id": "fd3c944a-4406-4288-9a19-64982d3bb051",
   "metadata": {},
   "source": [
    "#### `pop()`\n",
    "Removes and returns the element at a specified index."
   ]
  },
  {
   "cell_type": "code",
   "execution_count": null,
   "id": "c841c13f-8092-4a32-abf8-6c5a910018a4",
   "metadata": {},
   "outputs": [],
   "source": [
    "# Removing elements by index\n",
    "removed_element = my_list.pop(1)\n",
    "print(my_list) #Output: [10, 'inserted', 3, 3.14, 'world']\n",
    "print(removed_element) #Output: 2"
   ]
  },
  {
   "cell_type": "markdown",
   "id": "d1e7ce2c-e4a4-4589-996b-302e6ea2040d",
   "metadata": {},
   "source": [
    "#### `extend()`\n",
    "Appends elements from another iterable to the end of the list."
   ]
  },
  {
   "cell_type": "code",
   "execution_count": null,
   "id": "ad39ac52-c11b-40ce-8cf8-caea75236a16",
   "metadata": {},
   "outputs": [],
   "source": [
    "# Extending lists\n",
    "another_list = [6, 7, 8]\n",
    "my_list.extend(another_list)\n",
    "print(my_list)"
   ]
  },
  {
   "cell_type": "markdown",
   "id": "8bfb757f-8529-4c09-8711-d8d81cbb779a",
   "metadata": {},
   "source": [
    "#### List Concatenation\n",
    "Lists can be combined using the `+` operator."
   ]
  },
  {
   "cell_type": "code",
   "execution_count": null,
   "id": "d668b702-3e56-43ca-82da-83dc93c6a869",
   "metadata": {},
   "outputs": [],
   "source": [
    "# List concatenation\n",
    "combined_list = my_list + another_list\n",
    "print(combined_list)"
   ]
  },
  {
   "cell_type": "markdown",
   "id": "f0e95ea5-444b-42d8-91d3-162ed9d41586",
   "metadata": {},
   "source": [
    "#### List Repetition\n",
    "Lists can be repeated using the `*` operator."
   ]
  },
  {
   "cell_type": "code",
   "execution_count": null,
   "id": "57b712dc-2b1d-4b92-9771-ea17b2a7efe9",
   "metadata": {},
   "outputs": [],
   "source": [
    "# List repetition\n",
    "repeated_list = [1,2] * 3\n",
    "print(repeated_list)"
   ]
  },
  {
   "cell_type": "markdown",
   "id": "88f9071b-25c0-4f9f-b1d0-d2bdd9beb61a",
   "metadata": {},
   "source": [
    "### List Methods and Functions\n",
    "\n",
    "#### `len()`\n",
    "Returns the number of elements in the list."
   ]
  },
  {
   "cell_type": "code",
   "execution_count": null,
   "id": "0fcb4a1d-82a4-4589-9181-3af9a04d11fc",
   "metadata": {},
   "outputs": [],
   "source": [
    "# List length\n",
    "print(len(my_list))"
   ]
  },
  {
   "cell_type": "markdown",
   "id": "888a5231-ff63-4108-b73a-7b2953b1098c",
   "metadata": {},
   "source": [
    "#### `count()`\n",
    "Counts the number of occurrences of a specified value."
   ]
  },
  {
   "cell_type": "code",
   "execution_count": null,
   "id": "580cd5f5-5c23-4ab0-9de7-56532caca0bd",
   "metadata": {},
   "outputs": [],
   "source": [
    "# Count\n",
    "print(my_list.count(3))"
   ]
  },
  {
   "cell_type": "markdown",
   "id": "10e44089-8a18-41a2-bd36-067b6bc09e12",
   "metadata": {},
   "source": [
    "#### `index()`\n",
    "Returns the index of the first occurrence of a specified value.   "
   ]
  },
  {
   "cell_type": "code",
   "execution_count": null,
   "id": "18f699ef-a9ed-48db-81f0-9c0b7f329b39",
   "metadata": {},
   "outputs": [],
   "source": [
    "# Index\n",
    "print(my_list.index(3)) "
   ]
  },
  {
   "cell_type": "markdown",
   "id": "e36338e0-c8b1-4817-a791-445239fcad78",
   "metadata": {},
   "source": [
    "#### `sort()`\n",
    "Sorts the list in place."
   ]
  },
  {
   "cell_type": "code",
   "execution_count": null,
   "id": "637caa27-4a79-4fa3-9231-a1a4699164f0",
   "metadata": {},
   "outputs": [],
   "source": [
    "# Sorting Lists\n",
    "my_unsorted_list = [4,2,6,1,8,3]\n",
    "my_unsorted_list.sort()\n",
    "print(my_unsorted_list)"
   ]
  },
  {
   "cell_type": "markdown",
   "id": "3cdb5364-00e4-4f7b-9a4d-af57f37ac57f",
   "metadata": {},
   "source": [
    "#### `reverse()`\n",
    "Reverses the list in place."
   ]
  },
  {
   "cell_type": "code",
   "execution_count": null,
   "id": "62b5fb43-d8fd-489d-9f74-dd0cf301ad77",
   "metadata": {},
   "outputs": [],
   "source": [
    "# Reversing Lists\n",
    "my_unsorted_list.reverse()\n",
    "print(my_unsorted_list)"
   ]
  },
  {
   "cell_type": "markdown",
   "id": "eb8099ea-c36e-4ba0-9ed2-e1c35a33a8b6",
   "metadata": {},
   "source": [
    "## Dictionary\n",
    "\n",
    "Dictionaries are a fundamental Python data structure. They store collections of `key-value` pairs, where both `keys` and `values` can be any Python object. \n",
    "\n",
    "Dictionaries enable efficient retrieval, insertion, modification, and deletion of values based on their associated keys."
   ]
  },
  {
   "cell_type": "markdown",
   "id": "5c0138be-6f62-4ef6-bb14-042222cc8dc2",
   "metadata": {},
   "source": [
    "### Creating Dictionaries\n",
    "* Dictionaries are created using curly braces `{}`\n",
    "* Key-value pairs are separated by colons `:`\n",
    "* Keys must be immutable (strings, numbers, tuples), and values can be any Python object.\n",
    "* Dictionaries can also be created with keyword arguments using the dict() constructor."
   ]
  },
  {
   "cell_type": "code",
   "execution_count": null,
   "id": "f370faa0-a40d-45ff-a0a6-8e43f63debcd",
   "metadata": {},
   "outputs": [],
   "source": [
    "# Creating Dictionaries\n",
    "my_dict = {\"apple\": 1, \"banana\": 2, \"orange\": 3} \n",
    "mixed_dict = {1: \"one\", \"two\": 2, 3.14: \"pi\"\n",
    "empty_dict = {}\n",
    "\n",
    "another_dict = dict(apple=1, banana=2, orange=3) \n",
    "print(another_dict)"
   ]
  },
  {
   "cell_type": "markdown",
   "id": "9973a89f-977c-4493-b72f-17ed7960ba5e",
   "metadata": {},
   "source": [
    "### Accessing Values\n",
    "Values are accessed using square brackets `[]` and their corresponding keys."
   ]
  },
  {
   "cell_type": "code",
   "execution_count": null,
   "id": "73fbbbfe-e109-4431-948d-f52791ef5574",
   "metadata": {},
   "outputs": [],
   "source": [
    "# Accessing values\n",
    "print(my_dict[\"apple\"]) \n",
    "print(mixed_dict[\"two\"])"
   ]
  },
  {
   "cell_type": "markdown",
   "id": "5474f472-5f7d-4ba1-9375-f3bb302b911e",
   "metadata": {},
   "source": [
    "### Adding/Modifying\n",
    "New key-value pairs are added by assigning a value to a new key.\n",
    "Existing values are modified by assigning a new value to an existing key."
   ]
  },
  {
   "cell_type": "code",
   "execution_count": null,
   "id": "5537144c-93cf-4181-9771-2b9366324ff9",
   "metadata": {},
   "outputs": [],
   "source": [
    "# Adding or modifying key-value pairs\n",
    "my_dict[\"grape\"] = 4  \n",
    "print(my_dict) \n",
    "\n",
    "my_dict[\"apple\"] = 10  \n",
    "print(my_dict) "
   ]
  },
  {
   "cell_type": "markdown",
   "id": "3ed8fa49-15ed-46c7-a67c-1e5b3edfc646",
   "metadata": {},
   "source": [
    "### Checking for Keys\n",
    "The in operator checks if a key exists in the dictionary."
   ]
  },
  {
   "cell_type": "code",
   "execution_count": null,
   "id": "27a00451-3975-4b15-823e-fbccd4bbf61a",
   "metadata": {},
   "outputs": [],
   "source": [
    "# Checking for keys\n",
    "print(\"banana\" in my_dict)  \n",
    "print(\"pear\" in my_dict)"
   ]
  },
  {
   "cell_type": "markdown",
   "id": "943a68d5-d462-49f9-91de-7e7cb8d18641",
   "metadata": {},
   "source": [
    "### Removing Pairs\n",
    "The `del` keyword removes a key-value pair."
   ]
  },
  {
   "cell_type": "code",
   "execution_count": null,
   "id": "b42dd1f5-7559-435b-bb95-e02b52366453",
   "metadata": {},
   "outputs": [],
   "source": [
    "# Removing key-value pairs\n",
    "del my_dict[\"orange\"]\n",
    "print(my_dict)"
   ]
  },
  {
   "cell_type": "markdown",
   "id": "d017539b-e515-4749-8809-b98752d51f1f",
   "metadata": {},
   "source": [
    "### `keys()`, `values()`, `items()`\n",
    "These methods return views of the dictionary's keys, values, and key-value pairs, respectively."
   ]
  },
  {
   "cell_type": "code",
   "execution_count": null,
   "id": "22fb856d-6099-424a-a76b-74445c2150f2",
   "metadata": {},
   "outputs": [],
   "source": [
    "# Getting all keys or values\n",
    "print(my_dict.keys()) \n",
    "print(my_dict.values())\n",
    "\n",
    "# Getting all key-value pairs as tuples\n",
    "print(my_dict.items()) "
   ]
  },
  {
   "cell_type": "markdown",
   "id": "53e0b60c-ac95-4bd8-ac04-95742e278fa3",
   "metadata": {},
   "source": [
    "### Iteration\n",
    "You can iterate through a dictionary's key-value pairs using a for loop and the items() method."
   ]
  },
  {
   "cell_type": "code",
   "execution_count": null,
   "id": "9cd8a6c3-1159-4b31-ab5d-8be104317b77",
   "metadata": {},
   "outputs": [],
   "source": [
    "# Iterating through a dictionary\n",
    "for key, value in my_dict.items():\n",
    "    print(f\"{key}: {value}\")"
   ]
  },
  {
   "cell_type": "markdown",
   "id": "a7bbe393-90d0-4e2f-9e05-36030504d03f",
   "metadata": {},
   "source": [
    "## Sets\n"
   ]
  },
  {
   "cell_type": "markdown",
   "id": "843b3a47-1b53-4bc0-9efe-4505ff2a4d6a",
   "metadata": {},
   "source": [
    "### Creation\n",
    "* Sets are created using curly braces `{}` or the `set()` constructor.\n",
    "* An empty set must be created with `set()`, as `{}` creates an empty dictionary.\n",
    "* Sets created from strings will have each unique character as an element."
   ]
  },
  {
   "cell_type": "code",
   "execution_count": null,
   "id": "69aeb202-0164-45ea-8ea8-af65b62f9baa",
   "metadata": {},
   "outputs": [],
   "source": [
    "# Creating sets\n",
    "my_set = {1, 2, 3, 4, 5}  \n",
    "another_set = set([4, 5, 6, 7, 8]) \n",
    "empty_set = set() \n",
    "string_set = set(\"hello\")\n",
    "print(string_set)"
   ]
  },
  {
   "cell_type": "markdown",
   "id": "7927ed8b-e4ab-49be-a9f4-545f54d63675",
   "metadata": {},
   "source": [
    "### Uniqueness\n",
    "Sets automatically remove duplicate elements."
   ]
  },
  {
   "cell_type": "markdown",
   "id": "9724375c-c5e8-49d3-937e-043461d3da0a",
   "metadata": {},
   "source": [
    "### Adding Elements\n",
    "The `add()` method adds a single element to the set."
   ]
  },
  {
   "cell_type": "code",
   "execution_count": null,
   "id": "bc488c48-23d8-492c-a637-3f1e2ad3ed47",
   "metadata": {},
   "outputs": [],
   "source": [
    "# Adding elements\n",
    "my_set.add(6)\n",
    "print(my_set)  "
   ]
  },
  {
   "cell_type": "markdown",
   "id": "7bc873eb-a827-42ec-8133-b9a91791777a",
   "metadata": {},
   "source": [
    "### Removing Elements\n",
    "* The `remove()` method removes a specified element. Raises a `KeyError` if the element is not found."
   ]
  },
  {
   "cell_type": "code",
   "execution_count": null,
   "id": "fa0864c7-3259-4c6e-9cfe-8755a5edfddf",
   "metadata": {},
   "outputs": [],
   "source": [
    "# Removing elements\n",
    "my_set.remove(3)\n",
    "print(my_set)  "
   ]
  },
  {
   "cell_type": "markdown",
   "id": "49cae5b3-a7f1-442a-9b53-3ed1c564ce44",
   "metadata": {},
   "source": [
    "* The `discard()` method removes a specified element. No error will be raised if the element is not found."
   ]
  },
  {
   "cell_type": "code",
   "execution_count": null,
   "id": "c147bc3d-7469-4c85-9fd9-13011061202a",
   "metadata": {},
   "outputs": [],
   "source": [
    "# Discarding elements (no error if element doesn't exist)\n",
    "my_set.discard(7)  \n",
    "my_set.discard(2)\n",
    "print(my_set) "
   ]
  },
  {
   "cell_type": "markdown",
   "id": "ea4228c0-ba59-468b-935b-facabd0cbc07",
   "metadata": {},
   "source": [
    "### Set Operations\n",
    "\n",
    "Set operations allow you to manipulate and analyze collections of unique elements. \n",
    "\n",
    "* __union__ combines all distinct elements from two sets\n",
    "* __intersection__ identifies elements shared between them\n",
    "* __difference__ reveals elements present in one set but absent in another\n",
    "* __symmetric difference__ returns elements that exist in either set, but not in their intersection\n",
    "\n",
    "Finally, you can check relationships between set\n",
    "\n",
    "* a __subset__ contains elements entirely within another set\n",
    "* a __superset__ encompasses all elements of another"
   ]
  },
  {
   "cell_type": "markdown",
   "id": "cbf4fe8d-ed99-4afe-9a00-cd672bafbb53",
   "metadata": {},
   "source": [
    "#### `union()`\n",
    "Returns a new set containing all elements from both sets."
   ]
  },
  {
   "cell_type": "code",
   "execution_count": null,
   "id": "d44134ff-6930-40d4-b5fa-892474130693",
   "metadata": {},
   "outputs": [],
   "source": [
    "union_set = my_set.union(another_set)\n",
    "print(union_set) "
   ]
  },
  {
   "cell_type": "markdown",
   "id": "99664348-d50c-4bfc-840e-34da21300908",
   "metadata": {},
   "source": [
    "#### `intersection()` \n",
    "Returns a new set containing only the elements common to both sets."
   ]
  },
  {
   "cell_type": "code",
   "execution_count": null,
   "id": "3e89a2f8-44f2-4d55-85fa-84ee36e0bb0e",
   "metadata": {},
   "outputs": [],
   "source": [
    "intersection_set = my_set.intersection(another_set)\n",
    "print(intersection_set)"
   ]
  },
  {
   "cell_type": "markdown",
   "id": "d701e495-83b4-4304-9d66-84d02b9eb747",
   "metadata": {},
   "source": [
    "#### `difference()` \n",
    "Returns a new set containing elements that are in the first set but not the second."
   ]
  },
  {
   "cell_type": "code",
   "execution_count": null,
   "id": "310efd92-ff28-4450-88ce-eb6c69bc0296",
   "metadata": {},
   "outputs": [],
   "source": [
    "difference_set = my_set.difference(another_set)\n",
    "print(difference_set)"
   ]
  },
  {
   "cell_type": "markdown",
   "id": "787807b9-e9b0-483c-8a0a-da23349c9aae",
   "metadata": {},
   "source": [
    "#### `symmetric_difference()` \n",
    "Returns a new set containing elements that are in either set, but not in both."
   ]
  },
  {
   "cell_type": "code",
   "execution_count": null,
   "id": "68b38697-fcd3-4ae9-b331-2654e4a112ef",
   "metadata": {},
   "outputs": [],
   "source": [
    "symmetric_difference_set = my_set.symmetric_difference(another_set)\n",
    "print(symmetric_difference_set)"
   ]
  },
  {
   "cell_type": "markdown",
   "id": "a087e8bf-41ea-41a9-8673-c8aa8e745c41",
   "metadata": {},
   "source": [
    "### Membership\n",
    "The `in` operator checks if an element is in the set."
   ]
  },
  {
   "cell_type": "code",
   "execution_count": null,
   "id": "f0dc0571-8d71-4072-905e-fdeaf7f7a8d3",
   "metadata": {},
   "outputs": [],
   "source": [
    "# Checking for membership\n",
    "print(4 in my_set)  \n",
    "print(9 in my_set) "
   ]
  },
  {
   "cell_type": "markdown",
   "id": "d28a9ab9-d8b7-44da-b385-831d136727ae",
   "metadata": {},
   "source": [
    "### Length\n",
    "The `len()` function returns the number of elements in the set."
   ]
  },
  {
   "cell_type": "code",
   "execution_count": null,
   "id": "4b9dd4e3-3b3c-4475-af82-d5219e3fcb50",
   "metadata": {},
   "outputs": [],
   "source": [
    "# Set length\n",
    "print(len(my_set)) "
   ]
  },
  {
   "cell_type": "markdown",
   "id": "1152731e-f447-4d93-8ae9-aecc5737be7b",
   "metadata": {},
   "source": [
    "### Subsets and supersets\n",
    "The `issubset()` and `issuperset()` methods can be used to check if a set is a subset or superset of another set."
   ]
  },
  {
   "cell_type": "code",
   "execution_count": null,
   "id": "9caca2df-fcb3-4180-9a4f-18be6f3ed1b1",
   "metadata": {},
   "outputs": [],
   "source": [
    "# Checking if a set is a subset or super-set.\n",
    "subset_set = {4,5}\n",
    "superset_set = {1,4,5,6}\n",
    "print(subset_set.issubset(superset_set))\n",
    "print(superset_set.issuperset(subset_set)) "
   ]
  },
  {
   "cell_type": "markdown",
   "id": "1fcee843-5676-4a0e-bcf5-1ba5c6718726",
   "metadata": {},
   "source": [
    "## Built-In Sequence Functions\n",
    "\n",
    "Familiarizing yourself with Python's sequence functions will significantly enhance your coding efficiency and is highly recommended."
   ]
  },
  {
   "cell_type": "markdown",
   "id": "362c6105-14a0-4586-8a7c-932430215e41",
   "metadata": {},
   "source": [
    "### `enumerate()`\n",
    "* This function adds a counter to an iterable (like a list, tuple, or string)\n",
    "* It returns pairs of (index, element) during iteration\n",
    "* Use it when you need to know the index of each element while looping"
   ]
  },
  {
   "cell_type": "code",
   "execution_count": null,
   "id": "53bd4820-b5ce-46a7-aae7-ba8902f383fb",
   "metadata": {},
   "outputs": [],
   "source": [
    "# Enumerate: Tracks the index of elements in an iterable.\n",
    "my_list = ['a', 'b', 'c']\n",
    "for index, value in enumerate(my_list):\n",
    "    print(f\"Index: {index}, Value: {value}\")"
   ]
  },
  {
   "cell_type": "markdown",
   "id": "39bf44fa-02b2-4475-a709-6deb087197ed",
   "metadata": {},
   "source": [
    "### `sorted()`\n",
    "* This function returns a new sorted list from the elements of any iterable.\n",
    "* It does not modify the original iterable.\n",
    "* It can sort various sequence types, including strings and tuples."
   ]
  },
  {
   "cell_type": "code",
   "execution_count": null,
   "id": "6c652474-7ffc-4b37-a9c2-99f078989afd",
   "metadata": {},
   "outputs": [],
   "source": [
    "# Sorted: Returns a new sorted list from the elements of any iterable.\n",
    "\n",
    "my_unsorted_list = [3, 1, 4, 1, 5, 9, 2, 6]\n",
    "sorted_list = sorted(my_unsorted_list)\n",
    "print(sorted_list) \n",
    "\n",
    "my_string = \"hello\"\n",
    "sorted_string = sorted(my_string)\n",
    "print(sorted_string)"
   ]
  },
  {
   "cell_type": "markdown",
   "id": "7d5b3dfd-3701-4797-b9df-c0cce0b28ce1",
   "metadata": {},
   "source": [
    "### `zip()`\n",
    "* This function \"zips\" together elements from multiple iterables.\n",
    "* It creates tuples containing corresponding elements from each iterable.\n",
    "* It stops when the shortest iterable is exhausted.\n",
    "* Use it when you need to iterate over multiple sequences in parallel."
   ]
  },
  {
   "cell_type": "code",
   "execution_count": null,
   "id": "13fd5835-fee8-44d2-a012-8c5b6e2e4402",
   "metadata": {},
   "outputs": [],
   "source": [
    "# Zip: Pairs up elements from multiple iterables, creating tuples.\n",
    "\n",
    "list1 = ['a', 'b', 'c']\n",
    "list2 = [1, 2, 3]\n",
    "zipped_pairs = zip(list1, list2)\n",
    "for item1, item2 in zipped_pairs:\n",
    "    print(f\"Item 1: {item1}, Item 2: {item2}\")"
   ]
  },
  {
   "cell_type": "markdown",
   "id": "1c5a8395-0c62-4d34-8fd5-6d2e4e02cd74",
   "metadata": {},
   "source": [
    "### `reversed()`\n",
    "* This function returns an iterator that yields the elements of a sequence in reverse order.\n",
    "* It does not create a reversed list, but an iterator, which is more memory efficient.\n",
    "* It works with sequences like lists and tuples."
   ]
  },
  {
   "cell_type": "code",
   "execution_count": null,
   "id": "b0111cd9-4b26-4dfb-ae16-c83a7811f8f5",
   "metadata": {},
   "outputs": [],
   "source": [
    "# Reversed: Returns an iterator that yields elements in reverse order.\n",
    "\n",
    "my_list = [1, 2, 3, 4, 5]\n",
    "reversed_list = reversed(my_list)\n",
    "for item in reversed_list:\n",
    "    print(item)\n",
    "\n",
    "my_tuple = (1,2,3)\n",
    "reversed_tuple = reversed(my_tuple)\n",
    "for item in reversed_tuple:\n",
    "  print(item)"
   ]
  },
  {
   "cell_type": "markdown",
   "id": "ba48c021-e8a9-41b7-8db5-4e25dcf7396b",
   "metadata": {},
   "source": [
    "## List, Set, and Dictionary Comprehensions\n",
    "Comprehensions are a Python language feature that enables the creation of new sequences using a concise and readable syntax. They combine filtering and transformation of elements from a collection into a single expression. "
   ]
  },
  {
   "cell_type": "markdown",
   "id": "3a4bf420-95fd-434e-a6d2-d17b67789131",
   "metadata": {},
   "source": [
    "### List Comprehension\n",
    "\n",
    "List comprehensions create lists with a single, inline expression.\n",
    "\n",
    "General List Comprehension Syntax:\n",
    "\n",
    "```python\n",
    "[expression for value in collection if condition]\n",
    "```\n",
    "\n",
    "General `for-loop` equivalent:\n",
    "\n",
    "```python\n",
    "for value in collection:\n",
    "    if condition:\n",
    "        list.append(expression)\n",
    "```\n",
    "\n",
    "Explanation:\n",
    "\n",
    "* `expression`: This is the expression that transforms each value into an element of the new list. It can be a simple variable, a mathematical operation, or a function call.\n",
    "* `value`: This is the variable that represents each element in the collection during iteration.\n",
    "* `collection`: This is the iterable (list, tuple, string, range, etc.) that provides the elements for the new list.\n",
    "* `if condition`: This is an optional filter. Only values that satisfy the condition will be processed by the expression."
   ]
  },
  {
   "cell_type": "code",
   "execution_count": 33,
   "id": "97e1fc14-0342-4aa3-b0f2-35c9c9f45650",
   "metadata": {},
   "outputs": [
    {
     "name": "stdout",
     "output_type": "stream",
     "text": [
      "['BAT', 'CAR', 'DOVE', 'PYTHON']\n"
     ]
    }
   ],
   "source": [
    "# List Comprehension Example\n",
    "# Creates a new list from the words list of 3 or more characters\n",
    "words = [\"a\", \"as\", \"bat\", \"car\", \"dove\", \"python\"]\n",
    "words_filtered = [x.upper() for x in my_list if len(x) > 2]\n",
    "print(words_filtered)"
   ]
  },
  {
   "cell_type": "markdown",
   "id": "811e196c-9499-4d15-8c08-0a04ba50081f",
   "metadata": {},
   "source": [
    "### Set Comprehension\n",
    "\n",
    "Set comprehensions look like this:\n",
    "\n",
    "```python\n",
    "set_comprehension = {expression for value in collection if condition}\n",
    "```\n",
    "\n",
    "In the example below, we create a set, `unique_lengths`, containing the unique lengths of words from the `words` list."
   ]
  },
  {
   "cell_type": "code",
   "execution_count": 34,
   "id": "04376cd7-82d1-4626-9215-44a936d44469",
   "metadata": {},
   "outputs": [
    {
     "name": "stdout",
     "output_type": "stream",
     "text": [
      "{4, 5, 6}\n"
     ]
    }
   ],
   "source": [
    "# Set Comprehension\n",
    "\n",
    "words = [\"apple\", \"banana\", \"apple\", \"cherry\", \"banana\", \"date\"]\n",
    "unique_lengths = {len(word) for word in words}\n",
    "\n",
    "print(unique_lengths)"
   ]
  },
  {
   "cell_type": "markdown",
   "id": "c15b265a-e383-4812-85d6-aa1b6d8ad939",
   "metadata": {},
   "source": [
    "### Dictionary Comprehension\n",
    "\n",
    "Dictionary comprehensions look like this:\n",
    "\n",
    "```python\n",
    "{key_expression: value_expression for value in collection if condition}\n",
    "```\n",
    "\n",
    "In the example below, we create a dictionary, `name_lengths`, where the names from the `names` list are key and their lengths are values."
   ]
  },
  {
   "cell_type": "code",
   "execution_count": 35,
   "id": "226c3588-f9fd-4d59-aec7-ad9cf5d20c90",
   "metadata": {},
   "outputs": [
    {
     "name": "stdout",
     "output_type": "stream",
     "text": [
      "{'Denise': 6, 'Timothy': 7, 'Aaron': 5}\n"
     ]
    }
   ],
   "source": [
    "# Dictionary Comprehension Example\n",
    "# Creating a dictionary mapping names to their lengths\n",
    "\n",
    "names = [\"Denise\", \"Timothy\", \"Aaron\"]\n",
    "name_lengths = {name: len(name) for name in names}\n",
    "\n",
    "print(name_lengths)"
   ]
  },
  {
   "cell_type": "markdown",
   "id": "2337a317-70e4-4b19-9a5c-bd8478049270",
   "metadata": {},
   "source": [
    "# Activities"
   ]
  },
  {
   "cell_type": "markdown",
   "id": "bdba3cfd-84d1-439c-9a7e-53b5eeee6400",
   "metadata": {},
   "source": [
    "## Activity 1 - List Comprehension - Filtering and Transformation\n",
    "\n",
    "__Goal__: Create a new list containing the squares of all positive numbers from the given list.\n"
   ]
  },
  {
   "cell_type": "code",
   "execution_count": 42,
   "id": "3b4d4c45-7123-4e1e-a108-3e6a8479fd6c",
   "metadata": {},
   "outputs": [
    {
     "name": "stdout",
     "output_type": "stream",
     "text": [
      "[25, 64, 16]\n"
     ]
    }
   ],
   "source": [
    "numbers = [-3, 5, 0, -1, 8, -2, 4]\n",
    "\n",
    "# Modify the list comprehension below:\n",
    "squared_positives = [0]  # Replace 0 with the correct expression\n",
    "\n",
    "print(squared_positives)  # Should output [25, 64, 16]"
   ]
  },
  {
   "cell_type": "code",
   "execution_count": null,
   "id": "4709755f-29c6-4052-a2c8-0c7ec0a182af",
   "metadata": {},
   "outputs": [],
   "source": [
    "## Activity 2: Set Comprehension"
   ]
  },
  {
   "cell_type": "code",
   "execution_count": null,
   "id": "f7375b6c-6013-4b01-901c-a7cdb8e0f020",
   "metadata": {},
   "outputs": [],
   "source": [
    "words = [\"Apple\", \"banana\", \"Cherry\", \"date\", \"BANANA\", \"apple\"]\n",
    "\n",
    "# Modify the set comprehension below:\n",
    "first_letters = {0} # Replace 0 with the correct expression.\n",
    "\n",
    "print(first_letters)  # Should output {'a', 'b', 'c', 'd'} (order may vary)"
   ]
  },
  {
   "cell_type": "code",
   "execution_count": 40,
   "id": "a6749856-2eae-47aa-adbe-12c021b69e92",
   "metadata": {},
   "outputs": [
    {
     "name": "stdout",
     "output_type": "stream",
     "text": [
      "{'hello': 'olleh', 'world': 'dlrow', 'python': 'nohtyp'}\n"
     ]
    }
   ],
   "source": [
    "words = [\"hello\", \"world\", \"python\"]\n",
    "\n",
    "# Modify the dictionary comprehension below:\n",
    "reversed_words = {0:0} # Replace 0:0 with the correct expression.\n",
    "\n",
    "print(reversed_words)  # Should output {'hello': 'olleh', 'world': 'dlrow', 'python': 'nohtyp'}"
   ]
  }
 ],
 "metadata": {
  "kernelspec": {
   "display_name": "Python 3 (ipykernel)",
   "language": "python",
   "name": "python3"
  },
  "language_info": {
   "codemirror_mode": {
    "name": "ipython",
    "version": 3
   },
   "file_extension": ".py",
   "mimetype": "text/x-python",
   "name": "python",
   "nbconvert_exporter": "python",
   "pygments_lexer": "ipython3",
   "version": "3.12.5"
  }
 },
 "nbformat": 4,
 "nbformat_minor": 5
}
