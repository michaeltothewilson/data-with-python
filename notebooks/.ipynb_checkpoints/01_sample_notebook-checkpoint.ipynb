{
 "cells": [
  {
   "cell_type": "markdown",
   "id": "b0fe91c0-6a76-46fb-bfd5-95cd57ad8dde",
   "metadata": {},
   "source": [
    "# Sample Notebook"
   ]
  },
  {
   "cell_type": "markdown",
   "id": "f0ca0bf9-da11-4a16-825c-5409d920e54c",
   "metadata": {},
   "source": [
    "## Setup\n",
    "\n",
    "### Imports\n",
    "\n",
    "Put the import statements at the top so it is easy for your readers to know what they must isntall to use your notebook"
   ]
  },
  {
   "cell_type": "code",
   "execution_count": null,
   "id": "30a21ff1-2ebf-463f-93cb-4e1753020b69",
   "metadata": {},
   "outputs": [],
   "source": [
    "import pandas as pd\n",
    "import matplotlib.pyplot as plt"
   ]
  }
 ],
 "metadata": {
  "kernelspec": {
   "display_name": "Python 3 (ipykernel)",
   "language": "python",
   "name": "python3"
  },
  "language_info": {
   "codemirror_mode": {
    "name": "ipython",
    "version": 3
   },
   "file_extension": ".py",
   "mimetype": "text/x-python",
   "name": "python",
   "nbconvert_exporter": "python",
   "pygments_lexer": "ipython3",
   "version": "3.12.5"
  }
 },
 "nbformat": 4,
 "nbformat_minor": 5
}
