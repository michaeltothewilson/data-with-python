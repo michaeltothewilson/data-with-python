{
 "cells": [
  {
   "cell_type": "markdown",
   "id": "9b4f7f9b-fb3f-41af-8807-798bcb0cc4d5",
   "metadata": {},
   "source": [
    "# Data Structures and Sequences"
   ]
  },
  {
   "cell_type": "markdown",
   "id": "d22a51eb-4b4d-4ed3-98a3-a6e653e8e592",
   "metadata": {},
   "source": [
    "## Tuples\n",
    "A Tuple is a fixed-length, immutable sequence of Python objects, which once assigned, cannot be changed.\n",
    "Create a tuple with a comma-separated sequence of values wrapped in parenthesis"
   ]
  },
  {
   "cell_type": "code",
   "execution_count": 1,
   "id": "a68d5655-f2ca-474a-bdc6-a7eaf0821f6b",
   "metadata": {},
   "outputs": [
    {
     "name": "stdout",
     "output_type": "stream",
     "text": [
      "(4, 5, 6)\n"
     ]
    }
   ],
   "source": [
    "tup = (4, 5, 6)\n",
    "print(tup)"
   ]
  },
  {
   "cell_type": "markdown",
   "id": "52eb67c4-7515-40d8-91c7-8a92b7315eeb",
   "metadata": {},
   "source": [
    "In many contexts, the parenthesis can be omitted, the example below is also valid:"
   ]
  },
  {
   "cell_type": "code",
   "execution_count": null,
   "id": "5701d433-af96-4214-a9df-30706031fe05",
   "metadata": {},
   "outputs": [],
   "source": [
    "tup = 4, 5, 6\n",
    "print(tup)"
   ]
  },
  {
   "cell_type": "markdown",
   "id": "ee13ebff-8e1c-4e80-8c17-77f455740804",
   "metadata": {},
   "source": [
    "You can convert any sequence or iterator to a tuple by using the `tuple()` function:"
   ]
  },
  {
   "cell_type": "code",
   "execution_count": 2,
   "id": "f23781c6-6b3b-4983-b84d-7f27e1c354b2",
   "metadata": {},
   "outputs": [
    {
     "name": "stdout",
     "output_type": "stream",
     "text": [
      "(4, 1, 0)\n"
     ]
    }
   ],
   "source": [
    "numbers = [4, 1, 0]\n",
    "tup = tuple(numbers)\n",
    "print(tup)"
   ]
  },
  {
   "cell_type": "markdown",
   "id": "c461fc3f-38f2-45ec-ba6e-3c9f7930c14c",
   "metadata": {},
   "source": [
    "Elements can be accessed with square brackets `[]`"
   ]
  },
  {
   "cell_type": "code",
   "execution_count": null,
   "id": "158b73e2-d2cc-4b34-85f7-1d5c9db23401",
   "metadata": {},
   "outputs": [],
   "source": [
    "tup[0]"
   ]
  },
  {
   "cell_type": "markdown",
   "id": "bde09a73-0433-4c19-8580-d86e86240170",
   "metadata": {},
   "source": [
    "While the objects stored in a tuple may be mutable themselves, once the tuple is created, it's not possible to modify which object is stored in each slot:"
   ]
  },
  {
   "cell_type": "code",
   "execution_count": null,
   "id": "f0fdaa88-4a0b-4141-8287-b0d0aadc8043",
   "metadata": {},
   "outputs": [],
   "source": [
    "tup = tuple([\"CS\", [4, 1, 0], True])\n",
    "tup[2] = False"
   ]
  },
  {
   "cell_type": "markdown",
   "id": "04607ade-86a0-455b-a764-f3773ea41a2b",
   "metadata": {},
   "source": [
    "\n",
    "### Tuple Methods"
   ]
  },
  {
   "cell_type": "markdown",
   "id": "83709b60-7051-4ec1-bd8e-b858e2bbed32",
   "metadata": {},
   "source": [
    "## Lists\n",
    "\n",
    "\n",
    "### Adding and Removing Elements\n",
    "\n",
    "### Concatenating and Combining Lists\n",
    "\n",
    "### Sorting\n",
    "\n",
    "### Slicing"
   ]
  },
  {
   "cell_type": "markdown",
   "id": "eb8099ea-c36e-4ba0-9ed2-e1c35a33a8b6",
   "metadata": {},
   "source": [
    "## Dictionary\n",
    "\n",
    "### Creating Dictionaries from Sequences\n",
    "\n",
    "### Default Values\n",
    "\n",
    "### Valid Dictionary Key Types"
   ]
  },
  {
   "cell_type": "markdown",
   "id": "a7bbe393-90d0-4e2f-9e05-36030504d03f",
   "metadata": {},
   "source": [
    "## Sets\n"
   ]
  },
  {
   "cell_type": "markdown",
   "id": "0ce8a97e-28fd-4af1-b5c4-df6af9b980a4",
   "metadata": {},
   "source": [
    "## Built-In Sequence Functions\n",
    "\n",
    "### Enumerate\n",
    "\n",
    "### Sorted\n",
    "\n",
    "### Zip\n",
    "\n",
    "### Reversed"
   ]
  },
  {
   "cell_type": "markdown",
   "id": "ba48c021-e8a9-41b7-8db5-4e25dcf7396b",
   "metadata": {},
   "source": [
    "## List, Set, and Dictionary Comprehensions\n",
    "\n",
    "### Nested List Comprehensions"
   ]
  },
  {
   "cell_type": "markdown",
   "id": "f4cfc8d5-7f4e-456b-b189-10032336c746",
   "metadata": {},
   "source": [
    "## Functions\n"
   ]
  }
 ],
 "metadata": {
  "kernelspec": {
   "display_name": "Python 3 (ipykernel)",
   "language": "python",
   "name": "python3"
  },
  "language_info": {
   "codemirror_mode": {
    "name": "ipython",
    "version": 3
   },
   "file_extension": ".py",
   "mimetype": "text/x-python",
   "name": "python",
   "nbconvert_exporter": "python",
   "pygments_lexer": "ipython3",
   "version": "3.12.5"
  }
 },
 "nbformat": 4,
 "nbformat_minor": 5
}
