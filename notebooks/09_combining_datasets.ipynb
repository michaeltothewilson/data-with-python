{
 "cells": [
  {
   "cell_type": "markdown",
   "id": "5a81d047-81d0-417f-ac5e-db178eb7fb37",
   "metadata": {
    "editable": true,
    "slideshow": {
     "slide_type": "slide"
    },
    "tags": []
   },
   "source": [
    "# Combining Datasets with Pandas\n",
    "\n",
    "Pandas provides powerful tools to combine DataFrames: merging, joining, and concatenating. Unifying data through these operations is crucial for comprehensive analysis.\n",
    "\n",
    "This section will primarily focus on the `.merge()` method and briefly introduce `.join()` and `pd.concat()`."
   ]
  },
  {
   "cell_type": "markdown",
   "id": "4fd15353-09f9-4e6a-956f-411aec796058",
   "metadata": {
    "editable": true,
    "slideshow": {
     "slide_type": "slide"
    },
    "tags": []
   },
   "source": [
    "## Our Practice Data: The Spongebob Squarepants Dataset\n",
    "\n",
    "To illustrate dataset combination, we'll use synthetic data inspired by Spongebob Squarepants. These fabricated datasets will help us focus on the merging process.\n",
    "\n",
    "**Data Files:**\n",
    "\n",
    "* **`spongebob1.csv`**:\n",
    "    * `id`: Unique identifier for each character.\n",
    "    * `name`: Character's name.\n",
    "    * `job`: Character's occupation.\n",
    "    * `species`: Character's biological classification.\n",
    "\n",
    "* **`spongebob2.csv`**:\n",
    "    * `id`: Unique identifier for each character.\n",
    "    * `name`: Character's name.\n",
    "    * `age`: Character's age.\n",
    "    * `personality`: General personality traits of the character."
   ]
  },
  {
   "cell_type": "markdown",
   "id": "45fe8c33-f027-41eb-bd70-eb5608b718bd",
   "metadata": {
    "editable": true,
    "slideshow": {
     "slide_type": ""
    },
    "tags": []
   },
   "source": [
    "## Getting Started"
   ]
  },
  {
   "cell_type": "markdown",
   "id": "08a387a5-daab-4a30-88b5-5a6227f06e91",
   "metadata": {
    "editable": true,
    "slideshow": {
     "slide_type": ""
    },
    "tags": []
   },
   "source": [
    "### Importing the Tools\n",
    "\n",
    "First, let's import the Pandas library, which is essential for data manipulation in Python:\n"
   ]
  },
  {
   "cell_type": "code",
   "execution_count": 1,
   "id": "a677efbb-6e68-44e5-913b-2cadf3137b32",
   "metadata": {
    "editable": true,
    "slideshow": {
     "slide_type": ""
    },
    "tags": []
   },
   "outputs": [],
   "source": [
    "## Begin Example\n",
    "import pandas as pd\n",
    "## End Example"
   ]
  },
  {
   "cell_type": "markdown",
   "id": "601b4e9a-4e57-4f20-acb3-e31e25e6c71d",
   "metadata": {
    "editable": true,
    "slideshow": {
     "slide_type": ""
    },
    "tags": []
   },
   "source": [
    "### Loading the Datasets\n",
    "\n",
    "Next, we'll load the two `csv` files into separate Pandas DataFrames.\n",
    "\n",
    "File Locations:\n",
    "\n",
    "* `../data/spongebob1.csv`\n",
    "* `../data/spongebob2.csv`\n",
    "\n",
    "Suggested dataframe names:\n",
    "\n",
    "* `spongebob_df1`\n",
    "* `spongebob_df2`"
   ]
  },
  {
   "cell_type": "code",
   "execution_count": 2,
   "id": "5f11926d-da61-417d-aa06-d48ae15369a2",
   "metadata": {
    "editable": true,
    "slideshow": {
     "slide_type": ""
    },
    "tags": []
   },
   "outputs": [],
   "source": [
    "## Begin Example\n",
    "df1 = pd.read_csv(\"../data/spongebob1.csv\")\n",
    "df2 = pd.read_csv(\"../data/spongebob2.csv\")"
   ]
  },
  {
   "cell_type": "markdown",
   "id": "21d4cee3-f566-451a-9b1a-b0572acca798",
   "metadata": {
    "editable": true,
    "slideshow": {
     "slide_type": ""
    },
    "tags": []
   },
   "source": [
    "### Inspect the Datasets\n",
    "\n",
    "Before combining, it's good practice to inspect the structure and contents of each DataFrame. Let's use the `.info()` and `.head()` methods to get a quick overview."
   ]
  },
  {
   "cell_type": "code",
   "execution_count": 22,
   "id": "d564ea9f-2194-485d-94e8-94143ad7a0cf",
   "metadata": {
    "editable": true,
    "slideshow": {
     "slide_type": ""
    },
    "tags": []
   },
   "outputs": [
    {
     "name": "stdout",
     "output_type": "stream",
     "text": [
      "<class 'pandas.core.frame.DataFrame'>\n",
      "RangeIndex: 4 entries, 0 to 3\n",
      "Data columns (total 4 columns):\n",
      " #   Column   Non-Null Count  Dtype \n",
      "---  ------   --------------  ----- \n",
      " 0   id       4 non-null      int64 \n",
      " 1   name     4 non-null      object\n",
      " 2   job      4 non-null      object\n",
      " 3   species  4 non-null      object\n",
      "dtypes: int64(1), object(3)\n",
      "memory usage: 260.0+ bytes\n"
     ]
    }
   ],
   "source": [
    "## Begin Example\n",
    "df1.info()"
   ]
  },
  {
   "cell_type": "code",
   "execution_count": 24,
   "id": "db12f28f-5367-4f36-8062-ec4ac9badd20",
   "metadata": {},
   "outputs": [
    {
     "name": "stdout",
     "output_type": "stream",
     "text": [
      "<class 'pandas.core.frame.DataFrame'>\n",
      "RangeIndex: 5 entries, 0 to 4\n",
      "Data columns (total 4 columns):\n",
      " #   Column            Non-Null Count  Dtype \n",
      "---  ------            --------------  ----- \n",
      " 0   id                5 non-null      int64 \n",
      " 1   name              5 non-null      object\n",
      " 2   age               5 non-null      int64 \n",
      " 3   personality_type  5 non-null      object\n",
      "dtypes: int64(2), object(2)\n",
      "memory usage: 292.0+ bytes\n"
     ]
    }
   ],
   "source": [
    "df2.info()"
   ]
  },
  {
   "cell_type": "code",
   "execution_count": 25,
   "id": "7d677e58-ceb8-4fb3-8db0-de834f6f66c9",
   "metadata": {
    "editable": true,
    "slideshow": {
     "slide_type": ""
    },
    "tags": []
   },
   "outputs": [
    {
     "data": {
      "text/html": [
       "<div>\n",
       "<style scoped>\n",
       "    .dataframe tbody tr th:only-of-type {\n",
       "        vertical-align: middle;\n",
       "    }\n",
       "\n",
       "    .dataframe tbody tr th {\n",
       "        vertical-align: top;\n",
       "    }\n",
       "\n",
       "    .dataframe thead th {\n",
       "        text-align: right;\n",
       "    }\n",
       "</style>\n",
       "<table border=\"1\" class=\"dataframe\">\n",
       "  <thead>\n",
       "    <tr style=\"text-align: right;\">\n",
       "      <th></th>\n",
       "      <th>id</th>\n",
       "      <th>name</th>\n",
       "      <th>age</th>\n",
       "      <th>personality_type</th>\n",
       "    </tr>\n",
       "  </thead>\n",
       "  <tbody>\n",
       "    <tr>\n",
       "      <th>0</th>\n",
       "      <td>3</td>\n",
       "      <td>Squidward Tentacles</td>\n",
       "      <td>49</td>\n",
       "      <td>Grumpy</td>\n",
       "    </tr>\n",
       "    <tr>\n",
       "      <th>1</th>\n",
       "      <td>4</td>\n",
       "      <td>Sandy Cheeks</td>\n",
       "      <td>27</td>\n",
       "      <td>Energetic</td>\n",
       "    </tr>\n",
       "    <tr>\n",
       "      <th>2</th>\n",
       "      <td>5</td>\n",
       "      <td>Mr. Krabs</td>\n",
       "      <td>78</td>\n",
       "      <td>Greedy</td>\n",
       "    </tr>\n",
       "    <tr>\n",
       "      <th>3</th>\n",
       "      <td>6</td>\n",
       "      <td>Plankton</td>\n",
       "      <td>52</td>\n",
       "      <td>Obsessive</td>\n",
       "    </tr>\n",
       "    <tr>\n",
       "      <th>4</th>\n",
       "      <td>7</td>\n",
       "      <td>Mrs. Puff</td>\n",
       "      <td>60</td>\n",
       "      <td>Anxious</td>\n",
       "    </tr>\n",
       "  </tbody>\n",
       "</table>\n",
       "</div>"
      ],
      "text/plain": [
       "   id                 name  age personality_type\n",
       "0   3  Squidward Tentacles   49           Grumpy\n",
       "1   4         Sandy Cheeks   27        Energetic\n",
       "2   5            Mr. Krabs   78           Greedy\n",
       "3   6             Plankton   52        Obsessive\n",
       "4   7            Mrs. Puff   60          Anxious"
      ]
     },
     "execution_count": 25,
     "metadata": {},
     "output_type": "execute_result"
    }
   ],
   "source": [
    "df2.head()"
   ]
  },
  {
   "cell_type": "code",
   "execution_count": 23,
   "id": "b28b4e3f-1dfc-4f7e-83cd-1348946843e8",
   "metadata": {},
   "outputs": [
    {
     "data": {
      "text/html": [
       "<div>\n",
       "<style scoped>\n",
       "    .dataframe tbody tr th:only-of-type {\n",
       "        vertical-align: middle;\n",
       "    }\n",
       "\n",
       "    .dataframe tbody tr th {\n",
       "        vertical-align: top;\n",
       "    }\n",
       "\n",
       "    .dataframe thead th {\n",
       "        text-align: right;\n",
       "    }\n",
       "</style>\n",
       "<table border=\"1\" class=\"dataframe\">\n",
       "  <thead>\n",
       "    <tr style=\"text-align: right;\">\n",
       "      <th></th>\n",
       "      <th>id</th>\n",
       "      <th>name</th>\n",
       "      <th>job</th>\n",
       "      <th>species</th>\n",
       "    </tr>\n",
       "  </thead>\n",
       "  <tbody>\n",
       "    <tr>\n",
       "      <th>0</th>\n",
       "      <td>1</td>\n",
       "      <td>Spongebob Squarepants</td>\n",
       "      <td>Fry Cook</td>\n",
       "      <td>Sea Sponge</td>\n",
       "    </tr>\n",
       "    <tr>\n",
       "      <th>1</th>\n",
       "      <td>2</td>\n",
       "      <td>Patrick Star</td>\n",
       "      <td>Professional Best Friend</td>\n",
       "      <td>Starfish</td>\n",
       "    </tr>\n",
       "    <tr>\n",
       "      <th>2</th>\n",
       "      <td>3</td>\n",
       "      <td>Squidward Tentacles</td>\n",
       "      <td>Cashier</td>\n",
       "      <td>Octopus</td>\n",
       "    </tr>\n",
       "    <tr>\n",
       "      <th>3</th>\n",
       "      <td>4</td>\n",
       "      <td>Sandy Cheeks</td>\n",
       "      <td>Scientist</td>\n",
       "      <td>Squirrel</td>\n",
       "    </tr>\n",
       "  </tbody>\n",
       "</table>\n",
       "</div>"
      ],
      "text/plain": [
       "   id                   name                       job     species\n",
       "0   1  Spongebob Squarepants                  Fry Cook  Sea Sponge\n",
       "1   2           Patrick Star  Professional Best Friend    Starfish\n",
       "2   3    Squidward Tentacles                   Cashier     Octopus\n",
       "3   4           Sandy Cheeks                 Scientist    Squirrel"
      ]
     },
     "execution_count": 23,
     "metadata": {},
     "output_type": "execute_result"
    }
   ],
   "source": [
    "df1.head()"
   ]
  },
  {
   "cell_type": "markdown",
   "id": "bfbb20e2-20c5-40d9-b7c2-9962107affe3",
   "metadata": {
    "editable": true,
    "slideshow": {
     "slide_type": ""
    },
    "tags": []
   },
   "source": [
    "## Combining DataFrames with `.merge()`\n",
    "\n",
    "<center><img src=\"../images/illustrations/data merge illustrations.jpg\"></center>\n",
    "\n",
    "The `.merge()` method in Pandas is ideal for combining rows from two DataFrames based on shared data. It intelligently aligns rows where values in specified columns or indices match.\n",
    "\n",
    "**Basic Structure:**\n",
    "\n",
    "To perform a merge, you specify two primary DataFrames:\n",
    "\n",
    "* The **left DataFrame**: The first DataFrame you are merging.\n",
    "* The **right DataFrame**: The second DataFrame you are merging with.\n",
    "\n",
    "**Controlling the Merge with Optional Arguments:**\n",
    "\n",
    "Several optional arguments allow you to fine-tune the merging process:\n",
    "\n",
    "* **`how`**: Defines the type of merge to be performed:\n",
    "    * `inner`: Keeps only the rows where the join key(s) exist in *both* DataFrames.\n",
    "    * `outer`: Includes *all* rows from both DataFrames. Where a key exists in only one DataFrame, missing values (`NaN`) are introduced for the columns of the other DataFrame.\n",
    "    * `left`: Includes all rows from the *left* DataFrame, and the matching rows from the *right* DataFrame. If a key in the left DataFrame has no match in the right, the corresponding columns from the right DataFrame will have `NaN` values.\n",
    "    * `right`: Similar to `left`, but includes all rows from the *right* DataFrame and the matching rows from the *left* DataFrame.\n",
    "\n",
    "* **`on`**: Specifies the column name(s) or index level name(s) that will be used as the join key(s).\n",
    "    * If no `on` argument is provided, `.merge()` will automatically use any columns that have identical names in both DataFrames as the join keys.\n",
    "    * The column(s) or index level(s) specified with `on` must be present in both DataFrames.\n",
    "\n",
    "* **`left_on`**: Specifies the column name(s) or index level name(s) in the *left* DataFrame to use as join keys.\n",
    "\n",
    "* **`right_on`**: Specifies the column name(s) or index level name(s) in the *right* DataFrame to use as join keys. This is useful when the columns you want to join have different names in the two DataFrames.\n",
    "\n",
    "* **`left_index`**: A boolean value. If `True`, uses the index of the *left* DataFrame as the join key(s).\n",
    "\n",
    "* **`right_index`**: A boolean value. If `True`, uses the index of the *right* DataFrame as the join key(s)."
   ]
  },
  {
   "cell_type": "markdown",
   "id": "66cf51b5-b370-4812-96e2-129ed610b19e",
   "metadata": {
    "editable": true,
    "slideshow": {
     "slide_type": ""
    },
    "tags": []
   },
   "source": [
    "### `.merge()` - Inner Join\n",
    "\n",
    "<center><img src=\"../images/illustrations/data merge illustrations - inner.jpg\"></center>\n",
    "\n",
    "An **inner join** using `.merge()` returns only the rows where the specified join key(s) have matching values in *both* the left and the right DataFrames. \n",
    "\n",
    "It essentially finds the intersection of the two datasets based on the common key(s).\n",
    "\n",
    "Let's apply `.merge()` with the default inner join to our `spongebob_df1` and `spongebob_df2` DataFrames:"
   ]
  },
  {
   "cell_type": "code",
   "execution_count": 3,
   "id": "b88ad329-1020-4b15-ac9a-44e133989566",
   "metadata": {
    "editable": true,
    "slideshow": {
     "slide_type": ""
    },
    "tags": []
   },
   "outputs": [
    {
     "data": {
      "text/html": [
       "<div>\n",
       "<style scoped>\n",
       "    .dataframe tbody tr th:only-of-type {\n",
       "        vertical-align: middle;\n",
       "    }\n",
       "\n",
       "    .dataframe tbody tr th {\n",
       "        vertical-align: top;\n",
       "    }\n",
       "\n",
       "    .dataframe thead th {\n",
       "        text-align: right;\n",
       "    }\n",
       "</style>\n",
       "<table border=\"1\" class=\"dataframe\">\n",
       "  <thead>\n",
       "    <tr style=\"text-align: right;\">\n",
       "      <th></th>\n",
       "      <th>id</th>\n",
       "      <th>name</th>\n",
       "      <th>job</th>\n",
       "      <th>species</th>\n",
       "      <th>age</th>\n",
       "      <th>personality</th>\n",
       "    </tr>\n",
       "  </thead>\n",
       "  <tbody>\n",
       "    <tr>\n",
       "      <th>0</th>\n",
       "      <td>3</td>\n",
       "      <td>Squidward Tentacles</td>\n",
       "      <td>Cashier</td>\n",
       "      <td>Octopus</td>\n",
       "      <td>49</td>\n",
       "      <td>Grumpy</td>\n",
       "    </tr>\n",
       "    <tr>\n",
       "      <th>1</th>\n",
       "      <td>4</td>\n",
       "      <td>Sandy Cheeks</td>\n",
       "      <td>Scientist</td>\n",
       "      <td>Squirrel</td>\n",
       "      <td>27</td>\n",
       "      <td>Energetic</td>\n",
       "    </tr>\n",
       "  </tbody>\n",
       "</table>\n",
       "</div>"
      ],
      "text/plain": [
       "   id                 name        job   species  age personality\n",
       "0   3  Squidward Tentacles    Cashier   Octopus   49      Grumpy\n",
       "1   4         Sandy Cheeks  Scientist  Squirrel   27   Energetic"
      ]
     },
     "execution_count": 3,
     "metadata": {},
     "output_type": "execute_result"
    }
   ],
   "source": [
    "## Begin Example\n",
    "df1.merge(df2)\n",
    "## End Example"
   ]
  },
  {
   "cell_type": "markdown",
   "id": "06852863-e98d-4a2b-bc9f-3d2365dce897",
   "metadata": {
    "editable": true,
    "slideshow": {
     "slide_type": ""
    },
    "tags": []
   },
   "source": [
    "**Note:**\n",
    "\n",
    "By default, calling `.merge()` without any additional arguments will perform an **inner join**.\n",
    "\n",
    "However, for clarity and explicit control, you can achieve the same result by explicitly specifying the join type using the `how='inner'` argument and indicating the joining column(s) with the `on` argument."
   ]
  },
  {
   "cell_type": "code",
   "execution_count": 5,
   "id": "52ac8fd6-17dc-4349-a7ab-00b6b3bdbff0",
   "metadata": {},
   "outputs": [
    {
     "data": {
      "text/html": [
       "<div>\n",
       "<style scoped>\n",
       "    .dataframe tbody tr th:only-of-type {\n",
       "        vertical-align: middle;\n",
       "    }\n",
       "\n",
       "    .dataframe tbody tr th {\n",
       "        vertical-align: top;\n",
       "    }\n",
       "\n",
       "    .dataframe thead th {\n",
       "        text-align: right;\n",
       "    }\n",
       "</style>\n",
       "<table border=\"1\" class=\"dataframe\">\n",
       "  <thead>\n",
       "    <tr style=\"text-align: right;\">\n",
       "      <th></th>\n",
       "      <th>id</th>\n",
       "      <th>name</th>\n",
       "      <th>job</th>\n",
       "      <th>species</th>\n",
       "      <th>age</th>\n",
       "      <th>personality</th>\n",
       "    </tr>\n",
       "  </thead>\n",
       "  <tbody>\n",
       "    <tr>\n",
       "      <th>0</th>\n",
       "      <td>3</td>\n",
       "      <td>Squidward Tentacles</td>\n",
       "      <td>Cashier</td>\n",
       "      <td>Octopus</td>\n",
       "      <td>49</td>\n",
       "      <td>Grumpy</td>\n",
       "    </tr>\n",
       "    <tr>\n",
       "      <th>1</th>\n",
       "      <td>4</td>\n",
       "      <td>Sandy Cheeks</td>\n",
       "      <td>Scientist</td>\n",
       "      <td>Squirrel</td>\n",
       "      <td>27</td>\n",
       "      <td>Energetic</td>\n",
       "    </tr>\n",
       "  </tbody>\n",
       "</table>\n",
       "</div>"
      ],
      "text/plain": [
       "   id                 name        job   species  age personality\n",
       "0   3  Squidward Tentacles    Cashier   Octopus   49      Grumpy\n",
       "1   4         Sandy Cheeks  Scientist  Squirrel   27   Energetic"
      ]
     },
     "execution_count": 5,
     "metadata": {},
     "output_type": "execute_result"
    }
   ],
   "source": [
    "## Begin Example\n",
    "df1.merge(df2, how=\"inner\", on=[\"id\", \"name\"])\n",
    "## End Example"
   ]
  },
  {
   "cell_type": "markdown",
   "id": "45c45e04-c855-4867-a17e-887ca11fa217",
   "metadata": {
    "editable": true,
    "slideshow": {
     "slide_type": ""
    },
    "tags": []
   },
   "source": [
    "### `.merge()` - Outer Join\n",
    "\n",
    "<center><img src=\"../images/illustrations/data merge illustrations - outer.jpg\"></center>\n",
    "\n",
    "An **outer join** using `.merge()` combines *all* rows from both the left and the right DataFrames. \n",
    "\n",
    "Let's perform an outer join on our spongebob DataFrames:"
   ]
  },
  {
   "cell_type": "code",
   "execution_count": 28,
   "id": "91ee4341-bc46-4235-8c34-661e546f35b6",
   "metadata": {
    "editable": true,
    "slideshow": {
     "slide_type": ""
    },
    "tags": []
   },
   "outputs": [
    {
     "data": {
      "text/html": [
       "<div>\n",
       "<style scoped>\n",
       "    .dataframe tbody tr th:only-of-type {\n",
       "        vertical-align: middle;\n",
       "    }\n",
       "\n",
       "    .dataframe tbody tr th {\n",
       "        vertical-align: top;\n",
       "    }\n",
       "\n",
       "    .dataframe thead th {\n",
       "        text-align: right;\n",
       "    }\n",
       "</style>\n",
       "<table border=\"1\" class=\"dataframe\">\n",
       "  <thead>\n",
       "    <tr style=\"text-align: right;\">\n",
       "      <th></th>\n",
       "      <th>id</th>\n",
       "      <th>name</th>\n",
       "      <th>job</th>\n",
       "      <th>species</th>\n",
       "      <th>age</th>\n",
       "      <th>personality_type</th>\n",
       "    </tr>\n",
       "  </thead>\n",
       "  <tbody>\n",
       "    <tr>\n",
       "      <th>0</th>\n",
       "      <td>1</td>\n",
       "      <td>Spongebob Squarepants</td>\n",
       "      <td>Fry Cook</td>\n",
       "      <td>Sea Sponge</td>\n",
       "      <td>NaN</td>\n",
       "      <td>NaN</td>\n",
       "    </tr>\n",
       "    <tr>\n",
       "      <th>1</th>\n",
       "      <td>2</td>\n",
       "      <td>Patrick Star</td>\n",
       "      <td>Professional Best Friend</td>\n",
       "      <td>Starfish</td>\n",
       "      <td>NaN</td>\n",
       "      <td>NaN</td>\n",
       "    </tr>\n",
       "    <tr>\n",
       "      <th>2</th>\n",
       "      <td>3</td>\n",
       "      <td>Squidward Tentacles</td>\n",
       "      <td>Cashier</td>\n",
       "      <td>Octopus</td>\n",
       "      <td>49.0</td>\n",
       "      <td>Grumpy</td>\n",
       "    </tr>\n",
       "    <tr>\n",
       "      <th>3</th>\n",
       "      <td>4</td>\n",
       "      <td>Sandy Cheeks</td>\n",
       "      <td>Scientist</td>\n",
       "      <td>Squirrel</td>\n",
       "      <td>27.0</td>\n",
       "      <td>Energetic</td>\n",
       "    </tr>\n",
       "    <tr>\n",
       "      <th>4</th>\n",
       "      <td>5</td>\n",
       "      <td>Mr. Krabs</td>\n",
       "      <td>NaN</td>\n",
       "      <td>NaN</td>\n",
       "      <td>78.0</td>\n",
       "      <td>Greedy</td>\n",
       "    </tr>\n",
       "    <tr>\n",
       "      <th>5</th>\n",
       "      <td>6</td>\n",
       "      <td>Plankton</td>\n",
       "      <td>NaN</td>\n",
       "      <td>NaN</td>\n",
       "      <td>52.0</td>\n",
       "      <td>Obsessive</td>\n",
       "    </tr>\n",
       "    <tr>\n",
       "      <th>6</th>\n",
       "      <td>7</td>\n",
       "      <td>Mrs. Puff</td>\n",
       "      <td>NaN</td>\n",
       "      <td>NaN</td>\n",
       "      <td>60.0</td>\n",
       "      <td>Anxious</td>\n",
       "    </tr>\n",
       "  </tbody>\n",
       "</table>\n",
       "</div>"
      ],
      "text/plain": [
       "   id                   name                       job     species   age  \\\n",
       "0   1  Spongebob Squarepants                  Fry Cook  Sea Sponge   NaN   \n",
       "1   2           Patrick Star  Professional Best Friend    Starfish   NaN   \n",
       "2   3    Squidward Tentacles                   Cashier     Octopus  49.0   \n",
       "3   4           Sandy Cheeks                 Scientist    Squirrel  27.0   \n",
       "4   5              Mr. Krabs                       NaN         NaN  78.0   \n",
       "5   6               Plankton                       NaN         NaN  52.0   \n",
       "6   7              Mrs. Puff                       NaN         NaN  60.0   \n",
       "\n",
       "  personality_type  \n",
       "0              NaN  \n",
       "1              NaN  \n",
       "2           Grumpy  \n",
       "3        Energetic  \n",
       "4           Greedy  \n",
       "5        Obsessive  \n",
       "6          Anxious  "
      ]
     },
     "execution_count": 28,
     "metadata": {},
     "output_type": "execute_result"
    }
   ],
   "source": [
    "## Begin Example\n",
    "df1.merge(df2, how=\"outer\")\n",
    "## End Example"
   ]
  },
  {
   "cell_type": "markdown",
   "id": "c7a077e9-bc1f-4d98-8c09-14ae744f39d3",
   "metadata": {
    "editable": true,
    "slideshow": {
     "slide_type": ""
    },
    "tags": []
   },
   "source": [
    "__Note:__\n",
    "\n",
    "If a join key exists in only one of the DataFrames, the resulting merged DataFrame will have missing values (`NaN`) in the columns originating from the DataFrame that doesn't have that key."
   ]
  },
  {
   "cell_type": "markdown",
   "id": "5fa51785-e7b5-44dd-8cea-52b4892b0740",
   "metadata": {
    "editable": true,
    "slideshow": {
     "slide_type": ""
    },
    "tags": []
   },
   "source": [
    "### `.merge()` - Left Join\n",
    "\n",
    "<center><img src=\"../images/illustrations/data merge illustrations - left.jpg\"></center>\n",
    "\n",
    "A **left join** using `.merge()` includes all rows from the *left* DataFrame in the result. \n",
    "\n",
    "For each row in the left DataFrame, it also includes the matching rows from the *right* DataFrame based on the join key(s)."
   ]
  },
  {
   "cell_type": "code",
   "execution_count": 29,
   "id": "a39b458e-cd80-43ff-bc28-f2b2d2c9967f",
   "metadata": {
    "editable": true,
    "slideshow": {
     "slide_type": ""
    },
    "tags": []
   },
   "outputs": [
    {
     "data": {
      "text/html": [
       "<div>\n",
       "<style scoped>\n",
       "    .dataframe tbody tr th:only-of-type {\n",
       "        vertical-align: middle;\n",
       "    }\n",
       "\n",
       "    .dataframe tbody tr th {\n",
       "        vertical-align: top;\n",
       "    }\n",
       "\n",
       "    .dataframe thead th {\n",
       "        text-align: right;\n",
       "    }\n",
       "</style>\n",
       "<table border=\"1\" class=\"dataframe\">\n",
       "  <thead>\n",
       "    <tr style=\"text-align: right;\">\n",
       "      <th></th>\n",
       "      <th>id</th>\n",
       "      <th>name</th>\n",
       "      <th>job</th>\n",
       "      <th>species</th>\n",
       "      <th>age</th>\n",
       "      <th>personality_type</th>\n",
       "    </tr>\n",
       "  </thead>\n",
       "  <tbody>\n",
       "    <tr>\n",
       "      <th>0</th>\n",
       "      <td>1</td>\n",
       "      <td>Spongebob Squarepants</td>\n",
       "      <td>Fry Cook</td>\n",
       "      <td>Sea Sponge</td>\n",
       "      <td>NaN</td>\n",
       "      <td>NaN</td>\n",
       "    </tr>\n",
       "    <tr>\n",
       "      <th>1</th>\n",
       "      <td>2</td>\n",
       "      <td>Patrick Star</td>\n",
       "      <td>Professional Best Friend</td>\n",
       "      <td>Starfish</td>\n",
       "      <td>NaN</td>\n",
       "      <td>NaN</td>\n",
       "    </tr>\n",
       "    <tr>\n",
       "      <th>2</th>\n",
       "      <td>3</td>\n",
       "      <td>Squidward Tentacles</td>\n",
       "      <td>Cashier</td>\n",
       "      <td>Octopus</td>\n",
       "      <td>49.0</td>\n",
       "      <td>Grumpy</td>\n",
       "    </tr>\n",
       "    <tr>\n",
       "      <th>3</th>\n",
       "      <td>4</td>\n",
       "      <td>Sandy Cheeks</td>\n",
       "      <td>Scientist</td>\n",
       "      <td>Squirrel</td>\n",
       "      <td>27.0</td>\n",
       "      <td>Energetic</td>\n",
       "    </tr>\n",
       "  </tbody>\n",
       "</table>\n",
       "</div>"
      ],
      "text/plain": [
       "   id                   name                       job     species   age  \\\n",
       "0   1  Spongebob Squarepants                  Fry Cook  Sea Sponge   NaN   \n",
       "1   2           Patrick Star  Professional Best Friend    Starfish   NaN   \n",
       "2   3    Squidward Tentacles                   Cashier     Octopus  49.0   \n",
       "3   4           Sandy Cheeks                 Scientist    Squirrel  27.0   \n",
       "\n",
       "  personality_type  \n",
       "0              NaN  \n",
       "1              NaN  \n",
       "2           Grumpy  \n",
       "3        Energetic  "
      ]
     },
     "execution_count": 29,
     "metadata": {},
     "output_type": "execute_result"
    }
   ],
   "source": [
    "## Begin Example\n",
    "df1.merge(df2, how = \"left\")\n",
    "## End Example"
   ]
  },
  {
   "cell_type": "markdown",
   "id": "d0c40d27-b38a-41bc-b272-07bb0854116a",
   "metadata": {
    "editable": true,
    "slideshow": {
     "slide_type": ""
    },
    "tags": []
   },
   "source": [
    "**Note**:\n",
    "\n",
    "If a row in the left DataFrame has no matching key in the right DataFrame, the columns from the right DataFrame will have missing values (`NaN`)."
   ]
  },
  {
   "cell_type": "markdown",
   "id": "e26db6ff-ba52-4b6e-a44d-5d5ab2a6ff06",
   "metadata": {
    "editable": true,
    "slideshow": {
     "slide_type": ""
    },
    "tags": []
   },
   "source": [
    "### `.merge()` - Right Join\n",
    "\n",
    "<center><img src=\"../images/illustrations/data merge illustrations - right.jpg\"></center>\n",
    "\n",
    "A **right join** using `.merge()` includes all rows from the *right* DataFrame in the result. \n",
    "\n",
    "For each row in the right DataFrame, it also includes the matching rows from the *left* DataFrame based on the join key(s)."
   ]
  },
  {
   "cell_type": "code",
   "execution_count": 30,
   "id": "e46738c4-08e7-4450-92de-614e5b539335",
   "metadata": {
    "editable": true,
    "slideshow": {
     "slide_type": ""
    },
    "tags": []
   },
   "outputs": [
    {
     "data": {
      "text/html": [
       "<div>\n",
       "<style scoped>\n",
       "    .dataframe tbody tr th:only-of-type {\n",
       "        vertical-align: middle;\n",
       "    }\n",
       "\n",
       "    .dataframe tbody tr th {\n",
       "        vertical-align: top;\n",
       "    }\n",
       "\n",
       "    .dataframe thead th {\n",
       "        text-align: right;\n",
       "    }\n",
       "</style>\n",
       "<table border=\"1\" class=\"dataframe\">\n",
       "  <thead>\n",
       "    <tr style=\"text-align: right;\">\n",
       "      <th></th>\n",
       "      <th>id</th>\n",
       "      <th>name</th>\n",
       "      <th>job</th>\n",
       "      <th>species</th>\n",
       "      <th>age</th>\n",
       "      <th>personality_type</th>\n",
       "    </tr>\n",
       "  </thead>\n",
       "  <tbody>\n",
       "    <tr>\n",
       "      <th>0</th>\n",
       "      <td>3</td>\n",
       "      <td>Squidward Tentacles</td>\n",
       "      <td>Cashier</td>\n",
       "      <td>Octopus</td>\n",
       "      <td>49</td>\n",
       "      <td>Grumpy</td>\n",
       "    </tr>\n",
       "    <tr>\n",
       "      <th>1</th>\n",
       "      <td>4</td>\n",
       "      <td>Sandy Cheeks</td>\n",
       "      <td>Scientist</td>\n",
       "      <td>Squirrel</td>\n",
       "      <td>27</td>\n",
       "      <td>Energetic</td>\n",
       "    </tr>\n",
       "    <tr>\n",
       "      <th>2</th>\n",
       "      <td>5</td>\n",
       "      <td>Mr. Krabs</td>\n",
       "      <td>NaN</td>\n",
       "      <td>NaN</td>\n",
       "      <td>78</td>\n",
       "      <td>Greedy</td>\n",
       "    </tr>\n",
       "    <tr>\n",
       "      <th>3</th>\n",
       "      <td>6</td>\n",
       "      <td>Plankton</td>\n",
       "      <td>NaN</td>\n",
       "      <td>NaN</td>\n",
       "      <td>52</td>\n",
       "      <td>Obsessive</td>\n",
       "    </tr>\n",
       "    <tr>\n",
       "      <th>4</th>\n",
       "      <td>7</td>\n",
       "      <td>Mrs. Puff</td>\n",
       "      <td>NaN</td>\n",
       "      <td>NaN</td>\n",
       "      <td>60</td>\n",
       "      <td>Anxious</td>\n",
       "    </tr>\n",
       "  </tbody>\n",
       "</table>\n",
       "</div>"
      ],
      "text/plain": [
       "   id                 name        job   species  age personality_type\n",
       "0   3  Squidward Tentacles    Cashier   Octopus   49           Grumpy\n",
       "1   4         Sandy Cheeks  Scientist  Squirrel   27        Energetic\n",
       "2   5            Mr. Krabs        NaN       NaN   78           Greedy\n",
       "3   6             Plankton        NaN       NaN   52        Obsessive\n",
       "4   7            Mrs. Puff        NaN       NaN   60          Anxious"
      ]
     },
     "execution_count": 30,
     "metadata": {},
     "output_type": "execute_result"
    }
   ],
   "source": [
    "## Begin Example\n",
    "df1.merge(df2, how = \"right\")\n",
    "## End Example"
   ]
  },
  {
   "cell_type": "markdown",
   "id": "36d8217d-dd1e-44d9-959e-81a60babeeee",
   "metadata": {
    "editable": true,
    "slideshow": {
     "slide_type": ""
    },
    "tags": []
   },
   "source": [
    "**Note**:\n",
    "\n",
    "If a row in the right DataFrame has no matching key in the left DataFrame, the columns from the left DataFrame will have missing values (`NaN`)."
   ]
  },
  {
   "cell_type": "markdown",
   "id": "60c66f41-621f-49dc-b377-27ad0eb766bf",
   "metadata": {
    "editable": true,
    "slideshow": {
     "slide_type": ""
    },
    "tags": []
   },
   "source": [
    "### `.merge()` - Cross Join\n",
    "\n",
    "<center><img src=\"../images/illustrations/data merge illustrations cross.jpg\"></center>\n",
    "\n",
    "A **cross join** using `.merge()` produces the Cartesian product of the rows from the left and right DataFrames. \n",
    "\n",
    "This means that every row from the left DataFrame is combined with every row from the right DataFrame, resulting in a DataFrame where the number of rows is the product of the number of rows in the two original DataFrames."
   ]
  },
  {
   "cell_type": "code",
   "execution_count": 31,
   "id": "86d6545b-bbee-41db-802c-4d14920763ae",
   "metadata": {
    "editable": true,
    "slideshow": {
     "slide_type": ""
    },
    "tags": []
   },
   "outputs": [
    {
     "data": {
      "text/html": [
       "<div>\n",
       "<style scoped>\n",
       "    .dataframe tbody tr th:only-of-type {\n",
       "        vertical-align: middle;\n",
       "    }\n",
       "\n",
       "    .dataframe tbody tr th {\n",
       "        vertical-align: top;\n",
       "    }\n",
       "\n",
       "    .dataframe thead th {\n",
       "        text-align: right;\n",
       "    }\n",
       "</style>\n",
       "<table border=\"1\" class=\"dataframe\">\n",
       "  <thead>\n",
       "    <tr style=\"text-align: right;\">\n",
       "      <th></th>\n",
       "      <th>id_x</th>\n",
       "      <th>name_x</th>\n",
       "      <th>job</th>\n",
       "      <th>species</th>\n",
       "      <th>id_y</th>\n",
       "      <th>name_y</th>\n",
       "      <th>age</th>\n",
       "      <th>personality_type</th>\n",
       "    </tr>\n",
       "  </thead>\n",
       "  <tbody>\n",
       "    <tr>\n",
       "      <th>0</th>\n",
       "      <td>1</td>\n",
       "      <td>Spongebob Squarepants</td>\n",
       "      <td>Fry Cook</td>\n",
       "      <td>Sea Sponge</td>\n",
       "      <td>3</td>\n",
       "      <td>Squidward Tentacles</td>\n",
       "      <td>49</td>\n",
       "      <td>Grumpy</td>\n",
       "    </tr>\n",
       "    <tr>\n",
       "      <th>1</th>\n",
       "      <td>1</td>\n",
       "      <td>Spongebob Squarepants</td>\n",
       "      <td>Fry Cook</td>\n",
       "      <td>Sea Sponge</td>\n",
       "      <td>4</td>\n",
       "      <td>Sandy Cheeks</td>\n",
       "      <td>27</td>\n",
       "      <td>Energetic</td>\n",
       "    </tr>\n",
       "    <tr>\n",
       "      <th>2</th>\n",
       "      <td>1</td>\n",
       "      <td>Spongebob Squarepants</td>\n",
       "      <td>Fry Cook</td>\n",
       "      <td>Sea Sponge</td>\n",
       "      <td>5</td>\n",
       "      <td>Mr. Krabs</td>\n",
       "      <td>78</td>\n",
       "      <td>Greedy</td>\n",
       "    </tr>\n",
       "    <tr>\n",
       "      <th>3</th>\n",
       "      <td>1</td>\n",
       "      <td>Spongebob Squarepants</td>\n",
       "      <td>Fry Cook</td>\n",
       "      <td>Sea Sponge</td>\n",
       "      <td>6</td>\n",
       "      <td>Plankton</td>\n",
       "      <td>52</td>\n",
       "      <td>Obsessive</td>\n",
       "    </tr>\n",
       "    <tr>\n",
       "      <th>4</th>\n",
       "      <td>1</td>\n",
       "      <td>Spongebob Squarepants</td>\n",
       "      <td>Fry Cook</td>\n",
       "      <td>Sea Sponge</td>\n",
       "      <td>7</td>\n",
       "      <td>Mrs. Puff</td>\n",
       "      <td>60</td>\n",
       "      <td>Anxious</td>\n",
       "    </tr>\n",
       "    <tr>\n",
       "      <th>5</th>\n",
       "      <td>2</td>\n",
       "      <td>Patrick Star</td>\n",
       "      <td>Professional Best Friend</td>\n",
       "      <td>Starfish</td>\n",
       "      <td>3</td>\n",
       "      <td>Squidward Tentacles</td>\n",
       "      <td>49</td>\n",
       "      <td>Grumpy</td>\n",
       "    </tr>\n",
       "    <tr>\n",
       "      <th>6</th>\n",
       "      <td>2</td>\n",
       "      <td>Patrick Star</td>\n",
       "      <td>Professional Best Friend</td>\n",
       "      <td>Starfish</td>\n",
       "      <td>4</td>\n",
       "      <td>Sandy Cheeks</td>\n",
       "      <td>27</td>\n",
       "      <td>Energetic</td>\n",
       "    </tr>\n",
       "    <tr>\n",
       "      <th>7</th>\n",
       "      <td>2</td>\n",
       "      <td>Patrick Star</td>\n",
       "      <td>Professional Best Friend</td>\n",
       "      <td>Starfish</td>\n",
       "      <td>5</td>\n",
       "      <td>Mr. Krabs</td>\n",
       "      <td>78</td>\n",
       "      <td>Greedy</td>\n",
       "    </tr>\n",
       "    <tr>\n",
       "      <th>8</th>\n",
       "      <td>2</td>\n",
       "      <td>Patrick Star</td>\n",
       "      <td>Professional Best Friend</td>\n",
       "      <td>Starfish</td>\n",
       "      <td>6</td>\n",
       "      <td>Plankton</td>\n",
       "      <td>52</td>\n",
       "      <td>Obsessive</td>\n",
       "    </tr>\n",
       "    <tr>\n",
       "      <th>9</th>\n",
       "      <td>2</td>\n",
       "      <td>Patrick Star</td>\n",
       "      <td>Professional Best Friend</td>\n",
       "      <td>Starfish</td>\n",
       "      <td>7</td>\n",
       "      <td>Mrs. Puff</td>\n",
       "      <td>60</td>\n",
       "      <td>Anxious</td>\n",
       "    </tr>\n",
       "    <tr>\n",
       "      <th>10</th>\n",
       "      <td>3</td>\n",
       "      <td>Squidward Tentacles</td>\n",
       "      <td>Cashier</td>\n",
       "      <td>Octopus</td>\n",
       "      <td>3</td>\n",
       "      <td>Squidward Tentacles</td>\n",
       "      <td>49</td>\n",
       "      <td>Grumpy</td>\n",
       "    </tr>\n",
       "    <tr>\n",
       "      <th>11</th>\n",
       "      <td>3</td>\n",
       "      <td>Squidward Tentacles</td>\n",
       "      <td>Cashier</td>\n",
       "      <td>Octopus</td>\n",
       "      <td>4</td>\n",
       "      <td>Sandy Cheeks</td>\n",
       "      <td>27</td>\n",
       "      <td>Energetic</td>\n",
       "    </tr>\n",
       "    <tr>\n",
       "      <th>12</th>\n",
       "      <td>3</td>\n",
       "      <td>Squidward Tentacles</td>\n",
       "      <td>Cashier</td>\n",
       "      <td>Octopus</td>\n",
       "      <td>5</td>\n",
       "      <td>Mr. Krabs</td>\n",
       "      <td>78</td>\n",
       "      <td>Greedy</td>\n",
       "    </tr>\n",
       "    <tr>\n",
       "      <th>13</th>\n",
       "      <td>3</td>\n",
       "      <td>Squidward Tentacles</td>\n",
       "      <td>Cashier</td>\n",
       "      <td>Octopus</td>\n",
       "      <td>6</td>\n",
       "      <td>Plankton</td>\n",
       "      <td>52</td>\n",
       "      <td>Obsessive</td>\n",
       "    </tr>\n",
       "    <tr>\n",
       "      <th>14</th>\n",
       "      <td>3</td>\n",
       "      <td>Squidward Tentacles</td>\n",
       "      <td>Cashier</td>\n",
       "      <td>Octopus</td>\n",
       "      <td>7</td>\n",
       "      <td>Mrs. Puff</td>\n",
       "      <td>60</td>\n",
       "      <td>Anxious</td>\n",
       "    </tr>\n",
       "    <tr>\n",
       "      <th>15</th>\n",
       "      <td>4</td>\n",
       "      <td>Sandy Cheeks</td>\n",
       "      <td>Scientist</td>\n",
       "      <td>Squirrel</td>\n",
       "      <td>3</td>\n",
       "      <td>Squidward Tentacles</td>\n",
       "      <td>49</td>\n",
       "      <td>Grumpy</td>\n",
       "    </tr>\n",
       "    <tr>\n",
       "      <th>16</th>\n",
       "      <td>4</td>\n",
       "      <td>Sandy Cheeks</td>\n",
       "      <td>Scientist</td>\n",
       "      <td>Squirrel</td>\n",
       "      <td>4</td>\n",
       "      <td>Sandy Cheeks</td>\n",
       "      <td>27</td>\n",
       "      <td>Energetic</td>\n",
       "    </tr>\n",
       "    <tr>\n",
       "      <th>17</th>\n",
       "      <td>4</td>\n",
       "      <td>Sandy Cheeks</td>\n",
       "      <td>Scientist</td>\n",
       "      <td>Squirrel</td>\n",
       "      <td>5</td>\n",
       "      <td>Mr. Krabs</td>\n",
       "      <td>78</td>\n",
       "      <td>Greedy</td>\n",
       "    </tr>\n",
       "    <tr>\n",
       "      <th>18</th>\n",
       "      <td>4</td>\n",
       "      <td>Sandy Cheeks</td>\n",
       "      <td>Scientist</td>\n",
       "      <td>Squirrel</td>\n",
       "      <td>6</td>\n",
       "      <td>Plankton</td>\n",
       "      <td>52</td>\n",
       "      <td>Obsessive</td>\n",
       "    </tr>\n",
       "    <tr>\n",
       "      <th>19</th>\n",
       "      <td>4</td>\n",
       "      <td>Sandy Cheeks</td>\n",
       "      <td>Scientist</td>\n",
       "      <td>Squirrel</td>\n",
       "      <td>7</td>\n",
       "      <td>Mrs. Puff</td>\n",
       "      <td>60</td>\n",
       "      <td>Anxious</td>\n",
       "    </tr>\n",
       "  </tbody>\n",
       "</table>\n",
       "</div>"
      ],
      "text/plain": [
       "    id_x                 name_x                       job     species  id_y  \\\n",
       "0      1  Spongebob Squarepants                  Fry Cook  Sea Sponge     3   \n",
       "1      1  Spongebob Squarepants                  Fry Cook  Sea Sponge     4   \n",
       "2      1  Spongebob Squarepants                  Fry Cook  Sea Sponge     5   \n",
       "3      1  Spongebob Squarepants                  Fry Cook  Sea Sponge     6   \n",
       "4      1  Spongebob Squarepants                  Fry Cook  Sea Sponge     7   \n",
       "5      2           Patrick Star  Professional Best Friend    Starfish     3   \n",
       "6      2           Patrick Star  Professional Best Friend    Starfish     4   \n",
       "7      2           Patrick Star  Professional Best Friend    Starfish     5   \n",
       "8      2           Patrick Star  Professional Best Friend    Starfish     6   \n",
       "9      2           Patrick Star  Professional Best Friend    Starfish     7   \n",
       "10     3    Squidward Tentacles                   Cashier     Octopus     3   \n",
       "11     3    Squidward Tentacles                   Cashier     Octopus     4   \n",
       "12     3    Squidward Tentacles                   Cashier     Octopus     5   \n",
       "13     3    Squidward Tentacles                   Cashier     Octopus     6   \n",
       "14     3    Squidward Tentacles                   Cashier     Octopus     7   \n",
       "15     4           Sandy Cheeks                 Scientist    Squirrel     3   \n",
       "16     4           Sandy Cheeks                 Scientist    Squirrel     4   \n",
       "17     4           Sandy Cheeks                 Scientist    Squirrel     5   \n",
       "18     4           Sandy Cheeks                 Scientist    Squirrel     6   \n",
       "19     4           Sandy Cheeks                 Scientist    Squirrel     7   \n",
       "\n",
       "                 name_y  age personality_type  \n",
       "0   Squidward Tentacles   49           Grumpy  \n",
       "1          Sandy Cheeks   27        Energetic  \n",
       "2             Mr. Krabs   78           Greedy  \n",
       "3              Plankton   52        Obsessive  \n",
       "4             Mrs. Puff   60          Anxious  \n",
       "5   Squidward Tentacles   49           Grumpy  \n",
       "6          Sandy Cheeks   27        Energetic  \n",
       "7             Mr. Krabs   78           Greedy  \n",
       "8              Plankton   52        Obsessive  \n",
       "9             Mrs. Puff   60          Anxious  \n",
       "10  Squidward Tentacles   49           Grumpy  \n",
       "11         Sandy Cheeks   27        Energetic  \n",
       "12            Mr. Krabs   78           Greedy  \n",
       "13             Plankton   52        Obsessive  \n",
       "14            Mrs. Puff   60          Anxious  \n",
       "15  Squidward Tentacles   49           Grumpy  \n",
       "16         Sandy Cheeks   27        Energetic  \n",
       "17            Mr. Krabs   78           Greedy  \n",
       "18             Plankton   52        Obsessive  \n",
       "19            Mrs. Puff   60          Anxious  "
      ]
     },
     "execution_count": 31,
     "metadata": {},
     "output_type": "execute_result"
    }
   ],
   "source": [
    "## Begin Example\n",
    "df1.merge(df2, how = \"cross\")\n",
    "## End Example"
   ]
  },
  {
   "cell_type": "markdown",
   "id": "3865ce55-31d3-4bab-aa49-431b0d16262f",
   "metadata": {},
   "source": [
    "__Note__:\n",
    "\n",
    "The resulting table will contain rows equivalent to the product of the number of rows in the original dataframes."
   ]
  },
  {
   "cell_type": "markdown",
   "id": "31f02392-fda4-4afa-b638-8b503e281273",
   "metadata": {
    "editable": true,
    "slideshow": {
     "slide_type": ""
    },
    "tags": []
   },
   "source": [
    "For a more practical example let's load up two additional datasets, each contain menu items from the Krusty Krab.\n",
    "\n",
    "**File Locations**:\n",
    "1. `../data/krustykrab1.csv`\n",
    "2. `../data/krustykrab2.csv`\n",
    "\n",
    "**Recommended DataFrame Names:\n",
    "1. `krusty_krab_df1`\n",
    "2. `krusty_krab_df2`"
   ]
  },
  {
   "cell_type": "code",
   "execution_count": 14,
   "id": "32d7bed4-84f9-4bf9-9a44-74f14de84745",
   "metadata": {
    "editable": true,
    "slideshow": {
     "slide_type": ""
    },
    "tags": []
   },
   "outputs": [],
   "source": [
    "## Begin Example\n",
    "file1 = \"../data/krustykrab1.csv\"\n",
    "file2 = \"../data/krustykrab2.csv\"\n",
    "\n",
    "krusty_krab_df1 = pd.read_csv(file1)\n",
    "krusty_krab_df2 = pd.read_csv(file2)\n",
    "## End Example"
   ]
  },
  {
   "cell_type": "code",
   "execution_count": 15,
   "id": "3d0b724d-2d7c-4cc3-be44-45db4e279bc1",
   "metadata": {
    "editable": true,
    "slideshow": {
     "slide_type": ""
    },
    "tags": []
   },
   "outputs": [
    {
     "name": "stdout",
     "output_type": "stream",
     "text": [
      "                entree\n",
      "0         Krabby Patty\n",
      "1  Double Krabby Patty\n",
      "2  Triple Krabby Patty\n",
      "               sides\n",
      "0         Coral Bits\n",
      "1         Kelp Rings\n",
      "2  Sailor's Surprise\n",
      "3         Kelp Shake\n"
     ]
    }
   ],
   "source": [
    "print(krusty_krab_df1.head())\n",
    "print(krusty_krab_df2.head())"
   ]
  },
  {
   "cell_type": "markdown",
   "id": "a7156a3f-1d39-4577-89f8-177796a1887c",
   "metadata": {
    "editable": true,
    "slideshow": {
     "slide_type": ""
    },
    "tags": []
   },
   "source": [
    "Now let's follow up with `.merge()` using a Cross Join. "
   ]
  },
  {
   "cell_type": "code",
   "execution_count": 16,
   "id": "a3ca02d2-d171-493f-b901-eff1432b520e",
   "metadata": {
    "editable": true,
    "slideshow": {
     "slide_type": ""
    },
    "tags": []
   },
   "outputs": [
    {
     "data": {
      "text/html": [
       "<div>\n",
       "<style scoped>\n",
       "    .dataframe tbody tr th:only-of-type {\n",
       "        vertical-align: middle;\n",
       "    }\n",
       "\n",
       "    .dataframe tbody tr th {\n",
       "        vertical-align: top;\n",
       "    }\n",
       "\n",
       "    .dataframe thead th {\n",
       "        text-align: right;\n",
       "    }\n",
       "</style>\n",
       "<table border=\"1\" class=\"dataframe\">\n",
       "  <thead>\n",
       "    <tr style=\"text-align: right;\">\n",
       "      <th></th>\n",
       "      <th>entree</th>\n",
       "      <th>sides</th>\n",
       "    </tr>\n",
       "  </thead>\n",
       "  <tbody>\n",
       "    <tr>\n",
       "      <th>0</th>\n",
       "      <td>Krabby Patty</td>\n",
       "      <td>Coral Bits</td>\n",
       "    </tr>\n",
       "    <tr>\n",
       "      <th>1</th>\n",
       "      <td>Krabby Patty</td>\n",
       "      <td>Kelp Rings</td>\n",
       "    </tr>\n",
       "    <tr>\n",
       "      <th>2</th>\n",
       "      <td>Krabby Patty</td>\n",
       "      <td>Sailor's Surprise</td>\n",
       "    </tr>\n",
       "    <tr>\n",
       "      <th>3</th>\n",
       "      <td>Krabby Patty</td>\n",
       "      <td>Kelp Shake</td>\n",
       "    </tr>\n",
       "    <tr>\n",
       "      <th>4</th>\n",
       "      <td>Double Krabby Patty</td>\n",
       "      <td>Coral Bits</td>\n",
       "    </tr>\n",
       "    <tr>\n",
       "      <th>5</th>\n",
       "      <td>Double Krabby Patty</td>\n",
       "      <td>Kelp Rings</td>\n",
       "    </tr>\n",
       "    <tr>\n",
       "      <th>6</th>\n",
       "      <td>Double Krabby Patty</td>\n",
       "      <td>Sailor's Surprise</td>\n",
       "    </tr>\n",
       "    <tr>\n",
       "      <th>7</th>\n",
       "      <td>Double Krabby Patty</td>\n",
       "      <td>Kelp Shake</td>\n",
       "    </tr>\n",
       "    <tr>\n",
       "      <th>8</th>\n",
       "      <td>Triple Krabby Patty</td>\n",
       "      <td>Coral Bits</td>\n",
       "    </tr>\n",
       "    <tr>\n",
       "      <th>9</th>\n",
       "      <td>Triple Krabby Patty</td>\n",
       "      <td>Kelp Rings</td>\n",
       "    </tr>\n",
       "    <tr>\n",
       "      <th>10</th>\n",
       "      <td>Triple Krabby Patty</td>\n",
       "      <td>Sailor's Surprise</td>\n",
       "    </tr>\n",
       "    <tr>\n",
       "      <th>11</th>\n",
       "      <td>Triple Krabby Patty</td>\n",
       "      <td>Kelp Shake</td>\n",
       "    </tr>\n",
       "  </tbody>\n",
       "</table>\n",
       "</div>"
      ],
      "text/plain": [
       "                 entree              sides\n",
       "0          Krabby Patty         Coral Bits\n",
       "1          Krabby Patty         Kelp Rings\n",
       "2          Krabby Patty  Sailor's Surprise\n",
       "3          Krabby Patty         Kelp Shake\n",
       "4   Double Krabby Patty         Coral Bits\n",
       "5   Double Krabby Patty         Kelp Rings\n",
       "6   Double Krabby Patty  Sailor's Surprise\n",
       "7   Double Krabby Patty         Kelp Shake\n",
       "8   Triple Krabby Patty         Coral Bits\n",
       "9   Triple Krabby Patty         Kelp Rings\n",
       "10  Triple Krabby Patty  Sailor's Surprise\n",
       "11  Triple Krabby Patty         Kelp Shake"
      ]
     },
     "execution_count": 16,
     "metadata": {},
     "output_type": "execute_result"
    }
   ],
   "source": [
    "## Begin Example\n",
    "krusty_krab_df1.merge(krusty_krab_df2, how = \"cross\")\n",
    "## End Example"
   ]
  },
  {
   "cell_type": "markdown",
   "id": "f8fd5241-28e1-489e-ae36-ddbdf35a65a5",
   "metadata": {
    "editable": true,
    "slideshow": {
     "slide_type": ""
    },
    "tags": []
   },
   "source": [
    "The resulting DataFrame should reveal all the possible meal combinations based on our two dataframes. "
   ]
  },
  {
   "cell_type": "markdown",
   "id": "63e95004-03a6-4296-900d-f09c4d7c672b",
   "metadata": {
    "editable": true,
    "slideshow": {
     "slide_type": ""
    },
    "tags": []
   },
   "source": [
    "## Introducing `.join()`\n",
    "\n",
    "The `.join()` method in Pandas provides another way to combine DataFrames. \n",
    "\n",
    "While its functionality overlaps with `.merge()`, it has a key distinction: **`.join()` primarily combines DataFrames based on their indices.**\n",
    "\n",
    "**Key Differences from `.merge()`:**\n",
    "\n",
    "* **Default Join Key:** `.join()` defaults to joining on the **index** of the DataFrames. `.merge()`, on the other hand, defaults to joining on columns with the same name.\n",
    "* **Flexibility with Columns:** While `.join()` can also join on columns using the `on` argument, `.merge()` offers more flexibility in specifying different columns from the left and right DataFrames using `left_on` and `right_on`.\n"
   ]
  },
  {
   "cell_type": "markdown",
   "id": "ef24e727-d679-4840-a730-49a29576f165",
   "metadata": {
    "editable": true,
    "slideshow": {
     "slide_type": ""
    },
    "tags": []
   },
   "source": [
    "### Basic Usage\n",
    "\n",
    "You typically call `.join()` on one DataFrame and pass the other DataFrame as an argument:\n",
    "\n",
    "```python\n",
    "joined_df = left_df.join(right_df, how='...', lsuffix='...', rsuffix='...')\n",
    "```\n",
    "\n",
    "__Key Arguments:__\n",
    "\n",
    "* __other__: The DataFrame to join with.\n",
    "* __how__: Specifies the type of join (`left`, `right`, `inner`, `outer`), similar to .merge(). It determines which keys are included in the resulting DataFrame.\n",
    "* __on__: An optional argument to specify a column or a list of columns to join on. These columns must be in the calling DataFrame. The other DataFrame will join on its index based on the values in this column.\n",
    "* __lsuffix__: A string suffix to apply to overlapping column names in the calling DataFrame.\n",
    "* __rsuffix__: A string suffix to apply to overlapping column names in the other DataFrame. These suffixes help distinguish columns with the same name after the join.\n",
    "\n",
    "In essence, use `.join()` when you want to combine DataFrames primarily based on their index values. \n",
    "\n",
    "If you need more explicit control over the join columns or want to join on different columns in the two DataFrames, `.merge()` is generally the more versatile option."
   ]
  },
  {
   "cell_type": "markdown",
   "id": "b52684e0-0cdc-4f23-8054-1105a90c42cd",
   "metadata": {
    "editable": true,
    "slideshow": {
     "slide_type": ""
    },
    "tags": []
   },
   "source": [
    "Let's perform an inner join with `.join()` to view the results versus a `.merge()`."
   ]
  },
  {
   "cell_type": "code",
   "execution_count": 19,
   "id": "db624e18-22f2-4807-8490-b652b6faa11a",
   "metadata": {
    "editable": true,
    "slideshow": {
     "slide_type": ""
    },
    "tags": []
   },
   "outputs": [
    {
     "data": {
      "text/html": [
       "<div>\n",
       "<style scoped>\n",
       "    .dataframe tbody tr th:only-of-type {\n",
       "        vertical-align: middle;\n",
       "    }\n",
       "\n",
       "    .dataframe tbody tr th {\n",
       "        vertical-align: top;\n",
       "    }\n",
       "\n",
       "    .dataframe thead th {\n",
       "        text-align: right;\n",
       "    }\n",
       "</style>\n",
       "<table border=\"1\" class=\"dataframe\">\n",
       "  <thead>\n",
       "    <tr style=\"text-align: right;\">\n",
       "      <th></th>\n",
       "      <th>id_left</th>\n",
       "      <th>name_left</th>\n",
       "      <th>job</th>\n",
       "      <th>species</th>\n",
       "      <th>id_right</th>\n",
       "      <th>name_right</th>\n",
       "      <th>age</th>\n",
       "      <th>personality</th>\n",
       "    </tr>\n",
       "  </thead>\n",
       "  <tbody>\n",
       "    <tr>\n",
       "      <th>0</th>\n",
       "      <td>1</td>\n",
       "      <td>Spongebob Squarepants</td>\n",
       "      <td>Fry Cook</td>\n",
       "      <td>Sea Sponge</td>\n",
       "      <td>3</td>\n",
       "      <td>Squidward Tentacles</td>\n",
       "      <td>49</td>\n",
       "      <td>Grumpy</td>\n",
       "    </tr>\n",
       "    <tr>\n",
       "      <th>1</th>\n",
       "      <td>2</td>\n",
       "      <td>Patrick Star</td>\n",
       "      <td>Professional Best Friend</td>\n",
       "      <td>Starfish</td>\n",
       "      <td>4</td>\n",
       "      <td>Sandy Cheeks</td>\n",
       "      <td>27</td>\n",
       "      <td>Energetic</td>\n",
       "    </tr>\n",
       "    <tr>\n",
       "      <th>2</th>\n",
       "      <td>3</td>\n",
       "      <td>Squidward Tentacles</td>\n",
       "      <td>Cashier</td>\n",
       "      <td>Octopus</td>\n",
       "      <td>5</td>\n",
       "      <td>Mr. Krabs</td>\n",
       "      <td>78</td>\n",
       "      <td>Greedy</td>\n",
       "    </tr>\n",
       "    <tr>\n",
       "      <th>3</th>\n",
       "      <td>4</td>\n",
       "      <td>Sandy Cheeks</td>\n",
       "      <td>Scientist</td>\n",
       "      <td>Squirrel</td>\n",
       "      <td>6</td>\n",
       "      <td>Plankton</td>\n",
       "      <td>52</td>\n",
       "      <td>Obsessive</td>\n",
       "    </tr>\n",
       "  </tbody>\n",
       "</table>\n",
       "</div>"
      ],
      "text/plain": [
       "   id_left              name_left                       job     species  \\\n",
       "0        1  Spongebob Squarepants                  Fry Cook  Sea Sponge   \n",
       "1        2           Patrick Star  Professional Best Friend    Starfish   \n",
       "2        3    Squidward Tentacles                   Cashier     Octopus   \n",
       "3        4           Sandy Cheeks                 Scientist    Squirrel   \n",
       "\n",
       "   id_right           name_right  age personality  \n",
       "0         3  Squidward Tentacles   49      Grumpy  \n",
       "1         4         Sandy Cheeks   27   Energetic  \n",
       "2         5            Mr. Krabs   78      Greedy  \n",
       "3         6             Plankton   52   Obsessive  "
      ]
     },
     "execution_count": 19,
     "metadata": {},
     "output_type": "execute_result"
    }
   ],
   "source": [
    "df1.join(df2, how=\"inner\", lsuffix=\"_left\", rsuffix=\"_right\")"
   ]
  },
  {
   "cell_type": "markdown",
   "id": "af32f821-a608-4564-969d-ef046ab40247",
   "metadata": {
    "editable": true,
    "slideshow": {
     "slide_type": ""
    },
    "tags": []
   },
   "source": [
    "## `pd.concat()`\n",
    "\n",
    "The `pd.concat()` function in pandas is used to combine pandas objects (like DataFrames or Series) along a specified axis. \n",
    "\n",
    "It's like \"stacking\" or \"gluing\" them together."
   ]
  },
  {
   "cell_type": "markdown",
   "id": "b9542889-e6fa-4804-997c-75ec3d0284a2",
   "metadata": {
    "editable": true,
    "slideshow": {
     "slide_type": ""
    },
    "tags": []
   },
   "source": [
    "## Vertical Stacking\n",
    "\n",
    "Let's use our Krusty Krab menu items. We'll combine the entree items and menu items into one dataset."
   ]
  },
  {
   "cell_type": "code",
   "execution_count": 36,
   "id": "ae39ed30-b78e-48c0-84aa-1bac4b16f66f",
   "metadata": {
    "editable": true,
    "slideshow": {
     "slide_type": ""
    },
    "tags": []
   },
   "outputs": [
    {
     "data": {
      "text/html": [
       "<div>\n",
       "<style scoped>\n",
       "    .dataframe tbody tr th:only-of-type {\n",
       "        vertical-align: middle;\n",
       "    }\n",
       "\n",
       "    .dataframe tbody tr th {\n",
       "        vertical-align: top;\n",
       "    }\n",
       "\n",
       "    .dataframe thead th {\n",
       "        text-align: right;\n",
       "    }\n",
       "</style>\n",
       "<table border=\"1\" class=\"dataframe\">\n",
       "  <thead>\n",
       "    <tr style=\"text-align: right;\">\n",
       "      <th></th>\n",
       "      <th>index</th>\n",
       "      <th>place_name</th>\n",
       "      <th>type</th>\n",
       "    </tr>\n",
       "  </thead>\n",
       "  <tbody>\n",
       "    <tr>\n",
       "      <th>0</th>\n",
       "      <td>0</td>\n",
       "      <td>Krusty Krab</td>\n",
       "      <td>Restaurant</td>\n",
       "    </tr>\n",
       "    <tr>\n",
       "      <th>1</th>\n",
       "      <td>1</td>\n",
       "      <td>Chum Bucket</td>\n",
       "      <td>Restaurant</td>\n",
       "    </tr>\n",
       "    <tr>\n",
       "      <th>2</th>\n",
       "      <td>2</td>\n",
       "      <td>Salty Spitoon</td>\n",
       "      <td>Bar</td>\n",
       "    </tr>\n",
       "    <tr>\n",
       "      <th>3</th>\n",
       "      <td>3</td>\n",
       "      <td>Jellyfish Fields</td>\n",
       "      <td>Park</td>\n",
       "    </tr>\n",
       "    <tr>\n",
       "      <th>4</th>\n",
       "      <td>0</td>\n",
       "      <td>Goo Lagoon</td>\n",
       "      <td>Beach</td>\n",
       "    </tr>\n",
       "    <tr>\n",
       "      <th>5</th>\n",
       "      <td>1</td>\n",
       "      <td>Rock Bottom</td>\n",
       "      <td>Unknown</td>\n",
       "    </tr>\n",
       "    <tr>\n",
       "      <th>6</th>\n",
       "      <td>2</td>\n",
       "      <td>Shady Shoals Rest Home</td>\n",
       "      <td>Retirement Home</td>\n",
       "    </tr>\n",
       "    <tr>\n",
       "      <th>7</th>\n",
       "      <td>3</td>\n",
       "      <td>Mermalair</td>\n",
       "      <td>Secret Base</td>\n",
       "    </tr>\n",
       "  </tbody>\n",
       "</table>\n",
       "</div>"
      ],
      "text/plain": [
       "   index              place_name             type\n",
       "0      0             Krusty Krab       Restaurant\n",
       "1      1             Chum Bucket       Restaurant\n",
       "2      2           Salty Spitoon              Bar\n",
       "3      3        Jellyfish Fields             Park\n",
       "4      0              Goo Lagoon            Beach\n",
       "5      1             Rock Bottom          Unknown\n",
       "6      2  Shady Shoals Rest Home  Retirement Home\n",
       "7      3               Mermalair      Secret Base"
      ]
     },
     "execution_count": 36,
     "metadata": {},
     "output_type": "execute_result"
    }
   ],
   "source": [
    "file1 = \"../data/bikinibottom1.csv\"\n",
    "file2 = \"../data/bikinibottom2.csv\"\n",
    "\n",
    "locations_df1 = pd.read_csv(file1)\n",
    "locations_df2 = pd.read_csv(file2)\n",
    "\n",
    "pd.concat([locations_df1, locations_df2])"
   ]
  },
  {
   "cell_type": "markdown",
   "id": "ce6a302f-ce00-4d02-98f9-ce5455376117",
   "metadata": {
    "editable": true,
    "slideshow": {
     "slide_type": ""
    },
    "tags": []
   },
   "source": [
    "## Horizontal Stacking"
   ]
  },
  {
   "cell_type": "code",
   "execution_count": 30,
   "id": "8be6144c-f6e0-4d9d-b649-d6244354370b",
   "metadata": {
    "editable": true,
    "slideshow": {
     "slide_type": ""
    },
    "tags": []
   },
   "outputs": [
    {
     "data": {
      "text/html": [
       "<div>\n",
       "<style scoped>\n",
       "    .dataframe tbody tr th:only-of-type {\n",
       "        vertical-align: middle;\n",
       "    }\n",
       "\n",
       "    .dataframe tbody tr th {\n",
       "        vertical-align: top;\n",
       "    }\n",
       "\n",
       "    .dataframe thead th {\n",
       "        text-align: right;\n",
       "    }\n",
       "</style>\n",
       "<table border=\"1\" class=\"dataframe\">\n",
       "  <thead>\n",
       "    <tr style=\"text-align: right;\">\n",
       "      <th></th>\n",
       "      <th>name</th>\n",
       "      <th>job</th>\n",
       "      <th>species</th>\n",
       "      <th>name</th>\n",
       "      <th>age</th>\n",
       "      <th>personality</th>\n",
       "    </tr>\n",
       "    <tr>\n",
       "      <th>id</th>\n",
       "      <th></th>\n",
       "      <th></th>\n",
       "      <th></th>\n",
       "      <th></th>\n",
       "      <th></th>\n",
       "      <th></th>\n",
       "    </tr>\n",
       "  </thead>\n",
       "  <tbody>\n",
       "    <tr>\n",
       "      <th>1</th>\n",
       "      <td>Spongebob Squarepants</td>\n",
       "      <td>Fry Cook</td>\n",
       "      <td>Sea Sponge</td>\n",
       "      <td>NaN</td>\n",
       "      <td>NaN</td>\n",
       "      <td>NaN</td>\n",
       "    </tr>\n",
       "    <tr>\n",
       "      <th>2</th>\n",
       "      <td>Patrick Star</td>\n",
       "      <td>Professional Best Friend</td>\n",
       "      <td>Starfish</td>\n",
       "      <td>NaN</td>\n",
       "      <td>NaN</td>\n",
       "      <td>NaN</td>\n",
       "    </tr>\n",
       "    <tr>\n",
       "      <th>3</th>\n",
       "      <td>Squidward Tentacles</td>\n",
       "      <td>Cashier</td>\n",
       "      <td>Octopus</td>\n",
       "      <td>Squidward Tentacles</td>\n",
       "      <td>49.0</td>\n",
       "      <td>Grumpy</td>\n",
       "    </tr>\n",
       "    <tr>\n",
       "      <th>4</th>\n",
       "      <td>Sandy Cheeks</td>\n",
       "      <td>Scientist</td>\n",
       "      <td>Squirrel</td>\n",
       "      <td>Sandy Cheeks</td>\n",
       "      <td>27.0</td>\n",
       "      <td>Energetic</td>\n",
       "    </tr>\n",
       "    <tr>\n",
       "      <th>5</th>\n",
       "      <td>NaN</td>\n",
       "      <td>NaN</td>\n",
       "      <td>NaN</td>\n",
       "      <td>Mr. Krabs</td>\n",
       "      <td>78.0</td>\n",
       "      <td>Greedy</td>\n",
       "    </tr>\n",
       "    <tr>\n",
       "      <th>6</th>\n",
       "      <td>NaN</td>\n",
       "      <td>NaN</td>\n",
       "      <td>NaN</td>\n",
       "      <td>Plankton</td>\n",
       "      <td>52.0</td>\n",
       "      <td>Obsessive</td>\n",
       "    </tr>\n",
       "    <tr>\n",
       "      <th>7</th>\n",
       "      <td>NaN</td>\n",
       "      <td>NaN</td>\n",
       "      <td>NaN</td>\n",
       "      <td>Mrs. Puff</td>\n",
       "      <td>60.0</td>\n",
       "      <td>Anxious</td>\n",
       "    </tr>\n",
       "  </tbody>\n",
       "</table>\n",
       "</div>"
      ],
      "text/plain": [
       "                     name                       job     species  \\\n",
       "id                                                                \n",
       "1   Spongebob Squarepants                  Fry Cook  Sea Sponge   \n",
       "2            Patrick Star  Professional Best Friend    Starfish   \n",
       "3     Squidward Tentacles                   Cashier     Octopus   \n",
       "4            Sandy Cheeks                 Scientist    Squirrel   \n",
       "5                     NaN                       NaN         NaN   \n",
       "6                     NaN                       NaN         NaN   \n",
       "7                     NaN                       NaN         NaN   \n",
       "\n",
       "                   name   age personality  \n",
       "id                                         \n",
       "1                   NaN   NaN         NaN  \n",
       "2                   NaN   NaN         NaN  \n",
       "3   Squidward Tentacles  49.0      Grumpy  \n",
       "4          Sandy Cheeks  27.0   Energetic  \n",
       "5             Mr. Krabs  78.0      Greedy  \n",
       "6              Plankton  52.0   Obsessive  \n",
       "7             Mrs. Puff  60.0     Anxious  "
      ]
     },
     "execution_count": 30,
     "metadata": {},
     "output_type": "execute_result"
    }
   ],
   "source": [
    "\n",
    "horizontal_combined_spongebob = pd.concat([df1,\n",
    "df2], axis = 1)\n",
    "horizontal_combined_spongebob"
   ]
  },
  {
   "cell_type": "markdown",
   "id": "0e5b9bf2-98c9-4d7e-ae77-acfcda49c94e",
   "metadata": {
    "editable": true,
    "slideshow": {
     "slide_type": ""
    },
    "tags": []
   },
   "source": [
    "`pd.concat()` is a fundamental tool for combining data in pandas, either by adding more rows or more columns.\n",
    "\n",
    "The `axis` parameter is key to controlling this behavior."
   ]
  }
 ],
 "metadata": {
  "kernelspec": {
   "display_name": "Python 3 (ipykernel)",
   "language": "python",
   "name": "python3"
  },
  "language_info": {
   "codemirror_mode": {
    "name": "ipython",
    "version": 3
   },
   "file_extension": ".py",
   "mimetype": "text/x-python",
   "name": "python",
   "nbconvert_exporter": "python",
   "pygments_lexer": "ipython3",
   "version": "3.12.5"
  }
 },
 "nbformat": 4,
 "nbformat_minor": 5
}
