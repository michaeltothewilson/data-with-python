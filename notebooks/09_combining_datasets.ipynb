{
 "cells": [
  {
   "cell_type": "markdown",
   "id": "5a81d047-81d0-417f-ac5e-db178eb7fb37",
   "metadata": {
    "editable": true,
    "slideshow": {
     "slide_type": ""
    },
    "tags": []
   },
   "source": [
    "# Combining Datasets with Pandas\n",
    "\n",
    "Pandas provides powerful tools to combine DataFrames: merging, joining, and concatenating. Unifying data through these operations is crucial for comprehensive analysis.\n",
    "\n",
    "This section will primarily focus on the `.merge()` method and briefly introduce `.join()` and `pd.concat()`."
   ]
  },
  {
   "cell_type": "markdown",
   "id": "4fd15353-09f9-4e6a-956f-411aec796058",
   "metadata": {
    "editable": true,
    "slideshow": {
     "slide_type": "slide"
    },
    "tags": []
   },
   "source": [
    "## Our Practice Data: The Spongebob Squarepants Dataset\n",
    "\n",
    "<center><img src=\"../images/stock/pexels-spencphoto-29901208.jpg\"></center>\n",
    "\n",
    "To illustrate dataset combination, we'll use synthetic data inspired by Spongebob Squarepants. These fabricated datasets will help us focus on the merging process.\n",
    "\n",
    "**Data Files:**\n",
    "\n",
    "* **`spongebob1.csv`**:\n",
    "    * `id`: Unique identifier for each character.\n",
    "    * `name`: Character's name.\n",
    "    * `job`: Character's occupation.\n",
    "    * `species`: Character's biological classification.\n",
    "\n",
    "* **`spongebob2.csv`**:\n",
    "    * `id`: Unique identifier for each character.\n",
    "    * `name`: Character's name.\n",
    "    * `age`: Character's age.\n",
    "    * `personality`: General personality traits of the character."
   ]
  },
  {
   "cell_type": "markdown",
   "id": "45fe8c33-f027-41eb-bd70-eb5608b718bd",
   "metadata": {
    "editable": true,
    "slideshow": {
     "slide_type": ""
    },
    "tags": []
   },
   "source": [
    "## Getting Started"
   ]
  },
  {
   "cell_type": "markdown",
   "id": "08a387a5-daab-4a30-88b5-5a6227f06e91",
   "metadata": {
    "editable": true,
    "slideshow": {
     "slide_type": ""
    },
    "tags": []
   },
   "source": [
    "### Importing the Tools\n",
    "\n",
    "First, let's import the Pandas library, which is essential for data manipulation in Python:\n"
   ]
  },
  {
   "cell_type": "code",
   "execution_count": null,
   "id": "a677efbb-6e68-44e5-913b-2cadf3137b32",
   "metadata": {
    "editable": true,
    "slideshow": {
     "slide_type": ""
    },
    "tags": []
   },
   "outputs": [],
   "source": [
    "## Begin Example\n",
    "import pandas as pd\n",
    "## End Example"
   ]
  },
  {
   "cell_type": "markdown",
   "id": "601b4e9a-4e57-4f20-acb3-e31e25e6c71d",
   "metadata": {
    "editable": true,
    "slideshow": {
     "slide_type": ""
    },
    "tags": []
   },
   "source": [
    "### Loading the Datasets\n",
    "\n",
    "Next, we'll load the two `csv` files into separate Pandas DataFrames.\n",
    "\n",
    "File Locations:\n",
    "\n",
    "* `../data/spongebob1.csv`\n",
    "* `../data/spongebob2.csv`\n",
    "\n",
    "Suggested dataframe names:\n",
    "\n",
    "* `spongebob_df1`\n",
    "* `spongebob_df2`"
   ]
  },
  {
   "cell_type": "code",
   "execution_count": null,
   "id": "5f11926d-da61-417d-aa06-d48ae15369a2",
   "metadata": {
    "editable": true,
    "slideshow": {
     "slide_type": ""
    },
    "tags": []
   },
   "outputs": [],
   "source": [
    "## Begin Example\n",
    "\n"
   ]
  },
  {
   "cell_type": "markdown",
   "id": "21d4cee3-f566-451a-9b1a-b0572acca798",
   "metadata": {
    "editable": true,
    "slideshow": {
     "slide_type": ""
    },
    "tags": []
   },
   "source": [
    "### Inspect the Datasets\n",
    "\n",
    "Before combining, it's good practice to inspect the structure and contents of each DataFrame. Let's use the `.info()` and `.head()` methods to get a quick overview."
   ]
  },
  {
   "cell_type": "code",
   "execution_count": null,
   "id": "d564ea9f-2194-485d-94e8-94143ad7a0cf",
   "metadata": {
    "editable": true,
    "slideshow": {
     "slide_type": ""
    },
    "tags": []
   },
   "outputs": [],
   "source": [
    "## Begin Example\n"
   ]
  },
  {
   "cell_type": "code",
   "execution_count": null,
   "id": "db12f28f-5367-4f36-8062-ec4ac9badd20",
   "metadata": {},
   "outputs": [],
   "source": []
  },
  {
   "cell_type": "code",
   "execution_count": null,
   "id": "b28b4e3f-1dfc-4f7e-83cd-1348946843e8",
   "metadata": {},
   "outputs": [],
   "source": []
  },
  {
   "cell_type": "code",
   "execution_count": null,
   "id": "7d677e58-ceb8-4fb3-8db0-de834f6f66c9",
   "metadata": {
    "editable": true,
    "slideshow": {
     "slide_type": ""
    },
    "tags": []
   },
   "outputs": [],
   "source": []
  },
  {
   "cell_type": "markdown",
   "id": "bfbb20e2-20c5-40d9-b7c2-9962107affe3",
   "metadata": {
    "editable": true,
    "slideshow": {
     "slide_type": ""
    },
    "tags": []
   },
   "source": [
    "## Combining DataFrames with `.merge()`\n",
    "\n",
    "<center><img src=\"../images/illustrations/data merge illustrations.jpg\"></center>\n",
    "\n",
    "The `.merge()` method in Pandas is ideal for combining rows from two DataFrames based on shared data. It intelligently aligns rows where values in specified columns or indices match.\n",
    "\n",
    "**Basic Structure:**\n",
    "\n",
    "To perform a merge, you specify two primary DataFrames:\n",
    "\n",
    "* The **left DataFrame**: The first DataFrame you are merging.\n",
    "* The **right DataFrame**: The second DataFrame you are merging with.\n",
    "\n",
    "**Controlling the Merge with Optional Arguments:**\n",
    "\n",
    "Several optional arguments allow you to fine-tune the merging process:\n",
    "\n",
    "* **`how`**: Defines the type of merge to be performed:\n",
    "    * `inner`: Keeps only the rows where the join key(s) exist in *both* DataFrames.\n",
    "    * `outer`: Includes *all* rows from both DataFrames. Where a key exists in only one DataFrame, missing values (`NaN`) are introduced for the columns of the other DataFrame.\n",
    "    * `left`: Includes all rows from the *left* DataFrame, and the matching rows from the *right* DataFrame. If a key in the left DataFrame has no match in the right, the corresponding columns from the right DataFrame will have `NaN` values.\n",
    "    * `right`: Similar to `left`, but includes all rows from the *right* DataFrame and the matching rows from the *left* DataFrame.\n",
    "\n",
    "* **`on`**: Specifies the column name(s) or index level name(s) that will be used as the join key(s).\n",
    "    * If no `on` argument is provided, `.merge()` will automatically use any columns that have identical names in both DataFrames as the join keys.\n",
    "    * The column(s) or index level(s) specified with `on` must be present in both DataFrames.\n",
    "\n",
    "* **`left_on`**: Specifies the column name(s) or index level name(s) in the *left* DataFrame to use as join keys.\n",
    "\n",
    "* **`right_on`**: Specifies the column name(s) or index level name(s) in the *right* DataFrame to use as join keys. This is useful when the columns you want to join have different names in the two DataFrames.\n",
    "\n",
    "* **`left_index`**: A boolean value. If `True`, uses the index of the *left* DataFrame as the join key(s).\n",
    "\n",
    "* **`right_index`**: A boolean value. If `True`, uses the index of the *right* DataFrame as the join key(s)."
   ]
  },
  {
   "cell_type": "markdown",
   "id": "66cf51b5-b370-4812-96e2-129ed610b19e",
   "metadata": {
    "editable": true,
    "slideshow": {
     "slide_type": ""
    },
    "tags": []
   },
   "source": [
    "### `.merge()` - Inner Join\n",
    "\n",
    "<center><img src=\"../images/illustrations/data merge illustrations - inner.jpg\"></center>\n",
    "\n",
    "An **inner join** using `.merge()` returns only the rows where the specified join key(s) have matching values in *both* the left and the right DataFrames. \n",
    "\n",
    "It essentially finds the intersection of the two datasets based on the common key(s).\n",
    "\n",
    "Let's apply `.merge()` with the default inner join to our `spongebob_df1` and `spongebob_df2` DataFrames:"
   ]
  },
  {
   "cell_type": "code",
   "execution_count": null,
   "id": "b88ad329-1020-4b15-ac9a-44e133989566",
   "metadata": {
    "editable": true,
    "slideshow": {
     "slide_type": ""
    },
    "tags": []
   },
   "outputs": [],
   "source": [
    "## Begin Example\n",
    "\n",
    "## End Example"
   ]
  },
  {
   "cell_type": "markdown",
   "id": "06852863-e98d-4a2b-bc9f-3d2365dce897",
   "metadata": {
    "editable": true,
    "slideshow": {
     "slide_type": ""
    },
    "tags": []
   },
   "source": [
    "**Note:**\n",
    "\n",
    "By default, calling `.merge()` without any additional arguments will perform an **inner join**.\n",
    "\n",
    "However, for clarity and explicit control, you can achieve the same result by explicitly specifying the join type using the `how='inner'` argument and indicating the joining column(s) with the `on` argument."
   ]
  },
  {
   "cell_type": "code",
   "execution_count": null,
   "id": "52ac8fd6-17dc-4349-a7ab-00b6b3bdbff0",
   "metadata": {},
   "outputs": [],
   "source": [
    "## Begin Example\n",
    "\n",
    "## End Example"
   ]
  },
  {
   "cell_type": "markdown",
   "id": "45c45e04-c855-4867-a17e-887ca11fa217",
   "metadata": {
    "editable": true,
    "slideshow": {
     "slide_type": ""
    },
    "tags": []
   },
   "source": [
    "### `.merge()` - Outer Join\n",
    "\n",
    "<center><img src=\"../images/illustrations/data merge illustrations - outer.jpg\"></center>\n",
    "\n",
    "An **outer join** using `.merge()` combines *all* rows from both the left and the right DataFrames. \n",
    "\n",
    "Let's perform an outer join on our spongebob DataFrames:"
   ]
  },
  {
   "cell_type": "code",
   "execution_count": null,
   "id": "91ee4341-bc46-4235-8c34-661e546f35b6",
   "metadata": {
    "editable": true,
    "slideshow": {
     "slide_type": ""
    },
    "tags": []
   },
   "outputs": [],
   "source": [
    "## Begin Example\n",
    "\n",
    "## End Example"
   ]
  },
  {
   "cell_type": "markdown",
   "id": "c7a077e9-bc1f-4d98-8c09-14ae744f39d3",
   "metadata": {
    "editable": true,
    "slideshow": {
     "slide_type": ""
    },
    "tags": []
   },
   "source": [
    "__Note:__\n",
    "\n",
    "If a join key exists in only one of the DataFrames, the resulting merged DataFrame will have missing values (`NaN`) in the columns originating from the DataFrame that doesn't have that key."
   ]
  },
  {
   "cell_type": "markdown",
   "id": "5fa51785-e7b5-44dd-8cea-52b4892b0740",
   "metadata": {
    "editable": true,
    "slideshow": {
     "slide_type": ""
    },
    "tags": []
   },
   "source": [
    "### `.merge()` - Left Join\n",
    "\n",
    "<center><img src=\"../images/illustrations/data merge illustrations - left.jpg\"></center>\n",
    "\n",
    "A **left join** using `.merge()` includes all rows from the *left* DataFrame in the result. \n",
    "\n",
    "For each row in the left DataFrame, it also includes the matching rows from the *right* DataFrame based on the join key(s)."
   ]
  },
  {
   "cell_type": "code",
   "execution_count": null,
   "id": "a39b458e-cd80-43ff-bc28-f2b2d2c9967f",
   "metadata": {
    "editable": true,
    "slideshow": {
     "slide_type": ""
    },
    "tags": []
   },
   "outputs": [],
   "source": [
    "## Begin Example\n",
    "\n",
    "## End Example"
   ]
  },
  {
   "cell_type": "markdown",
   "id": "d0c40d27-b38a-41bc-b272-07bb0854116a",
   "metadata": {
    "editable": true,
    "slideshow": {
     "slide_type": ""
    },
    "tags": []
   },
   "source": [
    "**Note**:\n",
    "\n",
    "If a row in the left DataFrame has no matching key in the right DataFrame, the columns from the right DataFrame will have missing values (`NaN`)."
   ]
  },
  {
   "cell_type": "markdown",
   "id": "e26db6ff-ba52-4b6e-a44d-5d5ab2a6ff06",
   "metadata": {
    "editable": true,
    "slideshow": {
     "slide_type": ""
    },
    "tags": []
   },
   "source": [
    "### `.merge()` - Right Join\n",
    "\n",
    "<center><img src=\"../images/illustrations/data merge illustrations - right.jpg\"></center>\n",
    "\n",
    "A **right join** using `.merge()` includes all rows from the *right* DataFrame in the result. \n",
    "\n",
    "For each row in the right DataFrame, it also includes the matching rows from the *left* DataFrame based on the join key(s)."
   ]
  },
  {
   "cell_type": "code",
   "execution_count": null,
   "id": "e46738c4-08e7-4450-92de-614e5b539335",
   "metadata": {
    "editable": true,
    "slideshow": {
     "slide_type": ""
    },
    "tags": []
   },
   "outputs": [],
   "source": [
    "## Begin Example\n",
    "\n",
    "\n",
    "## End Example"
   ]
  },
  {
   "cell_type": "markdown",
   "id": "36d8217d-dd1e-44d9-959e-81a60babeeee",
   "metadata": {
    "editable": true,
    "slideshow": {
     "slide_type": ""
    },
    "tags": []
   },
   "source": [
    "**Note**:\n",
    "\n",
    "If a row in the right DataFrame has no matching key in the left DataFrame, the columns from the left DataFrame will have missing values (`NaN`)."
   ]
  },
  {
   "cell_type": "markdown",
   "id": "60c66f41-621f-49dc-b377-27ad0eb766bf",
   "metadata": {
    "editable": true,
    "slideshow": {
     "slide_type": ""
    },
    "tags": []
   },
   "source": [
    "### `.merge()` - Cross Join\n",
    "\n",
    "<center><img src=\"../images/illustrations/data merge illustrations cross.jpg\"></center>\n",
    "\n",
    "A **cross join** using `.merge()` produces the Cartesian product of the rows from the left and right DataFrames. \n",
    "\n",
    "This means that every row from the left DataFrame is combined with every row from the right DataFrame, resulting in a DataFrame where the number of rows is the product of the number of rows in the two original DataFrames."
   ]
  },
  {
   "cell_type": "code",
   "execution_count": null,
   "id": "86d6545b-bbee-41db-802c-4d14920763ae",
   "metadata": {
    "editable": true,
    "slideshow": {
     "slide_type": ""
    },
    "tags": []
   },
   "outputs": [],
   "source": [
    "## Begin Example\n",
    "\n",
    "\n",
    "## End Example"
   ]
  },
  {
   "cell_type": "markdown",
   "id": "3865ce55-31d3-4bab-aa49-431b0d16262f",
   "metadata": {},
   "source": [
    "__Note__:\n",
    "\n",
    "The resulting table will contain rows equivalent to the product of the number of rows in the original dataframes."
   ]
  },
  {
   "cell_type": "markdown",
   "id": "31f02392-fda4-4afa-b638-8b503e281273",
   "metadata": {
    "editable": true,
    "slideshow": {
     "slide_type": ""
    },
    "tags": []
   },
   "source": [
    "For a more practical example let's load up two additional datasets, each contain menu items from the Krusty Krab.\n",
    "\n",
    "**File Locations**:\n",
    "1. `../data/krustykrab1.csv`\n",
    "2. `../data/krustykrab2.csv`\n",
    "\n",
    "**Recommended DataFrame Names:\n",
    "1. `krusty_krab_df1`\n",
    "2. `krusty_krab_df2`"
   ]
  },
  {
   "cell_type": "code",
   "execution_count": null,
   "id": "32d7bed4-84f9-4bf9-9a44-74f14de84745",
   "metadata": {
    "editable": true,
    "slideshow": {
     "slide_type": ""
    },
    "tags": []
   },
   "outputs": [],
   "source": [
    "## Begin Example\n",
    "\n",
    "\n",
    "## End Example"
   ]
  },
  {
   "cell_type": "markdown",
   "id": "a7156a3f-1d39-4577-89f8-177796a1887c",
   "metadata": {
    "editable": true,
    "slideshow": {
     "slide_type": ""
    },
    "tags": []
   },
   "source": [
    "Now let's follow up with `.merge()` using a Cross Join. "
   ]
  },
  {
   "cell_type": "code",
   "execution_count": null,
   "id": "a3ca02d2-d171-493f-b901-eff1432b520e",
   "metadata": {
    "editable": true,
    "slideshow": {
     "slide_type": ""
    },
    "tags": []
   },
   "outputs": [],
   "source": [
    "## Begin Example\n",
    "\n",
    "\n",
    "## End Example"
   ]
  },
  {
   "cell_type": "markdown",
   "id": "f8fd5241-28e1-489e-ae36-ddbdf35a65a5",
   "metadata": {
    "editable": true,
    "slideshow": {
     "slide_type": ""
    },
    "tags": []
   },
   "source": [
    "The resulting DataFrame should reveal all the possible meal combinations based on our two dataframes. "
   ]
  },
  {
   "cell_type": "markdown",
   "id": "63e95004-03a6-4296-900d-f09c4d7c672b",
   "metadata": {
    "editable": true,
    "slideshow": {
     "slide_type": ""
    },
    "tags": []
   },
   "source": [
    "## Introducing `.join()`\n",
    "\n",
    "The `.join()` method in Pandas provides another way to combine DataFrames. \n",
    "\n",
    "While its functionality overlaps with `.merge()`, it has a key distinction: **`.join()` primarily combines DataFrames based on their indices.**\n",
    "\n",
    "**Key Differences from `.merge()`:**\n",
    "\n",
    "* **Default Join Key:** `.join()` defaults to joining on the **index** of the DataFrames. `.merge()`, on the other hand, defaults to joining on columns with the same name.\n",
    "* **Flexibility with Columns:** While `.join()` can also join on columns using the `on` argument, `.merge()` offers more flexibility in specifying different columns from the left and right DataFrames using `left_on` and `right_on`.\n"
   ]
  },
  {
   "cell_type": "markdown",
   "id": "ef24e727-d679-4840-a730-49a29576f165",
   "metadata": {
    "editable": true,
    "slideshow": {
     "slide_type": ""
    },
    "tags": []
   },
   "source": [
    "### Basic Usage\n",
    "\n",
    "You typically call `.join()` on one DataFrame and pass the other DataFrame as an argument:\n",
    "\n",
    "```python\n",
    "joined_df = left_df.join(right_df, how='...', lsuffix='...', rsuffix='...')\n",
    "```\n",
    "\n",
    "__Key Arguments:__\n",
    "\n",
    "* __other__: The DataFrame to join with.\n",
    "* __how__: Specifies the type of join (`left`, `right`, `inner`, `outer`), similar to .merge(). It determines which keys are included in the resulting DataFrame.\n",
    "* __on__: An optional argument to specify a column or a list of columns to join on. These columns must be in the calling DataFrame. The other DataFrame will join on its index based on the values in this column.\n",
    "* __lsuffix__: A string suffix to apply to overlapping column names in the calling DataFrame.\n",
    "* __rsuffix__: A string suffix to apply to overlapping column names in the other DataFrame. These suffixes help distinguish columns with the same name after the join.\n",
    "\n",
    "In essence, use `.join()` when you want to combine DataFrames primarily based on their index values. \n",
    "\n",
    "If you need more explicit control over the join columns or want to join on different columns in the two DataFrames, `.merge()` is generally the more versatile option."
   ]
  },
  {
   "cell_type": "markdown",
   "id": "b52684e0-0cdc-4f23-8054-1105a90c42cd",
   "metadata": {
    "editable": true,
    "slideshow": {
     "slide_type": ""
    },
    "tags": []
   },
   "source": [
    "Let's perform an inner join with `.join()` to view the results versus a `.merge()`."
   ]
  },
  {
   "cell_type": "code",
   "execution_count": null,
   "id": "db624e18-22f2-4807-8490-b652b6faa11a",
   "metadata": {
    "editable": true,
    "slideshow": {
     "slide_type": ""
    },
    "tags": []
   },
   "outputs": [],
   "source": [
    "## Begin Example\n",
    "\n",
    "\n",
    "## End Example"
   ]
  },
  {
   "cell_type": "markdown",
   "id": "af32f821-a608-4564-969d-ef046ab40247",
   "metadata": {
    "editable": true,
    "slideshow": {
     "slide_type": ""
    },
    "tags": []
   },
   "source": [
    "## `pd.concat()`\n",
    "\n",
    "The `pd.concat()` function in pandas is used to combine pandas objects (like DataFrames or Series) along a specified axis. \n",
    "\n",
    "It's like \"stacking\" or \"gluing\" them together."
   ]
  },
  {
   "cell_type": "markdown",
   "id": "b9542889-e6fa-4804-997c-75ec3d0284a2",
   "metadata": {
    "editable": true,
    "slideshow": {
     "slide_type": ""
    },
    "tags": []
   },
   "source": [
    "## Vertical Stacking\n",
    "\n",
    "<center><img src=\"../images/illustrations/data merge illustrations - concat vertical.jpg\"></center>\n",
    "\n",
    "Vertical stacking, also known as appending rows, involves combining DataFrames one on top of the other. \n",
    "\n",
    "This is particularly useful when you have data split across multiple files or DataFrames with the same columns and you want to create a single, larger dataset.\n",
    "\n",
    "Let's use our Krusty Krab menu items. We'll combine the entree items and menu items into one dataset."
   ]
  },
  {
   "cell_type": "code",
   "execution_count": null,
   "id": "ae39ed30-b78e-48c0-84aa-1bac4b16f66f",
   "metadata": {
    "editable": true,
    "slideshow": {
     "slide_type": ""
    },
    "tags": []
   },
   "outputs": [],
   "source": [
    "## Begin Example\n",
    "\n",
    "\n",
    "\n",
    "## End Example"
   ]
  },
  {
   "cell_type": "markdown",
   "id": "ce6a302f-ce00-4d02-98f9-ce5455376117",
   "metadata": {
    "editable": true,
    "slideshow": {
     "slide_type": ""
    },
    "tags": []
   },
   "source": [
    "## Horizontal Stacking\n",
    "\n",
    "<center><img src=\"../images/illustrations/data merge illustrations horizontal stack.jpg\"></center>\n",
    "\n",
    "Horizontal stacking, also known as concatenating along columns, involves combining DataFrames side-by-side. \n",
    "\n",
    "This is useful when you have different sets of information about the same entities in separate DataFrames and you want to bring them together into a single DataFrame with more columns.\n",
    "\n",
    "In additional to the `spongebob_df1` DataFrame, let's load the following dataset:\n",
    "\n",
    "__File:__\n",
    "* `../data/spongebob3.csv`\n",
    "\n",
    "__Recommended DataFrame Name:__\n",
    "* `spongebob_df3`\n",
    "\n",
    "This dataset contains car racing stats for each character.\n",
    "\n",
    "Let's perform a horizontal stack to \"glue\" the dataframes together."
   ]
  },
  {
   "cell_type": "code",
   "execution_count": null,
   "id": "8be6144c-f6e0-4d9d-b649-d6244354370b",
   "metadata": {
    "editable": true,
    "scrolled": true,
    "slideshow": {
     "slide_type": ""
    },
    "tags": []
   },
   "outputs": [],
   "source": [
    "## Begin Example\n",
    "\n",
    "\n",
    "## End Example"
   ]
  },
  {
   "cell_type": "markdown",
   "id": "0e5b9bf2-98c9-4d7e-ae77-acfcda49c94e",
   "metadata": {
    "editable": true,
    "slideshow": {
     "slide_type": ""
    },
    "tags": []
   },
   "source": [
    "`pd.concat()` is a fundamental tool for combining data in pandas, either by adding more rows or more columns.\n",
    "\n",
    "The `axis` parameter is key to controlling this behavior."
   ]
  },
  {
   "cell_type": "markdown",
   "id": "8173d5a5-503b-4d76-8c98-41eea9803af0",
   "metadata": {},
   "source": [
    "## Conclusion\n",
    "\n",
    "<center><img src=\"../images/stock/pexels-miami302-18403865.jpg\"></center>\n",
    "\n",
    "Combining data involves either joining based on shared attributes to integrate related information or stacking datasets vertically (for more observations) or horizontally (for more attributes of the same entities). \n",
    "\n",
    "Effective combination requires identifying linking attributes or ensuring consistent alignment through indexing. \n",
    "\n",
    "The goal is to create a unified dataset for more comprehensive analysis."
   ]
  }
 ],
 "metadata": {
  "kernelspec": {
   "display_name": "Python 3 (ipykernel)",
   "language": "python",
   "name": "python3"
  },
  "language_info": {
   "codemirror_mode": {
    "name": "ipython",
    "version": 3
   },
   "file_extension": ".py",
   "mimetype": "text/x-python",
   "name": "python",
   "nbconvert_exporter": "python",
   "pygments_lexer": "ipython3",
   "version": "3.12.5"
  }
 },
 "nbformat": 4,
 "nbformat_minor": 5
}
