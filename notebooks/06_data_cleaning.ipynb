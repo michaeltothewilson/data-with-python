{
 "cells": [
  {
   "cell_type": "code",
   "execution_count": 1,
   "id": "82a07659-a8d4-4c60-9dd8-eb1e6b9063cb",
   "metadata": {
    "editable": false,
    "slideshow": {
     "slide_type": ""
    },
    "tags": []
   },
   "outputs": [],
   "source": [
    "## Begin Setup\n",
    "import pandas as pd\n",
    "import numpy as np\n",
    "## End Setup"
   ]
  },
  {
   "cell_type": "markdown",
   "id": "e1eafac8-397b-4836-836c-dc519fc2ef99",
   "metadata": {
    "editable": false,
    "slideshow": {
     "slide_type": ""
    },
    "tags": []
   },
   "source": [
    "# Intro to Pandas Data Cleaning \n",
    "\n",
    "<center><img src=\"../images/stock/pexels-pixabay-434163.jpg\" width=\"500\"></center>"
   ]
  },
  {
   "cell_type": "markdown",
   "id": "15e9ce05-ad8e-4fee-b38a-a6aa4f1df4cf",
   "metadata": {
    "editable": false,
    "slideshow": {
     "slide_type": ""
    },
    "tags": []
   },
   "source": [
    "## Introduction\n",
    "Why is data cleaning important?\n",
    "\n",
    "* Real-world data is often messy, with errors, inconsistencies, and missing values.\n",
    "\n",
    "* Cleaning ensures data quality, leading to more reliable analysis and accurate conclusions."
   ]
  },
  {
   "cell_type": "markdown",
   "id": "ee2caa30-0b0e-45ab-aee6-2308d8c7e5b8",
   "metadata": {
    "editable": false,
    "slideshow": {
     "slide_type": ""
    },
    "tags": []
   },
   "source": [
    "## Overview of common data cleaning steps:\n",
    "\n",
    "* __Handling Missing Values__: Sometimes data has empty spots. We need to decide what to do with them\n",
    "\n",
    "* __Removing Irrelevant Data__: Not all the information we have will be useful. We want to get rid of things like duplicate entries or columns that don't tell us anything new. \n",
    "\n",
    "* __Filtering Data__: Often, we only want to look at a specific part of our data. Filtering lets us select just the rows that meet certain conditions.\n",
    "\n",
    "* __Handling Outliers__: Outliers are data points that are very different from the rest. They can sometimes be real, but other times they're errors. \n",
    "\n",
    "* __Correcting Inconsistencies__: Data can be recorded in different ways even when it means the same thing (like \"USA\" vs. \"United States\"). We need to make sure these things are consistent so our analysis is accurate."
   ]
  },
  {
   "cell_type": "markdown",
   "id": "e19f1364-f557-4421-983d-7daa1f58c63b",
   "metadata": {
    "editable": false,
    "slideshow": {
     "slide_type": ""
    },
    "tags": []
   },
   "source": [
    "## Dealing With Missing Values\n",
    "\n",
    "<center><img src=\"../images/stock/pexels-matilda-wormwood-4099467.jpg\" width=\"500\"></center>\n",
    "\n",
    "Sometimes, our data has empty spots, which Pandas represents as `NaN` (Not a Number). We need to deal with these so they don't mess up our analysis."
   ]
  },
  {
   "cell_type": "markdown",
   "id": "ce7e2202-842d-41f3-ad89-0230fad38a6c",
   "metadata": {
    "editable": false,
    "slideshow": {
     "slide_type": ""
    },
    "tags": []
   },
   "source": [
    "### Identifying Missing Values\n",
    "\n",
    "* We can use `df.isna()` to create a table where `True` indicates a missing value and `False` means the value is present.\n",
    "\n",
    "* Conversely, `df.notna()` gives us a table where `True` means the value is present and `False` indicates a missing value."
   ]
  },
  {
   "cell_type": "markdown",
   "id": "0437b3a4-cb35-4fa4-8c55-a24ec94c9c93",
   "metadata": {
    "editable": false,
    "slideshow": {
     "slide_type": ""
    },
    "tags": []
   },
   "source": [
    "### Handling Missing Data\n",
    "\n",
    "There are a few common ways to handle missing values:\n",
    "\n",
    "* __Removing Missing Data:__\n",
    "\n",
    "    * We can remove entire rows that have missing values using `df.dropna()`. Be careful, as this can reduce the size of your dataset.\n",
    "    * We can also remove entire columns with missing values by using `df.dropna(axis=1)`. This is useful if a whole feature has a lot of missing information.\n",
    "\n",
    "\n",
    "* __Filling Missing Data:__\n",
    "\n",
    "    * Instead of removing data, we can try to fill in the gaps with estimated values using `df.fillna()`:\n",
    "\n",
    "        * Fill with a specific value: `df.fillna(0)` would replace all `NaNs` with 0. You can use any value that makes sense for your data.\n",
    "        * Fill with the mean: `df.fillna(df.mean())` replaces missing numerical values with the average of that column.\n",
    "        * Fill with the median: `df.fillna(df.median())` replaces missing numerical values with the middle value, which is less affected by extreme values.\n",
    "\n",
    "By using these Pandas functions, we can effectively identify and handle missing data in our datasets."
   ]
  },
  {
   "cell_type": "markdown",
   "id": "fb1c0e7d-45e5-491c-8f8a-1753b739def7",
   "metadata": {
    "editable": false,
    "slideshow": {
     "slide_type": ""
    },
    "tags": []
   },
   "source": [
    "### Example: Missing Values \n",
    "\n",
    "__Consider the Following:__\n",
    "\n",
    "A dataset of customer information contains missing values in the `Email`, `Phone Number`, and `Address` columns."
   ]
  },
  {
   "cell_type": "code",
   "execution_count": 5,
   "id": "b1e9ee0f-46c5-4a7e-8f27-8d9d136c9a2d",
   "metadata": {
    "editable": true,
    "slideshow": {
     "slide_type": ""
    },
    "tags": []
   },
   "outputs": [
    {
     "data": {
      "text/html": [
       "<div>\n",
       "<style scoped>\n",
       "    .dataframe tbody tr th:only-of-type {\n",
       "        vertical-align: middle;\n",
       "    }\n",
       "\n",
       "    .dataframe tbody tr th {\n",
       "        vertical-align: top;\n",
       "    }\n",
       "\n",
       "    .dataframe thead th {\n",
       "        text-align: right;\n",
       "    }\n",
       "</style>\n",
       "<table border=\"1\" class=\"dataframe\">\n",
       "  <thead>\n",
       "    <tr style=\"text-align: right;\">\n",
       "      <th></th>\n",
       "      <th>Customer_ID</th>\n",
       "      <th>Email</th>\n",
       "      <th>Phone Number</th>\n",
       "      <th>Address</th>\n",
       "    </tr>\n",
       "  </thead>\n",
       "  <tbody>\n",
       "    <tr>\n",
       "      <th>0</th>\n",
       "      <td>1</td>\n",
       "      <td>john.doe@example.com</td>\n",
       "      <td>123-456-7890</td>\n",
       "      <td>123 Main St</td>\n",
       "    </tr>\n",
       "    <tr>\n",
       "      <th>1</th>\n",
       "      <td>2</td>\n",
       "      <td>NaN</td>\n",
       "      <td>987-654-3210</td>\n",
       "      <td>456 Oak Ave</td>\n",
       "    </tr>\n",
       "    <tr>\n",
       "      <th>2</th>\n",
       "      <td>3</td>\n",
       "      <td>jane.smith@example.com</td>\n",
       "      <td>NaN</td>\n",
       "      <td>789 Pine Ln</td>\n",
       "    </tr>\n",
       "    <tr>\n",
       "      <th>3</th>\n",
       "      <td>4</td>\n",
       "      <td>alice.johnson@example.com</td>\n",
       "      <td>555-123-4567</td>\n",
       "      <td>NaN</td>\n",
       "    </tr>\n",
       "    <tr>\n",
       "      <th>4</th>\n",
       "      <td>5</td>\n",
       "      <td>NaN</td>\n",
       "      <td>NaN</td>\n",
       "      <td>246 Elm St</td>\n",
       "    </tr>\n",
       "  </tbody>\n",
       "</table>\n",
       "</div>"
      ],
      "text/plain": [
       "   Customer_ID                      Email  Phone Number      Address\n",
       "0            1       john.doe@example.com  123-456-7890  123 Main St\n",
       "1            2                        NaN  987-654-3210  456 Oak Ave\n",
       "2            3     jane.smith@example.com           NaN  789 Pine Ln\n",
       "3            4  alice.johnson@example.com  555-123-4567          NaN\n",
       "4            5                        NaN           NaN   246 Elm St"
      ]
     },
     "execution_count": 5,
     "metadata": {},
     "output_type": "execute_result"
    }
   ],
   "source": [
    "### Begin Example\n",
    "# Create a sample DataFrame\n",
    "data = {'Customer_ID': [i for i in range(1,6)],\n",
    "        'Email': ['john.doe@example.com', \n",
    "                  np.nan, \n",
    "                  'jane.smith@example.com', \n",
    "                  'alice.johnson@example.com', \n",
    "                  np.nan\n",
    "                 ],\n",
    "        'Phone Number': ['123-456-7890', \n",
    "                         '987-654-3210', \n",
    "                         np.nan, \n",
    "                         '555-123-4567', \n",
    "                         np.nan\n",
    "                        ],\n",
    "        'Address': ['123 Main St', \n",
    "                    '456 Oak Ave', \n",
    "                    '789 Pine Ln', \n",
    "                    np.nan, \n",
    "                    '246 Elm St'\n",
    "                   ]}\n",
    "\n",
    "customer_df = pd.DataFrame(data)\n",
    "\n",
    "customer_df"
   ]
  },
  {
   "cell_type": "markdown",
   "id": "0e3e0d5b-b2c3-42fa-958f-c32d5ac5feb2",
   "metadata": {
    "editable": false,
    "slideshow": {
     "slide_type": ""
    },
    "tags": []
   },
   "source": [
    "We can use `df.isna()` to locate these missing values."
   ]
  },
  {
   "cell_type": "code",
   "execution_count": 6,
   "id": "086d63fe-be2c-42f5-abc0-dbf953de834f",
   "metadata": {
    "editable": true,
    "slideshow": {
     "slide_type": ""
    },
    "tags": []
   },
   "outputs": [
    {
     "data": {
      "text/html": [
       "<div>\n",
       "<style scoped>\n",
       "    .dataframe tbody tr th:only-of-type {\n",
       "        vertical-align: middle;\n",
       "    }\n",
       "\n",
       "    .dataframe tbody tr th {\n",
       "        vertical-align: top;\n",
       "    }\n",
       "\n",
       "    .dataframe thead th {\n",
       "        text-align: right;\n",
       "    }\n",
       "</style>\n",
       "<table border=\"1\" class=\"dataframe\">\n",
       "  <thead>\n",
       "    <tr style=\"text-align: right;\">\n",
       "      <th></th>\n",
       "      <th>Customer_ID</th>\n",
       "      <th>Email</th>\n",
       "      <th>Phone Number</th>\n",
       "      <th>Address</th>\n",
       "    </tr>\n",
       "  </thead>\n",
       "  <tbody>\n",
       "    <tr>\n",
       "      <th>0</th>\n",
       "      <td>False</td>\n",
       "      <td>False</td>\n",
       "      <td>False</td>\n",
       "      <td>False</td>\n",
       "    </tr>\n",
       "    <tr>\n",
       "      <th>1</th>\n",
       "      <td>False</td>\n",
       "      <td>True</td>\n",
       "      <td>False</td>\n",
       "      <td>False</td>\n",
       "    </tr>\n",
       "    <tr>\n",
       "      <th>2</th>\n",
       "      <td>False</td>\n",
       "      <td>False</td>\n",
       "      <td>True</td>\n",
       "      <td>False</td>\n",
       "    </tr>\n",
       "    <tr>\n",
       "      <th>3</th>\n",
       "      <td>False</td>\n",
       "      <td>False</td>\n",
       "      <td>False</td>\n",
       "      <td>True</td>\n",
       "    </tr>\n",
       "    <tr>\n",
       "      <th>4</th>\n",
       "      <td>False</td>\n",
       "      <td>True</td>\n",
       "      <td>True</td>\n",
       "      <td>False</td>\n",
       "    </tr>\n",
       "  </tbody>\n",
       "</table>\n",
       "</div>"
      ],
      "text/plain": [
       "   Customer_ID  Email  Phone Number  Address\n",
       "0        False  False         False    False\n",
       "1        False   True         False    False\n",
       "2        False  False          True    False\n",
       "3        False  False         False     True\n",
       "4        False   True          True    False"
      ]
     },
     "execution_count": 6,
     "metadata": {},
     "output_type": "execute_result"
    }
   ],
   "source": [
    "### Begin Example\n",
    "\n",
    "# Locate Missing Values\n",
    "customer_df.isna()\n",
    "### End Example"
   ]
  },
  {
   "cell_type": "markdown",
   "id": "fc9652ce-7036-47d4-8214-f1ae5d7e8be4",
   "metadata": {
    "editable": false,
    "slideshow": {
     "slide_type": ""
    },
    "tags": []
   },
   "source": [
    "If many rows have missing 'Email' or 'Phone Number', we might drop those rows using `df.dropna()`.\n",
    "\n",
    "By default, it drops a row if any of its columns have a missing value. The `subset` argument allows you to specify which columns should be considered when identifying missing values for dropping rows. If a missing value is found in any of the columns listed in `subset` for a given row, that row will be dropped."
   ]
  },
  {
   "cell_type": "code",
   "execution_count": 8,
   "id": "c8713611-2b32-4b8d-9be0-79f65173a573",
   "metadata": {
    "editable": true,
    "slideshow": {
     "slide_type": ""
    },
    "tags": []
   },
   "outputs": [
    {
     "data": {
      "text/html": [
       "<div>\n",
       "<style scoped>\n",
       "    .dataframe tbody tr th:only-of-type {\n",
       "        vertical-align: middle;\n",
       "    }\n",
       "\n",
       "    .dataframe tbody tr th {\n",
       "        vertical-align: top;\n",
       "    }\n",
       "\n",
       "    .dataframe thead th {\n",
       "        text-align: right;\n",
       "    }\n",
       "</style>\n",
       "<table border=\"1\" class=\"dataframe\">\n",
       "  <thead>\n",
       "    <tr style=\"text-align: right;\">\n",
       "      <th></th>\n",
       "      <th>Customer_ID</th>\n",
       "      <th>Email</th>\n",
       "      <th>Phone Number</th>\n",
       "      <th>Address</th>\n",
       "    </tr>\n",
       "  </thead>\n",
       "  <tbody>\n",
       "    <tr>\n",
       "      <th>0</th>\n",
       "      <td>1</td>\n",
       "      <td>john.doe@example.com</td>\n",
       "      <td>123-456-7890</td>\n",
       "      <td>123 Main St</td>\n",
       "    </tr>\n",
       "  </tbody>\n",
       "</table>\n",
       "</div>"
      ],
      "text/plain": [
       "   Customer_ID                 Email  Phone Number      Address\n",
       "0            1  john.doe@example.com  123-456-7890  123 Main St"
      ]
     },
     "execution_count": 8,
     "metadata": {},
     "output_type": "execute_result"
    }
   ],
   "source": [
    "### Begin Example\n",
    "# Drop rows where 'Email' or 'Phone Number' is missing\n",
    "\n",
    "# Output Results\n",
    "\n",
    "\n",
    "### End Example"
   ]
  },
  {
   "cell_type": "markdown",
   "id": "004db96b-5678-46cc-92cc-54ecb2bebda6",
   "metadata": {
    "editable": false,
    "slideshow": {
     "slide_type": ""
    },
    "tags": []
   },
   "source": [
    "If only a few values are missing, we might fill them with a placeholder--we can use `fillna()`. \n",
    "\n",
    "* For `Address`, we might use `Unknown`.\n",
    "* For `Email` and `Phone Number` we might use `\"\"`"
   ]
  },
  {
   "cell_type": "code",
   "execution_count": 12,
   "id": "6d8df27e-a388-48f2-85cf-a4ecaba4bb96",
   "metadata": {
    "editable": true,
    "slideshow": {
     "slide_type": ""
    },
    "tags": []
   },
   "outputs": [
    {
     "data": {
      "text/html": [
       "<div>\n",
       "<style scoped>\n",
       "    .dataframe tbody tr th:only-of-type {\n",
       "        vertical-align: middle;\n",
       "    }\n",
       "\n",
       "    .dataframe tbody tr th {\n",
       "        vertical-align: top;\n",
       "    }\n",
       "\n",
       "    .dataframe thead th {\n",
       "        text-align: right;\n",
       "    }\n",
       "</style>\n",
       "<table border=\"1\" class=\"dataframe\">\n",
       "  <thead>\n",
       "    <tr style=\"text-align: right;\">\n",
       "      <th></th>\n",
       "      <th>Customer_ID</th>\n",
       "      <th>Email</th>\n",
       "      <th>Phone Number</th>\n",
       "      <th>Address</th>\n",
       "    </tr>\n",
       "  </thead>\n",
       "  <tbody>\n",
       "    <tr>\n",
       "      <th>0</th>\n",
       "      <td>1</td>\n",
       "      <td>john.doe@example.com</td>\n",
       "      <td>123-456-7890</td>\n",
       "      <td>123 Main St</td>\n",
       "    </tr>\n",
       "    <tr>\n",
       "      <th>1</th>\n",
       "      <td>2</td>\n",
       "      <td>NaN</td>\n",
       "      <td>987-654-3210</td>\n",
       "      <td>456 Oak Ave</td>\n",
       "    </tr>\n",
       "    <tr>\n",
       "      <th>2</th>\n",
       "      <td>3</td>\n",
       "      <td>jane.smith@example.com</td>\n",
       "      <td>NaN</td>\n",
       "      <td>789 Pine Ln</td>\n",
       "    </tr>\n",
       "    <tr>\n",
       "      <th>3</th>\n",
       "      <td>4</td>\n",
       "      <td>alice.johnson@example.com</td>\n",
       "      <td>555-123-4567</td>\n",
       "      <td>NaN</td>\n",
       "    </tr>\n",
       "    <tr>\n",
       "      <th>4</th>\n",
       "      <td>5</td>\n",
       "      <td>NaN</td>\n",
       "      <td>NaN</td>\n",
       "      <td>246 Elm St</td>\n",
       "    </tr>\n",
       "  </tbody>\n",
       "</table>\n",
       "</div>"
      ],
      "text/plain": [
       "   Customer_ID                      Email  Phone Number      Address\n",
       "0            1       john.doe@example.com  123-456-7890  123 Main St\n",
       "1            2                        NaN  987-654-3210  456 Oak Ave\n",
       "2            3     jane.smith@example.com           NaN  789 Pine Ln\n",
       "3            4  alice.johnson@example.com  555-123-4567          NaN\n",
       "4            5                        NaN           NaN   246 Elm St"
      ]
     },
     "execution_count": 12,
     "metadata": {},
     "output_type": "execute_result"
    }
   ],
   "source": [
    "### Begin Example\n",
    "# Re-Create the sample DataFrame\n",
    "data = {'Customer_ID': [i for i in range(1,6)],\n",
    "        'Email': ['john.doe@example.com', \n",
    "                  np.nan, \n",
    "                  'jane.smith@example.com', \n",
    "                  'alice.johnson@example.com', \n",
    "                  np.nan\n",
    "                 ],\n",
    "        'Phone Number': ['123-456-7890', \n",
    "                         '987-654-3210', \n",
    "                         np.nan, \n",
    "                         '555-123-4567', \n",
    "                         np.nan\n",
    "                        ],\n",
    "        'Address': ['123 Main St', \n",
    "                    '456 Oak Ave', \n",
    "                    '789 Pine Ln', \n",
    "                    np.nan, \n",
    "                    '246 Elm St'\n",
    "                   ]}\n",
    "\n",
    "customer_df = pd.DataFrame(data)\n",
    "\n",
    "# Fill missing 'Address' values with 'Unknown'\n",
    "\n",
    "\n",
    "\n",
    "\n",
    "\n",
    "### End Example"
   ]
  },
  {
   "cell_type": "markdown",
   "id": "242015eb-c6f6-40cd-b479-635625566d2d",
   "metadata": {
    "editable": false,
    "slideshow": {
     "slide_type": ""
    },
    "tags": []
   },
   "source": [
    "## Removing Irrelevant Data\n",
    "\n",
    "<center><img src=\"../images/stock/pexels-cottonbro-4108715.jpg\" width=\"500\"></center>\n",
    "\n",
    "Sometimes, our datasets contain information that doesn't help us with our analysis. Getting rid of this \"noise\" makes our data cleaner and easier to work with."
   ]
  },
  {
   "cell_type": "markdown",
   "id": "86182706-cade-413f-82f6-7c828334987a",
   "metadata": {
    "editable": false,
    "slideshow": {
     "slide_type": ""
    },
    "tags": []
   },
   "source": [
    "### Identifying and Removing Unnecessary Columns:\n",
    "\n",
    "Often, datasets include columns that are unique identifiers (like `Customer_ID`) or provide information that isn't relevant to our questions.\n",
    "\n",
    "For example, if we're analyzing customer purchase behavior, the unique `Customer_ID` might not tell us anything about what they buy.\n",
    "\n",
    "To remove one or more columns, we use the `df.drop()` function. We need to specify the names of the columns we want to remove and set `axis=1` to indicate we're dropping columns (as opposed to rows).\n",
    "\n",
    "__Syntax Example__\n",
    "\n",
    "```python\n",
    "# Example: Removing a single column\n",
    "df = df.drop('Column1', axis=1)\n",
    "\n",
    "# Example: Removing multiple columns\n",
    "columns_to_drop = ['Column1', 'Column2']\n",
    "df = df.drop(columns_to_drop, axis=1)\n",
    "```"
   ]
  },
  {
   "cell_type": "markdown",
   "id": "36e95de1-cd21-4411-8ba8-a3e5963524df",
   "metadata": {
    "editable": false,
    "slideshow": {
     "slide_type": ""
    },
    "tags": []
   },
   "source": [
    "### Removing Duplicate Rows\n",
    "\n",
    "Duplicate rows are identical entries in our dataset. They don't provide any new information and can skew our analysis. \n",
    "\n",
    "* We can find them using `df.duplicated()`. \n",
    "\n",
    "* This returns a Series of True or False values, where True indicates a row that is a duplicate of a previous row.\n",
    "\n",
    "* To remove these duplicate rows, we use the `df.drop_duplicates()` function.\n",
    "    * By default, it keeps the first occurrence of each unique row.\n",
    "\n",
    "```python\n",
    "# Example: Removing duplicate rows, keeping the first occurrence\n",
    "df = df.drop_duplicates()\n",
    "\n",
    "# Example: Removing duplicates, keeping the last occurrence\n",
    "df = df.drop_duplicates(keep='last')\n",
    "\n",
    "# Example: Removing duplicates based on specific columns\n",
    "df = df.drop_duplicates(subset=['Column1', 'Column2'])\n",
    "```"
   ]
  },
  {
   "cell_type": "markdown",
   "id": "9bf8be3c-03f9-4d79-bc97-d49e2abd62d2",
   "metadata": {
    "editable": false,
    "slideshow": {
     "slide_type": ""
    },
    "tags": []
   },
   "source": [
    "### Example: Removing Duplicate Entries\n",
    "\n",
    "__Consider the Following:__\n",
    "\n",
    "A dataset of website traffic containing duplicate entries.  "
   ]
  },
  {
   "cell_type": "code",
   "execution_count": 13,
   "id": "63eb12fd-f89c-475f-92a6-d6f64042a50b",
   "metadata": {
    "editable": true,
    "slideshow": {
     "slide_type": ""
    },
    "tags": []
   },
   "outputs": [
    {
     "data": {
      "text/html": [
       "<div>\n",
       "<style scoped>\n",
       "    .dataframe tbody tr th:only-of-type {\n",
       "        vertical-align: middle;\n",
       "    }\n",
       "\n",
       "    .dataframe tbody tr th {\n",
       "        vertical-align: top;\n",
       "    }\n",
       "\n",
       "    .dataframe thead th {\n",
       "        text-align: right;\n",
       "    }\n",
       "</style>\n",
       "<table border=\"1\" class=\"dataframe\">\n",
       "  <thead>\n",
       "    <tr style=\"text-align: right;\">\n",
       "      <th></th>\n",
       "      <th>User_ID</th>\n",
       "      <th>Page_Visited</th>\n",
       "      <th>Timestamp</th>\n",
       "    </tr>\n",
       "  </thead>\n",
       "  <tbody>\n",
       "    <tr>\n",
       "      <th>0</th>\n",
       "      <td>101</td>\n",
       "      <td>Home</td>\n",
       "      <td>2024-07-28 10:00:00</td>\n",
       "    </tr>\n",
       "    <tr>\n",
       "      <th>1</th>\n",
       "      <td>102</td>\n",
       "      <td>Products</td>\n",
       "      <td>2024-07-28 10:15:00</td>\n",
       "    </tr>\n",
       "    <tr>\n",
       "      <th>2</th>\n",
       "      <td>101</td>\n",
       "      <td>Home</td>\n",
       "      <td>2024-07-28 10:00:00</td>\n",
       "    </tr>\n",
       "    <tr>\n",
       "      <th>3</th>\n",
       "      <td>103</td>\n",
       "      <td>Services</td>\n",
       "      <td>2024-07-28 10:30:00</td>\n",
       "    </tr>\n",
       "    <tr>\n",
       "      <th>4</th>\n",
       "      <td>102</td>\n",
       "      <td>Products</td>\n",
       "      <td>2024-07-28 10:15:00</td>\n",
       "    </tr>\n",
       "    <tr>\n",
       "      <th>5</th>\n",
       "      <td>104</td>\n",
       "      <td>Contact</td>\n",
       "      <td>2024-07-28 10:45:00</td>\n",
       "    </tr>\n",
       "  </tbody>\n",
       "</table>\n",
       "</div>"
      ],
      "text/plain": [
       "   User_ID Page_Visited            Timestamp\n",
       "0      101         Home  2024-07-28 10:00:00\n",
       "1      102     Products  2024-07-28 10:15:00\n",
       "2      101         Home  2024-07-28 10:00:00\n",
       "3      103     Services  2024-07-28 10:30:00\n",
       "4      102     Products  2024-07-28 10:15:00\n",
       "5      104      Contact  2024-07-28 10:45:00"
      ]
     },
     "execution_count": 13,
     "metadata": {},
     "output_type": "execute_result"
    }
   ],
   "source": [
    "## Begin Example\n",
    "# Create a sample DataFrame with duplicate rows\n",
    "traffic_data = {'User_ID': [101, 102, 101, 103, 102, 104],\n",
    "                'Page_Visited': ['Home', \n",
    "                                 'Products', \n",
    "                                 'Home', \n",
    "                                 'Services', \n",
    "                                 'Products', \n",
    "                                 'Contact'\n",
    "                                ],\n",
    "                'Timestamp': ['2024-07-28 10:00:00', \n",
    "                              '2024-07-28 10:15:00', \n",
    "                              '2024-07-28 10:00:00', \n",
    "                              '2024-07-28 10:30:00', \n",
    "                              '2024-07-28 10:15:00', \n",
    "                              '2024-07-28 10:45:00'\n",
    "                             ]}\n",
    "\n",
    "traffic_df = pd.DataFrame(traffic_data)\n",
    "\n",
    "traffic_df\n",
    "## End Example"
   ]
  },
  {
   "cell_type": "markdown",
   "id": "2fd3c549-9d99-4196-94dd-a14d0e5bca2f",
   "metadata": {
    "editable": false,
    "slideshow": {
     "slide_type": ""
    },
    "tags": []
   },
   "source": [
    "Let's Identify the duplicates."
   ]
  },
  {
   "cell_type": "code",
   "execution_count": 15,
   "id": "56d4f154-dd77-4a13-9a86-26b76be6b387",
   "metadata": {
    "editable": true,
    "slideshow": {
     "slide_type": ""
    },
    "tags": []
   },
   "outputs": [
    {
     "data": {
      "text/plain": [
       "0    False\n",
       "1    False\n",
       "2     True\n",
       "3    False\n",
       "4     True\n",
       "5    False\n",
       "dtype: bool"
      ]
     },
     "execution_count": 15,
     "metadata": {},
     "output_type": "execute_result"
    }
   ],
   "source": [
    "## Begin Example\n",
    "# Identify duplicate rows\n",
    "\n",
    "\n",
    "## End Example"
   ]
  },
  {
   "cell_type": "code",
   "execution_count": null,
   "id": "f6796934-644f-4cff-8aad-a8086bafc1ed",
   "metadata": {
    "editable": false,
    "slideshow": {
     "slide_type": ""
    },
    "tags": []
   },
   "outputs": [],
   "source": [
    "We can remove these duplicate rows."
   ]
  },
  {
   "cell_type": "code",
   "execution_count": 17,
   "id": "4eb938e9-e521-4e53-b08f-8f028ac339a3",
   "metadata": {
    "editable": true,
    "slideshow": {
     "slide_type": ""
    },
    "tags": []
   },
   "outputs": [
    {
     "data": {
      "text/html": [
       "<div>\n",
       "<style scoped>\n",
       "    .dataframe tbody tr th:only-of-type {\n",
       "        vertical-align: middle;\n",
       "    }\n",
       "\n",
       "    .dataframe tbody tr th {\n",
       "        vertical-align: top;\n",
       "    }\n",
       "\n",
       "    .dataframe thead th {\n",
       "        text-align: right;\n",
       "    }\n",
       "</style>\n",
       "<table border=\"1\" class=\"dataframe\">\n",
       "  <thead>\n",
       "    <tr style=\"text-align: right;\">\n",
       "      <th></th>\n",
       "      <th>User_ID</th>\n",
       "      <th>Page_Visited</th>\n",
       "      <th>Timestamp</th>\n",
       "    </tr>\n",
       "  </thead>\n",
       "  <tbody>\n",
       "    <tr>\n",
       "      <th>0</th>\n",
       "      <td>101</td>\n",
       "      <td>Home</td>\n",
       "      <td>2024-07-28 10:00:00</td>\n",
       "    </tr>\n",
       "    <tr>\n",
       "      <th>1</th>\n",
       "      <td>102</td>\n",
       "      <td>Products</td>\n",
       "      <td>2024-07-28 10:15:00</td>\n",
       "    </tr>\n",
       "    <tr>\n",
       "      <th>3</th>\n",
       "      <td>103</td>\n",
       "      <td>Services</td>\n",
       "      <td>2024-07-28 10:30:00</td>\n",
       "    </tr>\n",
       "    <tr>\n",
       "      <th>5</th>\n",
       "      <td>104</td>\n",
       "      <td>Contact</td>\n",
       "      <td>2024-07-28 10:45:00</td>\n",
       "    </tr>\n",
       "  </tbody>\n",
       "</table>\n",
       "</div>"
      ],
      "text/plain": [
       "   User_ID Page_Visited            Timestamp\n",
       "0      101         Home  2024-07-28 10:00:00\n",
       "1      102     Products  2024-07-28 10:15:00\n",
       "3      103     Services  2024-07-28 10:30:00\n",
       "5      104      Contact  2024-07-28 10:45:00"
      ]
     },
     "execution_count": 17,
     "metadata": {},
     "output_type": "execute_result"
    }
   ],
   "source": [
    "## Begin Example\n",
    "# Remove duplicate rows\n",
    "\n",
    "\n",
    "\n",
    "## End Example"
   ]
  },
  {
   "cell_type": "markdown",
   "id": "bc79a93c-d7bd-4d2d-95c2-3a8544433001",
   "metadata": {
    "editable": false,
    "slideshow": {
     "slide_type": ""
    },
    "tags": []
   },
   "source": [
    "## Filtering Data\n",
    "\n",
    "<center><img src=\"../images/stock/pexels-cottonbro-4107284.jpg\" width=\"500\"></center>\n",
    "\n",
    "__Filtering__ allows you to select specific rows from your data based on conditions, enabling targeted analysis. This is primarily achieved using __boolean indexing__."
   ]
  },
  {
   "cell_type": "markdown",
   "id": "b07da64d-3eff-4135-8c0e-b56473375feb",
   "metadata": {
    "editable": false,
    "slideshow": {
     "slide_type": ""
    },
    "tags": []
   },
   "source": [
    "### Boolean Indexing: The Core Technique\n",
    "\n",
    "__Boolean indexing__ is a fundamental and efficient way to extract meaningful information from your Python datasets.\n",
    "\n",
    "__Steps:__\n",
    "\n",
    "1. Create a Boolean Mask: Define a condition that, when applied to a data structure (like a Pandas Series or DataFrame column), produces a Series of True and False values. `True` indicates rows that satisfy the condition.\n",
    "\n",
    "__Syntax Example__\n",
    "\n",
    "```python\n",
    "mask = df['Column Name'] condition\n",
    "```\n",
    "\n",
    "2. Apply the Boolean Mask: Use the generated mask to index the original data structure. This returns a new structure containing only the rows where the mask is `True`.\n",
    "\n",
    "__Syntax Example__\n",
    "```python\n",
    "filtered_df = df[mask]\n",
    "```"
   ]
  },
  {
   "cell_type": "markdown",
   "id": "07a95cd4-de07-4d33-ac05-3f2e02fe1c8f",
   "metadata": {
    "editable": false,
    "slideshow": {
     "slide_type": ""
    },
    "tags": []
   },
   "source": [
    "### Example: Boolean Indexing\n",
    "\n",
    "Consider a dataset of sales transactions contains information about different products. "
   ]
  },
  {
   "cell_type": "code",
   "execution_count": null,
   "id": "88f05baf-3905-48ba-8227-7c5bece58fc4",
   "metadata": {
    "editable": true,
    "slideshow": {
     "slide_type": ""
    },
    "tags": []
   },
   "outputs": [],
   "source": [
    "## Begin Example\n",
    "# Create a sample DataFrame\n",
    "sales_data = {'Transaction_ID': [1, 2, 3, 4, 5],\n",
    "                'Product': ['Product A', \n",
    "                            'Product B', \n",
    "                            'Product A', \n",
    "                            'Product C', \n",
    "                            'Product A'\n",
    "                           ],\n",
    "                'Quantity': [10, 5, 20, 15, 30],\n",
    "                'Price': [25.00, 50.00, 25.00, 75.00, 25.00]}\n",
    "\n",
    "sales_df = \n",
    "\n",
    "## End Example"
   ]
  },
  {
   "cell_type": "markdown",
   "id": "e793e071-14fd-4f59-9132-da319805496a",
   "metadata": {
    "editable": false,
    "slideshow": {
     "slide_type": ""
    },
    "tags": []
   },
   "source": [
    "Let's create a boolean mask to focus only on `Product A`."
   ]
  },
  {
   "cell_type": "code",
   "execution_count": null,
   "id": "5c3df245-3d5c-4eed-b6c1-3feaa230dbb4",
   "metadata": {
    "editable": true,
    "slideshow": {
     "slide_type": ""
    },
    "tags": []
   },
   "outputs": [],
   "source": [
    "## Begin Example\n",
    "\n",
    "# Product A Mask\n",
    "\n",
    "## End Example"
   ]
  },
  {
   "cell_type": "markdown",
   "id": "adf1bc8d-1547-4ee5-9140-bda404bbaec6",
   "metadata": {
    "editable": false,
    "slideshow": {
     "slide_type": ""
    },
    "tags": []
   },
   "source": [
    "Now let's apply the mask to created a filtered DataFrame."
   ]
  },
  {
   "cell_type": "code",
   "execution_count": null,
   "id": "6db0cb97-815e-44c3-a53c-5239b0cb54f8",
   "metadata": {
    "editable": true,
    "slideshow": {
     "slide_type": ""
    },
    "tags": []
   },
   "outputs": [],
   "source": [
    "## Begin Example\n",
    "\n",
    "# Apply Mask\n",
    "\n",
    "## End Example"
   ]
  },
  {
   "cell_type": "markdown",
   "id": "1d56035a-2ce0-4deb-8e03-29054623ba60",
   "metadata": {
    "editable": false,
    "slideshow": {
     "slide_type": ""
    },
    "tags": []
   },
   "source": [
    "## Handling Outliers\n",
    "\n",
    "<center><img src=\"../images/stock/pexels-shvetsa-5217889.jpg\" width=\"500\"></center>\n",
    "\n",
    "Outliers are data points that significantly deviate from the rest of your dataset. They can skew analysis and impact model performance.\n",
    "\n",
    "__Common Techniques:__\n",
    "\n",
    "* __Removing Outliers:__ Deleting the extreme data points. Use with caution, as you might lose valuable information.\n",
    "\n",
    "* __Transforming Outliers:__ Applying mathematical functions (e.g., log, square root) to reduce the impact of extreme values.\n",
    "\n",
    "* __Imputing Outliers:__ Replacing outliers with a more representative value (e.g., mean, median, a capped value)."
   ]
  },
  {
   "cell_type": "markdown",
   "id": "a886aa4f-0a6a-4133-a32b-418c6a8fad0c",
   "metadata": {
    "editable": false,
    "slideshow": {
     "slide_type": ""
    },
    "tags": []
   },
   "source": [
    "### Example: Handling Outliers\n",
    "\n",
    "__Consider the Following__\n",
    "\n",
    "A dataset of customer ages contains some extremely high values. "
   ]
  },
  {
   "cell_type": "code",
   "execution_count": 18,
   "id": "cfd874ff-f7ee-4a42-b56f-eeea028666ea",
   "metadata": {
    "editable": true,
    "slideshow": {
     "slide_type": ""
    },
    "tags": []
   },
   "outputs": [
    {
     "data": {
      "text/html": [
       "<div>\n",
       "<style scoped>\n",
       "    .dataframe tbody tr th:only-of-type {\n",
       "        vertical-align: middle;\n",
       "    }\n",
       "\n",
       "    .dataframe tbody tr th {\n",
       "        vertical-align: top;\n",
       "    }\n",
       "\n",
       "    .dataframe thead th {\n",
       "        text-align: right;\n",
       "    }\n",
       "</style>\n",
       "<table border=\"1\" class=\"dataframe\">\n",
       "  <thead>\n",
       "    <tr style=\"text-align: right;\">\n",
       "      <th></th>\n",
       "      <th>Customer_ID</th>\n",
       "      <th>Age</th>\n",
       "    </tr>\n",
       "  </thead>\n",
       "  <tbody>\n",
       "    <tr>\n",
       "      <th>0</th>\n",
       "      <td>1</td>\n",
       "      <td>25</td>\n",
       "    </tr>\n",
       "    <tr>\n",
       "      <th>1</th>\n",
       "      <td>2</td>\n",
       "      <td>30</td>\n",
       "    </tr>\n",
       "    <tr>\n",
       "      <th>2</th>\n",
       "      <td>3</td>\n",
       "      <td>28</td>\n",
       "    </tr>\n",
       "    <tr>\n",
       "      <th>3</th>\n",
       "      <td>4</td>\n",
       "      <td>35</td>\n",
       "    </tr>\n",
       "    <tr>\n",
       "      <th>4</th>\n",
       "      <td>5</td>\n",
       "      <td>22</td>\n",
       "    </tr>\n",
       "    <tr>\n",
       "      <th>5</th>\n",
       "      <td>6</td>\n",
       "      <td>80</td>\n",
       "    </tr>\n",
       "    <tr>\n",
       "      <th>6</th>\n",
       "      <td>7</td>\n",
       "      <td>32</td>\n",
       "    </tr>\n",
       "    <tr>\n",
       "      <th>7</th>\n",
       "      <td>8</td>\n",
       "      <td>27</td>\n",
       "    </tr>\n",
       "    <tr>\n",
       "      <th>8</th>\n",
       "      <td>9</td>\n",
       "      <td>90</td>\n",
       "    </tr>\n",
       "    <tr>\n",
       "      <th>9</th>\n",
       "      <td>10</td>\n",
       "      <td>29</td>\n",
       "    </tr>\n",
       "  </tbody>\n",
       "</table>\n",
       "</div>"
      ],
      "text/plain": [
       "   Customer_ID  Age\n",
       "0            1   25\n",
       "1            2   30\n",
       "2            3   28\n",
       "3            4   35\n",
       "4            5   22\n",
       "5            6   80\n",
       "6            7   32\n",
       "7            8   27\n",
       "8            9   90\n",
       "9           10   29"
      ]
     },
     "execution_count": 18,
     "metadata": {},
     "output_type": "execute_result"
    }
   ],
   "source": [
    "## Begin Example\n",
    "# Create a sample DataFrame with outliers\n",
    "age_data = {'Customer_ID': [1, 2, 3, 4, 5, 6, 7, 8, 9, 10],\n",
    "                'Age': [25, 30, 28, 35, 22, 80, 32, 27, 90, 29]}\n",
    "\n",
    "age_df = pd.DataFrame(age_data)\n",
    "\n",
    "age_df\n",
    "## End Example"
   ]
  },
  {
   "cell_type": "markdown",
   "id": "9a76e1d5-0175-4202-aeee-1a4be22bb629",
   "metadata": {
    "slideshow": {
     "slide_type": ""
    },
    "tags": []
   },
   "source": [
    "For demonstration purposes, let's remove ages that are above an arbitrary limit of 70 (note: this not statistically sound for real world data). \n",
    "\n",
    "First we identify the outliers."
   ]
  },
  {
   "cell_type": "code",
   "execution_count": 19,
   "id": "e44dfef7-46b7-44ae-b7f4-600ad9cdd8cd",
   "metadata": {
    "editable": true,
    "slideshow": {
     "slide_type": ""
    },
    "tags": []
   },
   "outputs": [
    {
     "data": {
      "text/plain": [
       "0     True\n",
       "1     True\n",
       "2     True\n",
       "3     True\n",
       "4     True\n",
       "5    False\n",
       "6     True\n",
       "7     True\n",
       "8    False\n",
       "9     True\n",
       "Name: Age, dtype: bool"
      ]
     },
     "execution_count": 19,
     "metadata": {},
     "output_type": "execute_result"
    }
   ],
   "source": [
    "## Begin Example\n",
    "\n",
    "# Set Upper Limit\n",
    "\n",
    "\n",
    "# Create Mask\n",
    "\n",
    "\n",
    "## End Example"
   ]
  },
  {
   "cell_type": "markdown",
   "id": "87611865-a12b-47c4-8587-4fa3e2df83e8",
   "metadata": {
    "editable": false,
    "slideshow": {
     "slide_type": ""
    },
    "tags": []
   },
   "source": [
    "Now let's get those outliers out of there."
   ]
  },
  {
   "cell_type": "code",
   "execution_count": 20,
   "id": "95f22715-a692-45db-8774-3e624144eb1d",
   "metadata": {
    "editable": true,
    "slideshow": {
     "slide_type": ""
    },
    "tags": []
   },
   "outputs": [
    {
     "data": {
      "text/html": [
       "<div>\n",
       "<style scoped>\n",
       "    .dataframe tbody tr th:only-of-type {\n",
       "        vertical-align: middle;\n",
       "    }\n",
       "\n",
       "    .dataframe tbody tr th {\n",
       "        vertical-align: top;\n",
       "    }\n",
       "\n",
       "    .dataframe thead th {\n",
       "        text-align: right;\n",
       "    }\n",
       "</style>\n",
       "<table border=\"1\" class=\"dataframe\">\n",
       "  <thead>\n",
       "    <tr style=\"text-align: right;\">\n",
       "      <th></th>\n",
       "      <th>Customer_ID</th>\n",
       "      <th>Age</th>\n",
       "    </tr>\n",
       "  </thead>\n",
       "  <tbody>\n",
       "    <tr>\n",
       "      <th>0</th>\n",
       "      <td>1</td>\n",
       "      <td>25</td>\n",
       "    </tr>\n",
       "    <tr>\n",
       "      <th>1</th>\n",
       "      <td>2</td>\n",
       "      <td>30</td>\n",
       "    </tr>\n",
       "    <tr>\n",
       "      <th>2</th>\n",
       "      <td>3</td>\n",
       "      <td>28</td>\n",
       "    </tr>\n",
       "    <tr>\n",
       "      <th>3</th>\n",
       "      <td>4</td>\n",
       "      <td>35</td>\n",
       "    </tr>\n",
       "    <tr>\n",
       "      <th>4</th>\n",
       "      <td>5</td>\n",
       "      <td>22</td>\n",
       "    </tr>\n",
       "    <tr>\n",
       "      <th>6</th>\n",
       "      <td>7</td>\n",
       "      <td>32</td>\n",
       "    </tr>\n",
       "    <tr>\n",
       "      <th>7</th>\n",
       "      <td>8</td>\n",
       "      <td>27</td>\n",
       "    </tr>\n",
       "    <tr>\n",
       "      <th>9</th>\n",
       "      <td>10</td>\n",
       "      <td>29</td>\n",
       "    </tr>\n",
       "  </tbody>\n",
       "</table>\n",
       "</div>"
      ],
      "text/plain": [
       "   Customer_ID  Age\n",
       "0            1   25\n",
       "1            2   30\n",
       "2            3   28\n",
       "3            4   35\n",
       "4            5   22\n",
       "6            7   32\n",
       "7            8   27\n",
       "9           10   29"
      ]
     },
     "execution_count": 20,
     "metadata": {},
     "output_type": "execute_result"
    }
   ],
   "source": [
    "## Begin Example\n",
    "# Remove outliers\n",
    "\n",
    "\n",
    "## End Example"
   ]
  },
  {
   "cell_type": "markdown",
   "id": "2ddd9ee8-1908-45bc-bb47-212c86e82e7b",
   "metadata": {
    "editable": false,
    "slideshow": {
     "slide_type": ""
    },
    "tags": []
   },
   "source": [
    "## Correcting Inconsistencies\n",
    "<center><img src=\"../images/stock/pexels-uriel-marques-1847899-3497522.jpg\" width=\"500\"></center>\n",
    "\n",
    "Data inconsistencies can arise from various sources and hinder accurate analysis. Identifying and correcting these issues is a crucial step in data preparation.\n",
    "\n",
    "__Common Correction Techniques:__\n",
    "\n",
    "* _Standardizing Text Data:_ Ensuring uniformity in text by:\n",
    "\n",
    "    * Converting all text to the same case (e.g., lowercase or uppercase).\n",
    "    * Removing leading, trailing, and extra internal spaces.\n",
    "    * Handling variations in spelling or abbreviations.\n",
    "\n",
    "\n",
    "* __Correcting Data Type Errors:__ Ensuring data is stored in the appropriate format for analysis:\n",
    "\n",
    "    * Converting strings that represent numbers into numeric types (integers or floats).\n",
    "    * Parsing strings representing dates into datetime objects.\n",
    "    * Changing other data types as needed (e.g., booleans to integers)."
   ]
  },
  {
   "cell_type": "markdown",
   "id": "2a3853c3-6d30-40a0-8f8d-c7ce21de8975",
   "metadata": {
    "editable": false,
    "slideshow": {
     "slide_type": ""
    },
    "tags": []
   },
   "source": [
    "### Example: Inconsistent Data\n",
    "\n",
    "__Consider the following:__\n",
    "\n",
    "A dataset of product names containing inconsistencies such as different capitalization and extra spaces. "
   ]
  },
  {
   "cell_type": "code",
   "execution_count": null,
   "id": "d2b6110b-e3fa-4c02-8747-0343b87559fb",
   "metadata": {
    "editable": true,
    "slideshow": {
     "slide_type": ""
    },
    "tags": []
   },
   "outputs": [],
   "source": [
    "## Begin Example\n",
    "# Create a sample DataFrame with inconsistent text data\n",
    "product_data = {'Product_ID': [i for i in range(5)],\n",
    "                'Product_Name': ['Product A', ' product b ', 'Product C', 'PRODUCT A ', 'Product D'],\n",
    "                'Review_Date': ['2024-01-15', '2024-02-20', '2024-03-25', '2024-04-30', 'May 05, 2024']}\n",
    "product_df = pd.DataFrame(product_data)\n",
    "\n",
    "product_df\n",
    "## End Example"
   ]
  },
  {
   "cell_type": "markdown",
   "id": "28619ebc-7ef4-4cd4-9293-35f471344510",
   "metadata": {
    "editable": false,
    "slideshow": {
     "slide_type": ""
    },
    "tags": []
   },
   "source": [
    "Using `str.lower()` and `str.strip()` We can standardize the names.\n",
    "\n",
    "* `str.lower()` - This function is used to convert all characters within each string in a Pandas Series to lowercase.\n",
    "\n",
    "* `str.strip()` - This function is used to remove leading and trailing whitespace from each string in a Pandas Series. Whitespace includes spaces, tabs (`\\t`), and newline characters (`\\n`) at the beginning and end of a string."
   ]
  },
  {
   "cell_type": "code",
   "execution_count": null,
   "id": "27279947-30b7-44e5-833d-0bec4ba84f57",
   "metadata": {
    "editable": true,
    "slideshow": {
     "slide_type": ""
    },
    "tags": []
   },
   "outputs": [],
   "source": [
    "## Begin Example\n",
    "\n",
    "# Standardize product names\n",
    "\n",
    "## End Example"
   ]
  },
  {
   "cell_type": "markdown",
   "id": "1e512459-14e0-43de-89d6-a9df36264b15",
   "metadata": {
    "editable": false,
    "slideshow": {
     "slide_type": ""
    },
    "tags": []
   },
   "source": [
    "Also, the review dates column has some dates stored as strings.  \n",
    "\n",
    "We can convert them to `datetime` objects using `pd.to_datetime()`.\n",
    "\n",
    "* `pd.to_datetime()` is a Pandas function that transforms various date and time formats, such as strings, into Pandas datetime objects. This is necessary for performing time-related operations on your data."
   ]
  },
  {
   "cell_type": "code",
   "execution_count": null,
   "id": "49581812-c7e9-46d3-abd7-7b2dc677efb0",
   "metadata": {
    "editable": true,
    "slideshow": {
     "slide_type": ""
    },
    "tags": []
   },
   "outputs": [],
   "source": [
    "## Begin Example\n",
    "\n",
    "# Correct data type errors\n",
    "\n",
    "## End Example"
   ]
  },
  {
   "cell_type": "markdown",
   "id": "17542553-6b9f-48f6-96e3-ceacea6037ba",
   "metadata": {
    "editable": false,
    "slideshow": {
     "slide_type": ""
    },
    "tags": []
   },
   "source": [
    "What's this error?\n",
    "\n",
    "`pd.to_datetime()` tries to infer the format automatically, it might not correctly parse this mixed format without explicit instructions. \n",
    "\n",
    "The `errors='coerce'` argument tells Pandas that if it encounters any string it cannot understand as a date, it should replace it with NaT (Not a Time) instead of raising an error, making the data cleaning process more robust.\n",
    "    \n",
    "__Syntax__\n",
    "```python\n",
    "df[\"Column\"] = pd.to_datetime(df['Column'],errors='coerce')\n",
    "```\n",
    "\n",
    "Let's give it a try."
   ]
  },
  {
   "cell_type": "code",
   "execution_count": null,
   "id": "3b7c876f-d1d4-4a22-a50a-23466e1e8cd5",
   "metadata": {
    "editable": true,
    "slideshow": {
     "slide_type": ""
    },
    "tags": []
   },
   "outputs": [],
   "source": [
    "## Begin Example\n",
    "\n",
    "## End Example"
   ]
  },
  {
   "cell_type": "markdown",
   "id": "5a49b4d9-d4e8-4619-af6c-d33e53017210",
   "metadata": {
    "editable": false,
    "slideshow": {
     "slide_type": ""
    },
    "tags": []
   },
   "source": [
    "## Summary: Preparing Data for Analysis\n",
    "\n",
    "<center><img src=\"../images/stock/pexels-steffi-wacker-1093179-6626084.jpg\" width=\"500\"></center>\n",
    "\n",
    "In this lesson, we've covered essential techniques for preparing your data for meaningful analysis in Python.\n",
    "\n",
    "__We explored:__\n",
    "\n",
    "* __Filtering Data:__ Selecting specific subsets of your data based on conditions using boolean indexing. This allows you to focus on relevant information.\n",
    "* __Handling Outliers:__ Identifying and addressing extreme values that can skew your analysis. We discussed basic approaches like setting arbitrary limits and using the median with a threshold.\n",
    "* __Correcting Inconsistencies:__ Ensuring uniformity and accuracy in your data by standardizing text (case, whitespace) and converting data types (like strings to datetime objects using `pd.to_datetime()`).\n",
    "\n",
    "__Key Takeaway:__\n",
    "\n",
    "Clean and well-prepared data is the foundation of reliable and insightful analysis. By mastering these techniques, you can significantly improve the quality of your findings and build more robust data-driven solutions. Remember that the specific steps and techniques you apply will depend on the unique characteristics and challenges of your dataset."
   ]
  },
  {
   "cell_type": "code",
   "execution_count": null,
   "id": "42f120e4-50a4-4457-9192-03d1420416cc",
   "metadata": {},
   "outputs": [],
   "source": [
    "# Demonstration\n",
    "\n",
    "\n"
   ]
  }
 ],
 "metadata": {
  "kernelspec": {
   "display_name": "Python 3 (ipykernel)",
   "language": "python",
   "name": "python3"
  },
  "language_info": {
   "codemirror_mode": {
    "name": "ipython",
    "version": 3
   },
   "file_extension": ".py",
   "mimetype": "text/x-python",
   "name": "python",
   "nbconvert_exporter": "python",
   "pygments_lexer": "ipython3",
   "version": "3.12.5"
  }
 },
 "nbformat": 4,
 "nbformat_minor": 5
}
