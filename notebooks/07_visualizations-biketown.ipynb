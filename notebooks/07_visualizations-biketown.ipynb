{
 "cells": [
  {
   "cell_type": "markdown",
   "id": "d0048a1a-0562-4974-b05d-f237fe52dc34",
   "metadata": {},
   "source": [
    "# Data Visualization: Biketown\n",
    "\n",
    "<center>\n",
    "<img src=\"https://images.ctfassets.net/p6ae3zqfb1e3/2CeomZNihpBG2HdYlfr5nK/40135dfe151de3d26e0148b1eaea80dd/BIKETOWN_Homepage_Hero_2x.png?w=1000&q=60&fm=webp\">\n",
    "</center>\n"
   ]
  },
  {
   "cell_type": "code",
   "execution_count": null,
   "id": "b71c8ef2-f2d4-4dd5-b81c-6e4d3b49f2f4",
   "metadata": {},
   "outputs": [],
   "source": [
    "# Import Libraries\n",
    "import pandas as pd\n",
    "import matplotlib.pyplot as plt\n",
    "import seaborn as sns"
   ]
  },
  {
   "cell_type": "markdown",
   "id": "14d8f854-1d75-4840-800d-12f9e3cf82d7",
   "metadata": {},
   "source": [
    "## Loading the Data\n",
    "\n",
    "Load: `https://s3.amazonaws.com/biketown-tripdata-public/2018_05.csv`\n",
    "\n",
    "Output information for insight (we'll need to clean the dataset)."
   ]
  },
  {
   "cell_type": "code",
   "execution_count": null,
   "id": "25282386-0f7f-4477-acbf-50ab20a9a470",
   "metadata": {},
   "outputs": [],
   "source": [
    "# Load Data\n",
    "file = \"https://s3.amazonaws.com/biketown-tripdata-public/2018_05.csv\"\n",
    "\n",
    "biketown_df = \n",
    "\n",
    "# Output Info\n"
   ]
  },
  {
   "cell_type": "markdown",
   "id": "93a1ca96-cff3-487d-9f89-b4f44bfac92f",
   "metadata": {},
   "source": [
    "## Copy the DataFrame\n",
    "\n",
    "For cleaning purposes, copy the DataFrame into a new DataFrame using `df.copy()`."
   ]
  },
  {
   "cell_type": "code",
   "execution_count": null,
   "id": "268cc369-54a1-4978-8911-17187b0943ea",
   "metadata": {},
   "outputs": [],
   "source": [
    "# Copy DataFrame for Cleaning\n",
    "biketown_clean_df = "
   ]
  },
  {
   "cell_type": "markdown",
   "id": "11991977-9eb0-47a7-a5f3-136882cd7576",
   "metadata": {},
   "source": [
    "## Drop: `TripType`\n",
    "\n",
    "* `TripType` only contains 47 items.\n",
    "* This is a tiny fraction of the data.\n",
    "* Let's drop the entire column."
   ]
  },
  {
   "cell_type": "code",
   "execution_count": null,
   "id": "93ead862-9a2e-4ef9-9e60-14f908c2483c",
   "metadata": {},
   "outputs": [],
   "source": [
    "# Drop Trip Type Column\n",
    "\n",
    "\n",
    "\n",
    "# Output Info\n"
   ]
  },
  {
   "cell_type": "markdown",
   "id": "b5486fb6-eb8c-4689-a5b7-ec0a6c26ba1a",
   "metadata": {},
   "source": [
    "## Filling Nans: Start and End Hubs\n",
    "\n",
    "* `StartHub` and `EndHub` contain missing values.\n",
    "* Use `df.fillna()` to replace the missing values with `Unknown`.\n",
    "* How might you apply `df.fillna()` to multiple columns?"
   ]
  },
  {
   "cell_type": "code",
   "execution_count": null,
   "id": "4d38f7fc-2ae7-4771-b83a-9881a378469e",
   "metadata": {},
   "outputs": [],
   "source": [
    "# Fill Na\n",
    "\n",
    "\n",
    "\n",
    "\n",
    "\n",
    "\n",
    "\n",
    "\n"
   ]
  },
  {
   "cell_type": "markdown",
   "id": "de281513-07a3-432b-859d-be9a04614ad2",
   "metadata": {},
   "source": [
    "## Filling Nans: Geographic Data\n",
    "\n",
    "* Fill the `Nan` values in `StartLatitude`, `EndLatitude`, `StartLongitude`, and `EndLongitude` with median value of each column."
   ]
  },
  {
   "cell_type": "code",
   "execution_count": null,
   "id": "42fba0a9-6756-47f0-af1a-fe70be40a49f",
   "metadata": {},
   "outputs": [],
   "source": [
    "## Filling Nan: Geographic Data\n",
    "\n",
    "\n",
    "\n",
    "\n",
    "\n",
    "\n",
    "\n",
    "# Output Info\n"
   ]
  },
  {
   "cell_type": "markdown",
   "id": "8df9ef00-f549-4e6d-9785-eedb62ad111d",
   "metadata": {},
   "source": [
    "## Time Conversion\n",
    "\n",
    "* Extract the time delta from `Duration` into a new column: `Duration_Timedelta`\n",
    "* This can be achieved with `pd.to_timedelta()`"
   ]
  },
  {
   "cell_type": "code",
   "execution_count": null,
   "id": "0f5079a1-a12f-4391-9c8f-f19ae978fa4e",
   "metadata": {},
   "outputs": [],
   "source": [
    "# Extract Time Delta\n",
    "\n",
    "\n",
    "# Output Info\n"
   ]
  },
  {
   "cell_type": "markdown",
   "id": "a974ee6d-031a-4e5a-984f-74b9b7925228",
   "metadata": {},
   "source": [
    "## Time Conversion: Seconds\n",
    "\n",
    "* Extract the total seconds from `Duration_Timedelta` into a new column: `Duration_Seconds`.\n",
    "* This can be achieved using `.dt.total_seconds()` on the `timedelta` object."
   ]
  },
  {
   "cell_type": "code",
   "execution_count": null,
   "id": "09f903f4-d226-4e6e-9770-49dd59633c57",
   "metadata": {},
   "outputs": [],
   "source": [
    "## Time Conversion - Seconds\n",
    "\n",
    "\n",
    "# Output Info\n"
   ]
  },
  {
   "cell_type": "markdown",
   "id": "218b53ed-fe3b-4606-a19b-46d5046ac5e3",
   "metadata": {},
   "source": [
    "## Fill NaTs\n",
    "\n",
    "* Determine the median value of the `Duration_Seconds` column.\n",
    "* Fill the `NaN`/`NaT` values of the `Duration_Seconds` columns with the median value"
   ]
  },
  {
   "cell_type": "code",
   "execution_count": null,
   "id": "15a50e43-d08a-41ee-995c-d69c825af681",
   "metadata": {},
   "outputs": [],
   "source": [
    "# Calculate Median\n",
    "\n",
    "\n",
    "# Fill NaN with Median Value\n",
    "\n",
    "\n",
    "# Output Info\n"
   ]
  },
  {
   "cell_type": "markdown",
   "id": "ebdbeb20-2559-429a-8eb9-7eafb6bc9b97",
   "metadata": {},
   "source": [
    "## Drop `Duration_Timedelta` & `Duration`\n",
    "\n",
    "* Drop the `Duration` and `Duration_Timedelta` columns"
   ]
  },
  {
   "cell_type": "code",
   "execution_count": null,
   "id": "38b58475-5abc-485a-b1d6-703c04383d04",
   "metadata": {},
   "outputs": [],
   "source": [
    "# Drop Duration_Timedelta & Duration Columns\n",
    "\n",
    "\n",
    "\n",
    "\n",
    "\n",
    "\n",
    "\n",
    "\n"
   ]
  },
  {
   "cell_type": "markdown",
   "id": "02f81c27-1e61-4689-a114-e2b8100b68c0",
   "metadata": {},
   "source": [
    "## DateTime Conversions\n",
    "\n",
    "* Convert `StartDate` and `EndDate` to datetime objects (format: `%m/%d/%Y`)\n",
    "* Convert `StartTime` and `EndTime` to time objects (use `dt.time` to access `time`)"
   ]
  },
  {
   "cell_type": "code",
   "execution_count": null,
   "id": "7c196de7-86c7-44f9-9d28-8a73b8cb0d6c",
   "metadata": {},
   "outputs": [],
   "source": [
    "# Convert Date Time\n",
    "\n",
    "\n",
    "\n",
    "\n",
    "\n",
    "\n",
    "\n",
    "\n",
    "\n",
    "\n",
    "\n",
    "\n",
    "\n",
    "\n",
    "\n",
    "\n",
    "\n",
    "\n"
   ]
  },
  {
   "cell_type": "markdown",
   "id": "fd79c32d-72aa-4de3-9a4f-492df57430c4",
   "metadata": {},
   "source": [
    "## That one ride...\n",
    "\n",
    "* Use a mask to remove rides longer than 30 miles..."
   ]
  },
  {
   "cell_type": "code",
   "execution_count": null,
   "id": "693d5dc5-7456-4ec3-99b5-00babb47685a",
   "metadata": {},
   "outputs": [],
   "source": [
    "# Remove Outlier Rides\n",
    "\n",
    "\n",
    "\n",
    "\n",
    "\n",
    "\n",
    "\n",
    "# Output Info\n"
   ]
  },
  {
   "cell_type": "markdown",
   "id": "a2df0ac8-ddee-4a83-97ba-08c9c4fd036d",
   "metadata": {},
   "source": [
    "## Preview Data\n",
    "\n",
    "* Take a look at the first few rows of data of your clean dataframe."
   ]
  },
  {
   "cell_type": "code",
   "execution_count": null,
   "id": "067de088-c529-40ae-a79e-8bb75c59c066",
   "metadata": {},
   "outputs": [],
   "source": [
    "# Preview Data\n"
   ]
  },
  {
   "cell_type": "markdown",
   "id": "512e6c18-e27a-41f2-8eaf-9e62536a1e66",
   "metadata": {
    "jp-MarkdownHeadingCollapsed": true
   },
   "source": [
    "# Visualizing Data \n",
    "\n",
    "Now that our data is prepared, we will follow a few simple steps to graphically represent the data with `Seaborn`\n",
    "\n",
    "1. __Draw Figure__\n",
    "\n",
    "The first step is to initialize the canvas where your plot will be drawn.\n",
    "\n",
    "```python\n",
    "plt.figure(figsize=(width_in_inches, height_in_inches))\n",
    "```\n",
    "\n",
    "2. __Generate the Plot__\n",
    "\n",
    "The next step uses a plotting function from a library like Seaborn (`sns`) to render the data onto the figure.\n",
    "\n",
    "```python\n",
    "# Use a Seaborn function such as boxplot, scatterplot, histplot\n",
    "sns.plotting_function(\n",
    "    data=your_dataframe,\n",
    "    x='X_VARIABLE_COLUMN',\n",
    "    y='Y_VARIABLE_COLUMN',\n",
    "    # Add optional styling arguments like hue, palette, etc.\n",
    "    **kwargs\n",
    ")\n",
    "```\n",
    "\n",
    "3. __Set Labels and Titles__\n",
    "\n",
    "The final step uses `Matplotlib` functions to add context, readability, and polish to your plot.\n",
    "\n",
    "```python\n",
    "# Add a title to summarize the plot's content\n",
    "plt.title('A Concise and Informative Plot Title')\n",
    "\n",
    "# Label the horizontal axis\n",
    "plt.xlabel('Descriptive Label for the X-Axis')\n",
    "\n",
    "# Label the vertical axis\n",
    "plt.ylabel('Descriptive Label for the Y-Axis')\n",
    "\n",
    "# Optional: Add a legend if multiple data series are plotted\n",
    "plt.legend() \n",
    "\n",
    "# Optional: Turn on the background grid lines for readability\n",
    "plt.grid(True) \n",
    "\n",
    "# Final action: Display or save the plot\n",
    "# plt.show()\n",
    "# OR\n",
    "# plt.savefig('my_final_plot.png', dpi=300)\n",
    "```"
   ]
  },
  {
   "cell_type": "markdown",
   "id": "cde437e9-a4d5-43f2-95be-08e91e5f5093",
   "metadata": {},
   "source": [
    "## Histogram\n",
    "\n",
    "A Histogram is a type of graph used to show the distribution and frequency of a single continuous numerical variable.\n",
    "\n",
    "* The data is divided into equal-sized ranges called bins.\n",
    "\n",
    "* The height of each vertical bar (the bin) shows the frequency (or count) of how many data points fall within that range.\n",
    "\n",
    "* Bars are typically placed right next to each other to emphasize that the data is continuous.\n",
    "\n",
    "__When to Use Histograms__\n",
    "\n",
    "Histograms are used to answer questions about how often different values occur in a dataset:\n",
    "\n",
    "* __To see the shape of the data:__ Is it symmetrical (like a bell curve), skewed (piled up on one side), or uniform?\n",
    "\n",
    "* __To find the central tendency:__ Where does most of the data cluster?\n",
    "\n",
    "* __To check variability:__ Is the data spread out (wide bars) or tightly packed (narrow bars)?\n"
   ]
  },
  {
   "cell_type": "markdown",
   "id": "9d9e05c6-3ff9-4042-9461-d64bd6e099d8",
   "metadata": {},
   "source": [
    "## Histogram: Trip Distance\n",
    "\n",
    "What are the shape, central tendency, and variability of the Trip Distance Data?\n",
    "\n",
    "* Plot a histogram to visualize the Distribution of `Trip_Distance`\n",
    "\n",
    "Syntax\n",
    "\n",
    "```python\n",
    "sns.histplot(data = data,\n",
    "             x = x,\n",
    "             bins = bins,\n",
    "             color = color,\n",
    "             edgecolor = edgecolor)\n",
    "```"
   ]
  },
  {
   "cell_type": "code",
   "execution_count": null,
   "id": "83e7fb0f-c7d5-4182-ba33-6e852f7f9967",
   "metadata": {},
   "outputs": [],
   "source": [
    "# Setup Figure\n",
    "\n",
    "\n",
    "# Generate Histogram\n",
    "\n",
    "\n",
    "\n",
    "\n",
    "\n",
    "# Set Titles and Labels\n",
    "\n",
    "\n",
    "\n",
    "\n",
    "\n",
    "# Show Figure\n"
   ]
  },
  {
   "cell_type": "markdown",
   "id": "fa80e889-e569-4b3a-8e34-09c80e2003dc",
   "metadata": {},
   "source": [
    "### Insights\n",
    "\n",
    "* What stories is the histogram telling you?"
   ]
  },
  {
   "cell_type": "markdown",
   "id": "0ee4ab24-f52e-4415-9d26-4cc00ada8727",
   "metadata": {},
   "source": [
    "## Scatter Plot\n",
    "\n",
    "A Scatter Plot is used to visualize the relationship between two numerical values.\n",
    "\n",
    "* The data is represented as points on a standard Cartesian coordinate system.\n",
    "* Each point on the graph presents a single observation.\n",
    "* The point's horizontal position is the value for the first numerical value.\n",
    "* The point's vertical position is the value for the second numerical value.\n",
    "\n",
    "__When to use Scatter Plots:__\n",
    "\n",
    "The primary goal of a scatter plot is to look for correlation (or association) between the two variables:\n",
    "\n",
    "* __Positive Correlation:__ The points generally form a line sloping upward (as X increases, Y increases).\n",
    "\n",
    "* __Negative Correlation:__ The points generally form a line sloping downward (as X increases, Y decreases).\n",
    "\n",
    "* __No Correlation:__ The points appear randomly scattered with no obvious pattern.\n",
    "\n",
    "* __Identifying Clusters/Outliers:__ They help easily spot groups of similar data points (clusters) or individual data points that fall far away from the main group (outliers)."
   ]
  },
  {
   "cell_type": "markdown",
   "id": "3f61daeb-06d9-4f67-9eaf-e86835644c1c",
   "metadata": {},
   "source": [
    "## Scatter Plot: Distance and Duration\n",
    "\n",
    "Is there a pattern between the distance and duration of a ride?\n",
    "\n",
    "* Let's create a Scatter Plot to Visualize the relationship between `Distance_Miles` and `Duration_Seconds`\n",
    "\n",
    "Syntax:\n",
    "\n",
    "```python\n",
    "sns.scatterplot(data = data,\n",
    "                x = x,\n",
    "                y= y)\n",
    "```"
   ]
  },
  {
   "cell_type": "code",
   "execution_count": null,
   "id": "1efe5f26-b357-4e18-adf2-932b4e13c82a",
   "metadata": {},
   "outputs": [],
   "source": [
    "# Scatter Plot\n",
    "\n",
    "# Set Up Figure\n",
    "\n",
    "\n",
    "# Generate Scatter Plot\n",
    "\n",
    "\n",
    "\n",
    "\n",
    "\n",
    "# Set Titles and Labels\n",
    "\n",
    "\n",
    "\n",
    "\n",
    "\n",
    "\n",
    "\n"
   ]
  },
  {
   "cell_type": "markdown",
   "id": "1750f3f6-13ba-4c72-8fa3-9f415db39419",
   "metadata": {},
   "source": [
    "### Scatter Plot: Insights\n",
    "\n",
    "* What stories is the Scatter Plot telling you?"
   ]
  },
  {
   "cell_type": "markdown",
   "id": "f0d8128d-30e5-4ba3-aeeb-635400ed1946",
   "metadata": {},
   "source": [
    "### Filtering the Scatter Plot for Outliers\n",
    "\n",
    "* Set a y-limit on the plot to limit the data to rides no longer than 3 hours.\n",
    "* Does the story change?\n",
    "\n",
    "Syntax\n",
    "\n",
    "```python\n",
    "plt.ylim(min, max)\n",
    "```"
   ]
  },
  {
   "cell_type": "code",
   "execution_count": null,
   "id": "187fc39b-3b12-4bc4-8b84-1856037f9ea4",
   "metadata": {},
   "outputs": [],
   "source": [
    "# Scatter Plot\n",
    "\n",
    "# Set Up Figure\n",
    "\n",
    "\n",
    "# Generate Scatter Plot\n",
    "\n",
    "\n",
    "\n",
    "\n",
    "\n",
    "# Set Limits\n",
    "\n",
    "\n",
    "\n",
    "# Set Titles and Labels\n",
    "\n",
    "\n",
    "\n",
    "\n",
    "\n",
    "\n",
    "\n",
    "\n"
   ]
  },
  {
   "cell_type": "markdown",
   "id": "8a2ebd7c-1f96-4914-9c5a-1a33c03237a6",
   "metadata": {},
   "source": [
    "## Scatter Plot: Start Hub\n",
    "\n",
    "* Create a scatter plot using the `StartLongitude` and `StartLatitude` data.\n",
    "* Consider setting limits on the x and y axis"
   ]
  },
  {
   "cell_type": "code",
   "execution_count": null,
   "id": "1a7dbbf5-9b3c-4ec1-a975-ada9ab0058a0",
   "metadata": {},
   "outputs": [],
   "source": [
    "# Scatter Plot\n",
    "\n",
    "# Set Figure\n",
    "\n",
    "\n",
    "# Generate Scatter plot\n",
    "\n",
    "\n",
    "\n",
    "\n",
    "\n",
    "\n",
    "\n",
    "# Set Limits\n",
    "\n",
    "\n",
    "\n",
    "         \n",
    "# Set Labels and Titles\n",
    "\n",
    "\n",
    "\n",
    "\n"
   ]
  },
  {
   "cell_type": "markdown",
   "id": "e82a4d7b-0687-4c53-8716-9d5ed61a7afd",
   "metadata": {},
   "source": [
    "## Box Plots\n",
    "\n",
    "A Box Plot Graphically represents the spread and center of numerical data.\n",
    "\n",
    "<center><img src=\"../images/web/boxplot.png\"></center>\n",
    "\n",
    "image: [ArcGIS Pro](https://pro.arcgis.com/en/pro-app/latest/help/analysis/geoprocessing/charts/box-plot.htm)\n",
    "\n",
    "__Breakdown:__\n",
    "\n",
    "* __The Box:__ Represents the Interquartile Range (Q1 - Q3). Which is the middle 50% of the data.\n",
    "* __The Line in the Box:__ Represents the Median (Q2) or 50th percentile, which is the center of the data.\n",
    "* __The Whiskers:__ These lines extend from the box to show the minimum and maximim values without outliers\n",
    "* __The Points:__ The data points lying outside the whiskers are considered ouliers.\n",
    "\n",
    "__When to Use Box Plots:__\n",
    "\n",
    "* Comparing the distribution of one or more groups.\n",
    "* Identifying median values\n",
    "* Finding Outliers\n",
    "* Assessing the symmetry of the data (if the median is not in the center, the data is skewed)."
   ]
  },
  {
   "cell_type": "markdown",
   "id": "75f4e5f8-430d-4eff-89d8-44259775fa7f",
   "metadata": {},
   "source": [
    "## Box Plot: Duration and Payment Plan\n",
    "\n",
    "Is there a difference in the ride duration between subscribers and casual riders?\n",
    "\n",
    "* Create a Box Plot to Visualize Key Information on the `Duration_Seconds` and `Payment_Plan` columns.\n",
    "\n",
    "\n",
    "Syntax:\n",
    "\n",
    "```python\n",
    "sns.boxplot(data=data],\n",
    "            x=x,\n",
    "            y=y,\n",
    "            hue=hue,\n",
    "            palette=palette)\n",
    "```"
   ]
  },
  {
   "cell_type": "code",
   "execution_count": null,
   "id": "db501c6b-6094-4607-856d-7daecbf347bc",
   "metadata": {},
   "outputs": [],
   "source": [
    "# Box Plot\n",
    "\n",
    "# Set Figure\n",
    "\n",
    "\n",
    "# Generate Box Plot\n",
    "\n",
    "\n",
    "\n",
    "\n",
    "\n",
    "\n",
    "\n",
    "# Set Limits and What Not\n",
    "\n",
    "\n",
    "# Set Labels and What Not\n",
    "\n",
    "\n",
    "\n",
    "\n",
    "\n",
    "\n",
    "\n"
   ]
  },
  {
   "cell_type": "markdown",
   "id": "bdfdf26f-4c49-4cff-90cc-1b0544b7c29b",
   "metadata": {},
   "source": [
    "### Box Plot - Insights\n",
    "\n",
    "* What stories did the boxplot reveal to you?"
   ]
  },
  {
   "cell_type": "markdown",
   "id": "d3ee38a0-933d-43c0-bc51-a2d61487e084",
   "metadata": {},
   "source": [
    "## Box Plot: Distance and Payment Plan\n",
    "\n",
    "* Create a box plot to visualize `PaymentPlan` and `Distance_Miles`.\n",
    "* What stories might the visualization reveal?"
   ]
  },
  {
   "cell_type": "code",
   "execution_count": null,
   "id": "404b7bfa-9455-4214-b434-bc81a1b9306d",
   "metadata": {},
   "outputs": [],
   "source": [
    "# Set Figure\n",
    "\n",
    "\n",
    "# Generate Box Plot\n",
    "\n",
    "\n",
    "\n",
    "\n",
    "\n",
    "\n",
    "\n",
    "# Set Limits\n",
    "\n",
    "\n",
    "# Set Labels and Titles\n",
    "\n",
    "\n",
    "\n",
    "\n",
    "\n",
    "\n",
    "\n",
    "\n"
   ]
  }
 ],
 "metadata": {
  "kernelspec": {
   "display_name": "Python 3 (ipykernel)",
   "language": "python",
   "name": "python3"
  },
  "language_info": {
   "codemirror_mode": {
    "name": "ipython",
    "version": 3
   },
   "file_extension": ".py",
   "mimetype": "text/x-python",
   "name": "python",
   "nbconvert_exporter": "python",
   "pygments_lexer": "ipython3",
   "version": "3.12.5"
  }
 },
 "nbformat": 4,
 "nbformat_minor": 5
}
