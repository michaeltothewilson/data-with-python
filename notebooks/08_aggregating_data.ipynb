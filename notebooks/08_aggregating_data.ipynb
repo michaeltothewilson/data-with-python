{
 "cells": [
  {
   "cell_type": "markdown",
   "id": "14fc21c4-7236-4397-ab4c-74038d1331a9",
   "metadata": {
    "editable": true,
    "slideshow": {
     "slide_type": ""
    },
    "tags": []
   },
   "source": [
    "# Data Aggregation with Groupby\n",
    "\n",
    "<center><img src=\"../images/stock/pexels-pixabay-210182.jpg\"></center>\n",
    "\n",
    "This lesson will guide you through the process of data aggregation using the `groupby()` method in Python's Pandas library. We'll use the \"mpg\" dataset from the Seaborn library for our examples."
   ]
  },
  {
   "cell_type": "markdown",
   "id": "6f84b109-d762-4305-af54-a3f6d5f668b4",
   "metadata": {
    "editable": true,
    "slideshow": {
     "slide_type": ""
    },
    "tags": []
   },
   "source": [
    "## Getting Started - Import Libraries\n",
    "\n",
    "First, we need to import the necessary libraries (Pandas and Seaborn).\n",
    "\n",
    "```python\n",
    "import pandas as pd\n",
    "import seaborn as sns\n",
    "import matplotlib.pyplot as plt\n",
    "````"
   ]
  },
  {
   "cell_type": "code",
   "execution_count": 1,
   "id": "afb75b47-4301-4225-8d3e-1dece8256199",
   "metadata": {
    "editable": true,
    "slideshow": {
     "slide_type": ""
    },
    "tags": []
   },
   "outputs": [
    {
     "name": "stdout",
     "output_type": "stream",
     "text": [
      "Requirement already satisfied: seaborn in /Users/mmw23/Library/jupyterlab-desktop/jlab_server/lib/python3.12/site-packages (0.13.2)\n",
      "Requirement already satisfied: numpy!=1.24.0,>=1.20 in /Users/mmw23/Library/jupyterlab-desktop/jlab_server/lib/python3.12/site-packages (from seaborn) (2.1.0)\n",
      "Requirement already satisfied: pandas>=1.2 in /Users/mmw23/Library/jupyterlab-desktop/jlab_server/lib/python3.12/site-packages (from seaborn) (2.2.2)\n",
      "Requirement already satisfied: matplotlib!=3.6.1,>=3.4 in /Users/mmw23/Library/jupyterlab-desktop/jlab_server/lib/python3.12/site-packages (from seaborn) (3.9.2)\n",
      "Requirement already satisfied: contourpy>=1.0.1 in /Users/mmw23/Library/jupyterlab-desktop/jlab_server/lib/python3.12/site-packages (from matplotlib!=3.6.1,>=3.4->seaborn) (1.2.1)\n",
      "Requirement already satisfied: cycler>=0.10 in /Users/mmw23/Library/jupyterlab-desktop/jlab_server/lib/python3.12/site-packages (from matplotlib!=3.6.1,>=3.4->seaborn) (0.12.1)\n",
      "Requirement already satisfied: fonttools>=4.22.0 in /Users/mmw23/Library/jupyterlab-desktop/jlab_server/lib/python3.12/site-packages (from matplotlib!=3.6.1,>=3.4->seaborn) (4.53.1)\n",
      "Requirement already satisfied: kiwisolver>=1.3.1 in /Users/mmw23/Library/jupyterlab-desktop/jlab_server/lib/python3.12/site-packages (from matplotlib!=3.6.1,>=3.4->seaborn) (1.4.5)\n",
      "Requirement already satisfied: packaging>=20.0 in /Users/mmw23/Library/jupyterlab-desktop/jlab_server/lib/python3.12/site-packages (from matplotlib!=3.6.1,>=3.4->seaborn) (24.1)\n",
      "Requirement already satisfied: pillow>=8 in /Users/mmw23/Library/jupyterlab-desktop/jlab_server/lib/python3.12/site-packages (from matplotlib!=3.6.1,>=3.4->seaborn) (10.4.0)\n",
      "Requirement already satisfied: pyparsing>=2.3.1 in /Users/mmw23/Library/jupyterlab-desktop/jlab_server/lib/python3.12/site-packages (from matplotlib!=3.6.1,>=3.4->seaborn) (3.1.4)\n",
      "Requirement already satisfied: python-dateutil>=2.7 in /Users/mmw23/Library/jupyterlab-desktop/jlab_server/lib/python3.12/site-packages (from matplotlib!=3.6.1,>=3.4->seaborn) (2.9.0)\n",
      "Requirement already satisfied: pytz>=2020.1 in /Users/mmw23/Library/jupyterlab-desktop/jlab_server/lib/python3.12/site-packages (from pandas>=1.2->seaborn) (2024.1)\n",
      "Requirement already satisfied: tzdata>=2022.7 in /Users/mmw23/Library/jupyterlab-desktop/jlab_server/lib/python3.12/site-packages (from pandas>=1.2->seaborn) (2024.1)\n",
      "Requirement already satisfied: six>=1.5 in /Users/mmw23/Library/jupyterlab-desktop/jlab_server/lib/python3.12/site-packages (from python-dateutil>=2.7->matplotlib!=3.6.1,>=3.4->seaborn) (1.16.0)\n"
     ]
    },
    {
     "ename": "ImportError",
     "evalue": "Unable to import required dependencies:\nnumpy: Error importing numpy: you should not try to import numpy from\n        its source directory; please exit the numpy source tree, and relaunch\n        your python interpreter from there.",
     "output_type": "error",
     "traceback": [
      "\u001b[0;31m---------------------------------------------------------------------------\u001b[0m",
      "\u001b[0;31mImportError\u001b[0m                               Traceback (most recent call last)",
      "Cell \u001b[0;32mIn[1], line 3\u001b[0m\n\u001b[1;32m      1\u001b[0m \u001b[38;5;66;03m## Import Libraries\u001b[39;00m\n\u001b[1;32m      2\u001b[0m get_ipython()\u001b[38;5;241m.\u001b[39msystem(\u001b[38;5;124m'\u001b[39m\u001b[38;5;124mpip install seaborn\u001b[39m\u001b[38;5;124m'\u001b[39m)\n\u001b[0;32m----> 3\u001b[0m \u001b[38;5;28;01mimport\u001b[39;00m \u001b[38;5;21;01mpandas\u001b[39;00m \u001b[38;5;28;01mas\u001b[39;00m \u001b[38;5;21;01mpd\u001b[39;00m\n\u001b[1;32m      4\u001b[0m \u001b[38;5;28;01mimport\u001b[39;00m \u001b[38;5;21;01mnumpy\u001b[39;00m \u001b[38;5;28;01mas\u001b[39;00m \u001b[38;5;21;01mnp\u001b[39;00m\n\u001b[1;32m      6\u001b[0m \u001b[38;5;28;01mimport\u001b[39;00m \u001b[38;5;21;01mmatplotlib\u001b[39;00m\u001b[38;5;21;01m.\u001b[39;00m\u001b[38;5;21;01mpyplot\u001b[39;00m \u001b[38;5;28;01mas\u001b[39;00m \u001b[38;5;21;01mplt\u001b[39;00m\n",
      "File \u001b[0;32m~/Library/jupyterlab-desktop/jlab_server/lib/python3.12/site-packages/pandas/__init__.py:19\u001b[0m\n\u001b[1;32m     16\u001b[0m         _missing_dependencies\u001b[38;5;241m.\u001b[39mappend(\u001b[38;5;124mf\u001b[39m\u001b[38;5;124m\"\u001b[39m\u001b[38;5;132;01m{\u001b[39;00m_dependency\u001b[38;5;132;01m}\u001b[39;00m\u001b[38;5;124m: \u001b[39m\u001b[38;5;132;01m{\u001b[39;00m_e\u001b[38;5;132;01m}\u001b[39;00m\u001b[38;5;124m\"\u001b[39m)\n\u001b[1;32m     18\u001b[0m \u001b[38;5;28;01mif\u001b[39;00m _missing_dependencies:  \u001b[38;5;66;03m# pragma: no cover\u001b[39;00m\n\u001b[0;32m---> 19\u001b[0m     \u001b[38;5;28;01mraise\u001b[39;00m \u001b[38;5;167;01mImportError\u001b[39;00m(\n\u001b[1;32m     20\u001b[0m         \u001b[38;5;124m\"\u001b[39m\u001b[38;5;124mUnable to import required dependencies:\u001b[39m\u001b[38;5;130;01m\\n\u001b[39;00m\u001b[38;5;124m\"\u001b[39m \u001b[38;5;241m+\u001b[39m \u001b[38;5;124m\"\u001b[39m\u001b[38;5;130;01m\\n\u001b[39;00m\u001b[38;5;124m\"\u001b[39m\u001b[38;5;241m.\u001b[39mjoin(_missing_dependencies)\n\u001b[1;32m     21\u001b[0m     )\n\u001b[1;32m     22\u001b[0m \u001b[38;5;28;01mdel\u001b[39;00m _hard_dependencies, _dependency, _missing_dependencies\n\u001b[1;32m     24\u001b[0m \u001b[38;5;28;01mtry\u001b[39;00m:\n\u001b[1;32m     25\u001b[0m     \u001b[38;5;66;03m# numpy compat\u001b[39;00m\n",
      "\u001b[0;31mImportError\u001b[0m: Unable to import required dependencies:\nnumpy: Error importing numpy: you should not try to import numpy from\n        its source directory; please exit the numpy source tree, and relaunch\n        your python interpreter from there."
     ]
    }
   ],
   "source": [
    "## Import Libraries\n",
    "!pip install seaborn\n",
    "import pandas as pd\n",
    "import numpy as np\n",
    "\n",
    "import matplotlib.pyplot as plt\n",
    "import seaborn as sns"
   ]
  },
  {
   "cell_type": "markdown",
   "id": "d8190061-8f38-4f2c-9c1a-3888d4c3f753",
   "metadata": {
    "editable": true,
    "slideshow": {
     "slide_type": ""
    },
    "tags": []
   },
   "source": [
    "## Getting Started - Load Dataset\n",
    "\n",
    "Now we load the dataset. The Seaborn library has several built-in datasets that we can easily refer to. \n",
    "\n",
    "For this lesson, we will focus on the `mpg` dataset.\n",
    "\n",
    "\n",
    "The `mpg` dataset provides technical specifications of cars in the context of fuel consumption in miles per gallon.\n",
    "\n",
    "__Columns Description:__\n",
    "* `mpg`: Fuel efficiency in miles per gallon.\n",
    "* `cylinders`: Number of engine cylinders \n",
    "* `displacement`: Engine displacement in cubic inches\n",
    "* `horsepower`: Engine horsepower \n",
    "* `weight`: Vehicle weight in pounds\n",
    "* `acceleration`: Time to accelerate from 0 to 60 mph in seconds \n",
    "* `model_year`: Year the car model was released\n",
    "* `origin`: Country of origin (USA, Europe, Asia)\n",
    "* `name`: Car model name \n",
    "\n",
    "To load the dataset, use the following command:\n",
    "\n",
    "```python\n",
    "df = sns.load_dataset(\"mpg\")\n",
    "```"
   ]
  },
  {
   "cell_type": "code",
   "execution_count": null,
   "id": "0851e080-606e-4365-a5af-d79c58386992",
   "metadata": {
    "editable": true,
    "slideshow": {
     "slide_type": ""
    },
    "tags": []
   },
   "outputs": [],
   "source": [
    "## Load and Preview Dataset\n",
    "mpg_df = sns.load_dataset(\"mpg\")\n",
    "mpg_df.head(10)\n"
   ]
  },
  {
   "cell_type": "markdown",
   "id": "726925cf-bea4-413a-a4ef-958ef2621b3e",
   "metadata": {},
   "source": [
    "## Getting - Started Inspect the Dataset\n",
    "Now let's take a quick look at the data."
   ]
  },
  {
   "cell_type": "code",
   "execution_count": null,
   "id": "493e5a1a-5363-4c75-a89c-2f5c7a3fb890",
   "metadata": {},
   "outputs": [],
   "source": [
    "## View Key Information on the Dataset\n",
    "mpg_df.info()\n",
    "## End Example"
   ]
  },
  {
   "cell_type": "markdown",
   "id": "a84bfe19-6dce-4bf3-88ab-1dcf82c59347",
   "metadata": {},
   "source": [
    "## Getting Started - Some Light Cleaning\n",
    "\n",
    "Based on the `.info()`, there are null values. Let's take a deeper look using `.isnull()`\n"
   ]
  },
  {
   "cell_type": "code",
   "execution_count": null,
   "id": "e051c950-3fe7-455b-aa83-e419376bc4cc",
   "metadata": {},
   "outputs": [],
   "source": [
    "## View Rows Containing Null Values\n",
    "null_mask = mpg_df.isnull().any(axis=1)\n",
    "null_rows = mpg_df[null_mask]\n",
    "\n",
    "null_rows"
   ]
  },
  {
   "cell_type": "markdown",
   "id": "0e230314-2be4-411c-94bd-1ecead5a78fc",
   "metadata": {},
   "source": [
    "There are only a few rows containing null values. For this lesson we will simply drop those rows."
   ]
  },
  {
   "cell_type": "code",
   "execution_count": null,
   "id": "28e5cafe-523f-4084-938b-f98d5628c5bb",
   "metadata": {},
   "outputs": [],
   "source": [
    "## Drop Rows Containing Null Values\n",
    "mpg_df_dropna = mpg_df.dropna(axis=0)\n",
    "mpg_df_dropna.info()"
   ]
  },
  {
   "cell_type": "markdown",
   "id": "0a3ca896-bf83-4a6d-af05-6ecced6b3b07",
   "metadata": {},
   "source": [
    "## Getting Started - Minor Transformations\n",
    "\n",
    "Next, we'll modify the `name` column.\n",
    "\n",
    "Each entry for `name` contains the make and model of the car.\n",
    "Let's extract the make and place it into a new column named `make`."
   ]
  },
  {
   "cell_type": "code",
   "execution_count": null,
   "id": "6d3d9f2c-21ea-4ef1-9fe5-1763b4d6162b",
   "metadata": {},
   "outputs": [],
   "source": [
    "# Create a new column 'make' by extracting the first word from 'car_name'\n",
    "mpg_df_dropna.loc[:, \"make\"] = mpg_df_dropna[\"name\"].str.split(\" \", n=1, expand=True)[0]\n",
    "mpg_df_dropna.head(5)"
   ]
  },
  {
   "cell_type": "markdown",
   "id": "85d4984a-499c-47f5-bbca-c50ca105cee9",
   "metadata": {},
   "source": [
    "Now let's remove the make from the `name` column."
   ]
  },
  {
   "cell_type": "code",
   "execution_count": null,
   "id": "621e72bb-cadb-4995-8cee-1523faccb2e0",
   "metadata": {},
   "outputs": [],
   "source": [
    "# Remove the make from the \"name\" column\n",
    "mpg_df_dropna.loc[:, \"name\"] = mpg_df_dropna[\"name\"].str.split(\" \", n=1, expand=True)[1]\n",
    "mpg_df_dropna.head(5)"
   ]
  },
  {
   "cell_type": "markdown",
   "id": "23ffc3d3-6275-4323-89a5-875cde3d84bf",
   "metadata": {},
   "source": [
    "And finally, rename `name` to `model`"
   ]
  },
  {
   "cell_type": "code",
   "execution_count": null,
   "id": "d48331b3-1fc4-4dcd-8a12-ab2423753cf0",
   "metadata": {},
   "outputs": [],
   "source": [
    "# Rename the \"Name\" column to \"model\"\n",
    "mpg_df_cleaned = mpg_df_dropna.rename(columns={\"car name\": \"model\"})\n",
    "\n",
    "mpg_df_cleaned.info()"
   ]
  },
  {
   "cell_type": "markdown",
   "id": "0fb0959c-510f-459d-9122-2a22c303dc0e",
   "metadata": {},
   "source": [
    "If we take a look at the unique makes, we'll see that our work is not done."
   ]
  },
  {
   "cell_type": "code",
   "execution_count": null,
   "id": "9d39ff70-2a72-461c-b264-84838d5005c4",
   "metadata": {},
   "outputs": [],
   "source": [
    "mpg_df_cleaned[\"make\"].unique()"
   ]
  },
  {
   "cell_type": "markdown",
   "id": "ba5b38fa-7cb1-4092-8574-8edbc8637667",
   "metadata": {},
   "source": [
    "There are a few typos and abbreviations in the unique `make` values.\n",
    "\n",
    "Let's replace the typos and abbreviations with the full make name using the `.replace()` method.\n",
    "\n",
    "Syntax:\n",
    "```python\n",
    "df[column_name].replace(string_to_replace, replacement_string]\n",
    "```\n",
    "\n",
    "Syntax Using a Dictionary:\n",
    "```python\n",
    "replacement_dictionary = {\"vokswagen\": \"volkswagen\",\n",
    "                          \"vw\": \"volkswagen\",\n",
    "                          \"toyouta\": \"toyota\",\n",
    "                          \"maxda\": \"mazda\",\n",
    "                          \"hi\": \"ih\"}\n",
    "df[column_name] = df[column_name].replace(replacement_dictionary)\n",
    "```"
   ]
  },
  {
   "cell_type": "markdown",
   "id": "63959155-bad2-4078-85d6-6085d042c0ae",
   "metadata": {},
   "source": [
    "## Visualizations\n",
    "\n",
    "Let's take a look at some initial visuals"
   ]
  },
  {
   "cell_type": "code",
   "execution_count": null,
   "id": "4c7fbfef-6c2e-4dc9-8e5c-71173e9b69d6",
   "metadata": {},
   "outputs": [],
   "source": [
    "### Bar Plot - Country of Origin\n",
    "\n",
    "plt.figure(figsize=(10,5))\n",
    "ax = sns.countplot(x = 'origin', data = data_cleaned, color = '#4287f5')\n",
    "ax.bar_label(ax.containers[0], label_type='edge')\n",
    "plt.title(\"Country of Origin Distribution\", fontsize = 20)\n",
    "plt.xlabel(\"Country\", fontsize = 15)\n",
    "plt.ylabel(\"Count\", fontsize = 15)\n",
    "plt.show()"
   ]
  },
  {
   "cell_type": "markdown",
   "id": "05d7e9fe-5800-4d9e-8227-bc901d54a948",
   "metadata": {},
   "source": [
    "The majority of cars in this dataset from USA"
   ]
  },
  {
   "cell_type": "markdown",
   "id": "f750d311-d0fc-41b8-8d4b-4b92367824bb",
   "metadata": {},
   "source": [
    "### Line Plot - Model Year and Miles Per Gallon"
   ]
  },
  {
   "cell_type": "code",
   "execution_count": null,
   "id": "e5ee11a2-e010-4e11-b3f6-54976ca5836a",
   "metadata": {},
   "outputs": [],
   "source": [
    "## Begin Visual\n",
    "plt.figure(figsize=(10,5), dpi=100)\n",
    "plt.title(\"model year against mpg\\n\", fontsize = 18)\n",
    "plt.xlabel(\"model year\\n\", fontsize = 12)\n",
    "plt.ylabel(\"mpg\\n\", fontsize = 12)\n",
    "sns.lineplot(x = 'model_year', \n",
    "             y = 'mpg', \n",
    "             data = data_cleaned)\n",
    "## End Visual"
   ]
  },
  {
   "cell_type": "markdown",
   "id": "32809a4a-611d-43ae-b37e-24e21fe583b7",
   "metadata": {},
   "source": [
    "Based on the Line Plot, fuel efficiency began to increase in the mid 70's."
   ]
  },
  {
   "cell_type": "markdown",
   "id": "b6ff1a2d-aeb0-405b-b7a5-a1cc81a6515d",
   "metadata": {
    "editable": true,
    "jp-MarkdownHeadingCollapsed": true,
    "slideshow": {
     "slide_type": ""
    },
    "tags": []
   },
   "source": [
    "## Split-Apply-Combine: The Concept Behind Groupby\n",
    "\n",
    "<center><img src=\"../images/stock/pexels-arnie-chou-304906-1877271.jpg\"></center>\n",
    "\n",
    "The `groupby()` method is based on the split-apply-combine strategy:\n",
    "\n",
    "* __Split:__ The data is divided into groups based on one or more columns.\n",
    "\n",
    "* __Apply:__ You apply a function (e.g., mean, sum, count) to each group independently.\n",
    "\n",
    "* __Combine:__ The results from each group are combined into a new data structure."
   ]
  },
  {
   "cell_type": "markdown",
   "id": "145ebd76-6f56-458f-bd01-42b7f8677b23",
   "metadata": {
    "editable": true,
    "slideshow": {
     "slide_type": ""
    },
    "tags": []
   },
   "source": [
    "## Understanding Groupby\n",
    "\n",
    "Let's break down the `groupby()` method step by step.\n",
    "\n",
    "* What is a Groupby Object?\n",
    "\n",
    "    * When you apply the `groupby()` method to a DataFrame, it doesn't immediately perform calculations. \n",
    "    * Instead, it creates a DataFrameGroupBy object. \n",
    "    * This object contains information about how the data has been split into groups, but the calculations are deferred until you specify an aggregation function.\n",
    "\n",
    "__Syntax__\n",
    "\n",
    "The basic syntax for `groupby()` is:\n",
    "\n",
    "```python\n",
    "df.groupby(column_name)\n",
    "```\n",
    "\n",
    "* `df`: The Pandas DataFrame you want to group.\n",
    "\n",
    "* `column_name`: The column name (or a list of column names) that you want to group the data by."
   ]
  },
  {
   "cell_type": "markdown",
   "id": "553153a6-f28f-4b89-89cd-c65d0c3a8567",
   "metadata": {
    "editable": true,
    "slideshow": {
     "slide_type": ""
    },
    "tags": []
   },
   "source": [
    "## Example: Grouping by Origin\n",
    "\n",
    "Let's group the `mpg_df` by the `origin` column:"
   ]
  },
  {
   "cell_type": "code",
   "execution_count": null,
   "id": "fbe67ea8-1a5a-4ff5-8547-c7d99f648d69",
   "metadata": {
    "editable": true,
    "slideshow": {
     "slide_type": ""
    },
    "tags": []
   },
   "outputs": [],
   "source": [
    "## Begin Example\n",
    "origin_grouped = mpg_df.groupby(\"origin\")\n",
    "\n",
    "origin_grouped"
   ]
  },
  {
   "cell_type": "markdown",
   "id": "591c7def-9dde-4237-a977-2f93e7329575",
   "metadata": {},
   "source": [
    "The output will show you a `DataFrameGroupBy` object, indicating that the data has been grouped, but no calculations have been performed yet."
   ]
  },
  {
   "cell_type": "markdown",
   "id": "8ab4aecd-bd9a-4568-8a36-311b70032d1e",
   "metadata": {},
   "source": [
    "## Applying Aggregation Functions\n",
    "\n",
    "<center><img src=\"../images/stock/pexels-padrinan-3785930.jpg\"></center>\n",
    "\n",
    "Now, let's apply some aggregation functions to the grouped data.\n"
   ]
  },
  {
   "cell_type": "markdown",
   "id": "dd8b9d36-bb22-4d74-9f2a-fbd9378984d8",
   "metadata": {},
   "source": [
    "### Mean\n",
    "\n",
    "Based on this dataset, which country of origin produced the most/least fuel efficient vehicles?\n",
    "\n",
    "Let's calculate the average city-fuel efficiency of these cars based on Country of Origin"
   ]
  },
  {
   "cell_type": "code",
   "execution_count": 1,
   "id": "9136ed21-0626-4605-bda3-564a86a9c4a1",
   "metadata": {},
   "outputs": [
    {
     "ename": "NameError",
     "evalue": "name 'origin_grouped' is not defined",
     "output_type": "error",
     "traceback": [
      "\u001b[0;31m---------------------------------------------------------------------------\u001b[0m",
      "\u001b[0;31mNameError\u001b[0m                                 Traceback (most recent call last)",
      "Cell \u001b[0;32mIn[1], line 2\u001b[0m\n\u001b[1;32m      1\u001b[0m \u001b[38;5;66;03m## Begin Example\u001b[39;00m\n\u001b[0;32m----> 2\u001b[0m origin_mpg_mean \u001b[38;5;241m=\u001b[39m \u001b[43morigin_grouped\u001b[49m[\u001b[38;5;124m\"\u001b[39m\u001b[38;5;124mmpg\u001b[39m\u001b[38;5;124m\"\u001b[39m]\u001b[38;5;241m.\u001b[39mmean()\n\u001b[1;32m      3\u001b[0m origin_mpg_mean\n\u001b[1;32m      4\u001b[0m \u001b[38;5;66;03m## End Example\u001b[39;00m\n",
      "\u001b[0;31mNameError\u001b[0m: name 'origin_grouped' is not defined"
     ]
    }
   ],
   "source": [
    "## Begin Calculation\n",
    "origin_mpg_mean = origin_grouped[\"mpg\"].mean()\n",
    "origin_mpg_mean"
   ]
  },
  {
   "cell_type": "markdown",
   "id": "847aa0fc-a609-4457-bed9-1fc970358bbc",
   "metadata": {},
   "source": [
    "Based on the dataset, Japanese vehicles had greater fuel efficiency, on average, with Europe in second place, followed by USA."
   ]
  },
  {
   "cell_type": "markdown",
   "id": "2d6ae026-18bc-4f1b-9a9a-ad043efb77e0",
   "metadata": {},
   "source": [
    "### Sum\n",
    "\n",
    "Based on the dataset, which country of origin produced the highest total horsepower?\n",
    "\n",
    "Let's calculate the total horsepower value for each origin."
   ]
  },
  {
   "cell_type": "code",
   "execution_count": null,
   "id": "e404d9c5-1725-4982-841a-2e8d620a0c0b",
   "metadata": {},
   "outputs": [],
   "source": [
    "## Begin Calculation\n",
    "cylinders_sum = cylinders_grouped.sum()\n",
    "cylinders_sum"
   ]
  },
  {
   "cell_type": "markdown",
   "id": "b2e0b11a-6982-4afe-b0f3-fd22aa24cee3",
   "metadata": {},
   "source": [
    "## Selecting Columns\n",
    "\n",
    "<center><img src=\"../images/stock/pexels-pixabay-159298.jpg\"></center>\n",
    "\n",
    "You can select specific columns before or after applying the `groupby()` method."
   ]
  },
  {
   "cell_type": "markdown",
   "id": "cf660265-b26b-4e04-bec4-b5a1420b2677",
   "metadata": {},
   "source": [
    "## Other Useful Aggregation Functions\n",
    "\n",
    "Here are some other commonly used aggregation functions:\n",
    "\n",
    "* __`count().`__: Number of non-null values in each group.\n",
    "\n",
    "* __`min().`__: Minimum value in each group.\n",
    "\n",
    "* __`max().`__: Maximum value in each group.\n",
    "\n",
    "* __`any().`__: Returns True if any value in the group is True.\n",
    "\n",
    "* __`all().`__: Returns True if all values in the group are True.\n",
    "\n",
    "* __`median.`__(): Median value of each group.\n",
    "\n",
    "* __`std().`__: Standard deviation of each group."
   ]
  },
  {
   "cell_type": "markdown",
   "id": "a8ebee23-655a-4af2-a0eb-41d8e71c5d40",
   "metadata": {},
   "source": [
    "## Grouping by Multiple Columns\n",
    "\n",
    "<center><img src=\"../images/stock/pexels-vividcafe-681335.jpg\"></center>\n",
    "\n",
    "You can group by more than one column. This creates a hierarchical index in the resulting DataFrame."
   ]
  },
  {
   "cell_type": "code",
   "execution_count": null,
   "id": "8b3299d7-31d0-475a-bea6-8be929721687",
   "metadata": {},
   "outputs": [],
   "source": [
    "## Begin Example\n",
    "\n",
    "# Group by 'origin' and 'cylinders' and calculate the mean 'mpg'\n",
    "origin_cylinders_mpg_mean = mpg_df.groupby(['origin', 'cylinders'])['mpg'].mean()\n",
    "print(origin_cylinders_mpg_mean)\n",
    "\n",
    "# Group by 'origin' and 'cylinders' and calculate the mean 'mpg'\n",
    "origin_cylinders_mpg_mean = mpg_df.groupby(['origin', 'cylinders'])['mpg'].mean().reset_index()\n",
    "\n",
    "# Create a plot\n",
    "plt.figure(figsize=(10, 6))\n",
    "sns.catplot(x='origin', y='mpg', hue='cylinders', data=origin_cylinders_mpg_mean, kind='bar')\n",
    "plt.title('Average MPG by Origin and Cylinders')\n",
    "plt.xlabel('Origin')\n",
    "plt.ylabel('Average MPG')\n",
    "plt.show()\n",
    "## End Example"
   ]
  },
  {
   "cell_type": "code",
   "execution_count": null,
   "id": "9606dd35-323c-45c8-942f-1de3564d261a",
   "metadata": {},
   "outputs": [],
   "source": [
    "Both the make and  model year are index columns of the new datadrame. \n",
    "\n",
    "Together they form a hierchical index or multilevel index.\n",
    "\n",
    "Multilevel index makes it possible to work with data that has an arbitrary number of dimensions within the 2D structure of a dataframe by using multiple columns to uniquely identify each row.\n",
    "\n",
    "    The resulting dataframe can be viewed as a 3D dataset, with three axes (make, model_year, horsepower aggregate values)"
   ]
  },
  {
   "cell_type": "markdown",
   "id": "5bb15fb0-6ee5-4ef5-b0b5-44663347040d",
   "metadata": {},
   "source": [
    "## Resetting the Index\n",
    "\n",
    "When you group by multiple columns, the resulting DataFrame has a hierarchical index. To make the grouping columns regular columns, use `reset_index()`."
   ]
  },
  {
   "cell_type": "code",
   "execution_count": null,
   "id": "8209cead-f2df-491d-a764-928dae419b71",
   "metadata": {},
   "outputs": [],
   "source": [
    "## Begin Example\n",
    "# Group by 'origin' and 'cylinders' and calculate the mean 'mpg', then reset the index\n",
    "origin_cylinders_mpg_mean_reset = mpg_df.groupby(['origin', 'cylinders'])['mpg'].mean().reset_index()\n",
    "print(origin_cylinders_mpg_mean_reset)\n",
    "\n",
    "## End Example"
   ]
  }
 ],
 "metadata": {
  "kernelspec": {
   "display_name": "Python 3 (ipykernel)",
   "language": "python",
   "name": "python3"
  },
  "language_info": {
   "codemirror_mode": {
    "name": "ipython",
    "version": 3
   },
   "file_extension": ".py",
   "mimetype": "text/x-python",
   "name": "python",
   "nbconvert_exporter": "python",
   "pygments_lexer": "ipython3",
   "version": "3.12.5"
  }
 },
 "nbformat": 4,
 "nbformat_minor": 5
}
