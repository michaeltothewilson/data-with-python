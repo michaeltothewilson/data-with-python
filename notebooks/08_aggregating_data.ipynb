{
 "cells": [
  {
   "cell_type": "markdown",
   "id": "14fc21c4-7236-4397-ab4c-74038d1331a9",
   "metadata": {
    "editable": true,
    "slideshow": {
     "slide_type": ""
    },
    "tags": []
   },
   "source": [
    "# Data Aggregation with Groupby\n",
    "\n",
    "<center><img src=\"../images/stock/pexels-pixabay-210182.jpg\"></center>\n",
    "\n",
    "This lesson will guide you through the process of data aggregation using the `groupby()` method in Python's Pandas library. We'll use the \"mpg\" dataset from the Seaborn library for our examples."
   ]
  },
  {
   "cell_type": "markdown",
   "id": "6f84b109-d762-4305-af54-a3f6d5f668b4",
   "metadata": {
    "editable": true,
    "slideshow": {
     "slide_type": ""
    },
    "tags": []
   },
   "source": [
    "## Getting Started - Import Libraries\n",
    "\n",
    "First, we need to import the necessary libraries (Pandas and Seaborn).\n",
    "\n",
    "```python\n",
    "import pandas as pd\n",
    "import seaborn as sns\n",
    "import matplotlib.pyplot as plt\n",
    "````"
   ]
  },
  {
   "cell_type": "code",
   "execution_count": null,
   "id": "afb75b47-4301-4225-8d3e-1dece8256199",
   "metadata": {
    "editable": true,
    "slideshow": {
     "slide_type": ""
    },
    "tags": []
   },
   "outputs": [],
   "source": [
    "## Begin Example\n",
    "!pip install seaborn\n",
    "import pandas as pd\n",
    "import seaborn as sns\n",
    "import matplotlib.pyplot as plt\n",
    "## End Example"
   ]
  },
  {
   "cell_type": "markdown",
   "id": "d8190061-8f38-4f2c-9c1a-3888d4c3f753",
   "metadata": {
    "editable": true,
    "slideshow": {
     "slide_type": ""
    },
    "tags": []
   },
   "source": [
    "## Getting Started - Load Dataset\n",
    "\n",
    "Now we load the dataset. The Seaborn library has several built-in datasets that we can easily refer to. \n",
    "\n",
    "For this lesson, we will focus on the `mpg` dataset.\n",
    "\n",
    "```python\n",
    "mpg_df = sns.load_dataset(\"mpg\")\n",
    "```"
   ]
  },
  {
   "cell_type": "code",
   "execution_count": null,
   "id": "0851e080-606e-4365-a5af-d79c58386992",
   "metadata": {
    "editable": true,
    "slideshow": {
     "slide_type": ""
    },
    "tags": []
   },
   "outputs": [],
   "source": [
    "## Begin Example\n",
    "mpg_df = sns.load_dataset(\"mpg\")\n",
    "mpg_df.info()\n",
    "## End Example"
   ]
  },
  {
   "cell_type": "markdown",
   "id": "b6ff1a2d-aeb0-405b-b7a5-a1cc81a6515d",
   "metadata": {
    "editable": true,
    "slideshow": {
     "slide_type": ""
    },
    "tags": []
   },
   "source": [
    "## Split-Apply-Combine: The Concept Behind Groupby\n",
    "\n",
    "<center><img src=\"../images/stock/pexels-arnie-chou-304906-1877271.jpg\"></center>\n",
    "\n",
    "The `groupby()` method is based on the split-apply-combine strategy:\n",
    "\n",
    "* __Split:__ The data is divided into groups based on one or more columns.\n",
    "\n",
    "* __Apply:__ You apply a function (e.g., mean, sum, count) to each group independently.\n",
    "\n",
    "* __Combine:__ The results from each group are combined into a new data structure."
   ]
  },
  {
   "cell_type": "markdown",
   "id": "145ebd76-6f56-458f-bd01-42b7f8677b23",
   "metadata": {
    "editable": true,
    "slideshow": {
     "slide_type": ""
    },
    "tags": []
   },
   "source": [
    "## Understanding Groupby\n",
    "\n",
    "Let's break down the `groupby()` method step by step.\n",
    "\n",
    "* What is a Groupby Object?\n",
    "\n",
    "    * When you apply the `groupby()` method to a DataFrame, it doesn't immediately perform calculations. \n",
    "    * Instead, it creates a DataFrameGroupBy object. \n",
    "    * This object contains information about how the data has been split into groups, but the calculations are deferred until you specify an aggregation function.\n",
    "\n",
    "__Syntax__\n",
    "\n",
    "The basic syntax for `groupby()` is:\n",
    "\n",
    "```python\n",
    "df.groupby(by=column_name(s))\n",
    "```\n",
    "\n",
    "* `df`: The Pandas DataFrame you want to group.\n",
    "\n",
    "* `by`: The column name (or a list of column names) that you want to group the data by."
   ]
  },
  {
   "cell_type": "markdown",
   "id": "553153a6-f28f-4b89-89cd-c65d0c3a8567",
   "metadata": {
    "editable": true,
    "slideshow": {
     "slide_type": ""
    },
    "tags": []
   },
   "source": [
    "## Example: Grouping by Cylinders\n",
    "\n",
    "Let's group the `mpg_df` by the `cylinders` column:"
   ]
  },
  {
   "cell_type": "code",
   "execution_count": null,
   "id": "fbe67ea8-1a5a-4ff5-8547-c7d99f648d69",
   "metadata": {
    "editable": true,
    "slideshow": {
     "slide_type": ""
    },
    "tags": []
   },
   "outputs": [],
   "source": [
    "## Begin Example\n",
    "cylinders_grouped = mpg_df.groupby(\"cylinders\")\n",
    "\n",
    "cylinders_grouped"
   ]
  },
  {
   "cell_type": "markdown",
   "id": "591c7def-9dde-4237-a977-2f93e7329575",
   "metadata": {},
   "source": [
    "The output will show you a `DataFrameGroupBy` object, indicating that the data has been grouped, but no calculations have been performed yet."
   ]
  },
  {
   "cell_type": "markdown",
   "id": "8ab4aecd-bd9a-4568-8a36-311b70032d1e",
   "metadata": {},
   "source": [
    "## Applying Aggregation Functions\n",
    "\n",
    "<center><img src=\"../images/stock/pexels-padrinan-3785930.jpg\"></center>\n",
    "\n",
    "Now, let's apply some aggregation functions to the grouped data.\n"
   ]
  },
  {
   "cell_type": "markdown",
   "id": "dd8b9d36-bb22-4d74-9f2a-fbd9378984d8",
   "metadata": {},
   "source": [
    "### Mean\n",
    "\n",
    "Calculate the average value for each group"
   ]
  },
  {
   "cell_type": "code",
   "execution_count": null,
   "id": "9136ed21-0626-4605-bda3-564a86a9c4a1",
   "metadata": {},
   "outputs": [],
   "source": [
    "## Begin Example\n",
    "numeric_mpg_df = mpg_df.select_dtypes(include=['number'])\n",
    "cylinders_mean = numeric_mpg_df.groupby('cylinders').mean()\n",
    "\n",
    "plt.figure(figsize=(8, 6))\n",
    "sns.barplot(x=cylinders_mean.index, y=cylinders_mean['mpg'])\n",
    "plt.title('Average MPG by Number of Cylinders')\n",
    "plt.xlabel('Number of Cylinders')\n",
    "plt.ylabel('Average MPG')\n",
    "plt.show()\n",
    "## End Example"
   ]
  },
  {
   "cell_type": "markdown",
   "id": "2d6ae026-18bc-4f1b-9a9a-ad043efb77e0",
   "metadata": {},
   "source": [
    "### Sum\n",
    "\n",
    "Calculate the sum of values for each group\n"
   ]
  },
  {
   "cell_type": "code",
   "execution_count": null,
   "id": "e404d9c5-1725-4982-841a-2e8d620a0c0b",
   "metadata": {},
   "outputs": [],
   "source": [
    "cylinders_sum = cylinders_grouped.sum()\n",
    "cylinders_sum"
   ]
  },
  {
   "cell_type": "markdown",
   "id": "b2e0b11a-6982-4afe-b0f3-fd22aa24cee3",
   "metadata": {},
   "source": [
    "## Selecting Columns\n",
    "\n",
    "<center><img src=\"../images/stock/pexels-pixabay-159298.jpg\"></center>\n",
    "\n",
    "You can select specific columns before or after applying the `groupby()` method."
   ]
  },
  {
   "cell_type": "markdown",
   "id": "da8555c8-9a36-49b7-8f09-f97bb261d4ea",
   "metadata": {},
   "source": [
    "### Selecting Before Grouping\n",
    "\n",
    "This can be more efficient if you only need to aggregate a subset of columns."
   ]
  },
  {
   "cell_type": "code",
   "execution_count": null,
   "id": "c7dc3d02-ae9d-4ee2-bdaa-708541b49675",
   "metadata": {},
   "outputs": [],
   "source": [
    "## Begin Example\n",
    "\n",
    "cylinders_mpg_hp_mean = mpg_df[['mpg', 'horsepower', 'cylinders']].groupby('cylinders').mean()\n",
    "print(cylinders_mpg_hp_mean)\n",
    "\n",
    "plt.figure(figsize=(8, 6))\n",
    "sns.heatmap(cylinders_mpg_hp_mean, annot=True, cmap='viridis')\n",
    "plt.title('Mean MPG and Horsepower by Cylinders')\n",
    "plt.xlabel('Variables')\n",
    "plt.ylabel('Number of Cylinders')\n",
    "plt.show()\n",
    "## End Example"
   ]
  },
  {
   "cell_type": "markdown",
   "id": "6125847a-7a90-4bfd-8c44-ddc775cd307f",
   "metadata": {},
   "source": [
    "### Selecting After Grouping\n",
    "\n",
    "You can select columns from the resulting aggregated DataFrame."
   ]
  },
  {
   "cell_type": "code",
   "execution_count": null,
   "id": "b8a7a30c-f008-4be5-a3b0-b18dce2c4fa3",
   "metadata": {
    "scrolled": true
   },
   "outputs": [],
   "source": [
    "## Begin Example\n",
    "# Group by 'cylinders', calculate the mean of all columns, and then select the 'mpg' column\n",
    "cylinders_mean_mpg = mpg_df.groupby('cylinders').mean()['mpg']\n",
    "print(cylinders_mean_mpg)\n",
    "\n",
    "# Visualize\n",
    "plt.figure(figsize=(8, 6))\n",
    "plt.plot(cylinders_mean_mpg.index, cylinders_mean_mpg.values, marker='o')\n",
    "plt.title('Average MPG by Number of Cylinders')\n",
    "plt.xlabel('Number of Cylinders')\n",
    "plt.ylabel('Average MPG')\n",
    "plt.grid(True)\n",
    "plt.show()\n",
    "## End Example"
   ]
  },
  {
   "cell_type": "markdown",
   "id": "2a393b9c-13b5-4f09-bff2-6aaa1d9ff55a",
   "metadata": {},
   "source": [
    "## Multiple Aggregations\n",
    "\n",
    "You can apply multiple aggregation functions at once using the `agg()` method."
   ]
  },
  {
   "cell_type": "markdown",
   "id": "a6f4b974-823f-45ef-a76d-fd57718d3a09",
   "metadata": {},
   "source": [
    "## Using a List\n",
    "\n",
    "Apply different functions to the same column(s)."
   ]
  },
  {
   "cell_type": "code",
   "execution_count": null,
   "id": "0f495d33-f6fd-4f80-a9cf-08496e1cc3bc",
   "metadata": {},
   "outputs": [],
   "source": [
    "## Begin Example\n",
    "# Group by 'cylinders' and calculate the mean and sum of 'mpg'\n",
    "cylinders_mpg_agg = mpg_df.groupby('cylinders')['mpg'].agg(['mean', 'sum'])\n",
    "cylinders_mpg_agg\n",
    "## End Example"
   ]
  },
  {
   "cell_type": "markdown",
   "id": "4c1aec01-1d13-4b07-8100-31e1a8e70260",
   "metadata": {},
   "source": [
    "## Using a Dictionary\n",
    "\n",
    "Apply different functions to different columns."
   ]
  },
  {
   "cell_type": "code",
   "execution_count": null,
   "id": "e34dd349-fa4b-40fc-bff6-29bb94c30681",
   "metadata": {},
   "outputs": [],
   "source": [
    "## Begin Example\n",
    "# Group by 'cylinders' and calculate the mean of 'mpg' and the sum of 'horsepower'\n",
    "cylinders_agg_dict = mpg_df.groupby('cylinders').agg({'mpg': 'mean', 'horsepower': 'sum'})\n",
    "print(cylinders_agg_dict)\n",
    "\n",
    "# Create a plot\n",
    "plt.figure(figsize=(10, 6))\n",
    "cylinders_agg_dict.plot(kind='bar')\n",
    "plt.title('Aggregation of MPG and Horsepower by Cylinders')\n",
    "plt.xlabel('Number of Cylinders')\n",
    "plt.ylabel('Value')\n",
    "plt.legend(['Mean MPG', 'Sum Horsepower'])\n",
    "plt.show()\n",
    "## End Example"
   ]
  },
  {
   "cell_type": "markdown",
   "id": "cf660265-b26b-4e04-bec4-b5a1420b2677",
   "metadata": {},
   "source": [
    "## Other Useful Aggregation Functions\n",
    "\n",
    "Here are some other commonly used aggregation functions:\n",
    "\n",
    "* __`count().`__: Number of non-null values in each group.\n",
    "\n",
    "* __`min().`__: Minimum value in each group.\n",
    "\n",
    "* __`max().`__: Maximum value in each group.\n",
    "\n",
    "* __`any().`__: Returns True if any value in the group is True.\n",
    "\n",
    "* __`all().`__: Returns True if all values in the group are True.\n",
    "\n",
    "* __`median.`__(): Median value of each group.\n",
    "\n",
    "* __`std().`__: Standard deviation of each group."
   ]
  },
  {
   "cell_type": "markdown",
   "id": "4d7155fc-6e57-4fd4-87f4-8930b33b4201",
   "metadata": {},
   "source": [
    "## Using Multiple Aggregation Functions\n",
    "\n",
    "\n",
    "<center><img src=\"../images/stock/pexels-vividcafe-681335.jpg\"></center>\n",
    "\n"
   ]
  },
  {
   "cell_type": "code",
   "execution_count": null,
   "id": "81cc8fa3-02dd-4a98-9637-6677775728be",
   "metadata": {},
   "outputs": [],
   "source": [
    "## Begin Example\n",
    "# Group by 'origin' and calculate multiple aggregations for 'mpg'\n",
    "origin_mpg_agg = mpg_df.groupby('origin')['mpg'].agg(['mean', 'median', 'min', 'max', 'count'])\n",
    "print(origin_mpg_agg)\n",
    "\n",
    "# Visualize\n",
    "plt.figure(figsize=(12, 6))\n",
    "origin_mpg_agg.plot(kind='bar')\n",
    "plt.title('MPG Aggregation by Origin')\n",
    "plt.xlabel('Origin')\n",
    "plt.ylabel('Value')\n",
    "plt.xticks(rotation=45)\n",
    "plt.show()\n",
    "## End Example"
   ]
  },
  {
   "cell_type": "markdown",
   "id": "a8ebee23-655a-4af2-a0eb-41d8e71c5d40",
   "metadata": {},
   "source": [
    "## Grouping by Multiple Columns\n",
    "\n",
    "You can group by more than one column. This creates a hierarchical index in the resulting DataFrame."
   ]
  },
  {
   "cell_type": "code",
   "execution_count": null,
   "id": "8b3299d7-31d0-475a-bea6-8be929721687",
   "metadata": {},
   "outputs": [],
   "source": [
    "## Begin Example\n",
    "\n",
    "# Group by 'origin' and 'cylinders' and calculate the mean 'mpg'\n",
    "origin_cylinders_mpg_mean = mpg_df.groupby(['origin', 'cylinders'])['mpg'].mean()\n",
    "print(origin_cylinders_mpg_mean)\n",
    "\n",
    "# Group by 'origin' and 'cylinders' and calculate the mean 'mpg'\n",
    "origin_cylinders_mpg_mean = mpg_df.groupby(['origin', 'cylinders'])['mpg'].mean().reset_index()\n",
    "\n",
    "# Create a plot\n",
    "plt.figure(figsize=(10, 6))\n",
    "sns.catplot(x='origin', y='mpg', hue='cylinders', data=origin_cylinders_mpg_mean, kind='bar')\n",
    "plt.title('Average MPG by Origin and Cylinders')\n",
    "plt.xlabel('Origin')\n",
    "plt.ylabel('Average MPG')\n",
    "plt.show()\n",
    "## End Example"
   ]
  },
  {
   "cell_type": "markdown",
   "id": "5bb15fb0-6ee5-4ef5-b0b5-44663347040d",
   "metadata": {},
   "source": [
    "## Resetting the Index\n",
    "\n",
    "When you group by multiple columns, the resulting DataFrame has a hierarchical index. To make the grouping columns regular columns, use `reset_index()`."
   ]
  },
  {
   "cell_type": "code",
   "execution_count": null,
   "id": "8209cead-f2df-491d-a764-928dae419b71",
   "metadata": {},
   "outputs": [],
   "source": [
    "## Begin Example\n",
    "# Group by 'origin' and 'cylinders' and calculate the mean 'mpg', then reset the index\n",
    "origin_cylinders_mpg_mean_reset = mpg_df.groupby(['origin', 'cylinders'])['mpg'].mean().reset_index()\n",
    "print(origin_cylinders_mpg_mean_reset)\n",
    "\n",
    "## End Example"
   ]
  }
 ],
 "metadata": {
  "kernelspec": {
   "display_name": "Python 3 (ipykernel)",
   "language": "python",
   "name": "python3"
  },
  "language_info": {
   "codemirror_mode": {
    "name": "ipython",
    "version": 3
   },
   "file_extension": ".py",
   "mimetype": "text/x-python",
   "name": "python",
   "nbconvert_exporter": "python",
   "pygments_lexer": "ipython3",
   "version": "3.12.5"
  }
 },
 "nbformat": 4,
 "nbformat_minor": 5
}
