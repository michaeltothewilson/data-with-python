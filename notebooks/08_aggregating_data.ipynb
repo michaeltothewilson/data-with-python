{
 "cells": [
  {
   "cell_type": "markdown",
   "id": "14fc21c4-7236-4397-ab4c-74038d1331a9",
   "metadata": {
    "editable": false,
    "slideshow": {
     "slide_type": ""
    },
    "tags": []
   },
   "source": [
    "# Data Aggregation with Groupby\n",
    "\n",
    "<center><img src=\"../images/stock/pexels-pixabay-210182.jpg\"></center>\n",
    "\n",
    "In this lesson, we'll explore a powerful technique in Pandas called data aggregation using the `groupby()` method. \n",
    "\n",
    "Think of aggregation as a way to summarize and gain insights from your data by categorizing it. We'll be using the `mpg` dataset, conveniently available through the Seaborn library, to illustrate these concepts with real-world examples."
   ]
  },
  {
   "cell_type": "markdown",
   "id": "e0dd789d-3f56-47bd-bd16-5f323ed9b2ad",
   "metadata": {
    "editable": true,
    "slideshow": {
     "slide_type": ""
    },
    "tags": []
   },
   "source": [
    "## Getting Started"
   ]
  },
  {
   "cell_type": "markdown",
   "id": "55bc7a33-630f-474e-9165-d1ea80d34ad2",
   "metadata": {
    "editable": false,
    "slideshow": {
     "slide_type": ""
    },
    "tags": []
   },
   "source": [
    "### Import Libraries\n",
    "\n",
    "First, we'll bring in the essential tools we'll need for this lesson:\n",
    "\n",
    "```python\n",
    "import pandas as pd\n",
    "import seaborn as sns\n",
    "import matplotlib.pyplot as plt\n",
    "````\n",
    "\n"
   ]
  },
  {
   "cell_type": "code",
   "execution_count": 2,
   "id": "afb75b47-4301-4225-8d3e-1dece8256199",
   "metadata": {
    "editable": true,
    "slideshow": {
     "slide_type": ""
    },
    "tags": []
   },
   "outputs": [],
   "source": [
    "## Import Libraries\n",
    "import pandas as pd\n",
    "import seaborn as sns\n",
    "import matplotlib.pyplot as plt"
   ]
  },
  {
   "cell_type": "markdown",
   "id": "d8190061-8f38-4f2c-9c1a-3888d4c3f753",
   "metadata": {
    "editable": false,
    "slideshow": {
     "slide_type": ""
    },
    "tags": []
   },
   "source": [
    "### Load Dataset\n",
    "\n",
    "Next, we'll load the `mpg` dataset.\n",
    "\n",
    "Seaborn not only excels at creating beautiful and insightful statistical plots but also offers a handy way to access several well-known datasets directly within the library. These built-in datasets are perfect for learning data analysis and practicing visualization skills without the initial step of finding and loading external files.\n",
    "\n",
    "The `mpg` dataset contains various technical details about cars, with a focus on their fuel efficiency measured in miles per gallon.\n",
    "\n",
    "__Understanding the Columns:__\n",
    "\n",
    "* `mpg`: Fuel efficiency in miles per gallon.\n",
    "* `cylinders`: Number of engine cylinders \n",
    "* `displacement`: Engine displacement in cubic inches\n",
    "* `horsepower`: Engine horsepower \n",
    "* `weight`: Vehicle weight in pounds\n",
    "* `acceleration`: Time to accelerate from 0 to 60 mph in seconds \n",
    "* `model_year`: Year the car model was released\n",
    "* `origin`: Country of origin (USA, Europe, Asia)\n",
    "* `name`: Car model name \n",
    "\n",
    "To load this dataset into our workspace, we'll use the following simple command:\n",
    "\n",
    "```python\n",
    "sns.load_dataset(\"mpg\")\n",
    "```\n",
    "\n",
    "This line of code fetches the \"mpg\" dataset from Seaborn and stores it in a Pandas DataFrame."
   ]
  },
  {
   "cell_type": "code",
   "execution_count": 3,
   "id": "0851e080-606e-4365-a5af-d79c58386992",
   "metadata": {
    "editable": true,
    "slideshow": {
     "slide_type": ""
    },
    "tags": []
   },
   "outputs": [
    {
     "data": {
      "text/html": [
       "<div>\n",
       "<style scoped>\n",
       "    .dataframe tbody tr th:only-of-type {\n",
       "        vertical-align: middle;\n",
       "    }\n",
       "\n",
       "    .dataframe tbody tr th {\n",
       "        vertical-align: top;\n",
       "    }\n",
       "\n",
       "    .dataframe thead th {\n",
       "        text-align: right;\n",
       "    }\n",
       "</style>\n",
       "<table border=\"1\" class=\"dataframe\">\n",
       "  <thead>\n",
       "    <tr style=\"text-align: right;\">\n",
       "      <th></th>\n",
       "      <th>mpg</th>\n",
       "      <th>cylinders</th>\n",
       "      <th>displacement</th>\n",
       "      <th>horsepower</th>\n",
       "      <th>weight</th>\n",
       "      <th>acceleration</th>\n",
       "      <th>model_year</th>\n",
       "      <th>origin</th>\n",
       "      <th>name</th>\n",
       "    </tr>\n",
       "  </thead>\n",
       "  <tbody>\n",
       "    <tr>\n",
       "      <th>0</th>\n",
       "      <td>18.0</td>\n",
       "      <td>8</td>\n",
       "      <td>307.0</td>\n",
       "      <td>130.0</td>\n",
       "      <td>3504</td>\n",
       "      <td>12.0</td>\n",
       "      <td>70</td>\n",
       "      <td>usa</td>\n",
       "      <td>chevrolet chevelle malibu</td>\n",
       "    </tr>\n",
       "    <tr>\n",
       "      <th>1</th>\n",
       "      <td>15.0</td>\n",
       "      <td>8</td>\n",
       "      <td>350.0</td>\n",
       "      <td>165.0</td>\n",
       "      <td>3693</td>\n",
       "      <td>11.5</td>\n",
       "      <td>70</td>\n",
       "      <td>usa</td>\n",
       "      <td>buick skylark 320</td>\n",
       "    </tr>\n",
       "    <tr>\n",
       "      <th>2</th>\n",
       "      <td>18.0</td>\n",
       "      <td>8</td>\n",
       "      <td>318.0</td>\n",
       "      <td>150.0</td>\n",
       "      <td>3436</td>\n",
       "      <td>11.0</td>\n",
       "      <td>70</td>\n",
       "      <td>usa</td>\n",
       "      <td>plymouth satellite</td>\n",
       "    </tr>\n",
       "    <tr>\n",
       "      <th>3</th>\n",
       "      <td>16.0</td>\n",
       "      <td>8</td>\n",
       "      <td>304.0</td>\n",
       "      <td>150.0</td>\n",
       "      <td>3433</td>\n",
       "      <td>12.0</td>\n",
       "      <td>70</td>\n",
       "      <td>usa</td>\n",
       "      <td>amc rebel sst</td>\n",
       "    </tr>\n",
       "    <tr>\n",
       "      <th>4</th>\n",
       "      <td>17.0</td>\n",
       "      <td>8</td>\n",
       "      <td>302.0</td>\n",
       "      <td>140.0</td>\n",
       "      <td>3449</td>\n",
       "      <td>10.5</td>\n",
       "      <td>70</td>\n",
       "      <td>usa</td>\n",
       "      <td>ford torino</td>\n",
       "    </tr>\n",
       "  </tbody>\n",
       "</table>\n",
       "</div>"
      ],
      "text/plain": [
       "    mpg  cylinders  displacement  horsepower  weight  acceleration  \\\n",
       "0  18.0          8         307.0       130.0    3504          12.0   \n",
       "1  15.0          8         350.0       165.0    3693          11.5   \n",
       "2  18.0          8         318.0       150.0    3436          11.0   \n",
       "3  16.0          8         304.0       150.0    3433          12.0   \n",
       "4  17.0          8         302.0       140.0    3449          10.5   \n",
       "\n",
       "   model_year origin                       name  \n",
       "0          70    usa  chevrolet chevelle malibu  \n",
       "1          70    usa          buick skylark 320  \n",
       "2          70    usa         plymouth satellite  \n",
       "3          70    usa              amc rebel sst  \n",
       "4          70    usa                ford torino  "
      ]
     },
     "execution_count": 3,
     "metadata": {},
     "output_type": "execute_result"
    }
   ],
   "source": [
    "## Load and Preview Dataset\n",
    "mpg_df = sns.load_dataset(\"mpg\")\n",
    "mpg_df.head()"
   ]
  },
  {
   "cell_type": "markdown",
   "id": "726925cf-bea4-413a-a4ef-958ef2621b3e",
   "metadata": {
    "editable": false,
    "slideshow": {
     "slide_type": ""
    },
    "tags": []
   },
   "source": [
    "### Inspect the Dataset\n",
    "\n",
    "Before we start grouping and aggregating, it's always a good idea to get a feel for our data. Let's use the `.info()` method on our DataFrame to get a summary of its structure."
   ]
  },
  {
   "cell_type": "code",
   "execution_count": 4,
   "id": "493e5a1a-5363-4c75-a89c-2f5c7a3fb890",
   "metadata": {
    "editable": true,
    "slideshow": {
     "slide_type": ""
    },
    "tags": []
   },
   "outputs": [
    {
     "name": "stdout",
     "output_type": "stream",
     "text": [
      "<class 'pandas.core.frame.DataFrame'>\n",
      "RangeIndex: 398 entries, 0 to 397\n",
      "Data columns (total 9 columns):\n",
      " #   Column        Non-Null Count  Dtype  \n",
      "---  ------        --------------  -----  \n",
      " 0   mpg           398 non-null    float64\n",
      " 1   cylinders     398 non-null    int64  \n",
      " 2   displacement  398 non-null    float64\n",
      " 3   horsepower    392 non-null    float64\n",
      " 4   weight        398 non-null    int64  \n",
      " 5   acceleration  398 non-null    float64\n",
      " 6   model_year    398 non-null    int64  \n",
      " 7   origin        398 non-null    object \n",
      " 8   name          398 non-null    object \n",
      "dtypes: float64(4), int64(3), object(2)\n",
      "memory usage: 28.1+ KB\n"
     ]
    }
   ],
   "source": [
    "## View Key Information on the Dataset\n",
    "mpg_df.info()"
   ]
  },
  {
   "cell_type": "markdown",
   "id": "a84bfe19-6dce-4bf3-88ab-1dcf82c59347",
   "metadata": {
    "editable": false,
    "slideshow": {
     "slide_type": ""
    },
    "tags": []
   },
   "source": [
    "### Data Cleaning\n",
    "\n",
    "As noted from the .info() output, it seems our dataset contains some missing values. \n",
    "\n",
    "To get a closer look at the specific rows that contain these missing values, we can create a boolean mask. This mask will identify rows where at least one column has a null value. Then, we can use this mask to select and display those rows."
   ]
  },
  {
   "cell_type": "code",
   "execution_count": 5,
   "id": "e051c950-3fe7-455b-aa83-e419376bc4cc",
   "metadata": {
    "editable": true,
    "slideshow": {
     "slide_type": ""
    },
    "tags": []
   },
   "outputs": [
    {
     "data": {
      "text/html": [
       "<div>\n",
       "<style scoped>\n",
       "    .dataframe tbody tr th:only-of-type {\n",
       "        vertical-align: middle;\n",
       "    }\n",
       "\n",
       "    .dataframe tbody tr th {\n",
       "        vertical-align: top;\n",
       "    }\n",
       "\n",
       "    .dataframe thead th {\n",
       "        text-align: right;\n",
       "    }\n",
       "</style>\n",
       "<table border=\"1\" class=\"dataframe\">\n",
       "  <thead>\n",
       "    <tr style=\"text-align: right;\">\n",
       "      <th></th>\n",
       "      <th>mpg</th>\n",
       "      <th>cylinders</th>\n",
       "      <th>displacement</th>\n",
       "      <th>horsepower</th>\n",
       "      <th>weight</th>\n",
       "      <th>acceleration</th>\n",
       "      <th>model_year</th>\n",
       "      <th>origin</th>\n",
       "      <th>name</th>\n",
       "    </tr>\n",
       "  </thead>\n",
       "  <tbody>\n",
       "    <tr>\n",
       "      <th>32</th>\n",
       "      <td>25.0</td>\n",
       "      <td>4</td>\n",
       "      <td>98.0</td>\n",
       "      <td>NaN</td>\n",
       "      <td>2046</td>\n",
       "      <td>19.0</td>\n",
       "      <td>71</td>\n",
       "      <td>usa</td>\n",
       "      <td>ford pinto</td>\n",
       "    </tr>\n",
       "    <tr>\n",
       "      <th>126</th>\n",
       "      <td>21.0</td>\n",
       "      <td>6</td>\n",
       "      <td>200.0</td>\n",
       "      <td>NaN</td>\n",
       "      <td>2875</td>\n",
       "      <td>17.0</td>\n",
       "      <td>74</td>\n",
       "      <td>usa</td>\n",
       "      <td>ford maverick</td>\n",
       "    </tr>\n",
       "    <tr>\n",
       "      <th>330</th>\n",
       "      <td>40.9</td>\n",
       "      <td>4</td>\n",
       "      <td>85.0</td>\n",
       "      <td>NaN</td>\n",
       "      <td>1835</td>\n",
       "      <td>17.3</td>\n",
       "      <td>80</td>\n",
       "      <td>europe</td>\n",
       "      <td>renault lecar deluxe</td>\n",
       "    </tr>\n",
       "    <tr>\n",
       "      <th>336</th>\n",
       "      <td>23.6</td>\n",
       "      <td>4</td>\n",
       "      <td>140.0</td>\n",
       "      <td>NaN</td>\n",
       "      <td>2905</td>\n",
       "      <td>14.3</td>\n",
       "      <td>80</td>\n",
       "      <td>usa</td>\n",
       "      <td>ford mustang cobra</td>\n",
       "    </tr>\n",
       "    <tr>\n",
       "      <th>354</th>\n",
       "      <td>34.5</td>\n",
       "      <td>4</td>\n",
       "      <td>100.0</td>\n",
       "      <td>NaN</td>\n",
       "      <td>2320</td>\n",
       "      <td>15.8</td>\n",
       "      <td>81</td>\n",
       "      <td>europe</td>\n",
       "      <td>renault 18i</td>\n",
       "    </tr>\n",
       "    <tr>\n",
       "      <th>374</th>\n",
       "      <td>23.0</td>\n",
       "      <td>4</td>\n",
       "      <td>151.0</td>\n",
       "      <td>NaN</td>\n",
       "      <td>3035</td>\n",
       "      <td>20.5</td>\n",
       "      <td>82</td>\n",
       "      <td>usa</td>\n",
       "      <td>amc concord dl</td>\n",
       "    </tr>\n",
       "  </tbody>\n",
       "</table>\n",
       "</div>"
      ],
      "text/plain": [
       "      mpg  cylinders  displacement  horsepower  weight  acceleration  \\\n",
       "32   25.0          4          98.0         NaN    2046          19.0   \n",
       "126  21.0          6         200.0         NaN    2875          17.0   \n",
       "330  40.9          4          85.0         NaN    1835          17.3   \n",
       "336  23.6          4         140.0         NaN    2905          14.3   \n",
       "354  34.5          4         100.0         NaN    2320          15.8   \n",
       "374  23.0          4         151.0         NaN    3035          20.5   \n",
       "\n",
       "     model_year  origin                  name  \n",
       "32           71     usa            ford pinto  \n",
       "126          74     usa         ford maverick  \n",
       "330          80  europe  renault lecar deluxe  \n",
       "336          80     usa    ford mustang cobra  \n",
       "354          81  europe           renault 18i  \n",
       "374          82     usa        amc concord dl  "
      ]
     },
     "execution_count": 5,
     "metadata": {},
     "output_type": "execute_result"
    }
   ],
   "source": [
    "## View Rows Containing Null Values\n",
    "null_mask = mpg_df.isnull().any(axis=1)\n",
    "null_rows = mpg_df[null_mask]\n",
    "\n",
    "null_rows"
   ]
  },
  {
   "cell_type": "markdown",
   "id": "0e230314-2be4-411c-94bd-1ecead5a78fc",
   "metadata": {
    "editable": false,
    "slideshow": {
     "slide_type": ""
    },
    "tags": []
   },
   "source": [
    "Given the small number of rows with missing data, a straightforward approach for this lesson is to remove them. This will simplify our analysis and allow us to focus on the core concepts of `groupby()` without the complexities of handling missing values.\n",
    "\n",
    "Let's drop the rows containing any null values using the `.dropna()` method."
   ]
  },
  {
   "cell_type": "code",
   "execution_count": 6,
   "id": "28e5cafe-523f-4084-938b-f98d5628c5bb",
   "metadata": {
    "editable": true,
    "slideshow": {
     "slide_type": ""
    },
    "tags": []
   },
   "outputs": [
    {
     "name": "stdout",
     "output_type": "stream",
     "text": [
      "<class 'pandas.core.frame.DataFrame'>\n",
      "Index: 392 entries, 0 to 397\n",
      "Data columns (total 9 columns):\n",
      " #   Column        Non-Null Count  Dtype  \n",
      "---  ------        --------------  -----  \n",
      " 0   mpg           392 non-null    float64\n",
      " 1   cylinders     392 non-null    int64  \n",
      " 2   displacement  392 non-null    float64\n",
      " 3   horsepower    392 non-null    float64\n",
      " 4   weight        392 non-null    int64  \n",
      " 5   acceleration  392 non-null    float64\n",
      " 6   model_year    392 non-null    int64  \n",
      " 7   origin        392 non-null    object \n",
      " 8   name          392 non-null    object \n",
      "dtypes: float64(4), int64(3), object(2)\n",
      "memory usage: 30.6+ KB\n"
     ]
    }
   ],
   "source": [
    "## Drop Rows Containing Null Values\n",
    "mpg_df_dropna = mpg_df.dropna(axis=0)\n",
    "mpg_df_dropna.info()"
   ]
  },
  {
   "cell_type": "markdown",
   "id": "0a3ca896-bf83-4a6d-af05-6ecced6b3b07",
   "metadata": {
    "editable": false,
    "slideshow": {
     "slide_type": ""
    },
    "tags": []
   },
   "source": [
    "### Data Transformation\n",
    "\n",
    "Next, we'll modify the `name` column.\n",
    "\n",
    "Each entry for `name` contains the make and model of the car.\n",
    "Let's extract the make and place it into a new column named `make`."
   ]
  },
  {
   "cell_type": "code",
   "execution_count": 7,
   "id": "6d3d9f2c-21ea-4ef1-9fe5-1763b4d6162b",
   "metadata": {
    "editable": true,
    "slideshow": {
     "slide_type": ""
    },
    "tags": []
   },
   "outputs": [
    {
     "name": "stderr",
     "output_type": "stream",
     "text": [
      "/var/folders/nw/qfc0h_7d6tx63xx9wlbq947h0000gn/T/ipykernel_5827/3543468974.py:2: SettingWithCopyWarning: \n",
      "A value is trying to be set on a copy of a slice from a DataFrame.\n",
      "Try using .loc[row_indexer,col_indexer] = value instead\n",
      "\n",
      "See the caveats in the documentation: https://pandas.pydata.org/pandas-docs/stable/user_guide/indexing.html#returning-a-view-versus-a-copy\n",
      "  mpg_df_dropna[\"make\"] = mpg_df_dropna[\"name\"].str.split(\" \", n=1, expand=True)[0]\n"
     ]
    },
    {
     "data": {
      "text/html": [
       "<div>\n",
       "<style scoped>\n",
       "    .dataframe tbody tr th:only-of-type {\n",
       "        vertical-align: middle;\n",
       "    }\n",
       "\n",
       "    .dataframe tbody tr th {\n",
       "        vertical-align: top;\n",
       "    }\n",
       "\n",
       "    .dataframe thead th {\n",
       "        text-align: right;\n",
       "    }\n",
       "</style>\n",
       "<table border=\"1\" class=\"dataframe\">\n",
       "  <thead>\n",
       "    <tr style=\"text-align: right;\">\n",
       "      <th></th>\n",
       "      <th>mpg</th>\n",
       "      <th>cylinders</th>\n",
       "      <th>displacement</th>\n",
       "      <th>horsepower</th>\n",
       "      <th>weight</th>\n",
       "      <th>acceleration</th>\n",
       "      <th>model_year</th>\n",
       "      <th>origin</th>\n",
       "      <th>name</th>\n",
       "      <th>make</th>\n",
       "    </tr>\n",
       "  </thead>\n",
       "  <tbody>\n",
       "    <tr>\n",
       "      <th>0</th>\n",
       "      <td>18.0</td>\n",
       "      <td>8</td>\n",
       "      <td>307.0</td>\n",
       "      <td>130.0</td>\n",
       "      <td>3504</td>\n",
       "      <td>12.0</td>\n",
       "      <td>70</td>\n",
       "      <td>usa</td>\n",
       "      <td>chevrolet chevelle malibu</td>\n",
       "      <td>chevrolet</td>\n",
       "    </tr>\n",
       "    <tr>\n",
       "      <th>1</th>\n",
       "      <td>15.0</td>\n",
       "      <td>8</td>\n",
       "      <td>350.0</td>\n",
       "      <td>165.0</td>\n",
       "      <td>3693</td>\n",
       "      <td>11.5</td>\n",
       "      <td>70</td>\n",
       "      <td>usa</td>\n",
       "      <td>buick skylark 320</td>\n",
       "      <td>buick</td>\n",
       "    </tr>\n",
       "    <tr>\n",
       "      <th>2</th>\n",
       "      <td>18.0</td>\n",
       "      <td>8</td>\n",
       "      <td>318.0</td>\n",
       "      <td>150.0</td>\n",
       "      <td>3436</td>\n",
       "      <td>11.0</td>\n",
       "      <td>70</td>\n",
       "      <td>usa</td>\n",
       "      <td>plymouth satellite</td>\n",
       "      <td>plymouth</td>\n",
       "    </tr>\n",
       "    <tr>\n",
       "      <th>3</th>\n",
       "      <td>16.0</td>\n",
       "      <td>8</td>\n",
       "      <td>304.0</td>\n",
       "      <td>150.0</td>\n",
       "      <td>3433</td>\n",
       "      <td>12.0</td>\n",
       "      <td>70</td>\n",
       "      <td>usa</td>\n",
       "      <td>amc rebel sst</td>\n",
       "      <td>amc</td>\n",
       "    </tr>\n",
       "    <tr>\n",
       "      <th>4</th>\n",
       "      <td>17.0</td>\n",
       "      <td>8</td>\n",
       "      <td>302.0</td>\n",
       "      <td>140.0</td>\n",
       "      <td>3449</td>\n",
       "      <td>10.5</td>\n",
       "      <td>70</td>\n",
       "      <td>usa</td>\n",
       "      <td>ford torino</td>\n",
       "      <td>ford</td>\n",
       "    </tr>\n",
       "  </tbody>\n",
       "</table>\n",
       "</div>"
      ],
      "text/plain": [
       "    mpg  cylinders  displacement  horsepower  weight  acceleration  \\\n",
       "0  18.0          8         307.0       130.0    3504          12.0   \n",
       "1  15.0          8         350.0       165.0    3693          11.5   \n",
       "2  18.0          8         318.0       150.0    3436          11.0   \n",
       "3  16.0          8         304.0       150.0    3433          12.0   \n",
       "4  17.0          8         302.0       140.0    3449          10.5   \n",
       "\n",
       "   model_year origin                       name       make  \n",
       "0          70    usa  chevrolet chevelle malibu  chevrolet  \n",
       "1          70    usa          buick skylark 320      buick  \n",
       "2          70    usa         plymouth satellite   plymouth  \n",
       "3          70    usa              amc rebel sst        amc  \n",
       "4          70    usa                ford torino       ford  "
      ]
     },
     "execution_count": 7,
     "metadata": {},
     "output_type": "execute_result"
    }
   ],
   "source": [
    "# Create a new column 'make' by extracting the first word from 'car_name'\n",
    "mpg_df_dropna[\"make\"] = mpg_df_dropna[\"name\"].str.split(\" \", n=1, expand=True)[0]\n",
    "mpg_df_dropna.head(5)"
   ]
  },
  {
   "cell_type": "markdown",
   "id": "85d4984a-499c-47f5-bbca-c50ca105cee9",
   "metadata": {
    "editable": false,
    "slideshow": {
     "slide_type": ""
    },
    "tags": []
   },
   "source": [
    "Now let's remove the make from the `name` column."
   ]
  },
  {
   "cell_type": "code",
   "execution_count": 8,
   "id": "621e72bb-cadb-4995-8cee-1523faccb2e0",
   "metadata": {
    "editable": true,
    "slideshow": {
     "slide_type": ""
    },
    "tags": []
   },
   "outputs": [
    {
     "data": {
      "text/html": [
       "<div>\n",
       "<style scoped>\n",
       "    .dataframe tbody tr th:only-of-type {\n",
       "        vertical-align: middle;\n",
       "    }\n",
       "\n",
       "    .dataframe tbody tr th {\n",
       "        vertical-align: top;\n",
       "    }\n",
       "\n",
       "    .dataframe thead th {\n",
       "        text-align: right;\n",
       "    }\n",
       "</style>\n",
       "<table border=\"1\" class=\"dataframe\">\n",
       "  <thead>\n",
       "    <tr style=\"text-align: right;\">\n",
       "      <th></th>\n",
       "      <th>mpg</th>\n",
       "      <th>cylinders</th>\n",
       "      <th>displacement</th>\n",
       "      <th>horsepower</th>\n",
       "      <th>weight</th>\n",
       "      <th>acceleration</th>\n",
       "      <th>model_year</th>\n",
       "      <th>origin</th>\n",
       "      <th>name</th>\n",
       "      <th>make</th>\n",
       "    </tr>\n",
       "  </thead>\n",
       "  <tbody>\n",
       "    <tr>\n",
       "      <th>0</th>\n",
       "      <td>18.0</td>\n",
       "      <td>8</td>\n",
       "      <td>307.0</td>\n",
       "      <td>130.0</td>\n",
       "      <td>3504</td>\n",
       "      <td>12.0</td>\n",
       "      <td>70</td>\n",
       "      <td>usa</td>\n",
       "      <td>chevelle malibu</td>\n",
       "      <td>chevrolet</td>\n",
       "    </tr>\n",
       "    <tr>\n",
       "      <th>1</th>\n",
       "      <td>15.0</td>\n",
       "      <td>8</td>\n",
       "      <td>350.0</td>\n",
       "      <td>165.0</td>\n",
       "      <td>3693</td>\n",
       "      <td>11.5</td>\n",
       "      <td>70</td>\n",
       "      <td>usa</td>\n",
       "      <td>skylark 320</td>\n",
       "      <td>buick</td>\n",
       "    </tr>\n",
       "    <tr>\n",
       "      <th>2</th>\n",
       "      <td>18.0</td>\n",
       "      <td>8</td>\n",
       "      <td>318.0</td>\n",
       "      <td>150.0</td>\n",
       "      <td>3436</td>\n",
       "      <td>11.0</td>\n",
       "      <td>70</td>\n",
       "      <td>usa</td>\n",
       "      <td>satellite</td>\n",
       "      <td>plymouth</td>\n",
       "    </tr>\n",
       "    <tr>\n",
       "      <th>3</th>\n",
       "      <td>16.0</td>\n",
       "      <td>8</td>\n",
       "      <td>304.0</td>\n",
       "      <td>150.0</td>\n",
       "      <td>3433</td>\n",
       "      <td>12.0</td>\n",
       "      <td>70</td>\n",
       "      <td>usa</td>\n",
       "      <td>rebel sst</td>\n",
       "      <td>amc</td>\n",
       "    </tr>\n",
       "    <tr>\n",
       "      <th>4</th>\n",
       "      <td>17.0</td>\n",
       "      <td>8</td>\n",
       "      <td>302.0</td>\n",
       "      <td>140.0</td>\n",
       "      <td>3449</td>\n",
       "      <td>10.5</td>\n",
       "      <td>70</td>\n",
       "      <td>usa</td>\n",
       "      <td>torino</td>\n",
       "      <td>ford</td>\n",
       "    </tr>\n",
       "  </tbody>\n",
       "</table>\n",
       "</div>"
      ],
      "text/plain": [
       "    mpg  cylinders  displacement  horsepower  weight  acceleration  \\\n",
       "0  18.0          8         307.0       130.0    3504          12.0   \n",
       "1  15.0          8         350.0       165.0    3693          11.5   \n",
       "2  18.0          8         318.0       150.0    3436          11.0   \n",
       "3  16.0          8         304.0       150.0    3433          12.0   \n",
       "4  17.0          8         302.0       140.0    3449          10.5   \n",
       "\n",
       "   model_year origin             name       make  \n",
       "0          70    usa  chevelle malibu  chevrolet  \n",
       "1          70    usa      skylark 320      buick  \n",
       "2          70    usa        satellite   plymouth  \n",
       "3          70    usa        rebel sst        amc  \n",
       "4          70    usa           torino       ford  "
      ]
     },
     "execution_count": 8,
     "metadata": {},
     "output_type": "execute_result"
    }
   ],
   "source": [
    "# Remove the make from the \"name\" column\n",
    "mpg_df_dropna.loc[:, \"name\"] = mpg_df_dropna[\"name\"].str.split(\" \", n=1, expand=True)[1]\n",
    "mpg_df_dropna.head(5)"
   ]
  },
  {
   "cell_type": "markdown",
   "id": "23ffc3d3-6275-4323-89a5-875cde3d84bf",
   "metadata": {
    "editable": false,
    "slideshow": {
     "slide_type": ""
    },
    "tags": []
   },
   "source": [
    "And finally, rename `name` to `model`"
   ]
  },
  {
   "cell_type": "code",
   "execution_count": 9,
   "id": "d48331b3-1fc4-4dcd-8a12-ab2423753cf0",
   "metadata": {
    "editable": true,
    "slideshow": {
     "slide_type": ""
    },
    "tags": []
   },
   "outputs": [
    {
     "name": "stdout",
     "output_type": "stream",
     "text": [
      "<class 'pandas.core.frame.DataFrame'>\n",
      "Index: 392 entries, 0 to 397\n",
      "Data columns (total 10 columns):\n",
      " #   Column        Non-Null Count  Dtype  \n",
      "---  ------        --------------  -----  \n",
      " 0   mpg           392 non-null    float64\n",
      " 1   cylinders     392 non-null    int64  \n",
      " 2   displacement  392 non-null    float64\n",
      " 3   horsepower    392 non-null    float64\n",
      " 4   weight        392 non-null    int64  \n",
      " 5   acceleration  392 non-null    float64\n",
      " 6   model_year    392 non-null    int64  \n",
      " 7   origin        392 non-null    object \n",
      " 8   model         390 non-null    object \n",
      " 9   make          392 non-null    object \n",
      "dtypes: float64(4), int64(3), object(3)\n",
      "memory usage: 33.7+ KB\n"
     ]
    }
   ],
   "source": [
    "# Rename the \"name\" column to \"model\"\n",
    "mpg_df_clean = mpg_df_dropna.rename(columns={\"name\": \"model\"})\n",
    "\n",
    "mpg_df_clean.info()"
   ]
  },
  {
   "cell_type": "markdown",
   "id": "0fb0959c-510f-459d-9122-2a22c303dc0e",
   "metadata": {
    "editable": false,
    "slideshow": {
     "slide_type": ""
    },
    "tags": []
   },
   "source": [
    "Even after splitting the name column, there's a good chance we might still have inconsistencies in how the car makes are represented. \n",
    "\n",
    "Typos, abbreviations, or variations in spelling can lead to different entries for the same manufacturer.\n",
    "\n",
    "Let's examine the unique values in our newly created make column using the `.unique()` method to identify any such inconsistencies."
   ]
  },
  {
   "cell_type": "code",
   "execution_count": 10,
   "id": "9d39ff70-2a72-461c-b264-84838d5005c4",
   "metadata": {
    "editable": true,
    "slideshow": {
     "slide_type": ""
    },
    "tags": []
   },
   "outputs": [
    {
     "data": {
      "text/plain": [
       "array(['chevrolet', 'buick', 'plymouth', 'amc', 'ford', 'pontiac',\n",
       "       'dodge', 'toyota', 'datsun', 'volkswagen', 'peugeot', 'audi',\n",
       "       'saab', 'bmw', 'chevy', 'hi', 'mercury', 'opel', 'fiat',\n",
       "       'oldsmobile', 'chrysler', 'mazda', 'volvo', 'renault', 'toyouta',\n",
       "       'maxda', 'honda', 'subaru', 'chevroelt', 'capri', 'vw',\n",
       "       'mercedes-benz', 'cadillac', 'mercedes', 'vokswagen', 'triumph',\n",
       "       'nissan'], dtype=object)"
      ]
     },
     "execution_count": 10,
     "metadata": {},
     "output_type": "execute_result"
    }
   ],
   "source": [
    "## Inspect Unique Makes\n",
    "mpg_df_clean[\"make\"].unique()"
   ]
  },
  {
   "cell_type": "markdown",
   "id": "ba5b38fa-7cb1-4092-8574-8edbc8637667",
   "metadata": {
    "editable": false,
    "slideshow": {
     "slide_type": ""
    },
    "tags": []
   },
   "source": [
    "Let's standardize the car make entries in our make column to ensure consistent grouping. We'll use the `.replace()` method, which offers flexibility in how we define our replacements. We can replace one string at a time or use a dictionary for multiple replacements.\n",
    "\n",
    "Based on the unique values you likely observed in the previous step, let's assume we identified some common inconsistencies like abbreviations or misspellings. We can now create a dictionary to map these variations to their standard full make names.\n",
    "\n",
    "Here is the dictionary that we will use:\n",
    "\n",
    "```python\n",
    "replacement_dictionary = {\n",
    "    \"vokswagen\": \"volkswagen\",\n",
    "    \"vw\": \"volkswagen\",\n",
    "    \"toyouta\": \"toyota\",\n",
    "    \"maxda\": \"mazda\",\n",
    "    \"chevroelt\": \"chevrolet\",\n",
    "    \"chevy\": \"chevrolet\",\n",
    "    \"hi\": \"ih\"  \n",
    "}\n",
    "```"
   ]
  },
  {
   "cell_type": "code",
   "execution_count": 11,
   "id": "119304f7-8c37-436b-82d5-73df536da604",
   "metadata": {
    "editable": true,
    "slideshow": {
     "slide_type": ""
    },
    "tags": []
   },
   "outputs": [
    {
     "name": "stderr",
     "output_type": "stream",
     "text": [
      "/var/folders/nw/qfc0h_7d6tx63xx9wlbq947h0000gn/T/ipykernel_5827/1248898781.py:12: FutureWarning: A value is trying to be set on a copy of a DataFrame or Series through chained assignment using an inplace method.\n",
      "The behavior will change in pandas 3.0. This inplace method will never work because the intermediate object on which we are setting values always behaves as a copy.\n",
      "\n",
      "For example, when doing 'df[col].method(value, inplace=True)', try using 'df.method({col: value}, inplace=True)' or df[col] = df[col].method(value) instead, to perform the operation inplace on the original object.\n",
      "\n",
      "\n",
      "  mpg_df_clean['make'].replace(replacement_dictionary, inplace=True)\n"
     ]
    },
    {
     "data": {
      "text/plain": [
       "array(['chevrolet', 'buick', 'plymouth', 'amc', 'ford', 'pontiac',\n",
       "       'dodge', 'toyota', 'datsun', 'volkswagen', 'peugeot', 'audi',\n",
       "       'saab', 'bmw', 'ih', 'mercury', 'opel', 'fiat', 'oldsmobile',\n",
       "       'chrysler', 'mazda', 'volvo', 'renault', 'honda', 'subaru',\n",
       "       'capri', 'mercedes-benz', 'cadillac', 'mercedes', 'triumph',\n",
       "       'nissan'], dtype=object)"
      ]
     },
     "execution_count": 11,
     "metadata": {},
     "output_type": "execute_result"
    }
   ],
   "source": [
    "# Replace Typos\n",
    "replacement_dictionary = {\n",
    "    \"vokswagen\": \"volkswagen\",\n",
    "    \"vw\": \"volkswagen\",\n",
    "    \"toyouta\": \"toyota\",\n",
    "    \"maxda\": \"mazda\",\n",
    "    \"chevroelt\": \"chevrolet\",\n",
    "    \"chevy\": \"chevrolet\",\n",
    "    \"hi\": \"ih\"  \n",
    "}\n",
    "\n",
    "mpg_df_clean['make'].replace(replacement_dictionary, inplace=True)\n",
    "\n",
    "mpg_df_clean[\"make\"].unique()"
   ]
  },
  {
   "cell_type": "markdown",
   "id": "63959155-bad2-4078-85d6-6085d042c0ae",
   "metadata": {
    "editable": false,
    "slideshow": {
     "slide_type": ""
    },
    "tags": []
   },
   "source": [
    "### Visualizations\n",
    "\n",
    "Before we dive into the power of `groupby()`, let's create some basic visualizations to get a general sense of the relationships between different variables in our cleaned dataset. \n",
    "\n",
    "This will help us identify potential areas where grouping and aggregation might reveal interesting insights."
   ]
  },
  {
   "cell_type": "markdown",
   "id": "32d52ed6-e779-4133-a2cd-6f009472a982",
   "metadata": {
    "editable": false,
    "slideshow": {
     "slide_type": ""
    },
    "tags": []
   },
   "source": [
    "#### Bar Plot - Country of Origin\n",
    "\n",
    "Let's visualize the distribution of cars in our cleaned dataset based on their country of origin using a bar plot. \n",
    "\n",
    "This will give us a sense of how many cars in our sample come from the USA, Europe, and Asia."
   ]
  },
  {
   "cell_type": "code",
   "execution_count": 12,
   "id": "4c7fbfef-6c2e-4dc9-8e5c-71173e9b69d6",
   "metadata": {
    "editable": true,
    "slideshow": {
     "slide_type": ""
    },
    "tags": []
   },
   "outputs": [
    {
     "data": {
      "image/png": "[encoded data removed]",
      "text/plain": [
       "<Figure size 1000x500 with 1 Axes>"
      ]
     },
     "metadata": {},
     "output_type": "display_data"
    }
   ],
   "source": [
    "### Bar Plot - Country of Origin\n",
    "\n",
    "plt.figure(figsize=(10,5))\n",
    "ax = sns.countplot(x = 'origin', data = mpg_df_clean, color = '#4287f5')\n",
    "ax.bar_label(ax.containers[0], label_type='edge')\n",
    "plt.title(\"Country of Origin Distribution\", fontsize = 20)\n",
    "plt.xlabel(\"Country\", fontsize = 15)\n",
    "plt.ylabel(\"Count\", fontsize = 15)\n",
    "plt.show()"
   ]
  },
  {
   "cell_type": "markdown",
   "id": "f750d311-d0fc-41b8-8d4b-4b92367824bb",
   "metadata": {
    "editable": false,
    "slideshow": {
     "slide_type": ""
    },
    "tags": []
   },
   "source": [
    "### Line Plot - Model Year vs. MPG\n",
    "\n",
    "Let's explore how fuel efficiency (MPG) has trended over the different model years in our dataset using a line plot."
   ]
  },
  {
   "cell_type": "code",
   "execution_count": 13,
   "id": "e5ee11a2-e010-4e11-b3f6-54976ca5836a",
   "metadata": {
    "editable": true,
    "slideshow": {
     "slide_type": ""
    },
    "tags": []
   },
   "outputs": [
    {
     "data": {
      "text/plain": [
       "<Axes: title={'center': 'model year against mpg\\n'}, xlabel='model year\\n', ylabel='mpg\\n'>"
      ]
     },
     "execution_count": 13,
     "metadata": {},
     "output_type": "execute_result"
    },
    {
     "data": {
      "image/png": "[encoded data removed]",
      "text/plain": [
       "<Figure size 1000x500 with 1 Axes>"
      ]
     },
     "metadata": {},
     "output_type": "display_data"
    }
   ],
   "source": [
    "## Begin Visual\n",
    "plt.figure(figsize=(10,5), dpi=100)\n",
    "plt.title(\"model year against mpg\\n\", fontsize = 18)\n",
    "plt.xlabel(\"model year\\n\", fontsize = 12)\n",
    "plt.ylabel(\"mpg\\n\", fontsize = 12)\n",
    "sns.lineplot(x = 'model_year', \n",
    "             y = 'mpg', \n",
    "             data = mpg_df_clean)\n",
    "## End Visual"
   ]
  },
  {
   "cell_type": "markdown",
   "id": "b6ff1a2d-aeb0-405b-b7a5-a1cc81a6515d",
   "metadata": {
    "editable": true,
    "jp-MarkdownHeadingCollapsed": true,
    "slideshow": {
     "slide_type": ""
    },
    "tags": []
   },
   "source": [
    "## Split-Apply-Combine: The Concept Behind Groupby\n",
    "\n",
    "<center><img src=\"../images/stock/pexels-arnie-chou-304906-1877271.jpg\"></center>\n",
    "\n",
    "The `groupby()` method is based on the split-apply-combine strategy:\n",
    "\n",
    "* __Split:__ The data is divided into groups based on one or more columns.\n",
    "\n",
    "* __Apply:__ You apply a function (e.g., mean, sum, count) to each group independently.\n",
    "\n",
    "* __Combine:__ The results from each group are combined into a new data structure."
   ]
  },
  {
   "cell_type": "markdown",
   "id": "145ebd76-6f56-458f-bd01-42b7f8677b23",
   "metadata": {
    "editable": true,
    "slideshow": {
     "slide_type": ""
    },
    "tags": []
   },
   "source": [
    "## Understanding Groupby\n",
    "\n",
    "Let's break down the `groupby()` method step by step.\n",
    "\n",
    "* What is a Groupby Object?\n",
    "\n",
    "    * When you apply the `groupby()` method to a DataFrame, it doesn't immediately perform calculations. \n",
    "    * Instead, it creates a DataFrameGroupBy object. \n",
    "    * This object contains information about how the data has been split into groups, but the calculations are deferred until you specify an aggregation function.\n",
    "\n",
    "__Syntax__\n",
    "\n",
    "The basic syntax for `groupby()` is:\n",
    "\n",
    "```python\n",
    "df.groupby(column_name)\n",
    "```\n",
    "\n",
    "* `df`: The Pandas DataFrame you want to group.\n",
    "\n",
    "* `column_name`: The column name (or a list of column names) that you want to group the data by."
   ]
  },
  {
   "cell_type": "markdown",
   "id": "553153a6-f28f-4b89-89cd-c65d0c3a8567",
   "metadata": {
    "editable": false,
    "slideshow": {
     "slide_type": ""
    },
    "tags": []
   },
   "source": [
    "### Example: Grouping by Origin\n",
    "\n",
    "Now, let's get to the heart of this lesson: using the `groupby()` method. \n",
    "\n",
    "We'll start with a simple example by grouping our DataFrame based on the `origin` column. \n",
    "\n",
    "This will categorize our data into three groups: cars from the USA, Europe, and Asia."
   ]
  },
  {
   "cell_type": "code",
   "execution_count": 14,
   "id": "fbe67ea8-1a5a-4ff5-8547-c7d99f648d69",
   "metadata": {
    "editable": true,
    "slideshow": {
     "slide_type": ""
    },
    "tags": []
   },
   "outputs": [
    {
     "data": {
      "text/plain": [
       "<pandas.core.groupby.generic.DataFrameGroupBy object at 0x1435aa8a0>"
      ]
     },
     "execution_count": 14,
     "metadata": {},
     "output_type": "execute_result"
    }
   ],
   "source": [
    "## Begin Example\n",
    "origin_grouped = mpg_df_clean.groupby(\"origin\")\n",
    "\n",
    "origin_grouped"
   ]
  },
  {
   "cell_type": "markdown",
   "id": "591c7def-9dde-4237-a977-2f93e7329575",
   "metadata": {
    "editable": false,
    "slideshow": {
     "slide_type": ""
    },
    "tags": []
   },
   "source": [
    "The output of `.groupby()` will be a `DataFrameGroupBy` object. \n",
    "\n",
    "This object signifies that the data has been successfully organized into groups based on the unique values in the `origin` column (USA, Europe, Asia). \n",
    "\n",
    "However, it's important to remember that this is an intermediate step. No actual calculations or aggregations have been applied to these groups yet. \n",
    "\n",
    "To gain meaningful insights, we need to tell Pandas what kind of operation we want to perform on each of these origin-based groups, such as calculating the mean, sum, or count of specific columns. \n",
    "\n",
    "The DataFrameGroupBy object provides the structure for these subsequent aggregation operations."
   ]
  },
  {
   "cell_type": "markdown",
   "id": "8ab4aecd-bd9a-4568-8a36-311b70032d1e",
   "metadata": {
    "editable": false,
    "slideshow": {
     "slide_type": ""
    },
    "tags": []
   },
   "source": [
    "## Applying Aggregation Functions\n",
    "\n",
    "<center><img src=\"../images/stock/pexels-padrinan-3785930.jpg\"></center>\n",
    "\n",
    "With our data now organized into groups based on the `origin` of the cars, the next powerful step is to apply aggregation functions. \n",
    "\n",
    "These functions allow us to calculate summary statistics for each group, providing us with valuable insights into the characteristics of cars from different regions. \n",
    "\n",
    "Let's explore some common aggregation functions in Pandas."
   ]
  },
  {
   "cell_type": "markdown",
   "id": "dd8b9d36-bb22-4d74-9f2a-fbd9378984d8",
   "metadata": {
    "editable": false,
    "slideshow": {
     "slide_type": ""
    },
    "tags": []
   },
   "source": [
    "### Mean\n",
    "\n",
    "To answer the question of which country produced the most and least fuel-efficient vehicles in our dataset, we can calculate the average MPG for each country of origin using the `.mean()` aggregation function.\n",
    "\n",
    "Let's apply this to our group object, specifically focusing on the `mpg` column."
   ]
  },
  {
   "cell_type": "code",
   "execution_count": 15,
   "id": "9136ed21-0626-4605-bda3-564a86a9c4a1",
   "metadata": {
    "editable": true,
    "slideshow": {
     "slide_type": ""
    },
    "tags": []
   },
   "outputs": [
    {
     "data": {
      "text/plain": [
       "origin\n",
       "europe    27.602941\n",
       "japan     30.450633\n",
       "usa       20.033469\n",
       "Name: mpg, dtype: float64"
      ]
     },
     "execution_count": 15,
     "metadata": {},
     "output_type": "execute_result"
    }
   ],
   "source": [
    "## Begin Calculation\n",
    "origin_mpg_mean = origin_grouped[\"mpg\"].mean()\n",
    "origin_mpg_mean"
   ]
  },
  {
   "cell_type": "code",
   "execution_count": 16,
   "id": "96e686f2-8620-4172-9660-780dd8fe8f5d",
   "metadata": {
    "editable": true,
    "slideshow": {
     "slide_type": ""
    },
    "tags": []
   },
   "outputs": [
    {
     "data": {
      "image/png": "[encoded data removed]",
      "text/plain": [
       "<Figure size 800x600 with 1 Axes>"
      ]
     },
     "metadata": {},
     "output_type": "display_data"
    }
   ],
   "source": [
    "# Visualize Horsepower by Origin\n",
    "origins = origin_mpg_mean.index\n",
    "mpg_values = origin_mpg_mean.values\n",
    "\n",
    "plt.figure(figsize=(8,6), dpi=100)\n",
    "plt.bar(origins,\n",
    "        mpg_values,\n",
    "        color = [\"skyblue\",\n",
    "                 \"lightcoral\",\n",
    "                 \"lightgreen\"])\n",
    "plt.title(\"Average City MPG by Country\\n\")\n",
    "plt.xlabel(\"\\nCountry of Origin\")\n",
    "plt.ylabel(\"Average City MPG\\n\")\n",
    "plt.grid(axis=\"y\", linestyle=\"--\")\n",
    "plt.tight_layout()"
   ]
  },
  {
   "cell_type": "markdown",
   "id": "2d6ae026-18bc-4f1b-9a9a-ad043efb77e0",
   "metadata": {
    "editable": false,
    "slideshow": {
     "slide_type": ""
    },
    "tags": []
   },
   "source": [
    "### Sum\n",
    "\n",
    "To determine which country of origin produced the highest total horsepower across all its car models in the dataset, we can use the `.sum()` aggregation function after grouping by `origin`."
   ]
  },
  {
   "cell_type": "code",
   "execution_count": 17,
   "id": "e404d9c5-1725-4982-841a-2e8d620a0c0b",
   "metadata": {
    "editable": true,
    "slideshow": {
     "slide_type": ""
    },
    "tags": []
   },
   "outputs": [
    {
     "data": {
      "text/plain": [
       "origin\n",
       "europe     5478.0\n",
       "japan      6307.0\n",
       "usa       29167.0\n",
       "Name: horsepower, dtype: float64"
      ]
     },
     "execution_count": 17,
     "metadata": {},
     "output_type": "execute_result"
    }
   ],
   "source": [
    "## Begin Calculation\n",
    "origin_hp_sum = origin_grouped[\"horsepower\"].sum()\n",
    "origin_hp_sum"
   ]
  },
  {
   "cell_type": "code",
   "execution_count": 18,
   "id": "e2af5f96-e30d-492a-a8da-8a353c11cd25",
   "metadata": {},
   "outputs": [
    {
     "data": {
      "image/png": "[encoded data removed]",
      "text/plain": [
       "<Figure size 800x600 with 1 Axes>"
      ]
     },
     "metadata": {},
     "output_type": "display_data"
    }
   ],
   "source": [
    "## Begin Visualization\n",
    "origins = origin_hp_sum.index\n",
    "hp_values = origin_hp_sum.values\n",
    "\n",
    "plt.figure(figsize=(8,6), dpi=100)\n",
    "plt.bar(origins,\n",
    "        hp_values,\n",
    "        color = [\"skyblue\",\n",
    "                 \"lightcoral\",\n",
    "                 \"lightgreen\"])\n",
    "plt.title(\"Automotive Total Horsepower by Country\\n\")\n",
    "plt.xlabel(\"\\nCountry of Origin\")\n",
    "plt.ylabel(\"Total Hosepower\\n\")\n",
    "plt.grid(axis=\"y\", linestyle=\"--\")\n",
    "plt.tight_layout() "
   ]
  },
  {
   "cell_type": "markdown",
   "id": "436f67a6-1102-42b3-8c37-6cbf300390fa",
   "metadata": {
    "editable": true,
    "slideshow": {
     "slide_type": ""
    },
    "tags": []
   },
   "source": [
    "### Groupby Revisited\n",
    "\n",
    "When we use `.groupby()`, imagine sorting your entire dataset into separate bins, where each bin holds rows that share the same value in a specific column. In our case with the `mpg` dataset, we used `.groupby('origin')` to create distinct groups: one containing all American cars, another for European cars, and a third for Japanese cars.\n",
    "\n",
    "<center> Original Data Set</center>\n",
    "\n",
    "| mpg | cylinders | origin |\n",
    "|-----|-----------|--------|\n",
    "| 18  |     8     |  USA   |\n",
    "| 15  |     8     |  USA   |\n",
    "| 24  |     4     | Europe |\n",
    "| 31  |     4     | Japan  |\n",
    "| 22  |     8     |  USA   |\n",
    "| 35  |     4     | Japan  |\n",
    "| 28  |     4     | Europe |\n",
    "| ... |     ...   |  ...   |\n",
    "\n",
    "\n",
    "<center>USA Group</center>\n",
    "\n",
    "| mpg | cylinders | origin |\n",
    "|-----|-----------|--------|\n",
    "| 18  |     8     |  USA   |\n",
    "| 15  |     8     |  USA   |\n",
    "| 22  |     8     |  USA   |\n",
    "| ... |     ...   |  USA   |\n",
    "\n",
    "<center>Europe Group</center>\n",
    "\n",
    "| mpg | cylinders | origin |\n",
    "|-----|-----------|--------|\n",
    "| 24  |     4     | Europe |\n",
    "| 22  |     6     | Europe |\n",
    "| 28  |     4     | Europe |\n",
    "| ... |     ...   | Europe |\n",
    "\n",
    "<center>Japan Group</center>\n",
    "\n",
    "| mpg | cylinders | origin |\n",
    "|-----|-----------|--------|\n",
    "| 31  |     4     | Japan  |\n",
    "| 35  |     4     | Japan  |\n",
    "| 32  |     4     | Japan  |\n",
    "| ... |     ...   | Japan  |\n",
    "\n",
    "         \n",
    "Once these groups are formed, we can then apply aggregate functions like .mean() to each individual bin. So, when we calculated `.mean()` on the `'mpg'` column after grouping by 'origin', we effectively found the average miles per gallon within each of those origin-specific groups.\n",
    "\n",
    "<center>The resulting Series of Average MPG</center>\n",
    "\n",
    "| Origin |  |\n",
    "|--------|-------------------|\n",
    "| europe | 27.602941         |\n",
    "| japan  | 30.450633         |\n",
    "| usa    | 20.033469         |\n",
    "\n",
    "\n",
    "This powerful tool allows us to analyze trends and differences across various categories within our data, providing valuable insights that might be hidden in the overall dataset."
   ]
  },
  {
   "cell_type": "markdown",
   "id": "cf660265-b26b-4e04-bec4-b5a1420b2677",
   "metadata": {
    "editable": true,
    "slideshow": {
     "slide_type": ""
    },
    "tags": []
   },
   "source": [
    "### Other Useful Aggregation Functions\n",
    "\n",
    "Here are some other commonly used aggregation functions:\n",
    "\n",
    "* __`count().`__: Number of non-null values in each group.\n",
    "\n",
    "* __`min().`__: Minimum value in each group.\n",
    "\n",
    "* __`max().`__: Maximum value in each group.\n",
    "\n",
    "* __`any().`__: Returns True if any value in the group is True.\n",
    "\n",
    "* __`all().`__: Returns True if all values in the group are True.\n",
    "\n",
    "* __`median.`__(): Median value of each group.\n",
    "\n",
    "* __`std().`__: Standard deviation of each group."
   ]
  },
  {
   "cell_type": "markdown",
   "id": "a8ebee23-655a-4af2-a0eb-41d8e71c5d40",
   "metadata": {
    "editable": false,
    "slideshow": {
     "slide_type": ""
    },
    "tags": []
   },
   "source": [
    "## Groupby Multiple Columns\n",
    "\n",
    "<center><img src=\"../images/stock/pexels-vividcafe-681335.jpg\"></center>\n",
    "\n",
    "The power of `.groupby()` extends beyond just a single column. \n",
    "\n",
    "You can also group your data based on the unique combinations of values from multiple columns. This allows for even more granular analysis and the creation of more specific subgroups within your data. \n",
    "\n",
    "When you group by multiple columns, the resulting structure will have a hierarchical index (also known as a MultiIndex), reflecting the different levels of grouping you've applied.\n",
    "\n",
    "Let's build upon our previous example and perform a more detailed analysis. We'll group our DataFrame by both `make` and `model_year`, and then calculate the average MPG for each unique combination of these two factors. \n",
    "\n",
    "This will allow us to see how the fuel efficiency of specific car manufacturers has changed over the years."
   ]
  },
  {
   "cell_type": "code",
   "execution_count": 19,
   "id": "c88cb153-6b61-4e45-9e52-89f2422400a5",
   "metadata": {
    "editable": true,
    "slideshow": {
     "slide_type": ""
    },
    "tags": []
   },
   "outputs": [
    {
     "data": {
      "text/plain": [
       "<pandas.core.groupby.generic.DataFrameGroupBy object at 0x1435d51f0>"
      ]
     },
     "execution_count": 19,
     "metadata": {},
     "output_type": "execute_result"
    }
   ],
   "source": [
    "# Group by Make and Model Year\n",
    "make_year_grouped = mpg_df_clean.groupby([\"make\", \"model_year\"])\n",
    "make_year_grouped"
   ]
  },
  {
   "cell_type": "code",
   "execution_count": 20,
   "id": "6160d130-2840-41ff-983f-3644ac504235",
   "metadata": {
    "editable": true,
    "slideshow": {
     "slide_type": ""
    },
    "tags": []
   },
   "outputs": [
    {
     "data": {
      "text/plain": [
       "make   model_year\n",
       "amc    70            17.500000\n",
       "       71            18.333333\n",
       "       72            16.000000\n",
       "       73            15.750000\n",
       "       74            16.333333\n",
       "       75            18.000000\n",
       "       76            18.500000\n",
       "       78            18.750000\n",
       "       79            23.800000\n",
       "       80            24.300000\n",
       "audi   70            24.000000\n",
       "       73            20.000000\n",
       "       74            29.000000\n",
       "       75            23.000000\n",
       "       78            20.300000\n",
       "       80            35.350000\n",
       "bmw    70            26.000000\n",
       "       77            21.500000\n",
       "buick  70            14.500000\n",
       "       72            13.000000\n",
       "       73            12.500000\n",
       "       74            13.000000\n",
       "       75            19.000000\n",
       "       77            25.250000\n",
       "       78            19.150000\n",
       "Name: mpg, dtype: float64"
      ]
     },
     "execution_count": 20,
     "metadata": {},
     "output_type": "execute_result"
    }
   ],
   "source": [
    "# Get Average MPG\n",
    "make_year_mpg_mean = make_year_grouped['mpg'].mean()\n",
    "make_year_mpg_mean.head(25)"
   ]
  },
  {
   "cell_type": "markdown",
   "id": "a51248be-5a5c-491f-982d-83844794075f",
   "metadata": {
    "editable": false,
    "slideshow": {
     "slide_type": ""
    },
    "tags": []
   },
   "source": [
    "### MultiIndex\n",
    "When you group a DataFrame by multiple columns, the resulting Series or DataFrame often has a MultiIndex. This means that the index itself has multiple levels, corresponding to the columns you used in the `.groupby()` operation.\n",
    "\n",
    "In the case of grouping by `make` and `model_year`, the resulting Series from calculating the mean MPG would have a MultiIndex where the first level is `make` and the second level is `model_year`.\n",
    "\n",
    "To access a specific value in a Series or DataFrame with a MultiIndex, you can use `.loc[]` with a tuple containing the values for each level of the index. \n",
    "\n",
    "The order in the tuple corresponds to the order of the columns you used in the `groupby()` function."
   ]
  },
  {
   "cell_type": "code",
   "execution_count": 21,
   "id": "d04b8218-604a-4aac-8d80-fd720af84047",
   "metadata": {},
   "outputs": [
    {
     "data": {
      "text/plain": [
       "np.float64(38.5)"
      ]
     },
     "execution_count": 21,
     "metadata": {},
     "output_type": "execute_result"
    }
   ],
   "source": [
    "## Accessing MultiIndex Elements\n",
    "make_year_mpg_mean.loc[('honda', 80)]"
   ]
  },
  {
   "cell_type": "markdown",
   "id": "5bb15fb0-6ee5-4ef5-b0b5-44663347040d",
   "metadata": {
    "editable": false,
    "slideshow": {
     "slide_type": ""
    },
    "tags": []
   },
   "source": [
    "### Resetting the Index\n",
    "\n",
    "As we've seen, grouping by multiple columns creates a hierarchical index (MultiIndex) in the resulting Pandas Series or DataFrame. While MultiIndexes are powerful for advanced data manipulation, sometimes it's more convenient to have the grouping columns (`make` and `model_year` in our previous example) as regular, flat columns in the DataFrame.\n",
    "\n",
    "To achieve this, we can use the `.reset_index()` method on the Series or DataFrame that results from the `.groupby()` operation. This will convert the levels of the MultiIndex into new columns with their respective names, and a new default integer index will be assigned to the DataFrame.\n",
    "\n",
    "Let's apply `.reset_index()` to our MultiIndex Series:"
   ]
  },
  {
   "cell_type": "code",
   "execution_count": 22,
   "id": "8209cead-f2df-491d-a764-928dae419b71",
   "metadata": {
    "editable": true,
    "slideshow": {
     "slide_type": ""
    },
    "tags": []
   },
   "outputs": [
    {
     "data": {
      "text/html": [
       "<div>\n",
       "<style scoped>\n",
       "    .dataframe tbody tr th:only-of-type {\n",
       "        vertical-align: middle;\n",
       "    }\n",
       "\n",
       "    .dataframe tbody tr th {\n",
       "        vertical-align: top;\n",
       "    }\n",
       "\n",
       "    .dataframe thead th {\n",
       "        text-align: right;\n",
       "    }\n",
       "</style>\n",
       "<table border=\"1\" class=\"dataframe\">\n",
       "  <thead>\n",
       "    <tr style=\"text-align: right;\">\n",
       "      <th></th>\n",
       "      <th>make</th>\n",
       "      <th>model_year</th>\n",
       "      <th>mpg</th>\n",
       "    </tr>\n",
       "  </thead>\n",
       "  <tbody>\n",
       "    <tr>\n",
       "      <th>0</th>\n",
       "      <td>amc</td>\n",
       "      <td>70</td>\n",
       "      <td>17.500000</td>\n",
       "    </tr>\n",
       "    <tr>\n",
       "      <th>1</th>\n",
       "      <td>amc</td>\n",
       "      <td>71</td>\n",
       "      <td>18.333333</td>\n",
       "    </tr>\n",
       "    <tr>\n",
       "      <th>2</th>\n",
       "      <td>amc</td>\n",
       "      <td>72</td>\n",
       "      <td>16.000000</td>\n",
       "    </tr>\n",
       "    <tr>\n",
       "      <th>3</th>\n",
       "      <td>amc</td>\n",
       "      <td>73</td>\n",
       "      <td>15.750000</td>\n",
       "    </tr>\n",
       "    <tr>\n",
       "      <th>4</th>\n",
       "      <td>amc</td>\n",
       "      <td>74</td>\n",
       "      <td>16.333333</td>\n",
       "    </tr>\n",
       "    <tr>\n",
       "      <th>...</th>\n",
       "      <td>...</td>\n",
       "      <td>...</td>\n",
       "      <td>...</td>\n",
       "    </tr>\n",
       "    <tr>\n",
       "      <th>201</th>\n",
       "      <td>volvo</td>\n",
       "      <td>73</td>\n",
       "      <td>19.000000</td>\n",
       "    </tr>\n",
       "    <tr>\n",
       "      <th>202</th>\n",
       "      <td>volvo</td>\n",
       "      <td>75</td>\n",
       "      <td>22.000000</td>\n",
       "    </tr>\n",
       "    <tr>\n",
       "      <th>203</th>\n",
       "      <td>volvo</td>\n",
       "      <td>76</td>\n",
       "      <td>20.000000</td>\n",
       "    </tr>\n",
       "    <tr>\n",
       "      <th>204</th>\n",
       "      <td>volvo</td>\n",
       "      <td>78</td>\n",
       "      <td>17.000000</td>\n",
       "    </tr>\n",
       "    <tr>\n",
       "      <th>205</th>\n",
       "      <td>volvo</td>\n",
       "      <td>81</td>\n",
       "      <td>30.700000</td>\n",
       "    </tr>\n",
       "  </tbody>\n",
       "</table>\n",
       "<p>206 rows × 3 columns</p>\n",
       "</div>"
      ],
      "text/plain": [
       "      make  model_year        mpg\n",
       "0      amc          70  17.500000\n",
       "1      amc          71  18.333333\n",
       "2      amc          72  16.000000\n",
       "3      amc          73  15.750000\n",
       "4      amc          74  16.333333\n",
       "..     ...         ...        ...\n",
       "201  volvo          73  19.000000\n",
       "202  volvo          75  22.000000\n",
       "203  volvo          76  20.000000\n",
       "204  volvo          78  17.000000\n",
       "205  volvo          81  30.700000\n",
       "\n",
       "[206 rows x 3 columns]"
      ]
     },
     "execution_count": 22,
     "metadata": {},
     "output_type": "execute_result"
    }
   ],
   "source": [
    "## Reset the Index\n",
    "make_year_mpg_mean = make_year_mpg_mean.reset_index()\n",
    "make_year_mpg_mean"
   ]
  },
  {
   "cell_type": "markdown",
   "id": "a2db3f91-9bb4-4863-9cb3-94fbb82b0812",
   "metadata": {
    "editable": false,
    "slideshow": {
     "slide_type": ""
    },
    "tags": []
   },
   "source": [
    "The `.reset_index()` operation transforms the MultiIndex Series into a Pandas DataFrame. \n",
    "\n",
    "The `make` and `model_year` that were previously part of the hierarchical index are now converted into regular columns within this DataFrame. \n",
    "\n",
    "A new, simple numerical index is automatically assigned to the rows, and the average MPG values are stored in a column named `mpg`. This DataFrame format is often more convenient for subsequent analysis and visualization, especially when tools expect the grouping variables as distinct columns."
   ]
  },
  {
   "cell_type": "markdown",
   "id": "d00b83f5-11b9-408b-bf6b-90496cd50b95",
   "metadata": {
    "editable": false,
    "slideshow": {
     "slide_type": ""
    },
    "tags": []
   },
   "source": [
    "## Applying Multiple Aggregation Functions with `.agg()`\n",
    "\n",
    "<center><img src=\"../images/stock/pexels-lina-mamone-661542-1472612.jpg\"></center>\n",
    "\n",
    "While functions like `.mean()` and `.sum()` allow us to calculate a single statistic for each group, Pandas provides the versatile `.agg()` method to apply multiple aggregation functions simultaneously. This can be incredibly useful for getting a more comprehensive summary of your grouped data in one go.\n",
    "\n",
    "The `.agg()` method accepts a variety of arguments:\n",
    "\n",
    "* A single aggregation function (as we've seen with `.mean()` and `.sum()`): This works just like calling the function directly on the grouped selection.\n",
    "A list of aggregation functions: You can pass a list of function names (as strings) or the function objects themselves (e.g., `['mean', 'sum', 'count']` or `[pd.Series.mean, np.sum, 'size']`).\n",
    "\n",
    "* A dictionary where keys are column names and values are the aggregation function(s) to apply to that column: This allows you to apply different aggregations to different columns within the same `groupby()` operation. The values in the dictionary can be a single function or a list of functions."
   ]
  },
  {
   "cell_type": "markdown",
   "id": "e911c7cc-f130-40ab-80c5-46f490b962c6",
   "metadata": {
    "editable": false,
    "slideshow": {
     "slide_type": ""
    },
    "tags": []
   },
   "source": [
    "### Applying Multiple Aggregations to One Column\n",
    "\n",
    "To get a richer understanding of a single variable across our groups, we can use the `.agg()` method to calculate several summary statistics simultaneously. \n",
    "\n",
    "In the following code, we'll group our data by `origin` and then apply multiple aggregation functions to the `mpg` column, giving us a comprehensive overview of the fuel efficiency for cars from each country."
   ]
  },
  {
   "cell_type": "code",
   "execution_count": 27,
   "id": "fcb371de-6c78-4373-924d-f1bb93db8dd4",
   "metadata": {},
   "outputs": [
    {
     "data": {
      "text/html": [
       "<div>\n",
       "<style scoped>\n",
       "    .dataframe tbody tr th:only-of-type {\n",
       "        vertical-align: middle;\n",
       "    }\n",
       "\n",
       "    .dataframe tbody tr th {\n",
       "        vertical-align: top;\n",
       "    }\n",
       "\n",
       "    .dataframe thead th {\n",
       "        text-align: right;\n",
       "    }\n",
       "</style>\n",
       "<table border=\"1\" class=\"dataframe\">\n",
       "  <thead>\n",
       "    <tr style=\"text-align: right;\">\n",
       "      <th></th>\n",
       "      <th>mean</th>\n",
       "      <th>median</th>\n",
       "      <th>min</th>\n",
       "      <th>max</th>\n",
       "      <th>count</th>\n",
       "    </tr>\n",
       "    <tr>\n",
       "      <th>origin</th>\n",
       "      <th></th>\n",
       "      <th></th>\n",
       "      <th></th>\n",
       "      <th></th>\n",
       "      <th></th>\n",
       "    </tr>\n",
       "  </thead>\n",
       "  <tbody>\n",
       "    <tr>\n",
       "      <th>europe</th>\n",
       "      <td>27.602941</td>\n",
       "      <td>26.0</td>\n",
       "      <td>16.2</td>\n",
       "      <td>44.3</td>\n",
       "      <td>68</td>\n",
       "    </tr>\n",
       "    <tr>\n",
       "      <th>japan</th>\n",
       "      <td>30.450633</td>\n",
       "      <td>31.6</td>\n",
       "      <td>18.0</td>\n",
       "      <td>46.6</td>\n",
       "      <td>79</td>\n",
       "    </tr>\n",
       "    <tr>\n",
       "      <th>usa</th>\n",
       "      <td>20.033469</td>\n",
       "      <td>18.5</td>\n",
       "      <td>9.0</td>\n",
       "      <td>39.0</td>\n",
       "      <td>245</td>\n",
       "    </tr>\n",
       "  </tbody>\n",
       "</table>\n",
       "</div>"
      ],
      "text/plain": [
       "             mean  median   min   max  count\n",
       "origin                                      \n",
       "europe  27.602941    26.0  16.2  44.3     68\n",
       "japan   30.450633    31.6  18.0  46.6     79\n",
       "usa     20.033469    18.5   9.0  39.0    245"
      ]
     },
     "execution_count": 27,
     "metadata": {},
     "output_type": "execute_result"
    }
   ],
   "source": [
    "## Begin Example\n",
    "origin_mpg_summary = origin_grouped['mpg'].agg(['mean', 'median', 'min', 'max', 'count'])\n",
    "origin_mpg_summary"
   ]
  },
  {
   "cell_type": "markdown",
   "id": "72dc687d-8183-47ff-bfa2-d4f1f0fc6288",
   "metadata": {
    "editable": false,
    "slideshow": {
     "slide_type": ""
    },
    "tags": []
   },
   "source": [
    "`origin_grouped['mpg'].agg(['mean', 'median', 'min', 'max', 'count'])` selects the `mpg` column for each origin group and then calculates the mean, median, minimum, maximum, and count of values within that group.\n",
    "\n",
    "The result is a DataFrame where the index is `origin` and the columns are the aggregation functions."
   ]
  },
  {
   "cell_type": "markdown",
   "id": "654d7b6e-5fc4-44ee-aadc-1752ce432afe",
   "metadata": {
    "editable": false,
    "slideshow": {
     "slide_type": ""
    },
    "tags": []
   },
   "source": [
    "### Applying Different Aggregations to Different Columns\n",
    "\n",
    "We aren't limited to applying the same aggregation to all columns. \n",
    "\n",
    "Instead, we can specify different summary statistics for different columns within our grouped object. This allows us to tailor our analysis to the specific characteristics of each variable. \n",
    "\n",
    "In the following example, we'll group by `origin` and then calculate different statistics for `mpg`, `horsepower`, `weight`, and `model` to get a more nuanced understanding of the cars from each region."
   ]
  },
  {
   "cell_type": "code",
   "execution_count": 26,
   "id": "d85606af-d6ef-483c-81e9-978fbc8ba8f4",
   "metadata": {
    "editable": true,
    "slideshow": {
     "slide_type": ""
    },
    "tags": []
   },
   "outputs": [
    {
     "data": {
      "text/html": [
       "<div>\n",
       "<style scoped>\n",
       "    .dataframe tbody tr th:only-of-type {\n",
       "        vertical-align: middle;\n",
       "    }\n",
       "\n",
       "    .dataframe tbody tr th {\n",
       "        vertical-align: top;\n",
       "    }\n",
       "\n",
       "    .dataframe thead tr th {\n",
       "        text-align: left;\n",
       "    }\n",
       "\n",
       "    .dataframe thead tr:last-of-type th {\n",
       "        text-align: right;\n",
       "    }\n",
       "</style>\n",
       "<table border=\"1\" class=\"dataframe\">\n",
       "  <thead>\n",
       "    <tr>\n",
       "      <th></th>\n",
       "      <th colspan=\"2\" halign=\"left\">mpg</th>\n",
       "      <th>horsepower</th>\n",
       "      <th>weight</th>\n",
       "      <th>model</th>\n",
       "    </tr>\n",
       "    <tr>\n",
       "      <th></th>\n",
       "      <th>mean</th>\n",
       "      <th>max</th>\n",
       "      <th>mean</th>\n",
       "      <th>median</th>\n",
       "      <th>count</th>\n",
       "    </tr>\n",
       "    <tr>\n",
       "      <th>origin</th>\n",
       "      <th></th>\n",
       "      <th></th>\n",
       "      <th></th>\n",
       "      <th></th>\n",
       "      <th></th>\n",
       "    </tr>\n",
       "  </thead>\n",
       "  <tbody>\n",
       "    <tr>\n",
       "      <th>europe</th>\n",
       "      <td>27.602941</td>\n",
       "      <td>44.3</td>\n",
       "      <td>80.558824</td>\n",
       "      <td>2240.0</td>\n",
       "      <td>68</td>\n",
       "    </tr>\n",
       "    <tr>\n",
       "      <th>japan</th>\n",
       "      <td>30.450633</td>\n",
       "      <td>46.6</td>\n",
       "      <td>79.835443</td>\n",
       "      <td>2155.0</td>\n",
       "      <td>77</td>\n",
       "    </tr>\n",
       "    <tr>\n",
       "      <th>usa</th>\n",
       "      <td>20.033469</td>\n",
       "      <td>39.0</td>\n",
       "      <td>119.048980</td>\n",
       "      <td>3381.0</td>\n",
       "      <td>245</td>\n",
       "    </tr>\n",
       "  </tbody>\n",
       "</table>\n",
       "</div>"
      ],
      "text/plain": [
       "              mpg        horsepower  weight model\n",
       "             mean   max        mean  median count\n",
       "origin                                           \n",
       "europe  27.602941  44.3   80.558824  2240.0    68\n",
       "japan   30.450633  46.6   79.835443  2155.0    77\n",
       "usa     20.033469  39.0  119.048980  3381.0   245"
      ]
     },
     "execution_count": 26,
     "metadata": {},
     "output_type": "execute_result"
    }
   ],
   "source": [
    "## Begin Example\n",
    "origin_summary = origin_grouped.agg({\n",
    "    'mpg': ['mean', 'max'],\n",
    "    'horsepower': 'mean',\n",
    "    'weight': 'median',\n",
    "    'model': 'count'\n",
    "})\n",
    "\n",
    "origin_summary"
   ]
  },
  {
   "cell_type": "markdown",
   "id": "eff172a0-62ca-4b02-afcc-e26a900a7c97",
   "metadata": {
    "editable": true,
    "slideshow": {
     "slide_type": ""
    },
    "tags": []
   },
   "source": [
    "`origin_grouped.agg({...})` allows us to specify which aggregation functions to apply to which columns.\n",
    "\n",
    "* For the `mpg` column, we calculate both the mean and max.\n",
    "* For the `horsepower` column, we calculate the mean.\n",
    "* For the `weight` column, we find the median.\n",
    "* For the `model` column, we use `count` to determine the number of unique car models within each origin group, giving us an idea of the sample size for each region.\n",
    "\n",
    "The result is a dataframe with origin as the index and a hierarchical column structure where the first level is the column name (`mpg`, `horsepower`, `weight`, `model`) and the second level is the aggregation function applied."
   ]
  },
  {
   "cell_type": "markdown",
   "id": "af909031-ef1a-4920-a310-9a7e08f673af",
   "metadata": {
    "editable": false,
    "slideshow": {
     "slide_type": ""
    },
    "tags": []
   },
   "source": [
    "## Conclusion\n",
    "\n",
    "<center><img src=\"../images/stock/pexels-francesco-ungaro-97516.jpg\"></center>\n",
    "\n",
    "Now you've seen the power and flexibility of the `.groupby()` method in Pandas for segmenting your data and calculating insightful summary statistics for each group. We explored how to apply individual aggregation functions like `.mean()` and `.sum()`, and then expanded our toolkit with the versatile `.agg() method`, allowing us to calculate multiple statistics simultaneously across different columns. \n",
    "\n",
    "Furthermore, we learned how `.reset_index()` can transform the grouped output into a more conventional DataFrame structure, making it easier to work with for subsequent analysis and visualization, especially when tools expect grouping variables as regular columns.\n",
    "\n",
    "As you continue your data exploration journey, remember that libraries like Seaborn can significantly enhance your visualizations of grouped data. Seaborn often works seamlessly with DataFrames created after a `groupby()` and `reset_index()` operation, providing more sophisticated plot types and aesthetics with less code. We strongly encourage you to investigate Seaborn's capabilities for creating compelling and informative visual representations of your aggregated datasets, unlocking deeper understanding and more impactful communication of your findings."
   ]
  }
 ],
 "metadata": {
  "kernelspec": {
   "display_name": "Python 3 (ipykernel)",
   "language": "python",
   "name": "python3"
  },
  "language_info": {
   "codemirror_mode": {
    "name": "ipython",
    "version": 3
   },
   "file_extension": ".py",
   "mimetype": "text/x-python",
   "name": "python",
   "nbconvert_exporter": "python",
   "pygments_lexer": "ipython3",
   "version": "3.12.5"
  }
 },
 "nbformat": 4,
 "nbformat_minor": 5
}
