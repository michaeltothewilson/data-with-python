{
 "cells": [
  {
   "cell_type": "code",
   "execution_count": null,
   "id": "59b8c169-f6dc-4e48-8b42-945511b51c36",
   "metadata": {},
   "outputs": [],
   "source": [
    "## Begin Setup\n",
    "import pandas as pd\n",
    "import matplotlib.pyplot as plt\n",
    "## End Setup"
   ]
  },
  {
   "cell_type": "markdown",
   "id": "85af928c-c1ed-4123-ad63-74dceaf1bd8b",
   "metadata": {},
   "source": [
    "# Data Basics\n",
    "\n",
    "<center><img src=\"../images/stock/pexels-goumbik-577210.jpg\" width=\"500\"></center>"
   ]
  },
  {
   "cell_type": "markdown",
   "id": "38be075d-b963-420b-bad3-293a232e2ced",
   "metadata": {},
   "source": [
    "## Overview\n",
    "\n",
    "Data comes in many flavors:\n",
    "\n",
    "* Stock prices.\n",
    "* Signals from sensors.\n",
    "* Makes and models of cars.\n",
    "* Movie Reviews\n",
    "* And the list goes on\n",
    "\n",
    "No matter where it comes from, or what kind of data it is, you're going to learn how to work with all sorts of data. \n",
    "\n",
    "In this notebook, we will cover:\n",
    "\n",
    "* The main types of data.\n",
    "* Where data comes from.\n",
    "* The general steps (or the data pipeline) to:\n",
    "    * Get the data.\n",
    "    * Clean the data.\n",
    "    * Find interesting patterns in it."
   ]
  },
  {
   "cell_type": "markdown",
   "id": "fd965c7f-a2d7-4168-9aa9-af0f1bb4e86a",
   "metadata": {},
   "source": [
    "## Data Categories\n",
    "<center><img src=\"../images/stock/pexels-19x14-8478408.jpg\" width=\"500\"></center>\n",
    "\n",
    "Data can be divided into three main categories:\n",
    "\n",
    "* __Unstructured__: This is often the rawest form of data.\n",
    "* __Structured__: Data organized in a specific format, like tables.\n",
    "* __Semi-structured__: Data that has some organizational properties but isn't fully structured like a table.\n",
    "\n",
    "It's worth noting that in the data processing pipeline, the initial source of data is frequently unstructured."
   ]
  },
  {
   "cell_type": "markdown",
   "id": "a09e2c15-0e31-4e81-875b-1bd588c5744c",
   "metadata": {},
   "source": [
    "### Unstructured Data\n",
    "\n",
    "Unstructured data is information that doesn't fit neatly into a predefined organizational system or schema. It's one of the most common types of data we encounter and includes things like:\n",
    "\n",
    "* Images\n",
    "* Videos\n",
    "* Audio recordings\n",
    "* Natural language text (like emails, documents, and social media posts)\n",
    "\n",
    "The reason it's called unstructured is that the information within these formats isn't arranged according to a fixed structure; instead, it's more or less randomly distributed."
   ]
  },
  {
   "cell_type": "markdown",
   "id": "60d9b200-ce34-4e8b-8dbe-5b49ed6520d3",
   "metadata": {},
   "source": [
    "#### Example: Unstructured PSU Data\n",
    "\n",
    "The code cell below will open a file containing information about Portland State University:"
   ]
  },
  {
   "cell_type": "code",
   "execution_count": null,
   "id": "59c75c68-241b-4afd-ac16-15486fd4a30b",
   "metadata": {},
   "outputs": [],
   "source": [
    "## Example\n",
    "text = \"../data/psu.txt\"\n",
    "\n",
    "try:\n",
    "    file = open(text, \"r\")\n",
    "    content = file.read()\n",
    "    print(content)\n",
    "    file.close()\n",
    "except FileNotFoundError:\n",
    "    print(f\"Error: The file '{text}' was not found.\")\n",
    "except Exception as e:\n",
    "    print(f\"An error occurred: {e}\")"
   ]
  },
  {
   "cell_type": "markdown",
   "id": "09f04a06-e189-4555-8492-f1f2a2200c49",
   "metadata": {},
   "source": [
    "### Structured Data\n",
    "\n",
    "Structured data has a clear, predefined format that dictates how the data is organized. Think of it like information neatly arranged in a specific layout. This type of data is typically stored in:\n",
    "\n",
    "* Databases\n",
    "* CSV (Comma Separated Values) files\n",
    "* Other organized repositories\n",
    "\n",
    "There are two basic types of structured data:\n",
    "\n",
    "* __Numerical__: This data expresses information in number form, allowing for mathematical operations (like addition, subtraction, averages, etc.).\n",
    "* __Categorical__: This data can be sorted into categories based on similar characteristics.\n",
    "    * For example, cars can be categorized by their make (Toyota, Mazda, Honda) or model (Camry, RX7, Civic).\n",
    "\n",
    "It's interesting to note that some data might look numerical but is actually categorical. Think of zip codes or phone numbers. While they are made up of numbers, we usually don't perform mathematical calculations on them (like finding the average zip code). Instead, they serve as labels or identifiers."
   ]
  },
  {
   "cell_type": "markdown",
   "id": "58637eee-8313-432e-bbde-c6106a3ff323",
   "metadata": {},
   "source": [
    "#### Example: Structured PSU Data\n",
    "\n",
    "The code cell below will open a structured file containing PSU data:"
   ]
  },
  {
   "cell_type": "code",
   "execution_count": null,
   "id": "b5d16a9a-1397-4e19-bce9-2fa2cd266774",
   "metadata": {},
   "outputs": [],
   "source": [
    "## Example\n",
    "# Import Data\n",
    "file = \"../data/psu.csv\"\n",
    "df = pd.read_csv(file)\n",
    "\n",
    "# Show the Data\n",
    "df.head()"
   ]
  },
  {
   "cell_type": "markdown",
   "id": "6dc733a5-29e1-43d4-bfda-3591018a3552",
   "metadata": {},
   "source": [
    "### Semi-Structured Data\n",
    "\n",
    "Alright, let's move on to semi-structured data. This type of data doesn't adhere to a rigid formatting requirement like structured data. However, it does have some organizational properties that make it easier to work with than completely unstructured data.\n",
    "\n",
    "Think of semi-structured data as having some hints of structure, like self-describing tags or other markers that help identify different pieces of information.\n",
    "\n",
    "The most common semi-structured data formats you'll encounter are:\n",
    "\n",
    "* __XML__ (Extensible Markup Language)\n",
    "* __JSON__ (JavaScript Object Notation)"
   ]
  },
  {
   "cell_type": "markdown",
   "id": "a974ae1a-7b39-419e-83cd-2693cd0e5a52",
   "metadata": {},
   "source": [
    "#### Example: JSON File\n",
    "\n",
    "The code cell below will load a JSON file containing data on several institutions."
   ]
  },
  {
   "cell_type": "code",
   "execution_count": null,
   "id": "b5905e44-9ec4-48d0-904f-936dd0873331",
   "metadata": {},
   "outputs": [],
   "source": [
    "## Example\n",
    "file = \"../data/college_data.json\"\n",
    "college_df = pd.read_json(file)\n",
    "\n",
    "college_df.head()"
   ]
  },
  {
   "cell_type": "markdown",
   "id": "5e6d524b-f37c-49f9-8120-9c452c5fe2e5",
   "metadata": {},
   "source": [
    "### Time Series Data\n",
    "\n",
    "Now, let's discuss time series data. This is essentially a collection of data points that are recorded or listed in a specific time order.\n",
    "\n",
    "You'll often encounter time series data in areas like financial datasets, where each piece of information (like a stock price) is associated with a particular point in time.\n",
    "\n",
    "__Note:__\n",
    "\n",
    "Time series data can be either structured or semi-structured. \n",
    "\n",
    "Imagine you're tracking posts related to a specific hashtag over time. Each post has a timestamp. However, the content of each post (text, included media, user mentions, hashtags) varies greatly. While the timestamp provides the time series element, the post content itself is semi-structured.\n",
    "\n"
   ]
  },
  {
   "cell_type": "markdown",
   "id": "09e1c716-04f4-4f25-b8c0-fd69c4c56476",
   "metadata": {},
   "source": [
    "#### Example: Open Power System Data Time Series\n",
    "\n",
    "The following code cell examines time series data from Open Power System Data, covering energy-related information for Germany in 2006-2007.\n",
    "\n",
    "In essence, this dataset provides a daily snapshot of energy-related information, showing how much electricity was used and how much was generated from wind and solar sources:"
   ]
  },
  {
   "cell_type": "code",
   "execution_count": null,
   "id": "1b4ef55b-3726-4d17-9214-34eeb1826658",
   "metadata": {},
   "outputs": [],
   "source": [
    "## Example\n",
    "file = \"../data/opsd_germany_daily.csv\"\n",
    "open_power_df = pd.read_csv(file, \n",
    "                            index_col=0,\n",
    "                            parse_dates=True)\n",
    "\n",
    "open_power_df.loc['2015-02']"
   ]
  },
  {
   "cell_type": "markdown",
   "id": "05241340-07c7-4bfd-85ed-acba07080fd2",
   "metadata": {},
   "source": [
    "## Sources of Data\n",
    "\n",
    "<center><img src=\"../images/stock/pexels-ps-photography-14694-67184.jpg\" width=\"500\"></center>\n",
    "Now, let's touch on where we typically get our data. Data originates from a huge variety of places – think text documents, videos, games, and sensors constantly collecting information.\n",
    "\n",
    "However, for what we'll be doing in this class, the most common data sources you'll encounter are usually one of these:\n",
    "\n",
    "* __APIs (Application Programming Interfaces)__: These allow different software systems to communicate and share data.\n",
    "* __Web pages__: Information publicly available on the internet.\n",
    "* __Online databases__: Organized collections of data accessible over a network.\n",
    "* __Files__: Data stored in various formats like CSV, Excel, JSON, etc.\n",
    "\n",
    "There are many other fascinating ways to get data, but for our purposes, these will be the main ones we'll focus on. We just don't have the time to explore every single possibility!"
   ]
  },
  {
   "cell_type": "markdown",
   "id": "7065a0f9-a727-4a5f-9d83-291fadaf8cf5",
   "metadata": {},
   "source": [
    "## The Data Pipeline\n",
    "\n",
    "<center><img src=\"../images/stock/pexels-spacex-586019.jpg\" width=\"500\"></center>\n",
    "\n",
    "The Data Processing Pipeline outlines the typical journey of data, and it usually involves these key steps:\n",
    "\n",
    "* __Acquisition__: Getting the data in the first place.\n",
    "* __Cleaning__: Detecting, correcting, or removing flawed or unnecessary data.\n",
    "* __Transformation__: Changing the format or structure of the data for analysis.\n",
    "* __Analysis__: Interpreting the data and drawing meaningful conclusions.\n",
    "* __Storage__: Keeping the results for future use.\n",
    "\n",
    "It's important to remember that this isn't always a rigid sequence, and sometimes steps might be skipped or blended together.\n",
    "\n",
    "Let's break down each step"
   ]
  },
  {
   "cell_type": "markdown",
   "id": "353a355e-6c9d-49a0-9169-89518b736c3c",
   "metadata": {},
   "source": [
    "### Acquisition\n",
    "\n",
    "This is the initial step where we obtain the data. \n",
    "\n",
    "As we did in class, using the Yahoo Finance API to pull the stock ticker for Tesla is a perfect example of data acquisition.\n",
    "\n",
    "In the code cell below is another example of data acquistion--where the `BeautifulSoup` library is being used to scrape data from the [Portland State University Wiki Page](https://en.wikipedia.org/wiki/Portland_State_University)."
   ]
  },
  {
   "cell_type": "code",
   "execution_count": null,
   "id": "6ff705c4-50b2-4bd3-9ec7-b81f3546a924",
   "metadata": {},
   "outputs": [],
   "source": [
    "## Example\n",
    "from bs4 import BeautifulSoup\n",
    "import requests\n",
    "\n",
    "url = \"https://en.wikipedia.org/wiki/Portland_State_University\"\n",
    "\n",
    "try:\n",
    "    response = requests.get(url)\n",
    "    soup = BeautifulSoup(response.content, 'html.parser')\n",
    "\n",
    "    # Find the first <h1> tag, which usually contains the main title\n",
    "    title_tag = soup.find('h1')\n",
    "    if title_tag:\n",
    "        print(title_tag.text)\n",
    "        # Find the first non-empty paragraph\n",
    "        first_paragraph = None\n",
    "        for p in soup.find_all('p'):\n",
    "            if p.text.strip():  # Check if paragraph has content\n",
    "                first_paragraph = p\n",
    "                break\n",
    "        if first_paragraph:\n",
    "            print(f\"\\nFirst Paragraph:\\n{first_paragraph.text[:200]}...\")  # Limit to 200 chars\n",
    "        else:\n",
    "            print(\"\\nCould not find a non-empty first paragraph.\")\n",
    "    else:\n",
    "        print(\"Could not find the title on the page.\")\n",
    "\n",
    "except requests.exceptions.RequestException as e:\n",
    "    print(f\"Error: {e}\")"
   ]
  },
  {
   "cell_type": "markdown",
   "id": "475fef16-86b9-41c5-949f-a68825fb6432",
   "metadata": {},
   "source": [
    "### Cleaning\n",
    "Cleaning: Once we have the data, we often need to clean it. This involves identifying and fixing (or removing) any data that is incorrect, incomplete, or irrelevant. \n",
    "\n",
    "While the data we get from Yahoo Finance is often quite clean and ready to use in a DataFrame, other sources might require significant cleaning. \n",
    "\n",
    "For instance, data from Nike's BikeTown system might have inaccuracies that need to be addressed. \n",
    "\n",
    "Data cleaning can also involve filtering out specific columns or rows if they aren't needed for our analysis, helping us focus on the most relevant information."
   ]
  },
  {
   "cell_type": "markdown",
   "id": "7328fc8a-18c6-4bfa-84c6-ab8f00f99518",
   "metadata": {},
   "source": [
    "#### Cleaning Example\n",
    "\n",
    "In pandas, `df.dropna()` is a method used to remove missing values (represented as `NaN`) from a DataFrame or Series.\n",
    "\n",
    "That `NaN` value in the College DataFrame was bothering me. How about we drop that row in the cell below:"
   ]
  },
  {
   "cell_type": "code",
   "execution_count": null,
   "id": "8684da86-6ab3-40d3-ab70-ba7a1705a5ca",
   "metadata": {},
   "outputs": [],
   "source": [
    "## Example\n",
    "cleaned_college_df = college_df.dropna()\n",
    "cleaned_college_df"
   ]
  },
  {
   "cell_type": "markdown",
   "id": "321d8ee4-78bb-42d9-8757-510a6c75e619",
   "metadata": {},
   "source": [
    "Alternatively, `df.fillna()` is a method used to replace missing values `NaN` with a specified value."
   ]
  },
  {
   "cell_type": "code",
   "execution_count": null,
   "id": "ff8223d5-ce4f-4afa-8792-e72e8fdea3d1",
   "metadata": {},
   "outputs": [],
   "source": [
    "## Example\n",
    "cleaned_college_df = college_df.fillna(0)\n",
    "cleaned_college_df"
   ]
  },
  {
   "cell_type": "markdown",
   "id": "e7833649-37c6-4532-888f-f4a473a8b1a1",
   "metadata": {},
   "source": [
    "### Transformation\n",
    "\n",
    "After cleaning, we might need to transform the data into a more suitable format for analysis. This could involve:\n",
    "\n",
    "* Converting text-based data into numerical representations.\n",
    "* Creating new columns based on calculations or combinations of existing columns."
   ]
  },
  {
   "cell_type": "markdown",
   "id": "0c892cc0-9dfb-4b07-a2cf-2f94f2b43d2e",
   "metadata": {},
   "source": [
    "#### Example\n",
    "\n",
    "The code cell below transforms the College DataFrame by adding a new column that calculates the estimated per-term tuition cost."
   ]
  },
  {
   "cell_type": "code",
   "execution_count": null,
   "id": "a82d597f-c930-4bbb-ad84-bb116497bce7",
   "metadata": {},
   "outputs": [],
   "source": [
    "## Example\n",
    "per_term = round(cleaned_college_df[\"in-state tuition\"] / 3)\n",
    "cleaned_college_df[\"in-state tuition per term\"] = per_term\n",
    "\n",
    "new_order = [\"name\",\n",
    "             \"in-state tuition\",\n",
    "             \"in-state tuition per term\",\n",
    "             \"undergrad enrollment\",\n",
    "             \"acceptance rate\"\n",
    "            ]\n",
    "\n",
    "cleaned_college_df = cleaned_college_df[new_order]\n",
    "cleaned_college_df"
   ]
  },
  {
   "cell_type": "markdown",
   "id": "c3ac3e2a-1623-466c-9560-c417f0a0e8b0",
   "metadata": {},
   "source": [
    "### Analysis\n",
    "\n",
    "This is where the magic happens! We interpret the processed data to uncover insights and draw conclusions that weren't obvious in the raw data. This often involves:\n",
    "\n",
    "* Visualizing data using plots and graphs to identify patterns.\n",
    "* Calculating statistical summaries (like mean, median, standard deviation) to understand the data's characteristics."
   ]
  },
  {
   "cell_type": "markdown",
   "id": "01782ef9-cb6e-4f74-8838-b430803280a9",
   "metadata": {},
   "source": [
    "#### Example: In-State Tuition\n",
    "\n",
    "The code cell below uses `matplotlib` to generate a bar chart visualizing in-state tuition, using data from the College DataFrame."
   ]
  },
  {
   "cell_type": "code",
   "execution_count": null,
   "id": "b085bc95-31c8-4536-8c2e-df7d6e1d479d",
   "metadata": {},
   "outputs": [],
   "source": [
    "## Example\n",
    "# Create a bar chart of In-State Tuition for each university\n",
    "plt.figure(figsize=(8, 5)) \n",
    "plt.bar(cleaned_college_df['name'], cleaned_college_df['in-state tuition'])\n",
    "\n",
    "# Add labels and title\n",
    "plt.xlabel('University')\n",
    "plt.ylabel('In-State Tuition (USD)')\n",
    "plt.title('In-State Tuition for Oregon Universities')\n",
    "plt.xticks(rotation=15)  \n",
    "\n",
    "# Display the plot\n",
    "plt.show()"
   ]
  },
  {
   "cell_type": "markdown",
   "id": "8e8296b5-4353-4adf-9da1-f88933002048",
   "metadata": {},
   "source": [
    "### Storage\n",
    "\n",
    "Finally, we need a way to store the results of our analysis so we can access and use them later. This often involves saving the processed data or our findings to files in various formats."
   ]
  },
  {
   "cell_type": "markdown",
   "id": "f636baaf-707f-46ac-ba81-6c7d0441e282",
   "metadata": {},
   "source": [
    "#### Pandas: Exporting Files\n",
    "\n",
    "Pandas DataFrames can be exported to various file formats using these functions:\n",
    "\n",
    "* __CSV (`.csv`)__: Use `df.to_csv()` for comma-separated values, a widely compatible format.\n",
    "* __Excel (`.xlsx`)__: Use `df.to_excel()` for Microsoft Excel files.\n",
    "* __TSV (`.tsv`)__: Use `df.to_csv()` with `sep='\\t'` for tab-separated values, useful when data contains commas.\n",
    "* __JSON (`.json`)__: Use `df.to_json()` for JavaScript Object Notation, a format common in web applications."
   ]
  },
  {
   "cell_type": "code",
   "execution_count": null,
   "id": "d9cefdd6-9b67-41b4-ad9d-e733b2fb6802",
   "metadata": {},
   "outputs": [],
   "source": [
    "## Example\n",
    "\n",
    "# 1. Export to CSV\n",
    "csv_filename = '../data/exports/college_data.csv'\n",
    "# index=False prevents writing the DataFrame index to the file\n",
    "cleaned_college_df.to_csv(csv_filename, index=False)  \n",
    "print(f\"DataFrame exported to: {csv_filename}\")\n",
    "\n",
    "# 2. Export to Excel\n",
    "excel_filename = '../data/exports/college_data.xlsx'\n",
    "cleaned_college_df.to_excel(excel_filename, index=False)\n",
    "print(f\"DataFrame exported to: {excel_filename}\")\n",
    "\n",
    "# 3. Export to TSV (Tab-separated values)\n",
    "tsv_filename = '../data/exports/college_data.tsv'\n",
    "cleaned_college_df.to_csv(tsv_filename, sep='\\t', index=False)\n",
    "print(f\"DataFrame exported to: {tsv_filename}\")\n",
    "\n",
    "# 4. Export to JSON\n",
    "json_filename = '../data/exports/college_data.json'\n",
    "# orient='records' creates a list of dictionaries\n",
    "cleaned_college_df.to_json(json_filename, orient='records')  \n",
    "print(f\"DataFrame exported to: {json_filename}\")"
   ]
  }
 ],
 "metadata": {
  "kernelspec": {
   "display_name": "Python 3 (ipykernel)",
   "language": "python",
   "name": "python3"
  },
  "language_info": {
   "codemirror_mode": {
    "name": "ipython",
    "version": 3
   },
   "file_extension": ".py",
   "mimetype": "text/x-python",
   "name": "python",
   "nbconvert_exporter": "python",
   "pygments_lexer": "ipython3",
   "version": "3.12.5"
  }
 },
 "nbformat": 4,
 "nbformat_minor": 5
}
