{
 "cells": [
  {
   "cell_type": "markdown",
   "metadata": {},
   "source": [
    "# Data Explorathon: A Byte-Sized Project\n",
    "---\n",
    "<div align=\"center\">\n",
    "  <img src=\"https://www.explorathon.co.uk/wp-content/uploads/2024/09/cardboard-box-and-binoculars-1600x750-1.jpg\" alt=\"Explorathon\" width=\"640\" height=\"300\"/>\n",
    "</div>"
   ]
  },
  {
   "cell_type": "markdown",
   "metadata": {},
   "source": [
    "### Overview\n",
    "Welcome to the **Data Explorathon&trade;**! \n",
    "This will be a fast-paced, creative dive into a single dataset. \n",
    "You and your team (4 **total** members) will explore the same dataset as every other group in the class. \n",
    "Each group will ask questions, explore patterns, form a point of view and tell a story based on what they've learned. \n",
    "Think of it as a mini research sprint, a 3-minute thesis, and a story showcase—all rolled into one. "
   ]
  },
  {
   "cell_type": "markdown",
   "metadata": {},
   "source": [
    "### Objective\n",
    "Use the tools and techniques you’ve gained in this class to explore the dataset. \n",
    "Discover what story it tells you. \n",
    "This is about insight, creativity, and persuasion. \n",
    "\n",
    "Same dataset, different eyes. What you observe could be completely different from what another group observes—and that’s the whole point."
   ]
  },
  {
   "cell_type": "markdown",
   "metadata": {},
   "source": [
    "### Dataset\n",
    "Do you or someone you know believe in *aliens*? \n",
    "&nbsp;\n",
    "<div align=\"center\">\n",
    "  <img src=\"https://images.pexels.com/photos/365625/pexels-photo-365625.jpeg?auto=compress&cs=tinysrgb&w=1260&h=750&dpr=2\" alt=\"Explorathon\" width=\"640\" height=\"300\"/>\n",
    "</div>\n",
    "\n",
    "&nbsp;\n",
    "\n",
    "We’ll all be using the [UFO Sightings Dataset (NUFORC Reports)](https://www.kaggle.com/datasets/NUFORC/ufo-sightings).\n",
    "It contains over 80,000 reports of UFO sightings, including time, location, shape, and witness description."
   ]
  },
  {
   "cell_type": "markdown",
   "metadata": {},
   "source": [
    "### What You’ll Do\n",
    "In your group, you will:\n",
    "\t1.\tExplore the dataset using Python using any tools we've covered--Jupyter, NumPy, pandas, Matplotlib\n",
    "\t2.\tForm a hypothesis or narrative – What’s going on in this data? What questions are worth asking?\n",
    "\t3.\tDevelop a story: Are UFO sightings cultural? Seasonal? Political? Pure coincidence? A cover-up?\n",
    "\t4.\tBuild at least one visual to help you communicate your idea.\n",
    "\t5.\tDeliver a short story that captures your insights and conclusions; persuades us in the belief or disbelief of aliens!"
   ]
  },
  {
   "cell_type": "markdown",
   "metadata": {},
   "source": [
    "### Possible Explorations\n",
    "* Where and when do most sightings occur?\n",
    "* What shapes are most commonly reported?\n",
    "* Do sightings spike during certain historical events?\n",
    "* Are there regional UFO “hotspots”?\n",
    "* Do people describe different shapes in different states?\n",
    "* Can we tell a story of mass psychology? Or alien visitors?\n",
    "\n",
    "You don’t need to prove anything — just interpret, speculate, support, and story-tell."
   ]
  },
  {
   "cell_type": "markdown",
   "metadata": {},
   "source": [
    "### The Story Presentation\n",
    "\n",
    "<div align=\"center\">\n",
    "  <img src=\"https://images.pexels.com/photos/2017111/pexels-photo-2017111.jpeg?auto=compress&cs=tinysrgb&w=1260&h=750&dpr=2\" alt=\"Explorathon\" width=\"450\" height=\"500\"/>\n",
    "</div>\n",
    "\n",
    "Each group will present:\n",
    "* A clear, persuasive, data-driven story\n",
    "* At least one graph or visual\n",
    "* In under 5 minutes"
   ]
  },
  {
   "cell_type": "markdown",
   "metadata": {},
   "source": [
    "### Remember\n",
    "* Data is not just about numbers, it's about meaning\n",
    "* The story you tell influences people's decisions\n",
    "* Multiple groups. One dataset. Multiple different stories\n",
    "\n",
    "Let the explorathon begin.\n",
    "Let’s find out what the data *really* says… 👽"
   ]
  },
  {
   "cell_type": "markdown",
   "metadata": {},
   "source": [
    "## Exploration"
   ]
  },
  {
   "cell_type": "code",
   "execution_count": null,
   "metadata": {},
   "outputs": [],
   "source": [
    "import pandas as pd\n",
    "\n",
    "df = pd.read_csv(\"../data/ufo_data.csv\")"
   ]
  }
 ],
 "metadata": {
  "kernelspec": {
   "display_name": "Python 3 (ipykernel)",
   "language": "python",
   "name": "python3"
  },
  "language_info": {
   "codemirror_mode": {
    "name": "ipython",
    "version": 3
   },
   "file_extension": ".py",
   "mimetype": "text/x-python",
   "name": "python",
   "nbconvert_exporter": "python",
   "pygments_lexer": "ipython3",
   "version": "3.12.5"
  }
 },
 "nbformat": 4,
 "nbformat_minor": 4
}
