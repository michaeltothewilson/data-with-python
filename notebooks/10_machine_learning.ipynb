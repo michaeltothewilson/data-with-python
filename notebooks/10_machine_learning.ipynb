{
 "cells": [
  {
   "cell_type": "markdown",
   "id": "c207a189-10d9-46a0-b15a-b9c4860111e4",
   "metadata": {},
   "source": [
    "# Introduction to Machine Learning with California Housing Dataset\n",
    "\n",
    "This notebook provides an introductory lesson to Machine Learning (ML) using the California Housing dataset. \n",
    "\n",
    "We will cover fundamental concepts,\n",
    "the typical ML workflow, and a practical example of building a regression model.\n"
   ]
  },
  {
   "cell_type": "markdown",
   "id": "3759ab53-ef39-434b-8eae-8607712b8a56",
   "metadata": {},
   "source": [
    "## What is Machine Learning?\n",
    "\n",
    "Machine Learning is a subset of Artificial Intelligence (AI) that enables systems\n",
    "to learn from data, identify patterns, and make decisions or predictions with\n",
    "minimal human intervention. \n",
    "\n",
    "Instead of being explicitly programmed, ML models\n",
    "\"learn\" from data."
   ]
  },
  {
   "cell_type": "markdown",
   "id": "7b224855-8f78-47af-84fb-d9ac238b3aaf",
   "metadata": {},
   "source": [
    "## Types of Machine Learning\n",
    "\n",
    "1.  **Supervised Learning:**\n",
    "    * **Concept:** The model learns from labeled data, meaning the input data\n",
    "        (features) is paired with the correct output (labels or targets).\n",
    "    * **Goal:** To predict an output based on new, unseen input data.\n",
    "    * **Examples:**\n",
    "        * **Regression:** Predicting a continuous value (e.g., house prices, temperature).\n",
    "        * **Classification:** Predicting a categorical label (e.g., spam/not spam, dog/cat).\n",
    "\n",
    "2.  **Unsupervised Learning:**\n",
    "    * **Concept:** The model learns from unlabeled data, finding hidden patterns\n",
    "        or structures within the data without explicit guidance.\n",
    "    * **Goal:** To discover underlying structures or representations in the data.\n",
    "    * **Examples:**\n",
    "        * **Clustering:** Grouping similar data points together (e.g., customer segmentation).\n",
    "        * **Dimensionality Reduction:** Reducing the number of features while retaining\n",
    "            important information.\n",
    "\n",
    "3.  **Reinforcement Learning:**\n",
    "    * **Concept:** An agent learns to make decisions by performing actions in an\n",
    "        environment and receiving rewards or penalties.\n",
    "    * **Goal:** To maximize cumulative reward over time.\n",
    "    * **Examples:** Game playing (AlphaGo), robotics, autonomous driving.\n"
   ]
  },
  {
   "cell_type": "markdown",
   "id": "f07c26e4-7123-4391-aca8-cd358eea14f3",
   "metadata": {},
   "source": [
    "## The Machine Learning Workflow\n",
    "\n",
    "The typical ML workflow involves several stages:\n",
    "\n",
    "1.  **Problem Definition:** Clearly define what you want to achieve with ML.\n",
    "2.  **Data Collection:** Gather relevant data.\n",
    "3.  **Data Preprocessing/Cleaning:** Handle missing values, outliers, transform data,\n",
    "    feature engineering. This is often the most time-consuming step.\n",
    "4.  **Feature Selection/Engineering:** Choosing the most relevant features or creating new ones.\n",
    "5.  **Model Selection:** Choosing an appropriate ML algorithm based on the problem type\n",
    "    (e.g., Linear Regression for continuous prediction, Logistic Regression for classification).\n",
    "6.  **Training:** Feeding the preprocessed data to the chosen model so it can learn patterns.\n",
    "7.  **Evaluation:** Assessing the model's performance on unseen data using appropriate metrics.\n",
    "8.  **Hyperparameter Tuning:** Optimizing model parameters that are not learned from data.\n",
    "9.  **Deployment:** Integrating the trained model into an application or system.\n",
    "10. **Monitoring & Maintenance:** Continuously monitoring the model's performance and retraining if necessary.\n"
   ]
  },
  {
   "cell_type": "markdown",
   "id": "d47c00b8-a9bf-43e8-810a-d1853f96a700",
   "metadata": {},
   "source": [
    "## Practical Example: Predicting California Housing Prices\n",
    "\n",
    "In this example, we will use the California Housing dataset, a classic dataset for regression tasks. Our goal is to predict the median house value for districts in California based on various features."
   ]
  },
  {
   "cell_type": "markdown",
   "id": "474ba46a-09b3-413f-8602-46c24d1bc151",
   "metadata": {},
   "source": [
    "### 1. Import Necessary Libraries\n",
    "\n",
    "We will import \n",
    "\n",
    "* `numpy` for numerical operations\n",
    "* `pandas` for data manipulation\n",
    "* `matplotlib.pyplot` and `seaborn` for visualization\n",
    "* `sklearn`for dataset loading, model training, and evaluation."
   ]
  },
  {
   "cell_type": "code",
   "execution_count": 1,
   "id": "4cd2ac42-c717-473f-8342-abce036728ce",
   "metadata": {},
   "outputs": [
    {
     "ename": "ModuleNotFoundError",
     "evalue": "No module named 'sklearn'",
     "output_type": "error",
     "traceback": [
      "\u001b[0;31m---------------------------------------------------------------------------\u001b[0m",
      "\u001b[0;31mModuleNotFoundError\u001b[0m                       Traceback (most recent call last)",
      "Cell \u001b[0;32mIn[1], line 6\u001b[0m\n\u001b[1;32m      4\u001b[0m \u001b[38;5;28;01mimport\u001b[39;00m \u001b[38;5;21;01mmatplotlib\u001b[39;00m\u001b[38;5;21;01m.\u001b[39;00m\u001b[38;5;21;01mpyplot\u001b[39;00m \u001b[38;5;28;01mas\u001b[39;00m \u001b[38;5;21;01mplt\u001b[39;00m\n\u001b[1;32m      5\u001b[0m \u001b[38;5;28;01mimport\u001b[39;00m \u001b[38;5;21;01mseaborn\u001b[39;00m \u001b[38;5;28;01mas\u001b[39;00m \u001b[38;5;21;01msns\u001b[39;00m\n\u001b[0;32m----> 6\u001b[0m \u001b[38;5;28;01mfrom\u001b[39;00m \u001b[38;5;21;01msklearn\u001b[39;00m\u001b[38;5;21;01m.\u001b[39;00m\u001b[38;5;21;01mdatasets\u001b[39;00m \u001b[38;5;28;01mimport\u001b[39;00m fetch_california_housing\n\u001b[1;32m      7\u001b[0m \u001b[38;5;28;01mfrom\u001b[39;00m \u001b[38;5;21;01msklearn\u001b[39;00m\u001b[38;5;21;01m.\u001b[39;00m\u001b[38;5;21;01mmodel_selection\u001b[39;00m \u001b[38;5;28;01mimport\u001b[39;00m train_test_split\n\u001b[1;32m      8\u001b[0m \u001b[38;5;28;01mfrom\u001b[39;00m \u001b[38;5;21;01msklearn\u001b[39;00m\u001b[38;5;21;01m.\u001b[39;00m\u001b[38;5;21;01mlinear_model\u001b[39;00m \u001b[38;5;28;01mimport\u001b[39;00m LinearRegression\n",
      "\u001b[0;31mModuleNotFoundError\u001b[0m: No module named 'sklearn'"
     ]
    }
   ],
   "source": [
    "## Begin Imports\n",
    "import numpy as np\n",
    "import pandas as pd\n",
    "import matplotlib.pyplot as plt\n",
    "import seaborn as sns\n",
    "from sklearn.datasets import fetch_california_housing\n",
    "from sklearn.model_selection import train_test_split\n",
    "from sklearn.linear_model import LinearRegression\n",
    "from sklearn.metrics import mean_squared_error, r2_score\n",
    "\n",
    "# Set plot style for better aesthetics\n",
    "sns.set_style(\"whitegrid\")\n",
    "## End Imports"
   ]
  },
  {
   "cell_type": "markdown",
   "id": "c4b3cb25-d993-4f0f-a4db-e2c4d4a84104",
   "metadata": {},
   "source": [
    "### 2. Load the California Housing Dataset\n",
    "\n",
    "The California Housing dataset is readily available in `scikit-learn`."
   ]
  },
  {
   "cell_type": "markdown",
   "id": "6955402e-ff39-40c2-b88c-ca6ffa0a12b8",
   "metadata": {},
   "source": [
    "### 2. Load the California Housing Dataset\n",
    "\n",
    "Many common datasets are already built into machine learning libraries, making them easy to access. The California Housing dataset is one of them, available through `scikit-learn`.\n",
    "\n",
    "**In the cell below:**\n",
    "1.  Find the function within `sklearn.datasets` that lets you `fetch` the California Housing dataset.\n",
    "2.  Load the dataset. It's often helpful to load it `as_frame=True` so it acts like a pandas DataFrame.\n",
    "3.  The dataset object you get back will have two main parts you care about: the `data` (your features, often called `X`) and the `target` (what you want to predict, often called `y`). Assign these to separate variables.\n",
    "4.  Print the `shape` of your `X` and `y` to see how many rows and columns you have.\n",
    "5.  Display the first few rows of your `X` and `y` to get a peek at the data (`.head()`)."
   ]
  },
  {
   "cell_type": "code",
   "execution_count": null,
   "id": "97329dbc-150a-4b63-b89e-8d03a145cc96",
   "metadata": {},
   "outputs": [],
   "source": [
    "## Begin Example\n",
    "\n",
    "\n",
    "\n",
    "\n",
    "\n",
    "\n",
    "\n",
    "\n",
    "\n",
    "\n",
    "## End Example"
   ]
  },
  {
   "cell_type": "markdown",
   "id": "1078e80d-883c-4c1e-acc7-5b373eb9a9f4",
   "metadata": {},
   "source": [
    "### 3. Data Exploration: Get to Know Your Data!\n",
    "\n",
    "It's crucial to understand your data before trying to build a model. Let's start by looking at some basic numbers and visualizing distributions.\n",
    "\n",
    "**In the cell below:**\n",
    "1.  Get descriptive statistics for your features (`X`).\n",
    "2.  Create histograms for all the features in `X`. (Pandas DataFrames have a built-in `.hist()` method that works well with `matplotlib`). You might want to adjust `figsize` and `bins` to make them readable.\n",
    "3.  Create a histogram specifically for your target variable `y` (Median House Value) to see its distribution.\n",
    "\n",
    "**After running the code, what do you notice about the histograms?**\n",
    "\n",
    "* Look at `MedInc` (Median Income) and `MedHouseVal` (Median House Value). Do you see a long \"tail\" on one side, or do they stop abruptly? (note that `MedHouseVal` was capped at $500,000 for simplicity in the original dataset, which means values above 5.0 are shown as 5.0).\n",
    "* Which features seem to have a lot of data grouped together, and which are more spread out?\n",
    "* Do any of them look like a \"bell curve\" (symmetrical in the middle)?"
   ]
  },
  {
   "cell_type": "code",
   "execution_count": null,
   "id": "09f5e6d0-648d-4fcd-86ca-9d9e0afb5b84",
   "metadata": {},
   "outputs": [],
   "source": [
    "## Begin Example\n",
    "\n",
    "\n",
    "\n",
    "\n",
    "\n",
    "\n",
    "\n",
    "## End Example"
   ]
  },
  {
   "cell_type": "markdown",
   "id": "ad13fe15-ba89-44b8-8de6-e4fd9a616c7f",
   "metadata": {},
   "source": [
    "### Exploration: Geographical Distribution of House Values\n",
    "\n",
    "Let's use a scatter plot to visualize house values on a map of California. This will help us see if there are any geographical patterns.\n",
    "\n",
    "* The **horizontal position (x-axis)** of each dot tells us its **Longitude** (how far east or west it is).\n",
    "* The **vertical position (y-axis)** of each dot tells us its **Latitude** (how far north or south it is).\n",
    "* We can also use the **size** and **color** of each dot to show the **Median House Value (`MedHouseVal`)** of that neighborhood. Bigger and brighter dots will represent higher values.\n",
    "\n",
    "**In the cell below:**\n",
    "1.  Use `seaborn.scatterplot` to create a scatter plot.\n",
    "2.  Set `Longitude` for the x-axis and `Latitude` for the y-axis.\n",
    "3.  Use `MedHouseVal` to control both the `size` and `hue` (color) of the points.\n",
    "4.  Choose a `palette` (like \"viridis\") and set `alpha` (transparency, e.g., 0.5) to help with visualization.\n",
    "5.  Add a title to your plot and potentially a legend.\n",
    "\n",
    "**What do you notice about the plot?**\n",
    "* Are there any bright, large clusters of dots? Where are they located (e.g., along the coast, specific cities)?\n",
    "* Do smaller, darker dots appear in different areas?\n",
    "* What does this tell us about housing prices and location in California?\n",
    "\"\"\""
   ]
  },
  {
   "cell_type": "markdown",
   "id": "f9477721-717d-4d93-a646-a62985cd5ae4",
   "metadata": {},
   "source": [
    "### 4. Splitting the Data into Training and Testing Sets\n",
    "\n",
    "This is a critical step in Machine Learning! You need to split your data into two parts:\n",
    "* The **Training Set:** This is the data your model will \"learn\" from.\n",
    "* The **Testing Set:** This is data the model has **never seen before**. You'll use it to evaluate how well your model truly performs and if it can make good predictions on new, real-world data.\n",
    "\n",
    "We typically use about 70-80% of the data for training and 20-30% for testing. Using `random_state` ensures that if you run your code multiple times, you'll get the same split, which helps with reproducibility.\n",
    "\n",
    "**In the cell below:**\n",
    "1.  Find the function within `sklearn.model_selection` that helps you `split` your data.\n",
    "2.  Use it to split your `X` and `y` into `X_train`, `X_test`, `y_train`, and `y_test`.\n",
    "3.  Set the `test_size` to 0.2 (meaning 20% for testing).\n",
    "4.  Set `random_state` to 42 (or any integer you like) for consistent results.\n",
    "5.  Print the `shape` of each of your new training and testing sets to verify the split.\n"
   ]
  },
  {
   "cell_type": "code",
   "execution_count": null,
   "id": "4f12eff0-e72c-4cb7-9299-ab66645c787b",
   "metadata": {},
   "outputs": [],
   "source": [
    "## Begin Example\n",
    "\n",
    "\n",
    "\n",
    "\n",
    "\n",
    "\n",
    "\n",
    "\n",
    "## End Example"
   ]
  },
  {
   "cell_type": "markdown",
   "id": "508fcbad-d5c0-49d8-a9ac-cedaf198f3df",
   "metadata": {},
   "source": [
    "### 5. Model Selection and Training\n",
    "\n",
    "For this regression problem (predicting a continuous number), we'll start with a simple but powerful model: **Linear Regression**. This model tries to find the best straight line (or flat surface in multiple dimensions) that fits your data.\n",
    "\n",
    "**In the cell below:**\n",
    "1.  Find `LinearRegression` within `sklearn.linear_model`.\n",
    "2.  Create an \"instance\" of your Linear Regression model (like making a new, empty model object).\n",
    "3.  \"Train\" your model using the `fit()` method. This method takes your training features (`X_train`) and your training target (`y_train`) as input. The model will learn the relationships from this data.\n"
   ]
  },
  {
   "cell_type": "code",
   "execution_count": null,
   "id": "f3122f2b-d851-4f53-aa8c-20031c1523f1",
   "metadata": {},
   "outputs": [],
   "source": [
    "## Begin Example\n",
    "\n",
    "\n",
    "\n",
    "\n",
    "\n",
    "\n",
    "\n",
    "\n",
    "## End Example"
   ]
  },
  {
   "cell_type": "markdown",
   "id": "91737604-0960-46cb-b24c-7177256f3b1a",
   "metadata": {},
   "source": [
    "### 6. Making Predictions\n",
    "\n",
    "Once your model is trained, it's ready to make guesses! You'll ask it to predict the house values for the `X_test` data (the data it has never seen before).\n",
    "\n",
    "**In the cell below:**\n",
    "1.  Use your trained model's `predict()` method.\n",
    "2.  Pass in your `X_test` data to get predictions.\n",
    "3.  Store these predictions in a new variable (e.g., `y_pred`).\n",
    "4.  Print the first few actual values from `y_test` and compare them side-by-side with your `y_pred` to get an initial feel for the predictions."
   ]
  },
  {
   "cell_type": "code",
   "execution_count": null,
   "id": "2c5825a3-0614-4b48-a29f-11b79a28ccbb",
   "metadata": {},
   "outputs": [],
   "source": [
    "## Begin Example\n",
    "\n",
    "\n",
    "\n",
    "\n",
    "\n",
    "\n",
    "\n",
    "\n",
    "## End Example"
   ]
  },
  {
   "cell_type": "markdown",
   "id": "1ffe5f2c-1424-437b-ac34-6fdfd13e8c64",
   "metadata": {},
   "source": [
    "### 7. Model Evaluation\n",
    "\n",
    "How good are your model's predictions? We use **evaluation metrics** to measure this. For regression, common metrics include:\n",
    "\n",
    "* **Mean Squared Error (MSE):** This calculates the average of the squared differences between your predicted values and the actual values. A lower MSE means your predictions are closer to the real values.\n",
    "* **Root Mean Squared Error (RMSE):** This is just the square root of MSE. It's often preferred because its value is in the same units as your target variable (in this case, hundreds of thousands of dollars), making it easier to understand.\n",
    "* **R-squared ($R^2$):** This is a very intuitive metric! It tells you **what percentage of the variations in the actual house values your model can explain** using the features. $R^2$ ranges from 0 to 1, where 1 means your model perfectly explains all the variation (a perfect fit!). If your $R^2$ is 0.5, it means your model explains 50% of why house prices are different across districts. The other 50% is due to factors not in your model or randomness.\n",
    "\n",
    "**In the cell below:**\n",
    "1.  Find the functions for `mean_squared_error` and `r2_score` within `sklearn.metrics`.\n",
    "2.  Calculate the MSE and R-squared using `y_test` (actual values) and `y_pred` (your model's predictions).\n",
    "3.  Calculate the RMSE from the MSE you found.\n",
    "4.  Print out these metrics clearly, formatted nicely."
   ]
  },
  {
   "cell_type": "code",
   "execution_count": 2,
   "id": "f42a2242-ef51-4fe4-8d95-cf5e40aa9f50",
   "metadata": {},
   "outputs": [],
   "source": [
    "## Begin Example\n",
    "\n",
    "\n",
    "\n",
    "## End Example"
   ]
  },
  {
   "cell_type": "markdown",
   "id": "f48a3359-90d5-4a1c-b992-455132cc7634",
   "metadata": {},
   "source": [
    "### 8. Visualization of Predictions vs. Actual Values\n",
    "\n",
    "A great way to visually assess your model is to plot its predictions against the actual values. If your model were perfect, all the dots would fall exactly on a 45-degree diagonal line. The closer your dots are to that line, the better your model is!\n",
    "\n",
    "**In the cell below:**\n",
    "1.  Use `matplotlib.pyplot.scatter()` to create a scatter plot.\n",
    "2.  Put your `y_test` (actual values) on the x-axis.\n",
    "3.  Put your `y_pred` (predicted values) on the y-axis.\n",
    "4.  Add a diagonal line (from the minimum to the maximum values of `y`) to represent the \"perfect prediction\" line.\n",
    "5.  Add labels for your axes and a title for your plot.\n",
    "6.  Consider setting `alpha` for the scatter plot to make dense areas clearer.\n"
   ]
  },
  {
   "cell_type": "markdown",
   "id": "ccae149e-3cc7-4eda-bfde-a65e31ca4c11",
   "metadata": {},
   "source": [
    "## Conclusion\n",
    "\n",
    "Congratulations! You've just completed a hands-on exploration of a fundamental\n",
    "Machine Learning workflow. You've learned how to:\n",
    "\n",
    "* Understand the basics of ML types and its typical steps.\n",
    "* Load and explore a real-world dataset.\n",
    "* Prepare data by splitting it into training and testing sets.\n",
    "* Train a simple regression model.\n",
    "* Make predictions with your model.\n",
    "* Evaluate your model's performance using common metrics.\n",
    "* Visualize your results to gain insights.\n",
    "\n",
    "This is truly just the beginning of your journey into Machine Learning."
   ]
  },
  {
   "cell_type": "markdown",
   "id": "116a165a-c5c5-4195-a2f5-e93220096501",
   "metadata": {},
   "source": [
    "### How Can We Improve This Model?\n",
    "\n",
    "Now that you've seen a basic model in action, the next exciting step is to think about **how we could make it even better**. Consider these questions and discuss them with your classmates:\n",
    "\n",
    "1.  **Could we get more data?** Often, having more diverse and relevant data can help a model learn better patterns and make more accurate predictions, especially if your current dataset is small or doesn't cover all scenarios.\n",
    "2.  **Could we use a different type of model?** Linear Regression assumes a straight-line relationship. What if the relationship between features and house prices isn't a straight line? (Hint: In `sklearn`, explore `ensemble` models like Decision Trees or Random Forests, or even `neural_network` models).\n",
    "3.  **Are all the features equally important?** Should we try to use all the features, or could some be combined or transformed? (Hint: Sometimes creating new features from existing ones – this is called \"feature engineering\" – or selecting only the most impactful ones can improve results).\n",
    "4.  **Does the \"scale\" of our data matter?** Some features like 'population' are very large numbers, while others like 'average rooms' are small. Could this difference in scale affect how the model learns? (Hint: Look into 'feature scaling' or 'normalization' techniques in `sklearn.preprocessing`).\n",
    "5.  **How could we be more sure our model isn't just \"memorizing\" the training data?** Our model works okay on the test set, but what if it just got \"lucky\" on this particular split? How can we make our evaluation more robust? (Hint: Research 'cross-validation' techniques).\n",
    "\n",
    "These are just a few ideas to get you thinking about the exciting next steps in improving machine learning models."
   ]
  },
  {
   "cell_type": "code",
   "execution_count": null,
   "id": "4ada4975-cf99-4064-a7a5-a078c44530a5",
   "metadata": {},
   "outputs": [],
   "source": []
  }
 ],
 "metadata": {
  "kernelspec": {
   "display_name": "Python 3 (ipykernel)",
   "language": "python",
   "name": "python3"
  },
  "language_info": {
   "codemirror_mode": {
    "name": "ipython",
    "version": 3
   },
   "file_extension": ".py",
   "mimetype": "text/x-python",
   "name": "python",
   "nbconvert_exporter": "python",
   "pygments_lexer": "ipython3",
   "version": "3.12.5"
  }
 },
 "nbformat": 4,
 "nbformat_minor": 5
}
