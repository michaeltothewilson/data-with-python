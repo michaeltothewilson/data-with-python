{
 "cells": [
  {
   "cell_type": "markdown",
   "id": "2a5d2450-e0f5-4186-a589-cdadca69919b",
   "metadata": {},
   "source": [
    "# Misleading Data\n",
    "\n",
    "Let's take a look at how legit data can be turned into misleading visuals."
   ]
  },
  {
   "cell_type": "markdown",
   "id": "6e7b4a2b-b843-4e53-8e22-7ef5e0477906",
   "metadata": {},
   "source": [
    "## The Dataset\n",
    "\n",
    "The data used in this notebook was gathered from the (FBI Crime Data Explorer)[https://cde.ucr.cjis.gov/]\n",
    "\n",
    "__Homicides in the United States__\n",
    "\n",
    "__file:__ `../data/exports/cleaned_homicide_data.csv` \n",
    "\n",
    "Contains 10 years of reported homicides in the United States.\n",
    "\n",
    "`Year` - The Year\n",
    "`Total_Count` - Total Count of homicides for the corresponding year\n",
    "\n",
    "__Robberies in the United States__\n",
    "\n",
    "__file:__ `../data/exports/cleaned_robbery_data.csv`\n",
    "\n",
    "Contains 10 years of reported robberies in the United States.\n",
    "\n",
    "`Year` - The Year\n",
    "`Total_Count` - Total Count of robberies for the corresponding year\n",
    "\n",
    "__Note:__\n",
    "\n",
    "Datasets were cleaned from their original download.\n",
    "\n",
    "__Cleaning:__\n",
    "\n",
    "* Modifying column names for consistency (removing white space & modifying casing)\n",
    "* Filtering Columns - kept the United States column, dropped `United States Clearances` and `United States Percent of Population Coverage`\n",
    "* Grouped the data by Year to show total count per year."
   ]
  },
  {
   "cell_type": "code",
   "execution_count": null,
   "id": "6805f0cf-2a62-4b21-a303-c7e159387fa2",
   "metadata": {},
   "outputs": [],
   "source": [
    "# Import\n",
    "import pandas as pd\n",
    "import matplotlib.pyplot as plt\n",
    "import seaborn as sns"
   ]
  },
  {
   "cell_type": "code",
   "execution_count": null,
   "id": "3d2f791a-9778-4a21-b177-52343a44a783",
   "metadata": {},
   "outputs": [],
   "source": [
    "# Load Data\n",
    "file = \"../data/exports/cleaned_homicide_data.csv\"\n",
    "\n",
    "homicides = pd.read_csv(file)\n",
    "\n",
    "homicides"
   ]
  },
  {
   "cell_type": "markdown",
   "id": "74baa86e-b616-48b3-83af-72cc54f2fbd7",
   "metadata": {},
   "source": [
    "# Murders in the United States"
   ]
  },
  {
   "cell_type": "markdown",
   "id": "7ca6c48a-6c41-4ff4-9321-e477ed07437c",
   "metadata": {},
   "source": [
    "## Inspect the Visualization Below 👀\n",
    "\n",
    "The Cell Below is a visualization based on the data that was imported.\n",
    "\n",
    "* What stories does the graph tell you?\n",
    "* How might the everyday person interpret this graph?\n",
    "* What is wrong with the graph?"
   ]
  },
  {
   "cell_type": "code",
   "execution_count": null,
   "id": "fb51698f-2d06-438c-805c-55730765e9d2",
   "metadata": {},
   "outputs": [],
   "source": [
    "# Filtering Data\n",
    "mask = (homicides[\"year\"] >= 2019) & (homicides[\"year\"] <= 2020)\n",
    "homicides_filtered = homicides[mask]\n",
    "\n",
    "# Set Figure\n",
    "plt.figure(figsize=(10,6))\n",
    "\n",
    "# Generate Visualization\n",
    "sns.barplot(\n",
    "    data=homicides_filtered,\n",
    "    x=\"year\",\n",
    "    y=\"count\",\n",
    "    palette=\"Set1\",\n",
    "    hue=\"year\",\n",
    "    legend=False)\n",
    "\n",
    "plt.ylim(12500, 23000)\n",
    "\n",
    "# Set Labels\n",
    "plt.title(\"Reported Homicides in the United States\")\n",
    "plt.ylabel(\"Count\")\n",
    "plt.xlabel(\"Year\")\n",
    "\n",
    "plt.show()"
   ]
  },
  {
   "cell_type": "markdown",
   "id": "5327a4b1-b16d-458a-83a5-eeca9aad5be3",
   "metadata": {},
   "source": [
    "## Modify the Graph\n",
    "\n",
    "* Modify the code in the cell below to fix this poor excuse of data representation!!\n",
    "* What will you fix, how will you fix it?\n",
    "* How does the new graph compare to the previous graph????"
   ]
  },
  {
   "cell_type": "code",
   "execution_count": null,
   "id": "5c21cd9f-f654-40e6-8987-01620a11e49b",
   "metadata": {},
   "outputs": [],
   "source": [
    "############ Modify this Code ############\n",
    "# Filtering Data\n",
    "mask = (homicides[\"year\"] >= 2019) & (homicides[\"year\"] <= 2020)\n",
    "homicides_filtered = homicides[mask]\n",
    "\n",
    "# Set Figure\n",
    "plt.figure(figsize=(10,6))\n",
    "\n",
    "# Generate Visualization\n",
    "sns.barplot(\n",
    "    data=homicides_filtered,\n",
    "    x=\"year\",\n",
    "    y=\"count\",\n",
    "    palette=\"Set1\",\n",
    "    hue=\"year\",\n",
    "    legend=False)\n",
    "\n",
    "plt.ylim(12500, 23000)\n",
    "\n",
    "# Set Labels\n",
    "plt.title(\"Reported Homicides in the United States\")\n",
    "plt.ylabel(\"Count\")\n",
    "plt.xlabel(\"Year\")\n",
    "\n",
    "plt.show()"
   ]
  },
  {
   "cell_type": "markdown",
   "id": "53f23058-b3e9-4f47-81eb-4431bbec0f94",
   "metadata": {},
   "source": [
    "# Robberies in the United States"
   ]
  },
  {
   "cell_type": "markdown",
   "id": "4b3803f8-d676-4c2e-9939-8d74dc100d0f",
   "metadata": {},
   "source": [
    "## Inspect the Visualization Below 👀\n",
    "\n",
    "The Cell Below is a visualization based on the data that was imported.\n",
    "\n",
    "* What stories does the graph tell you?\n",
    "* How might the everyday person interpret this graph?\n",
    "* What is wrong with the graph?"
   ]
  },
  {
   "cell_type": "code",
   "execution_count": null,
   "id": "7c7eec3d-1e12-4e0f-b034-7ca4d7c095eb",
   "metadata": {},
   "outputs": [],
   "source": [
    "# Load Data\n",
    "file = \"../data/exports/cleaned_robbery_data.csv\"\n",
    "\n",
    "robberies = pd.read_csv(file)\n",
    "\n",
    "robberies.info()"
   ]
  },
  {
   "cell_type": "code",
   "execution_count": null,
   "id": "b172cc2b-631b-4c73-975c-c368c31f5390",
   "metadata": {},
   "outputs": [],
   "source": [
    "# Set Figure\n",
    "\n",
    "# Import Ticker\n",
    "import matplotlib.ticker as ticker\n",
    "\n",
    "# Set Filter\n",
    "mask = (robberies[\"year\"] >= 2015) & (robberies[\"year\"] <= 2016)\n",
    "robberies_filtered = robberies[mask]\n",
    "\n",
    "# Set Figure\n",
    "plt.figure(figsize=(10,6))\n",
    "\n",
    "# Generate Plot\n",
    "sns.lineplot(\n",
    "    data=robberies_filtered,\n",
    "    x=\"year\",\n",
    "    y=\"count\",\n",
    "    color=\"blue\")\n",
    "\n",
    "plt.ylim(3000, 20000)\n",
    "\n",
    "# Minor Modification to Keep the X-Axis as Integers\n",
    "ax = plt.gca()\n",
    "ax.xaxis.set_major_locator(ticker.MaxNLocator(integer=True))\n",
    "\n",
    "# Set Titles and What not\n",
    "plt.title(\"Reported Robberies in the United States\")\n",
    "plt.xlabel(\"Year\")\n",
    "plt.ylabel(\"Count\")"
   ]
  },
  {
   "cell_type": "markdown",
   "id": "ed45ce50-b837-4667-9a18-6b118fb90959",
   "metadata": {},
   "source": [
    "## Modify the Graph\n",
    "\n",
    "* FIX THIS GRAPH PLEASE"
   ]
  },
  {
   "cell_type": "code",
   "execution_count": null,
   "id": "cf74a3ef-d05e-4284-a9ba-6d015a28a918",
   "metadata": {},
   "outputs": [],
   "source": [
    "############ Modify this Code ############\n",
    "\n",
    "# Set Filter\n",
    "mask = (robberies[\"year\"] >= 2015) & (robberies[\"year\"] <= 2016)\n",
    "robberies_filtered = robberies[mask]\n",
    "\n",
    "# Set Figure\n",
    "plt.figure(figsize=(10,6))\n",
    "\n",
    "# Generate Plot\n",
    "sns.lineplot(\n",
    "    data=robberies_filtered,\n",
    "    x=\"year\",\n",
    "    y=\"count\",\n",
    "    color=\"blue\")\n",
    "\n",
    "plt.ylim(3000, 20000)\n",
    "\n",
    "# Minor Modification to Keep the X-Axis as Integers\n",
    "ax = plt.gca()\n",
    "ax.xaxis.set_major_locator(ticker.MaxNLocator(integer=True))\n",
    "\n",
    "# Set Titles and What not\n",
    "plt.title(\"Reported Robberies in the United States\")\n",
    "plt.xlabel(\"Year\")\n",
    "plt.ylabel(\"Count\")\n",
    "############ Modify this Code ############"
   ]
  }
 ],
 "metadata": {
  "kernelspec": {
   "display_name": "Python 3 (ipykernel)",
   "language": "python",
   "name": "python3"
  },
  "language_info": {
   "codemirror_mode": {
    "name": "ipython",
    "version": 3
   },
   "file_extension": ".py",
   "mimetype": "text/x-python",
   "name": "python",
   "nbconvert_exporter": "python",
   "pygments_lexer": "ipython3",
   "version": "3.12.5"
  }
 },
 "nbformat": 4,
 "nbformat_minor": 5
}
