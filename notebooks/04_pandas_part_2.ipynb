{
 "cells": [
  {
   "cell_type": "markdown",
   "id": "77d76ed8-07e2-4620-9c0c-06b165331918",
   "metadata": {},
   "source": [
    "# Pandas 2 (More Loading and Exploring Data)"
   ]
  },
  {
   "cell_type": "markdown",
   "id": "afdc811b-8387-4597-9c51-41d0e03406f4",
   "metadata": {},
   "source": [
    "## Labubu 2024 Sales Data\n",
    "<center>\n",
    "<img src=\"https://upload.wikimedia.org/wikipedia/en/a/a9/Pop_Mart_Labubu_The_Monsters_Exciting_Macaron.jpg\">\n",
    "</center>\n",
    "image credit: wikimedia\n",
    "<br />\n",
    "<br />\n",
    "\n",
    "Let's import and explore a small dataset on Popmart's Labubu sales."
   ]
  },
  {
   "cell_type": "markdown",
   "id": "60880670-fc68-4081-9b0b-8a5e799eef5b",
   "metadata": {},
   "source": [
    "## Importing Pandas\n",
    "\n",
    "First things first, import pandas in the code cell below.\n",
    "\n",
    "__Syntax__:\n",
    "\n",
    "```python\n",
    "import pandas as pd\n",
    "```"
   ]
  },
  {
   "cell_type": "code",
   "execution_count": 2,
   "id": "8cec9292-2a39-4814-ad9e-0be0df3a1a34",
   "metadata": {},
   "outputs": [],
   "source": [
    "# Import Pandas\n",
    "import pandas as pd"
   ]
  },
  {
   "cell_type": "markdown",
   "id": "21b54ea9-c4a4-47ac-96a1-2016085009f8",
   "metadata": {},
   "source": [
    "## Loading a DataFrame: Dictionary\n",
    "\n",
    "We will be loading this particular dataset from a list of Python Dictionaries.\n",
    "\n",
    "The list contains sales information related to Popmart's Labubu doll blind-box thing.\n",
    "\n",
    "__Syntax__:\n",
    "```python\n",
    "dataframe = pd.DataFrame(data)\n",
    "```"
   ]
  },
  {
   "cell_type": "code",
   "execution_count": 7,
   "id": "1922abe2-d383-4932-a6a9-484178a85f94",
   "metadata": {},
   "outputs": [],
   "source": [
    "## Load Data from a List of Dictionaries\n",
    "\n",
    "## Data Source: https://kr-asia.com/pop-marts-labubu-breaks-records-in-thailand-can-the-trend-go-global\n",
    "\n",
    "data = [\n",
    "    {\"Region\": \"Southeast Asia\", \"Revenue (USD) (M)\": 78.4, \"Revenue (CNY) (M)\": 560.0},\n",
    "    {\"Region\": \"East Asia\", \"Revenue (USD) (M)\": 67.0, \"Revenue (CNY) (M)\": 480.0},\n",
    "    {\"Region\": \"North America\", \"Revenue (USD) (M)\": 25.2, \"Revenue (CNY) (M)\": 180.0},\n",
    "    {\"Region\": \"Europe and Other Markets\", \"Revenue (USD) (M)\": 19.6, \"Revenue (CNY) (M)\": 140.0}\n",
    "]\n",
    "\n",
    "labubu_sales = pd.DataFrame(data) "
   ]
  },
  {
   "cell_type": "markdown",
   "id": "7bd5cd6a-4b31-4fdd-ad32-d44eca9beb48",
   "metadata": {},
   "source": [
    "## Initial DataFrame Inspection\n",
    "\n",
    "For each code cell below, let's do some initial Inspection/Exploration of the Data.\n",
    "\n",
    "* __`df.head()`:__ to see the beginning of your data.\n",
    "* __`df.describe()`:__ for a statistical summary of numerical columns.\n",
    "* __`df.info()`:__ to check data types and non-null values."
   ]
  },
  {
   "cell_type": "code",
   "execution_count": 8,
   "id": "04b93512-e31e-4315-92d1-569e1fec19b1",
   "metadata": {},
   "outputs": [
    {
     "name": "stdout",
     "output_type": "stream",
     "text": [
      "<class 'pandas.core.frame.DataFrame'>\n",
      "RangeIndex: 4 entries, 0 to 3\n",
      "Data columns (total 3 columns):\n",
      " #   Column             Non-Null Count  Dtype  \n",
      "---  ------             --------------  -----  \n",
      " 0   Region             4 non-null      object \n",
      " 1   Revenue (USD) (M)  4 non-null      float64\n",
      " 2   Revenue (CNY) (M)  4 non-null      float64\n",
      "dtypes: float64(2), object(1)\n",
      "memory usage: 228.0+ bytes\n"
     ]
    }
   ],
   "source": [
    "## View Data Types and Non-Null Values\n",
    "\n",
    "labubu_sales.info()\n"
   ]
  },
  {
   "cell_type": "code",
   "execution_count": 9,
   "id": "007ad996-4957-4685-be83-4e01ce6e8edf",
   "metadata": {},
   "outputs": [
    {
     "data": {
      "text/html": [
       "<div>\n",
       "<style scoped>\n",
       "    .dataframe tbody tr th:only-of-type {\n",
       "        vertical-align: middle;\n",
       "    }\n",
       "\n",
       "    .dataframe tbody tr th {\n",
       "        vertical-align: top;\n",
       "    }\n",
       "\n",
       "    .dataframe thead th {\n",
       "        text-align: right;\n",
       "    }\n",
       "</style>\n",
       "<table border=\"1\" class=\"dataframe\">\n",
       "  <thead>\n",
       "    <tr style=\"text-align: right;\">\n",
       "      <th></th>\n",
       "      <th>Region</th>\n",
       "      <th>Revenue (USD) (M)</th>\n",
       "      <th>Revenue (CNY) (M)</th>\n",
       "    </tr>\n",
       "  </thead>\n",
       "  <tbody>\n",
       "    <tr>\n",
       "      <th>0</th>\n",
       "      <td>Southeast Asia</td>\n",
       "      <td>78.4</td>\n",
       "      <td>560.0</td>\n",
       "    </tr>\n",
       "    <tr>\n",
       "      <th>1</th>\n",
       "      <td>East Asia</td>\n",
       "      <td>67.0</td>\n",
       "      <td>480.0</td>\n",
       "    </tr>\n",
       "    <tr>\n",
       "      <th>2</th>\n",
       "      <td>North America</td>\n",
       "      <td>25.2</td>\n",
       "      <td>180.0</td>\n",
       "    </tr>\n",
       "    <tr>\n",
       "      <th>3</th>\n",
       "      <td>Europe and Other Markets</td>\n",
       "      <td>19.6</td>\n",
       "      <td>140.0</td>\n",
       "    </tr>\n",
       "  </tbody>\n",
       "</table>\n",
       "</div>"
      ],
      "text/plain": [
       "                     Region  Revenue (USD) (M)  Revenue (CNY) (M)\n",
       "0            Southeast Asia               78.4              560.0\n",
       "1                 East Asia               67.0              480.0\n",
       "2             North America               25.2              180.0\n",
       "3  Europe and Other Markets               19.6              140.0"
      ]
     },
     "execution_count": 9,
     "metadata": {},
     "output_type": "execute_result"
    }
   ],
   "source": [
    "## View Beginning of Data\n",
    "\n",
    "labubu_sales.head()\n"
   ]
  },
  {
   "cell_type": "code",
   "execution_count": 10,
   "id": "513c74cc-a7c7-4067-886f-2f813caa0217",
   "metadata": {},
   "outputs": [
    {
     "data": {
      "text/html": [
       "<div>\n",
       "<style scoped>\n",
       "    .dataframe tbody tr th:only-of-type {\n",
       "        vertical-align: middle;\n",
       "    }\n",
       "\n",
       "    .dataframe tbody tr th {\n",
       "        vertical-align: top;\n",
       "    }\n",
       "\n",
       "    .dataframe thead th {\n",
       "        text-align: right;\n",
       "    }\n",
       "</style>\n",
       "<table border=\"1\" class=\"dataframe\">\n",
       "  <thead>\n",
       "    <tr style=\"text-align: right;\">\n",
       "      <th></th>\n",
       "      <th>Revenue (USD) (M)</th>\n",
       "      <th>Revenue (CNY) (M)</th>\n",
       "    </tr>\n",
       "  </thead>\n",
       "  <tbody>\n",
       "    <tr>\n",
       "      <th>count</th>\n",
       "      <td>4.00</td>\n",
       "      <td>4.000000</td>\n",
       "    </tr>\n",
       "    <tr>\n",
       "      <th>mean</th>\n",
       "      <td>47.55</td>\n",
       "      <td>340.000000</td>\n",
       "    </tr>\n",
       "    <tr>\n",
       "      <th>std</th>\n",
       "      <td>29.50</td>\n",
       "      <td>211.029224</td>\n",
       "    </tr>\n",
       "    <tr>\n",
       "      <th>min</th>\n",
       "      <td>19.60</td>\n",
       "      <td>140.000000</td>\n",
       "    </tr>\n",
       "    <tr>\n",
       "      <th>25%</th>\n",
       "      <td>23.80</td>\n",
       "      <td>170.000000</td>\n",
       "    </tr>\n",
       "    <tr>\n",
       "      <th>50%</th>\n",
       "      <td>46.10</td>\n",
       "      <td>330.000000</td>\n",
       "    </tr>\n",
       "    <tr>\n",
       "      <th>75%</th>\n",
       "      <td>69.85</td>\n",
       "      <td>500.000000</td>\n",
       "    </tr>\n",
       "    <tr>\n",
       "      <th>max</th>\n",
       "      <td>78.40</td>\n",
       "      <td>560.000000</td>\n",
       "    </tr>\n",
       "  </tbody>\n",
       "</table>\n",
       "</div>"
      ],
      "text/plain": [
       "       Revenue (USD) (M)  Revenue (CNY) (M)\n",
       "count               4.00           4.000000\n",
       "mean               47.55         340.000000\n",
       "std                29.50         211.029224\n",
       "min                19.60         140.000000\n",
       "25%                23.80         170.000000\n",
       "50%                46.10         330.000000\n",
       "75%                69.85         500.000000\n",
       "max                78.40         560.000000"
      ]
     },
     "execution_count": 10,
     "metadata": {},
     "output_type": "execute_result"
    }
   ],
   "source": [
    "## View Statistical Summary\n",
    "\n",
    "labubu_sales.describe()\n"
   ]
  },
  {
   "cell_type": "markdown",
   "id": "9a99983e-5cec-40ad-8ecf-2c599b823bd1",
   "metadata": {},
   "source": [
    "## Total Sales\n",
    "<center>\n",
    "<img src=\"https://upload.wikimedia.org/wikipedia/commons/thumb/8/80/Pop_Mart_store_at_Lize_Paradise_Walk_%2820210911185655%29.jpg/1280px-Pop_Mart_store_at_Lize_Paradise_Walk_%2820210911185655%29.jpg\" width=60%>\n",
    "</center>\n",
    "image credit: wikimedia\n",
    "<br/>\n",
    "<br/>\n",
    "\n",
    "What is Popmart's total in Labubu Sales for all Regions?\n",
    "\n",
    "In the cells below, calculate Popmart's total sales in USD (US  Dollar) and CNY (Chinese Yuan)\n",
    "\n",
    "__Method__\n",
    "\n",
    "The `.sum()` method is useful for getting the total value of an entire column.\n",
    "\n",
    "__Syntax__:\n",
    "```python\n",
    "total = dataframe[column].sum()\n",
    "```"
   ]
  },
  {
   "cell_type": "code",
   "execution_count": 14,
   "id": "5dff72b9-c41d-48b3-8207-fe4febb26592",
   "metadata": {},
   "outputs": [
    {
     "name": "stdout",
     "output_type": "stream",
     "text": [
      "Total Revenue USD: $190.2 Million\n"
     ]
    }
   ],
   "source": [
    "## What is the Total Revenue in USD?\n",
    "total_revenue_usd = labubu_sales[\"Revenue (USD) (M)\"].sum()\n",
    "print(f\"Total Revenue USD: ${total_revenue_usd} Million\")"
   ]
  },
  {
   "cell_type": "code",
   "execution_count": 17,
   "id": "0ca15ebc-ad37-4045-bb27-261e6c337de5",
   "metadata": {},
   "outputs": [
    {
     "name": "stdout",
     "output_type": "stream",
     "text": [
      "Total Revenue CNY: ¥1360.0 Million\n"
     ]
    }
   ],
   "source": [
    "## What is the Total Revenue in CNY?\n",
    "total_revenue_cny = labubu_sales[\"Revenue (CNY) (M)\"].sum()\n",
    "print(f\"Total Revenue CNY: ¥{total_revenue_cny} Million\")"
   ]
  },
  {
   "cell_type": "markdown",
   "id": "27753f26-be61-4660-a470-5477d33f4994",
   "metadata": {},
   "source": [
    "## North America's Slice\n",
    "\n",
    "<center><img src=\"../images/web/labubu_jordans.jpg\" width= 60%></center>\n",
    "Now that we have the total sales, how much was from North America?\n",
    "\n",
    "We will have to isolate North America from the rest of the data.\n",
    "In order to isolate the data, we can create a boolean mask.\n",
    "\n",
    "We'll go through it step by step in the code cells below."
   ]
  },
  {
   "cell_type": "code",
   "execution_count": 27,
   "id": "bb388985-f9c3-4afe-adf4-121b8dd6d90e",
   "metadata": {},
   "outputs": [
    {
     "data": {
      "text/plain": [
       "0    False\n",
       "1    False\n",
       "2     True\n",
       "3    False\n",
       "Name: Region, dtype: bool"
      ]
     },
     "execution_count": 27,
     "metadata": {},
     "output_type": "execute_result"
    }
   ],
   "source": [
    "# North America's Slice of the Pie\n",
    "\n",
    "# Create a Boolean Mask\n",
    "north_america = labubu_sales[\"Region\"] == \"North America\"\n",
    "north_america"
   ]
  },
  {
   "cell_type": "code",
   "execution_count": 28,
   "id": "37136558-53d8-4fdf-9956-6f83d952b893",
   "metadata": {},
   "outputs": [
    {
     "data": {
      "text/html": [
       "<div>\n",
       "<style scoped>\n",
       "    .dataframe tbody tr th:only-of-type {\n",
       "        vertical-align: middle;\n",
       "    }\n",
       "\n",
       "    .dataframe tbody tr th {\n",
       "        vertical-align: top;\n",
       "    }\n",
       "\n",
       "    .dataframe thead th {\n",
       "        text-align: right;\n",
       "    }\n",
       "</style>\n",
       "<table border=\"1\" class=\"dataframe\">\n",
       "  <thead>\n",
       "    <tr style=\"text-align: right;\">\n",
       "      <th></th>\n",
       "      <th>Region</th>\n",
       "      <th>Revenue (USD) (M)</th>\n",
       "      <th>Revenue (CNY) (M)</th>\n",
       "    </tr>\n",
       "  </thead>\n",
       "  <tbody>\n",
       "    <tr>\n",
       "      <th>2</th>\n",
       "      <td>North America</td>\n",
       "      <td>25.2</td>\n",
       "      <td>180.0</td>\n",
       "    </tr>\n",
       "  </tbody>\n",
       "</table>\n",
       "</div>"
      ],
      "text/plain": [
       "          Region  Revenue (USD) (M)  Revenue (CNY) (M)\n",
       "2  North America               25.2              180.0"
      ]
     },
     "execution_count": 28,
     "metadata": {},
     "output_type": "execute_result"
    }
   ],
   "source": [
    "# Filter North America from the Data Frame\n",
    "filtered_df = labubu_sales[north_america]\n",
    "filtered_df"
   ]
  },
  {
   "cell_type": "code",
   "execution_count": 29,
   "id": "65c98258-566f-44b8-ad79-ffc9763f6c58",
   "metadata": {},
   "outputs": [
    {
     "data": {
      "text/plain": [
       "25.2"
      ]
     },
     "execution_count": 29,
     "metadata": {},
     "output_type": "execute_result"
    }
   ],
   "source": [
    "# Isolate the Revenue using--you'll need .item()\n",
    "north_america_usd = filtered_df[\"Revenue (USD) (M)\"].item()\n",
    "north_america_usd"
   ]
  },
  {
   "cell_type": "code",
   "execution_count": 31,
   "id": "f6e19d23-6817-484f-b064-4ef287ad368c",
   "metadata": {},
   "outputs": [
    {
     "name": "stdout",
     "output_type": "stream",
     "text": [
      "North American Revenue was 13.25% of Popmart's Total Labubu Revenue in 2024\n"
     ]
    }
   ],
   "source": [
    "# Calculate the North America Sales Percentage\n",
    "north_america_sales = (north_america_usd / total_revenue_usd) * 100\n",
    "\n",
    "print(f\"North American Revenue was {north_america_sales:.2f}% of Popmart's Total Labubu Revenue in 2024\")"
   ]
  },
  {
   "cell_type": "markdown",
   "id": "7a33f99c-53dd-4847-a484-9717c8fe9c32",
   "metadata": {},
   "source": [
    "## Loading a DataFrame: CSV File\n",
    "\n",
    "__Syntax__:\n",
    "```python\n",
    "dataframe = pd.read_csv(file_path)\n",
    "```"
   ]
  },
  {
   "cell_type": "markdown",
   "id": "a6ad5aa6-9088-4b35-b581-ee730214c47b",
   "metadata": {},
   "source": [
    "## Labubu Search Interest\n",
    "\n",
    "<center><img src=\"../images/web/labubu_hot_not.avif\" width=60%></center>\n",
    "image credit: The Atlantic\n",
    "<br/>\n",
    "<br/>\n",
    "Let's load some data about Labubu's Search Interest"
   ]
  },
  {
   "cell_type": "code",
   "execution_count": 34,
   "id": "996ad99d-ec96-4f72-a42d-222632772053",
   "metadata": {},
   "outputs": [],
   "source": [
    "# Create Data Frame\n",
    "# Data Source: Google Trends\n",
    "\n",
    "file = \"../data/labubu_interest_by_region.csv\"\n",
    "\n",
    "labubu_interest = pd.read_csv(file)\n"
   ]
  },
  {
   "cell_type": "markdown",
   "id": "baf1f3ea-388f-4598-8d22-11d29348cbd1",
   "metadata": {},
   "source": [
    "## Initial DataFrame Inspection\n",
    "\n",
    "For each code cell below, let's do some initial Inspection/Exploration of the Data.\n",
    "\n",
    "\n",
    "* __`df.info()`:__ to check data types and non-null values.\n",
    "* __`df.head()`:__ to see the beginning of your data.\n",
    "* __`df.tail()`:__ to see teh end of your data.\n",
    "* __`df.describe()`:__ for a statistical summary of numerical columns."
   ]
  },
  {
   "cell_type": "code",
   "execution_count": 35,
   "id": "cbaa2a3a-6c1f-44f9-bbe8-17b3687e3eba",
   "metadata": {},
   "outputs": [
    {
     "name": "stdout",
     "output_type": "stream",
     "text": [
      "<class 'pandas.core.frame.DataFrame'>\n",
      "RangeIndex: 250 entries, 0 to 249\n",
      "Data columns (total 2 columns):\n",
      " #   Column    Non-Null Count  Dtype  \n",
      "---  ------    --------------  -----  \n",
      " 0   Region    250 non-null    object \n",
      " 1   Interest  59 non-null     float64\n",
      "dtypes: float64(1), object(1)\n",
      "memory usage: 4.0+ KB\n"
     ]
    }
   ],
   "source": [
    "# Data Types and Information\n",
    "labubu_interest.info()\n"
   ]
  },
  {
   "cell_type": "code",
   "execution_count": 38,
   "id": "4db8018b-466c-42a6-8396-1dddae0c5b32",
   "metadata": {},
   "outputs": [
    {
     "data": {
      "text/html": [
       "<div>\n",
       "<style scoped>\n",
       "    .dataframe tbody tr th:only-of-type {\n",
       "        vertical-align: middle;\n",
       "    }\n",
       "\n",
       "    .dataframe tbody tr th {\n",
       "        vertical-align: top;\n",
       "    }\n",
       "\n",
       "    .dataframe thead th {\n",
       "        text-align: right;\n",
       "    }\n",
       "</style>\n",
       "<table border=\"1\" class=\"dataframe\">\n",
       "  <thead>\n",
       "    <tr style=\"text-align: right;\">\n",
       "      <th></th>\n",
       "      <th>Region</th>\n",
       "      <th>Interest</th>\n",
       "    </tr>\n",
       "  </thead>\n",
       "  <tbody>\n",
       "    <tr>\n",
       "      <th>0</th>\n",
       "      <td>Macao</td>\n",
       "      <td>NaN</td>\n",
       "    </tr>\n",
       "    <tr>\n",
       "      <th>1</th>\n",
       "      <td>Hong Kong</td>\n",
       "      <td>100.0</td>\n",
       "    </tr>\n",
       "    <tr>\n",
       "      <th>2</th>\n",
       "      <td>Singapore</td>\n",
       "      <td>86.0</td>\n",
       "    </tr>\n",
       "    <tr>\n",
       "      <th>3</th>\n",
       "      <td>Guam</td>\n",
       "      <td>NaN</td>\n",
       "    </tr>\n",
       "    <tr>\n",
       "      <th>4</th>\n",
       "      <td>Brunei</td>\n",
       "      <td>NaN</td>\n",
       "    </tr>\n",
       "  </tbody>\n",
       "</table>\n",
       "</div>"
      ],
      "text/plain": [
       "      Region  Interest\n",
       "0      Macao       NaN\n",
       "1  Hong Kong     100.0\n",
       "2  Singapore      86.0\n",
       "3       Guam       NaN\n",
       "4     Brunei       NaN"
      ]
     },
     "execution_count": 38,
     "metadata": {},
     "output_type": "execute_result"
    }
   ],
   "source": [
    "# Beginning of Data\n",
    "labubu_interest.head()\n",
    "\n"
   ]
  },
  {
   "cell_type": "code",
   "execution_count": 39,
   "id": "bd12f050-73a8-445c-b909-cf9f0115cd6f",
   "metadata": {},
   "outputs": [
    {
     "data": {
      "text/html": [
       "<div>\n",
       "<style scoped>\n",
       "    .dataframe tbody tr th:only-of-type {\n",
       "        vertical-align: middle;\n",
       "    }\n",
       "\n",
       "    .dataframe tbody tr th {\n",
       "        vertical-align: top;\n",
       "    }\n",
       "\n",
       "    .dataframe thead th {\n",
       "        text-align: right;\n",
       "    }\n",
       "</style>\n",
       "<table border=\"1\" class=\"dataframe\">\n",
       "  <thead>\n",
       "    <tr style=\"text-align: right;\">\n",
       "      <th></th>\n",
       "      <th>Region</th>\n",
       "      <th>Interest</th>\n",
       "    </tr>\n",
       "  </thead>\n",
       "  <tbody>\n",
       "    <tr>\n",
       "      <th>245</th>\n",
       "      <td>Antarctica</td>\n",
       "      <td>NaN</td>\n",
       "    </tr>\n",
       "    <tr>\n",
       "      <th>246</th>\n",
       "      <td>Pitcairn Islands</td>\n",
       "      <td>NaN</td>\n",
       "    </tr>\n",
       "    <tr>\n",
       "      <th>247</th>\n",
       "      <td>Norfolk Island</td>\n",
       "      <td>NaN</td>\n",
       "    </tr>\n",
       "    <tr>\n",
       "      <th>248</th>\n",
       "      <td>Niue</td>\n",
       "      <td>NaN</td>\n",
       "    </tr>\n",
       "    <tr>\n",
       "      <th>249</th>\n",
       "      <td>Falkland Islands (Islas Malvinas)</td>\n",
       "      <td>NaN</td>\n",
       "    </tr>\n",
       "  </tbody>\n",
       "</table>\n",
       "</div>"
      ],
      "text/plain": [
       "                                Region  Interest\n",
       "245                         Antarctica       NaN\n",
       "246                   Pitcairn Islands       NaN\n",
       "247                     Norfolk Island       NaN\n",
       "248                               Niue       NaN\n",
       "249  Falkland Islands (Islas Malvinas)       NaN"
      ]
     },
     "execution_count": 39,
     "metadata": {},
     "output_type": "execute_result"
    }
   ],
   "source": [
    "# End of Data\n",
    "labubu_interest.tail()\n",
    "\n"
   ]
  },
  {
   "cell_type": "code",
   "execution_count": 41,
   "id": "278b08f4-03a6-4b8d-92d2-3906adcbaf8e",
   "metadata": {},
   "outputs": [
    {
     "data": {
      "text/html": [
       "<div>\n",
       "<style scoped>\n",
       "    .dataframe tbody tr th:only-of-type {\n",
       "        vertical-align: middle;\n",
       "    }\n",
       "\n",
       "    .dataframe tbody tr th {\n",
       "        vertical-align: top;\n",
       "    }\n",
       "\n",
       "    .dataframe thead th {\n",
       "        text-align: right;\n",
       "    }\n",
       "</style>\n",
       "<table border=\"1\" class=\"dataframe\">\n",
       "  <thead>\n",
       "    <tr style=\"text-align: right;\">\n",
       "      <th></th>\n",
       "      <th>Interest</th>\n",
       "    </tr>\n",
       "  </thead>\n",
       "  <tbody>\n",
       "    <tr>\n",
       "      <th>count</th>\n",
       "      <td>59.000000</td>\n",
       "    </tr>\n",
       "    <tr>\n",
       "      <th>mean</th>\n",
       "      <td>22.745763</td>\n",
       "    </tr>\n",
       "    <tr>\n",
       "      <th>std</th>\n",
       "      <td>17.043143</td>\n",
       "    </tr>\n",
       "    <tr>\n",
       "      <th>min</th>\n",
       "      <td>1.000000</td>\n",
       "    </tr>\n",
       "    <tr>\n",
       "      <th>25%</th>\n",
       "      <td>13.500000</td>\n",
       "    </tr>\n",
       "    <tr>\n",
       "      <th>50%</th>\n",
       "      <td>21.000000</td>\n",
       "    </tr>\n",
       "    <tr>\n",
       "      <th>75%</th>\n",
       "      <td>29.000000</td>\n",
       "    </tr>\n",
       "    <tr>\n",
       "      <th>max</th>\n",
       "      <td>100.000000</td>\n",
       "    </tr>\n",
       "  </tbody>\n",
       "</table>\n",
       "</div>"
      ],
      "text/plain": [
       "         Interest\n",
       "count   59.000000\n",
       "mean    22.745763\n",
       "std     17.043143\n",
       "min      1.000000\n",
       "25%     13.500000\n",
       "50%     21.000000\n",
       "75%     29.000000\n",
       "max    100.000000"
      ]
     },
     "execution_count": 41,
     "metadata": {},
     "output_type": "execute_result"
    }
   ],
   "source": [
    "# Statistical Summary\n",
    "labubu_interest.describe()\n",
    "\n"
   ]
  },
  {
   "cell_type": "markdown",
   "id": "949ed592-445e-4d12-9f64-2e83d2d56704",
   "metadata": {},
   "source": [
    "## Sort Data: View Top 10 Regions\n",
    "\n",
    "Where is Labubu the most popular (in terms of Google Search)?\n",
    "\n",
    "We'll need an additional method to make this happen (`df.sort_values()`)\n",
    " \n",
    "__Syntax__:\n",
    "\n",
    "```python\n",
    "dataframe.sort_values(by=column_name, ascending=False).head(10)\n",
    "```\n",
    "\n",
    "What additional method will we use to view the Top 10 Regions after they have been sorted?"
   ]
  },
  {
   "cell_type": "code",
   "execution_count": 43,
   "id": "58635e0f-7a23-4817-a54d-ade79e9246b5",
   "metadata": {},
   "outputs": [
    {
     "data": {
      "text/html": [
       "<div>\n",
       "<style scoped>\n",
       "    .dataframe tbody tr th:only-of-type {\n",
       "        vertical-align: middle;\n",
       "    }\n",
       "\n",
       "    .dataframe tbody tr th {\n",
       "        vertical-align: top;\n",
       "    }\n",
       "\n",
       "    .dataframe thead th {\n",
       "        text-align: right;\n",
       "    }\n",
       "</style>\n",
       "<table border=\"1\" class=\"dataframe\">\n",
       "  <thead>\n",
       "    <tr style=\"text-align: right;\">\n",
       "      <th></th>\n",
       "      <th>Region</th>\n",
       "      <th>Interest</th>\n",
       "    </tr>\n",
       "  </thead>\n",
       "  <tbody>\n",
       "    <tr>\n",
       "      <th>1</th>\n",
       "      <td>Hong Kong</td>\n",
       "      <td>100.0</td>\n",
       "    </tr>\n",
       "    <tr>\n",
       "      <th>2</th>\n",
       "      <td>Singapore</td>\n",
       "      <td>86.0</td>\n",
       "    </tr>\n",
       "    <tr>\n",
       "      <th>7</th>\n",
       "      <td>Australia</td>\n",
       "      <td>42.0</td>\n",
       "    </tr>\n",
       "    <tr>\n",
       "      <th>9</th>\n",
       "      <td>Poland</td>\n",
       "      <td>39.0</td>\n",
       "    </tr>\n",
       "    <tr>\n",
       "      <th>10</th>\n",
       "      <td>United Arab Emirates</td>\n",
       "      <td>37.0</td>\n",
       "    </tr>\n",
       "    <tr>\n",
       "      <th>11</th>\n",
       "      <td>Slovakia</td>\n",
       "      <td>36.0</td>\n",
       "    </tr>\n",
       "    <tr>\n",
       "      <th>12</th>\n",
       "      <td>United States</td>\n",
       "      <td>36.0</td>\n",
       "    </tr>\n",
       "    <tr>\n",
       "      <th>14</th>\n",
       "      <td>Malaysia</td>\n",
       "      <td>35.0</td>\n",
       "    </tr>\n",
       "    <tr>\n",
       "      <th>16</th>\n",
       "      <td>Czechia</td>\n",
       "      <td>35.0</td>\n",
       "    </tr>\n",
       "    <tr>\n",
       "      <th>17</th>\n",
       "      <td>Sweden</td>\n",
       "      <td>32.0</td>\n",
       "    </tr>\n",
       "  </tbody>\n",
       "</table>\n",
       "</div>"
      ],
      "text/plain": [
       "                  Region  Interest\n",
       "1              Hong Kong     100.0\n",
       "2              Singapore      86.0\n",
       "7              Australia      42.0\n",
       "9                 Poland      39.0\n",
       "10  United Arab Emirates      37.0\n",
       "11              Slovakia      36.0\n",
       "12         United States      36.0\n",
       "14              Malaysia      35.0\n",
       "16               Czechia      35.0\n",
       "17                Sweden      32.0"
      ]
     },
     "execution_count": 43,
     "metadata": {},
     "output_type": "execute_result"
    }
   ],
   "source": [
    "### Sort by Interest - Top 10\n",
    "\n",
    "labubu_interest.sort_values(by=\"Interest\", ascending=False).head(10)\n"
   ]
  },
  {
   "cell_type": "markdown",
   "id": "3d70340c-0726-4aca-bfb5-dd44250788a1",
   "metadata": {},
   "source": [
    "## Sort Data: View Bottom 10 Regions\n",
    "\n",
    "Can we apply similiar techinques to discover the bottom 10 regions for Labubu search interest?\n",
    "\n",
    "Give it a try in the code cell below."
   ]
  },
  {
   "cell_type": "code",
   "execution_count": 47,
   "id": "a913a705-0560-4a3c-9b1a-1856a7416eed",
   "metadata": {},
   "outputs": [
    {
     "data": {
      "text/html": [
       "<div>\n",
       "<style scoped>\n",
       "    .dataframe tbody tr th:only-of-type {\n",
       "        vertical-align: middle;\n",
       "    }\n",
       "\n",
       "    .dataframe tbody tr th {\n",
       "        vertical-align: top;\n",
       "    }\n",
       "\n",
       "    .dataframe thead th {\n",
       "        text-align: right;\n",
       "    }\n",
       "</style>\n",
       "<table border=\"1\" class=\"dataframe\">\n",
       "  <thead>\n",
       "    <tr style=\"text-align: right;\">\n",
       "      <th></th>\n",
       "      <th>Region</th>\n",
       "      <th>Interest</th>\n",
       "    </tr>\n",
       "  </thead>\n",
       "  <tbody>\n",
       "    <tr>\n",
       "      <th>240</th>\n",
       "      <td>Burundi</td>\n",
       "      <td>NaN</td>\n",
       "    </tr>\n",
       "    <tr>\n",
       "      <th>241</th>\n",
       "      <td>French Southern Territories</td>\n",
       "      <td>NaN</td>\n",
       "    </tr>\n",
       "    <tr>\n",
       "      <th>242</th>\n",
       "      <td>Palau</td>\n",
       "      <td>NaN</td>\n",
       "    </tr>\n",
       "    <tr>\n",
       "      <th>243</th>\n",
       "      <td>Wallis &amp; Futuna</td>\n",
       "      <td>NaN</td>\n",
       "    </tr>\n",
       "    <tr>\n",
       "      <th>244</th>\n",
       "      <td>Montserrat</td>\n",
       "      <td>NaN</td>\n",
       "    </tr>\n",
       "    <tr>\n",
       "      <th>245</th>\n",
       "      <td>Antarctica</td>\n",
       "      <td>NaN</td>\n",
       "    </tr>\n",
       "    <tr>\n",
       "      <th>246</th>\n",
       "      <td>Pitcairn Islands</td>\n",
       "      <td>NaN</td>\n",
       "    </tr>\n",
       "    <tr>\n",
       "      <th>247</th>\n",
       "      <td>Norfolk Island</td>\n",
       "      <td>NaN</td>\n",
       "    </tr>\n",
       "    <tr>\n",
       "      <th>248</th>\n",
       "      <td>Niue</td>\n",
       "      <td>NaN</td>\n",
       "    </tr>\n",
       "    <tr>\n",
       "      <th>249</th>\n",
       "      <td>Falkland Islands (Islas Malvinas)</td>\n",
       "      <td>NaN</td>\n",
       "    </tr>\n",
       "  </tbody>\n",
       "</table>\n",
       "</div>"
      ],
      "text/plain": [
       "                                Region  Interest\n",
       "240                            Burundi       NaN\n",
       "241        French Southern Territories       NaN\n",
       "242                              Palau       NaN\n",
       "243                    Wallis & Futuna       NaN\n",
       "244                         Montserrat       NaN\n",
       "245                         Antarctica       NaN\n",
       "246                   Pitcairn Islands       NaN\n",
       "247                     Norfolk Island       NaN\n",
       "248                               Niue       NaN\n",
       "249  Falkland Islands (Islas Malvinas)       NaN"
      ]
     },
     "execution_count": 47,
     "metadata": {},
     "output_type": "execute_result"
    }
   ],
   "source": [
    "## Bottom 10 by Interest\n",
    "\n",
    "labubu_interest.sort_values(by=\"Interest\", ascending=False).tail(10)\n",
    "\n"
   ]
  }
 ],
 "metadata": {
  "kernelspec": {
   "display_name": "Python 3 (ipykernel)",
   "language": "python",
   "name": "python3"
  },
  "language_info": {
   "codemirror_mode": {
    "name": "ipython",
    "version": 3
   },
   "file_extension": ".py",
   "mimetype": "text/x-python",
   "name": "python",
   "nbconvert_exporter": "python",
   "pygments_lexer": "ipython3",
   "version": "3.12.5"
  }
 },
 "nbformat": 4,
 "nbformat_minor": 5
}
