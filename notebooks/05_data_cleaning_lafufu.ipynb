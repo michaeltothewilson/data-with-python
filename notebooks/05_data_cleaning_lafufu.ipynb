{
 "cells": [
  {
   "cell_type": "markdown",
   "id": "55d78615-7503-47ea-9dc7-f7f765c270d0",
   "metadata": {},
   "source": [
    "# Cleaning Data\n",
    "\n",
    "<center><img src=\"https://cdn.shopify.com/s/files/1/0814/0441/files/lafufu_daobubu__1_vivian.jpg\" width=30%></center>\n",
    "\n",
    "Is this Labubu or Lafufu?\n",
    "\n",
    "## Goals\n",
    "\n",
    "* Explore the Popularity of Labubu vs Lafufu\n",
    "* Implement Data Cleaning Techniques"
   ]
  },
  {
   "cell_type": "markdown",
   "id": "abe17038-668d-45a0-9d65-8d14f9f55eea",
   "metadata": {},
   "source": [
    "## Import Pandas\n",
    "\n",
    "Before we begin, import Pandas."
   ]
  },
  {
   "cell_type": "code",
   "execution_count": null,
   "id": "c4ebfcab-46e4-4141-8abf-4bd85dc6aed4",
   "metadata": {},
   "outputs": [],
   "source": [
    "# Import Pandas\n",
    "import pandas as pd"
   ]
  },
  {
   "cell_type": "markdown",
   "id": "a62279f5-9095-46ed-ae64-11a625a44ef8",
   "metadata": {},
   "source": [
    "## Revisiting Labubu Popularity\n",
    "\n",
    "Let's take a look at the Labubu search interest again.\n",
    "Load the dataset in the cell below."
   ]
  },
  {
   "cell_type": "code",
   "execution_count": null,
   "id": "ea4ecbd4-d21c-47a6-a162-fb515ee79f79",
   "metadata": {},
   "outputs": [],
   "source": [
    "# Load Labubu Data\n",
    "# Source: Google Trends\n",
    "file = \"../data/labubu_interest_by_region.csv\"\n",
    "\n",
    "labubu_df = "
   ]
  },
  {
   "cell_type": "markdown",
   "id": "f4d7786a-2b89-4055-bd89-442fc4443052",
   "metadata": {},
   "source": [
    "## View Information Before Organization\n",
    "\n",
    "Getting descriptive information about the dataset will give us an idea where to get started with the cleaning process.\n",
    "\n",
    "Go ahead and do that in the cell below.\n",
    "\n",
    "What do you notice? \n",
    "\n",
    "How might we go about cleaning the dataset?"
   ]
  },
  {
   "cell_type": "code",
   "execution_count": null,
   "id": "c0453883-0347-4acc-9a03-a70dfaeb01e6",
   "metadata": {},
   "outputs": [],
   "source": [
    "# View Information\n"
   ]
  },
  {
   "cell_type": "markdown",
   "id": "b9f0baa8-52f9-43c6-8ce9-37df0677a87f",
   "metadata": {},
   "source": [
    "## Removing NaN Values\n",
    "\n",
    "There are plenty of missing values in this dataset.\n",
    "For the purposes of this exercise, let's go ahead and drop any null rows in the cell below."
   ]
  },
  {
   "cell_type": "code",
   "execution_count": null,
   "id": "c4e67620-4dea-4fd0-9f5a-1e0164247ef0",
   "metadata": {},
   "outputs": [],
   "source": [
    "## Remove NaN values from Labubu Data\n"
   ]
  },
  {
   "cell_type": "markdown",
   "id": "ceb122ad-eeae-497a-b02b-ffe84ecf9b22",
   "metadata": {},
   "source": [
    "## View the Updated Information"
   ]
  },
  {
   "cell_type": "code",
   "execution_count": null,
   "id": "3c2a144b-add1-4ee8-a13e-f7a24986ff8e",
   "metadata": {},
   "outputs": [],
   "source": [
    "## View New Information\n"
   ]
  },
  {
   "cell_type": "markdown",
   "id": "42c0bbd5-b084-426a-9c67-fd98dab16709",
   "metadata": {},
   "source": [
    "## Column Names\n",
    "\n",
    "It may not seem like a big deal, but let's modify the column names.\n",
    "Let's make them all lowercase for consistency and generally being easier to type when referenced.\n",
    "Additionally, we should remove any leading or training white-spaces."
   ]
  },
  {
   "cell_type": "code",
   "execution_count": null,
   "id": "31c04fdb-6c75-44a8-9b80-35e0f05faf2d",
   "metadata": {},
   "outputs": [],
   "source": [
    "## Fix up the Columns\n"
   ]
  },
  {
   "cell_type": "markdown",
   "id": "4c1d15e6-6a65-48d6-a6b9-c16d360e3a5b",
   "metadata": {},
   "source": [
    "## Take a look\n",
    "\n",
    "At the updated columns in the cell below."
   ]
  },
  {
   "cell_type": "code",
   "execution_count": null,
   "id": "16941294-5d6f-4e7c-9a9d-805fbfa01e7b",
   "metadata": {},
   "outputs": [],
   "source": [
    "## Output Info...again\n"
   ]
  },
  {
   "cell_type": "markdown",
   "id": "3ab88c5b-cbbf-4498-a965-ca327adda1e5",
   "metadata": {},
   "source": [
    "## View Statistical Data\n",
    "\n",
    "Did our small operation affect anything about the data in a significant way?\n",
    "\n",
    "Let's get statistical information on the original and cleaned versions of the dataframe."
   ]
  },
  {
   "cell_type": "code",
   "execution_count": null,
   "id": "d2718cb9-50b1-4834-8621-f6cfa3fda020",
   "metadata": {},
   "outputs": [],
   "source": [
    "## View Original Statistical Data\n"
   ]
  },
  {
   "cell_type": "code",
   "execution_count": null,
   "id": "77dc7915-1a49-4e81-827d-dc0b60bc439b",
   "metadata": {},
   "outputs": [],
   "source": [
    "## View Cleaned Statistical Data\n"
   ]
  },
  {
   "cell_type": "markdown",
   "id": "835671d7-826a-40de-ad5c-f59bdc567c6d",
   "metadata": {},
   "source": [
    "## Not Really...\n",
    "\n",
    "In terms of game changing impact, the bit of cleaning we did, had no affect on the statistical side of our dataset.\n",
    "\n",
    "Let's look at a more problematic dataset.\n",
    "\n",
    "Lafufu enters the chat."
   ]
  },
  {
   "cell_type": "markdown",
   "id": "4b90533d-6f97-4433-b4e5-d0529201e80a",
   "metadata": {},
   "source": [
    "## Load Lafufu Data"
   ]
  },
  {
   "cell_type": "code",
   "execution_count": null,
   "id": "38d64ce4-4b6a-4885-bcc5-669b369f14e9",
   "metadata": {},
   "outputs": [],
   "source": [
    "# Load Lafufu Data\n",
    "## Data Source: Google Trends\n",
    "\n",
    "file = \"../data/lafufu_interest_by_region.csv\"\n",
    "\n",
    "lafufu_df = pd.read_csv(file)"
   ]
  },
  {
   "cell_type": "code",
   "execution_count": null,
   "id": "ae2c0ddf-ce0e-4490-982c-9b4ba968cbc7",
   "metadata": {},
   "outputs": [],
   "source": [
    "# View Information\n"
   ]
  },
  {
   "cell_type": "markdown",
   "id": "30a25908-eb69-41b5-81e6-ab202617e038",
   "metadata": {},
   "source": [
    "## Lower Case Column Names\n",
    "\n",
    "Let's modify the column names in the cell below."
   ]
  },
  {
   "cell_type": "code",
   "execution_count": null,
   "id": "7e8c1dc4-85a3-4408-bc6f-77852eec9f8f",
   "metadata": {},
   "outputs": [],
   "source": [
    "## Modify Column Names\n"
   ]
  },
  {
   "cell_type": "markdown",
   "id": "51d603c4-a255-4245-8247-c9c5af7dad0c",
   "metadata": {},
   "source": [
    "## Remove NaN Values"
   ]
  },
  {
   "cell_type": "code",
   "execution_count": null,
   "id": "a6aacade-3669-4c55-a2cc-3fad89f1507d",
   "metadata": {},
   "outputs": [],
   "source": [
    "## Remove NaN Values\n"
   ]
  },
  {
   "cell_type": "markdown",
   "id": "e3d4dfda-6240-42ee-a2ff-daaa74578507",
   "metadata": {},
   "source": [
    "## View Updates"
   ]
  },
  {
   "cell_type": "code",
   "execution_count": null,
   "id": "a47b1d42-5638-4fbd-9992-3110900ae21e",
   "metadata": {},
   "outputs": [],
   "source": [
    "## View Information\n"
   ]
  },
  {
   "cell_type": "markdown",
   "id": "d5be1f38-099a-476b-b870-0627d271d2d1",
   "metadata": {},
   "source": [
    "## Tail\n",
    "\n",
    "Look at the last view values, notice anything?"
   ]
  },
  {
   "cell_type": "code",
   "execution_count": null,
   "id": "8ba31c4f-8e6d-4815-9404-833241b5f605",
   "metadata": {},
   "outputs": [],
   "source": [
    "## View the last rows\n"
   ]
  },
  {
   "cell_type": "markdown",
   "id": "67674de3-0e85-47a8-b384-76a90999c095",
   "metadata": {},
   "source": [
    "## Get Statistical Data"
   ]
  },
  {
   "cell_type": "code",
   "execution_count": null,
   "id": "3caff39e-48fe-408c-b013-fff8bcf628e5",
   "metadata": {},
   "outputs": [],
   "source": [
    "## Statistical Data\n"
   ]
  },
  {
   "cell_type": "markdown",
   "id": "86fb8e67-9bf0-4e09-b621-1f19f9740494",
   "metadata": {},
   "source": [
    "## Change Data Type\n",
    "\n",
    "Interest should be a float\n",
    "\n",
    "__Syntax__:\n",
    "```python\n",
    "dataframe[column] = pd.to_numeric(dataframe[column], errors=\"coerce\")\n",
    "```"
   ]
  },
  {
   "cell_type": "code",
   "execution_count": null,
   "id": "056b5900-3532-49c0-8335-4fec80b7b07f",
   "metadata": {},
   "outputs": [],
   "source": [
    "## Change Interest Column to Numeric Data Type\n",
    "lafufu_cleaned[\"Interest\"] = pd.to_numeric(lafufu_cleaned[\"Interest\"],\n",
    "                                           errors=\"coerce\")\n",
    "\n"
   ]
  },
  {
   "cell_type": "code",
   "execution_count": null,
   "id": "db3e004d-f214-404b-87b3-e61d20f3e883",
   "metadata": {},
   "outputs": [],
   "source": [
    "## View Information\n"
   ]
  },
  {
   "cell_type": "markdown",
   "id": "4ac76092-1e45-4de8-ac00-33fd3550ee94",
   "metadata": {},
   "source": [
    "## Check the Tail Again"
   ]
  },
  {
   "cell_type": "code",
   "execution_count": null,
   "id": "18c36fd5-849d-4e67-8b7b-d0721d19f034",
   "metadata": {},
   "outputs": [],
   "source": [
    "## Check the Tail Again\n"
   ]
  },
  {
   "cell_type": "markdown",
   "id": "f1d2556c-4aed-49ba-9578-02ad1e68d2fd",
   "metadata": {},
   "source": [
    "## Drop the Remaining Rows Containing Null Values"
   ]
  },
  {
   "cell_type": "code",
   "execution_count": null,
   "id": "b59eafa0-d956-438c-9f81-ad82bc92c158",
   "metadata": {},
   "outputs": [],
   "source": [
    "## Drop the Last Null Rows\n",
    "\n",
    "\n",
    "# Display the Information\n"
   ]
  },
  {
   "cell_type": "markdown",
   "id": "8cba20ca-f033-4f2a-a8df-32736da24057",
   "metadata": {},
   "source": [
    "## Check the Stats Again"
   ]
  },
  {
   "cell_type": "code",
   "execution_count": null,
   "id": "fb2a2ff8-b330-4f49-a1d5-26ae31d8ecc4",
   "metadata": {},
   "outputs": [],
   "source": [
    "## Display Statistical Information\n",
    "lafufu_cleaned.describe()"
   ]
  },
  {
   "cell_type": "markdown",
   "id": "740a918c-14a9-4eb8-bf2a-e26bb0ec1f3d",
   "metadata": {},
   "source": [
    "## Where is Lafufu Most Popular by Google Search"
   ]
  },
  {
   "cell_type": "code",
   "execution_count": null,
   "id": "fd94c6a2-c794-4189-ba36-79c6ad3d202a",
   "metadata": {},
   "outputs": [],
   "source": [
    "## Display Top 10 Lafufu Regions\n"
   ]
  }
 ],
 "metadata": {
  "kernelspec": {
   "display_name": "Python 3 (ipykernel)",
   "language": "python",
   "name": "python3"
  },
  "language_info": {
   "codemirror_mode": {
    "name": "ipython",
    "version": 3
   },
   "file_extension": ".py",
   "mimetype": "text/x-python",
   "name": "python",
   "nbconvert_exporter": "python",
   "pygments_lexer": "ipython3",
   "version": "3.12.5"
  }
 },
 "nbformat": 4,
 "nbformat_minor": 5
}
