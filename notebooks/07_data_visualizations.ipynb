{
 "cells": [
  {
   "cell_type": "markdown",
   "id": "a3863477-82a1-42aa-af76-d3ebb6113975",
   "metadata": {},
   "source": [
    "# Creating Visualizations\n",
    "\n",
    "To truly understand a dataset, simply looking at the raw numbers often isn't sufficient. \n",
    "\n",
    "Data visualization offers a powerful solution. By presenting information in visual formats like charts, we can unlock our ability to recognize trends and patterns effectively."
   ]
  },
  {
   "cell_type": "markdown",
   "id": "af74b22b-4946-49b4-ae49-d9e373ceaff9",
   "metadata": {},
   "source": [
    "# Plotting with Matplotlib\n",
    "\n",
    "Matplotlib is a widely used and powerful Python library for creating data visualizations. \n",
    "\n",
    "It structures each plot as a collection of organized elements, allowing for highly customized charts and graphs."
   ]
  },
  {
   "cell_type": "markdown",
   "id": "479ab4a9-0c7d-4bdf-8a00-05760a72bfdb",
   "metadata": {},
   "source": [
    "## Installing Matplotlib\n",
    "\n",
    "```bash\n",
    "!pip install matplotlib\n",
    "```\n",
    "\n",
    "## Using Matplotlib\n",
    "When working with Matplotlib in Python, it's common practice to import it using the alias `plt`. \n",
    "\n",
    "To get started, let's import `pandas` and `matplotlib`:"
   ]
  },
  {
   "cell_type": "code",
   "execution_count": null,
   "id": "3e85bfb3-8226-4a17-941a-75a5940b2a3a",
   "metadata": {},
   "outputs": [],
   "source": [
    "## Begin Code\n",
    "\n",
    "import pandas as pd\n",
    "import matplotlib.pyplot as plt\n",
    "import yfinance as yf\n",
    "## End Code"
   ]
  },
  {
   "cell_type": "markdown",
   "id": "aa6a623f-69da-4964-9f0f-c37295e82f7a",
   "metadata": {},
   "source": [
    "# Common Visualizations\n",
    "\n",
    "Next, we're going to explore some of the most common and useful ways to visualize data. We'll focus on these four key types:\n",
    "\n",
    "* Line Graphs\n",
    "* Bar Graphs\n",
    "* Pie Charts\n",
    "* Histograms"
   ]
  },
  {
   "cell_type": "markdown",
   "id": "cd0f2828-8ac9-42da-8ad6-60bdbdf13972",
   "metadata": {},
   "source": [
    "## Line Graphs\n",
    "\n",
    "Line graphs (or line charts) are particularly useful for illustrating trends in data across a continuous period. \n",
    "\n",
    "The x-axis of the graph usually represents a time series (like days, months, or years), and the y-axis displays the corresponding numerical data. \n",
    "\n",
    "By connecting these data points with lines, we can clearly see how values rise and fall over time."
   ]
  },
  {
   "cell_type": "markdown",
   "id": "c508eda0-dfc9-44bd-9ab4-41088775416a",
   "metadata": {},
   "source": [
    "### Line Graph: Tesla\n",
    "\n",
    "Speaking of rise and fall over time. Let's take another look at Tesla's Stock Performance.\n",
    "\n",
    "Let's Create a DataFrame to contain Tesla's Year-to-Date stock performance using the `yfinance` module:"
   ]
  },
  {
   "cell_type": "code",
   "execution_count": null,
   "id": "93a5fee9-9c26-414f-820b-2e8fbe0767ca",
   "metadata": {},
   "outputs": [],
   "source": [
    "## Begin Code\n",
    "!pip install yfinance\n",
    "import yfinance as yf\n",
    "\n",
    "tesla_ticker = \"TSLA\"\n",
    "\n",
    "tesla = yf.Ticker(tesla_ticker)\n",
    "\n",
    "tesla_history = tesla.history(period = \"1y\")\n",
    "\n",
    "tesla_history.head()"
   ]
  },
  {
   "cell_type": "markdown",
   "id": "19c6c7d8-a880-41c2-9d7b-b200916b8340",
   "metadata": {},
   "source": [
    "Next up, using `matplotlib`, let's visualize Tesla's closing price using the following steps:\n",
    "\n",
    "__Create the Line Graph__\n",
    "* `plt.figure(figsize=(12, 6))`: Creates a new figure for the plot with a specified size (width=12 inches, height=6 inches). This helps in making the plot more readable.\n",
    "* `plt.plot(tesla_history.index, tesla_history['Close'], label='Tesla Stock Price', color='blue')`: This is the core plotting function:\n",
    "    * `tesla_history.index`: Provides the dates for the x-axis.\n",
    "    * `tesla_history['Close']`: Provides the closing prices for the y-axis. We are choosing to plot the closing price. You could also plot 'Open', 'High', 'Low', or 'Adj Close'.\n",
    "    * label='Tesla Stock Price': Sets the label for the line, which will appear in the legend.\n",
    "    * color='blue': Sets the color of the line to blue.\n",
    "\n",
    "__Add Labels and Title__\n",
    "* `plt.xlabel(\"Date\")`: Sets the label for the x-axis as `\"Date\"`.\n",
    "* `plt.ylabel(\"Closing Price (USD)\")`: Sets the label for the y-axis as `\"Closing Price (USD)\"`.\n",
    "* `plt.title(\"Tesla Stock Price Over the Last Year\")`: Sets the title of the plot.\n",
    "* `plt.grid(True)`: Adds a grid to the plot, which can make it easier to read the values.\n",
    "* `plt.legend()`: Displays the legend, which identifies the plotted line.\n",
    "\n",
    "__Rotate x-axis labels for better readability__\n",
    "* `plt.xticks(rotation=45)`: Rotates the x-axis labels by 45 degrees. This is often useful when you have many dates to prevent the labels from overlapping.\n",
    "* `plt.tight_layout()`: Adjusts the plot layout to provide reasonable spacing between different elements, preventing labels from getting cut off.\n",
    "\n",
    "__Display the Plot__\n",
    "plt.show(): Displays the generated plot.\n"
   ]
  },
  {
   "cell_type": "code",
   "execution_count": null,
   "id": "b9fe3403-4437-4da5-b14e-b21f399abe9c",
   "metadata": {},
   "outputs": [],
   "source": [
    "figure_size = (12, 6)\n",
    "x = tesla_history.index\n",
    "y = tesla_history[\"Close\"]\n",
    "x_label = \"Date\"\n",
    "y_label = \"Closing Price (USD)\"\n",
    "title = \"Tesla Stock Price Over the Last Year\"\n",
    "\n",
    "tesla_history.plot.line(x=\"Index\", \n",
    "                        y=\"Close\", \n",
    "                        title=\"Telsa Stock YTD\")\n",
    "\"\"\"\n",
    "plt.figure(figsize = figure_size)\n",
    "plt.plot(x, y)\n",
    "\n",
    "plt.xlabel(x_label)\n",
    "plt.ylabel(y_label)\n",
    "plt.title(title)\n",
    "plt.grid(True)\n",
    "\n",
    "\n",
    "plt.xticks(rotation=45)\n",
    "plt.tight_layout()\n",
    "\"\"\"\n",
    "plt.show()"
   ]
  },
  {
   "cell_type": "markdown",
   "id": "0f1ab175-d1c0-4d45-aa9f-28543aaff5e0",
   "metadata": {},
   "source": [
    "## Bar Graphs\n",
    "\n",
    "Bar graphs are used to represent categorical data with rectangular bars. \n",
    "\n",
    "Typically, the height of each bar is proportional to the value it represents, making it easy to visually compare the magnitudes of different categories. \n",
    "\n",
    "While bars can be horizontal, they are most often displayed vertically. This allows for quick and intuitive comparisons between groups."
   ]
  },
  {
   "cell_type": "code",
   "execution_count": null,
   "id": "ab20db64-4bd4-4579-8d5e-d6c457b97c1c",
   "metadata": {},
   "outputs": [],
   "source": [
    "## Begin Code\n",
    "URL = \"https://s3.amazonaws.com/biketown-tripdata-public/2018_05.csv\"\n",
    "\n",
    "biketown = pd.read_csv(URL)\n",
    "\n",
    "biketown.head()\n",
    "## End Code"
   ]
  },
  {
   "cell_type": "code",
   "execution_count": null,
   "id": "a16468ad-aa58-48fc-8e5a-db45b1e9d5af",
   "metadata": {},
   "outputs": [],
   "source": [
    "## Begin Code\n",
    "\n",
    "# Count the number of trips for each user type\n",
    "payment_plans = biketown['PaymentPlan'].value_counts()\n",
    "\n",
    "# Create the bar graph\n",
    "size = (12, 6)\n",
    "colors = ['skyblue', 'lightcoral']\n",
    "title = 'Number of Trips by Payment Plan'\n",
    "x_label = 'Payment Plan'\n",
    "y_label = 'Number of Trips'\n",
    "\n",
    "plt.figure(figsize=size)\n",
    "payment_plans.plot(kind='bar', color=colors)\n",
    "\n",
    "# Labels and Titles\n",
    "plt.title(title)\n",
    "plt.xlabel(x_label)\n",
    "plt.ylabel(y_label)\n",
    "plt.xticks(rotation=0)  # Keep x-axis labels horizontal\n",
    "plt.tight_layout()\n",
    "\n",
    "# Show Plot\n",
    "plt.show()\n",
    "\n",
    "\n",
    "## End Code"
   ]
  },
  {
   "cell_type": "markdown",
   "id": "e2f63197-7f38-4919-a9b3-e6c092ea8372",
   "metadata": {},
   "source": [
    "## Pie Charts\n",
    "\n",
    "Pie charts are circular graphs that display the proportion of each category as a percentage of the total. \n",
    "\n",
    "The entire pie represents 100% of the data, and each slice represents a different category. \n",
    "\n",
    "The area of each slice is proportional to the percentage that category contributes to the whole dataset, offering a clear visual comparison of these proportions."
   ]
  },
  {
   "cell_type": "markdown",
   "id": "ec9e0bec-b5bc-4141-8b55-cec822badcde",
   "metadata": {},
   "source": [
    "### Pie Chart: Example\n",
    "\n",
    "You should have a `.csv` file at the following location:\n",
    "* `../data/players_22.csv`\n",
    "\n",
    "This dataset, sourced from [Sports-Statistics](https://sports-statistics.com/sports-data/fifa-2022-dataset-csvs/), includes players data for the Career Mode from FIFA 22:\n",
    "\n",
    "* Every player available from FIFA 22\n",
    "* 100+ attributes\n",
    "* Player positions\n",
    "* Player attributes\n",
    "* Player personal data\n",
    "* And more\n",
    "\n",
    "For demonstration purposes, let's load in the data from the `preferred_foot` column, and inspect the first 5 entries."
   ]
  },
  {
   "cell_type": "code",
   "execution_count": null,
   "id": "5f64258a-adb2-4681-be76-b70c3e73eb23",
   "metadata": {},
   "outputs": [],
   "source": [
    "## Begin Example\n",
    "FILE = \"../data/players_22.csv\"\n",
    "\n",
    "fifa = pd.read_csv(FILE, usecols=[\"preferred_foot\"])\n",
    "\n",
    "fifa.head()\n",
    "## End Example"
   ]
  },
  {
   "cell_type": "markdown",
   "id": "184418f4-f1f7-4bf7-9172-b1e562fd9b23",
   "metadata": {},
   "source": [
    "It may be a good idea to visualize this data as a Pie Chart.\n",
    "\n",
    "What we'll do is: \n",
    "\n",
    "* Use `.value_counts()` to create a new Series containing the unique values, `Left` and `Right`, as indices and their respective frequencies as values.\n",
    "* Use the `Left` and `Right` counts as wedges in our Pie Chart.\n",
    "\n",
    "__Pie Chart Abstract Syntax:__\n",
    "```python\n",
    "plt.pie(wedges)\n",
    "```\n",
    "\n",
    "* `wedges`: Is a required input, a sequence of values representing the size of each wedge.\n",
    "\n",
    "Here are some commonly used optional parameters:\n",
    "* __labels:__ A list of strings providing labels for each wedge\n",
    "* __colors:__ A list of colors for each wedge\n",
    "* __autopct:__ String or callable used to label the wedges with their numeric value(s).\n"
   ]
  },
  {
   "cell_type": "code",
   "execution_count": null,
   "id": "40b50c09-6446-4e8f-be42-7f34c0af93f3",
   "metadata": {},
   "outputs": [],
   "source": [
    "## Begin Example\n",
    "\n",
    "# Get Value Counts\n",
    "counts = fifa.value_counts()\n",
    "right_foot = counts[\"Right\"]\n",
    "left_foot = counts[\"Left\"]\n",
    "\n",
    "# Create Pie Chart\n",
    "plt.figure(figsize=(5,5), dpi=100)\n",
    "\n",
    "title = (\"Soccer Player Foot Preference\")\n",
    "labels = [\"Left\", \"Right\"]\n",
    "wedges = [left_foot, right_foot]\n",
    "\n",
    "plt.pie(wedges, \n",
    "        labels = labels,\n",
    "        autopct=\"%.2f %%\")\n",
    "\n",
    "plt.title(title)\n",
    "\n",
    "# Show the Chart\n",
    "plt.show()"
   ]
  },
  {
   "cell_type": "markdown",
   "id": "c7ca747a-4049-49a7-b2f8-fe02918b92f3",
   "metadata": {},
   "source": [
    "## Histograms\n",
    "\n",
    "Histograms are a type of bar chart specifically designed to show frequency distributions. \n",
    "\n",
    "For each unique value (or a defined interval of values) in a dataset, a vertical bar is drawn. \n",
    "\n",
    "The height of this bar directly corresponds to the frequency – that is, how many times that particular value (or values within the interval) appears in the data.\n",
    "\n",
    "__Basic Syntax__\n",
    "\n",
    "```python\n",
    "plt.hist(data)\n",
    "```\n",
    "\n",
    "__Commonly Used Optional Arguments__\n",
    "* bins\n",
    "* color\n",
    "* edge color\n",
    "\n"
   ]
  },
  {
   "cell_type": "code",
   "execution_count": null,
   "id": "d82c0bb1-da81-4316-901a-f5159ee1cc24",
   "metadata": {},
   "outputs": [],
   "source": [
    "## Begin Example\n",
    "\n",
    "#biketown_clean = biketown[biketown[\"RouteID\"] != 7242673]\n",
    "biketown_clean = biketown[\"Distance_Miles\"].copy()\n",
    "\n",
    "plt.hist(biketown_clean, range=(0,15))\n",
    "plt.show()\n",
    "## End Example"
   ]
  }
 ],
 "metadata": {
  "kernelspec": {
   "display_name": "Python 3 (ipykernel)",
   "language": "python",
   "name": "python3"
  },
  "language_info": {
   "codemirror_mode": {
    "name": "ipython",
    "version": 3
   },
   "file_extension": ".py",
   "mimetype": "text/x-python",
   "name": "python",
   "nbconvert_exporter": "python",
   "pygments_lexer": "ipython3",
   "version": "3.12.5"
  }
 },
 "nbformat": 4,
 "nbformat_minor": 5
}
