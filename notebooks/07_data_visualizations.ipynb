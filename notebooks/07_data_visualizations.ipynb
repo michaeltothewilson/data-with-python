{
 "cells": [
  {
   "cell_type": "markdown",
   "id": "a3863477-82a1-42aa-af76-d3ebb6113975",
   "metadata": {
    "editable": false,
    "slideshow": {
     "slide_type": ""
    },
    "tags": []
   },
   "source": [
    "# Creating Visualizations\n",
    "\n",
    "<center><img src=\"../images/stock/pexels-goumbik-669622.jpg\" width=\"500\"></center>\n",
    "\n",
    "Often, just looking at the raw numbers in a dataset isn't enough to really grasp what's going on.\n",
    "\n",
    "That's where **data visualization** comes in! By presenting information as visuals like charts and graphs, we can tap into our natural ability to spot trends and patterns much more easily and effectively."
   ]
  },
  {
   "cell_type": "markdown",
   "id": "af74b22b-4946-49b4-ae49-d9e373ceaff9",
   "metadata": {
    "editable": false,
    "jp-MarkdownHeadingCollapsed": true,
    "slideshow": {
     "slide_type": ""
    },
    "tags": []
   },
   "source": [
    "# Plotting with Matplotlib\n",
    "\n",
    "**Matplotlib** is a popular and incredibly useful Python library specifically designed for creating data visualizations.\n",
    "\n",
    "The way Matplotlib works is by organizing each plot into a set of distinct elements. This structured approach gives you a lot of control, allowing you to create highly customized charts and graphs to suit your needs."
   ]
  },
  {
   "cell_type": "markdown",
   "id": "55287bb3-66ec-436c-9e21-0936278eb813",
   "metadata": {
    "editable": false,
    "slideshow": {
     "slide_type": ""
    },
    "tags": []
   },
   "source": [
    "## Coding Styles\n",
    "\n",
    "Matplotlib offers two primary approaches to coding:\n",
    "\n",
    "__Explicit (Object-Oriented) Style:__ \n",
    "\n",
    "* In this style, you create Figure and Axes objects directly and then use their methods to create plots.\n",
    "* This approach provides the greatest control and flexibility, especially for complex plots with multiple subplots or custom layouts.\n",
    "\n",
    "__Implicit (Pyplot) Style:__ \n",
    "\n",
    "* This style relies on the `pyplot` module to automatically create and manage Figure and Axes objects.\n",
    "* You use `pyplot` functions (like `plt.plot()`, `plt.bar()`, `plt.hist()`) to add plotting elements. Matplotlib handles the underlying object creation and management.\n",
    "\n",
    "For simpler plotting tasks, the implicit (`pyplot`) style is often sufficient and more concise. \n",
    "\n",
    "Since this lesson focuses on introducing the basic plot types, we'll primarily use the `pyplot` style for its ease of use. \n",
    "\n",
    "However, for more advanced or intricate visualizations, the explicit, object-oriented approach is generally recommended."
   ]
  },
  {
   "cell_type": "markdown",
   "id": "34300aa5-8990-4e78-9c27-8f9f6b3c5d11",
   "metadata": {
    "editable": false,
    "slideshow": {
     "slide_type": ""
    },
    "tags": []
   },
   "source": [
    "## Core Workflow\n",
    "\n",
    "To bring your data to life with Matplotlib, you'll generally follow these core steps:"
   ]
  },
  {
   "cell_type": "markdown",
   "id": "941577bd-6245-4c73-94c7-9d957926f3ed",
   "metadata": {
    "editable": false,
    "slideshow": {
     "slide_type": ""
    },
    "tags": []
   },
   "source": [
    "### 0 Installing Matplotlib\n",
    "\n",
    "To use Matplotlib in your Python environment, you would typically install it using the following command:\n",
    "\n",
    "```bash\n",
    "!pip install matplotlib\n",
    "```\n",
    "\n",
    "However on our Jupyter Hub environment, the Matplotlib package is already set up and ready for you to use. "
   ]
  },
  {
   "cell_type": "markdown",
   "id": "b0b62d8e-a6af-4be5-a36d-09b50a2eb12e",
   "metadata": {
    "editable": false,
    "slideshow": {
     "slide_type": ""
    },
    "tags": []
   },
   "source": [
    "### 1. Importing Matplotlib\n",
    "\n",
    "To start using the plotting capabilities of Matplotlib in your Python code, the first step is to import the necessary module. The convention when working with Matplotlib is to import the `pyplot` module and give it a shorter alias, `plt`.\n",
    "\n",
    "You'll typically see the following line at the beginning of your Python scripts or Jupyter Notebook cells when you want to create plots:\n",
    "\n",
    "```python\n",
    "import matplotlib.pyplot as plt\n",
    "```\n",
    "\n",
    "Let's go ahead and import Matplotlib using the code cell below:"
   ]
  },
  {
   "cell_type": "code",
   "execution_count": null,
   "id": "34ab339c-6448-4c05-a6c5-e67b71431860",
   "metadata": {},
   "outputs": [],
   "source": [
    "## Begin Example\n",
    "\n",
    "\n",
    "## End Example"
   ]
  },
  {
   "cell_type": "markdown",
   "id": "311ffefa-90a1-4ea3-be06-34269f295dd2",
   "metadata": {
    "editable": false,
    "slideshow": {
     "slide_type": ""
    },
    "tags": []
   },
   "source": [
    "### 2. Prepare the Data\n",
    "\n",
    "As we've discussed extensively, and you've already practiced, a crucial step *before* visualizing any data is to ensure it's in the right format. This means that to create meaningful plots, you must first:\n",
    "\n",
    "* **Acquire the data:** Get your hands on the information you want to visualize.\n",
    "* **Clean the data:** Handle any missing values, errors, or inconsistencies.\n",
    "* **Perform necessary transformations:** Reshape, aggregate, or calculate new features as needed for your visualization.\n",
    "\n",
    "Essentially, well-prepared data is the foundation for creating clear and insightful visualizations. "
   ]
  },
  {
   "cell_type": "markdown",
   "id": "4e450574-84dd-4793-ac21-433bafd59330",
   "metadata": {
    "editable": false,
    "slideshow": {
     "slide_type": ""
    },
    "tags": []
   },
   "source": [
    "### 3. Create a Figure\n",
    "\n",
    "In Matplotlib, every plot you create lives within a **Figure** object. Think of the Figure as the entire canvas or window on which your plot will be drawn. You need to create a Figure before you can start adding any actual plots (like lines, bars, or scatter points).\n",
    "\n",
    "You can create a new, empty Figure using the `plt.figure()` command:\n",
    "\n",
    "```python\n",
    "plt.figure()\n",
    "```\n",
    "\n",
    "The `plt.figure()` function also allows you to customize the Figure in various ways. \n",
    "\n",
    "One of the most common options you'll use is the `figsize` argument. This lets you specify the width and height of your figure in inches, influencing its size and aspect ratio when displayed.\n",
    "\n",
    "For example, to create a figure with a specific width and height, you would pass a tuple containing the dimensions to the `figsize` argument:\n",
    "\n",
    "```python\n",
    "plt.figure(figsize=(width_in_inches, height_in_inches))\n",
    "```\n",
    "\n",
    "So, `plt.figure((10, 6))` would create a figure that is 10 inches wide and 6 inches tall. "
   ]
  },
  {
   "cell_type": "markdown",
   "id": "7fa9e93d-4c95-4722-aad7-29143374364a",
   "metadata": {
    "editable": false,
    "slideshow": {
     "slide_type": ""
    },
    "tags": []
   },
   "source": [
    "### 4. Call Plotting Functions\n",
    "\n",
    "Once you have your data prepared and a Figure created (either implicitly or explicitly), you can start adding actual visual elements to it using Matplotlib's various **plotting functions**. \n",
    "\n",
    "These functions take your data as input and generate different types of plots. \n",
    "\n",
    "Here are some of the most commonly used plotting functions available through `plt` (from `matplotlib.pyplot`):\n",
    "\n",
    "* **`plt.plot(x, y, ...)`**: Creates **line plots**. \n",
    "* **`plt.bar(x, height, ...)`**: Creates **bar charts**. \n",
    "* **`plt.hist(x, ...)`**: Creates **histograms**.\n",
    "* **`plt.pie(x, ...)`**: Creates **pie charts**. \n",
    "\n",
    "Each of these functions has various optional arguments that allow you to customize the appearance of your plot, such as colors, line styles, marker shapes, and more. We'll explore some of these customizations in the following sections."
   ]
  },
  {
   "cell_type": "markdown",
   "id": "a385e961-7f47-4e1f-b60b-767fa9497094",
   "metadata": {
    "editable": false,
    "slideshow": {
     "slide_type": ""
    },
    "tags": []
   },
   "source": [
    "### 5. Customize the Plot\n",
    "\n",
    "Once you've created a basic plot, you'll often want to add more information and make it visually clearer and more informative. Matplotlib provides several functions to **customize** your plots with elements like labels, titles, legends, and grid lines. Here are some of the essential customization functions available through `plt`:\n",
    "\n",
    "* **Labels:** Help viewers understand what the axes represent.\n",
    "    * **`plt.xlabel('X-axis Label')`**: Sets the label for the horizontal (x) axis. Replace `'X-axis Label'` with a descriptive name for your x-axis data.\n",
    "    * **`plt.ylabel('Y-axis Label')`**: Sets the label for the vertical (y) axis. Replace `'Y-axis Label'` with a descriptive name for your y-axis data.\n",
    "\n",
    "* **Title:** Provides context and summarizes the main point of the plot.\n",
    "    * **`plt.title('Plot Title')`**: Sets the title of your plot. Replace `'Plot Title'` with a concise and informative title.\n",
    "\n",
    "* **Legend:** Explains what different lines, markers, or bars in your plot represent. This is especially useful when you have multiple datasets plotted on the same axes.\n",
    "    * **`plt.legend()`**: Displays the legend. For the legend to show meaningful information, you need to have included a `label` argument when you initially called your plotting functions (e.g., `plt.plot(x, y, label='Data Series A')`).\n",
    "\n",
    "* **Grid:** Adds grid lines to the plot, which can make it easier to read the values on the axes.\n",
    "    * **`plt.grid(True)`**: Turns the grid lines on. You can also customize the appearance of the grid (e.g., line style, color) by passing additional arguments to this function.\n",
    "\n",
    "By using these customization functions, you can transform a basic plot into a clear, informative, and professional-looking visualization. We'll see examples of how to use these in the following sections."
   ]
  },
  {
   "cell_type": "markdown",
   "id": "cece7c3e-3409-4985-9f70-a3ddfa59a30d",
   "metadata": {
    "editable": false,
    "slideshow": {
     "slide_type": ""
    },
    "tags": []
   },
   "source": [
    "### 6. Display or Save the Plot\n",
    "\n",
    "Once you've created and customized your plot, the final step is to either **display** it on your screen or **save** it to a file.\n",
    "\n",
    "Matplotlib provides simple functions for these purposes:\n",
    "\n",
    "**`plt.show()`** \n",
    "\n",
    "* This function displays the plot in an interactive window. When you run your Python script or Jupyter Notebook cell containing `plt.show()`, the generated plot will pop up.\n",
    "\n",
    "**`plt.savefig('filename')`**\n",
    "\n",
    "* This function allows you to save your plot to a file.\n",
    "* Matplotlib supports various file formats, and the file extension you use in the filename will usually determine the format.\n",
    "\n",
    "**Saving in different formats:**\n",
    " \n",
    "\n",
    "```python\n",
    "# PNG\n",
    "plt.savefig('my_plot.png') \n",
    "\n",
    "# JPG\n",
    "plt.savefig('my_plot.jpg') \n",
    "\n",
    "# PDF\n",
    "plt.savefig('my_plot.pdf')   \n",
    "\n",
    "# SVG\n",
    "plt.savefig('my_plot.svg')      \n",
    "```\n",
    "\n",
    "**Controlling the resolution (DPI):** \n",
    "\n",
    "For image formats like PNG and JPG, you can also control the resolution (dots per inch) using the `dpi` argument:\n",
    "\n",
    "```python\n",
    "plt.savefig('high_resolution_plot.png', dpi=300)\n",
    "```\n",
    "\n",
    "A higher DPI value generally results in a sharper image with more detail but also a larger file size."
   ]
  },
  {
   "cell_type": "markdown",
   "id": "aa6a623f-69da-4964-9f0f-c37295e82f7a",
   "metadata": {
    "editable": false,
    "slideshow": {
     "slide_type": ""
    },
    "tags": []
   },
   "source": [
    "# Creating Common Visualizations\n",
    "\n",
    "Now that we've covered the fundamental workflow of plotting with Matplotlib, let's dive into some of the most frequently used and effective types of visualizations. Understanding when and how to use these different plot types is crucial for exploring your data and communicating insights.\n",
    "\n",
    "In this section, we'll focus on the following four key visualization types:\n",
    "\n",
    "* **Line Graphs**\n",
    "* **Bar Graphs** \n",
    "* **Pie Charts** \n",
    "* **Histograms** \n",
    "\n",
    "We'll explore each of these in more detail, including how to create them using Matplotlib and when they are most appropriate."
   ]
  },
  {
   "cell_type": "markdown",
   "id": "7a6d6ae5-e4eb-4327-bf9a-f1d25775f773",
   "metadata": {
    "editable": false,
    "slideshow": {
     "slide_type": ""
    },
    "tags": []
   },
   "source": [
    "## Line Graphs\n",
    "\n",
    "Line graphs (or line charts) are particularly useful for illustrating trends in data across a continuous period. \n",
    "\n",
    "The x-axis of the graph usually represents a time series (like days, months, or years), and the y-axis displays the corresponding numerical data. \n",
    "\n",
    "By connecting these data points with lines, we can clearly see how values rise and fall over time.\n",
    "\n",
    "Here's the basic syntax for creating a line plot with Matplotlib:"
   ]
  },
  {
   "cell_type": "markdown",
   "id": "5b5a55a8-cee3-44c0-8a5d-e1b99cd1f412",
   "metadata": {
    "editable": false,
    "slideshow": {
     "slide_type": ""
    },
    "tags": []
   },
   "source": [
    "### Basic Syntax\n",
    "\n",
    "Here's the basic syntax for creating a line plot with Matplotlib:\n",
    "\n",
    "```python\n",
    "plt.plot(x, y)\n",
    "```\n",
    "\n",
    "* `x:` The horizontal coordinates of the data points.  These values determine the position of the data points along the x-axis.\n",
    "\n",
    "* `y:` The vertical coordinates of the data points. These values determine the position of the data points along the y-axis and, consequently, the shape of the line.\n",
    "\n",
    "\n",
    "__Commonly Used Optional Arguments:__\n",
    "\n",
    "* `color`: The color of the line.  You can specify colors using names, hex codes, or RGB tuples.\n",
    "* `linestyle`: The style of the line (e.g., solid, dashed, dotted). \n",
    "* `label`: A string used to label the line in the plot's legend."
   ]
  },
  {
   "cell_type": "markdown",
   "id": "c508eda0-dfc9-44bd-9ab4-41088775416a",
   "metadata": {
    "editable": false,
    "slideshow": {
     "slide_type": ""
    },
    "tags": []
   },
   "source": [
    "### Line Graph: Tesla\n",
    "\n",
    "<center><img src=\"../images/stock/pexels-adaptphotos-11099564.jpg\" width=\"500\"></center>\n",
    "\n",
    "As we just discussed, line graphs are particularly effective at illustrating how a value changes over a continuous period. Speaking of things that rise and fall over time, let's take another look at Tesla's stock performance. This is a classic example of data that can be beautifully visualized with a line graph to reveal trends and volatility.\n",
    "\n",
    "To get started, we'll create a DataFrame containing Tesla's stock performance over the past year using the `yfinance` module. This will give us the data we need to plot the stock price against time. Let's proceed with fetching this data."
   ]
  },
  {
   "cell_type": "code",
   "execution_count": null,
   "id": "93a5fee9-9c26-414f-820b-2e8fbe0767ca",
   "metadata": {
    "editable": true,
    "slideshow": {
     "slide_type": ""
    },
    "tags": []
   },
   "outputs": [],
   "source": [
    "## Begin Example\n",
    "\n",
    "\n",
    "\n",
    "\n",
    "## End Example"
   ]
  },
  {
   "cell_type": "markdown",
   "id": "19c6c7d8-a880-41c2-9d7b-b200916b8340",
   "metadata": {
    "editable": false,
    "slideshow": {
     "slide_type": ""
    },
    "tags": []
   },
   "source": [
    "Next up, using `matplotlib`, let's visualize Tesla's closing price. \n",
    "\n",
    "__Here's how we'll do it:__\n",
    "\n",
    "* Create a new figure for the plot with a specified size using `plt.figure()` and the `figsize` argument.\n",
    "\n",
    "* Plot the data using `plt.plot()` and specifying the data for the x and y axis\n",
    "    * Provide the data for the x-axis (the date)\n",
    "    * Provide the data for the y-axis (the closing stock prices)\n",
    "\n",
    "* Customize the plot\n",
    "\n",
    "    * Use `plt.xlabel()` to set the label for the x-axis\n",
    " \n",
    "    * Use `plt.ylabel()` to set the label for the y-axis\n",
    "\n",
    "    * Use `plt.title()` to set the title of the plot\n",
    "  \n",
    "\n",
    "\n",
    "* Display the Plot\n",
    "    * Call `plt.show()` to display the generated plot.\n"
   ]
  },
  {
   "cell_type": "code",
   "execution_count": null,
   "id": "b9fe3403-4437-4da5-b14e-b21f399abe9c",
   "metadata": {},
   "outputs": [],
   "source": [
    "## Begin Plot\n",
    "\n",
    "\n",
    "\n",
    "\n",
    "\n",
    "\n",
    "\n",
    "\n",
    "## End Plot"
   ]
  },
  {
   "cell_type": "markdown",
   "id": "0f1ab175-d1c0-4d45-aa9f-28543aaff5e0",
   "metadata": {
    "editable": false,
    "slideshow": {
     "slide_type": ""
    },
    "tags": []
   },
   "source": [
    "## Bar Graphs\n",
    "\n",
    "Bar graphs are used to represent categorical data with rectangular bars. \n",
    "\n",
    "Typically, the height of each bar is proportional to the value it represents, making it easy to visually compare the magnitudes of different categories. \n",
    "\n",
    "While bars can be horizontal, they are most often displayed vertically. This allows for quick and intuitive comparisons between groups."
   ]
  },
  {
   "cell_type": "markdown",
   "id": "9cb7b62b-7a09-48a2-b8a0-8c8b762fa530",
   "metadata": {
    "editable": false,
    "slideshow": {
     "slide_type": ""
    },
    "tags": []
   },
   "source": [
    "### Basic Syntax\n",
    "\n",
    "Here's the basic syntax for creating a bar graph with Matplotlib:\n",
    "\n",
    "Basic Syntax\n",
    "\n",
    "```python\n",
    "plt.bar(x, height)\n",
    "```\n",
    "\n",
    "`x:` The x-coordinates of the bars. These values specify the horizontal position of each bar.  Commonly, x represents categorical data.\n",
    "\n",
    "`height:` The height of each bar. These values represent the magnitude or quantity of what you are measuring for each category.\n",
    "\n",
    "__Commonly Used Optional Arguments__\n",
    "\n",
    "* `color:` A sequence of colors to use for the bars. You can specify colors as names, hex codes or RGB tuples. If you provide a single color, it will be used for all bars.\n",
    "\n",
    "* `width:` The width(s) of the bars. You can specify a single value to make all bars the same width, or a sequence of values to give each bar a different width. The default is `0.8`.\n",
    "\n",
    "* `align:` The alignment of the bars relative to their x-coordinates. Possible values are `'center'` (the default) or `'edge'`\n",
    "\n",
    "* `label:` A string that labels the bar graph in the legend.\n",
    "\n",
    "* `edgecolor:` The color of the borders of the bars."
   ]
  },
  {
   "cell_type": "markdown",
   "id": "3bf12985-f646-4c59-b2bd-3c58967fc996",
   "metadata": {
    "editable": false,
    "slideshow": {
     "slide_type": ""
    },
    "tags": []
   },
   "source": [
    "### Bar Graph: BikeTown\n",
    "\n",
    "<center><img src=\"../images/stock/pexels-cristiana-raluca-213635-686230.jpg\" width=500\"></center>\n",
    "\n",
    "Now, let's switch gears and explore **bar graphs**. As we discussed, bar graphs are excellent for comparing the values of different categories. To illustrate this, we'll use data from BikeTown, a bike-sharing service.\n",
    "\n",
    "We'll be working with a dataset containing trip information from May 2018, which is available at the following URL:\n",
    "\n",
    "`https://s3.amazonaws.com/biketown-tripdata-public/2018_05.csv`\n",
    "\n",
    "Our goal with this data will be to focus on understanding the popularity of different **Payment Plan types** offered by BikeTown. By creating a bar graph, we can easily compare the number of trips taken under each payment plan, providing a clear visual comparison of their usage. \n",
    "\n",
    "Let's start by loading and preparing this dataset."
   ]
  },
  {
   "cell_type": "code",
   "execution_count": null,
   "id": "ab20db64-4bd4-4579-8d5e-d6c457b97c1c",
   "metadata": {},
   "outputs": [],
   "source": [
    "## Begin Example\n",
    "\n",
    "\n",
    "\n",
    "## End Example"
   ]
  },
  {
   "cell_type": "markdown",
   "id": "46cf1131-dd3e-4ccb-a8f5-dbfb350a37c5",
   "metadata": {
    "editable": true,
    "slideshow": {
     "slide_type": ""
    },
    "tags": []
   },
   "source": [
    "Now that we have loaded the BikeTown data, let's create the bar graph to visualize the number of trips for each payment plan.\n",
    "\n",
    "And here's how we'll do it:\n",
    "\n",
    "Instructions go here"
   ]
  },
  {
   "cell_type": "code",
   "execution_count": null,
   "id": "a16468ad-aa58-48fc-8e5a-db45b1e9d5af",
   "metadata": {},
   "outputs": [],
   "source": [
    "## Begin Plot\n",
    "\n",
    "\n",
    "\n",
    "\n",
    "\n",
    "\n",
    "\n",
    "\n",
    "## End Plot"
   ]
  },
  {
   "cell_type": "markdown",
   "id": "cc5c22bd-afef-4003-9a7f-3e2241afbbb6",
   "metadata": {
    "editable": false,
    "slideshow": {
     "slide_type": ""
    },
    "tags": []
   },
   "source": [
    "## Histograms\n",
    "\n",
    "Histograms are a type of bar chart specifically designed to show frequency distributions. \n",
    "\n",
    "For each unique value (or a defined interval of values) in a dataset, a vertical bar is drawn. \n",
    "\n",
    "The height of this bar directly corresponds to the frequency – that is, how many times that particular value (or values within the interval) appears in the data."
   ]
  },
  {
   "cell_type": "markdown",
   "id": "cbc8de8f-4c6a-404c-a359-f660f40e141f",
   "metadata": {
    "editable": false,
    "slideshow": {
     "slide_type": ""
    },
    "tags": []
   },
   "source": [
    "### Basic Syntax\n",
    "\n",
    "Here is the basic syntax for creating a Histogram with Matplotlib:\n",
    "\n",
    "```python\n",
    "plt.hist(data)\n",
    "```\n",
    "* `data`:  The dataset to be plotted as a histogram. `data` should be a sequence of numerical data.\n",
    "\n",
    "__Commonly Used Optional Arguments__\n",
    "\n",
    "* `bins`:  This determines the number of bins (intervals) into which the data is grouped.  A larger number of bins can reveal more detail in the distribution, while a smaller number can provide a broader overview.\n",
    "\n",
    "* `color`:  The color of the bars in the histogram.\n",
    "\n",
    "* `edgecolor`:  The color of the borders of the bars."
   ]
  },
  {
   "cell_type": "markdown",
   "id": "02937fa9-0394-4f1d-85f1-865f6a5cfb6a",
   "metadata": {
    "editable": false,
    "slideshow": {
     "slide_type": ""
    },
    "tags": []
   },
   "source": [
    "### Histograms: BikeTown\n",
    "\n",
    "<center><img src=\"../images/stock/pexels-stitch-20123868.jpg\"></center>\n",
    "\n",
    "Continuing with the BikeTown data,let's create a histogram to depict the frequency of distance values.\n",
    "\n",
    "Let's load in the data from the `Distance_Miles` column and clean a very specific data entry...that bike ride that was thousands of miles.."
   ]
  },
  {
   "cell_type": "code",
   "execution_count": null,
   "id": "d82c0bb1-da81-4316-901a-f5159ee1cc24",
   "metadata": {},
   "outputs": [],
   "source": [
    "## Begin Example\n",
    "\n",
    "\n",
    "\n",
    "\n",
    "\n",
    "\n",
    "\n",
    "\n",
    "## End Example"
   ]
  },
  {
   "cell_type": "markdown",
   "id": "6115a06f-7880-4409-85bc-cc1f0c5b238f",
   "metadata": {
    "editable": true,
    "slideshow": {
     "slide_type": ""
    },
    "tags": []
   },
   "source": [
    "Now that we *took care of* the odd data, let's visualize it as a histogram.\n",
    "\n",
    "Instructions go here"
   ]
  },
  {
   "cell_type": "code",
   "execution_count": null,
   "id": "af010765-4b13-459d-b70a-dd9dd3ef3e34",
   "metadata": {
    "editable": true,
    "slideshow": {
     "slide_type": ""
    },
    "tags": []
   },
   "outputs": [],
   "source": [
    "## Begin Plot\n",
    "\n",
    "\n",
    "\n",
    "\n",
    "\n",
    "\n",
    "\n",
    "\n",
    "## End Plot"
   ]
  },
  {
   "cell_type": "markdown",
   "id": "e2f63197-7f38-4919-a9b3-e6c092ea8372",
   "metadata": {
    "editable": false,
    "slideshow": {
     "slide_type": ""
    },
    "tags": []
   },
   "source": [
    "## Pie Charts\n",
    "\n",
    "Pie charts are circular graphs that show how a dataset is divided into different categories, with each category's contribution represented as a proportion of the whole.\n",
    "\n",
    "Think of the entire pie as representing 100% of the data. Each \"slice\" or \"wedge\" of the pie corresponds to a different category within the dataset.\n",
    "\n",
    "The size of each slice (its area) is proportional to the percentage of the total that the category represents. This makes pie charts a very intuitive way to visually compare the relative sizes or proportions of different categories.\n",
    "\n",
    "### Basic Syntax\n",
    "\n",
    "Here's the basic syntax for creating a pie chart with Matplotlib:\n",
    "\n",
    "Basic Syntax\n",
    "\n",
    "```python\n",
    "plt.pie(data)\n",
    "```\n",
    "\n",
    "* `data`:  A 1-dimensional sequence of numerical values. This is the core data that determines the size of each slice in the pie chart.\n",
    "\n",
    "__Commonly Used Optional Arguments__\n",
    "\n",
    "* `labels:` A sequence of strings, providing a label for each wedge in the pie chart.\n",
    "* `colors:` A sequence of strings, providing a label for each wedge in the pie chart., allowing you to visually distinguish between categories.\n",
    "* `autopct:` A string or a callable used to label the wedges with their numerical values (typically percentages)\n"
   ]
  },
  {
   "cell_type": "markdown",
   "id": "ec9e0bec-b5bc-4141-8b55-cec822badcde",
   "metadata": {
    "editable": false,
    "slideshow": {
     "slide_type": ""
    },
    "tags": []
   },
   "source": [
    "### Pie Chart: FIFA 22\n",
    "\n",
    "<center><img src=\"../images/stock/pexels-a-darmel-7862351.jpg\" width=\"500\"></center>\n",
    "\n",
    "You should have a `.csv` file at the following location:\n",
    "* `../data/players_22.csv`\n",
    "\n",
    "This dataset, sourced from [Sports-Statistics](https://sports-statistics.com/sports-data/fifa-2022-dataset-csvs/), includes players data for the Career Mode from FIFA 22:\n",
    "\n",
    "* Every player available from FIFA 22\n",
    "* 100+ attributes\n",
    "* Player positions\n",
    "* Player attributes\n",
    "* Player personal data\n",
    "* And more\n",
    "\n",
    "For demonstration purposes, let's load in the data from the `preferred_foot` column, and inspect the first 5 entries."
   ]
  },
  {
   "cell_type": "code",
   "execution_count": null,
   "id": "5f64258a-adb2-4681-be76-b70c3e73eb23",
   "metadata": {},
   "outputs": [],
   "source": [
    "## Begin Example\n",
    "\n",
    "\n",
    "\n",
    "## End Example"
   ]
  },
  {
   "cell_type": "markdown",
   "id": "184418f4-f1f7-4bf7-9172-b1e562fd9b23",
   "metadata": {
    "editable": false,
    "slideshow": {
     "slide_type": ""
    },
    "tags": []
   },
   "source": [
    "It may be a good idea to visualize this data as a Pie Chart.\n",
    "\n",
    "Here's how we'll do it: \n",
    "\n",
    "* __Count the occurrences of each preferred foot:__\n",
    "    * Use `.value_counts()` on the `preferred_foot` column. \n",
    "    * Creating a new Series where the index consists of the unique values, `Left` and `Right`their corresponding frequencies (counts) as the values.\n",
    "\n",
    "* __Use the counts as pie slice sizes:__\n",
    "\n",
    "    * We'll use the `Left` and `Right` counts as inputs for the pie chart function.\n",
    "\n",
    "    * Each count will determine the size of the corresponding slice in the pie.\n",
    "\n",
    "\n",
    "__Pie Chart Abstract Syntax:__\n",
    "```python\n",
    "plt.pie(slices)\n",
    "```\n",
    "\n",
    "* `slices`: Is the only required input. It should be a sequence of values (list or Pandas Series) representing the size of each pie slice.\n",
    "\n",
    "Here are some commonly used optional parameters for customizing the pie chart's appearance:\n",
    "* __`labels`:__ A list of strings providing labels for each slice.\n",
    "* __`colors`:__ A list of colors for each slice.\n",
    "* __`autopct`:__ A string or a callable that formats the numerical values displayed on each slice\n",
    "\n",
    "Now let's get to crafting that chart:"
   ]
  },
  {
   "cell_type": "code",
   "execution_count": null,
   "id": "40b50c09-6446-4e8f-be42-7f34c0af93f3",
   "metadata": {
    "editable": true,
    "slideshow": {
     "slide_type": ""
    },
    "tags": []
   },
   "outputs": [],
   "source": [
    "## Begin Plot\n",
    "\n",
    "\n",
    "\n",
    "\n",
    "\n",
    "\n",
    "\n",
    "\n",
    "## End Plot"
   ]
  },
  {
   "cell_type": "markdown",
   "id": "decc952e-effc-4ee7-b27e-7f3426aac45f",
   "metadata": {
    "editable": true,
    "slideshow": {
     "slide_type": ""
    },
    "tags": []
   },
   "source": [
    "## Conclusion\n",
    "\n",
    "This notebook has provided a basic introduction to creating common types of plots in Matplotlib. \n",
    "\n",
    "For more detailed information and advanced customization options, please refer to the official [Matplotlib documentation]( https://matplotlib.org/stable/index.html)"
   ]
  },
  {
   "cell_type": "code",
   "execution_count": null,
   "id": "cbba73a2-8645-4c84-913f-e0b8a9dcf317",
   "metadata": {
    "editable": true,
    "slideshow": {
     "slide_type": ""
    },
    "tags": []
   },
   "outputs": [],
   "source": []
  }
 ],
 "metadata": {
  "kernelspec": {
   "display_name": "Python 3 (ipykernel)",
   "language": "python",
   "name": "python3"
  },
  "language_info": {
   "codemirror_mode": {
    "name": "ipython",
    "version": 3
   },
   "file_extension": ".py",
   "mimetype": "text/x-python",
   "name": "python",
   "nbconvert_exporter": "python",
   "pygments_lexer": "ipython3",
   "version": "3.12.5"
  }
 },
 "nbformat": 4,
 "nbformat_minor": 5
}
