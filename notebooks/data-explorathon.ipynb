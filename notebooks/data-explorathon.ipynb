{
 "cells": [
  {
   "cell_type": "markdown",
   "metadata": {},
   "source": [
    "# Data Explorathon&trade;: A Byte-Sized Project\n",
    "---\n",
    "&nbsp;\n",
    "\n",
    "<div align=\"center\">\n",
    "  <img src=\"https://www.explorathon.co.uk/wp-content/uploads/2024/09/cardboard-box-and-binoculars-1600x750-1.jpg\" alt=\"Explorathon\" width=\"640\" height=\"300\"/>\n",
    "</div>"
   ]
  },
  {
   "cell_type": "markdown",
   "metadata": {},
   "source": [
    "### Overview\n",
    "Welcome to the **Data Explorathon&trade;**! \n",
    "This will be a fast-paced, creative dive into a single dataset. \n",
    "You and your team (2-4 members per team) will explore the same dataset as every other group in the class. \n",
    "Each group will ask questions, explore patterns, form a point of view and tell a story based on what they've learned. \n",
    "Think of it as a mini research sprint, a 3-minute thesis, and a story showcase—all rolled into one. "
   ]
  },
  {
   "cell_type": "markdown",
   "metadata": {},
   "source": [
    "### Objective\n",
    "By the end of the Data Explorathon, you will:\n",
    "\n",
    "*\tExplore the given dataset using pandas\n",
    "\t\n",
    "*\tApply basic data cleaning steps (e.g., drop missing values, fix column types)\n",
    "\t\t\n",
    "*\tGenerate and interpret summary statistics and visualizations\n",
    "\t\t\n",
    "*\tAsk and answer three simple but meaningful questions using code\n",
    "\t\t\n",
    "*\tPresent your findings in a readable, organized Jupyter Notebook\n",
    "\n",
    "Same dataset, different eyes. Discover what story the dataset tells you. This is about insight, creativity, and persuasion. What you observe could be completely different from what another group observes—and that’s the whole point."
   ]
  },
  {
   "cell_type": "markdown",
   "metadata": {},
   "source": [
    "### Dataset\n",
    "\n",
    "<div align=\"center\">\n",
    "  <img src=\"https://images.pexels.com/photos/365625/pexels-photo-365625.jpeg?auto=compress&cs=tinysrgb&w=1260&h=750&dpr=2\" alt=\"Explorathon\" width=\"640\" height=\"300\"/>\n",
    "</div>\n",
    "\n",
    "&nbsp;\n",
    "\n",
    "Do you or someone you know believe in *aliens*? We’ll be using the [UFO Sightings Around The World](https://www.kaggle.com/datasets/jonwright13/ufo-sightings-around-the-world-better), which contains over 80,000 reports of UFO sightings. \n",
    "\n",
    "**Description**\n",
    "\n",
    "- `Date_time` - Standardized date and time of sighting\n",
    "\n",
    "- `date_documented` - When was the UFO sighting reported\n",
    "\n",
    "- `Year` - Year of sighting\n",
    "\n",
    "- `Month` - Month of sighting\n",
    "\n",
    "- `Hour` - Hour of sighting\n",
    "\n",
    "- `Season` - Season of the sighting\n",
    "\n",
    "- `Country_Code` - Country code for the country of the sighting\n",
    "\n",
    "- `Country` - Country name\n",
    "\n",
    "- `Region` - More granular address than country (Includes state, province, region, etc.)\n",
    "\n",
    "- `Locale` - More granular address than Region (Includes city, town, village, etc.)\n",
    "\n",
    "- `latitude` - Latitude\n",
    "\n",
    "- `longitude` - Longitude\n",
    "\n",
    "- `UFO_shape` - A one-word description of the \"spacecraft\"\n",
    "\n",
    "- `length_of_encounter_seconds` - Standardized to seconds, length of the observation of the UFO\n",
    "\n",
    "- `Encounter_Duration` - Raw description of the length of the encounter (shows uncertainty to previous column)\n",
    "\n",
    "- `description` - Text description of the UFO encounter. Warning column is messy, with some curation it could lend itself to some natural language processing and sentiment analysis.\n",
    "\n",
    "**NOTE:** There are some missing data in the columns--it is up to each group to determine what is or is not important, based on their interests."
   ]
  },
  {
   "cell_type": "markdown",
   "metadata": {},
   "source": [
    "### What You’ll Do\n",
    "In your group, you will:\n",
    "\n",
    "1.\tExplore the dataset using Python along with any other tools we've covered--Jupyter, NumPy, pandas, Matplotlib\n",
    "\t\n",
    "2.\tForm a hypothesis or narrative – What’s going on in this data? What questions are worth asking?\n",
    "\n",
    "3.\tDevelop a story: Are UFO sightings cultural? Seasonal? Political? Pure coincidence? A cover-up?\n",
    "\n",
    "4.\tBuild at least one visual to help you communicate your idea.\n",
    "\n",
    "5.\tDeliver a short story that captures your insights and conclusions; persuades us in the belief or disbelief of aliens!"
   ]
  },
  {
   "cell_type": "markdown",
   "metadata": {},
   "source": [
    "### Possible Explorations\n",
    "* Where and when do most sightings occur?\n",
    "* What shapes are most commonly reported?\n",
    "* Do sightings spike during certain historical events?\n",
    "* Are there regional UFO “hotspots”?\n",
    "* Do people describe different shapes in different states?\n",
    "* Can we tell a story of mass psychology? Or alien visitors?\n",
    "\n",
    "You don’t need to prove anything — just interpret, speculate, support, and story-tell."
   ]
  },
  {
   "cell_type": "markdown",
   "metadata": {},
   "source": [
    "### The Story Presentation\n",
    "\n",
    "<div align=\"center\">\n",
    "  <img src=\"https://images.pexels.com/photos/2017111/pexels-photo-2017111.jpeg?auto=compress&cs=tinysrgb&w=1260&h=750&dpr=2\" alt=\"Explorathon\" width=\"450\" height=\"500\"/>\n",
    "</div>\n",
    "\n",
    "Each group will share a clear, persuasive, data-driven story, that includes at least one graph or visual."
   ]
  },
  {
   "cell_type": "markdown",
   "metadata": {},
   "source": [
    "### Remember\n",
    "* Data is not just about numbers, it's about meaning\n",
    "* The story you tell influences people's decisions\n",
    "\n",
    "Let’s find out what the data *really* says… 👽"
   ]
  },
  {
   "cell_type": "markdown",
   "metadata": {},
   "source": [
    "## Part I: Exploratory Data Analysis"
   ]
  },
  {
   "cell_type": "markdown",
   "metadata": {},
   "source": [
    "Familiarize yourself with the dataset--do some exploration! We want to try and prove (or disprove) the existence of aliens!"
   ]
  },
  {
   "cell_type": "code",
   "execution_count": 2,
   "metadata": {},
   "outputs": [],
   "source": [
    "import pandas as pd\n",
    "\n",
    "df = pd.read_csv(\"../data/ufo-sightings.csv\")"
   ]
  },
  {
   "cell_type": "markdown",
   "metadata": {},
   "source": [
    "### Questions\n",
    "\n",
    "What are three insightful questions you want answered from the data?\n",
    "\n",
    "1.\n",
    "\n",
    "2.\n",
    "\n",
    "3."
   ]
  },
  {
   "cell_type": "markdown",
   "metadata": {},
   "source": [
    "### Exploration"
   ]
  },
  {
   "cell_type": "code",
   "execution_count": null,
   "metadata": {},
   "outputs": [],
   "source": []
  },
  {
   "cell_type": "markdown",
   "metadata": {},
   "source": [
    "### Questions (Revisited)\n",
    "\n",
    "Were you able to answer the questions you asked earlier? If not, ask a new question! Provide the conclusions to your questions below.\n",
    "\n",
    "1.\n",
    "\n",
    "2.\n",
    "\n",
    "3."
   ]
  },
  {
   "cell_type": "markdown",
   "metadata": {},
   "source": [
    "## Part II: UFO Sightings on Earth\n",
    "\n",
    "**Scenario**\n",
    "\n",
    "You’re a researcher trying to determine patterns in alien sightings reported by civilians. Assuming we're unsure about the existence of aliens, your task is to analyze the dataset to:\n",
    "\n",
    "*\tDetermine geographical hotspots; identify unusual clusters (spatial or temporal)\n",
    "\n",
    "*   Visualize sighting hotspots or signal anomalies\n",
    "\n",
    "* \tSpot correlations between craft type and sighting duration\n",
    "\n",
    "*   Assess credibility using duration, location, or witness rating; filter out unreliable sightings using credibility thresholds\n",
    "\n",
    "*   Decide: Is there enough evidence to proceed to “Contact Protocol”?"
   ]
  },
  {
   "cell_type": "markdown",
   "metadata": {},
   "source": [
    "### Conclusions\n",
    "\n",
    "Do aliens exist? Use the data and the questions you've answered to come up with a persuasive story! \n"
   ]
  },
  {
   "cell_type": "markdown",
   "metadata": {},
   "source": []
  },
  {
   "cell_type": "markdown",
   "metadata": {},
   "source": [
    "## Part II: Aliens Exist!\n",
    "\n",
    "**Scenario I: Alien Census Analysis**\n",
    "\n",
    "You are a data analyst for the United Federation of Planets. Unfortunately, aliens do not fill out their census forms. Assuming there is an alien civilization on Earth, your task is to analyze the dataset to:\n",
    "\n",
    "*\tCompare the different locations on Earth to determine alien \"hot spots\"\n",
    "\n",
    "*\tExamine the population growth of aliens--is it increasing or decreasing? Neither?\n",
    "\n",
    "*\tIdentify areas that meet criteria for interstellar conquest\n",
    "\n",
    "\n",
    "**Scenario II: Intergalactic Trade Optimization**\n",
    "\n",
    "A fleet of cargo ships is moving goods between Earth and alien systems. Assuming aliens travel to Earth to harvest goods, identify possible goods they are interested in, along with any possible routes that may be taking while on Earth (they do want to maximize their team here, after all). Assuming aliens come to Earth to harvest goods, your task is to analyze the dataset to:\n",
    "\n",
    "*\tDetermine which goods are in the highest demand on Earth\n",
    "\n",
    "*\tDiscover patterns in good acquisition\n",
    "\n",
    "*\tIdentify how economic tiers affect alien visitation\n",
    "\n",
    "\n"
   ]
  },
  {
   "cell_type": "code",
   "execution_count": null,
   "metadata": {},
   "outputs": [],
   "source": []
  },
  {
   "cell_type": "markdown",
   "metadata": {},
   "source": [
    "#### Conclusion\n",
    "Choosing one of the scenarios above, form a short reflection that:\n",
    "* \tSummarizes what the data reveals\n",
    "* \tSuggests next steps for humanity\n",
    "* \tIncludes personal insights or challenges encountered\n"
   ]
  },
  {
   "cell_type": "markdown",
   "metadata": {},
   "source": []
  }
 ],
 "metadata": {
  "kernelspec": {
   "display_name": "Python 3 (ipykernel)",
   "language": "python",
   "name": "python3"
  },
  "language_info": {
   "codemirror_mode": {
    "name": "ipython",
    "version": 3
   },
   "file_extension": ".py",
   "mimetype": "text/x-python",
   "name": "python",
   "nbconvert_exporter": "python",
   "pygments_lexer": "ipython3",
   "version": "3.12.5"
  }
 },
 "nbformat": 4,
 "nbformat_minor": 4
}
