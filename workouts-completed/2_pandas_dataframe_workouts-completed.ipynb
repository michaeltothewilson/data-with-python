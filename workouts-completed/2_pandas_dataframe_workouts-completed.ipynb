{
 "cells": [
  {
   "cell_type": "markdown",
   "id": "6c9aa4de-6ce5-4139-bea8-9aa35745b142",
   "metadata": {
    "editable": true,
    "slideshow": {
     "slide_type": ""
    },
    "tags": []
   },
   "source": [
    "# Your Info\n",
    "__Name__:\n",
    "\n",
    "__PDX Email__:\n",
    "\n",
    "__Collaborators__:"
   ]
  },
  {
   "cell_type": "markdown",
   "id": "95d2cc86-9abb-4c32-9344-c877cb34d909",
   "metadata": {
    "editable": false,
    "slideshow": {
     "slide_type": ""
    },
    "tags": []
   },
   "source": [
    "# Pandas DataFrame Workout\n",
    "\n",
    "This workout will cover creating, accessing, manipulating, and analyzing data within a Pandas DataFrame."
   ]
  },
  {
   "cell_type": "markdown",
   "id": "1f49f4b2-678c-42ab-81dd-033658712d28",
   "metadata": {
    "editable": false,
    "slideshow": {
     "slide_type": ""
    },
    "tags": []
   },
   "source": [
    "## Overview of the Dataset\n",
    "\n",
    "For this workout, we will be examining a dataset from a CSV file.\n",
    "\n",
    "This dataset contains information about individual taxi trips in New York City, sourced from [NYC Open Data](https://opendata.cityofnewyork.us/data/). \n",
    "\n",
    "Each row represents one ride and includes the following details:\n",
    "\n",
    "__Key Columns:__\n",
    "\n",
    "* `VendorID`: Identifies the taxi company operating the trip.\t\n",
    "* `tpep_pickup_datetime` & `tpep_dropoff_datetime`: the start and end times of the trip.\t\n",
    "* `passenger_count`: Indicates the number of passengers. \t\n",
    "* `trip_distance`: The elapsed trip distance in miles reported by the taximeter. \t\n",
    "* `RatecodeID`: The final rate code in effect at the end of the trip.\n",
    "    * `1` = Standard rate\n",
    "    * `2` = JFK\n",
    "    * `3` = Newark\n",
    "    * `4` = Nassau or Westchester\n",
    "    * `5` = Negotiated fare\n",
    "    * `6` = Group ride\n",
    "    * `99` = Null/unknown \n",
    "* `store_and_fwd_flag`: This flag indicates whether the trip record was held in vehicle memory before sending to the vendor, aka “store and forward,” because the vehicle did not have a connection to the server. Y = store and forward trip N = not a store and forward trip \t\n",
    "* `PULocationID` & `DOLocationID`: TLC Taxi Zone in which the taximeter was engaged and disengaged respectively. \n",
    "* `payment_type`: A numeric code signifying how the passenger paid for the trip.\n",
    "    * `0` = Flex Fare trip\n",
    "    * `1` = Credit card\n",
    "    * `2` = Cash\n",
    "    * `3` = No charge\n",
    "    * `4` = Dispute\n",
    "    * `5` = Unknown\n",
    "    * `6` = Voided trip \n",
    "* `fare_amount`: The time-and-distance fare calculated by the meter.\n",
    "* `extra`, `mta_tax`, `tip_amount`, `tolls_amount`, `improvement_surcharge`, `congestion_surcharge`: These columns provide details on additional charges and payments.\t\n",
    "* `total_amount`: The total amount charged to passengers. Does not include cash tips.\t"
   ]
  },
  {
   "cell_type": "markdown",
   "id": "9c8def3e-99c6-48d2-9003-936bd925b042",
   "metadata": {
    "editable": false,
    "slideshow": {
     "slide_type": ""
    },
    "tags": []
   },
   "source": [
    "## Step 0 - Importing the Tools\n",
    "\n",
    "* Import the `pandas` library using the `pd` alias"
   ]
  },
  {
   "cell_type": "code",
   "execution_count": 1,
   "id": "1298e9ab-9cac-4a95-8e2a-9447e82c873b",
   "metadata": {
    "editable": true,
    "slideshow": {
     "slide_type": ""
    },
    "tags": []
   },
   "outputs": [],
   "source": [
    "### Begin Solution\n",
    "import pandas as pd\n",
    "\n",
    "### End Solution"
   ]
  },
  {
   "cell_type": "markdown",
   "id": "09b060c0-61a3-424c-b039-f2b5ed4300d8",
   "metadata": {
    "editable": true,
    "slideshow": {
     "slide_type": ""
    },
    "tags": []
   },
   "source": [
    "## Step 1 - Load the Dataset\n",
    "\n",
    "__The Setup__\n",
    "\n",
    "Your task is to create a Pandas DataFrame, named `df`, by loading data from the `CSV` file located at the following location:\n",
    "\n",
    "```bash\n",
    "../data/nyc_taxi_2020-07.csv\n",
    "```"
   ]
  },
  {
   "cell_type": "code",
   "execution_count": 2,
   "id": "bf8424da-c32b-489a-bc89-06f6e79046ce",
   "metadata": {
    "editable": true,
    "slideshow": {
     "slide_type": ""
    },
    "tags": []
   },
   "outputs": [],
   "source": [
    "### Begin Solution\n",
    "FILE = \"../data/nyc_taxi_2020-07.csv\"\n",
    "taxi_df = pd.read_csv(FILE, low_memory=False)\n",
    "\n",
    "### End Solution"
   ]
  },
  {
   "cell_type": "markdown",
   "id": "cdcc69b5-617b-4eab-93b5-dd8c20c8c9bc",
   "metadata": {
    "editable": false,
    "slideshow": {
     "slide_type": ""
    },
    "tags": []
   },
   "source": [
    "## Step 2 - Skimming the Data\n",
    "\n",
    "Display the first few rows of the DataFrame to see the column names and some sample data."
   ]
  },
  {
   "cell_type": "code",
   "execution_count": 3,
   "id": "890a554e-4a58-468b-a5ba-f0251a8c6671",
   "metadata": {
    "editable": true,
    "slideshow": {
     "slide_type": ""
    },
    "tags": []
   },
   "outputs": [
    {
     "data": {
      "text/html": [
       "<div>\n",
       "<style scoped>\n",
       "    .dataframe tbody tr th:only-of-type {\n",
       "        vertical-align: middle;\n",
       "    }\n",
       "\n",
       "    .dataframe tbody tr th {\n",
       "        vertical-align: top;\n",
       "    }\n",
       "\n",
       "    .dataframe thead th {\n",
       "        text-align: right;\n",
       "    }\n",
       "</style>\n",
       "<table border=\"1\" class=\"dataframe\">\n",
       "  <thead>\n",
       "    <tr style=\"text-align: right;\">\n",
       "      <th></th>\n",
       "      <th>VendorID</th>\n",
       "      <th>tpep_pickup_datetime</th>\n",
       "      <th>tpep_dropoff_datetime</th>\n",
       "      <th>passenger_count</th>\n",
       "      <th>trip_distance</th>\n",
       "      <th>RatecodeID</th>\n",
       "      <th>store_and_fwd_flag</th>\n",
       "      <th>PULocationID</th>\n",
       "      <th>DOLocationID</th>\n",
       "      <th>payment_type</th>\n",
       "      <th>fare_amount</th>\n",
       "      <th>extra</th>\n",
       "      <th>mta_tax</th>\n",
       "      <th>tip_amount</th>\n",
       "      <th>tolls_amount</th>\n",
       "      <th>improvement_surcharge</th>\n",
       "      <th>total_amount</th>\n",
       "      <th>congestion_surcharge</th>\n",
       "    </tr>\n",
       "  </thead>\n",
       "  <tbody>\n",
       "    <tr>\n",
       "      <th>0</th>\n",
       "      <td>1.0</td>\n",
       "      <td>2020-07-01 00:25:32</td>\n",
       "      <td>2020-07-01 00:33:39</td>\n",
       "      <td>1.0</td>\n",
       "      <td>1.50</td>\n",
       "      <td>1.0</td>\n",
       "      <td>N</td>\n",
       "      <td>238</td>\n",
       "      <td>75</td>\n",
       "      <td>2.0</td>\n",
       "      <td>8.0</td>\n",
       "      <td>0.5</td>\n",
       "      <td>0.5</td>\n",
       "      <td>0.00</td>\n",
       "      <td>0.0</td>\n",
       "      <td>0.3</td>\n",
       "      <td>9.30</td>\n",
       "      <td>0.0</td>\n",
       "    </tr>\n",
       "    <tr>\n",
       "      <th>1</th>\n",
       "      <td>1.0</td>\n",
       "      <td>2020-07-01 00:03:19</td>\n",
       "      <td>2020-07-01 00:25:43</td>\n",
       "      <td>1.0</td>\n",
       "      <td>9.50</td>\n",
       "      <td>1.0</td>\n",
       "      <td>N</td>\n",
       "      <td>138</td>\n",
       "      <td>216</td>\n",
       "      <td>1.0</td>\n",
       "      <td>26.5</td>\n",
       "      <td>0.5</td>\n",
       "      <td>0.5</td>\n",
       "      <td>0.00</td>\n",
       "      <td>0.0</td>\n",
       "      <td>0.3</td>\n",
       "      <td>27.80</td>\n",
       "      <td>0.0</td>\n",
       "    </tr>\n",
       "    <tr>\n",
       "      <th>2</th>\n",
       "      <td>2.0</td>\n",
       "      <td>2020-07-01 00:15:11</td>\n",
       "      <td>2020-07-01 00:29:24</td>\n",
       "      <td>1.0</td>\n",
       "      <td>5.85</td>\n",
       "      <td>1.0</td>\n",
       "      <td>N</td>\n",
       "      <td>230</td>\n",
       "      <td>88</td>\n",
       "      <td>2.0</td>\n",
       "      <td>18.5</td>\n",
       "      <td>0.5</td>\n",
       "      <td>0.5</td>\n",
       "      <td>0.00</td>\n",
       "      <td>0.0</td>\n",
       "      <td>0.3</td>\n",
       "      <td>22.30</td>\n",
       "      <td>2.5</td>\n",
       "    </tr>\n",
       "    <tr>\n",
       "      <th>3</th>\n",
       "      <td>2.0</td>\n",
       "      <td>2020-07-01 00:30:49</td>\n",
       "      <td>2020-07-01 00:38:26</td>\n",
       "      <td>1.0</td>\n",
       "      <td>1.90</td>\n",
       "      <td>1.0</td>\n",
       "      <td>N</td>\n",
       "      <td>88</td>\n",
       "      <td>232</td>\n",
       "      <td>1.0</td>\n",
       "      <td>8.0</td>\n",
       "      <td>0.5</td>\n",
       "      <td>0.5</td>\n",
       "      <td>2.36</td>\n",
       "      <td>0.0</td>\n",
       "      <td>0.3</td>\n",
       "      <td>14.16</td>\n",
       "      <td>2.5</td>\n",
       "    </tr>\n",
       "    <tr>\n",
       "      <th>4</th>\n",
       "      <td>2.0</td>\n",
       "      <td>2020-07-01 00:31:26</td>\n",
       "      <td>2020-07-01 00:38:02</td>\n",
       "      <td>1.0</td>\n",
       "      <td>1.25</td>\n",
       "      <td>1.0</td>\n",
       "      <td>N</td>\n",
       "      <td>37</td>\n",
       "      <td>17</td>\n",
       "      <td>2.0</td>\n",
       "      <td>6.5</td>\n",
       "      <td>0.5</td>\n",
       "      <td>0.5</td>\n",
       "      <td>0.00</td>\n",
       "      <td>0.0</td>\n",
       "      <td>0.3</td>\n",
       "      <td>7.80</td>\n",
       "      <td>0.0</td>\n",
       "    </tr>\n",
       "  </tbody>\n",
       "</table>\n",
       "</div>"
      ],
      "text/plain": [
       "   VendorID tpep_pickup_datetime tpep_dropoff_datetime  passenger_count  \\\n",
       "0       1.0  2020-07-01 00:25:32   2020-07-01 00:33:39              1.0   \n",
       "1       1.0  2020-07-01 00:03:19   2020-07-01 00:25:43              1.0   \n",
       "2       2.0  2020-07-01 00:15:11   2020-07-01 00:29:24              1.0   \n",
       "3       2.0  2020-07-01 00:30:49   2020-07-01 00:38:26              1.0   \n",
       "4       2.0  2020-07-01 00:31:26   2020-07-01 00:38:02              1.0   \n",
       "\n",
       "   trip_distance  RatecodeID store_and_fwd_flag  PULocationID  DOLocationID  \\\n",
       "0           1.50         1.0                  N           238            75   \n",
       "1           9.50         1.0                  N           138           216   \n",
       "2           5.85         1.0                  N           230            88   \n",
       "3           1.90         1.0                  N            88           232   \n",
       "4           1.25         1.0                  N            37            17   \n",
       "\n",
       "   payment_type  fare_amount  extra  mta_tax  tip_amount  tolls_amount  \\\n",
       "0           2.0          8.0    0.5      0.5        0.00           0.0   \n",
       "1           1.0         26.5    0.5      0.5        0.00           0.0   \n",
       "2           2.0         18.5    0.5      0.5        0.00           0.0   \n",
       "3           1.0          8.0    0.5      0.5        2.36           0.0   \n",
       "4           2.0          6.5    0.5      0.5        0.00           0.0   \n",
       "\n",
       "   improvement_surcharge  total_amount  congestion_surcharge  \n",
       "0                    0.3          9.30                   0.0  \n",
       "1                    0.3         27.80                   0.0  \n",
       "2                    0.3         22.30                   2.5  \n",
       "3                    0.3         14.16                   2.5  \n",
       "4                    0.3          7.80                   0.0  "
      ]
     },
     "execution_count": 3,
     "metadata": {},
     "output_type": "execute_result"
    }
   ],
   "source": [
    "### Begin Solution\n",
    "taxi_df.head()\n",
    "\n",
    "### End Solution"
   ]
  },
  {
   "cell_type": "markdown",
   "id": "09267a3c-a53d-41af-b8de-d3e2240e8b52",
   "metadata": {
    "editable": false,
    "slideshow": {
     "slide_type": ""
    },
    "tags": []
   },
   "source": [
    "## Step 3 - Getting a Summary Overview\n",
    "\n",
    "Obtain a concise summary of the DataFrame, including the number of rows and columns, data types, and non-null values."
   ]
  },
  {
   "cell_type": "code",
   "execution_count": 4,
   "id": "f37801aa-ae6c-4365-a76e-cf49c573086a",
   "metadata": {
    "editable": true,
    "slideshow": {
     "slide_type": ""
    },
    "tags": []
   },
   "outputs": [
    {
     "name": "stdout",
     "output_type": "stream",
     "text": [
      "<class 'pandas.core.frame.DataFrame'>\n",
      "RangeIndex: 800412 entries, 0 to 800411\n",
      "Data columns (total 18 columns):\n",
      " #   Column                 Non-Null Count   Dtype  \n",
      "---  ------                 --------------   -----  \n",
      " 0   VendorID               737565 non-null  float64\n",
      " 1   tpep_pickup_datetime   800412 non-null  object \n",
      " 2   tpep_dropoff_datetime  800412 non-null  object \n",
      " 3   passenger_count        737565 non-null  float64\n",
      " 4   trip_distance          800412 non-null  float64\n",
      " 5   RatecodeID             737565 non-null  float64\n",
      " 6   store_and_fwd_flag     737565 non-null  object \n",
      " 7   PULocationID           800412 non-null  int64  \n",
      " 8   DOLocationID           800412 non-null  int64  \n",
      " 9   payment_type           737565 non-null  float64\n",
      " 10  fare_amount            800412 non-null  float64\n",
      " 11  extra                  800412 non-null  float64\n",
      " 12  mta_tax                800412 non-null  float64\n",
      " 13  tip_amount             800412 non-null  float64\n",
      " 14  tolls_amount           800412 non-null  float64\n",
      " 15  improvement_surcharge  800412 non-null  float64\n",
      " 16  total_amount           800412 non-null  float64\n",
      " 17  congestion_surcharge   800412 non-null  float64\n",
      "dtypes: float64(13), int64(2), object(3)\n",
      "memory usage: 109.9+ MB\n"
     ]
    }
   ],
   "source": [
    "### Begin Solution\n",
    "taxi_df.info()\n",
    "\n",
    "### End Solution"
   ]
  },
  {
   "cell_type": "markdown",
   "id": "2b79e69a-6167-447d-808d-6aef63303bc3",
   "metadata": {
    "editable": false,
    "slideshow": {
     "slide_type": ""
    },
    "tags": []
   },
   "source": [
    "## Step 4 - Descriptive Statistics for Numerical Columns\n",
    "\n",
    "Calculate and display the descriptive statistics for the numerical columns in the dataset. This will give you insights into the central tendency, dispersion, and range of values."
   ]
  },
  {
   "cell_type": "code",
   "execution_count": 5,
   "id": "6e9110c2-1727-496d-9045-7adcd374c09f",
   "metadata": {
    "editable": true,
    "slideshow": {
     "slide_type": ""
    },
    "tags": []
   },
   "outputs": [
    {
     "data": {
      "text/html": [
       "<div>\n",
       "<style scoped>\n",
       "    .dataframe tbody tr th:only-of-type {\n",
       "        vertical-align: middle;\n",
       "    }\n",
       "\n",
       "    .dataframe tbody tr th {\n",
       "        vertical-align: top;\n",
       "    }\n",
       "\n",
       "    .dataframe thead th {\n",
       "        text-align: right;\n",
       "    }\n",
       "</style>\n",
       "<table border=\"1\" class=\"dataframe\">\n",
       "  <thead>\n",
       "    <tr style=\"text-align: right;\">\n",
       "      <th></th>\n",
       "      <th>VendorID</th>\n",
       "      <th>passenger_count</th>\n",
       "      <th>trip_distance</th>\n",
       "      <th>RatecodeID</th>\n",
       "      <th>PULocationID</th>\n",
       "      <th>DOLocationID</th>\n",
       "      <th>payment_type</th>\n",
       "      <th>fare_amount</th>\n",
       "      <th>extra</th>\n",
       "      <th>mta_tax</th>\n",
       "      <th>tip_amount</th>\n",
       "      <th>tolls_amount</th>\n",
       "      <th>improvement_surcharge</th>\n",
       "      <th>total_amount</th>\n",
       "      <th>congestion_surcharge</th>\n",
       "    </tr>\n",
       "  </thead>\n",
       "  <tbody>\n",
       "    <tr>\n",
       "      <th>count</th>\n",
       "      <td>737565.000000</td>\n",
       "      <td>737565.000000</td>\n",
       "      <td>800412.000000</td>\n",
       "      <td>737565.000000</td>\n",
       "      <td>800412.000000</td>\n",
       "      <td>800412.000000</td>\n",
       "      <td>737565.000000</td>\n",
       "      <td>800412.000000</td>\n",
       "      <td>800412.000000</td>\n",
       "      <td>800412.000000</td>\n",
       "      <td>800412.000000</td>\n",
       "      <td>800412.000000</td>\n",
       "      <td>800412.000000</td>\n",
       "      <td>800412.000000</td>\n",
       "      <td>800412.000000</td>\n",
       "    </tr>\n",
       "    <tr>\n",
       "      <th>mean</th>\n",
       "      <td>1.622879</td>\n",
       "      <td>1.378401</td>\n",
       "      <td>4.304165</td>\n",
       "      <td>1.046801</td>\n",
       "      <td>160.061218</td>\n",
       "      <td>156.104931</td>\n",
       "      <td>1.352521</td>\n",
       "      <td>13.438400</td>\n",
       "      <td>1.003705</td>\n",
       "      <td>0.492124</td>\n",
       "      <td>1.789151</td>\n",
       "      <td>0.316874</td>\n",
       "      <td>0.296943</td>\n",
       "      <td>18.631460</td>\n",
       "      <td>2.019911</td>\n",
       "    </tr>\n",
       "    <tr>\n",
       "      <th>std</th>\n",
       "      <td>0.484666</td>\n",
       "      <td>1.039790</td>\n",
       "      <td>473.708961</td>\n",
       "      <td>1.203844</td>\n",
       "      <td>68.563400</td>\n",
       "      <td>72.990234</td>\n",
       "      <td>0.523148</td>\n",
       "      <td>13.675661</td>\n",
       "      <td>1.240157</td>\n",
       "      <td>0.078519</td>\n",
       "      <td>2.643472</td>\n",
       "      <td>1.533511</td>\n",
       "      <td>0.041673</td>\n",
       "      <td>15.060771</td>\n",
       "      <td>1.006693</td>\n",
       "    </tr>\n",
       "    <tr>\n",
       "      <th>min</th>\n",
       "      <td>1.000000</td>\n",
       "      <td>0.000000</td>\n",
       "      <td>0.000000</td>\n",
       "      <td>1.000000</td>\n",
       "      <td>1.000000</td>\n",
       "      <td>1.000000</td>\n",
       "      <td>1.000000</td>\n",
       "      <td>-391.500000</td>\n",
       "      <td>-4.500000</td>\n",
       "      <td>-0.500000</td>\n",
       "      <td>-25.830000</td>\n",
       "      <td>-18.360000</td>\n",
       "      <td>-0.300000</td>\n",
       "      <td>-397.600000</td>\n",
       "      <td>-2.500000</td>\n",
       "    </tr>\n",
       "    <tr>\n",
       "      <th>25%</th>\n",
       "      <td>1.000000</td>\n",
       "      <td>1.000000</td>\n",
       "      <td>1.000000</td>\n",
       "      <td>1.000000</td>\n",
       "      <td>107.000000</td>\n",
       "      <td>90.000000</td>\n",
       "      <td>1.000000</td>\n",
       "      <td>6.000000</td>\n",
       "      <td>0.000000</td>\n",
       "      <td>0.500000</td>\n",
       "      <td>0.000000</td>\n",
       "      <td>0.000000</td>\n",
       "      <td>0.300000</td>\n",
       "      <td>10.800000</td>\n",
       "      <td>2.500000</td>\n",
       "    </tr>\n",
       "    <tr>\n",
       "      <th>50%</th>\n",
       "      <td>2.000000</td>\n",
       "      <td>1.000000</td>\n",
       "      <td>1.790000</td>\n",
       "      <td>1.000000</td>\n",
       "      <td>161.000000</td>\n",
       "      <td>161.000000</td>\n",
       "      <td>1.000000</td>\n",
       "      <td>9.000000</td>\n",
       "      <td>0.500000</td>\n",
       "      <td>0.500000</td>\n",
       "      <td>1.660000</td>\n",
       "      <td>0.000000</td>\n",
       "      <td>0.300000</td>\n",
       "      <td>14.160000</td>\n",
       "      <td>2.500000</td>\n",
       "    </tr>\n",
       "    <tr>\n",
       "      <th>75%</th>\n",
       "      <td>2.000000</td>\n",
       "      <td>1.000000</td>\n",
       "      <td>3.400000</td>\n",
       "      <td>1.000000</td>\n",
       "      <td>234.000000</td>\n",
       "      <td>233.000000</td>\n",
       "      <td>2.000000</td>\n",
       "      <td>15.000000</td>\n",
       "      <td>2.500000</td>\n",
       "      <td>0.500000</td>\n",
       "      <td>2.750000</td>\n",
       "      <td>0.000000</td>\n",
       "      <td>0.300000</td>\n",
       "      <td>20.550000</td>\n",
       "      <td>2.500000</td>\n",
       "    </tr>\n",
       "    <tr>\n",
       "      <th>max</th>\n",
       "      <td>2.000000</td>\n",
       "      <td>9.000000</td>\n",
       "      <td>256069.130000</td>\n",
       "      <td>99.000000</td>\n",
       "      <td>265.000000</td>\n",
       "      <td>265.000000</td>\n",
       "      <td>4.000000</td>\n",
       "      <td>1995.000000</td>\n",
       "      <td>90.060000</td>\n",
       "      <td>3.300000</td>\n",
       "      <td>1001.000000</td>\n",
       "      <td>126.120000</td>\n",
       "      <td>0.300000</td>\n",
       "      <td>1995.000000</td>\n",
       "      <td>2.500000</td>\n",
       "    </tr>\n",
       "  </tbody>\n",
       "</table>\n",
       "</div>"
      ],
      "text/plain": [
       "            VendorID  passenger_count  trip_distance     RatecodeID  \\\n",
       "count  737565.000000    737565.000000  800412.000000  737565.000000   \n",
       "mean        1.622879         1.378401       4.304165       1.046801   \n",
       "std         0.484666         1.039790     473.708961       1.203844   \n",
       "min         1.000000         0.000000       0.000000       1.000000   \n",
       "25%         1.000000         1.000000       1.000000       1.000000   \n",
       "50%         2.000000         1.000000       1.790000       1.000000   \n",
       "75%         2.000000         1.000000       3.400000       1.000000   \n",
       "max         2.000000         9.000000  256069.130000      99.000000   \n",
       "\n",
       "        PULocationID   DOLocationID   payment_type    fare_amount  \\\n",
       "count  800412.000000  800412.000000  737565.000000  800412.000000   \n",
       "mean      160.061218     156.104931       1.352521      13.438400   \n",
       "std        68.563400      72.990234       0.523148      13.675661   \n",
       "min         1.000000       1.000000       1.000000    -391.500000   \n",
       "25%       107.000000      90.000000       1.000000       6.000000   \n",
       "50%       161.000000     161.000000       1.000000       9.000000   \n",
       "75%       234.000000     233.000000       2.000000      15.000000   \n",
       "max       265.000000     265.000000       4.000000    1995.000000   \n",
       "\n",
       "               extra        mta_tax     tip_amount   tolls_amount  \\\n",
       "count  800412.000000  800412.000000  800412.000000  800412.000000   \n",
       "mean        1.003705       0.492124       1.789151       0.316874   \n",
       "std         1.240157       0.078519       2.643472       1.533511   \n",
       "min        -4.500000      -0.500000     -25.830000     -18.360000   \n",
       "25%         0.000000       0.500000       0.000000       0.000000   \n",
       "50%         0.500000       0.500000       1.660000       0.000000   \n",
       "75%         2.500000       0.500000       2.750000       0.000000   \n",
       "max        90.060000       3.300000    1001.000000     126.120000   \n",
       "\n",
       "       improvement_surcharge   total_amount  congestion_surcharge  \n",
       "count          800412.000000  800412.000000         800412.000000  \n",
       "mean                0.296943      18.631460              2.019911  \n",
       "std                 0.041673      15.060771              1.006693  \n",
       "min                -0.300000    -397.600000             -2.500000  \n",
       "25%                 0.300000      10.800000              2.500000  \n",
       "50%                 0.300000      14.160000              2.500000  \n",
       "75%                 0.300000      20.550000              2.500000  \n",
       "max                 0.300000    1995.000000              2.500000  "
      ]
     },
     "execution_count": 5,
     "metadata": {},
     "output_type": "execute_result"
    }
   ],
   "source": [
    "### Begin Solution\n",
    "taxi_df.describe()\n",
    "\n",
    "### End Solution"
   ]
  },
  {
   "cell_type": "markdown",
   "id": "18520e80-5de2-40c0-a6a5-0db0c8174eae",
   "metadata": {
    "editable": false,
    "slideshow": {
     "slide_type": ""
    },
    "tags": []
   },
   "source": [
    "## Step 5 - Examining Specific Columns\n",
    "\n",
    "Focus on the `passenger_count` and `total_amount` columns.\n",
    "\n",
    "* Find the minimum, maximum, and average values for each of these columns."
   ]
  },
  {
   "cell_type": "code",
   "execution_count": 6,
   "id": "dcad85d6-a0a1-43ae-b2b9-00751a9ebae3",
   "metadata": {
    "editable": true,
    "slideshow": {
     "slide_type": ""
    },
    "tags": []
   },
   "outputs": [
    {
     "data": {
      "text/plain": [
       "([np.float64(0.0), np.float64(9.0), np.float64(1.378400547748334)],\n",
       " [np.float64(-397.6), np.float64(1995.0), np.float64(18.631459910646026)])"
      ]
     },
     "execution_count": 6,
     "metadata": {},
     "output_type": "execute_result"
    }
   ],
   "source": [
    "### Begin Solution\n",
    "\n",
    "passenger_count = [taxi_df[\"passenger_count\"].min(),\n",
    "                   taxi_df[\"passenger_count\"].max(),\n",
    "                   taxi_df[\"passenger_count\"].mean()]\n",
    "\n",
    "total_amount = [taxi_df[\"total_amount\"].min(),\n",
    "                 taxi_df[\"total_amount\"].max(),\n",
    "                 taxi_df[\"total_amount\"].mean()]\n",
    "                \n",
    "passenger_count, total_amount\n",
    "### End Solution"
   ]
  },
  {
   "cell_type": "markdown",
   "id": "d6ac8f7e-1e3d-49e7-8291-c1d841348ba1",
   "metadata": {
    "editable": true,
    "slideshow": {
     "slide_type": ""
    },
    "tags": []
   },
   "source": [
    "## Step 6: Exploring Payment Types\n",
    "\n",
    "Investigate the `payment_type` column to see the different categories of payment and how many times each occurs.\n",
    "\n",
    "* Determine the frequency of each payment type.\n",
    "* Calculate the proportion of each payment type relative to the total number of rides."
   ]
  },
  {
   "cell_type": "code",
   "execution_count": 7,
   "id": "061cf88d-9f52-4272-9564-dbb06aef3413",
   "metadata": {
    "editable": true,
    "scrolled": true,
    "slideshow": {
     "slide_type": ""
    },
    "tags": []
   },
   "outputs": [
    {
     "data": {
      "text/plain": [
       "payment_type\n",
       "1.0    0.613435\n",
       "2.0    0.295389\n",
       "3.0    0.008519\n",
       "4.0    0.004138\n",
       "Name: count, dtype: float64"
      ]
     },
     "execution_count": 7,
     "metadata": {},
     "output_type": "execute_result"
    }
   ],
   "source": [
    "### Begin Solution\n",
    "payment_types = taxi_df[\"payment_type\"].value_counts()\n",
    "\n",
    "\n",
    "\n",
    "total_rides = len(taxi_df[\"payment_type\"])\n",
    "proportions = payment_types / total_rides\n",
    "proportions\n",
    "### End Solution"
   ]
  },
  {
   "cell_type": "markdown",
   "id": "dce5c157-23ec-4b27-9029-1ead4da10386",
   "metadata": {
    "editable": true,
    "slideshow": {
     "slide_type": ""
    },
    "tags": []
   },
   "source": [
    "## Step 7 - Identifying Potentially Unusual Rides \n",
    "\n",
    "Use boolean indexing to filter the DataFrame and count the number of rides that meet the criteria for being unusual:\n",
    "* more than 6 passengers\n",
    "* 0 passengers\n",
    "* total amount of \\$1000 or more\n",
    "* total amount of \\$0 or less.\n",
    "\n",
    "__Explanation__\n",
    "\n",
    "Boolean Indexing in Pandas\n",
    "\n",
    "Boolean indexing lets you select rows in a DataFrame based on whether a condition is `True` or `False`.\n",
    "\n",
    "Syntax:\n",
    "\n",
    "```python\n",
    "df[df['column_name'] condition value]\n",
    "```\n",
    "\n",
    "* `df['column_name']`: Selects the column to check.\n",
    "* `condition`: A comparison operator (`>`, `<`, `>=`, `<=`, `==`, `!=`).\n",
    "* `value`: The value to compare against.\n",
    "\n",
    "This creates a boolean Series, and only rows where the condition is `True` are kept."
   ]
  },
  {
   "cell_type": "code",
   "execution_count": 8,
   "id": "1007b7f9-b2a8-4259-9b6c-adb373a4c15b",
   "metadata": {
    "editable": true,
    "slideshow": {
     "slide_type": ""
    },
    "tags": []
   },
   "outputs": [
    {
     "name": "stdout",
     "output_type": "stream",
     "text": [
      "8\n",
      "19506\n"
     ]
    }
   ],
   "source": [
    "### Begin Solution\n",
    "mask = taxi_df[\"passenger_count\"] > 6\n",
    "\n",
    "print(len(taxi_df[mask]))\n",
    "\n",
    "mask = taxi_df[\"passenger_count\"] == 0\n",
    "\n",
    "print(taxi_df[mask].shape[0])\n",
    "### End Solution"
   ]
  },
  {
   "cell_type": "markdown",
   "id": "efde6b01-e4e3-45ba-8f11-d43887234d73",
   "metadata": {
    "editable": false,
    "slideshow": {
     "slide_type": ""
    },
    "tags": []
   },
   "source": [
    "## Useful References\n",
    "\n",
    "__Core DataFrame Operations__:\n",
    "\n",
    "* `pd.read_csv()`: Reads data from a CSV file into a DataFrame. \n",
    "* `df['column']`: Accesses a single column as a Series.\n",
    "* `df.head(n)`: Displays the first n rows of the DataFrame, useful for initial inspection.\n",
    "* `df.dtypes`: Shows the data type of each column in the DataFrame.\n",
    "* `df.info()`: Provides a concise summary of the DataFrame, including data types and non-null values.\n",
    "* `df.columns`: Returns the column names of the DataFrame.\n",
    "* `df.index`: Returns the index of the DataFrame (row labels).\n",
    "* `df.loc[row_label, column_label]`: Accesses data by label(s). Useful for selecting specific rows or columns by their names.\n",
    "* `len(df)`: Returns the number of rows in the DataFrame. Useful for finding the total number of records or the number of rows after filtering.\n",
    "\n",
    "\n",
    "__Adding and Modifying Data__:\n",
    "* `df['new_column']` = value: Adds a new column to the DataFrame with a specified value (scalar or a Series). \n",
    "\n",
    "__Grouping and Aggregation__:\n",
    "* `.count()`: Calculates the number of non-missing values within each group or Series.\n",
    "* `.sum()`: Calculates the sum of values within each group or Series.\n",
    "* `.mean()`: Calculates the average of values within each group or Series.\n",
    "\n",
    "\n",
    "__Value Counts and Proportions__:\n",
    "\n",
    "* `df['column'].value_counts()`: Returns a Series containing the counts of unique values in a column. Useful for analyzing the distribution of passenger counts and payment types.\n",
    "\n",
    "For more in-depth information on the topics we've discussed and many others, you can visit the official Pandas documentation here:\n",
    "\n",
    "[https://pandas.pydata.org/docs/](https://pandas.pydata.org/docs/)"
   ]
  }
 ],
 "metadata": {
  "kernelspec": {
   "display_name": "Python 3 (ipykernel)",
   "language": "python",
   "name": "python3"
  },
  "language_info": {
   "codemirror_mode": {
    "name": "ipython",
    "version": 3
   },
   "file_extension": ".py",
   "mimetype": "text/x-python",
   "name": "python",
   "nbconvert_exporter": "python",
   "pygments_lexer": "ipython3",
   "version": "3.12.5"
  }
 },
 "nbformat": 4,
 "nbformat_minor": 5
}
