{
 "cells": [
  {
   "cell_type": "markdown",
   "id": "77d76ed8-07e2-4620-9c0c-06b165331918",
   "metadata": {},
   "source": [
    "# Pandas 2 (More Loading and Exploring Data)"
   ]
  },
  {
   "cell_type": "markdown",
   "id": "afdc811b-8387-4597-9c51-41d0e03406f4",
   "metadata": {},
   "source": [
    "## Labubu 2024 Sales Data\n",
    "<center>\n",
    "<img src=\"https://upload.wikimedia.org/wikipedia/en/a/a9/Pop_Mart_Labubu_The_Monsters_Exciting_Macaron.jpg\">\n",
    "</center>\n",
    "image credit: wikimedia\n",
    "<br />\n",
    "<br />\n",
    "\n",
    "Let's import and explore a small dataset on Popmart's Labubu sales."
   ]
  },
  {
   "cell_type": "markdown",
   "id": "60880670-fc68-4081-9b0b-8a5e799eef5b",
   "metadata": {},
   "source": [
    "## Importing Pandas\n",
    "\n",
    "First things first, import pandas in the code cell below.\n",
    "\n",
    "__Syntax__:\n",
    "\n",
    "```python\n",
    "import pandas as pd\n",
    "```"
   ]
  },
  {
   "cell_type": "code",
   "execution_count": null,
   "id": "8cec9292-2a39-4814-ad9e-0be0df3a1a34",
   "metadata": {},
   "outputs": [],
   "source": [
    "# Import Pandas\n",
    "import pandas as pd"
   ]
  },
  {
   "cell_type": "markdown",
   "id": "21b54ea9-c4a4-47ac-96a1-2016085009f8",
   "metadata": {},
   "source": [
    "## Loading a DataFrame: Dictionary\n",
    "\n",
    "We will be loading this particular dataset from a list of Python Dictionaries.\n",
    "\n",
    "The list contains sales information related to Popmart's Labubu doll blind-box thing.\n",
    "\n",
    "__Syntax__:\n",
    "```python\n",
    "dataframe = pd.DataFrame(data)\n",
    "```"
   ]
  },
  {
   "cell_type": "code",
   "execution_count": null,
   "id": "1922abe2-d383-4932-a6a9-484178a85f94",
   "metadata": {},
   "outputs": [],
   "source": [
    "## Load Data from a List of Dictionaries\n",
    "\n",
    "## Data Source: https://kr-asia.com/pop-marts-labubu-breaks-records-in-thailand-can-the-trend-go-global\n",
    "\n",
    "data = [\n",
    "    {\"Region\": \"Southeast Asia\", \"Revenue (USD) (M)\": 78.4, \"Revenue (CNY) (M)\": 560.0},\n",
    "    {\"Region\": \"East Asia\", \"Revenue (USD) (M)\": 67.0, \"Revenue (CNY) (M)\": 480.0},\n",
    "    {\"Region\": \"North America\", \"Revenue (USD) (M)\": 25.2, \"Revenue (CNY) (M)\": 180.0},\n",
    "    {\"Region\": \"Europe and Other Markets\", \"Revenue (USD) (M)\": 19.6, \"Revenue (CNY) (M)\": 140.0}\n",
    "]\n",
    "\n",
    "labubu_sales_df = pd.DataFrame(data)"
   ]
  },
  {
   "cell_type": "markdown",
   "id": "7bd5cd6a-4b31-4fdd-ad32-d44eca9beb48",
   "metadata": {},
   "source": [
    "## Initial DataFrame Inspection\n",
    "\n",
    "For each code cell below, let's do some initial Inspection/Exploration of the Data.\n",
    "\n",
    "* __`df.head()`:__ to see the beginning of your data.\n",
    "* __`df.describe()`:__ for a statistical summary of numerical columns.\n",
    "* __`df.info()`:__ to check data types and non-null values."
   ]
  },
  {
   "cell_type": "code",
   "execution_count": null,
   "id": "04b93512-e31e-4315-92d1-569e1fec19b1",
   "metadata": {},
   "outputs": [],
   "source": [
    "## View Data Types and Non-Null Values\n",
    "labubu_sales_df.info()\n",
    "\n"
   ]
  },
  {
   "cell_type": "code",
   "execution_count": null,
   "id": "007ad996-4957-4685-be83-4e01ce6e8edf",
   "metadata": {},
   "outputs": [],
   "source": [
    "## View Beginning of Data\n",
    "labubu_sales_df.head()\n",
    "\n"
   ]
  },
  {
   "cell_type": "code",
   "execution_count": null,
   "id": "513c74cc-a7c7-4067-886f-2f813caa0217",
   "metadata": {},
   "outputs": [],
   "source": [
    "## View Statistical Summary\n",
    "labubu_sales_df.describe()\n",
    "\n"
   ]
  },
  {
   "cell_type": "markdown",
   "id": "9a99983e-5cec-40ad-8ecf-2c599b823bd1",
   "metadata": {},
   "source": [
    "## Total Sales\n",
    "<center>\n",
    "<img src=\"https://upload.wikimedia.org/wikipedia/commons/thumb/8/80/Pop_Mart_store_at_Lize_Paradise_Walk_%2820210911185655%29.jpg/1280px-Pop_Mart_store_at_Lize_Paradise_Walk_%2820210911185655%29.jpg\" width=60%>\n",
    "</center>\n",
    "image credit: wikimedia\n",
    "<br/>\n",
    "<br/>\n",
    "\n",
    "What is Popmart's total in Labubu Sales for all Regions?\n",
    "\n",
    "In the cells below, calculate Popmart's total sales in USD (US  Dollar) and CNY (Chinese Yuan)\n",
    "\n",
    "__Method__\n",
    "\n",
    "The `.sum()` method is useful for getting the total value of an entire column.\n",
    "\n",
    "__Syntax__:\n",
    "```python\n",
    "total = dataframe[column].sum()\n",
    "```"
   ]
  },
  {
   "cell_type": "code",
   "execution_count": null,
   "id": "5dff72b9-c41d-48b3-8207-fe4febb26592",
   "metadata": {},
   "outputs": [],
   "source": [
    "## What is the Total Revenue in USD?\n",
    "revenue_usd = labubu_sales_df[\"Revenue (USD) (M)\"].sum()\n",
    "\n",
    "print(f\"Popmart's total revenue across all Regions, in USD, was ${revenue_usd} (M)\")"
   ]
  },
  {
   "cell_type": "code",
   "execution_count": null,
   "id": "0ca15ebc-ad37-4045-bb27-261e6c337de5",
   "metadata": {},
   "outputs": [],
   "source": [
    "## What is the Total Revenue in CNY?\n",
    "revenue_cny = labubu_sales_df[\"Revenue (CNY) (M)\"].sum()\n",
    "\n",
    "print(f\"Popmart's total revenue across all Regions, in CNY, was ¥{revenue_cny} (M)\")"
   ]
  },
  {
   "cell_type": "markdown",
   "id": "27753f26-be61-4660-a470-5477d33f4994",
   "metadata": {},
   "source": [
    "## North America's Slice\n",
    "\n",
    "<center><img src=\"../images/web/labubu_jordans.jpg\" width= 60%></center>\n",
    "Now that we have the total sales, how much was from North America?\n",
    "\n",
    "We will have to isolate North America from the rest of the data.\n",
    "In order to isolate the data, we can create a boolean mask.\n",
    "\n",
    "We'll go through it step by step in the code cells below."
   ]
  },
  {
   "cell_type": "code",
   "execution_count": null,
   "id": "bb388985-f9c3-4afe-adf4-121b8dd6d90e",
   "metadata": {},
   "outputs": [],
   "source": [
    "# North America's Slice of the Pie\n",
    "\n",
    "# Create a Boolean Mask\n",
    "mask = labubu_sales_df[\"Region\"] == \"North America\"\n",
    "\n",
    "# Output the Mask\n",
    "mask"
   ]
  },
  {
   "cell_type": "code",
   "execution_count": null,
   "id": "37136558-53d8-4fdf-9956-6f83d952b893",
   "metadata": {},
   "outputs": [],
   "source": [
    "# Filter North America from the Data Frame\n",
    "filtered_labubu_sales_df = labubu_sales_df[mask]\n",
    "\n",
    "# Output the Filtered DataFrame\n",
    "filtered_labubu_sales_df\n"
   ]
  },
  {
   "cell_type": "code",
   "execution_count": null,
   "id": "65c98258-566f-44b8-ad79-ffc9763f6c58",
   "metadata": {},
   "outputs": [],
   "source": [
    "# Isolate the Revenue using--you'll need .item()\n",
    "north_america_revenue_usd = filtered_labubu_sales_df[\"Revenue (USD) (M)\"].item()\n",
    "\n",
    "# Output the Isolated Revenue\n",
    "north_america_revenue_usd"
   ]
  },
  {
   "cell_type": "code",
   "execution_count": null,
   "id": "f6e19d23-6817-484f-b064-4ef287ad368c",
   "metadata": {},
   "outputs": [],
   "source": [
    "# Calculate the North America Sales Percentage\n",
    "na_sales_percentage = (north_america_revenue_usd / revenue_usd) * 100\n",
    "\n",
    "# Output the Results\n",
    "print(f\"North American Sales were {na_sales_percentage:.2f}% of Popmart's total sales in 2024\")\n"
   ]
  },
  {
   "cell_type": "markdown",
   "id": "7a33f99c-53dd-4847-a484-9717c8fe9c32",
   "metadata": {},
   "source": [
    "## Loading a DataFrame: CSV File\n",
    "\n",
    "__Syntax__:\n",
    "```python\n",
    "dataframe = pd.read_csv(file_path)\n",
    "```"
   ]
  },
  {
   "cell_type": "markdown",
   "id": "a6ad5aa6-9088-4b35-b581-ee730214c47b",
   "metadata": {},
   "source": [
    "## Labubu Search Interest\n",
    "\n",
    "<center><img src=\"../images/web/labubu_hot_not.avif\" width=60%></center>\n",
    "image credit: The Atlantic\n",
    "<br/>\n",
    "<br/>\n",
    "Let's load some data about Labubu's Search Interest"
   ]
  },
  {
   "cell_type": "code",
   "execution_count": null,
   "id": "996ad99d-ec96-4f72-a42d-222632772053",
   "metadata": {},
   "outputs": [],
   "source": [
    "# Create Data Frame\n",
    "# Data Source: Google Trends\n",
    "\n",
    "file = \"../data/labubu_interest_by_region.csv\"\n",
    "\n",
    "labubu_interest_df = pd.read_csv(file)\n"
   ]
  },
  {
   "cell_type": "markdown",
   "id": "baf1f3ea-388f-4598-8d22-11d29348cbd1",
   "metadata": {},
   "source": [
    "## Initial DataFrame Inspection\n",
    "\n",
    "For each code cell below, let's do some initial Inspection/Exploration of the Data.\n",
    "\n",
    "\n",
    "* __`df.info()`:__ to check data types and non-null values.\n",
    "* __`df.head()`:__ to see the beginning of your data.\n",
    "* __`df.tail()`:__ to see teh end of your data.\n",
    "* __`df.describe()`:__ for a statistical summary of numerical columns."
   ]
  },
  {
   "cell_type": "code",
   "execution_count": null,
   "id": "cbaa2a3a-6c1f-44f9-bbe8-17b3687e3eba",
   "metadata": {},
   "outputs": [],
   "source": [
    "# Data Types and Information\n",
    "labubu_interest_df.info()"
   ]
  },
  {
   "cell_type": "code",
   "execution_count": null,
   "id": "4db8018b-466c-42a6-8396-1dddae0c5b32",
   "metadata": {},
   "outputs": [],
   "source": [
    "# End of Data\n",
    "labubu_interest_df.tail()"
   ]
  },
  {
   "cell_type": "code",
   "execution_count": null,
   "id": "bd12f050-73a8-445c-b909-cf9f0115cd6f",
   "metadata": {},
   "outputs": [],
   "source": [
    "# End of Data\n",
    "labubu_interest_df.tail()\n",
    "\n"
   ]
  },
  {
   "cell_type": "code",
   "execution_count": null,
   "id": "278b08f4-03a6-4b8d-92d2-3906adcbaf8e",
   "metadata": {},
   "outputs": [],
   "source": [
    "# Statistical Summary\n",
    "labubu_interest_df.describe()"
   ]
  },
  {
   "cell_type": "markdown",
   "id": "949ed592-445e-4d12-9f64-2e83d2d56704",
   "metadata": {},
   "source": [
    "## Sort Data: View Top 10 Regions\n",
    "\n",
    "Where is Labubu the most popular (in terms of Google Search)?\n",
    "\n",
    "We'll need an additional method to make this happen (`df.sort_values()`)\n",
    " \n",
    "__Syntax__:\n",
    "\n",
    "```python\n",
    "dataframe.sort_values(by=column_name, ascending=False).head(10)\n",
    "```\n",
    "\n",
    "What additional method will we use to view the Top 10 Regions after they have been sorted?"
   ]
  },
  {
   "cell_type": "code",
   "execution_count": null,
   "id": "58635e0f-7a23-4817-a54d-ade79e9246b5",
   "metadata": {},
   "outputs": [],
   "source": [
    "### Sort by Interest - Top 10\n",
    "labubu_interest_df.sort_values(by=\"Interest\",\n",
    "                               ascending = False).head(10)"
   ]
  },
  {
   "cell_type": "markdown",
   "id": "3d70340c-0726-4aca-bfb5-dd44250788a1",
   "metadata": {},
   "source": [
    "## Sort Data: View Bottom 10 Regions\n",
    "\n",
    "Can we apply similiar techinques to discover the bottom 10 regions for Labubu search interest?\n",
    "\n",
    "Give it a try in the code cell below."
   ]
  },
  {
   "cell_type": "code",
   "execution_count": null,
   "id": "a913a705-0560-4a3c-9b1a-1856a7416eed",
   "metadata": {},
   "outputs": [],
   "source": [
    "## Bottom 10 by Interest\n",
    "labubu_interest_df.sort_values(by=\"Interest\",\n",
    "                               ascending=False).tail(10)"
   ]
  }
 ],
 "metadata": {
  "kernelspec": {
   "display_name": "Python 3 (ipykernel)",
   "language": "python",
   "name": "python3"
  },
  "language_info": {
   "codemirror_mode": {
    "name": "ipython",
    "version": 3
   },
   "file_extension": ".py",
   "mimetype": "text/x-python",
   "name": "python",
   "nbconvert_exporter": "python",
   "pygments_lexer": "ipython3",
   "version": "3.12.5"
  }
 },
 "nbformat": 4,
 "nbformat_minor": 5
}
