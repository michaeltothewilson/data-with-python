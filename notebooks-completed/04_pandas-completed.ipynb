{
 "cells": [
  {
   "cell_type": "markdown",
   "id": "16d64b81-e5c7-4c81-ab79-da561513cf69",
   "metadata": {
    "editable": true,
    "slideshow": {
     "slide_type": ""
    },
    "tags": []
   },
   "source": [
    "# Pandas\n",
    "<center><img src=\"../images/stock/pexels-introspectivedsgn-4065800.jpg\" width=\"500\"></center>\n",
    "\n",
    "pandas offers powerful data structures and manipulation tools that simplify data cleaning and analysis in Python. \n",
    "\n",
    "It's frequently used alongside NumPy for numerical operations, SciPy and statsmodels for statistical analysis, and Matplotlib for data visualization. \n",
    "\n",
    "pandas adopts NumPy's array-oriented computing paradigm, prioritizing array functions and avoiding explicit loops for data processing.\n"
   ]
  },
  {
   "cell_type": "markdown",
   "id": "63956299-ea3b-449e-a453-369af73ec515",
   "metadata": {},
   "source": [
    "# Pandas Installation\n",
    "\n",
    "You can install pandas with the following command:\n",
    "\n",
    "```bash\n",
    "!pip install pandas\n",
    "```\n",
    "\n",
    "However, just like with NumPy, I took the liberty of installing Pandas on the Jupyter Hub."
   ]
  },
  {
   "cell_type": "markdown",
   "id": "af3edd2d-5ef2-47cb-9d8b-0cb3556e5560",
   "metadata": {},
   "source": [
    "## Importing Pandas\n",
    "\n",
    "We'll need to import pandas into your notebook/script before using it.\n",
    "\n",
    "The standard convention for importing Pandas is as follows:\n",
    "\n",
    "```python\n",
    "import pandas as pd\n",
    "```\n",
    "\n",
    "Let's go ahead import pandas into our notebooks in the cell below:"
   ]
  },
  {
   "cell_type": "code",
   "execution_count": 1,
   "id": "681ff753-e78f-42fe-b873-74f289940724",
   "metadata": {
    "editable": true,
    "slideshow": {
     "slide_type": ""
    },
    "tags": []
   },
   "outputs": [],
   "source": [
    "# Import Pandas\n",
    "import pandas as pd\n",
    "\n"
   ]
  },
  {
   "cell_type": "markdown",
   "id": "55512bd4-49d7-49d5-8046-9767820aa26f",
   "metadata": {},
   "source": [
    "# Pandas Data Structures\n",
    "<center><img src=\"../images/stock/pexels-jeffrey-czum-254391-2346289.jpg\" width=\"500\"></center>\n",
    "Pandas primarily uses two data structures:\n",
    "\n",
    "* __Series__: 1-dimensional labeled array.\n",
    "* __DataFrame__: 2-dimensional labeled table (collection of Series)."
   ]
  },
  {
   "cell_type": "markdown",
   "id": "365c4c70-514e-42d9-9b70-e8ba641a97dd",
   "metadata": {},
   "source": [
    "## Series\n",
    "\n",
    "Think of a pandas Series as a single column of data with labels.\n",
    "\n",
    "* __Default Labels__: By default, each item gets a number based on its position, just like in a Python list.\n",
    "* __Custom Labels__: You can also give each item your own specific label (like a name or an ID). These labels can be numbers, text, or even combinations.\n",
    "* __Data Types__: A Series can hold various types of data, but it's most efficient when all the items in a single Series are of the same type. This is important because, as we'll see later, Series become the columns in a DataFrame, and columns ideally have consistent data types."
   ]
  },
  {
   "cell_type": "markdown",
   "id": "fc9342cd-a256-4ec3-86c0-809dee7c0f97",
   "metadata": {},
   "source": [
    "__Series Illustration__\n",
    "\n",
    "<center><img src=\"../images/illustrations/pandas-series-example.jpg\"></center>"
   ]
  },
  {
   "cell_type": "markdown",
   "id": "d730a46b-73d6-4762-93d2-649133d77d25",
   "metadata": {},
   "source": [
    "### Creating a Series from a List\n",
    "\n",
    "We can easily create a pandas Series from a one-dimensional dataset, like a Python list, using the `pd.Series()` constructor.\n",
    "\n",
    "For example, let's take this list and turn it into a Series:"
   ]
  },
  {
   "cell_type": "code",
   "execution_count": 4,
   "id": "a8bdcd54-2cf8-48bd-bcc4-2f76973a7b48",
   "metadata": {
    "editable": true,
    "slideshow": {
     "slide_type": ""
    },
    "tags": []
   },
   "outputs": [
    {
     "data": {
      "text/plain": [
       "0       Stranger Things\n",
       "1       The Mandalorian\n",
       "2    The Queen's Gambit\n",
       "3            Bridgerton\n",
       "4            Squid Game\n",
       "5            Succession\n",
       "6             Ted Lasso\n",
       "7           The Witcher\n",
       "8              Euphoria\n",
       "9                 Ozark\n",
       "dtype: object"
      ]
     },
     "execution_count": 4,
     "metadata": {},
     "output_type": "execute_result"
    }
   ],
   "source": [
    "# Data\n",
    "popular_shows = [\n",
    "    \"Stranger Things\",\n",
    "    \"The Mandalorian\",\n",
    "    \"The Queen's Gambit\",\n",
    "    \"Bridgerton\",\n",
    "    \"Squid Game\",\n",
    "    \"Succession\",\n",
    "    \"Ted Lasso\",\n",
    "    \"The Witcher\",\n",
    "    \"Euphoria\",\n",
    "    \"Ozark\"\n",
    "]\n",
    "\n",
    "# Transform into a Series using pd.Series()\n",
    "popular_shows_series = pd.Series(popular_shows)\n",
    "\n",
    "# Output the Series\n",
    "popular_shows_series"
   ]
  },
  {
   "cell_type": "markdown",
   "id": "58b033ad-a639-4700-985f-125fbe9eae7b",
   "metadata": {},
   "source": [
    "* Passing a list to `pd.Series()` creates a Series with automatic numeric labels (0, 1, 2, ...).\n",
    "* The `.dtype` attribute tells us the data type of the elements within the Series.\n",
    "* Text data (strings) are typically represented as the `object` dtype by default."
   ]
  },
  {
   "cell_type": "markdown",
   "id": "d14d129f-3c92-478f-9a8e-aa3620fb4209",
   "metadata": {},
   "source": [
    "### Custom Labels\n",
    "\n",
    "You can specify your own labels for the Series using the `index = sequence` argument within the `pd.Series()` function. For example:"
   ]
  },
  {
   "cell_type": "code",
   "execution_count": 11,
   "id": "a47dc5a9-9007-4285-8c1f-65ca367376e8",
   "metadata": {
    "editable": true,
    "slideshow": {
     "slide_type": ""
    },
    "tags": []
   },
   "outputs": [
    {
     "data": {
      "text/plain": [
       "a      Oppenheimer\n",
       "b           Barbie\n",
       "c    The Godfather\n",
       "d         Parasite\n",
       "d    Spirited Away\n",
       "dtype: object"
      ]
     },
     "execution_count": 11,
     "metadata": {},
     "output_type": "execute_result"
    }
   ],
   "source": [
    "# Data\n",
    "popular_movies = [\n",
    "    \"Oppenheimer\",\n",
    "    \"Barbie\",\n",
    "    \"The Godfather\",\n",
    "    \"Parasite\",\n",
    "    \"Spirited Away\"\n",
    "]\n",
    "\n",
    "# Transform into a Series with Custom Indices\n",
    "indices = [\"a\", \"b\", \"c\", \"d\", \"d\"]\n",
    "\n",
    "# Create a Series with the Custom Indice\n",
    "movie_series = pd.Series(popular_movies,\n",
    "                         index = indices)\n",
    "\n",
    "# Output the Series\n",
    "movie_series\n",
    "\n"
   ]
  },
  {
   "cell_type": "markdown",
   "id": "42623ba5-23a5-4dd8-91c2-ddbf1b2c601e",
   "metadata": {},
   "source": [
    "Now, the Series uses the custom labels we provided instead of the default numbers."
   ]
  },
  {
   "attachments": {},
   "cell_type": "markdown",
   "id": "02404ce4-31ec-4dd0-b27a-8afbaa437aa5",
   "metadata": {},
   "source": [
    "### Accessing Data - Index Operator `[]`\n",
    "\n",
    "Similar to Python lists, we can retrieve data from a Series using square brackets `[]` with the label or position.\n",
    "\n",
    "For example: Which popular movie is associated with the label `d`?"
   ]
  },
  {
   "cell_type": "code",
   "execution_count": 12,
   "id": "ef9c2abc-af61-4d79-9775-f726561408b9",
   "metadata": {
    "editable": true,
    "slideshow": {
     "slide_type": ""
    },
    "tags": []
   },
   "outputs": [
    {
     "data": {
      "text/plain": [
       "d         Parasite\n",
       "d    Spirited Away\n",
       "dtype: object"
      ]
     },
     "execution_count": 12,
     "metadata": {},
     "output_type": "execute_result"
    }
   ],
   "source": [
    "# Access the element at label d\n",
    "movie_series[\"d\"]\n",
    "\n"
   ]
  },
  {
   "cell_type": "markdown",
   "id": "12697821-923f-4dcc-9367-5ef652d3ade2",
   "metadata": {},
   "source": [
    "### Accessing Data - `.loc` Accessor\n",
    "\n",
    "Another way to access Series data by its label is using the `.loc` attribute. For example:\n"
   ]
  },
  {
   "cell_type": "code",
   "execution_count": 13,
   "id": "611afe58-0ff6-4208-8c0f-0d2183348afb",
   "metadata": {
    "editable": true,
    "slideshow": {
     "slide_type": ""
    },
    "tags": []
   },
   "outputs": [
    {
     "data": {
      "text/plain": [
       "d         Parasite\n",
       "d    Spirited Away\n",
       "dtype: object"
      ]
     },
     "execution_count": 13,
     "metadata": {},
     "output_type": "execute_result"
    }
   ],
   "source": [
    "# Access the element at label d\n",
    "movie_series.loc[\"d\"]\n",
    "\n"
   ]
  },
  {
   "cell_type": "markdown",
   "id": "9ce5c0d8-bad0-4070-8e98-5e99682716ab",
   "metadata": {},
   "source": [
    "### Accessing Data - `.iloc` Accessor\n",
    "\n",
    "Even with custom labels, you can still access elements by their numerical position (like in a list) using the `.iloc` attribute. \n",
    "\n",
    "For example:"
   ]
  },
  {
   "cell_type": "code",
   "execution_count": 14,
   "id": "b96a6dea-217d-4637-9901-8cbb8f3f1876",
   "metadata": {
    "editable": true,
    "slideshow": {
     "slide_type": ""
    },
    "tags": []
   },
   "outputs": [
    {
     "data": {
      "text/plain": [
       "'Parasite'"
      ]
     },
     "execution_count": 14,
     "metadata": {},
     "output_type": "execute_result"
    }
   ],
   "source": [
    "# Access the element at position 3\n",
    "movie_series.iloc[3]\n",
    "\n"
   ]
  },
  {
   "cell_type": "markdown",
   "id": "03737e7c-0176-4280-9c0f-103a10256b18",
   "metadata": {},
   "source": [
    "### Slicing Series Data\n",
    "\n",
    "We can select multiple elements from a Series using slicing with the index operator `[]`, `.loc` (label-based slicing), and `.iloc` (position-based slicing). \n",
    "\n",
    "Here's how:"
   ]
  },
  {
   "cell_type": "code",
   "execution_count": 15,
   "id": "9db8b4bb-d5d8-4f81-b895-322576907142",
   "metadata": {
    "editable": true,
    "slideshow": {
     "slide_type": ""
    },
    "tags": []
   },
   "outputs": [
    {
     "data": {
      "text/plain": [
       "b           Barbie\n",
       "c    The Godfather\n",
       "d         Parasite\n",
       "d    Spirited Away\n",
       "dtype: object"
      ]
     },
     "execution_count": 15,
     "metadata": {},
     "output_type": "execute_result"
    }
   ],
   "source": [
    "# Demonstrate [] slicing\n",
    "movie_series[\"b\":\"d\"]\n",
    "\n"
   ]
  },
  {
   "cell_type": "code",
   "execution_count": 16,
   "id": "889ea5b8-45bf-4a8b-87a8-f27c244e720e",
   "metadata": {
    "editable": true,
    "slideshow": {
     "slide_type": ""
    },
    "tags": []
   },
   "outputs": [
    {
     "data": {
      "text/plain": [
       "b           Barbie\n",
       "c    The Godfather\n",
       "d         Parasite\n",
       "d    Spirited Away\n",
       "dtype: object"
      ]
     },
     "execution_count": 16,
     "metadata": {},
     "output_type": "execute_result"
    }
   ],
   "source": [
    "# Demonstrate .loc slicing\n",
    "movie_series.loc[\"b\":\"d\"]\n",
    "\n"
   ]
  },
  {
   "cell_type": "code",
   "execution_count": 17,
   "id": "f2acac5f-398a-42b7-b67c-d27059a094f9",
   "metadata": {
    "editable": true,
    "slideshow": {
     "slide_type": ""
    },
    "tags": []
   },
   "outputs": [
    {
     "data": {
      "text/plain": [
       "b           Barbie\n",
       "c    The Godfather\n",
       "d         Parasite\n",
       "dtype: object"
      ]
     },
     "execution_count": 17,
     "metadata": {},
     "output_type": "execute_result"
    }
   ],
   "source": [
    "# Demonstrate .iloc slicing\n",
    "movie_series.iloc[1:4]\n",
    "\n"
   ]
  },
  {
   "cell_type": "markdown",
   "id": "435260b6-048e-417d-ba0d-a84066ac0306",
   "metadata": {},
   "source": [
    "## DataFrame\n",
    "\n",
    "<center><img src=\"../images/stock/pexels-suki-lee-110686949-16200703.jpg\" width=\"500\"></center>\n",
    "\n",
    "A pandas DataFrame is like a table with rows and columns. It's a 2D structure where each column can hold different types of data. Think of it as a collection of Series, all sharing the same row labels. Each column is essentially a Series."
   ]
  },
  {
   "cell_type": "markdown",
   "id": "62db8056-7f29-4899-8889-d0203eaec784",
   "metadata": {},
   "source": [
    "__DataFrame Illustration__\n",
    "\n",
    "<center><img src=\"../images/illustrations/pandas_dataframe_example.jpg\"></center>"
   ]
  },
  {
   "cell_type": "markdown",
   "id": "859da698-77c5-4eb1-80a9-2ac6119635f7",
   "metadata": {},
   "source": [
    "### Creating a DataFrame"
   ]
  },
  {
   "cell_type": "markdown",
   "id": "7061c531-65b8-432d-8e93-689a30f14e24",
   "metadata": {},
   "source": [
    "##### `pd.DataFrame()`\n",
    "\n",
    "We use the `pd.DataFrame()` function to create a pandas DataFrame.\n",
    "\n",
    "In the code cell below, we will create a DataFrame from a given dictionary:"
   ]
  },
  {
   "cell_type": "code",
   "execution_count": 23,
   "id": "be7b5ca5-1d6c-4cfc-bb03-c8b4c8032908",
   "metadata": {
    "editable": true,
    "scrolled": true,
    "slideshow": {
     "slide_type": ""
    },
    "tags": []
   },
   "outputs": [
    {
     "data": {
      "text/html": [
       "<div>\n",
       "<style scoped>\n",
       "    .dataframe tbody tr th:only-of-type {\n",
       "        vertical-align: middle;\n",
       "    }\n",
       "\n",
       "    .dataframe tbody tr th {\n",
       "        vertical-align: top;\n",
       "    }\n",
       "\n",
       "    .dataframe thead th {\n",
       "        text-align: right;\n",
       "    }\n",
       "</style>\n",
       "<table border=\"1\" class=\"dataframe\">\n",
       "  <thead>\n",
       "    <tr style=\"text-align: right;\">\n",
       "      <th></th>\n",
       "      <th>Name</th>\n",
       "      <th>Subscribers</th>\n",
       "      <th>Views</th>\n",
       "      <th>Category</th>\n",
       "      <th>Country</th>\n",
       "      <th>DateStarted</th>\n",
       "    </tr>\n",
       "  </thead>\n",
       "  <tbody>\n",
       "    <tr>\n",
       "      <th>0</th>\n",
       "      <td>TechGuru</td>\n",
       "      <td>1500000</td>\n",
       "      <td>120000000</td>\n",
       "      <td>Tech</td>\n",
       "      <td>USA</td>\n",
       "      <td>2021-01-01</td>\n",
       "    </tr>\n",
       "    <tr>\n",
       "      <th>1</th>\n",
       "      <td>FashionDiva</td>\n",
       "      <td>2300000</td>\n",
       "      <td>250000000</td>\n",
       "      <td>Fashion</td>\n",
       "      <td>Canada</td>\n",
       "      <td>2020-05-15</td>\n",
       "    </tr>\n",
       "    <tr>\n",
       "      <th>2</th>\n",
       "      <td>GameMaster</td>\n",
       "      <td>1800000</td>\n",
       "      <td>180000000</td>\n",
       "      <td>Gaming</td>\n",
       "      <td>UK</td>\n",
       "      <td>2019-11-01</td>\n",
       "    </tr>\n",
       "    <tr>\n",
       "      <th>3</th>\n",
       "      <td>FoodieFun</td>\n",
       "      <td>1200000</td>\n",
       "      <td>90000000</td>\n",
       "      <td>Food</td>\n",
       "      <td>USA</td>\n",
       "      <td>2022-03-10</td>\n",
       "    </tr>\n",
       "    <tr>\n",
       "      <th>4</th>\n",
       "      <td>TravelBug</td>\n",
       "      <td>950000</td>\n",
       "      <td>60000000</td>\n",
       "      <td>Travel</td>\n",
       "      <td>Australia</td>\n",
       "      <td>2018-09-20</td>\n",
       "    </tr>\n",
       "    <tr>\n",
       "      <th>5</th>\n",
       "      <td>MusicMania</td>\n",
       "      <td>2700000</td>\n",
       "      <td>300000000</td>\n",
       "      <td>Music</td>\n",
       "      <td>USA</td>\n",
       "      <td>2023-02-01</td>\n",
       "    </tr>\n",
       "    <tr>\n",
       "      <th>6</th>\n",
       "      <td>BeautyQueen</td>\n",
       "      <td>1100000</td>\n",
       "      <td>80000000</td>\n",
       "      <td>Beauty</td>\n",
       "      <td>USA</td>\n",
       "      <td>2021-07-01</td>\n",
       "    </tr>\n",
       "    <tr>\n",
       "      <th>7</th>\n",
       "      <td>DIYExpert</td>\n",
       "      <td>1600000</td>\n",
       "      <td>140000000</td>\n",
       "      <td>DIY</td>\n",
       "      <td>Canada</td>\n",
       "      <td>2020-10-01</td>\n",
       "    </tr>\n",
       "    <tr>\n",
       "      <th>8</th>\n",
       "      <td>SportsFan</td>\n",
       "      <td>2000000</td>\n",
       "      <td>220000000</td>\n",
       "      <td>Sports</td>\n",
       "      <td>USA</td>\n",
       "      <td>2019-04-01</td>\n",
       "    </tr>\n",
       "    <tr>\n",
       "      <th>9</th>\n",
       "      <td>ComedyKing</td>\n",
       "      <td>1400000</td>\n",
       "      <td>100000000</td>\n",
       "      <td>Comedy</td>\n",
       "      <td>UK</td>\n",
       "      <td>2022-01-01</td>\n",
       "    </tr>\n",
       "  </tbody>\n",
       "</table>\n",
       "</div>"
      ],
      "text/plain": [
       "          Name  Subscribers      Views Category    Country DateStarted\n",
       "0     TechGuru      1500000  120000000     Tech        USA  2021-01-01\n",
       "1  FashionDiva      2300000  250000000  Fashion     Canada  2020-05-15\n",
       "2   GameMaster      1800000  180000000   Gaming         UK  2019-11-01\n",
       "3    FoodieFun      1200000   90000000     Food        USA  2022-03-10\n",
       "4    TravelBug       950000   60000000   Travel  Australia  2018-09-20\n",
       "5   MusicMania      2700000  300000000    Music        USA  2023-02-01\n",
       "6  BeautyQueen      1100000   80000000   Beauty        USA  2021-07-01\n",
       "7    DIYExpert      1600000  140000000      DIY     Canada  2020-10-01\n",
       "8    SportsFan      2000000  220000000   Sports        USA  2019-04-01\n",
       "9   ComedyKing      1400000  100000000   Comedy         UK  2022-01-01"
      ]
     },
     "execution_count": 23,
     "metadata": {},
     "output_type": "execute_result"
    }
   ],
   "source": [
    "# Synthetic data\n",
    "data = {\n",
    "    'Name': ['TechGuru', 'FashionDiva', 'GameMaster', 'FoodieFun', 'TravelBug', 'MusicMania', 'BeautyQueen', 'DIYExpert', 'SportsFan', 'ComedyKing'],\n",
    "    'Subscribers': [1500000, 2300000, 1800000, 1200000, 950000, 2700000, 1100000, 1600000, 2000000, 1400000],\n",
    "    'Views': [120000000, 250000000, 180000000, 90000000, 60000000, 300000000, 80000000, 140000000, 220000000, 100000000],\n",
    "    'Category': ['Tech', 'Fashion', 'Gaming', 'Food', 'Travel', 'Music', 'Beauty', 'DIY', 'Sports', 'Comedy'],\n",
    "    'Country': ['USA', 'Canada', 'UK', 'USA', 'Australia', 'USA', 'USA', 'Canada', 'USA', 'UK'],\n",
    "    'DateStarted': ['2021-01-01', '2020-05-15', '2019-11-01', '2022-03-10', '2018-09-20', '2023-02-01', '2021-07-01', '2020-10-01', '2019-04-01', '2022-01-01'] # Added DateStarted\n",
    "}\n",
    "\n",
    "# Create the DataFrame\n",
    "youtube_df = pd.DataFrame(data)\n",
    "\n",
    "# Output the DataFrame\n",
    "youtube_df"
   ]
  },
  {
   "cell_type": "markdown",
   "id": "d15058ac-23c4-4656-a483-1a2900a2f243",
   "metadata": {},
   "source": [
    "__Note:__\n",
    "\n",
    "* Jupyter has a neat feature where if the last thing in a cell is a DataFrame, it'll display as an HTML table without needing `print()`, which gives you a cleaner look than the standard text output."
   ]
  },
  {
   "cell_type": "markdown",
   "id": "175fb308-57b1-482f-8d0c-7b44310b769f",
   "metadata": {},
   "source": [
    "### Initial DataFrame Inspection\n",
    "\n",
    "Pandas makes it easy to get a quick understanding of your DataFrame. We'll introduce four fundamental methods for this:\n",
    "\n",
    "* `df.head()`: to see the beginning of your data.\n",
    "* `df.tail()`: to see the end of your data.\n",
    "* `df.describe()`: for a statistical summary of numerical columns.\n",
    "* `df.info()`: to check data types and non-null values.\n"
   ]
  },
  {
   "cell_type": "markdown",
   "id": "a9423e49-e4f5-4d0d-b6db-acb95fbdc7d3",
   "metadata": {},
   "source": [
    "#### `df.head()`\n",
    "\n",
    "The `df.head()` method returns the first five rows of the DataFrame."
   ]
  },
  {
   "cell_type": "code",
   "execution_count": 25,
   "id": "7a339a02-5d59-41a0-8ce4-0610250b91d6",
   "metadata": {
    "editable": true,
    "slideshow": {
     "slide_type": ""
    },
    "tags": []
   },
   "outputs": [
    {
     "data": {
      "text/html": [
       "<div>\n",
       "<style scoped>\n",
       "    .dataframe tbody tr th:only-of-type {\n",
       "        vertical-align: middle;\n",
       "    }\n",
       "\n",
       "    .dataframe tbody tr th {\n",
       "        vertical-align: top;\n",
       "    }\n",
       "\n",
       "    .dataframe thead th {\n",
       "        text-align: right;\n",
       "    }\n",
       "</style>\n",
       "<table border=\"1\" class=\"dataframe\">\n",
       "  <thead>\n",
       "    <tr style=\"text-align: right;\">\n",
       "      <th></th>\n",
       "      <th>Name</th>\n",
       "      <th>Subscribers</th>\n",
       "      <th>Views</th>\n",
       "      <th>Category</th>\n",
       "      <th>Country</th>\n",
       "      <th>DateStarted</th>\n",
       "    </tr>\n",
       "  </thead>\n",
       "  <tbody>\n",
       "    <tr>\n",
       "      <th>0</th>\n",
       "      <td>TechGuru</td>\n",
       "      <td>1500000</td>\n",
       "      <td>120000000</td>\n",
       "      <td>Tech</td>\n",
       "      <td>USA</td>\n",
       "      <td>2021-01-01</td>\n",
       "    </tr>\n",
       "    <tr>\n",
       "      <th>1</th>\n",
       "      <td>FashionDiva</td>\n",
       "      <td>2300000</td>\n",
       "      <td>250000000</td>\n",
       "      <td>Fashion</td>\n",
       "      <td>Canada</td>\n",
       "      <td>2020-05-15</td>\n",
       "    </tr>\n",
       "    <tr>\n",
       "      <th>2</th>\n",
       "      <td>GameMaster</td>\n",
       "      <td>1800000</td>\n",
       "      <td>180000000</td>\n",
       "      <td>Gaming</td>\n",
       "      <td>UK</td>\n",
       "      <td>2019-11-01</td>\n",
       "    </tr>\n",
       "  </tbody>\n",
       "</table>\n",
       "</div>"
      ],
      "text/plain": [
       "          Name  Subscribers      Views Category Country DateStarted\n",
       "0     TechGuru      1500000  120000000     Tech     USA  2021-01-01\n",
       "1  FashionDiva      2300000  250000000  Fashion  Canada  2020-05-15\n",
       "2   GameMaster      1800000  180000000   Gaming      UK  2019-11-01"
      ]
     },
     "execution_count": 25,
     "metadata": {},
     "output_type": "execute_result"
    }
   ],
   "source": [
    "# Demonstration\n",
    "youtube_df.head(3)\n",
    "\n",
    "\n"
   ]
  },
  {
   "cell_type": "markdown",
   "id": "73406874-280b-49fa-adc0-5589e855fa52",
   "metadata": {},
   "source": [
    "#### `df.tail()`\n",
    "\n",
    "The `df.tail()` method returns the last five rows of the DataFrame."
   ]
  },
  {
   "cell_type": "code",
   "execution_count": 26,
   "id": "3a725551-6b4e-4df7-a104-eae4e221f457",
   "metadata": {
    "editable": true,
    "slideshow": {
     "slide_type": ""
    },
    "tags": []
   },
   "outputs": [
    {
     "data": {
      "text/html": [
       "<div>\n",
       "<style scoped>\n",
       "    .dataframe tbody tr th:only-of-type {\n",
       "        vertical-align: middle;\n",
       "    }\n",
       "\n",
       "    .dataframe tbody tr th {\n",
       "        vertical-align: top;\n",
       "    }\n",
       "\n",
       "    .dataframe thead th {\n",
       "        text-align: right;\n",
       "    }\n",
       "</style>\n",
       "<table border=\"1\" class=\"dataframe\">\n",
       "  <thead>\n",
       "    <tr style=\"text-align: right;\">\n",
       "      <th></th>\n",
       "      <th>Name</th>\n",
       "      <th>Subscribers</th>\n",
       "      <th>Views</th>\n",
       "      <th>Category</th>\n",
       "      <th>Country</th>\n",
       "      <th>DateStarted</th>\n",
       "    </tr>\n",
       "  </thead>\n",
       "  <tbody>\n",
       "    <tr>\n",
       "      <th>8</th>\n",
       "      <td>SportsFan</td>\n",
       "      <td>2000000</td>\n",
       "      <td>220000000</td>\n",
       "      <td>Sports</td>\n",
       "      <td>USA</td>\n",
       "      <td>2019-04-01</td>\n",
       "    </tr>\n",
       "    <tr>\n",
       "      <th>9</th>\n",
       "      <td>ComedyKing</td>\n",
       "      <td>1400000</td>\n",
       "      <td>100000000</td>\n",
       "      <td>Comedy</td>\n",
       "      <td>UK</td>\n",
       "      <td>2022-01-01</td>\n",
       "    </tr>\n",
       "  </tbody>\n",
       "</table>\n",
       "</div>"
      ],
      "text/plain": [
       "         Name  Subscribers      Views Category Country DateStarted\n",
       "8   SportsFan      2000000  220000000   Sports     USA  2019-04-01\n",
       "9  ComedyKing      1400000  100000000   Comedy      UK  2022-01-01"
      ]
     },
     "execution_count": 26,
     "metadata": {},
     "output_type": "execute_result"
    }
   ],
   "source": [
    "# Demonstration\n",
    "youtube_df.tail(2)\n",
    "\n"
   ]
  },
  {
   "cell_type": "markdown",
   "id": "b63312d2-c8a4-4abe-a47c-adfd879cd49e",
   "metadata": {},
   "source": [
    "#### `df.describe()`\n",
    "\n",
    "The `df.describe()` method is a powerful tool for quickly understanding the distribution of your numerical data within a DataFrame. When called, it computes and summarizes several key statistical measures for each numerical column:\n",
    "\n",
    "* __count__: The number of non-missing (non-NaN) values.\n",
    "* __mean__: The average value.\n",
    "* __std__: The standard deviation, a measure of the spread or dispersion of the data.\n",
    "* __min__: The minimum value.\n",
    "* __max__: The maximum value.\n",
    "* __25% (Q1)__: The first quartile, meaning 25% of the data falls below this value.\n",
    "* __50% (Median or Q2)__: The middle value; 50% of the data is below and 50% is above.\n",
    "* __75% (Q3)__: The third quartile, meaning 75% of the data falls below this value.\n",
    "\n",
    "This output provides a concise overview of the central tendency, dispersion, and shape of the numerical data in your DataFrame."
   ]
  },
  {
   "cell_type": "code",
   "execution_count": 27,
   "id": "a2a39824-4ef4-4090-b399-c38aa4dcb41a",
   "metadata": {
    "editable": true,
    "slideshow": {
     "slide_type": ""
    },
    "tags": []
   },
   "outputs": [
    {
     "data": {
      "text/html": [
       "<div>\n",
       "<style scoped>\n",
       "    .dataframe tbody tr th:only-of-type {\n",
       "        vertical-align: middle;\n",
       "    }\n",
       "\n",
       "    .dataframe tbody tr th {\n",
       "        vertical-align: top;\n",
       "    }\n",
       "\n",
       "    .dataframe thead th {\n",
       "        text-align: right;\n",
       "    }\n",
       "</style>\n",
       "<table border=\"1\" class=\"dataframe\">\n",
       "  <thead>\n",
       "    <tr style=\"text-align: right;\">\n",
       "      <th></th>\n",
       "      <th>Subscribers</th>\n",
       "      <th>Views</th>\n",
       "    </tr>\n",
       "  </thead>\n",
       "  <tbody>\n",
       "    <tr>\n",
       "      <th>count</th>\n",
       "      <td>1.000000e+01</td>\n",
       "      <td>1.000000e+01</td>\n",
       "    </tr>\n",
       "    <tr>\n",
       "      <th>mean</th>\n",
       "      <td>1.655000e+06</td>\n",
       "      <td>1.540000e+08</td>\n",
       "    </tr>\n",
       "    <tr>\n",
       "      <th>std</th>\n",
       "      <td>5.529969e+05</td>\n",
       "      <td>8.044322e+07</td>\n",
       "    </tr>\n",
       "    <tr>\n",
       "      <th>min</th>\n",
       "      <td>9.500000e+05</td>\n",
       "      <td>6.000000e+07</td>\n",
       "    </tr>\n",
       "    <tr>\n",
       "      <th>25%</th>\n",
       "      <td>1.250000e+06</td>\n",
       "      <td>9.250000e+07</td>\n",
       "    </tr>\n",
       "    <tr>\n",
       "      <th>50%</th>\n",
       "      <td>1.550000e+06</td>\n",
       "      <td>1.300000e+08</td>\n",
       "    </tr>\n",
       "    <tr>\n",
       "      <th>75%</th>\n",
       "      <td>1.950000e+06</td>\n",
       "      <td>2.100000e+08</td>\n",
       "    </tr>\n",
       "    <tr>\n",
       "      <th>max</th>\n",
       "      <td>2.700000e+06</td>\n",
       "      <td>3.000000e+08</td>\n",
       "    </tr>\n",
       "  </tbody>\n",
       "</table>\n",
       "</div>"
      ],
      "text/plain": [
       "        Subscribers         Views\n",
       "count  1.000000e+01  1.000000e+01\n",
       "mean   1.655000e+06  1.540000e+08\n",
       "std    5.529969e+05  8.044322e+07\n",
       "min    9.500000e+05  6.000000e+07\n",
       "25%    1.250000e+06  9.250000e+07\n",
       "50%    1.550000e+06  1.300000e+08\n",
       "75%    1.950000e+06  2.100000e+08\n",
       "max    2.700000e+06  3.000000e+08"
      ]
     },
     "execution_count": 27,
     "metadata": {},
     "output_type": "execute_result"
    }
   ],
   "source": [
    "# Demonstration\n",
    "youtube_df.describe()\n",
    "\n",
    "\n"
   ]
  },
  {
   "cell_type": "code",
   "execution_count": 28,
   "id": "4e3ee5d2-73dc-4d01-8904-3ddbad363416",
   "metadata": {},
   "outputs": [
    {
     "name": "stdout",
     "output_type": "stream",
     "text": [
      "<class 'pandas.core.frame.DataFrame'>\n",
      "RangeIndex: 10 entries, 0 to 9\n",
      "Data columns (total 6 columns):\n",
      " #   Column       Non-Null Count  Dtype \n",
      "---  ------       --------------  ----- \n",
      " 0   Name         10 non-null     object\n",
      " 1   Subscribers  10 non-null     int64 \n",
      " 2   Views        10 non-null     int64 \n",
      " 3   Category     10 non-null     object\n",
      " 4   Country      10 non-null     object\n",
      " 5   DateStarted  10 non-null     object\n",
      "dtypes: int64(2), object(4)\n",
      "memory usage: 612.0+ bytes\n"
     ]
    }
   ],
   "source": [
    "# .info()\n",
    "youtube_df.info()"
   ]
  },
  {
   "cell_type": "markdown",
   "id": "b1d1bf42-d15b-4909-a257-5871c4c38f87",
   "metadata": {
    "editable": true,
    "slideshow": {
     "slide_type": ""
    },
    "tags": []
   },
   "source": [
    "### More DataFrame Creation Techniques\n",
    "\n",
    "Beyond Python sequences, you can create Pandas DataFrames in several other ways:\n",
    "\n",
    "* __From Series__: Combining one or more Series.\n",
    "* __From Files__: Reading CSV, Excel, and other formats.\n",
    "* __From APIs__: Retrieving data from web sources."
   ]
  },
  {
   "cell_type": "markdown",
   "id": "13b815bd-6355-4209-8fec-e257b7f5ae66",
   "metadata": {},
   "source": [
    "### Reading Data from Files\n",
    "<center><img src=\"../images/stock/pexels-eva-bronzini-6068493.jpg\" width=\"500\"></center>\n",
    "Pandas provides powerful and convenient functions to import data from various external file formats directly into DataFrames. This section will introduce you to these essential tools for bringing your data into the Pandas environment."
   ]
  },
  {
   "cell_type": "markdown",
   "id": "7b093de3-640a-46b1-aa87-5a79693fdf04",
   "metadata": {},
   "source": [
    "#### Reading CSV Files with pd.read_csv()\n",
    "\n",
    "The `pd.read_csv()` function is your primary tool in Pandas for reading data stored in Comma Separated Values (CSV) files. This function is incredibly versatile and can handle a wide variety of CSV file structures. Let's explore its basic usage."
   ]
  },
  {
   "cell_type": "markdown",
   "id": "548f9262-a5f7-410b-b8c3-13089f874d42",
   "metadata": {},
   "source": [
    "##### Reading CSV files from the Web\n",
    "Pandas makes it incredibly convenient to read CSV files not only from your local computer but also directly from web URLs. This is particularly useful when working with publicly available datasets\n",
    "\n",
    "Here is the general syntax:\n",
    "\n",
    "```python\n",
    "URL = \"YOUR_CSV_FILE_URL_HERE\"\n",
    "df = pd.read_csv(URL)\n",
    "```\n",
    "\n",
    "Explanation:\n",
    "\n",
    "1. We begin by importing the Pandas library as pd.\n",
    "2. You will replace `\"YOUR_CSV_FILE_URL_HERE\"` with the specific web address of the CSV file you want to read. This URL is stored in a variable.\n",
    "3. The `pd.read_csv(URL)` function is then called, which performs the following actions:\n",
    "    1. __Fetches the data__: Pandas sends a request to the URL and retrieves the content of the CSV file.\n",
    "    2. __Parses the data__: It interprets the comma-separated values and organizes them into a tabular structure.\n",
    "    3. __Creates a DataFrame__: The parsed data is automatically loaded into a Pandas DataFrame, which we have named `df` in this example.\n",
    "4. Once the data is in a DataFrame, you can use standard Pandas methods like `df.head()` to see the initial rows and `df.info()` to understand its structure (number of rows, columns, data types, and non-null values).\n",
    "\n",
    "This method streamlines the process of working with online CSV datasets, allowing you to quickly load and begin analyzing data directly from the web."
   ]
  },
  {
   "cell_type": "markdown",
   "id": "f4a4621f-cea6-4cdd-8b53-48fdf33f0304",
   "metadata": {
    "editable": true,
    "slideshow": {
     "slide_type": ""
    },
    "tags": []
   },
   "source": [
    "#### Example: Reading Nike BikeTown Data from a URL\n",
    "<center><img src=\"../images/generated/gemini_generated_panda_bike.jpeg\" width=\"400\"></center>\n",
    "Now, let's put this into practice with some publicly available data from Nike BikeTown. We can directly read a CSV file containing trip data using the pd.read_csv() function and the file's web address.\n",
    "\n",
    "\n",
    "Here's the URL for the BikeTown data:\n",
    "\n",
    "```python\n",
    "URL = \"https://s3.amazonaws.com/biketown-tripdata-public/2018_05.csv\"\n",
    "```\n",
    "\n",
    "For more BikeTown data, visit - [BikeTown - System Data](https://biketownpdx.com/system-data)"
   ]
  },
  {
   "cell_type": "markdown",
   "id": "177b92ea-ab12-45d6-b386-59964d34b9cd",
   "metadata": {},
   "source": [
    "##### Importing and Inspecting the Data\n",
    "\n",
    "Given the URL, let's do the following:\n",
    "\n",
    "1. Read the BikeTown data from the provided URL into a DataFrame called `biketown_may`\n",
    "2. Use the `.head()` method to display the first 5 rows of the DataFrame. What information do you think each column represents?"
   ]
  },
  {
   "cell_type": "code",
   "execution_count": 29,
   "id": "e535723d-8ab0-4dd6-9266-c9a941b14e53",
   "metadata": {},
   "outputs": [],
   "source": [
    "# Demonstration\n",
    "URL = \"https://s3.amazonaws.com/biketown-tripdata-public/2018_05.csv\"\n",
    "\n",
    "biketown_df = pd.read_csv(URL)\n"
   ]
  },
  {
   "cell_type": "code",
   "execution_count": 30,
   "id": "0c02a04f-2a16-4929-a0f0-f77ee23ad782",
   "metadata": {},
   "outputs": [
    {
     "data": {
      "text/html": [
       "<div>\n",
       "<style scoped>\n",
       "    .dataframe tbody tr th:only-of-type {\n",
       "        vertical-align: middle;\n",
       "    }\n",
       "\n",
       "    .dataframe tbody tr th {\n",
       "        vertical-align: top;\n",
       "    }\n",
       "\n",
       "    .dataframe thead th {\n",
       "        text-align: right;\n",
       "    }\n",
       "</style>\n",
       "<table border=\"1\" class=\"dataframe\">\n",
       "  <thead>\n",
       "    <tr style=\"text-align: right;\">\n",
       "      <th></th>\n",
       "      <th>RouteID</th>\n",
       "      <th>PaymentPlan</th>\n",
       "      <th>StartHub</th>\n",
       "      <th>StartLatitude</th>\n",
       "      <th>StartLongitude</th>\n",
       "      <th>StartDate</th>\n",
       "      <th>StartTime</th>\n",
       "      <th>EndHub</th>\n",
       "      <th>EndLatitude</th>\n",
       "      <th>EndLongitude</th>\n",
       "      <th>EndDate</th>\n",
       "      <th>EndTime</th>\n",
       "      <th>TripType</th>\n",
       "      <th>BikeID</th>\n",
       "      <th>BikeName</th>\n",
       "      <th>Distance_Miles</th>\n",
       "      <th>Duration</th>\n",
       "      <th>RentalAccessPath</th>\n",
       "      <th>MultipleRental</th>\n",
       "    </tr>\n",
       "  </thead>\n",
       "  <tbody>\n",
       "    <tr>\n",
       "      <th>0</th>\n",
       "      <td>6624288</td>\n",
       "      <td>Subscriber</td>\n",
       "      <td>NW 13th at Marshall</td>\n",
       "      <td>45.530804</td>\n",
       "      <td>-122.684423</td>\n",
       "      <td>5/1/2018</td>\n",
       "      <td>0:06</td>\n",
       "      <td>NW 2nd at Everett</td>\n",
       "      <td>45.525367</td>\n",
       "      <td>-122.672546</td>\n",
       "      <td>5/1/2018</td>\n",
       "      <td>0:11</td>\n",
       "      <td>NaN</td>\n",
       "      <td>6503</td>\n",
       "      <td>0326 BIKETOWN</td>\n",
       "      <td>0.86</td>\n",
       "      <td>0:05:49</td>\n",
       "      <td>keypad</td>\n",
       "      <td>False</td>\n",
       "    </tr>\n",
       "    <tr>\n",
       "      <th>1</th>\n",
       "      <td>6624313</td>\n",
       "      <td>Subscriber</td>\n",
       "      <td>NW Johnson at Jamison Square</td>\n",
       "      <td>45.528637</td>\n",
       "      <td>-122.682019</td>\n",
       "      <td>5/1/2018</td>\n",
       "      <td>0:11</td>\n",
       "      <td>NaN</td>\n",
       "      <td>45.526398</td>\n",
       "      <td>-122.689363</td>\n",
       "      <td>5/1/2018</td>\n",
       "      <td>0:16</td>\n",
       "      <td>NaN</td>\n",
       "      <td>6162</td>\n",
       "      <td>0874 BIKETOWN</td>\n",
       "      <td>0.51</td>\n",
       "      <td>0:04:32</td>\n",
       "      <td>keypad_rfid_card</td>\n",
       "      <td>False</td>\n",
       "    </tr>\n",
       "    <tr>\n",
       "      <th>2</th>\n",
       "      <td>6624387</td>\n",
       "      <td>Subscriber</td>\n",
       "      <td>NW Marshall at Tanner Springs Park</td>\n",
       "      <td>45.530831</td>\n",
       "      <td>-122.681596</td>\n",
       "      <td>5/1/2018</td>\n",
       "      <td>0:24</td>\n",
       "      <td>NW Couch at 11th</td>\n",
       "      <td>45.523742</td>\n",
       "      <td>-122.681813</td>\n",
       "      <td>5/1/2018</td>\n",
       "      <td>0:27</td>\n",
       "      <td>NaN</td>\n",
       "      <td>6535</td>\n",
       "      <td>0817 BIKETOWN</td>\n",
       "      <td>0.75</td>\n",
       "      <td>0:03:28</td>\n",
       "      <td>keypad</td>\n",
       "      <td>False</td>\n",
       "    </tr>\n",
       "    <tr>\n",
       "      <th>3</th>\n",
       "      <td>6624410</td>\n",
       "      <td>Subscriber</td>\n",
       "      <td>NaN</td>\n",
       "      <td>45.516459</td>\n",
       "      <td>-122.630957</td>\n",
       "      <td>5/1/2018</td>\n",
       "      <td>0:28</td>\n",
       "      <td>NaN</td>\n",
       "      <td>45.516527</td>\n",
       "      <td>-122.622968</td>\n",
       "      <td>5/1/2018</td>\n",
       "      <td>0:30</td>\n",
       "      <td>NaN</td>\n",
       "      <td>6179</td>\n",
       "      <td>0503 BIKETOWN</td>\n",
       "      <td>0.35</td>\n",
       "      <td>0:02:29</td>\n",
       "      <td>keypad</td>\n",
       "      <td>False</td>\n",
       "    </tr>\n",
       "    <tr>\n",
       "      <th>4</th>\n",
       "      <td>6624448</td>\n",
       "      <td>Casual</td>\n",
       "      <td>NaN</td>\n",
       "      <td>45.529077</td>\n",
       "      <td>-122.654351</td>\n",
       "      <td>5/1/2018</td>\n",
       "      <td>0:36</td>\n",
       "      <td>NE 11th at Holladay Park</td>\n",
       "      <td>45.530279</td>\n",
       "      <td>-122.654669</td>\n",
       "      <td>5/1/2018</td>\n",
       "      <td>0:34</td>\n",
       "      <td>NaN</td>\n",
       "      <td>6548</td>\n",
       "      <td>0591 BIKETOWN</td>\n",
       "      <td>4.38</td>\n",
       "      <td>NaN</td>\n",
       "      <td>keypad</td>\n",
       "      <td>False</td>\n",
       "    </tr>\n",
       "  </tbody>\n",
       "</table>\n",
       "</div>"
      ],
      "text/plain": [
       "   RouteID PaymentPlan                            StartHub  StartLatitude  \\\n",
       "0  6624288  Subscriber                 NW 13th at Marshall      45.530804   \n",
       "1  6624313  Subscriber        NW Johnson at Jamison Square      45.528637   \n",
       "2  6624387  Subscriber  NW Marshall at Tanner Springs Park      45.530831   \n",
       "3  6624410  Subscriber                                 NaN      45.516459   \n",
       "4  6624448      Casual                                 NaN      45.529077   \n",
       "\n",
       "   StartLongitude StartDate StartTime                    EndHub  EndLatitude  \\\n",
       "0     -122.684423  5/1/2018      0:06         NW 2nd at Everett    45.525367   \n",
       "1     -122.682019  5/1/2018      0:11                       NaN    45.526398   \n",
       "2     -122.681596  5/1/2018      0:24          NW Couch at 11th    45.523742   \n",
       "3     -122.630957  5/1/2018      0:28                       NaN    45.516527   \n",
       "4     -122.654351  5/1/2018      0:36  NE 11th at Holladay Park    45.530279   \n",
       "\n",
       "   EndLongitude   EndDate EndTime TripType  BikeID       BikeName  \\\n",
       "0   -122.672546  5/1/2018    0:11      NaN    6503  0326 BIKETOWN   \n",
       "1   -122.689363  5/1/2018    0:16      NaN    6162  0874 BIKETOWN   \n",
       "2   -122.681813  5/1/2018    0:27      NaN    6535  0817 BIKETOWN   \n",
       "3   -122.622968  5/1/2018    0:30      NaN    6179  0503 BIKETOWN   \n",
       "4   -122.654669  5/1/2018    0:34      NaN    6548  0591 BIKETOWN   \n",
       "\n",
       "   Distance_Miles Duration  RentalAccessPath  MultipleRental  \n",
       "0            0.86  0:05:49            keypad           False  \n",
       "1            0.51  0:04:32  keypad_rfid_card           False  \n",
       "2            0.75  0:03:28            keypad           False  \n",
       "3            0.35  0:02:29            keypad           False  \n",
       "4            4.38      NaN            keypad           False  "
      ]
     },
     "execution_count": 30,
     "metadata": {},
     "output_type": "execute_result"
    }
   ],
   "source": [
    "biketown_df.head()"
   ]
  },
  {
   "cell_type": "markdown",
   "id": "c9cf0cd0-f76d-46cc-bfcc-94821f1e4fd8",
   "metadata": {},
   "source": [
    "3. Use the `.info()` method to get a concise summary of the DataFrame, including data types and non-null values."
   ]
  },
  {
   "cell_type": "code",
   "execution_count": 31,
   "id": "dea10433-1623-45e4-9569-f11b320daf89",
   "metadata": {},
   "outputs": [
    {
     "name": "stdout",
     "output_type": "stream",
     "text": [
      "<class 'pandas.core.frame.DataFrame'>\n",
      "RangeIndex: 79399 entries, 0 to 79398\n",
      "Data columns (total 19 columns):\n",
      " #   Column            Non-Null Count  Dtype  \n",
      "---  ------            --------------  -----  \n",
      " 0   RouteID           79399 non-null  int64  \n",
      " 1   PaymentPlan       79399 non-null  object \n",
      " 2   StartHub          53666 non-null  object \n",
      " 3   StartLatitude     79377 non-null  float64\n",
      " 4   StartLongitude    79377 non-null  float64\n",
      " 5   StartDate         79399 non-null  object \n",
      " 6   StartTime         79399 non-null  object \n",
      " 7   EndHub            61560 non-null  object \n",
      " 8   EndLatitude       79377 non-null  float64\n",
      " 9   EndLongitude      79377 non-null  float64\n",
      " 10  EndDate           79399 non-null  object \n",
      " 11  EndTime           79399 non-null  object \n",
      " 12  TripType          47 non-null     object \n",
      " 13  BikeID            79399 non-null  int64  \n",
      " 14  BikeName          79399 non-null  object \n",
      " 15  Distance_Miles    79399 non-null  float64\n",
      " 16  Duration          78420 non-null  object \n",
      " 17  RentalAccessPath  79399 non-null  object \n",
      " 18  MultipleRental    79399 non-null  bool   \n",
      "dtypes: bool(1), float64(5), int64(2), object(11)\n",
      "memory usage: 11.0+ MB\n"
     ]
    }
   ],
   "source": [
    "# Demonstration\n",
    "biketown_df.info()\n",
    "\n",
    "\n"
   ]
  },
  {
   "cell_type": "markdown",
   "id": "a59dc4f4-d41a-41a8-9597-a32456ab4bf6",
   "metadata": {},
   "source": [
    "4. Use the `.shape` attribute to find the number of rows and columns in the DataFrame."
   ]
  },
  {
   "cell_type": "code",
   "execution_count": 32,
   "id": "a28c2680-f468-45af-8fbf-6fcceb507906",
   "metadata": {},
   "outputs": [
    {
     "data": {
      "text/plain": [
       "(79399, 19)"
      ]
     },
     "execution_count": 32,
     "metadata": {},
     "output_type": "execute_result"
    }
   ],
   "source": [
    "# Demonstration\n",
    "biketown_df.shape\n",
    "\n",
    "\n"
   ]
  },
  {
   "cell_type": "code",
   "execution_count": 34,
   "id": "41dca1ae-0198-4e36-8a83-e93924e29edb",
   "metadata": {},
   "outputs": [
    {
     "data": {
      "text/html": [
       "<div>\n",
       "<style scoped>\n",
       "    .dataframe tbody tr th:only-of-type {\n",
       "        vertical-align: middle;\n",
       "    }\n",
       "\n",
       "    .dataframe tbody tr th {\n",
       "        vertical-align: top;\n",
       "    }\n",
       "\n",
       "    .dataframe thead th {\n",
       "        text-align: right;\n",
       "    }\n",
       "</style>\n",
       "<table border=\"1\" class=\"dataframe\">\n",
       "  <thead>\n",
       "    <tr style=\"text-align: right;\">\n",
       "      <th></th>\n",
       "      <th>RouteID</th>\n",
       "      <th>StartLatitude</th>\n",
       "      <th>StartLongitude</th>\n",
       "      <th>EndLatitude</th>\n",
       "      <th>EndLongitude</th>\n",
       "      <th>BikeID</th>\n",
       "      <th>Distance_Miles</th>\n",
       "    </tr>\n",
       "  </thead>\n",
       "  <tbody>\n",
       "    <tr>\n",
       "      <th>count</th>\n",
       "      <td>7.939900e+04</td>\n",
       "      <td>79377.000000</td>\n",
       "      <td>79377.000000</td>\n",
       "      <td>79377.000000</td>\n",
       "      <td>79377.000000</td>\n",
       "      <td>79399.000000</td>\n",
       "      <td>79399.000000</td>\n",
       "    </tr>\n",
       "    <tr>\n",
       "      <th>mean</th>\n",
       "      <td>6.974648e+06</td>\n",
       "      <td>45.522341</td>\n",
       "      <td>-122.671874</td>\n",
       "      <td>45.522151</td>\n",
       "      <td>-122.671563</td>\n",
       "      <td>6852.502173</td>\n",
       "      <td>2.068690</td>\n",
       "    </tr>\n",
       "    <tr>\n",
       "      <th>std</th>\n",
       "      <td>1.759301e+05</td>\n",
       "      <td>0.012608</td>\n",
       "      <td>0.017123</td>\n",
       "      <td>0.012421</td>\n",
       "      <td>0.016824</td>\n",
       "      <td>1606.305738</td>\n",
       "      <td>18.721801</td>\n",
       "    </tr>\n",
       "    <tr>\n",
       "      <th>min</th>\n",
       "      <td>6.624288e+06</td>\n",
       "      <td>45.353495</td>\n",
       "      <td>-122.816160</td>\n",
       "      <td>45.353495</td>\n",
       "      <td>-122.854652</td>\n",
       "      <td>5986.000000</td>\n",
       "      <td>0.000000</td>\n",
       "    </tr>\n",
       "    <tr>\n",
       "      <th>25%</th>\n",
       "      <td>6.844826e+06</td>\n",
       "      <td>45.515470</td>\n",
       "      <td>-122.682430</td>\n",
       "      <td>45.515568</td>\n",
       "      <td>-122.682019</td>\n",
       "      <td>6301.000000</td>\n",
       "      <td>0.760000</td>\n",
       "    </tr>\n",
       "    <tr>\n",
       "      <th>50%</th>\n",
       "      <td>6.991522e+06</td>\n",
       "      <td>45.521960</td>\n",
       "      <td>-122.673892</td>\n",
       "      <td>45.521895</td>\n",
       "      <td>-122.673892</td>\n",
       "      <td>6564.000000</td>\n",
       "      <td>1.440000</td>\n",
       "    </tr>\n",
       "    <tr>\n",
       "      <th>75%</th>\n",
       "      <td>7.132083e+06</td>\n",
       "      <td>45.528637</td>\n",
       "      <td>-122.663338</td>\n",
       "      <td>45.528637</td>\n",
       "      <td>-122.663338</td>\n",
       "      <td>7149.500000</td>\n",
       "      <td>2.720000</td>\n",
       "    </tr>\n",
       "    <tr>\n",
       "      <th>max</th>\n",
       "      <td>7.269113e+06</td>\n",
       "      <td>45.629674</td>\n",
       "      <td>-122.477075</td>\n",
       "      <td>45.629674</td>\n",
       "      <td>-122.479978</td>\n",
       "      <td>21157.000000</td>\n",
       "      <td>5251.590000</td>\n",
       "    </tr>\n",
       "  </tbody>\n",
       "</table>\n",
       "</div>"
      ],
      "text/plain": [
       "            RouteID  StartLatitude  StartLongitude   EndLatitude  \\\n",
       "count  7.939900e+04   79377.000000    79377.000000  79377.000000   \n",
       "mean   6.974648e+06      45.522341     -122.671874     45.522151   \n",
       "std    1.759301e+05       0.012608        0.017123      0.012421   \n",
       "min    6.624288e+06      45.353495     -122.816160     45.353495   \n",
       "25%    6.844826e+06      45.515470     -122.682430     45.515568   \n",
       "50%    6.991522e+06      45.521960     -122.673892     45.521895   \n",
       "75%    7.132083e+06      45.528637     -122.663338     45.528637   \n",
       "max    7.269113e+06      45.629674     -122.477075     45.629674   \n",
       "\n",
       "       EndLongitude        BikeID  Distance_Miles  \n",
       "count  79377.000000  79399.000000    79399.000000  \n",
       "mean    -122.671563   6852.502173        2.068690  \n",
       "std        0.016824   1606.305738       18.721801  \n",
       "min     -122.854652   5986.000000        0.000000  \n",
       "25%     -122.682019   6301.000000        0.760000  \n",
       "50%     -122.673892   6564.000000        1.440000  \n",
       "75%     -122.663338   7149.500000        2.720000  \n",
       "max     -122.479978  21157.000000     5251.590000  "
      ]
     },
     "execution_count": 34,
     "metadata": {},
     "output_type": "execute_result"
    }
   ],
   "source": [
    "# .describe\n",
    "biketown_df.describe()"
   ]
  },
  {
   "cell_type": "markdown",
   "id": "773b808d-0c5a-4cd1-87d6-6db776722744",
   "metadata": {},
   "source": [
    "##### Selecting and Inspecting Columns\n",
    "\n",
    "1. Select the `StartHub` column and display the first 10 unique values using the `.unique()` method. What are some of the starting bike station names?\n",
    "\n",
    "2. Select the `Distance_Miles` column. Calculate and display the minimum and maximum values of the duration column using `.min()` and `.max()`."
   ]
  },
  {
   "cell_type": "code",
   "execution_count": 35,
   "id": "a0be1ff2-e0ea-4f95-96ba-41d1321e6a4f",
   "metadata": {},
   "outputs": [
    {
     "name": "stdout",
     "output_type": "stream",
     "text": [
      "Maximum Distance: 5251.59\n",
      "Minimum Distance: 0.0\n"
     ]
    }
   ],
   "source": [
    "# Demonstration\n",
    "distance_max = biketown_df[\"Distance_Miles\"].max()\n",
    "distance_min = biketown_df[\"Distance_Miles\"].min()\n",
    "\n",
    "print(f\"Maximum Distance: {distance_max}\")\n",
    "print(f\"Minimum Distance: {distance_min}\")"
   ]
  },
  {
   "cell_type": "markdown",
   "id": "8533670a-f78a-4532-a37d-84454b0a47bc",
   "metadata": {},
   "source": [
    "##### Descriptive Statistics\n",
    "\n",
    "* Use the `describe()` method on the `Distance_Miles` column to get summary statistics like mean, standard deviation, min, max, and quartiles. "
   ]
  },
  {
   "cell_type": "code",
   "execution_count": 33,
   "id": "08c76fc4-4be3-42de-94b8-3472e0256d7a",
   "metadata": {},
   "outputs": [
    {
     "data": {
      "text/plain": [
       "count    79399.000000\n",
       "mean         2.068690\n",
       "std         18.721801\n",
       "min          0.000000\n",
       "25%          0.760000\n",
       "50%          1.440000\n",
       "75%          2.720000\n",
       "max       5251.590000\n",
       "Name: Distance_Miles, dtype: float64"
      ]
     },
     "execution_count": 33,
     "metadata": {},
     "output_type": "execute_result"
    }
   ],
   "source": [
    "# Demonstration\n",
    "biketown_df[\"Distance_Miles\"].describe()"
   ]
  },
  {
   "cell_type": "markdown",
   "id": "c654c8ad-c7cf-4a5f-a6ba-20bf439ab041",
   "metadata": {},
   "source": [
    "##### Value Counts\n",
    "\n",
    "* Find the top 5 most frequent starting stations using the `.value_counts()` method on the `StartHub` column.\n",
    "* Find the number of unique `BikeID` values in the DataFrame using `.nunique()`. This tells you how many individual bikes were used in May 2020.\n",
    "* Examine the `PaymentPlan` column using `.value_counts()`. What are the different payment plans and their counts?"
   ]
  },
  {
   "cell_type": "code",
   "execution_count": 41,
   "id": "7c83d6c8-c9a9-4ba5-97a6-0ea8085a5113",
   "metadata": {},
   "outputs": [
    {
     "data": {
      "text/plain": [
       "StartHub\n",
       "SW Salmon at Waterfront Park        2328\n",
       "SW River at Montgomery              1413\n",
       "SW Moody at Aerial Tram Terminal    1239\n",
       "SW Naito at Ankeny Plaza            1201\n",
       "SW Naito at Morrison                1019\n",
       "Name: count, dtype: int64"
      ]
     },
     "execution_count": 41,
     "metadata": {},
     "output_type": "execute_result"
    }
   ],
   "source": [
    "# Demonstration\n",
    "biketown_df[\"StartHub\"].value_counts().head()"
   ]
  },
  {
   "cell_type": "markdown",
   "id": "523ba39a-f523-41c4-9d0e-675eaf14226c",
   "metadata": {
    "editable": true,
    "slideshow": {
     "slide_type": ""
    },
    "tags": []
   },
   "source": [
    "#### Beyond CSV: Other File Reading Methods\n",
    "\n",
    "Pandas also provides functions for reading other common file types:\n",
    "\n",
    "* `pd.read_excel()`: For reading data from Excel files (.xlsx, .xls).\n",
    "* `pd.read_json()`: For reading data from JSON (JavaScript Object Notation) files.\n",
    "* `pd.read_table()`: For reading delimited text files (similar to CSV but with customizable delimiters).\n",
    "* `pd.read_parquet()`: For reading data from Parquet files, a columnar storage format.\n",
    "* `pd.read_pickle()`: For reading serialized Python objects.\n",
    "* `pd.read_sql()`: For reading data from SQL databases. "
   ]
  },
  {
   "cell_type": "markdown",
   "id": "15ab3c98-f2ed-4a8d-84b5-c21113befecc",
   "metadata": {},
   "source": [
    "### Reading Data from an API\n",
    "\n",
    "Want to know how Tesla's been performing? Let's grab their stock data from the past year using the Yahoo Finance API and the `yfinance` library. This will give us a DataFrame to analyze.\n",
    "\n",
    "The `yfinance` library has been installed on our server.\n",
    "\n",
    "```bash\n",
    "!pip install yfinance\n",
    "```"
   ]
  },
  {
   "cell_type": "code",
   "execution_count": null,
   "id": "3a702808-3334-4932-b5d0-3439f72dc2a6",
   "metadata": {
    "editable": true,
    "slideshow": {
     "slide_type": ""
    },
    "tags": []
   },
   "outputs": [],
   "source": [
    "# Install yfinance \n",
    "!pip install yfinance"
   ]
  },
  {
   "cell_type": "markdown",
   "id": "d8804b0d-be08-489a-af45-2227a6591536",
   "metadata": {},
   "source": [
    "Next, let's import the necessary yfinance library:\n",
    "\n",
    "```python\n",
    "import yfinance as yf\n",
    "```"
   ]
  },
  {
   "cell_type": "code",
   "execution_count": 39,
   "id": "323bb6b6-1d4a-4dcb-a110-42bf29cd0e5d",
   "metadata": {},
   "outputs": [],
   "source": [
    "# Import yfinance\n",
    "import pandas as pd\n",
    "import yfinance as yf"
   ]
  },
  {
   "cell_type": "markdown",
   "id": "b1509560-c797-40a6-a5cd-c31e17f123d0",
   "metadata": {},
   "source": [
    "#### Import and Inspect the Data\n",
    "\n",
    "Now, we'll use the `yfinance.Ticker` method to fetch 1 year of Tesla's stock data.\n",
    "\n",
    "The basic format is:\n",
    "\n",
    "```python\n",
    "data = yf.Ticker(SYMBOL).history(period=\"1y\")\n",
    "```\n",
    "\n",
    "For Tesla, the ticker symbol is `TSLA`.\n",
    "\n",
    "For more details on the yfinance API, you can check out the official documentation: (The yfinance API Reference)[https://ranaroussi.github.io/yfinance/]\n",
    "\n",
    "* Let's get and inspect the data using the `yf.download()` and `.info`."
   ]
  },
  {
   "cell_type": "code",
   "execution_count": 40,
   "id": "f42d50b2-f1aa-4aba-bf96-d92c8a7eda06",
   "metadata": {},
   "outputs": [
    {
     "data": {
      "text/html": [
       "<div>\n",
       "<style scoped>\n",
       "    .dataframe tbody tr th:only-of-type {\n",
       "        vertical-align: middle;\n",
       "    }\n",
       "\n",
       "    .dataframe tbody tr th {\n",
       "        vertical-align: top;\n",
       "    }\n",
       "\n",
       "    .dataframe thead th {\n",
       "        text-align: right;\n",
       "    }\n",
       "</style>\n",
       "<table border=\"1\" class=\"dataframe\">\n",
       "  <thead>\n",
       "    <tr style=\"text-align: right;\">\n",
       "      <th></th>\n",
       "      <th>Open</th>\n",
       "      <th>High</th>\n",
       "      <th>Low</th>\n",
       "      <th>Close</th>\n",
       "      <th>Volume</th>\n",
       "      <th>Dividends</th>\n",
       "      <th>Stock Splits</th>\n",
       "    </tr>\n",
       "    <tr>\n",
       "      <th>Date</th>\n",
       "      <th></th>\n",
       "      <th></th>\n",
       "      <th></th>\n",
       "      <th></th>\n",
       "      <th></th>\n",
       "      <th></th>\n",
       "      <th></th>\n",
       "    </tr>\n",
       "  </thead>\n",
       "  <tbody>\n",
       "    <tr>\n",
       "      <th>2024-10-03 00:00:00-04:00</th>\n",
       "      <td>244.479996</td>\n",
       "      <td>249.789993</td>\n",
       "      <td>237.809998</td>\n",
       "      <td>240.660004</td>\n",
       "      <td>80729200</td>\n",
       "      <td>0.0</td>\n",
       "      <td>0.0</td>\n",
       "    </tr>\n",
       "    <tr>\n",
       "      <th>2024-10-04 00:00:00-04:00</th>\n",
       "      <td>246.690002</td>\n",
       "      <td>250.960007</td>\n",
       "      <td>244.580002</td>\n",
       "      <td>250.080002</td>\n",
       "      <td>86573200</td>\n",
       "      <td>0.0</td>\n",
       "      <td>0.0</td>\n",
       "    </tr>\n",
       "    <tr>\n",
       "      <th>2024-10-07 00:00:00-04:00</th>\n",
       "      <td>249.000000</td>\n",
       "      <td>249.830002</td>\n",
       "      <td>240.699997</td>\n",
       "      <td>240.830002</td>\n",
       "      <td>68113300</td>\n",
       "      <td>0.0</td>\n",
       "      <td>0.0</td>\n",
       "    </tr>\n",
       "    <tr>\n",
       "      <th>2024-10-08 00:00:00-04:00</th>\n",
       "      <td>243.559998</td>\n",
       "      <td>246.210007</td>\n",
       "      <td>240.559998</td>\n",
       "      <td>244.500000</td>\n",
       "      <td>56303200</td>\n",
       "      <td>0.0</td>\n",
       "      <td>0.0</td>\n",
       "    </tr>\n",
       "    <tr>\n",
       "      <th>2024-10-09 00:00:00-04:00</th>\n",
       "      <td>243.820007</td>\n",
       "      <td>247.429993</td>\n",
       "      <td>239.509995</td>\n",
       "      <td>241.050003</td>\n",
       "      <td>66289500</td>\n",
       "      <td>0.0</td>\n",
       "      <td>0.0</td>\n",
       "    </tr>\n",
       "    <tr>\n",
       "      <th>...</th>\n",
       "      <td>...</td>\n",
       "      <td>...</td>\n",
       "      <td>...</td>\n",
       "      <td>...</td>\n",
       "      <td>...</td>\n",
       "      <td>...</td>\n",
       "      <td>...</td>\n",
       "    </tr>\n",
       "    <tr>\n",
       "      <th>2025-09-26 00:00:00-04:00</th>\n",
       "      <td>428.299988</td>\n",
       "      <td>440.470001</td>\n",
       "      <td>421.019989</td>\n",
       "      <td>440.399994</td>\n",
       "      <td>101628200</td>\n",
       "      <td>0.0</td>\n",
       "      <td>0.0</td>\n",
       "    </tr>\n",
       "    <tr>\n",
       "      <th>2025-09-29 00:00:00-04:00</th>\n",
       "      <td>444.350006</td>\n",
       "      <td>450.980011</td>\n",
       "      <td>439.500000</td>\n",
       "      <td>443.209991</td>\n",
       "      <td>79491500</td>\n",
       "      <td>0.0</td>\n",
       "      <td>0.0</td>\n",
       "    </tr>\n",
       "    <tr>\n",
       "      <th>2025-09-30 00:00:00-04:00</th>\n",
       "      <td>441.519989</td>\n",
       "      <td>445.000000</td>\n",
       "      <td>433.119995</td>\n",
       "      <td>444.720001</td>\n",
       "      <td>74358000</td>\n",
       "      <td>0.0</td>\n",
       "      <td>0.0</td>\n",
       "    </tr>\n",
       "    <tr>\n",
       "      <th>2025-10-01 00:00:00-04:00</th>\n",
       "      <td>443.799988</td>\n",
       "      <td>462.290009</td>\n",
       "      <td>440.750000</td>\n",
       "      <td>459.459991</td>\n",
       "      <td>98122300</td>\n",
       "      <td>0.0</td>\n",
       "      <td>0.0</td>\n",
       "    </tr>\n",
       "    <tr>\n",
       "      <th>2025-10-02 00:00:00-04:00</th>\n",
       "      <td>470.540009</td>\n",
       "      <td>470.750000</td>\n",
       "      <td>435.570007</td>\n",
       "      <td>436.000000</td>\n",
       "      <td>135146121</td>\n",
       "      <td>0.0</td>\n",
       "      <td>0.0</td>\n",
       "    </tr>\n",
       "  </tbody>\n",
       "</table>\n",
       "<p>250 rows × 7 columns</p>\n",
       "</div>"
      ],
      "text/plain": [
       "                                 Open        High         Low       Close  \\\n",
       "Date                                                                        \n",
       "2024-10-03 00:00:00-04:00  244.479996  249.789993  237.809998  240.660004   \n",
       "2024-10-04 00:00:00-04:00  246.690002  250.960007  244.580002  250.080002   \n",
       "2024-10-07 00:00:00-04:00  249.000000  249.830002  240.699997  240.830002   \n",
       "2024-10-08 00:00:00-04:00  243.559998  246.210007  240.559998  244.500000   \n",
       "2024-10-09 00:00:00-04:00  243.820007  247.429993  239.509995  241.050003   \n",
       "...                               ...         ...         ...         ...   \n",
       "2025-09-26 00:00:00-04:00  428.299988  440.470001  421.019989  440.399994   \n",
       "2025-09-29 00:00:00-04:00  444.350006  450.980011  439.500000  443.209991   \n",
       "2025-09-30 00:00:00-04:00  441.519989  445.000000  433.119995  444.720001   \n",
       "2025-10-01 00:00:00-04:00  443.799988  462.290009  440.750000  459.459991   \n",
       "2025-10-02 00:00:00-04:00  470.540009  470.750000  435.570007  436.000000   \n",
       "\n",
       "                              Volume  Dividends  Stock Splits  \n",
       "Date                                                           \n",
       "2024-10-03 00:00:00-04:00   80729200        0.0           0.0  \n",
       "2024-10-04 00:00:00-04:00   86573200        0.0           0.0  \n",
       "2024-10-07 00:00:00-04:00   68113300        0.0           0.0  \n",
       "2024-10-08 00:00:00-04:00   56303200        0.0           0.0  \n",
       "2024-10-09 00:00:00-04:00   66289500        0.0           0.0  \n",
       "...                              ...        ...           ...  \n",
       "2025-09-26 00:00:00-04:00  101628200        0.0           0.0  \n",
       "2025-09-29 00:00:00-04:00   79491500        0.0           0.0  \n",
       "2025-09-30 00:00:00-04:00   74358000        0.0           0.0  \n",
       "2025-10-01 00:00:00-04:00   98122300        0.0           0.0  \n",
       "2025-10-02 00:00:00-04:00  135146121        0.0           0.0  \n",
       "\n",
       "[250 rows x 7 columns]"
      ]
     },
     "execution_count": 40,
     "metadata": {},
     "output_type": "execute_result"
    }
   ],
   "source": [
    "# Demonstration\n",
    "TSLA = yf.Ticker(\"TSLA\").history(period=\"1y\")\n",
    "\n",
    "TSLA"
   ]
  },
  {
   "cell_type": "markdown",
   "id": "02924175-bc55-45a2-a7b3-5106ba076bee",
   "metadata": {},
   "source": [
    "The result from our API call is a pandas dataframe which can can apply `.info()`, `.head()`, `.tail()`, and `.describe()`.\n",
    "\n",
    "Actually...let's do that.\n",
    "\n",
    "Let's start with `.head()` in the cell below to preview the data:"
   ]
  },
  {
   "cell_type": "code",
   "execution_count": null,
   "id": "697615bc-c168-45fd-a105-44a325bd9fbe",
   "metadata": {},
   "outputs": [],
   "source": [
    "# Demonstration\n",
    "\n",
    "TSLA.head()"
   ]
  },
  {
   "cell_type": "markdown",
   "id": "37c048eb-d91a-4b4e-b18f-3e4302282c2c",
   "metadata": {},
   "source": [
    "And now let's get a statistical summary of the dataset in the cell below. \n",
    "\n",
    "Which method is that again?"
   ]
  },
  {
   "cell_type": "code",
   "execution_count": null,
   "id": "0b5f12d4-586d-45d0-940d-e622a9b578be",
   "metadata": {},
   "outputs": [],
   "source": [
    "# Demonstration\n",
    "TSLA.describe()"
   ]
  },
  {
   "cell_type": "markdown",
   "id": "e3300388-b1ea-4e40-af4c-6fb346dcfe2c",
   "metadata": {},
   "source": [
    "Are there any insights that we can gather from the `Close` column?\n",
    "\n",
    "Some context - the `Close` column indicates the stock price of a publicly traded company at the end of a trading day. These values can fluctuate based on the company's performance or overall market sentiment, which can be positive or negative.\n",
    "\n",
    "Based on the maximum and minimum closing stock prices, what can we infer about the company's performance over the observed period?"
   ]
  },
  {
   "cell_type": "markdown",
   "id": "046611b0-37d5-4b9f-9236-07f93e6aa6f2",
   "metadata": {},
   "source": [
    "## Conclusion\n",
    "\n",
    "Throughout this session, you've gained a foundational understanding of:\n",
    "\n",
    "* __Pandas:__ Your go to library for data manipulation and analysis in Python.\n",
    "* __DataFrames:__ The primary data structure in Pandas for handling tabular data\n",
    "* __Series:__ The one-dimensional building block of DataFrames\n",
    "* __Loading Data:__ Importing external datasets into your Jupyter Notebook\n",
    "* __Initial Data Exploration:__ Methods like `.head()`, `.info()`, and `.describe()` are now tools you are ready to use for quickly understanding your datasets.\n",
    "\n",
    "By now, you should feel comfortable loading a dataset and performing a quick initial assessment to get a feel for its contents."
   ]
  }
 ],
 "metadata": {
  "kernelspec": {
   "display_name": "Python 3 (ipykernel)",
   "language": "python",
   "name": "python3"
  },
  "language_info": {
   "codemirror_mode": {
    "name": "ipython",
    "version": 3
   },
   "file_extension": ".py",
   "mimetype": "text/x-python",
   "name": "python",
   "nbconvert_exporter": "python",
   "pygments_lexer": "ipython3",
   "version": "3.12.3"
  }
 },
 "nbformat": 4,
 "nbformat_minor": 5
}
