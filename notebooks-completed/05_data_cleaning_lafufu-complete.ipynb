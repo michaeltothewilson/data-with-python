{
 "cells": [
  {
   "cell_type": "markdown",
   "id": "55d78615-7503-47ea-9dc7-f7f765c270d0",
   "metadata": {},
   "source": [
    "# Cleaning Data\n",
    "\n",
    "<center><img src=\"https://cdn.shopify.com/s/files/1/0814/0441/files/lafufu_daobubu__1_vivian.jpg\" width=30%></center>\n",
    "\n",
    "Is this Labubu or Lafufu?\n",
    "\n",
    "## Goals\n",
    "\n",
    "* Explore the Popularity of Labubu vs Lafufu\n",
    "* Implement Data Cleaning Techniques"
   ]
  },
  {
   "cell_type": "markdown",
   "id": "abe17038-668d-45a0-9d65-8d14f9f55eea",
   "metadata": {},
   "source": [
    "## Import Pandas\n",
    "\n",
    "Before we begin, import Pandas."
   ]
  },
  {
   "cell_type": "code",
   "execution_count": 1,
   "id": "c4ebfcab-46e4-4141-8abf-4bd85dc6aed4",
   "metadata": {},
   "outputs": [],
   "source": [
    "# Import Pandas\n",
    "import pandas as pd"
   ]
  },
  {
   "cell_type": "markdown",
   "id": "a62279f5-9095-46ed-ae64-11a625a44ef8",
   "metadata": {},
   "source": [
    "## Revisiting Labubu Popularity\n",
    "\n",
    "Let's take a look at the Labubu search interest again.\n",
    "Load the dataset in the cell below."
   ]
  },
  {
   "cell_type": "code",
   "execution_count": 2,
   "id": "ea4ecbd4-d21c-47a6-a162-fb515ee79f79",
   "metadata": {},
   "outputs": [],
   "source": [
    "# Load Labubu Data\n",
    "# Source: Google Trends\n",
    "file = \"../data/labubu_interest_by_region.csv\"\n",
    "\n",
    "labubu_df = pd.read_csv(file)"
   ]
  },
  {
   "cell_type": "markdown",
   "id": "f4d7786a-2b89-4055-bd89-442fc4443052",
   "metadata": {},
   "source": [
    "## View Information Before Organization\n",
    "\n",
    "Getting descriptive information about the dataset will give us an idea where to get started with the cleaning process.\n",
    "\n",
    "Go ahead and do that in the cell below.\n",
    "\n",
    "What do you notice? \n",
    "\n",
    "How might we go about cleaning the dataset?"
   ]
  },
  {
   "cell_type": "code",
   "execution_count": 3,
   "id": "c0453883-0347-4acc-9a03-a70dfaeb01e6",
   "metadata": {},
   "outputs": [
    {
     "name": "stdout",
     "output_type": "stream",
     "text": [
      "<class 'pandas.core.frame.DataFrame'>\n",
      "RangeIndex: 250 entries, 0 to 249\n",
      "Data columns (total 2 columns):\n",
      " #   Column    Non-Null Count  Dtype  \n",
      "---  ------    --------------  -----  \n",
      " 0   Region    250 non-null    object \n",
      " 1   Interest  59 non-null     float64\n",
      "dtypes: float64(1), object(1)\n",
      "memory usage: 4.0+ KB\n"
     ]
    }
   ],
   "source": [
    "# View Information\n",
    "labubu_df.info()"
   ]
  },
  {
   "cell_type": "markdown",
   "id": "b9f0baa8-52f9-43c6-8ce9-37df0677a87f",
   "metadata": {},
   "source": [
    "## Removing NaN Values\n",
    "\n",
    "There are plenty of missing values in this dataset.\n",
    "For the purposes of this exercise, let's go ahead and drop any null rows in the cell below."
   ]
  },
  {
   "cell_type": "code",
   "execution_count": 5,
   "id": "c4e67620-4dea-4fd0-9f5a-1e0164247ef0",
   "metadata": {},
   "outputs": [],
   "source": [
    "## Remove NaN values from Labubu Data\n",
    "labubu_df_clean = labubu_df.dropna()"
   ]
  },
  {
   "cell_type": "markdown",
   "id": "ceb122ad-eeae-497a-b02b-ffe84ecf9b22",
   "metadata": {},
   "source": [
    "## View the Updated Information"
   ]
  },
  {
   "cell_type": "code",
   "execution_count": 6,
   "id": "3c2a144b-add1-4ee8-a13e-f7a24986ff8e",
   "metadata": {},
   "outputs": [
    {
     "name": "stdout",
     "output_type": "stream",
     "text": [
      "<class 'pandas.core.frame.DataFrame'>\n",
      "Index: 59 entries, 1 to 195\n",
      "Data columns (total 2 columns):\n",
      " #   Column    Non-Null Count  Dtype  \n",
      "---  ------    --------------  -----  \n",
      " 0   Region    59 non-null     object \n",
      " 1   Interest  59 non-null     float64\n",
      "dtypes: float64(1), object(1)\n",
      "memory usage: 1.4+ KB\n"
     ]
    }
   ],
   "source": [
    "## View New Information\n",
    "labubu_df_clean.info()"
   ]
  },
  {
   "cell_type": "markdown",
   "id": "42c0bbd5-b084-426a-9c67-fd98dab16709",
   "metadata": {},
   "source": [
    "## Column Names\n",
    "\n",
    "It may not seem like a big deal, but let's modify the column names.\n",
    "Let's make them all lowercase for consistency and generally being easier to type when referenced.\n",
    "Additionally, we should remove any leading or training white-spaces."
   ]
  },
  {
   "cell_type": "code",
   "execution_count": 9,
   "id": "31c04fdb-6c75-44a8-9b80-35e0f05faf2d",
   "metadata": {},
   "outputs": [],
   "source": [
    "## Fix up the Columns\n",
    "labubu_df_clean.columns = labubu_df_clean.columns.str.strip().str.lower()"
   ]
  },
  {
   "cell_type": "markdown",
   "id": "4c1d15e6-6a65-48d6-a6b9-c16d360e3a5b",
   "metadata": {},
   "source": [
    "## Take a look\n",
    "\n",
    "At the updated columns in the cell below."
   ]
  },
  {
   "cell_type": "code",
   "execution_count": 10,
   "id": "16941294-5d6f-4e7c-9a9d-805fbfa01e7b",
   "metadata": {},
   "outputs": [
    {
     "name": "stdout",
     "output_type": "stream",
     "text": [
      "<class 'pandas.core.frame.DataFrame'>\n",
      "Index: 59 entries, 1 to 195\n",
      "Data columns (total 2 columns):\n",
      " #   Column    Non-Null Count  Dtype  \n",
      "---  ------    --------------  -----  \n",
      " 0   region    59 non-null     object \n",
      " 1   interest  59 non-null     float64\n",
      "dtypes: float64(1), object(1)\n",
      "memory usage: 1.4+ KB\n"
     ]
    }
   ],
   "source": [
    "## Output Info...again\n",
    "labubu_df_clean.info()"
   ]
  },
  {
   "cell_type": "markdown",
   "id": "3ab88c5b-cbbf-4498-a965-ca327adda1e5",
   "metadata": {},
   "source": [
    "## View Statistical Data\n",
    "\n",
    "Did our small operation affect anything about the data in a significant way?\n",
    "\n",
    "Let's get statistical information on the original and cleaned versions of the dataframe."
   ]
  },
  {
   "cell_type": "code",
   "execution_count": 11,
   "id": "d2718cb9-50b1-4834-8621-f6cfa3fda020",
   "metadata": {},
   "outputs": [
    {
     "data": {
      "text/html": [
       "<div>\n",
       "<style scoped>\n",
       "    .dataframe tbody tr th:only-of-type {\n",
       "        vertical-align: middle;\n",
       "    }\n",
       "\n",
       "    .dataframe tbody tr th {\n",
       "        vertical-align: top;\n",
       "    }\n",
       "\n",
       "    .dataframe thead th {\n",
       "        text-align: right;\n",
       "    }\n",
       "</style>\n",
       "<table border=\"1\" class=\"dataframe\">\n",
       "  <thead>\n",
       "    <tr style=\"text-align: right;\">\n",
       "      <th></th>\n",
       "      <th>Interest</th>\n",
       "    </tr>\n",
       "  </thead>\n",
       "  <tbody>\n",
       "    <tr>\n",
       "      <th>count</th>\n",
       "      <td>59.000000</td>\n",
       "    </tr>\n",
       "    <tr>\n",
       "      <th>mean</th>\n",
       "      <td>22.745763</td>\n",
       "    </tr>\n",
       "    <tr>\n",
       "      <th>std</th>\n",
       "      <td>17.043143</td>\n",
       "    </tr>\n",
       "    <tr>\n",
       "      <th>min</th>\n",
       "      <td>1.000000</td>\n",
       "    </tr>\n",
       "    <tr>\n",
       "      <th>25%</th>\n",
       "      <td>13.500000</td>\n",
       "    </tr>\n",
       "    <tr>\n",
       "      <th>50%</th>\n",
       "      <td>21.000000</td>\n",
       "    </tr>\n",
       "    <tr>\n",
       "      <th>75%</th>\n",
       "      <td>29.000000</td>\n",
       "    </tr>\n",
       "    <tr>\n",
       "      <th>max</th>\n",
       "      <td>100.000000</td>\n",
       "    </tr>\n",
       "  </tbody>\n",
       "</table>\n",
       "</div>"
      ],
      "text/plain": [
       "         Interest\n",
       "count   59.000000\n",
       "mean    22.745763\n",
       "std     17.043143\n",
       "min      1.000000\n",
       "25%     13.500000\n",
       "50%     21.000000\n",
       "75%     29.000000\n",
       "max    100.000000"
      ]
     },
     "execution_count": 11,
     "metadata": {},
     "output_type": "execute_result"
    }
   ],
   "source": [
    "## View Original Statistical Data\n",
    "labubu_df.describe()"
   ]
  },
  {
   "cell_type": "code",
   "execution_count": 12,
   "id": "77dc7915-1a49-4e81-827d-dc0b60bc439b",
   "metadata": {},
   "outputs": [
    {
     "data": {
      "text/html": [
       "<div>\n",
       "<style scoped>\n",
       "    .dataframe tbody tr th:only-of-type {\n",
       "        vertical-align: middle;\n",
       "    }\n",
       "\n",
       "    .dataframe tbody tr th {\n",
       "        vertical-align: top;\n",
       "    }\n",
       "\n",
       "    .dataframe thead th {\n",
       "        text-align: right;\n",
       "    }\n",
       "</style>\n",
       "<table border=\"1\" class=\"dataframe\">\n",
       "  <thead>\n",
       "    <tr style=\"text-align: right;\">\n",
       "      <th></th>\n",
       "      <th>interest</th>\n",
       "    </tr>\n",
       "  </thead>\n",
       "  <tbody>\n",
       "    <tr>\n",
       "      <th>count</th>\n",
       "      <td>59.000000</td>\n",
       "    </tr>\n",
       "    <tr>\n",
       "      <th>mean</th>\n",
       "      <td>22.745763</td>\n",
       "    </tr>\n",
       "    <tr>\n",
       "      <th>std</th>\n",
       "      <td>17.043143</td>\n",
       "    </tr>\n",
       "    <tr>\n",
       "      <th>min</th>\n",
       "      <td>1.000000</td>\n",
       "    </tr>\n",
       "    <tr>\n",
       "      <th>25%</th>\n",
       "      <td>13.500000</td>\n",
       "    </tr>\n",
       "    <tr>\n",
       "      <th>50%</th>\n",
       "      <td>21.000000</td>\n",
       "    </tr>\n",
       "    <tr>\n",
       "      <th>75%</th>\n",
       "      <td>29.000000</td>\n",
       "    </tr>\n",
       "    <tr>\n",
       "      <th>max</th>\n",
       "      <td>100.000000</td>\n",
       "    </tr>\n",
       "  </tbody>\n",
       "</table>\n",
       "</div>"
      ],
      "text/plain": [
       "         interest\n",
       "count   59.000000\n",
       "mean    22.745763\n",
       "std     17.043143\n",
       "min      1.000000\n",
       "25%     13.500000\n",
       "50%     21.000000\n",
       "75%     29.000000\n",
       "max    100.000000"
      ]
     },
     "execution_count": 12,
     "metadata": {},
     "output_type": "execute_result"
    }
   ],
   "source": [
    "## View Cleaned Statistical Data\n",
    "labubu_df_clean.describe()"
   ]
  },
  {
   "cell_type": "markdown",
   "id": "835671d7-826a-40de-ad5c-f59bdc567c6d",
   "metadata": {},
   "source": [
    "## Not Really...\n",
    "\n",
    "In terms of game changing impact, the bit of cleaning we did, had no affect on the statistical side of our dataset.\n",
    "\n",
    "Let's look at a more problematic dataset.\n",
    "\n",
    "Lafufu enters the chat."
   ]
  },
  {
   "cell_type": "markdown",
   "id": "4b90533d-6f97-4433-b4e5-d0529201e80a",
   "metadata": {},
   "source": [
    "## Load Lafufu Data"
   ]
  },
  {
   "cell_type": "code",
   "execution_count": 13,
   "id": "38d64ce4-4b6a-4885-bcc5-669b369f14e9",
   "metadata": {},
   "outputs": [],
   "source": [
    "# Load Lafufu Data\n",
    "## Data Source: Google Trends\n",
    "\n",
    "file = \"../data/lafufu_interest_by_region.csv\"\n",
    "\n",
    "lafufu_df = pd.read_csv(file)"
   ]
  },
  {
   "cell_type": "code",
   "execution_count": 14,
   "id": "ae2c0ddf-ce0e-4490-982c-9b4ba968cbc7",
   "metadata": {},
   "outputs": [
    {
     "name": "stdout",
     "output_type": "stream",
     "text": [
      "<class 'pandas.core.frame.DataFrame'>\n",
      "RangeIndex: 250 entries, 0 to 249\n",
      "Data columns (total 2 columns):\n",
      " #   Column    Non-Null Count  Dtype \n",
      "---  ------    --------------  ----- \n",
      " 0   Region    250 non-null    object\n",
      " 1   Interest  52 non-null     object\n",
      "dtypes: object(2)\n",
      "memory usage: 4.0+ KB\n"
     ]
    }
   ],
   "source": [
    "# View Information\n",
    "lafufu_df.info()"
   ]
  },
  {
   "cell_type": "markdown",
   "id": "30a25908-eb69-41b5-81e6-ab202617e038",
   "metadata": {},
   "source": [
    "## Lower Case Column Names\n",
    "\n",
    "Let's modify the column names in the cell below."
   ]
  },
  {
   "cell_type": "code",
   "execution_count": 15,
   "id": "7e8c1dc4-85a3-4408-bc6f-77852eec9f8f",
   "metadata": {},
   "outputs": [],
   "source": [
    "## Modify Column Names\n",
    "\n",
    "# Making a copy \n",
    "lafufu_df_clean = lafufu_df.copy()\n",
    "\n",
    "lafufu_df_clean.columns = lafufu_df_clean.columns.str.strip().str.lower()"
   ]
  },
  {
   "cell_type": "markdown",
   "id": "51d603c4-a255-4245-8247-c9c5af7dad0c",
   "metadata": {},
   "source": [
    "## Remove NaN Values"
   ]
  },
  {
   "cell_type": "code",
   "execution_count": 17,
   "id": "a6aacade-3669-4c55-a2cc-3fad89f1507d",
   "metadata": {},
   "outputs": [],
   "source": [
    "## Remove NaN Values\n",
    "lafufu_df_clean = lafufu_df_clean.dropna()"
   ]
  },
  {
   "cell_type": "markdown",
   "id": "e3d4dfda-6240-42ee-a2ff-daaa74578507",
   "metadata": {},
   "source": [
    "## View Updates"
   ]
  },
  {
   "cell_type": "code",
   "execution_count": 18,
   "id": "a47b1d42-5638-4fbd-9992-3110900ae21e",
   "metadata": {},
   "outputs": [
    {
     "name": "stdout",
     "output_type": "stream",
     "text": [
      "<class 'pandas.core.frame.DataFrame'>\n",
      "Index: 52 entries, 0 to 95\n",
      "Data columns (total 2 columns):\n",
      " #   Column    Non-Null Count  Dtype \n",
      "---  ------    --------------  ----- \n",
      " 0   region    52 non-null     object\n",
      " 1   interest  52 non-null     object\n",
      "dtypes: object(2)\n",
      "memory usage: 1.2+ KB\n"
     ]
    }
   ],
   "source": [
    "## View Information\n",
    "lafufu_df_clean.info()"
   ]
  },
  {
   "cell_type": "markdown",
   "id": "d5be1f38-099a-476b-b870-0627d271d2d1",
   "metadata": {},
   "source": [
    "## Tail\n",
    "\n",
    "Look at the last view values, notice anything?"
   ]
  },
  {
   "cell_type": "code",
   "execution_count": 20,
   "id": "8ba31c4f-8e6d-4815-9404-833241b5f605",
   "metadata": {},
   "outputs": [
    {
     "data": {
      "text/html": [
       "<div>\n",
       "<style scoped>\n",
       "    .dataframe tbody tr th:only-of-type {\n",
       "        vertical-align: middle;\n",
       "    }\n",
       "\n",
       "    .dataframe tbody tr th {\n",
       "        vertical-align: top;\n",
       "    }\n",
       "\n",
       "    .dataframe thead th {\n",
       "        text-align: right;\n",
       "    }\n",
       "</style>\n",
       "<table border=\"1\" class=\"dataframe\">\n",
       "  <thead>\n",
       "    <tr style=\"text-align: right;\">\n",
       "      <th></th>\n",
       "      <th>region</th>\n",
       "      <th>interest</th>\n",
       "    </tr>\n",
       "  </thead>\n",
       "  <tbody>\n",
       "    <tr>\n",
       "      <th>75</th>\n",
       "      <td>Taiwan</td>\n",
       "      <td>2</td>\n",
       "    </tr>\n",
       "    <tr>\n",
       "      <th>79</th>\n",
       "      <td>Philippines</td>\n",
       "      <td>1</td>\n",
       "    </tr>\n",
       "    <tr>\n",
       "      <th>85</th>\n",
       "      <td>Mexico</td>\n",
       "      <td>&lt;1</td>\n",
       "    </tr>\n",
       "    <tr>\n",
       "      <th>94</th>\n",
       "      <td>Indonesia</td>\n",
       "      <td>&lt;1</td>\n",
       "    </tr>\n",
       "    <tr>\n",
       "      <th>95</th>\n",
       "      <td>Japan</td>\n",
       "      <td>&lt;1</td>\n",
       "    </tr>\n",
       "  </tbody>\n",
       "</table>\n",
       "</div>"
      ],
      "text/plain": [
       "         region interest\n",
       "75       Taiwan        2\n",
       "79  Philippines        1\n",
       "85       Mexico       <1\n",
       "94    Indonesia       <1\n",
       "95        Japan       <1"
      ]
     },
     "execution_count": 20,
     "metadata": {},
     "output_type": "execute_result"
    }
   ],
   "source": [
    "## View the last rows\n",
    "lafufu_df_clean.tail()"
   ]
  },
  {
   "cell_type": "markdown",
   "id": "67674de3-0e85-47a8-b384-76a90999c095",
   "metadata": {},
   "source": [
    "## Get Statistical Data"
   ]
  },
  {
   "cell_type": "code",
   "execution_count": 21,
   "id": "3caff39e-48fe-408c-b013-fff8bcf628e5",
   "metadata": {},
   "outputs": [
    {
     "data": {
      "text/html": [
       "<div>\n",
       "<style scoped>\n",
       "    .dataframe tbody tr th:only-of-type {\n",
       "        vertical-align: middle;\n",
       "    }\n",
       "\n",
       "    .dataframe tbody tr th {\n",
       "        vertical-align: top;\n",
       "    }\n",
       "\n",
       "    .dataframe thead th {\n",
       "        text-align: right;\n",
       "    }\n",
       "</style>\n",
       "<table border=\"1\" class=\"dataframe\">\n",
       "  <thead>\n",
       "    <tr style=\"text-align: right;\">\n",
       "      <th></th>\n",
       "      <th>region</th>\n",
       "      <th>interest</th>\n",
       "    </tr>\n",
       "  </thead>\n",
       "  <tbody>\n",
       "    <tr>\n",
       "      <th>count</th>\n",
       "      <td>52</td>\n",
       "      <td>52</td>\n",
       "    </tr>\n",
       "    <tr>\n",
       "      <th>unique</th>\n",
       "      <td>52</td>\n",
       "      <td>38</td>\n",
       "    </tr>\n",
       "    <tr>\n",
       "      <th>top</th>\n",
       "      <td>Czechia</td>\n",
       "      <td>&lt;1</td>\n",
       "    </tr>\n",
       "    <tr>\n",
       "      <th>freq</th>\n",
       "      <td>1</td>\n",
       "      <td>3</td>\n",
       "    </tr>\n",
       "  </tbody>\n",
       "</table>\n",
       "</div>"
      ],
      "text/plain": [
       "         region interest\n",
       "count        52       52\n",
       "unique       52       38\n",
       "top     Czechia       <1\n",
       "freq          1        3"
      ]
     },
     "execution_count": 21,
     "metadata": {},
     "output_type": "execute_result"
    }
   ],
   "source": [
    "## Statistical Data\n",
    "lafufu_df_clean.describe()"
   ]
  },
  {
   "cell_type": "markdown",
   "id": "86fb8e67-9bf0-4e09-b621-1f19f9740494",
   "metadata": {},
   "source": [
    "## Change Data Type\n",
    "\n",
    "Interest should be a float\n",
    "\n",
    "__Syntax__:\n",
    "```python\n",
    "dataframe[column] = pd.to_numeric(dataframe[column], errors=\"coerce\")\n",
    "```"
   ]
  },
  {
   "cell_type": "code",
   "execution_count": 26,
   "id": "056b5900-3532-49c0-8335-4fec80b7b07f",
   "metadata": {},
   "outputs": [],
   "source": [
    "## Change Interest Column to Numeric Data Type\n",
    "lafufu_df_clean[\"interest\"] = pd.to_numeric(lafufu_df_clean[\"interest\"],\n",
    "                                           errors=\"coerce\")"
   ]
  },
  {
   "cell_type": "code",
   "execution_count": 27,
   "id": "db3e004d-f214-404b-87b3-e61d20f3e883",
   "metadata": {},
   "outputs": [
    {
     "name": "stdout",
     "output_type": "stream",
     "text": [
      "<class 'pandas.core.frame.DataFrame'>\n",
      "Index: 52 entries, 0 to 95\n",
      "Data columns (total 2 columns):\n",
      " #   Column    Non-Null Count  Dtype  \n",
      "---  ------    --------------  -----  \n",
      " 0   region    52 non-null     object \n",
      " 1   interest  49 non-null     float64\n",
      "dtypes: float64(1), object(1)\n",
      "memory usage: 1.2+ KB\n"
     ]
    }
   ],
   "source": [
    "## View Information\n",
    "lafufu_df_clean.info()"
   ]
  },
  {
   "cell_type": "markdown",
   "id": "4ac76092-1e45-4de8-ac00-33fd3550ee94",
   "metadata": {},
   "source": [
    "## Check the Tail Again"
   ]
  },
  {
   "cell_type": "code",
   "execution_count": 28,
   "id": "18c36fd5-849d-4e67-8b7b-d0721d19f034",
   "metadata": {},
   "outputs": [
    {
     "data": {
      "text/html": [
       "<div>\n",
       "<style scoped>\n",
       "    .dataframe tbody tr th:only-of-type {\n",
       "        vertical-align: middle;\n",
       "    }\n",
       "\n",
       "    .dataframe tbody tr th {\n",
       "        vertical-align: top;\n",
       "    }\n",
       "\n",
       "    .dataframe thead th {\n",
       "        text-align: right;\n",
       "    }\n",
       "</style>\n",
       "<table border=\"1\" class=\"dataframe\">\n",
       "  <thead>\n",
       "    <tr style=\"text-align: right;\">\n",
       "      <th></th>\n",
       "      <th>region</th>\n",
       "      <th>interest</th>\n",
       "    </tr>\n",
       "  </thead>\n",
       "  <tbody>\n",
       "    <tr>\n",
       "      <th>75</th>\n",
       "      <td>Taiwan</td>\n",
       "      <td>2.0</td>\n",
       "    </tr>\n",
       "    <tr>\n",
       "      <th>79</th>\n",
       "      <td>Philippines</td>\n",
       "      <td>1.0</td>\n",
       "    </tr>\n",
       "    <tr>\n",
       "      <th>85</th>\n",
       "      <td>Mexico</td>\n",
       "      <td>NaN</td>\n",
       "    </tr>\n",
       "    <tr>\n",
       "      <th>94</th>\n",
       "      <td>Indonesia</td>\n",
       "      <td>NaN</td>\n",
       "    </tr>\n",
       "    <tr>\n",
       "      <th>95</th>\n",
       "      <td>Japan</td>\n",
       "      <td>NaN</td>\n",
       "    </tr>\n",
       "  </tbody>\n",
       "</table>\n",
       "</div>"
      ],
      "text/plain": [
       "         region  interest\n",
       "75       Taiwan       2.0\n",
       "79  Philippines       1.0\n",
       "85       Mexico       NaN\n",
       "94    Indonesia       NaN\n",
       "95        Japan       NaN"
      ]
     },
     "execution_count": 28,
     "metadata": {},
     "output_type": "execute_result"
    }
   ],
   "source": [
    "## Check the Tail Again\n",
    "lafufu_df_clean.tail()"
   ]
  },
  {
   "cell_type": "markdown",
   "id": "f1d2556c-4aed-49ba-9578-02ad1e68d2fd",
   "metadata": {},
   "source": [
    "## Drop the Remaining Rows Containing Null Values"
   ]
  },
  {
   "cell_type": "code",
   "execution_count": 29,
   "id": "b59eafa0-d956-438c-9f81-ad82bc92c158",
   "metadata": {},
   "outputs": [
    {
     "name": "stdout",
     "output_type": "stream",
     "text": [
      "<class 'pandas.core.frame.DataFrame'>\n",
      "Index: 49 entries, 0 to 79\n",
      "Data columns (total 2 columns):\n",
      " #   Column    Non-Null Count  Dtype  \n",
      "---  ------    --------------  -----  \n",
      " 0   region    49 non-null     object \n",
      " 1   interest  49 non-null     float64\n",
      "dtypes: float64(1), object(1)\n",
      "memory usage: 1.1+ KB\n"
     ]
    }
   ],
   "source": [
    "## Drop the Last Null Rows\n",
    "lafufu_df_clean = lafufu_df_clean.dropna()\n",
    "\n",
    "# Display the Information\n",
    "lafufu_df_clean.info()"
   ]
  },
  {
   "cell_type": "markdown",
   "id": "8cba20ca-f033-4f2a-a8df-32736da24057",
   "metadata": {},
   "source": [
    "## Check the Stats Again"
   ]
  },
  {
   "cell_type": "code",
   "execution_count": 31,
   "id": "fb2a2ff8-b330-4f49-a1d5-26ae31d8ecc4",
   "metadata": {},
   "outputs": [
    {
     "data": {
      "text/html": [
       "<div>\n",
       "<style scoped>\n",
       "    .dataframe tbody tr th:only-of-type {\n",
       "        vertical-align: middle;\n",
       "    }\n",
       "\n",
       "    .dataframe tbody tr th {\n",
       "        vertical-align: top;\n",
       "    }\n",
       "\n",
       "    .dataframe thead th {\n",
       "        text-align: right;\n",
       "    }\n",
       "</style>\n",
       "<table border=\"1\" class=\"dataframe\">\n",
       "  <thead>\n",
       "    <tr style=\"text-align: right;\">\n",
       "      <th></th>\n",
       "      <th>interest</th>\n",
       "    </tr>\n",
       "  </thead>\n",
       "  <tbody>\n",
       "    <tr>\n",
       "      <th>count</th>\n",
       "      <td>49.000000</td>\n",
       "    </tr>\n",
       "    <tr>\n",
       "      <th>mean</th>\n",
       "      <td>33.204082</td>\n",
       "    </tr>\n",
       "    <tr>\n",
       "      <th>std</th>\n",
       "      <td>23.460054</td>\n",
       "    </tr>\n",
       "    <tr>\n",
       "      <th>min</th>\n",
       "      <td>1.000000</td>\n",
       "    </tr>\n",
       "    <tr>\n",
       "      <th>25%</th>\n",
       "      <td>14.000000</td>\n",
       "    </tr>\n",
       "    <tr>\n",
       "      <th>50%</th>\n",
       "      <td>32.000000</td>\n",
       "    </tr>\n",
       "    <tr>\n",
       "      <th>75%</th>\n",
       "      <td>45.000000</td>\n",
       "    </tr>\n",
       "    <tr>\n",
       "      <th>max</th>\n",
       "      <td>100.000000</td>\n",
       "    </tr>\n",
       "  </tbody>\n",
       "</table>\n",
       "</div>"
      ],
      "text/plain": [
       "         interest\n",
       "count   49.000000\n",
       "mean    33.204082\n",
       "std     23.460054\n",
       "min      1.000000\n",
       "25%     14.000000\n",
       "50%     32.000000\n",
       "75%     45.000000\n",
       "max    100.000000"
      ]
     },
     "execution_count": 31,
     "metadata": {},
     "output_type": "execute_result"
    }
   ],
   "source": [
    "## Display Statistical Information\n",
    "lafufu_df_clean.describe()"
   ]
  },
  {
   "cell_type": "markdown",
   "id": "740a918c-14a9-4eb8-bf2a-e26bb0ec1f3d",
   "metadata": {},
   "source": [
    "## Where is Lafufu Most Popular by Google Search"
   ]
  },
  {
   "cell_type": "code",
   "execution_count": 33,
   "id": "fd94c6a2-c794-4189-ba36-79c6ad3d202a",
   "metadata": {},
   "outputs": [
    {
     "data": {
      "text/html": [
       "<div>\n",
       "<style scoped>\n",
       "    .dataframe tbody tr th:only-of-type {\n",
       "        vertical-align: middle;\n",
       "    }\n",
       "\n",
       "    .dataframe tbody tr th {\n",
       "        vertical-align: top;\n",
       "    }\n",
       "\n",
       "    .dataframe thead th {\n",
       "        text-align: right;\n",
       "    }\n",
       "</style>\n",
       "<table border=\"1\" class=\"dataframe\">\n",
       "  <thead>\n",
       "    <tr style=\"text-align: right;\">\n",
       "      <th></th>\n",
       "      <th>region</th>\n",
       "      <th>interest</th>\n",
       "    </tr>\n",
       "  </thead>\n",
       "  <tbody>\n",
       "    <tr>\n",
       "      <th>0</th>\n",
       "      <td>Czechia</td>\n",
       "      <td>100.0</td>\n",
       "    </tr>\n",
       "    <tr>\n",
       "      <th>2</th>\n",
       "      <td>Sweden</td>\n",
       "      <td>78.0</td>\n",
       "    </tr>\n",
       "    <tr>\n",
       "      <th>3</th>\n",
       "      <td>Serbia</td>\n",
       "      <td>77.0</td>\n",
       "    </tr>\n",
       "    <tr>\n",
       "      <th>4</th>\n",
       "      <td>Bosnia &amp; Herzegovina</td>\n",
       "      <td>70.0</td>\n",
       "    </tr>\n",
       "    <tr>\n",
       "      <th>7</th>\n",
       "      <td>Croatia</td>\n",
       "      <td>63.0</td>\n",
       "    </tr>\n",
       "    <tr>\n",
       "      <th>8</th>\n",
       "      <td>Norway</td>\n",
       "      <td>63.0</td>\n",
       "    </tr>\n",
       "    <tr>\n",
       "      <th>9</th>\n",
       "      <td>Slovakia</td>\n",
       "      <td>62.0</td>\n",
       "    </tr>\n",
       "    <tr>\n",
       "      <th>10</th>\n",
       "      <td>Poland</td>\n",
       "      <td>61.0</td>\n",
       "    </tr>\n",
       "    <tr>\n",
       "      <th>11</th>\n",
       "      <td>Netherlands</td>\n",
       "      <td>61.0</td>\n",
       "    </tr>\n",
       "    <tr>\n",
       "      <th>12</th>\n",
       "      <td>Estonia</td>\n",
       "      <td>60.0</td>\n",
       "    </tr>\n",
       "  </tbody>\n",
       "</table>\n",
       "</div>"
      ],
      "text/plain": [
       "                  region  interest\n",
       "0                Czechia     100.0\n",
       "2                 Sweden      78.0\n",
       "3                 Serbia      77.0\n",
       "4   Bosnia & Herzegovina      70.0\n",
       "7                Croatia      63.0\n",
       "8                 Norway      63.0\n",
       "9               Slovakia      62.0\n",
       "10                Poland      61.0\n",
       "11           Netherlands      61.0\n",
       "12               Estonia      60.0"
      ]
     },
     "execution_count": 33,
     "metadata": {},
     "output_type": "execute_result"
    }
   ],
   "source": [
    "## Display Top 10 Lafufu Regions\n",
    "lafufu_df_clean.sort_values(by=\"interest\",\n",
    "                            ascending=False).head(10)"
   ]
  }
 ],
 "metadata": {
  "kernelspec": {
   "display_name": "Python 3 (ipykernel)",
   "language": "python",
   "name": "python3"
  },
  "language_info": {
   "codemirror_mode": {
    "name": "ipython",
    "version": 3
   },
   "file_extension": ".py",
   "mimetype": "text/x-python",
   "name": "python",
   "nbconvert_exporter": "python",
   "pygments_lexer": "ipython3",
   "version": "3.12.5"
  }
 },
 "nbformat": 4,
 "nbformat_minor": 5
}
