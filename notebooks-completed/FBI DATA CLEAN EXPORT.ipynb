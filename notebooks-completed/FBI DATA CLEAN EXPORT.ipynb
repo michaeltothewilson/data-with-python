{
 "cells": [
  {
   "cell_type": "code",
   "execution_count": 1,
   "id": "72171b50-998c-4174-aeab-8fb1a7129707",
   "metadata": {},
   "outputs": [],
   "source": [
    "# Import Libraries\n",
    "import pandas as pd\n",
    "import matplotlib.pyplot as plt\n",
    "import seaborn as sns"
   ]
  },
  {
   "cell_type": "code",
   "execution_count": 2,
   "id": "4ff6032e-247c-4e21-a9b3-6004015cf664",
   "metadata": {},
   "outputs": [
    {
     "name": "stdout",
     "output_type": "stream",
     "text": [
      "<class 'pandas.core.frame.DataFrame'>\n",
      "RangeIndex: 2 entries, 0 to 1\n",
      "Columns: 155 entries, series to 10-2025\n",
      "dtypes: int64(154), object(1)\n",
      "memory usage: 2.6+ KB\n"
     ]
    }
   ],
   "source": [
    "# Load Data\n",
    "file = \"../data/FBI - Homicide Reported by Population.csv\"\n",
    "\n",
    "homicide_df = pd.read_csv(file)\n",
    "\n",
    "homicide_df.info()"
   ]
  },
  {
   "cell_type": "code",
   "execution_count": 3,
   "id": "42275eaa-92b3-4015-a91e-fcf9bd1e8d77",
   "metadata": {},
   "outputs": [
    {
     "name": "stdout",
     "output_type": "stream",
     "text": [
      "<class 'pandas.core.frame.DataFrame'>\n",
      "RangeIndex: 308 entries, 0 to 307\n",
      "Data columns (total 3 columns):\n",
      " #   Column  Non-Null Count  Dtype         \n",
      "---  ------  --------------  -----         \n",
      " 0   series  308 non-null    object        \n",
      " 1   Date    308 non-null    datetime64[ns]\n",
      " 2   Value   308 non-null    int64         \n",
      "dtypes: datetime64[ns](1), int64(1), object(1)\n",
      "memory usage: 7.3+ KB\n"
     ]
    }
   ],
   "source": [
    "# Melt the Data\n",
    "id_column = \"series\"\n",
    "value_columns = homicide_df.columns.drop(id_column).tolist()\n",
    "\n",
    "homicide_clean_df = pd.melt(\n",
    "    homicide_df,\n",
    "    id_vars=[id_column],\n",
    "    value_vars=value_columns,\n",
    "    var_name=\"Date\",\n",
    "    value_name=\"Value\"\n",
    ")\n",
    "\n",
    "homicide_clean_df[\"Date\"] = pd.to_datetime(homicide_clean_df[\"Date\"], \n",
    "                                           format=\"%m-%Y\")\n",
    "\n",
    "homicide_clean_df[\"Value\"] = pd.to_numeric(homicide_clean_df[\"Value\"])\n",
    "\n",
    "homicide_clean_df.info()"
   ]
  },
  {
   "cell_type": "code",
   "execution_count": 4,
   "id": "2ecc0b42-4204-483f-9272-7f16265fa6ec",
   "metadata": {},
   "outputs": [],
   "source": [
    "# Filter Data\n",
    "homicide_clean_df = homicide_clean_df[homicide_clean_df[\"series\"]== \"United States\"]"
   ]
  },
  {
   "cell_type": "code",
   "execution_count": 5,
   "id": "67aeb7c9-d643-4784-8b75-bd5c8cce439f",
   "metadata": {},
   "outputs": [],
   "source": [
    "# Modify Columns\n",
    "homicide_clean_df.columns = homicide_clean_df.columns.str.strip().str.lower()"
   ]
  },
  {
   "cell_type": "code",
   "execution_count": 6,
   "id": "5c5f8dda-b271-4375-b47d-37b85336fb63",
   "metadata": {},
   "outputs": [],
   "source": [
    "# Drop Column\n",
    "columns_to_drop = [\"series\"]\n",
    "\n",
    "homicide_clean_df = homicide_clean_df.drop(\n",
    "    columns_to_drop,\n",
    "    axis=1)"
   ]
  },
  {
   "cell_type": "code",
   "execution_count": 7,
   "id": "22ef7247-1649-439d-8da0-f366904994f2",
   "metadata": {},
   "outputs": [],
   "source": [
    "# Rename Column\n",
    "columns_to_rename = {\"value\": \"count\"}\n",
    "\n",
    "homicide_clean_df = homicide_clean_df.rename(columns = columns_to_rename)"
   ]
  },
  {
   "cell_type": "code",
   "execution_count": 8,
   "id": "ba481a08-1209-4035-a3b4-f9845484616a",
   "metadata": {},
   "outputs": [
    {
     "name": "stdout",
     "output_type": "stream",
     "text": [
      "<class 'pandas.core.frame.DataFrame'>\n",
      "Index: 154 entries, 0 to 306\n",
      "Data columns (total 2 columns):\n",
      " #   Column  Non-Null Count  Dtype         \n",
      "---  ------  --------------  -----         \n",
      " 0   date    154 non-null    datetime64[ns]\n",
      " 1   count   154 non-null    int64         \n",
      "dtypes: datetime64[ns](1), int64(1)\n",
      "memory usage: 3.6 KB\n"
     ]
    }
   ],
   "source": [
    "# Preview Data\n",
    "homicide_clean_df.info()"
   ]
  },
  {
   "cell_type": "code",
   "execution_count": 9,
   "id": "8dc8378d-841b-4209-95cc-b7d6788b4b34",
   "metadata": {},
   "outputs": [
    {
     "name": "stdout",
     "output_type": "stream",
     "text": [
      "<class 'pandas.core.frame.DataFrame'>\n",
      "RangeIndex: 13 entries, 0 to 12\n",
      "Data columns (total 2 columns):\n",
      " #   Column  Non-Null Count  Dtype\n",
      "---  ------  --------------  -----\n",
      " 0   year    13 non-null     int32\n",
      " 1   count   13 non-null     int64\n",
      "dtypes: int32(1), int64(1)\n",
      "memory usage: 288.0 bytes\n"
     ]
    }
   ],
   "source": [
    "# Date Time\n",
    "homicide_clean_df[\"date\"] = pd.to_datetime(homicide_clean_df[\"date\"])\n",
    "\n",
    "# Group By\n",
    "yearly = homicide_clean_df.groupby(\n",
    "    homicide_clean_df['date'].dt.year)['count'].sum()\n",
    "\n",
    "homicide_yearly = yearly.reset_index(name=\"count\")\n",
    "\n",
    "homicide_yearly = homicide_yearly.rename(columns={\"date\": \"year\"})\n",
    "\n",
    "homicide_yearly.info()"
   ]
  },
  {
   "cell_type": "code",
   "execution_count": 20,
   "id": "e88faf23-ee83-4b34-ad78-3567f869d291",
   "metadata": {},
   "outputs": [],
   "source": [
    "# Output Data\n",
    "homicide_yearly.to_csv(\"../data/exports/cleaned_homicide_data.csv\",\n",
    "                         index=False)"
   ]
  },
  {
   "cell_type": "code",
   "execution_count": 11,
   "id": "10d9a63f-9001-49d9-9e0a-fe4dfb724284",
   "metadata": {},
   "outputs": [
    {
     "name": "stdout",
     "output_type": "stream",
     "text": [
      "<class 'pandas.core.frame.DataFrame'>\n",
      "RangeIndex: 2 entries, 0 to 1\n",
      "Columns: 122 entries, series to 10-2025\n",
      "dtypes: int64(121), object(1)\n",
      "memory usage: 2.0+ KB\n"
     ]
    }
   ],
   "source": [
    "file = \"../data/FBI - Robbery Reported by Population.csv\"\n",
    "\n",
    "robbery = pd.read_csv(file)\n",
    "\n",
    "robbery.info()"
   ]
  },
  {
   "cell_type": "code",
   "execution_count": 12,
   "id": "047df5ff-17e3-4c56-8a47-4a81ae3293c3",
   "metadata": {},
   "outputs": [
    {
     "name": "stdout",
     "output_type": "stream",
     "text": [
      "<class 'pandas.core.frame.DataFrame'>\n",
      "RangeIndex: 242 entries, 0 to 241\n",
      "Data columns (total 3 columns):\n",
      " #   Column  Non-Null Count  Dtype         \n",
      "---  ------  --------------  -----         \n",
      " 0   series  242 non-null    object        \n",
      " 1   Date    242 non-null    datetime64[ns]\n",
      " 2   Value   242 non-null    int64         \n",
      "dtypes: datetime64[ns](1), int64(1), object(1)\n",
      "memory usage: 5.8+ KB\n"
     ]
    }
   ],
   "source": [
    "id_column = \"series\"\n",
    "value_columns = robbery.columns.drop(id_column).tolist()\n",
    "\n",
    "robbery_clean = pd.melt(\n",
    "    homicide_df,\n",
    "    id_vars=[id_column],\n",
    "    value_vars=value_columns,\n",
    "    var_name=\"Date\",\n",
    "    value_name=\"Value\"\n",
    ")\n",
    "\n",
    "robbery_clean[\"Date\"] = pd.to_datetime(robbery_clean[\"Date\"], \n",
    "                                           format=\"%m-%Y\")\n",
    "\n",
    "robbery_clean[\"Value\"] = pd.to_numeric(robbery_clean[\"Value\"])\n",
    "\n",
    "robbery_clean.info()"
   ]
  },
  {
   "cell_type": "code",
   "execution_count": 13,
   "id": "54da58ba-012f-48c4-8449-d953f1369ed4",
   "metadata": {},
   "outputs": [],
   "source": [
    "robbery_clean = robbery_clean[robbery_clean[\"series\"]== \"United States\"]"
   ]
  },
  {
   "cell_type": "code",
   "execution_count": 14,
   "id": "e4905c0b-3243-4b88-b096-31d585c27f44",
   "metadata": {},
   "outputs": [],
   "source": [
    "robbery_clean.columns = robbery_clean.columns.str.strip().str.lower()"
   ]
  },
  {
   "cell_type": "code",
   "execution_count": 15,
   "id": "0be6e0ef-b2bc-464d-9ec6-32519ea3d59d",
   "metadata": {},
   "outputs": [],
   "source": [
    "columns_to_drop = [\"series\"]\n",
    "\n",
    "robbery_clean = robbery_clean.drop(\n",
    "    columns_to_drop,\n",
    "    axis=1)"
   ]
  },
  {
   "cell_type": "code",
   "execution_count": 16,
   "id": "ee288054-abe9-4761-9b2d-8078dbd4faa2",
   "metadata": {},
   "outputs": [],
   "source": [
    "columns_to_rename = {\"value\": \"count\"}\n",
    "\n",
    "robbery_clean = robbery_clean.rename(columns = columns_to_rename)"
   ]
  },
  {
   "cell_type": "code",
   "execution_count": 17,
   "id": "1d77179e-4edf-4c75-bfea-19919036d5c0",
   "metadata": {},
   "outputs": [
    {
     "name": "stdout",
     "output_type": "stream",
     "text": [
      "<class 'pandas.core.frame.DataFrame'>\n",
      "Index: 121 entries, 0 to 240\n",
      "Data columns (total 2 columns):\n",
      " #   Column  Non-Null Count  Dtype         \n",
      "---  ------  --------------  -----         \n",
      " 0   date    121 non-null    datetime64[ns]\n",
      " 1   count   121 non-null    int64         \n",
      "dtypes: datetime64[ns](1), int64(1)\n",
      "memory usage: 2.8 KB\n"
     ]
    }
   ],
   "source": [
    "# Preview Data\n",
    "robbery_clean.info()"
   ]
  },
  {
   "cell_type": "code",
   "execution_count": 18,
   "id": "5a6754d1-1422-4941-9bfc-ef5c1f6febd6",
   "metadata": {},
   "outputs": [
    {
     "name": "stdout",
     "output_type": "stream",
     "text": [
      "<class 'pandas.core.frame.DataFrame'>\n",
      "RangeIndex: 11 entries, 0 to 10\n",
      "Data columns (total 2 columns):\n",
      " #   Column  Non-Null Count  Dtype\n",
      "---  ------  --------------  -----\n",
      " 0   year    11 non-null     int32\n",
      " 1   count   11 non-null     int64\n",
      "dtypes: int32(1), int64(1)\n",
      "memory usage: 264.0 bytes\n"
     ]
    }
   ],
   "source": [
    "# Date Time\n",
    "robbery_clean[\"date\"] = pd.to_datetime(robbery_clean[\"date\"])\n",
    "\n",
    "# Group By\n",
    "yearly = robbery_clean.groupby(\n",
    "    robbery_clean['date'].dt.year)['count'].sum()\n",
    "\n",
    "robbery_yearly = yearly.reset_index(name=\"count\")\n",
    "\n",
    "robbery_yearly = robbery_yearly.rename(columns={\"date\": \"year\"})\n",
    "\n",
    "robbery_yearly.info()"
   ]
  },
  {
   "cell_type": "code",
   "execution_count": 19,
   "id": "71b7e9fa-39da-46ce-84de-a1cb42ac4749",
   "metadata": {},
   "outputs": [],
   "source": [
    "robbery_yearly.to_csv(\"../data/exports/cleaned_robbery_data.csv\",\n",
    "                         index=False)"
   ]
  }
 ],
 "metadata": {
  "kernelspec": {
   "display_name": "Python 3 (ipykernel)",
   "language": "python",
   "name": "python3"
  },
  "language_info": {
   "codemirror_mode": {
    "name": "ipython",
    "version": 3
   },
   "file_extension": ".py",
   "mimetype": "text/x-python",
   "name": "python",
   "nbconvert_exporter": "python",
   "pygments_lexer": "ipython3",
   "version": "3.12.5"
  }
 },
 "nbformat": 4,
 "nbformat_minor": 5
}
