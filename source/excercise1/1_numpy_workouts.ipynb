{
 "cells": [
  {
   "cell_type": "markdown",
   "id": "5d596dfb-d9a8-40d7-91d1-e4a12b4c3c82",
   "metadata": {
    "nbgrader": {
     "grade": false,
     "grade_id": "cell-13e404b1a3c92925",
     "locked": true,
     "schema_version": 3,
     "solution": false,
     "task": false
    }
   },
   "source": [
    "# NumPy Workouts\n",
    "\n",
    "Description\n",
    "\n"
   ]
  },
  {
   "cell_type": "markdown",
   "id": "18a69770-5238-4502-beb0-a67c9cd2018a",
   "metadata": {
    "nbgrader": {
     "grade": false,
     "grade_id": "cell-0e0e3976d00cc9df",
     "locked": true,
     "points": 0,
     "schema_version": 3,
     "solution": false,
     "task": true
    }
   },
   "source": [
    "## Exercises (1-15) ⭐️\n",
    "\n",
    "Description"
   ]
  },
  {
   "cell_type": "markdown",
   "id": "33ba1653-a728-4bbb-87cc-a2a5b90982d7",
   "metadata": {},
   "source": [
    "#### 1. Import the NumPy package under the name `np`"
   ]
  },
  {
   "cell_type": "code",
   "execution_count": null,
   "id": "a0514423-7781-45c9-8e2a-1c02af5801f3",
   "metadata": {
    "nbgrader": {
     "grade": false,
     "grade_id": "cell-4b91485f2452cb6c",
     "locked": true,
     "points": 0,
     "schema_version": 3,
     "solution": false,
     "task": true
    }
   },
   "outputs": [],
   "source": [
    "\n",
    "\n",
    "\n",
    "\n"
   ]
  },
  {
   "cell_type": "markdown",
   "id": "be07f8e0-b3fc-4427-99c3-03b86fd243d8",
   "metadata": {},
   "source": [
    "#### 2. Print the NumPy version and the configuration"
   ]
  },
  {
   "cell_type": "code",
   "execution_count": null,
   "id": "50efa6b3-ce95-4862-af8e-21301252b25d",
   "metadata": {},
   "outputs": [],
   "source": [
    "\n",
    "\n",
    "\n",
    "\n",
    "\n"
   ]
  },
  {
   "cell_type": "markdown",
   "id": "007cb6f7-9ad5-4cb8-98fa-bc0aee42ca5c",
   "metadata": {},
   "source": [
    "#### 3. Create a size-10 array of zeros"
   ]
  },
  {
   "cell_type": "code",
   "execution_count": null,
   "id": "3ad8d2a7-1313-48d4-ab89-ad240d0a6bac",
   "metadata": {},
   "outputs": [],
   "source": [
    "\n",
    "\n",
    "\n",
    "\n"
   ]
  },
  {
   "cell_type": "markdown",
   "id": "14c7369a-9a2d-45b6-9c40-7b1dbe12fd47",
   "metadata": {},
   "source": [
    "#### 4. Create a size-10 array of zeros except the fifth value is 1"
   ]
  },
  {
   "cell_type": "code",
   "execution_count": null,
   "id": "d9d4e68e-135e-486f-9b67-c2c23165b656",
   "metadata": {},
   "outputs": [],
   "source": [
    "\n",
    "\n",
    "\n",
    "\n"
   ]
  },
  {
   "cell_type": "markdown",
   "id": "42348c49-2966-4b5e-969d-275f828f76c9",
   "metadata": {},
   "source": [
    "#### 5. Create an arrray with values ranging from 10 to 49"
   ]
  },
  {
   "cell_type": "code",
   "execution_count": null,
   "id": "67b99b7f-97c7-4f4b-8ce1-4d539b130760",
   "metadata": {},
   "outputs": [],
   "source": [
    "\n",
    "\n",
    "\n",
    "\n"
   ]
  },
  {
   "cell_type": "markdown",
   "id": "1b5057c3-27e5-4016-b8c4-4f237592ec4b",
   "metadata": {},
   "source": [
    "#### 6. Reverse an array"
   ]
  },
  {
   "cell_type": "code",
   "execution_count": null,
   "id": "67b82002-79d1-4efa-8dc6-8f51c772c2d1",
   "metadata": {},
   "outputs": [],
   "source": [
    "\n",
    "\n",
    "\n",
    "\n"
   ]
  },
  {
   "cell_type": "markdown",
   "id": "d6bea552-7cf4-4e06-a4e3-eda9c81e6895",
   "metadata": {},
   "source": [
    "#### 7. Create a 3x3 array with values ranging from 0 to 8"
   ]
  },
  {
   "cell_type": "code",
   "execution_count": null,
   "id": "643f85ca-641f-4a98-bde4-7ca165737a6f",
   "metadata": {},
   "outputs": [],
   "source": [
    "\n",
    "\n",
    "\n",
    "\n"
   ]
  },
  {
   "cell_type": "markdown",
   "id": "05ae830c-5d1c-47c0-b57e-24b50ed8a641",
   "metadata": {},
   "source": [
    "#### 8. Find the indices of non-zero elements from `[1, 2, 0, 0, 4, 0]`"
   ]
  },
  {
   "cell_type": "code",
   "execution_count": null,
   "id": "9a2deb0d-3dd6-4817-8fbc-1a2d3592e6c0",
   "metadata": {},
   "outputs": [],
   "source": [
    "\n",
    "\n",
    "\n",
    "\n"
   ]
  },
  {
   "cell_type": "markdown",
   "id": "663ae4a1-a45a-403f-8b53-76df338d8636",
   "metadata": {},
   "source": [
    "#### 9. Create a 3x3x3 array with random values"
   ]
  },
  {
   "cell_type": "code",
   "execution_count": null,
   "id": "ae8205c7-f36e-477f-b131-85551622b079",
   "metadata": {},
   "outputs": [],
   "source": []
  },
  {
   "cell_type": "markdown",
   "id": "478177d5-35dc-49f4-b4df-ed500bc5156c",
   "metadata": {},
   "source": [
    "#### 10.  Create a 10x10 array with random values and find the minimum and maximum values"
   ]
  },
  {
   "cell_type": "code",
   "execution_count": null,
   "id": "f6259efe-4d80-4106-8adf-7d9d5fc8b2e1",
   "metadata": {},
   "outputs": [],
   "source": []
  },
  {
   "cell_type": "markdown",
   "id": "224960aa-5b96-4d62-9577-8cd58518ff2e",
   "metadata": {},
   "source": [
    "#### 11. Create an array of 30 random values and find the mean value"
   ]
  },
  {
   "cell_type": "code",
   "execution_count": null,
   "id": "4f6672f2-8f61-47e7-8e2b-422a3093901e",
   "metadata": {},
   "outputs": [],
   "source": [
    "\n",
    "\n",
    "\n",
    "\n"
   ]
  },
  {
   "cell_type": "markdown",
   "id": "f95c2a30-afa6-4f18-9be7-aa3f4189df24",
   "metadata": {},
   "source": [
    "#### 12. Given a 1D array, negate all elements which are between 3 and 8--in place"
   ]
  },
  {
   "cell_type": "code",
   "execution_count": null,
   "id": "f2ddcda0-4d0b-4c48-a756-41d43c823f46",
   "metadata": {},
   "outputs": [],
   "source": [
    "\n",
    "\n",
    "\n",
    "\n"
   ]
  },
  {
   "cell_type": "markdown",
   "id": "081dea35-afbd-40a3-a438-e0519bea62ac",
   "metadata": {},
   "source": [
    "#### 13. Create an 8x8 array and fil it with a checkerboard pattern"
   ]
  }
 ],
 "metadata": {
  "kernelspec": {
   "display_name": "Python 3 (ipykernel)",
   "language": "python",
   "name": "python3"
  },
  "language_info": {
   "codemirror_mode": {
    "name": "ipython",
    "version": 3
   },
   "file_extension": ".py",
   "mimetype": "text/x-python",
   "name": "python",
   "nbconvert_exporter": "python",
   "pygments_lexer": "ipython3",
   "version": "3.12.5"
  }
 },
 "nbformat": 4,
 "nbformat_minor": 5
}
